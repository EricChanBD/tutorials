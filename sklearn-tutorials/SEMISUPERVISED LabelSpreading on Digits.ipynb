{
 "metadata": {
  "name": ""
 },
 "nbformat": 3,
 "nbformat_minor": 0,
 "worksheets": [
  {
   "cells": [
    {
     "cell_type": "code",
     "collapsed": false,
     "input": [
      "import numpy as np\n",
      "import pylab as pl\n",
      "from scipy import stats\n",
      "from sklearn.datasets import load_digits\n",
      "from sklearn.semi_supervised import LabelSpreading\n",
      "from sklearn.metrics import confusion_matrix\n",
      "from sklearn.utils import shuffle\n",
      "from sklearn.grid_search import GridSearchCV, ParameterGrid\n",
      "from sklearn.preprocessing import normalize\n",
      "from sklearn.decomposition import PCA\n",
      "\n",
      "%pylab inline --no-import-all"
     ],
     "language": "python",
     "metadata": {},
     "outputs": [
      {
       "output_type": "stream",
       "stream": "stdout",
       "text": [
        "Populating the interactive namespace from numpy and matplotlib\n"
       ]
      }
     ],
     "prompt_number": 27
    },
    {
     "cell_type": "code",
     "collapsed": false,
     "input": [
      "digits = load_digits()\n",
      "X = digits.data\n",
      "y = digits.target\n",
      "\n",
      "X, y = shuffle(X, y, random_state = 0)\n",
      "print X.shape, y.shape\n",
      "y30 = y.copy()\n",
      "y30[30:] = -1\n",
      "norm_X = normalize(X)\n",
      "pca_X = PCA(n_components=150, whiten=False).fit_transform(X)\n",
      "print pca_X.shape"
     ],
     "language": "python",
     "metadata": {},
     "outputs": [
      {
       "output_type": "stream",
       "stream": "stdout",
       "text": [
        "(1797, 64) (1797,)\n",
        "(1797, 64)\n"
       ]
      }
     ],
     "prompt_number": 33
    },
    {
     "cell_type": "code",
     "collapsed": false,
     "input": [
      "## Label Spreading\n",
      "train_X = pca_X\n",
      "gammas = [0.0005, 0.001, 0.05, 0.1, 0.5, ]\n",
      "#gammas = [1, 5, 10, 15, 20, 25, 30, 35, 40]\n",
      "alphas = [0.1, 0.2, 0.3, 0.4, 0.5, 0.6, 0.7, 0.8, 0.9, 1.0]\n",
      "param_grid = ParameterGrid(dict(gamma=gammas, alpha=alphas))\n",
      "ls = LabelSpreading()\n",
      "scores = {}\n",
      "for param in param_grid:\n",
      "    alpha, gamma = param['alpha'], param['gamma']\n",
      "    ls.set_params(alpha = alpha, gamma = gamma)\n",
      "    ls.fit(train_X, y30)\n",
      "    scores[(alpha, gamma)] = ls.score(train_X, y)\n",
      "    print (alpha, gamma), scores[(alpha, gamma)]"
     ],
     "language": "python",
     "metadata": {},
     "outputs": [
      {
       "output_type": "stream",
       "stream": "stdout",
       "text": [
        "(0.1, 0.0005) 0.195882025598\n",
        "(0.1, 0.001)"
       ]
      },
      {
       "output_type": "stream",
       "stream": "stdout",
       "text": [
        " 0.200890372844\n",
        "(0.1, 0.05)"
       ]
      },
      {
       "output_type": "stream",
       "stream": "stdout",
       "text": [
        " 0.831942125765\n",
        "(0.1, 0.1)"
       ]
      },
      {
       "output_type": "stream",
       "stream": "stdout",
       "text": [
        " 0.844741235392\n",
        "(0.1, 0.5)"
       ]
      },
      {
       "output_type": "stream",
       "stream": "stdout",
       "text": [
        " 0.841958820256\n",
        "(0.2, 0.0005)"
       ]
      },
      {
       "output_type": "stream",
       "stream": "stdout",
       "text": [
        " 0.195882025598\n",
        "(0.2, 0.001)"
       ]
      },
      {
       "output_type": "stream",
       "stream": "stdout",
       "text": [
        " 0.198664440735\n",
        "(0.2, 0.05)"
       ]
      },
      {
       "output_type": "stream",
       "stream": "stdout",
       "text": [
        " 0.838619922092\n",
        "(0.2, 0.1)"
       ]
      },
      {
       "output_type": "stream",
       "stream": "stdout",
       "text": [
        " 0.844741235392\n",
        "(0.2, 0.5)"
       ]
      },
      {
       "output_type": "stream",
       "stream": "stdout",
       "text": [
        " 0.843071786311\n",
        "(0.3, 0.0005)"
       ]
      },
      {
       "output_type": "stream",
       "stream": "stdout",
       "text": [
        " 0.195882025598\n",
        "(0.3, 0.001)"
       ]
      },
      {
       "output_type": "stream",
       "stream": "stdout",
       "text": [
        " 0.196438508625\n",
        "(0.3, 0.05)"
       ]
      },
      {
       "output_type": "stream",
       "stream": "stdout",
       "text": [
        " 0.843071786311\n",
        "(0.3, 0.1)"
       ]
      },
      {
       "output_type": "stream",
       "stream": "stdout",
       "text": [
        " 0.842515303283\n",
        "(0.3, 0.5)"
       ]
      },
      {
       "output_type": "stream",
       "stream": "stdout",
       "text": [
        " 0.843628269338\n",
        "(0.4, 0.0005)"
       ]
      },
      {
       "output_type": "stream",
       "stream": "stdout",
       "text": [
        " 0.194769059544\n",
        "(0.4, 0.001)"
       ]
      },
      {
       "output_type": "stream",
       "stream": "stdout",
       "text": [
        " 0.196438508625\n",
        "(0.4, 0.05)"
       ]
      },
      {
       "output_type": "stream",
       "stream": "stdout",
       "text": [
        " 0.844184752365\n",
        "(0.4, 0.1)"
       ]
      },
      {
       "output_type": "stream",
       "stream": "stdout",
       "text": [
        " 0.842515303283\n",
        "(0.4, 0.5)"
       ]
      },
      {
       "output_type": "stream",
       "stream": "stdout",
       "text": [
        " 0.843628269338\n",
        "(0.5, 0.0005)"
       ]
      },
      {
       "output_type": "stream",
       "stream": "stdout",
       "text": [
        " 0.194212576516\n",
        "(0.5, 0.001)"
       ]
      },
      {
       "output_type": "stream",
       "stream": "stdout",
       "text": [
        " 0.196438508625\n",
        "(0.5, 0.05)"
       ]
      },
      {
       "output_type": "stream",
       "stream": "stdout",
       "text": [
        " 0.844184752365\n",
        "(0.5, 0.1)"
       ]
      },
      {
       "output_type": "stream",
       "stream": "stdout",
       "text": [
        " 0.841958820256\n",
        "(0.5, 0.5)"
       ]
      },
      {
       "output_type": "stream",
       "stream": "stdout",
       "text": [
        " 0.844184752365\n",
        "(0.6, 0.0005)"
       ]
      },
      {
       "output_type": "stream",
       "stream": "stdout",
       "text": [
        " 0.192543127435\n",
        "(0.6, 0.001)"
       ]
      },
      {
       "output_type": "stream",
       "stream": "stdout",
       "text": [
        " 0.196438508625\n",
        "(0.6, 0.05)"
       ]
      },
      {
       "output_type": "stream",
       "stream": "stdout",
       "text": [
        " 0.840845854201\n",
        "(0.6, 0.1)"
       ]
      },
      {
       "output_type": "stream",
       "stream": "stdout",
       "text": [
        " 0.843071786311\n",
        "(0.6, 0.5)"
       ]
      },
      {
       "output_type": "stream",
       "stream": "stdout",
       "text": [
        " 0.844184752365\n",
        "(0.7, 0.0005)"
       ]
      },
      {
       "output_type": "stream",
       "stream": "stdout",
       "text": [
        " 0.183639398998\n",
        "(0.7, 0.001)"
       ]
      },
      {
       "output_type": "stream",
       "stream": "stdout",
       "text": [
        " 0.196438508625\n",
        "(0.7, 0.05)"
       ]
      },
      {
       "output_type": "stream",
       "stream": "stdout",
       "text": [
        " 0.842515303283\n",
        "(0.7, 0.1)"
       ]
      },
      {
       "output_type": "stream",
       "stream": "stdout",
       "text": [
        " 0.842515303283\n",
        "(0.7, 0.5)"
       ]
      },
      {
       "output_type": "stream",
       "stream": "stdout",
       "text": [
        " 0.844184752365\n",
        "(0.8, 0.0005)"
       ]
      },
      {
       "output_type": "stream",
       "stream": "stdout",
       "text": [
        " 0.157484696717\n",
        "(0.8, 0.001)"
       ]
      },
      {
       "output_type": "stream",
       "stream": "stdout",
       "text": [
        " 0.196438508625\n",
        "(0.8, 0.05)"
       ]
      },
      {
       "output_type": "stream",
       "stream": "stdout",
       "text": [
        " 0.846410684474\n",
        "(0.8, 0.1)"
       ]
      },
      {
       "output_type": "stream",
       "stream": "stdout",
       "text": [
        " 0.844741235392\n",
        "(0.8, 0.5)"
       ]
      },
      {
       "output_type": "stream",
       "stream": "stdout",
       "text": [
        " 0.84529771842\n",
        "(0.9, 0.0005)"
       ]
      },
      {
       "output_type": "stream",
       "stream": "stdout",
       "text": [
        " 0.0968280467446\n",
        "(0.9, 0.001)"
       ]
      },
      {
       "output_type": "stream",
       "stream": "stdout",
       "text": [
        " 0.195882025598\n",
        "(0.9, 0.05)"
       ]
      },
      {
       "output_type": "stream",
       "stream": "stdout",
       "text": [
        " 0.846967167501\n",
        "(0.9, 0.1)"
       ]
      },
      {
       "output_type": "stream",
       "stream": "stdout",
       "text": [
        " 0.847523650529\n",
        "(0.9, 0.5)"
       ]
      },
      {
       "output_type": "stream",
       "stream": "stdout",
       "text": [
        " 0.84529771842\n",
        "(1.0, 0.0005)"
       ]
      },
      {
       "output_type": "stream",
       "stream": "stdout",
       "text": [
        " 0.0968280467446\n",
        "(1.0, 0.001)"
       ]
      },
      {
       "output_type": "stream",
       "stream": "stdout",
       "text": [
        " 0.0968280467446\n",
        "(1.0, 0.05)"
       ]
      },
      {
       "output_type": "stream",
       "stream": "stdout",
       "text": [
        " 0.834168057874\n",
        "(1.0, 0.1)"
       ]
      },
      {
       "output_type": "stream",
       "stream": "stdout",
       "text": [
        " 0.840845854201\n",
        "(1.0, 0.5)"
       ]
      },
      {
       "output_type": "stream",
       "stream": "stdout",
       "text": [
        " 0.841402337229\n"
       ]
      }
     ],
     "prompt_number": 35
    },
    {
     "cell_type": "code",
     "collapsed": false,
     "input": [
      "score_mat = np.asarray([[scores[(alpha, gamma)] for gamma in gammas] \n",
      "                        for alpha in alphas])\n",
      "pl.matshow(score_mat)\n",
      "pl.xticks(np.arange(len(gammas)), gammas, rotation = 45)\n",
      "pl.yticks(np.arange(len(alphas)), alphas)\n",
      "pl.xlabel('gamma')\n",
      "pl.ylabel('alpha')\n",
      "pl.colorbar()"
     ],
     "language": "python",
     "metadata": {},
     "outputs": [
      {
       "metadata": {},
       "output_type": "pyout",
       "prompt_number": 36,
       "text": [
        "<matplotlib.colorbar.Colorbar instance at 0x608a1b8>"
       ]
      },
      {
       "metadata": {},
       "output_type": "display_data",
       "png": "[encoded data removed]",
       "text": [
        "<matplotlib.figure.Figure at 0x52cb050>"
       ]
      }
     ],
     "prompt_number": 36
    },
    {
     "cell_type": "markdown",
     "metadata": {},
     "source": [
      "## Conclusions\n",
      "- gamma is more important than alpha for LabelSpreading\n",
      "- gamma is more important than C for SVM\n",
      "- gamma valid ranges might be very different for preprocessed data, such as PCA"
     ]
    },
    {
     "cell_type": "code",
     "collapsed": false,
     "input": [],
     "language": "python",
     "metadata": {},
     "outputs": []
    }
   ],
   "metadata": {}
  }
 ]
}