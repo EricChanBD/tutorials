{
 "metadata": {
  "name": ""
 },
 "nbformat": 3,
 "nbformat_minor": 0,
 "worksheets": [
  {
   "cells": [
    {
     "cell_type": "code",
     "collapsed": false,
     "input": [
      "import pandas as pd\n",
      "from dateutil import parser\n",
      "from sklearn.preprocessing import LabelEncoder\n",
      "from time import time\n",
      "import numpy as np\n",
      "from sklearn.feature_extraction.text import TfidfVectorizer\n",
      "from sklearn.naive_bayes import MultinomialNB\n",
      "import re\n",
      "from HTMLParser import HTMLParser"
     ],
     "language": "python",
     "metadata": {},
     "outputs": [],
     "prompt_number": 45
    },
    {
     "cell_type": "code",
     "collapsed": false,
     "input": [
      "tic = time()\n",
      "data = pd.read_csv('data/sentiment.csv', \n",
      "            names=['polarity', 'id', 'date', 'query', 'user', 'text'])\n",
      "print 'loading data using', time() - tic\n",
      "\"\"\"\n",
      "tic = time()\n",
      "data['date'] = map(parser.parse, texts['date'])\n",
      "print 'parsing date using', time() - tic\n",
      "\"\"\"\n",
      "tic = time()\n",
      "labeller = LabelEncoder()\n",
      "data['polarity'] = labeller.fit_transform(texts['polarity'])\n",
      "print 'labelling polarity using', time() - tic"
     ],
     "language": "python",
     "metadata": {},
     "outputs": [
      {
       "output_type": "stream",
       "stream": "stdout",
       "text": [
        "loading data using 4.94515490532\n",
        "labelling polarity using"
       ]
      },
      {
       "output_type": "stream",
       "stream": "stdout",
       "text": [
        " 0.166806936264\n"
       ]
      }
     ],
     "prompt_number": 8
    },
    {
     "cell_type": "code",
     "collapsed": false,
     "input": [
      "texts = np.array(data.text)\n",
      "labels = np.array(data.polarity)\n",
      "print texts.shape, labels.shape"
     ],
     "language": "python",
     "metadata": {},
     "outputs": [
      {
       "output_type": "stream",
       "stream": "stdout",
       "text": [
        "(1600000,) (1600000,)\n"
       ]
      }
     ],
     "prompt_number": 11
    },
    {
     "cell_type": "code",
     "collapsed": false,
     "input": [
      "## customized tokenizer, dont care about url, but need to capture \n",
      "## smiley faces\n",
      "def tokenizer(doc):\n",
      "    ## remove url and user tag\n",
      "    url_pat = re.compile(r'http(s?)://[\\w./]+')\n",
      "    user_pat = re.compile(r'@\\w+')\n",
      "    doc = url_pat.sub('', doc)\n",
      "    doc = user_pat.sub('', doc)\n",
      "    ## unescapge HTML\n",
      "    h = HTMLParser()\n",
      "    doc = h.unescape(doc)\n",
      "    ## smiley faces\n",
      "    smiley_faces = {\n",
      "        ' HAPPY ': [':-)', ':)', ':o)', ':]', ':3', ':c)',':>', \n",
      "              '=]', '8)', '=)', ':}', ':^)', ':-))',\n",
      "              ':-D', ':D', '8-D', '8D', 'x-D', 'xD' 'X-D', \n",
      "              'XD', '=-D', '=D', '=-3', '=3', 'B^D', ]\n",
      "        , ' SAD ': ['>:[', ':-(', ':(',  ':-c', ':c', ':-<', ':<', ':-[', \n",
      "              ':[', ':{', ';(']\n",
      "        , ' ANGERY ': [':-||', ':@', '>:(']\n",
      "        , ' CRYING ': [\":'-(\", \":'(\"]\n",
      "        , ' HAPPY_TEARS ': \":'-) :')\".split()\n",
      "        , ' DISGUST ': \"D:< D: D8 D; D= DX v.v D-':\".split()\n",
      "        , ' SURPRISE ': \">:O :-O :O 8-0\".split()\n",
      "        , ' KISS ': \":* :^* ( '}{' )\".split()\n",
      "        , ' WINK ': \";-) ;) *-) *) ;-] ;] ;D ;^) :-,\".split()\n",
      "        , ' CHEEKY ': \">:P :-P :P X-P x-p xp XP :-p :p =p :-b :b\".split()\n",
      "        , ' ANOYED ': \">:\\ >:/ :-/ :-. :/ :\\ =/ =\\ :L =L :S >.<\".split()\n",
      "        , ' HEART ': ['<3']\n",
      "        , ' BROKEN_HEART ': ['</3']\n",
      "    }\n",
      "    for emotion, symbols in smiley_faces.items():\n",
      "        for symbol in symbols:\n",
      "            #print symbol\n",
      "            doc = doc.replace(symbol, emotion)\n",
      "    ## capture word pattern\n",
      "    word_pat = re.compile(r\"\\b\\w\\w+\\b\")\n",
      "    tokens = word_pat.findall(doc)\n",
      "    ## num aware\n",
      "    tokens = [\"NUM\" if t[0] in '0123456789' else t for t in tokens]\n",
      "    return tokens\n",
      "\n",
      "vectorizer = TfidfVectorizer(min_df = 5, max_df = 0.7, \n",
      "                             decode_error='ignore',\n",
      "                             tokenizer=tokenizer,  \n",
      "                             stop_words = 'english', \n",
      "                             sublinear_tf = True)\n",
      "X = vectorizer.fit_transform(texts)\n",
      "print X.shape"
     ],
     "language": "python",
     "metadata": {},
     "outputs": [
      {
       "output_type": "stream",
       "stream": "stdout",
       "text": [
        "(1600000, 51360)\n"
       ]
      }
     ],
     "prompt_number": 42
    },
    {
     "cell_type": "code",
     "collapsed": false,
     "input": [
      "vectorizer.get_feature_names()[:50]"
     ],
     "language": "python",
     "metadata": {},
     "outputs": [
      {
       "metadata": {},
       "output_type": "pyout",
       "prompt_number": 44,
       "text": [
        "[u'ANGERY',\n",
        " u'ANOYED',\n",
        " u'BROKEN_HEART',\n",
        " u'CHEEKY',\n",
        " u'CRYING',\n",
        " u'DISGUST',\n",
        " u'HAPPY',\n",
        " u'HAPPY_TEARS',\n",
        " u'HEART',\n",
        " u'KISS',\n",
        " 'NUM',\n",
        " u'SAD',\n",
        " u'SURPRISE',\n",
        " u'WINK',\n",
        " u'__',\n",
        " u'___',\n",
        " u'____',\n",
        " u'_____',\n",
        " u'______',\n",
        " u'_______',\n",
        " u'________',\n",
        " u'__________',\n",
        " u'___i',\n",
        " u'__x',\n",
        " u'_i_',\n",
        " u'_is_',\n",
        " u'_very_',\n",
        " u'a1',\n",
        " u'a12',\n",
        " u'a2',\n",
        " u'a2dp',\n",
        " u'a3',\n",
        " u'a330',\n",
        " u'a380',\n",
        " u'a4',\n",
        " u'a5',\n",
        " u'a6',\n",
        " u'a7x',\n",
        " u'a9',\n",
        " u'aa',\n",
        " u'aa3',\n",
        " u'aaa',\n",
        " u'aaaa',\n",
        " u'aaaaa',\n",
        " u'aaaaaa',\n",
        " u'aaaaaaa',\n",
        " u'aaaaaaaa',\n",
        " u'aaaaaaaaa',\n",
        " u'aaaaaaaaaa',\n",
        " u'aaaaaaaaaaaaa']"
       ]
      }
     ],
     "prompt_number": 44
    },
    {
     "cell_type": "code",
     "collapsed": false,
     "input": [
      "mnb = MultinomialNB()\n",
      "mnb.fit(X, labels)"
     ],
     "language": "python",
     "metadata": {},
     "outputs": [
      {
       "metadata": {},
       "output_type": "pyout",
       "prompt_number": 46,
       "text": [
        "MultinomialNB(alpha=1.0, class_prior=None, fit_prior=True)"
       ]
      }
     ],
     "prompt_number": 46
    },
    {
     "cell_type": "code",
     "collapsed": false,
     "input": [
      "mnb.score(X, labels)"
     ],
     "language": "python",
     "metadata": {},
     "outputs": [
      {
       "metadata": {},
       "output_type": "pyout",
       "prompt_number": 47,
       "text": [
        "0.77470000000000006"
       ]
      }
     ],
     "prompt_number": 47
    },
    {
     "cell_type": "code",
     "collapsed": false,
     "input": [
      "mnb.feature_log_prob_.argsort()[:20]"
     ],
     "language": "python",
     "metadata": {},
     "outputs": [
      {
       "metadata": {},
       "output_type": "pyout",
       "prompt_number": 54,
       "text": [
        "array([[17555, 23408, 44808, ..., 23655,    10, 50115],\n",
        "       [40234, 47887, 17558, ...,    10, 44590, 18293]])"
       ]
      }
     ],
     "prompt_number": 54
    },
    {
     "cell_type": "code",
     "collapsed": false,
     "input": [
      "vectorizer.get_feature_names()[17555]"
     ],
     "language": "python",
     "metadata": {},
     "outputs": [
      {
       "metadata": {},
       "output_type": "pyout",
       "prompt_number": 55,
       "text": [
        "u'gawk'"
       ]
      }
     ],
     "prompt_number": 55
    },
    {
     "cell_type": "code",
     "collapsed": false,
     "input": [],
     "language": "python",
     "metadata": {},
     "outputs": []
    }
   ],
   "metadata": {}
  }
 ]
}