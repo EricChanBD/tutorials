{
 "metadata": {
  "name": ""
 },
 "nbformat": 3,
 "nbformat_minor": 0,
 "worksheets": [
  {
   "cells": [
    {
     "cell_type": "code",
     "collapsed": false,
     "input": [
      "import datetime\n",
      "import numpy as np\n",
      "from matplotlib import finance\n",
      "import pylab as pl\n",
      "\n",
      "from sklearn import cluster, covariance, manifold\n",
      "\n",
      "%pylab inline --no-import-all"
     ],
     "language": "python",
     "metadata": {},
     "outputs": [
      {
       "output_type": "stream",
       "stream": "stdout",
       "text": [
        "Populating the interactive namespace from numpy and matplotlib\n"
       ]
      }
     ],
     "prompt_number": 3
    },
    {
     "cell_type": "code",
     "collapsed": false,
     "input": [
      "d1 = datetime.datetime(2003, 01, 01)\n",
      "d2 = datetime.datetime(2013, 01, 01)\n",
      "\n",
      "symbol_dict = {\n",
      "    'TOT': 'Total',\n",
      "    'XOM': 'Exxon',\n",
      "    'CVX': 'Chevron',\n",
      "    'COP': 'ConocoPhillips',\n",
      "    'VLO': 'Valero Energy',\n",
      "    'MSFT': 'Microsoft',\n",
      "    'IBM': 'IBM',\n",
      "    'TWX': 'Time Warner',\n",
      "    'CMCSA': 'Comcast',\n",
      "    'CVC': 'Cablevision',\n",
      "    'YHOO': 'Yahoo',\n",
      "    'DELL': 'Dell',\n",
      "    'HPQ': 'HP',\n",
      "    'AMZN': 'Amazon',\n",
      "    'TM': 'Toyota',\n",
      "    'CAJ': 'Canon',\n",
      "    'MTU': 'Mitsubishi',\n",
      "    'SNE': 'Sony',\n",
      "    'F': 'Ford',\n",
      "    'HMC': 'Honda',\n",
      "    'NAV': 'Navistar',\n",
      "    'NOC': 'Northrop Grumman',\n",
      "    'BA': 'Boeing',\n",
      "    'KO': 'Coca Cola',\n",
      "    'MMM': '3M',\n",
      "    'MCD': 'Mc Donalds',\n",
      "    'PEP': 'Pepsi',\n",
      "    'MDLZ': 'Kraft Foods',\n",
      "    'K': 'Kellogg',\n",
      "    'UN': 'Unilever',\n",
      "    'MAR': 'Marriott',\n",
      "    'PG': 'Procter Gamble',\n",
      "    'CL': 'Colgate-Palmolive',\n",
      "    'GE': 'General Electrics',\n",
      "    'WFC': 'Wells Fargo',\n",
      "    'JPM': 'JPMorgan Chase',\n",
      "    'AIG': 'AIG',\n",
      "    'AXP': 'American express',\n",
      "    'BAC': 'Bank of America',\n",
      "    'GS': 'Goldman Sachs',\n",
      "    'AAPL': 'Apple',\n",
      "    'SAP': 'SAP',\n",
      "    'CSCO': 'Cisco',\n",
      "    'TXN': 'Texas instruments',\n",
      "    'XRX': 'Xerox',\n",
      "    'LMT': 'Lookheed Martin',\n",
      "    'WMT': 'Wal-Mart',\n",
      "    'WAG': 'Walgreen',\n",
      "    'HD': 'Home Depot',\n",
      "    'GSK': 'GlaxoSmithKline',\n",
      "    'PFE': 'Pfizer',\n",
      "    'SNY': 'Sanofi-Aventis',\n",
      "    'NVS': 'Novartis',\n",
      "    'KMB': 'Kimberly-Clark',\n",
      "    'R': 'Ryder',\n",
      "    'GD': 'General Dynamics',\n",
      "    'RTN': 'Raytheon',\n",
      "    'CVS': 'CVS',\n",
      "    'CAT': 'Caterpillar',\n",
      "    'DD': 'DuPont de Nemours'}\n",
      "\n",
      "symbols, names = zip(*symbol_dict.items())"
     ],
     "language": "python",
     "metadata": {},
     "outputs": [],
     "prompt_number": 4
    },
    {
     "cell_type": "code",
     "collapsed": false,
     "input": [
      "quotes = []\n",
      "for symbol in symbols:\n",
      "    quotes.append(finance.quotes_historical_yahoo(symbol, d1, d2, asobject=True))"
     ],
     "language": "python",
     "metadata": {},
     "outputs": [],
     "prompt_number": 5
    },
    {
     "cell_type": "code",
     "collapsed": false,
     "input": [
      "q_open = np.asarray([q.open for q in quotes], dtype=np.float)\n",
      "q_close = np.asarray([q.close for q in quotes], dtype=np.float)\n",
      "## the daily variations of the quotes are what carry most information\n",
      "q_variation = q_close - q_open\n",
      "print q_variation.shape"
     ],
     "language": "python",
     "metadata": {},
     "outputs": [
      {
       "output_type": "stream",
       "stream": "stdout",
       "text": [
        "(60, 2517)\n"
       ]
      }
     ],
     "prompt_number": 6
    },
    {
     "cell_type": "code",
     "collapsed": false,
     "input": [
      "## learn a graphical structure from the correlations\n",
      "## SPARSE PRECISION MATRIX as a GRAPH MODEL\n",
      "## - different time series ARE FEATURES\n",
      "edge_model = covariance.GraphLassoCV(cv = 3, n_jobs=1, max_iter = 500)\n",
      "X = q_variation.T\n",
      "X /= X.std(axis = 0)\n",
      "%time edge_model.fit(X)"
     ],
     "language": "python",
     "metadata": {},
     "outputs": [
      {
       "output_type": "stream",
       "stream": "stdout",
       "text": [
        "CPU times: user 9.77 s, sys: 15.8 ms, total: 9.79 s\n",
        "Wall time: 9.78 s\n"
       ]
      },
      {
       "metadata": {},
       "output_type": "pyout",
       "prompt_number": 23,
       "text": [
        "GraphLassoCV(alphas=4, cv=3, max_iter=500, mode='cd', n_jobs=1,\n",
        "       n_refinements=4, tol=0.0001, verbose=False)"
       ]
      }
     ],
     "prompt_number": 23
    },
    {
     "cell_type": "code",
     "collapsed": false,
     "input": [
      "print type(edge_model.covariance_)\n",
      "pl.matshow(edge_model.covariance_, cmap = pl.cm.Blues)"
     ],
     "language": "python",
     "metadata": {},
     "outputs": [
      {
       "output_type": "stream",
       "stream": "stdout",
       "text": [
        "<type 'numpy.ndarray'>\n"
       ]
      },
      {
       "metadata": {},
       "output_type": "pyout",
       "prompt_number": 27,
       "text": [
        "<matplotlib.image.AxesImage at 0x10675b910>"
       ]
      },
      {
       "metadata": {},
       "output_type": "display_data",
       "png": "[encoded data removed]",
       "text": [
        "<matplotlib.figure.Figure at 0x106708550>"
       ]
      }
     ],
     "prompt_number": 27
    },
    {
     "cell_type": "code",
     "collapsed": false,
     "input": [
      "%time _, labels = cluster.affinity_propagation(edge_model.covariance_, max_iter = 500)"
     ],
     "language": "python",
     "metadata": {},
     "outputs": [
      {
       "output_type": "stream",
       "stream": "stdout",
       "text": [
        "CPU times: user 8.31 ms, sys: 426 \u00b5s, total: 8.74 ms\n",
        "Wall time: 8.24 ms\n"
       ]
      }
     ],
     "prompt_number": 25
    },
    {
     "cell_type": "code",
     "collapsed": false,
     "input": [
      "from pprint import pprint\n",
      "for label in np.unique(labels):\n",
      "    stock_index = np.where(labels == label)[0]\n",
      "    print \"============================\"\n",
      "    print(np.asarray(names)[stock_index])"
     ],
     "language": "python",
     "metadata": {},
     "outputs": [
      {
       "output_type": "stream",
       "stream": "stdout",
       "text": [
        "============================\n",
        "['Apple' 'Amazon']\n",
        "============================\n",
        "['Navistar']\n",
        "============================\n",
        "['Comcast' 'Time Warner' 'Cablevision']\n",
        "============================\n",
        "['Walgreen' 'CVS']\n",
        "============================\n",
        "['ConocoPhillips' 'GlaxoSmithKline' 'SAP' 'Pfizer' 'Novartis' '3M'\n",
        " 'Sanofi-Aventis' 'Chevron' 'DuPont de Nemours' 'Total' 'Caterpillar'\n",
        " 'Valero Energy' 'Exxon' 'Unilever']\n",
        "============================\n",
        "['Ford']\n",
        "============================\n",
        "['Sony' 'Canon' 'Toyota' 'Honda' 'Mitsubishi' 'Xerox']\n",
        "============================\n",
        "['Pepsi' 'Kimberly-Clark' 'Colgate-Palmolive' 'Wal-Mart' 'Coca Cola'\n",
        " 'Procter Gamble' 'Kellogg' 'Mc Donalds' 'Kraft Foods']\n",
        "============================\n",
        "['Raytheon' 'Boeing' 'Lookheed Martin' 'General Dynamics'\n",
        " 'Northrop Grumman']\n",
        "============================\n",
        "['Yahoo']\n",
        "============================\n",
        "['American express' 'Ryder' 'Goldman Sachs' 'General Electrics' 'Marriott'\n",
        " 'Wells Fargo' 'Bank of America' 'AIG' 'Home Depot' 'JPMorgan Chase']\n",
        "============================\n",
        "['Microsoft' 'IBM' 'Texas instruments' 'HP' 'Dell' 'Cisco']\n"
       ]
      }
     ],
     "prompt_number": 26
    },
    {
     "cell_type": "code",
     "collapsed": false,
     "input": [],
     "language": "python",
     "metadata": {},
     "outputs": []
    }
   ],
   "metadata": {}
  }
 ]
}