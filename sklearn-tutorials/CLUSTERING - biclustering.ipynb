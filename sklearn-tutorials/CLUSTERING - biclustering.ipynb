{
 "metadata": {
  "name": ""
 },
 "nbformat": 3,
 "nbformat_minor": 0,
 "worksheets": [
  {
   "cells": [
    {
     "cell_type": "markdown",
     "metadata": {},
     "source": [
      "## Clustering - Biclustering\n",
      "- clustering can be used in many situations, such as feature extraction\n",
      "- Bi clustering is interesting because the grouping is done in both sample and feature space. The result is thus quite similiar to a decision tree (divide and conquer)\n",
      "\n",
      "**Questions to Ask**\n",
      "\n",
      "- what is the difference between bicluster.SpectralCoclustering and SpectralBiclustering\n",
      "- how are their performances for feature extraction tasks such as text data\n",
      "- Is there any unsupervised tool to measure how clustering's performance is such as `metrics.consensus_score`. and How useful are they to supervised learning tasks\n",
      "\n",
      "**practcial trick**\n",
      "\n",
      "- No normalization is performed before clustering"
     ]
    },
    {
     "cell_type": "code",
     "collapsed": false,
     "input": [
      "import numpy as np\n",
      "from matplotlib import pyplot as plt\n",
      "from sklearn.cluster.bicluster import SpectralCoclustering, SpectralBiclustering\n",
      "from sklearn.metrics import consensus_score\n",
      "from sklearn.utils import shuffle\n",
      "from pprint import pprint\n",
      "\n",
      "#%pylab inline --no-import"
     ],
     "language": "python",
     "metadata": {},
     "outputs": [],
     "prompt_number": 131
    },
    {
     "cell_type": "markdown",
     "metadata": {},
     "source": [
      "##SpectralCoclustering"
     ]
    },
    {
     "cell_type": "code",
     "collapsed": false,
     "input": [
      "## on ARTitificla data\n",
      "from sklearn.datasets import make_biclusters\n",
      "from sklearn.datasets import samples_generator as sg\n",
      "\n",
      "\n",
      "data, rows, cols = make_biclusters((300, 300), n_clusters = 5, noise=5, \n",
      "                                   shuffle=False, random_state = 0)\n",
      "rows, cols = rows, cols\n",
      "print data.shape, rows.shape, cols.shape\n",
      "print data.min(), data.max(), data.std()\n",
      "plt.matshow(data, cmap = plt.cm.Blues)\n",
      "plt.title('Original Dataset')\n",
      "\n",
      "data, rows_idx, cols_idx = sg._shuffle(data, random_state = 0, )\n",
      "plt.matshow(data, cmap = plt.cm.Blues)\n",
      "plt.title('Shuffled Dataset')\n",
      "\n",
      "model = SpectralCoclustering(n_clusters=5, random_state=0)\n",
      "model.fit(data, )\n",
      "\n",
      "score = consensus_score(model.biclusters_, (rows[:, rows_idx], cols[:,cols_idx]), )\n",
      "print 'consensus score: ', score\n",
      "\n",
      "fit_data = data[np.argsort(model.row_labels_)]\n",
      "fit_data = fit_data[:, np.argsort(model.column_labels_)]\n",
      "plt.matshow(fit_data, cmap = plt.cm.Blues)\n",
      "plt.title('clustering result')\n",
      "\n",
      "plt.show()"
     ],
     "language": "python",
     "metadata": {},
     "outputs": [
      {
       "output_type": "stream",
       "stream": "stdout",
       "text": [
        "(300, 300) (5, 300) (5, 300)\n",
        "-24.9778671598 94.3645269648 25.2623760485\n",
        "consensus score: "
       ]
      },
      {
       "output_type": "stream",
       "stream": "stdout",
       "text": [
        " 1.0\n"
       ]
      }
     ],
     "prompt_number": 48
    },
    {
     "cell_type": "code",
     "collapsed": false,
     "input": [
      "## How about IRIS?\n",
      "from sklearn.datasets import load_iris\n",
      "iris = load_iris()\n",
      "X, y = iris.data, iris.target\n",
      "print X.shape, y.shape\n",
      "\n",
      "plt.matshow(X.T, cmap = plt.cm.Blues)\n",
      "\n",
      "\n",
      "model = SpectralCoclustering()\n",
      "model.fit(X)\n",
      "\n",
      "fit_data = X[np.argsort(model.row_labels_)]\n",
      "fit_data = fit_data[:, np.argsort(model.column_labels_)]\n",
      "plt.matshow(fit_data.T, cmap = plt.cm.Blues)\n",
      "\n",
      "\n",
      "from sklearn.metrics import adjusted_mutual_info_score\n",
      "adjusted_mutual_info_score(model.row_labels_, y)\n",
      "\n",
      "plt.show()"
     ],
     "language": "python",
     "metadata": {},
     "outputs": [
      {
       "output_type": "stream",
       "stream": "stdout",
       "text": [
        "(150, 4) (150,)\n"
       ]
      }
     ],
     "prompt_number": 40
    },
    {
     "cell_type": "markdown",
     "metadata": {},
     "source": [
      "## SpectralBiclustering"
     ]
    },
    {
     "cell_type": "code",
     "collapsed": false,
     "input": [
      "from sklearn.datasets import make_checkerboard\n",
      "from sklearn.datasets import samples_generator as sg\n",
      "from sklearn.cluster.bicluster import SpectralBiclustering\n",
      "from sklearn.metrics import consensus_score\n",
      "\n",
      "n_clusters = (4, 3)\n",
      "data, rows, cols = make_checkerboard(shape = (300, 300), \n",
      "                                     n_clusters = n_clusters,\n",
      "                                     noise = 10,\n",
      "                                     shuffle = False, \n",
      "                                     random_state = 0)\n",
      "plt.matshow(data, cmap = plt.cm.Blues)\n",
      "plt.title(\"Original dataset\")\n",
      "\n",
      "data, rows_idx, cols_idx = sg._shuffle(data, random_state=0)\n",
      "plt.matshow(data, cmap = plt.cm.Blues)\n",
      "plt.title('Shuffled dataset')\n",
      "\n",
      "model = SpectralBiclustering(n_clusters = n_clusters, method = 'log', \n",
      "                             random_state = 0)\n",
      "model.fit(data)\n",
      "score = consensus_score(model.biclusters_, (rows[:, rows_idx], cols[:, cols_idx]))\n",
      "print 'consensus score:', score\n",
      "\n",
      "fit_data = data[np.argsort(model.row_labels_)]\n",
      "fit_data = fit_data[:, np.argsort(model.column_labels_)]\n",
      "plt.matshow(fit_data, cmap = plt.cm.Blues)\n",
      "plt.title(\"Biclustering\")\n",
      "\n",
      "\n",
      "plt.show()"
     ],
     "language": "python",
     "metadata": {},
     "outputs": [
      {
       "output_type": "stream",
       "stream": "stdout",
       "text": [
        "consensus score: 1.0\n"
       ]
      }
     ],
     "prompt_number": 54
    },
    {
     "cell_type": "markdown",
     "metadata": {},
     "source": [
      "## Biclustering Documents"
     ]
    },
    {
     "cell_type": "code",
     "collapsed": false,
     "input": [
      "## biclustering documents with co-clustering\n",
      "## the resulting document-word biclusters indicate subsets words used more often in \n",
      "## each subset document\n",
      "## THE BEST BICLUSTERS are determined by their normalized cut. \n",
      "## THE BEST WORDS are determined by comparing their sums inside and outside bicluster\n",
      "\n",
      "## For comparison, documents also clustered using MiniBatchKMeans. \n",
      "## The clusters derived from bicluster have a better V_Measure.\n",
      "## $$ Note the input are sparse matrices"
     ],
     "language": "python",
     "metadata": {},
     "outputs": [],
     "prompt_number": 55
    },
    {
     "cell_type": "code",
     "collapsed": false,
     "input": [
      "import re\n",
      "from collections import Counter\n",
      "from sklearn.datasets.twenty_newsgroups import fetch_20newsgroups\n",
      "from sklearn.feature_extraction.text import TfidfVectorizer\n",
      "from sklearn.cluster.bicluster import SpectralCoclustering ## NOT SpectralBiclustering?\n",
      "from sklearn.cluster.bicluster import SpectralBiclustering\n",
      "from sklearn.cluster import MiniBatchKMeans\n",
      "from sklearn.metrics.cluster import v_measure_score\n",
      "from sklearn.metrics import adjusted_mutual_info_score"
     ],
     "language": "python",
     "metadata": {},
     "outputs": [],
     "prompt_number": 57
    },
    {
     "cell_type": "code",
     "collapsed": false,
     "input": [
      "## Customized Tokenizer for TfidfVectorizer\n",
      "def number_aware_tokenizer(doc):\n",
      "    \"\"\"\n",
      "    Tokenizer that maps all numberic tokens to a placeholder\n",
      "    \"\"\"\n",
      "    token_pattern = re.compile(u'(?u)\\\\b\\\\w\\\\w+\\\\b')\n",
      "    tokens = token_pattern.findall(doc)\n",
      "    tokens = [\"#NUMBER\" if token[0] in '0123456789_' else token\n",
      "              for token in tokens]\n",
      "    return tokens\n",
      "\n",
      "## use max_df = 0.5, any influence? It makes sense to ignore high-df words?!\n",
      "vectorizer = TfidfVectorizer(tokenizer=number_aware_tokenizer, \n",
      "                             min_df = 5, max_df = 0.5,\n",
      "                             stop_words='english')"
     ],
     "language": "python",
     "metadata": {},
     "outputs": [],
     "prompt_number": 101
    },
    {
     "cell_type": "code",
     "collapsed": false,
     "input": [
      "categories = ['alt.atheism', 'comp.graphics',\n",
      "              'comp.sys.ibm.pc.hardware', 'comp.sys.mac.hardware',\n",
      "              'comp.windows.x', 'misc.forsale', 'rec.autos',\n",
      "              'rec.motorcycles', 'rec.sport.baseball',\n",
      "              'rec.sport.hockey', 'sci.crypt', 'sci.electronics',\n",
      "              'sci.med', 'sci.space', 'soc.religion.christian',\n",
      "              'talk.politics.guns', 'talk.politics.mideast',\n",
      "              'talk.politics.misc', 'talk.religion.misc']\n",
      "newsgroups = fetch_20newsgroups(categories=categories)\n",
      "text = newsgroups.data\n",
      "target = newsgroups.target\n",
      "target_names = newsgroups.target_names\n",
      "X = vectorizer.fit_transform(text)\n",
      "print X.shape"
     ],
     "language": "python",
     "metadata": {},
     "outputs": [
      {
       "output_type": "stream",
       "stream": "stdout",
       "text": [
        "(10723, 22212)\n"
       ]
      }
     ],
     "prompt_number": 102
    },
    {
     "cell_type": "code",
     "collapsed": false,
     "input": [
      "feature_names = vectorizer.get_feature_names()\n",
      "print len(feature_names)"
     ],
     "language": "python",
     "metadata": {},
     "outputs": [
      {
       "output_type": "stream",
       "stream": "stdout",
       "text": [
        "22212\n"
       ]
      }
     ],
     "prompt_number": 112
    },
    {
     "cell_type": "code",
     "collapsed": false,
     "input": [
      "## COCLUSTER\n",
      "## use svd_method = 'radomized' (default) - faster but not as accurate as 'arpack'\n",
      "## BUT BASED ON THE EXP here, 'arpack' is FASTER but LESS ACCURATE than 'randomized'\n",
      "## DIAGONAL BLOCK MODEL\n",
      "cocluster = SpectralCoclustering(n_clusters=len(categories)*5, svd_method='arpack', \n",
      "                                 random_state=0, n_jobs=-1)\n",
      "%time cocluster.fit(X)\n",
      "## clustering quality as in mi with true target\n",
      "print 'cocluster MI score:', adjusted_mutual_info_score(cocluster.row_labels_, target)\n",
      "print 'cocluster V score:', v_measure_score(target, cocluster.row_labels_)"
     ],
     "language": "python",
     "metadata": {},
     "outputs": [
      {
       "output_type": "stream",
       "stream": "stdout",
       "text": [
        "CPU times: user 1.61 s, sys: 130 ms, total: 1.74 s\n",
        "Wall time: 27.5 s\n",
        "cocluster MI score: "
       ]
      },
      {
       "output_type": "stream",
       "stream": "stdout",
       "text": [
        "0.398825495975\n",
        "cocluster V score: 0.455353309128\n"
       ]
      }
     ],
     "prompt_number": 142
    },
    {
     "cell_type": "code",
     "collapsed": false,
     "input": [
      "## TOP WORDS FOR COCLUSTER\n",
      "for cluster in xrange(cocluster.n_clusters):\n",
      "    rows, cols = cocluster.get_indices(cluster)\n",
      "    #print np.asarray(feature_names)[cols][:10]\n",
      "    category_portions = [(target_names[t], np.mean(target[rows] == t))\n",
      "                         for t in np.unique(target)]\n",
      "    pprint(sorted(category_portions, key = lambda x: x[1], reverse = True)[:3])"
     ],
     "language": "python",
     "metadata": {},
     "outputs": [
      {
       "output_type": "stream",
       "stream": "stdout",
       "text": [
        "[('rec.autos', 0.28421052631578947),\n",
        " ('rec.motorcycles', 0.15526315789473685),\n",
        " ('sci.electronics', 0.15131578947368421)]\n",
        "[('comp.windows.x', 1.0), ('alt.atheism', 0.0), ('comp.graphics', 0.0)]\n",
        "[('alt.atheism', nan),\n",
        " ('comp.graphics', nan),\n",
        " ('comp.sys.ibm.pc.hardware', nan)]\n",
        "[('talk.politics.mideast', 1.0), ('alt.atheism', 0.0), ('comp.graphics', 0.0)]\n",
        "[('comp.windows.x', 0.64583333333333337),\n",
        " ('comp.graphics', 0.0625),\n",
        " ('comp.sys.ibm.pc.hardware', 0.041666666666666664)]\n",
        "[('soc.religion.christian', 1.0), ('alt.atheism', 0.0), ('comp.graphics', 0.0)]\n",
        "[('rec.sport.hockey', 0.78804347826086951),\n",
        " ('rec.sport.baseball', 0.20652173913043478),\n",
        " ('misc.forsale', 0.005434782608695652)]\n",
        "[('alt.atheism', nan),\n",
        " ('comp.graphics', nan),\n",
        " ('comp.sys.ibm.pc.hardware', nan)]\n",
        "[('comp.sys.ibm.pc.hardware', 0.31521739130434784),\n",
        " ('comp.sys.mac.hardware', 0.28260869565217389),\n",
        " ('comp.graphics', 0.1539855072463768)]\n",
        "[('comp.graphics', 1.0),\n",
        " ('alt.atheism', 0.0),\n",
        " ('comp.sys.ibm.pc.hardware', 0.0)]\n",
        "[('alt.atheism', nan),\n",
        " ('comp.graphics', nan),\n",
        " ('comp.sys.ibm.pc.hardware', nan)]\n",
        "[('sci.space', 0.33333333333333331),\n",
        " ('talk.religion.misc', 0.33333333333333331),\n",
        " ('sci.crypt', 0.22222222222222221)]\n",
        "[('soc.religion.christian', 1.0), ('alt.atheism', 0.0), ('comp.graphics', 0.0)]\n",
        "[('alt.atheism', nan),\n",
        " ('comp.graphics', nan),\n",
        " ('comp.sys.ibm.pc.hardware', nan)]\n",
        "[('rec.sport.hockey', 1.0), ('alt.atheism', 0.0), ('comp.graphics', 0.0)]\n",
        "[('talk.politics.mideast', 1.0), ('alt.atheism', 0.0), ('comp.graphics', 0.0)]\n",
        "[('comp.windows.x', 1.0), ('alt.atheism', 0.0), ('comp.graphics', 0.0)]\n",
        "[('rec.sport.hockey', 0.57894736842105265),\n",
        " ('rec.sport.baseball', 0.36842105263157893),\n",
        " ('misc.forsale', 0.052631578947368418)]\n",
        "[('sci.med', 0.33750000000000002),\n",
        " ('soc.religion.christian', 0.24583333333333332),\n",
        " ('alt.atheism', 0.15833333333333333)]\n",
        "[('comp.windows.x', 1.0), ('alt.atheism', 0.0), ('comp.graphics', 0.0)]\n",
        "[('rec.sport.baseball', 0.72222222222222221),\n",
        " ('rec.sport.hockey', 0.26470588235294118),\n",
        " ('talk.politics.misc', 0.0098039215686274508)]\n",
        "[('comp.windows.x', 1.0), ('alt.atheism', 0.0), ('comp.graphics', 0.0)]\n",
        "[('comp.graphics', 0.40000000000000002),\n",
        " ('comp.windows.x', 0.20000000000000001),\n",
        " ('misc.forsale', 0.20000000000000001)]\n",
        "[('rec.autos', 0.33333333333333331),\n",
        " ('rec.motorcycles', 0.20000000000000001),\n",
        " ('sci.med', 0.20000000000000001)]\n",
        "[('talk.politics.mideast', 0.79005524861878451),\n",
        " ('talk.politics.guns', 0.1270718232044199),\n",
        " ('alt.atheism', 0.038674033149171269)]\n",
        "[('talk.politics.guns', 0.21197007481296759),\n",
        " ('talk.politics.misc', 0.18453865336658354),\n",
        " ('sci.space', 0.16957605985037408)]\n",
        "[('comp.windows.x', 1.0), ('alt.atheism', 0.0), ('comp.graphics', 0.0)]\n",
        "[('comp.sys.ibm.pc.hardware', 0.4039408866995074),\n",
        " ('comp.sys.mac.hardware', 0.21182266009852216),\n",
        " ('comp.graphics', 0.18719211822660098)]\n",
        "[('talk.politics.mideast', 0.8571428571428571),\n",
        " ('sci.crypt', 0.14285714285714285),\n",
        " ('alt.atheism', 0.0)]\n",
        "["
       ]
      },
      {
       "output_type": "stream",
       "stream": "stdout",
       "text": [
        "('comp.graphics', 1.0),\n",
        " ('alt.atheism', 0.0),\n",
        " ('comp.sys.ibm.pc.hardware', 0.0)]\n",
        "[('comp.graphics', 1.0),\n",
        " ('alt.atheism', 0.0),\n",
        " ('comp.sys.ibm.pc.hardware', 0.0)]\n",
        "[('alt.atheism', nan),\n",
        " ('comp.graphics', nan),\n",
        " ('comp.sys.ibm.pc.hardware', nan)]\n",
        "[('soc.religion.christian', 0.62303664921465973),\n",
        " ('talk.religion.misc', 0.19895287958115182),\n",
        " ('alt.atheism', 0.17801047120418848)]\n",
        "[('rec.sport.hockey', 0.91428571428571426),\n",
        " ('rec.sport.baseball', 0.085714285714285715),\n",
        " ('alt.atheism', 0.0)]\n",
        "[('comp.windows.x', 0.92307692307692313),\n",
        " ('comp.graphics', 0.076923076923076927),\n",
        " ('alt.atheism', 0.0)]\n",
        "[('talk.politics.misc', 0.26760563380281688),\n",
        " ('soc.religion.christian', 0.15492957746478872),\n",
        " ('talk.politics.guns', 0.14084507042253522)]\n",
        "[('sci.crypt', 0.98230088495575218),\n",
        " ('comp.graphics', 0.0088495575221238937),\n",
        " ('sci.space', 0.0088495575221238937)]\n",
        "[('misc.forsale', 0.25628140703517588),\n",
        " ('sci.electronics', 0.18592964824120603),\n",
        " ('comp.sys.mac.hardware', 0.1407035175879397)]\n",
        "[('talk.politics.misc', 0.5),\n",
        " ('rec.sport.baseball', 0.25),\n",
        " ('rec.sport.hockey', 0.125)]\n",
        "[('talk.politics.misc', 1.0), ('alt.atheism', 0.0), ('comp.graphics', 0.0)]\n",
        "[('talk.politics.mideast', 1.0), ('alt.atheism', 0.0), ('comp.graphics', 0.0)]\n",
        "[('comp.windows.x', 0.91752577319587625),\n",
        " ('comp.graphics', 0.030927835051546393),\n",
        " ('comp.sys.ibm.pc.hardware', 0.030927835051546393)]\n",
        "[('alt.atheism', nan),\n",
        " ('comp.graphics', nan),\n",
        " ('comp.sys.ibm.pc.hardware', nan)]\n",
        "[('sci.electronics', 0.40000000000000002),\n",
        " ('comp.graphics', 0.20000000000000001),\n",
        " ('comp.windows.x', 0.20000000000000001)]\n",
        "[('rec.motorcycles', 0.52032520325203258),\n",
        " ('rec.autos', 0.29268292682926828),\n",
        " ('misc.forsale', 0.15447154471544716)]\n",
        "[('rec.sport.hockey', 0.95238095238095233),\n",
        " ('rec.sport.baseball', 0.047619047619047616),\n",
        " ('alt.atheism', 0.0)]\n",
        "[('comp.windows.x', 0.40229885057471265),\n",
        " ('comp.graphics', 0.31034482758620691),\n",
        " ('comp.sys.mac.hardware', 0.089080459770114945)]\n",
        "[('sci.med', 0.58064516129032262),\n",
        " ('soc.religion.christian', 0.12903225806451613),\n",
        " ('rec.sport.baseball', 0.096774193548387094)]\n",
        "[('alt.atheism', 0.450354609929078),\n",
        " ('soc.religion.christian', 0.27659574468085107),\n",
        " ('talk.religion.misc', 0.1702127659574468)]\n",
        "[('comp.sys.ibm.pc.hardware', 0.47826086956521741),\n",
        " ('misc.forsale', 0.34782608695652173),\n",
        " ('comp.graphics', 0.13043478260869565)]\n",
        "[('comp.graphics', 0.58333333333333337),\n",
        " ('comp.sys.mac.hardware', 0.20833333333333334),\n",
        " ('comp.sys.ibm.pc.hardware', 0.041666666666666664)]\n",
        "[('sci.space', 0.19892473118279569),\n",
        " ('sci.electronics', 0.16935483870967741),\n",
        " ('comp.graphics', 0.1424731182795699)]\n",
        "[('alt.atheism', 0.5714285714285714),\n",
        " ('soc.religion.christian', 0.19047619047619047),\n",
        " ('talk.religion.misc', 0.19047619047619047)]\n",
        "[('comp.windows.x', 1.0), ('alt.atheism', 0.0), ('comp.graphics', 0.0)]\n",
        "[('comp.windows.x', 0.8571428571428571),\n",
        " ('sci.electronics', 0.14285714285714285),\n",
        " ('alt.atheism', 0.0)]\n",
        "[('talk.politics.mideast', 1.0), ('alt.atheism', 0.0), ('comp.graphics', 0.0)]\n",
        "[('rec.sport.baseball', 0.29268292682926828),\n",
        " ('rec.sport.hockey', 0.29268292682926828),\n",
        " ('rec.motorcycles', 0.1951219512195122)]\n",
        "[('soc.religion.christian', 0.5),\n",
        " ('talk.politics.misc', 0.5),\n",
        " ('alt.atheism', 0.0)]\n",
        "["
       ]
      },
      {
       "output_type": "stream",
       "stream": "stdout",
       "text": [
        "('talk.politics.mideast', 1.0), ('alt.atheism', 0.0), ('comp.graphics', 0.0)]\n",
        "[('comp.graphics', 0.42857142857142855),\n",
        " ('sci.electronics', 0.42857142857142855),\n",
        " ('soc.religion.christian', 0.14285714285714285)]\n",
        "[('alt.atheism', nan),\n",
        " ('comp.graphics', nan),\n",
        " ('comp.sys.ibm.pc.hardware', nan)]\n",
        "[('comp.windows.x', 0.59887005649717517),\n",
        " ('comp.graphics', 0.2655367231638418),\n",
        " ('comp.sys.ibm.pc.hardware', 0.07909604519774012)]\n",
        "[('soc.religion.christian', 1.0), ('alt.atheism', 0.0), ('comp.graphics', 0.0)]\n",
        "[('rec.sport.hockey', 1.0), ('alt.atheism', 0.0), ('comp.graphics', 0.0)]\n",
        "[('rec.motorcycles', 0.62411347517730498),\n",
        " ('rec.autos', 0.27304964539007093),\n",
        " ('sci.med', 0.028368794326241134)]\n",
        "[('sci.space', 0.4357298474945534),\n",
        " ('sci.crypt', 0.30936819172113289),\n",
        " ('sci.med', 0.067538126361655779)]\n",
        "[('sci.electronics', 0.25),\n",
        " ('comp.sys.mac.hardware', 0.23579545454545456),\n",
        " ('comp.sys.ibm.pc.hardware', 0.16619318181818182)]\n",
        "[('sci.med', 0.73245614035087714),\n",
        " ('rec.motorcycles', 0.08771929824561403),\n",
        " ('soc.religion.christian', 0.048245614035087717)]\n",
        "[('talk.politics.guns', 0.46406570841889117),\n",
        " ('talk.politics.misc', 0.27104722792607805),\n",
        " ('talk.religion.misc', 0.096509240246406572)]\n",
        "[('rec.sport.hockey', 0.89051094890510951),\n",
        " ('rec.sport.baseball', 0.10948905109489052),\n",
        " ('alt.atheism', 0.0)]\n",
        "[('comp.windows.x', 0.94117647058823528),\n",
        " ('comp.graphics', 0.044117647058823532),\n",
        " ('comp.sys.ibm.pc.hardware', 0.014705882352941176)]\n",
        "[('rec.motorcycles', 0.24663677130044842),\n",
        " ('rec.autos', 0.20627802690582961),\n",
        " ('misc.forsale', 0.16591928251121077)]\n",
        "[('sci.med', 0.74452554744525545),\n",
        " ('soc.religion.christian', 0.11678832116788321),\n",
        " ('alt.atheism', 0.043795620437956206)]\n",
        "[('misc.forsale', 0.32295719844357978),\n",
        " ('comp.sys.ibm.pc.hardware', 0.22568093385214008),\n",
        " ('comp.sys.mac.hardware', 0.1867704280155642)]\n",
        "[('rec.motorcycles', 0.37931034482758619),\n",
        " ('sci.space', 0.2413793103448276),\n",
        " ('misc.forsale', 0.13793103448275862)]\n",
        "[('comp.windows.x', 1.0), ('alt.atheism', 0.0), ('comp.graphics', 0.0)]\n",
        "[('alt.atheism', 0.60869565217391308),\n",
        " ('soc.religion.christian', 0.39130434782608697),\n",
        " ('comp.graphics', 0.0)]\n",
        "[('rec.sport.baseball', 0.42342342342342343),\n",
        " ('rec.sport.hockey', 0.17117117117117117),\n",
        " ('misc.forsale', 0.0990990990990991)]\n",
        "[('sci.space', 0.23956043956043957),\n",
        " ('rec.autos', 0.18681318681318682),\n",
        " ('rec.motorcycles', 0.18021978021978022)]\n",
        "[('talk.politics.guns', 0.45484949832775917),\n",
        " ('talk.politics.misc', 0.22408026755852842),\n",
        " ('talk.politics.mideast', 0.13712374581939799)]\n",
        "[('comp.graphics', 1.0),\n",
        " ('alt.atheism', 0.0),\n",
        " ('comp.sys.ibm.pc.hardware', 0.0)]\n",
        "[('rec.sport.baseball', 0.53361344537815125),\n",
        " ('rec.sport.hockey', 0.46218487394957986),\n",
        " ('misc.forsale', 0.0042016806722689074)]\n",
        "[('talk.politics.mideast', 1.0), ('alt.atheism', 0.0), ('comp.graphics', 0.0)]\n",
        "[('comp.windows.x', 1.0), ('alt.atheism', 0.0), ('comp.graphics', 0.0)]\n",
        "[('rec.sport.hockey', 1.0), ('alt.atheism', 0.0), ('comp.graphics', 0.0)]\n",
        "[('sci.crypt', 0.90555555555555556),\n",
        " ('talk.politics.mideast', 0.027777777777777776),\n",
        " ('talk.politics.misc', 0.027777777777777776)]\n",
        "[('comp.graphics', 0.47761194029850745),\n",
        " ('sci.electronics', 0.17910447761194029),\n",
        " ('sci.space', 0.1044776119402985)]\n",
        "[('talk.politics.mideast', 0.98499999999999999),\n",
        " ('soc.religion.christian', 0.01),\n",
        " ('talk.religion.misc', 0.0050000000000000001)]\n",
        "[('rec.sport.hockey', 1.0), ('alt.atheism', 0.0), ('comp.graphics', 0.0)]\n",
        "["
       ]
      },
      {
       "output_type": "stream",
       "stream": "stdout",
       "text": [
        "('rec.sport.baseball', 0.78350515463917525),\n",
        " ('rec.sport.hockey', 0.092783505154639179),\n",
        " ('misc.forsale', 0.020618556701030927)]\n",
        "[('alt.atheism', 0.7415730337078652),\n",
        " ('talk.religion.misc', 0.16853932584269662),\n",
        " ('soc.religion.christian', 0.06741573033707865)]\n",
        "[('comp.graphics', 1.0),\n",
        " ('alt.atheism', 0.0),\n",
        " ('comp.sys.ibm.pc.hardware', 0.0)]\n",
        "[('comp.windows.x', 1.0), ('alt.atheism', 0.0), ('comp.graphics', 0.0)]\n",
        "[('soc.religion.christian', 0.41358024691358025),\n",
        " ('alt.atheism', 0.2448559670781893),\n",
        " ('talk.religion.misc', 0.24279835390946503)]\n",
        "[('talk.politics.mideast', 0.34782608695652173),\n",
        " ('talk.politics.guns', 0.2391304347826087),\n",
        " ('talk.politics.misc', 0.17391304347826086)]\n"
       ]
      }
     ],
     "prompt_number": 143
    },
    {
     "cell_type": "code",
     "collapsed": false,
     "input": [
      "## method = bistochastic as suggested for sparse matrices\n",
      "## svd_method = 'arpack' instead of 'randomized' to improve score\n",
      "bicluster = SpectralBiclustering(n_clusters=len(categories), method = 'bistochastic', \n",
      "                                 svd_method = 'arpack',\n",
      "                                 n_jobs=2, random_state=0)\n",
      "%time bicluster.fit(X)\n",
      "print 'bicluster MI score:', adjusted_mutual_info_score(bicluster.row_labels_, target)\n",
      "print 'bicluster V score:', v_measure_score(target, bicluster.row_labels_)"
     ],
     "language": "python",
     "metadata": {},
     "outputs": [
      {
       "output_type": "stream",
       "stream": "stdout",
       "text": [
        "CPU times: user 1.81 s, sys: 630 ms, total: 2.44 s\n",
        "Wall time: 31.1 s\n",
        "bicluster MI score: "
       ]
      },
      {
       "output_type": "stream",
       "stream": "stdout",
       "text": [
        "0.116517661839\n",
        "bicluster V score: 0.140279000875\n"
       ]
      }
     ],
     "prompt_number": 137
    },
    {
     "cell_type": "code",
     "collapsed": false,
     "input": [
      "for cluster in xrange(bicluster.n_clusters):\n",
      "    rows, cols = bicluster.get_indices(cluster)\n",
      "    #print np.asarray(feature_names)[cols][:10]\n",
      "    category_portions = [(target_names[t], np.mean(target[rows] == t))\n",
      "                         for t in np.unique(target)]\n",
      "    print sorted(category_portions, key = lambda x: x[1], reverse = True)[:3]"
     ],
     "language": "python",
     "metadata": {},
     "outputs": [
      {
       "output_type": "stream",
       "stream": "stdout",
       "text": [
        "0\n",
        "[('misc.forsale', 0.13897280966767372), ('rec.sport.baseball', 0.13595166163141995), ('comp.windows.x', 0.096676737160120846)]\n",
        "1\n",
        "[('misc.forsale', 0.13897280966767372), ('rec.sport.baseball', 0.13595166163141995), ('comp.windows.x', 0.096676737160120846)]\n",
        "2\n",
        "[('misc.forsale', 0.13897280966767372), ('rec.sport.baseball', 0.13595166163141995), ('comp.windows.x', 0.096676737160120846)]\n",
        "3\n",
        "[('misc.forsale', 0.13897280966767372), ('rec.sport.baseball', 0.13595166163141995), ('comp.windows.x', 0.096676737160120846)]\n",
        "4\n",
        "[('misc.forsale', 0.13897280966767372), ('rec.sport.baseball', 0.13595166163141995), ('comp.windows.x', 0.096676737160120846)]\n",
        "5\n",
        "[('misc.forsale', 0.13897280966767372), ('rec.sport.baseball', 0.13595166163141995), ('comp.windows.x', 0.096676737160120846)]\n",
        "6\n",
        "[('misc.forsale', 0.13897280966767372), ('rec.sport.baseball', 0.13595166163141995), ('comp.windows.x', 0.096676737160120846)]\n",
        "7\n",
        "[('misc.forsale', 0.13897280966767372), ('rec.sport.baseball', 0.13595166163141995), ('comp.windows.x', 0.096676737160120846)]\n",
        "8\n",
        "[('misc.forsale', 0.13897280966767372), ('rec.sport.baseball', 0.13595166163141995), ('comp.windows.x', 0.096676737160120846)]\n",
        "9\n",
        "[('misc.forsale', 0.13897280966767372), ('rec.sport.baseball', 0.13595166163141995), ('comp.windows.x', 0.096676737160120846)]\n",
        "10\n",
        "[('misc.forsale', 0.13897280966767372), ('rec.sport.baseball', 0.13595166163141995), ('comp.windows.x', 0.096676737160120846)]\n",
        "11\n",
        "[('misc.forsale', 0.13897280966767372), ('rec.sport.baseball', 0.13595166163141995), ('comp.windows.x', 0.096676737160120846)]\n",
        "12\n",
        "[('misc.forsale', 0.13897280966767372), ('rec.sport.baseball', 0.13595166163141995), ('comp.windows.x', 0.096676737160120846)]\n",
        "13\n",
        "[('misc.forsale', 0.13897280966767372), ('rec.sport.baseball', 0.13595166163141995), ('comp.windows.x', 0.096676737160120846)]\n",
        "14\n",
        "[('misc.forsale', 0.13897280966767372), ('rec.sport.baseball', 0.13595166163141995), ('comp.windows.x', 0.096676737160120846)]\n",
        "15\n",
        "[('misc.forsale', 0.13897280966767372), ('rec.sport.baseball', 0.13595166163141995), ('comp.windows.x', 0.096676737160120846)]\n",
        "16\n",
        "[('misc.forsale', 0.13897280966767372), ('rec.sport.baseball', 0.13595166163141995), ('comp.windows.x', 0.096676737160120846)]\n",
        "17\n",
        "[('misc.forsale', 0.13897280966767372), ('rec.sport.baseball', 0.13595166163141995), ('comp.windows.x', 0.096676737160120846)]\n",
        "18\n",
        "[('misc.forsale', 0.13897280966767372), ('rec.sport.baseball', 0.13595166163141995), ('comp.windows.x', 0.096676737160120846)]\n",
        "19\n",
        "[('misc.forsale', 0.13897280966767372), ('rec.sport.baseball', 0.13595166163141995), ('comp.windows.x', 0.096676737160120846)]\n",
        "20\n",
        "[('misc.forsale', 0.13897280966767372), ('rec.sport.baseball', 0.13595166163141995), ('comp.windows.x', 0.096676737160120846)]\n",
        "21\n",
        "[('misc.forsale', 0.13897280966767372), ('rec.sport.baseball', 0.13595166163141995), ('comp.windows.x', 0.096676737160120846)]\n",
        "22\n",
        "[('misc.forsale', 0.13897280966767372), ('rec.sport.baseball', 0.13595166163141995), ('comp.windows.x', 0.096676737160120846)]\n",
        "23\n",
        "[('misc.forsale', 0.13897280966767372), ('rec.sport.baseball', 0.13595166163141995), ('comp.windows.x', 0.096676737160120846)]\n",
        "24\n",
        "[('misc.forsale', 0.13897280966767372), ('rec.sport.baseball', 0.13595166163141995), ('comp.windows.x', 0.096676737160120846)]\n",
        "25\n",
        "[('misc.forsale', 0.13897280966767372), ('rec.sport.baseball', 0.13595166163141995), ('comp.windows.x', 0.096676737160120846)]\n",
        "26\n",
        "[('misc.forsale', 0.13897280966767372), ('rec.sport.baseball', 0.13595166163141995), ('comp.windows.x', 0.096676737160120846)]"
       ]
      },
      {
       "output_type": "stream",
       "stream": "stdout",
       "text": [
        "\n",
        "27\n",
        "[('misc.forsale', 0.13897280966767372), ('rec.sport.baseball', 0.13595166163141995), ('comp.windows.x', 0.096676737160120846)]\n",
        "28\n",
        "[('misc.forsale', 0.13897280966767372), ('rec.sport.baseball', 0.13595166163141995), ('comp.windows.x', 0.096676737160120846)]\n",
        "29\n",
        "[('misc.forsale', 0.13897280966767372), ('rec.sport.baseball', 0.13595166163141995), ('comp.windows.x', 0.096676737160120846)]\n",
        "30\n",
        "[('misc.forsale', 0.13897280966767372), ('rec.sport.baseball', 0.13595166163141995), ('comp.windows.x', 0.096676737160120846)]\n",
        "31\n",
        "[('misc.forsale', 0.13897280966767372), ('rec.sport.baseball', 0.13595166163141995), ('comp.windows.x', 0.096676737160120846)]\n",
        "32\n",
        "[('misc.forsale', 0.13897280966767372), ('rec.sport.baseball', 0.13595166163141995), ('comp.windows.x', 0.096676737160120846)]\n",
        "33\n",
        "[('misc.forsale', 0.13897280966767372), ('rec.sport.baseball', 0.13595166163141995), ('comp.windows.x', 0.096676737160120846)]\n",
        "34\n",
        "[('misc.forsale', 0.13897280966767372), ('rec.sport.baseball', 0.13595166163141995), ('comp.windows.x', 0.096676737160120846)]\n",
        "35\n",
        "[('misc.forsale', 0.13897280966767372), ('rec.sport.baseball', 0.13595166163141995), ('comp.windows.x', 0.096676737160120846)]\n",
        "36\n",
        "[('misc.forsale', 0.13897280966767372), ('rec.sport.baseball', 0.13595166163141995), ('comp.windows.x', 0.096676737160120846)]\n",
        "37\n",
        "[('misc.forsale', 0.13897280966767372), ('rec.sport.baseball', 0.13595166163141995), ('comp.windows.x', 0.096676737160120846)]\n",
        "38\n",
        "[('misc.forsale', 0.13897280966767372), ('rec.sport.baseball', 0.13595166163141995), ('comp.windows.x', 0.096676737160120846)]\n",
        "39\n",
        "[('misc.forsale', 0.13897280966767372), ('rec.sport.baseball', 0.13595166163141995), ('comp.windows.x', 0.096676737160120846)]\n",
        "40\n",
        "[('misc.forsale', 0.13897280966767372), ('rec.sport.baseball', 0.13595166163141995), ('comp.windows.x', 0.096676737160120846)]\n",
        "41\n",
        "[('misc.forsale', 0.13897280966767372), ('rec.sport.baseball', 0.13595166163141995), ('comp.windows.x', 0.096676737160120846)]\n",
        "42\n",
        "[('misc.forsale', 0.13897280966767372), ('rec.sport.baseball', 0.13595166163141995), ('comp.windows.x', 0.096676737160120846)]\n",
        "43\n",
        "[('misc.forsale', 0.13897280966767372), ('rec.sport.baseball', 0.13595166163141995), ('comp.windows.x', 0.096676737160120846)]\n",
        "44\n",
        "[('misc.forsale', 0.13897280966767372), ('rec.sport.baseball', 0.13595166163141995), ('comp.windows.x', 0.096676737160120846)]\n",
        "45\n",
        "[('misc.forsale', 0.13897280966767372), ('rec.sport.baseball', 0.13595166163141995), ('comp.windows.x', 0.096676737160120846)]\n",
        "46\n",
        "[('misc.forsale', 0.13897280966767372), ('rec.sport.baseball', 0.13595166163141995), ('comp.windows.x', 0.096676737160120846)]\n",
        "47\n",
        "[('misc.forsale', 0.13897280966767372), ('rec.sport.baseball', 0.13595166163141995), ('comp.windows.x', 0.096676737160120846)]\n",
        "48\n",
        "[('misc.forsale', 0.13897280966767372), ('rec.sport.baseball', 0.13595166163141995), ('comp.windows.x', 0.096676737160120846)]\n",
        "49\n",
        "[('misc.forsale', 0.13897280966767372), ('rec.sport.baseball', 0.13595166163141995), ('comp.windows.x', 0.096676737160120846)]\n",
        "50\n",
        "[('misc.forsale', 0.13897280966767372), ('rec.sport.baseball', 0.13595166163141995), ('comp.windows.x', 0.096676737160120846)]\n",
        "51\n",
        "[('misc.forsale', 0.13897280966767372), ('rec.sport.baseball', 0.13595166163141995), ('comp.windows.x', 0.096676737160120846)]\n",
        "52\n",
        "[('misc.forsale', 0.13897280966767372), ('rec.sport.baseball', 0.13595166163141995), ('comp.windows.x', 0.096676737160120846)]\n",
        "53\n",
        "[('misc.forsale', 0.13897280966767372), ('rec.sport.baseball', 0.13595166163141995), ('comp.windows.x', 0.096676737160120846)]\n",
        "54\n",
        "[('misc.forsale', 0.13897280966767372), ('rec.sport.baseball', 0.13595166163141995), ('comp.windows.x', 0.096676737160120846)]\n",
        "55\n",
        "[('misc.forsale', 0.13897280966767372), ('rec.sport.baseball', 0.13595166163141995), ('comp.windows.x', 0.096676737160120846)]\n",
        "56\n",
        "[('misc.forsale', 0.13897280966767372), ('rec.sport.baseball', 0.13595166163141995), ('comp.windows.x', 0.096676737160120846)]"
       ]
      },
      {
       "output_type": "stream",
       "stream": "stdout",
       "text": [
        "\n"
       ]
      }
     ],
     "prompt_number": 139
    },
    {
     "cell_type": "code",
     "collapsed": false,
     "input": [
      "## MINIMATCH KMEANS\n",
      "kmeans = MiniBatchKMeans(n_clusters=len(categories), batch_size=1000, random_state=0)\n",
      "%time kmeans.fit(X)\n",
      "print 'kmeans MI score:', adjusted_mutual_info_score(kmeans.labels_, target)\n",
      "print 'kmeans V score:', v_measure_score(target, kmeans.labels_)"
     ],
     "language": "python",
     "metadata": {},
     "outputs": [
      {
       "output_type": "stream",
       "stream": "stdout",
       "text": [
        "CPU times: user 2.36 s, sys: 212 ms, total: 2.57 s\n",
        "Wall time: 2.57 s\n",
        "kmeans MI score: 0.419034875238\n",
        "kmeans V score: 0.456230549633\n"
       ]
      }
     ],
     "prompt_number": 106
    },
    {
     "cell_type": "code",
     "collapsed": false,
     "input": [
      "for cluster in xrange(kmeans.n_clusters):\n",
      "    rows = np.where(kmeans.labels_ == cluster)[0]\n",
      "    #print np.asarray(feature_names)[cols][:10]\n",
      "    category_portions = [(target_names[t], np.mean(target[rows] == t))\n",
      "                         for t in np.unique(target)]\n",
      "    print sorted(category_portions, key = lambda x: x[1], reverse = True)[:3]"
     ],
     "language": "python",
     "metadata": {},
     "outputs": [
      {
       "output_type": "stream",
       "stream": "stdout",
       "text": [
        "[('talk.politics.mideast', 0.74371859296482412), ('sci.space', 0.21608040201005024), ('sci.electronics', 0.040201005025125629)]\n",
        "[('talk.politics.mideast', 0.99646643109540634), ('talk.religion.misc', 0.0035335689045936395), ('alt.atheism', 0.0)]\n",
        "[('sci.space', 0.54088050314465408), ('misc.forsale', 0.075471698113207544), ('sci.crypt', 0.075471698113207544)]\n",
        "[('soc.religion.christian', 0.60495867768595046), ('talk.religion.misc', 0.1933884297520661), ('alt.atheism', 0.19008264462809918)]\n",
        "[('talk.politics.guns', 0.20446265938069216), ('talk.politics.misc', 0.17122040072859745), ('sci.med', 0.13934426229508196)]\n",
        "[('sci.med', 0.98969072164948457), ('talk.religion.misc', 0.010309278350515464), ('alt.atheism', 0.0)]\n",
        "[('rec.sport.baseball', 0.8423005565862709), ('rec.sport.hockey', 0.12615955473098331), ('misc.forsale', 0.018552875695732839)]\n",
        "[('comp.windows.x', 0.19170049616599008), ('sci.electronics', 0.16012629679747406), ('comp.sys.ibm.pc.hardware', 0.13847541723049164)]\n",
        "[('misc.forsale', 0.40346534653465349), ('rec.autos', 0.33539603960396042), ('talk.politics.misc', 0.043316831683168314)]\n",
        "[('rec.sport.hockey', 0.98356807511737088), ('rec.sport.baseball', 0.014084507042253521), ('misc.forsale', 0.0023474178403755869)]\n",
        "[('sci.crypt', 0.97549019607843135), ('comp.windows.x', 0.017156862745098041), ('sci.electronics', 0.0024509803921568627)]\n",
        "[('soc.religion.christian', 0.29268292682926828), ('rec.sport.hockey', 0.14634146341463414), ('sci.electronics', 0.13414634146341464)]\n",
        "[('talk.politics.guns', 0.27205882352941174), ('sci.med', 0.25), ('talk.religion.misc', 0.13235294117647059)]\n",
        "[('sci.space', 0.65775401069518713), ('sci.electronics', 0.072192513368983954), ('comp.windows.x', 0.048128342245989303)]\n",
        "[('comp.graphics', 0.38969873663751214), ('comp.windows.x', 0.12536443148688048), ('sci.electronics', 0.084548104956268216)]\n",
        "[('alt.atheism', 0.80882352941176472), ('talk.religion.misc', 0.051470588235294115), ('talk.politics.guns', 0.036764705882352942)]\n",
        "[('rec.motorcycles', 0.92558139534883721), ('rec.autos', 0.041860465116279069), ('sci.electronics', 0.023255813953488372)]\n",
        "[('comp.sys.ibm.pc.hardware', 0.20481927710843373), ('comp.graphics', 0.12048192771084337), ('sci.electronics', 0.084337349397590355)]\n",
        "[('comp.sys.mac.hardware', 0.49191685912240185), ('comp.sys.ibm.pc.hardware', 0.30023094688221708), ('misc.forsale', 0.062355658198614321)]\n"
       ]
      }
     ],
     "prompt_number": 130
    },
    {
     "cell_type": "markdown",
     "metadata": {},
     "source": [
      "## Use coclustering as learned features for classification"
     ]
    },
    {
     "cell_type": "code",
     "collapsed": false,
     "input": [
      "cocluster = SpectralCoclustering(n_clusters = 1000, svd_method='arpack', n_jobs = -1, random_state = 0)\n",
      "cocluster.fit(X)\n",
      "FEATS = cocluster.rows_.T\n",
      "#FEATST = kmeans.transform(X)\n",
      "from sklearn.naive_bayes import MultinomialNB, BernoulliNB\n",
      "from sklearn.cross_validation import cross_val_score, StratifiedShuffleSplit\n",
      "\n",
      "cv = StratifiedShuffleSplit(target, n_iter = 5, test_size = 0.2, random_state = 0, )\n",
      "\n",
      "mnb = MultinomialNB()\n",
      "print cross_val_score(mnb, FEATS, target, cv = cv, n_jobs=-1)\n",
      "print cross_val_score(mnb, X, target, cv = cv, n_jobs=-1)"
     ],
     "language": "python",
     "metadata": {},
     "outputs": [
      {
       "output_type": "stream",
       "stream": "stdout",
       "text": [
        "[ 0.60438024  0.61835974  0.60531221  0.60391426  0.60857409]\n"
       ]
      },
      {
       "output_type": "stream",
       "stream": "stdout",
       "text": [
        "[ 0.88443616  0.88397018  0.88863001  0.88443616  0.88210624]\n"
       ]
      }
     ],
     "prompt_number": 151
    },
    {
     "cell_type": "code",
     "collapsed": false,
     "input": [],
     "language": "python",
     "metadata": {},
     "outputs": []
    }
   ],
   "metadata": {}
  }
 ]
}