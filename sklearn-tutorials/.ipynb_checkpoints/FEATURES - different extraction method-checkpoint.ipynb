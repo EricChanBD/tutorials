{
 "metadata": {
  "name": ""
 },
 "nbformat": 3,
 "nbformat_minor": 0,
 "worksheets": [
  {
   "cells": [
    {
     "cell_type": "markdown",
     "metadata": {},
     "source": [
      "## Try different feature extraction strategy for binary classification problems\n",
      "- data from sklearn-london workshop hosted in [Kaggle](http://www.kaggle.com/c/data-science-london-scikit-learn)\n",
      "- Things to try:\n",
      "    - discretization of features - by decision tree and log odd coding\n",
      "    - sparse filtering & forests feature selection"
     ]
    },
    {
     "cell_type": "code",
     "collapsed": false,
     "input": [
      "import numpy as np\n",
      "import pandas as pd\n",
      "from sklearn.utils import shuffle\n",
      "from sklearn.base import BaseEstimator, TransformerMixin\n",
      "from sklearn.cross_validation import train_test_split\n",
      "from sklearn.preprocessing import StandardScaler, normalize\n",
      "from sklearn.linear_model import SGDClassifier\n",
      "from sklearn.svm import SVC\n",
      "from sklearn.grid_search import GridSearchCV\n",
      "from sklearn.ensemble import ExtraTreesClassifier\n",
      "from sklearn.ensemble import GradientBoostingClassifier\n",
      "from sklearn.decomposition import PCA\n",
      "\n",
      "\n",
      "from autodiff import optimize\n",
      "from scipy import stats\n",
      "import pylab as pl\n",
      "\n",
      "%pylab inline --no-import-all"
     ],
     "language": "python",
     "metadata": {},
     "outputs": [
      {
       "output_type": "stream",
       "stream": "stdout",
       "text": [
        "Populating the interactive namespace from numpy and matplotlib\n"
       ]
      }
     ],
     "prompt_number": 179
    },
    {
     "cell_type": "code",
     "collapsed": false,
     "input": [
      "## load data\n",
      "train_data = pd.read_csv('../data/sklearn-london/train.csv', header=None)\n",
      "train_labels = pd.read_csv('../data/sklearn-london/trainLabels.csv', header=None)\n",
      "\n",
      "X = np.asarray(train_data)\n",
      "y = np.asarray(train_labels).ravel()\n",
      "\n",
      "print X.shape, y.shape\n",
      "print X.dtype, y.dtype, np.unique(y)\n",
      "\n",
      "## shuffle data\n",
      "X, y = shuffle(X, y)\n",
      "print X.shape, y.shape"
     ],
     "language": "python",
     "metadata": {},
     "outputs": [
      {
       "output_type": "stream",
       "stream": "stdout",
       "text": [
        "(1000, 40) (1000,)\n",
        "float64 int64 [0 1]\n",
        "(1000, 40) (1000,)\n"
       ]
      }
     ],
     "prompt_number": 75
    },
    {
     "cell_type": "code",
     "collapsed": false,
     "input": [
      "train_index, test_index = train_test_split(np.arange(X.shape[0]), test_size = 0.2)\n",
      "print train_index.shape, test_index.shape"
     ],
     "language": "python",
     "metadata": {},
     "outputs": [
      {
       "output_type": "stream",
       "stream": "stdout",
       "text": [
        "(800,) (200,)\n"
       ]
      }
     ],
     "prompt_number": 76
    },
    {
     "cell_type": "markdown",
     "metadata": {},
     "source": [
      "## base case - on raw features"
     ]
    },
    {
     "cell_type": "code",
     "collapsed": false,
     "input": [
      "## analzye min/max, center, shape of different features\n",
      "def statistics(feat):\n",
      "    return (feat.min(), feat.max(), feat.std(), stats.skew(feat))\n",
      "mins, maxs, stds, skewness = zip(*[statistics(X[:, i]) for i in xrange(X.shape[1])])\n",
      "print np.std(mins), np.min(mins), np.max(mins)\n",
      "print np.std(maxs), np.min(maxs), np.max(maxs)\n",
      "print np.std(stds), np.min(stds), np.max(stds)\n",
      "print np.std(skewness), np.min(skewness), np.max(skewness)"
     ],
     "language": "python",
     "metadata": {},
     "outputs": [
      {
       "output_type": "stream",
       "stream": "stdout",
       "text": [
        "3.52909765249 -16.4219014729 -2.6956019378\n",
        "3.29453132536 2.54650651811 17.5653445056\n",
        "0.967315549334 0.966798559976 4.53656367456\n",
        "0.135242790356 -0.412842893417 0.333415441978\n"
       ]
      }
     ],
     "prompt_number": 77
    },
    {
     "cell_type": "code",
     "collapsed": false,
     "input": [
      "ss = StandardScaler()\n",
      "train_X = ss.fit_transform(X[train_index, :])\n",
      "test_X = ss.transform(X[test_index, :])\n",
      "train_y = y[train_index]\n",
      "test_y = y[test_index]\n",
      "\n",
      "svc = SVC()\n",
      "gammas = [1e-4, 3e-4, 1e-3, 3e-3, 1e-2, 3e-2, 1e-1, 3e-1, 1., 3., 10.]\n",
      "gs = GridSearchCV(svc, {'gamma': gammas}, n_jobs=-1, cv = 5, scoring='accuracy')\n",
      "gs.fit(train_X, train_y)\n",
      "print gs.best_params_\n",
      "print gs.best_score_\n",
      "\n",
      "svc = SVC(**gs.best_params_)\n",
      "svc.fit(train_X, train_y)\n",
      "print svc.score(test_X, test_y)"
     ],
     "language": "python",
     "metadata": {},
     "outputs": [
      {
       "output_type": "stream",
       "stream": "stdout",
       "text": [
        "{'gamma': 0.03}\n",
        "0.85375\n",
        "0.875"
       ]
      },
      {
       "output_type": "stream",
       "stream": "stdout",
       "text": [
        "\n"
       ]
      }
     ],
     "prompt_number": 78
    },
    {
     "cell_type": "markdown",
     "metadata": {},
     "source": [
      "## Base case - on PCA"
     ]
    },
    {
     "cell_type": "code",
     "collapsed": false,
     "input": [
      "pca = PCA(whiten=True)\n",
      "pca.fit(X)\n",
      "feature_importances = pd.DataFrame(pca.explained_variance_ratio_)\n",
      "feature_importances.plot(kind = 'bar')"
     ],
     "language": "python",
     "metadata": {},
     "outputs": [
      {
       "metadata": {},
       "output_type": "pyout",
       "prompt_number": 120,
       "text": [
        "<matplotlib.axes.AxesSubplot at 0xbb625d0>"
       ]
      },
      {
       "metadata": {},
       "output_type": "display_data",
       "png": "[encoded data removed]",
       "text": [
        "<matplotlib.figure.Figure at 0xb8a5190>"
       ]
      }
     ],
     "prompt_number": 120
    },
    {
     "cell_type": "code",
     "collapsed": false,
     "input": [
      "pca = PCA(n_components=15, whiten=True)\n",
      "pca_X = pca.fit_transform(X)\n",
      "train_X = pca_X[train_index, :]\n",
      "test_X = pca_X[test_index, :]\n",
      "train_y = y[train_index]\n",
      "test_y = y[test_index]\n",
      "print train_X.shape, test_X.shape\n",
      "print train_y.shape, test_y.shape"
     ],
     "language": "python",
     "metadata": {},
     "outputs": [
      {
       "output_type": "stream",
       "stream": "stdout",
       "text": [
        "(800, 15) (200, 15)\n",
        "(800,) (200,)\n"
       ]
      }
     ],
     "prompt_number": 121
    },
    {
     "cell_type": "code",
     "collapsed": false,
     "input": [
      "svc = SVC()\n",
      "gammas = [1e-4, 3e-4, 1e-3, 3e-3, 1e-2, 3e-2, 1e-1, 3e-1, 1., 3., 10.]\n",
      "gs = GridSearchCV(svc, {'gamma': gammas}, n_jobs=-1, cv = 5, scoring='accuracy')\n",
      "gs.fit(train_X, train_y)\n",
      "print gs.best_params_\n",
      "print gs.best_score_\n",
      "\n",
      "svc = SVC(**gs.best_params_)\n",
      "svc.fit(train_X, train_y)\n",
      "print svc.score(test_X, test_y)"
     ],
     "language": "python",
     "metadata": {},
     "outputs": [
      {
       "output_type": "stream",
       "stream": "stdout",
       "text": [
        "{'gamma': 0.1}\n",
        "0.9125\n",
        "0.96"
       ]
      },
      {
       "output_type": "stream",
       "stream": "stdout",
       "text": [
        "\n"
       ]
      }
     ],
     "prompt_number": 122
    },
    {
     "cell_type": "markdown",
     "metadata": {},
     "source": [
      "## benchmark 1 - sparse filtering (feature extraction) + decision forest (feature selection)"
     ]
    },
    {
     "cell_type": "code",
     "collapsed": false,
     "input": [
      "def soft_absolute(u):\n",
      "    epsilon = 1e-8\n",
      "    return np.sqrt(u*u + epsilon)\n",
      "\n",
      "def logistic(u):\n",
      "    return 1. / (1. + np.exp(-u))\n",
      "\n",
      "class SparseFilter(BaseEstimator, TransformerMixin):\n",
      "    def __init__(self, n_features = 200, n_iterations = 300, activate=soft_absolute):\n",
      "        self.epsilon = 1e-8\n",
      "        self.n_features = n_features\n",
      "        self.n_iterations = n_iterations\n",
      "        self.activate = activate\n",
      "    def fit(self, X, y = None):\n",
      "        n_samples, n_dim = X.shape\n",
      "        W = np.random.randn(n_dim, self.n_features)\n",
      "        b = np.random.randn(self.n_features)\n",
      "        obj_fn = self.get_objective_fn(X)\n",
      "        self.W_, self.b_ = optimize.fmin_l_bfgs_b(obj_fn, (W, b), \n",
      "                                iprint = 1, \n",
      "                                maxfun = self.n_iterations)\n",
      "        return self\n",
      "    def get_objective_fn(self, X):\n",
      "        def _objective_fn(W, b):\n",
      "            Y = self.activate(np.dot(X, W) + b)\n",
      "            Y = Y / np.sqrt(np.sum(Y*Y, axis = 0) + self.epsilon)\n",
      "            Y = Y / np.sqrt(np.sum(Y*Y, axis = 1)[:, np.newaxis] + self.epsilon)\n",
      "            return np.sum(Y)\n",
      "        return _objective_fn\n",
      "    def transform(self, X):\n",
      "        Y = self.activate(np.dot(X, self.W_) + self.b_)\n",
      "        Y = Y / np.sqrt(np.sum(Y*Y, axis=0) + self.epsilon)\n",
      "        Y = Y / np.sqrt(np.sum(Y*Y, axis=1)[:, np.newaxis] + self.epsilon)\n",
      "        return Y\n",
      "    "
     ],
     "language": "python",
     "metadata": {},
     "outputs": [],
     "prompt_number": 208
    },
    {
     "cell_type": "code",
     "collapsed": false,
     "input": [
      "sf = SparseFilter(n_features=50, n_iterations=5000)\n",
      "sf_X = sf.fit_transform(X)\n",
      "sf_X = ss.fit_transform(sf_X)"
     ],
     "language": "python",
     "metadata": {},
     "outputs": [],
     "prompt_number": 209
    },
    {
     "cell_type": "code",
     "collapsed": false,
     "input": [
      "train_X = sf_X[train_index, :]\n",
      "train_y = y[train_index, :]\n",
      "test_X = sf_X[test_index, :]\n",
      "test_y = y[test_index, :]\n",
      "print train_X.shape, test_X.shape\n",
      "print train_y.shape, test_y.shape"
     ],
     "language": "python",
     "metadata": {},
     "outputs": [
      {
       "output_type": "stream",
       "stream": "stdout",
       "text": [
        "(800, 50) (200, 50)\n",
        "(800,) (200,)\n"
       ]
      }
     ],
     "prompt_number": 216
    },
    {
     "cell_type": "code",
     "collapsed": false,
     "input": [
      "trees = ExtraTreesClassifier(n_estimators=100, max_features=50, n_jobs=-1, random_state=0)\n",
      "trees.fit(train_X, train_y)\n",
      "feature_importances = pd.DataFrame(trees.feature_importances_)\n",
      "feature_importances.plot(kind='bar')"
     ],
     "language": "python",
     "metadata": {},
     "outputs": [
      {
       "metadata": {},
       "output_type": "pyout",
       "prompt_number": 217,
       "text": [
        "<matplotlib.axes.AxesSubplot at 0xed344d0>"
       ]
      },
      {
       "metadata": {},
       "output_type": "display_data",
       "png": "[encoded data removed]",
       "text": [
        "<matplotlib.figure.Figure at 0x10c10850>"
       ]
      }
     ],
     "prompt_number": 217
    },
    {
     "cell_type": "code",
     "collapsed": false,
     "input": [
      "selected_features = np.where(feature_importances >= 0.01)[0]\n",
      "train_X = train_X[:, selected_features]\n",
      "test_X = test_X[:, selected_features]\n",
      "print train_X.shape, test_X.shape"
     ],
     "language": "python",
     "metadata": {},
     "outputs": [
      {
       "output_type": "stream",
       "stream": "stdout",
       "text": [
        "(800, 30) (200, 30)\n"
       ]
      }
     ],
     "prompt_number": 218
    },
    {
     "cell_type": "code",
     "collapsed": false,
     "input": [
      "svc = SVC()\n",
      "gammas = [1e-4, 3e-4, 1e-3, 3e-3, 1e-2, 3e-2, 1e-1, 3e-1, 1., 3., 10.]\n",
      "gs = GridSearchCV(svc, {'gamma': gammas}, n_jobs=-1, cv = 5, scoring='accuracy')\n",
      "gs.fit(train_X, train_y)\n",
      "print gs.best_params_\n",
      "print gs.best_score_\n",
      "\n",
      "svc = SVC(**gs.best_params_)\n",
      "svc.fit(train_X, train_y)\n",
      "print svc.score(test_X, test_y)\n"
     ],
     "language": "python",
     "metadata": {},
     "outputs": [
      {
       "output_type": "stream",
       "stream": "stdout",
       "text": [
        "{'gamma': 0.1}\n",
        "0.91875\n",
        "0.91"
       ]
      },
      {
       "output_type": "stream",
       "stream": "stdout",
       "text": [
        "\n"
       ]
      }
     ],
     "prompt_number": 219
    },
    {
     "cell_type": "code",
     "collapsed": false,
     "input": [
      "gbt = GradientBoostingClassifier(random_state=0)\n",
      "learning_rates = [1e-4, 3e-4, 1e-3, 3e-3, 1e-2, 3e-2, 1e-1, 3e-1, 1., 3., 10.]\n",
      "gs = GridSearchCV(gbt, {'learning_rate': learning_rates}, \n",
      "                  n_jobs=-1, cv = 5, scoring='accuracy')\n",
      "gs.fit(train_X, train_y)\n",
      "\n",
      "print gs.best_params_\n",
      "print gs.best_score_\n",
      "\n",
      "gbt = GradientBoostingClassifier(**gs.best_params_)\n",
      "gbt.fit(train_X, train_y)\n",
      "print gbt.score(test_X, test_y)"
     ],
     "language": "python",
     "metadata": {},
     "outputs": [
      {
       "output_type": "stream",
       "stream": "stdout",
       "text": [
        "{'learning_rate': 0.3}\n",
        "0.90375\n",
        "0.91"
       ]
      },
      {
       "output_type": "stream",
       "stream": "stdout",
       "text": [
        "\n"
       ]
      }
     ],
     "prompt_number": 220
    },
    {
     "cell_type": "code",
     "collapsed": false,
     "input": [
      "from sklearn.ensemble import RandomForestClassifier\n",
      "forest = RandomForestClassifier(n_estimators=100, )\n",
      "max_features_choices = [0.1, 0.2, 0.3, 0.4, 0.5, 0.6, 0.7, 0.8, 0.9, 1.0]\n",
      "gs = GridSearchCV(forest, {'max_features': max_features_choices}, \n",
      "                  n_jobs=-1, cv = 5, scoring='accuracy')\n",
      "gs.fit(train_X, train_y)\n",
      "print gs.best_params_\n",
      "print gs.best_score_\n",
      "\n",
      "forest = RandomForestClassifier(n_estimators=100, **gs.best_params_)\n",
      "forest.fit(train_X, train_y)\n",
      "print forest.score(test_X, test_y)"
     ],
     "language": "python",
     "metadata": {},
     "outputs": [
      {
       "output_type": "stream",
       "stream": "stdout",
       "text": [
        "{'max_features': 0.1}\n",
        "0.8925\n",
        "0.905"
       ]
      },
      {
       "output_type": "stream",
       "stream": "stdout",
       "text": [
        "\n"
       ]
      }
     ],
     "prompt_number": 225
    },
    {
     "cell_type": "markdown",
     "metadata": {},
     "source": [
      "## benchmark 2 - single variable decision tree as discretizer"
     ]
    },
    {
     "cell_type": "code",
     "collapsed": false,
     "input": [
      "from sklearn.tree import DecisionTreeClassifier\n",
      "class TreeTransformer(BaseEstimator, TransformerMixin):\n",
      "    def __init__(self):\n",
      "        pass\n",
      "    def fit(self, X, y):\n",
      "        n_samples, n_features = X.shape\n",
      "        self.trees_ = []\n",
      "        for ifeat in xrange(n_features):\n",
      "            ## IT IS VERY IMPORTANT TO SET max_depth = small value to avoid overfitting\n",
      "            self.trees_.append(DecisionTreeClassifier(max_depth=1))\n",
      "            self.trees_[ifeat].fit(X[:, ifeat].reshape((-1, 1)), y)\n",
      "        return self\n",
      "    def transform(self, X):\n",
      "        n_samples, n_features = X.shape\n",
      "        assert n_features == len(self.trees_)\n",
      "        return np.concatenate([self.trees_[ifeat].predict_proba(X[:, ifeat].reshape((-1, 1)))[:, :-1]\n",
      "                       for ifeat in xrange(n_features)], \n",
      "                    axis = 1)"
     ],
     "language": "python",
     "metadata": {},
     "outputs": [],
     "prompt_number": 160
    },
    {
     "cell_type": "code",
     "collapsed": false,
     "input": [
      "tt = TreeTransformer()\n",
      "train_y = y[train_index, :]\n",
      "train_X = tt.fit_transform(X[train_index, :], train_y)\n",
      "#train_X = ss.fit_transform(train_X)\n",
      "test_y = y[test_index, :]\n",
      "test_X = tt.transform(X[test_index, :])\n",
      "#test_X = ss.transform(test_X)\n",
      "print train_X.shape, train_y.shape\n",
      "print test_X.shape, test_y.shape"
     ],
     "language": "python",
     "metadata": {},
     "outputs": [
      {
       "output_type": "stream",
       "stream": "stdout",
       "text": [
        "(800, 40) (800,)\n",
        "(200, 40) (200,)\n"
       ]
      }
     ],
     "prompt_number": 161
    },
    {
     "cell_type": "code",
     "collapsed": false,
     "input": [
      "svc = SVC()\n",
      "gammas = [1e-4, 3e-4, 1e-3, 3e-3, 1e-2, 3e-2, 1e-1, 3e-1, 1., 3., 10.]\n",
      "gs = GridSearchCV(svc, {'gamma': gammas}, n_jobs=-1, cv = 5, scoring='accuracy')\n",
      "gs.fit(train_X, train_y)\n",
      "print gs.best_params_\n",
      "print gs.best_score_\n",
      "\n",
      "svc = SVC(**gs.best_params_)\n",
      "svc.fit(train_X, train_y)\n",
      "print svc.score(test_X, test_y)"
     ],
     "language": "python",
     "metadata": {},
     "outputs": [
      {
       "output_type": "stream",
       "stream": "stdout",
       "text": [
        "{'gamma': 3.0}\n",
        "0.8425\n",
        "0.8"
       ]
      },
      {
       "output_type": "stream",
       "stream": "stdout",
       "text": [
        "\n"
       ]
      }
     ],
     "prompt_number": 162
    },
    {
     "cell_type": "markdown",
     "metadata": {},
     "source": [
      "## benchmark 3 - extra embedding tree (unsupervised)"
     ]
    },
    {
     "cell_type": "code",
     "collapsed": false,
     "input": [
      "from sklearn.ensemble import RandomTreesEmbedding\n",
      "rte = RandomTreesEmbedding(n_estimators=20, max_depth=2, n_jobs=-1)\n",
      "embedded_X = rte.fit_transform(X)\n",
      "print embedded_X.shape"
     ],
     "language": "python",
     "metadata": {},
     "outputs": [
      {
       "output_type": "stream",
       "stream": "stdout",
       "text": [
        "(1000, 79)\n"
       ]
      }
     ],
     "prompt_number": 173
    },
    {
     "cell_type": "code",
     "collapsed": false,
     "input": [
      "embedded_X = embedded_X.toarray()\n",
      "train_X = embedded_X[train_index, :]\n",
      "test_X = embedded_X[test_index, :]\n",
      "train_y = y[train_index]\n",
      "test_y = y[test_index]\n",
      "\n",
      "print train_X.shape, test_X.shape\n",
      "print train_y.shape, test_y.shape"
     ],
     "language": "python",
     "metadata": {},
     "outputs": [
      {
       "output_type": "stream",
       "stream": "stdout",
       "text": [
        "(800, 79) (200, 79)\n",
        "(800,) (200,)\n"
       ]
      }
     ],
     "prompt_number": 174
    },
    {
     "cell_type": "code",
     "collapsed": false,
     "input": [
      "## feature selection\n",
      "trees = ExtraTreesClassifier(n_estimators=50, max_features=0.1, random_state=0, n_jobs=-1)\n",
      "trees.fit(train_X, train_y)\n",
      "pd.DataFrame(trees.feature_importances_).plot(kind = 'bar')"
     ],
     "language": "python",
     "metadata": {},
     "outputs": [
      {
       "metadata": {},
       "output_type": "pyout",
       "prompt_number": 175,
       "text": [
        "<matplotlib.axes.AxesSubplot at 0x9f4b710>"
       ]
      },
      {
       "metadata": {},
       "output_type": "display_data",
       "png": "[encoded data removed]",
       "text": [
        "<matplotlib.figure.Figure at 0xc9aad50>"
       ]
      }
     ],
     "prompt_number": 175
    },
    {
     "cell_type": "code",
     "collapsed": false,
     "input": [
      "selected_features = np.where(trees.feature_importances_ >= 0.01)[0]\n",
      "train_X = ss.fit_transform(train_X[:, selected_features])\n",
      "test_X = ss.transform(test_X[:, selected_features])"
     ],
     "language": "python",
     "metadata": {},
     "outputs": [],
     "prompt_number": 176
    },
    {
     "cell_type": "code",
     "collapsed": false,
     "input": [
      "svc = SVC()\n",
      "gammas = [1e-4, 3e-4, 1e-3, 3e-3, 1e-2, 3e-2, 1e-1, 3e-1, 1., 3., 10.]\n",
      "gs = GridSearchCV(svc, {'gamma': gammas}, n_jobs=-1, cv = 5, scoring='accuracy')\n",
      "gs.fit(train_X, train_y)\n",
      "print gs.best_params_\n",
      "print gs.best_score_\n",
      "\n",
      "svc = SVC(**gs.best_params_)\n",
      "svc.fit(train_X, train_y)\n",
      "print svc.score(test_X, test_y)"
     ],
     "language": "python",
     "metadata": {},
     "outputs": [
      {
       "output_type": "stream",
       "stream": "stdout",
       "text": [
        "{'gamma': 0.03}\n",
        "0.7625\n",
        "0.73"
       ]
      },
      {
       "output_type": "stream",
       "stream": "stdout",
       "text": [
        "\n"
       ]
      }
     ],
     "prompt_number": 177
    },
    {
     "cell_type": "markdown",
     "metadata": {},
     "source": [
      "## Visualization"
     ]
    },
    {
     "cell_type": "code",
     "collapsed": false,
     "input": [
      "for ylabel, c in zip(np.unique(y), ['r.', 'b+']):\n",
      "    pl.plot(sf_X[y==ylabel, 17], sf_X[y==ylabel, 12], c)"
     ],
     "language": "python",
     "metadata": {},
     "outputs": [
      {
       "metadata": {},
       "output_type": "display_data",
       "png": "[encoded data removed]",
       "text": [
        "<matplotlib.figure.Figure at 0x10261850>"
       ]
      }
     ],
     "prompt_number": 195
    },
    {
     "cell_type": "code",
     "collapsed": false,
     "input": [],
     "language": "python",
     "metadata": {},
     "outputs": []
    }
   ],
   "metadata": {}
  }
 ]
}