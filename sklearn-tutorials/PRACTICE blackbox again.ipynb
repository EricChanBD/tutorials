{
 "metadata": {
  "name": ""
 },
 "nbformat": 3,
 "nbformat_minor": 0,
 "worksheets": [
  {
   "cells": [
    {
     "cell_type": "code",
     "collapsed": false,
     "input": [
      "from sklearn.ensemble import ExtraTreesClassifier\n",
      "import autodiff\n",
      "import numpy as np\n",
      "from sklearn.svm import SVC\n",
      "from sklearn.grid_search import GridSearchCV\n",
      "from sklearn.base import BaseEstimator, TransformerMixin"
     ],
     "language": "python",
     "metadata": {},
     "outputs": [],
     "prompt_number": 43
    },
    {
     "cell_type": "code",
     "collapsed": false,
     "input": [
      "import cPickle\n",
      "from sklearn.utils import shuffle\n",
      "black_X, black_y = cPickle.load(open('../ml-practice/data/blackbox.pkl'))\n",
      "black_X, black_y = shuffle(black_X, black_y)"
     ],
     "language": "python",
     "metadata": {},
     "outputs": [],
     "prompt_number": 5
    },
    {
     "cell_type": "code",
     "collapsed": false,
     "input": [
      "def soft_absolute(u):\n",
      "    return np.sqrt(u**2 + 1e-5)\n",
      "\n",
      "class SparseFilter(BaseEstimator, TransformerMixin):\n",
      "    def __init__(self, n_components = 100, activation = soft_absolute):\n",
      "        self.n_components = n_components\n",
      "        self.activation = activation\n",
      "    def get_objective(self, X):\n",
      "        def _objective(W):\n",
      "            Y = self.activation(np.dot(X, W))\n",
      "            YY = Y / np.sqrt(np.sum(Y**2, axis = 0)+1e-5)\n",
      "            YYY = YY / np.sqrt(np.sum(YY**2, axis=1)+1e-5)[:,np.newaxis]\n",
      "            cost = np.sum(YYY)\n",
      "            return cost\n",
      "        return _objective\n",
      "    def fit(self, X, y = None):\n",
      "        n_feats = X.shape[1]\n",
      "        W0 = np.random.uniform(low = -4.*np.sqrt(6./(n_feats+self.n_components)), \n",
      "                            high = 4.*np.sqrt(6./(n_feats+self.n_components)), \n",
      "                            size = (n_feats, self.n_components))\n",
      "        fn = self.get_objective(X)\n",
      "        self.W_ = autodiff.optimize.fmin_l_bfgs_b(fn, W0, \n",
      "                                                  maxfun=800, iprint=1) \n",
      "        return self\n",
      "    def transform(self, X):\n",
      "        Y = self.activation(np.dot(X, self.W_))\n",
      "        YY = Y / np.sqrt(np.sum(Y**2, axis = 0)+1e-5)\n",
      "        YYY = YY / np.sqrt(np.sum(YY**2, axis=1)+1e-5)[:,np.newaxis]\n",
      "        return YYY"
     ],
     "language": "python",
     "metadata": {},
     "outputs": [],
     "prompt_number": 51
    },
    {
     "cell_type": "code",
     "collapsed": false,
     "input": [
      "## feature learning\n",
      "sf = SparseFilter(n_components = 1000)\n",
      "feats_X = sf.fit_transform(black_X)"
     ],
     "language": "python",
     "metadata": {},
     "outputs": [],
     "prompt_number": 52
    },
    {
     "cell_type": "code",
     "collapsed": false,
     "input": [
      "## feature selection\n",
      "trees = ExtraTreesClassifier(n_estimators=600, max_features=50)\n",
      "%time trees.fit(feats_X, black_y)"
     ],
     "language": "python",
     "metadata": {},
     "outputs": [
      {
       "output_type": "stream",
       "stream": "stdout",
       "text": [
        "CPU times: user 7.91 s, sys: 56.2 ms, total: 7.96 s\n",
        "Wall time: 7.97 s\n"
       ]
      },
      {
       "metadata": {},
       "output_type": "pyout",
       "prompt_number": 53,
       "text": [
        "ExtraTreesClassifier(bootstrap=False, compute_importances=None,\n",
        "           criterion='gini', max_depth=None, max_features=50,\n",
        "           min_density=None, min_samples_leaf=1, min_samples_split=2,\n",
        "           n_estimators=600, n_jobs=1, oob_score=False, random_state=None,\n",
        "           verbose=0)"
       ]
      }
     ],
     "prompt_number": 53
    },
    {
     "cell_type": "code",
     "collapsed": false,
     "input": [
      "feature_importances = np.mean(np.asarray([m.feature_importances_ for m in trees.estimators_])\n",
      "                              , axis = 0)"
     ],
     "language": "python",
     "metadata": {},
     "outputs": [],
     "prompt_number": 57
    },
    {
     "cell_type": "code",
     "collapsed": false,
     "input": [
      "%pylab inline\n",
      "bar(range(feature_importances.shape[0]), feature_importances)"
     ],
     "language": "python",
     "metadata": {},
     "outputs": [
      {
       "output_type": "stream",
       "stream": "stdout",
       "text": [
        "Populating the interactive namespace from numpy and matplotlib\n"
       ]
      },
      {
       "metadata": {},
       "output_type": "pyout",
       "prompt_number": 58,
       "text": [
        "<Container object of 1000 artists>"
       ]
      },
      {
       "metadata": {},
       "output_type": "display_data",
       "png": "[encoded data removed]",
       "text": [
        "<matplotlib.figure.Figure at 0x11cecd5d0>"
       ]
      }
     ],
     "prompt_number": 58
    },
    {
     "cell_type": "code",
     "collapsed": false,
     "input": [
      "important_features = feature_importances.argsort()[-150:]\n",
      "print feature_importances[important_features]"
     ],
     "language": "python",
     "metadata": {},
     "outputs": [
      {
       "output_type": "stream",
       "stream": "stdout",
       "text": [
        "[ 0.00110072  0.00110628  0.00111219  0.001117    0.00112132  0.0011225\n",
        "  0.0011227   0.00114089  0.00114319  0.00114616  0.00115173  0.0011533\n",
        "  0.00115363  0.00115901  0.0011647   0.00116581  0.00117386  0.00117978\n",
        "  0.00118234  0.00118362  0.00118686  0.00118748  0.00119407  0.00119569\n",
        "  0.0011988   0.00120127  0.0012148   0.0012183   0.00122797  0.00122824\n",
        "  0.00123281  0.0012417   0.00124607  0.00124829  0.00125113  0.00125675\n",
        "  0.00125874  0.001268    0.00127     0.00127666  0.00128743  0.00128909\n",
        "  0.00128949  0.00130638  0.0013395   0.00134692  0.00136111  0.00137307\n",
        "  0.00137704  0.00137753  0.00140896  0.0014731   0.00148151  0.00148554\n",
        "  0.00148871  0.00151964  0.00153004  0.00153957  0.00155003  0.00156921\n",
        "  0.00158097  0.00158485  0.0015937   0.00161052  0.00162048  0.00162725\n",
        "  0.00163279  0.00164458  0.00164576  0.00165615  0.00170848  0.00171314\n",
        "  0.00171337  0.00172149  0.00173429  0.00174102  0.00174261  0.00180779\n",
        "  0.00181991  0.00182705  0.00183304  0.00184148  0.00192475  0.00192847\n",
        "  0.00192941  0.00194955  0.00196353  0.00197735  0.00200788  0.0020168\n",
        "  0.0020378   0.00203808  0.00206093  0.00206218  0.00208862  0.00216361\n",
        "  0.00218494  0.00218984  0.00225286  0.00225741  0.00229086  0.00231946\n",
        "  0.00240792  0.00242102  0.00242169  0.00242286  0.00242975  0.00244083\n",
        "  0.00250137  0.00253796  0.00254764  0.00255938  0.00256049  0.00257771\n",
        "  0.00257953  0.00259119  0.00260763  0.00266559  0.0027552   0.00277053\n",
        "  0.00283083  0.00285065  0.0029218   0.00300234  0.00301276  0.00314765\n",
        "  0.00323655  0.00327705  0.00337945  0.00341084  0.00376289  0.00383147\n",
        "  0.0038716   0.0039227   0.00392736  0.00403161  0.00407     0.00409783\n",
        "  0.00422126  0.00426369  0.00440178  0.0045195   0.00455982  0.00483735\n",
        "  0.00484704  0.00503146  0.00511596  0.0053382   0.00573078  0.00665775]\n"
       ]
      }
     ],
     "prompt_number": 89
    },
    {
     "cell_type": "code",
     "collapsed": false,
     "input": [
      "selected_feats = feats_X[:, important_features]\n",
      "print selected_feats.shape"
     ],
     "language": "python",
     "metadata": {},
     "outputs": [
      {
       "output_type": "stream",
       "stream": "stdout",
       "text": [
        "(1000, 150)\n"
       ]
      }
     ],
     "prompt_number": 90
    },
    {
     "cell_type": "code",
     "collapsed": false,
     "input": [
      "from sklearn.preprocessing import normalize\n",
      "normalized_feats = normalize(selected_feats)\n",
      "svc = SVC(kernel = 'rbf', )\n",
      "params = {'C': [0.1, 1, 100, 1000, 10000],\n",
      "          'gamma': [1e-3, 1e-2, 1e-1, 0., 1.]}\n",
      "gs = GridSearchCV(svc, params, cv = 3, n_jobs=-1)\n",
      "%time gs.fit(normalized_feats, black_y)\n",
      "print gs.best_params_\n",
      "print gs.best_score_\n",
      "print gs.best_estimator_.score(normalized_feats, black_y)"
     ],
     "language": "python",
     "metadata": {},
     "outputs": [
      {
       "output_type": "stream",
       "stream": "stdout",
       "text": [
        "CPU times: user 334 ms, sys: 95.6 ms, total: 430 ms\n",
        "Wall time: 4.2 s\n",
        "{'C': 1, 'gamma': 1.0}\n",
        "0.597\n",
        "0.83"
       ]
      },
      {
       "output_type": "stream",
       "stream": "stdout",
       "text": [
        "\n"
       ]
      }
     ],
     "prompt_number": 99
    },
    {
     "cell_type": "code",
     "collapsed": false,
     "input": [
      "from sklearn.ensemble import RandomForestClassifier\n",
      "rf = RandomForestClassifier()\n",
      "params = {'n_estimators': [100, 300, 500, 600],\n",
      "          'max_features': [10, 50, 70, 100]}\n",
      "gs = GridSearchCV(rf, params, cv = 3, n_jobs=-1)\n",
      "%time gs.fit(normalized_feats, black_y)\n",
      "print gs.best_params_\n",
      "print gs.best_score_"
     ],
     "language": "python",
     "metadata": {},
     "outputs": [
      {
       "output_type": "stream",
       "stream": "stdout",
       "text": [
        "CPU times: user 14.1 s, sys: 161 ms, total: 14.3 s\n",
        "Wall time: 3min 38s\n",
        "{'max_features': 50, 'n_estimators': 300}\n",
        "0.546\n"
       ]
      }
     ],
     "prompt_number": 93
    },
    {
     "cell_type": "code",
     "collapsed": false,
     "input": [
      "from sklearn.ensemble import RandomForestClassifier"
     ],
     "language": "python",
     "metadata": {},
     "outputs": [],
     "prompt_number": 92
    },
    {
     "cell_type": "markdown",
     "metadata": {},
     "source": [
      "Based on winner's solution - sparse filtering for feature learning, random forest for feature selection, and SVM as a final result\n",
      "\n",
      "It is suprising that svc is performing better than RandomForestClassifier, probably because the number of samples is NOT large enough"
     ]
    },
    {
     "cell_type": "code",
     "collapsed": false,
     "input": [],
     "language": "python",
     "metadata": {},
     "outputs": [
      {
       "metadata": {},
       "output_type": "pyout",
       "prompt_number": 98,
       "text": [
        "0.82999999999999996"
       ]
      }
     ],
     "prompt_number": 98
    },
    {
     "cell_type": "code",
     "collapsed": false,
     "input": [],
     "language": "python",
     "metadata": {},
     "outputs": []
    }
   ],
   "metadata": {}
  }
 ]
}