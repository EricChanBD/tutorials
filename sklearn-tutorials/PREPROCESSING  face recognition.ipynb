{
 "metadata": {
  "name": ""
 },
 "nbformat": 3,
 "nbformat_minor": 0,
 "worksheets": [
  {
   "cells": [
    {
     "cell_type": "code",
     "collapsed": false,
     "input": [
      "from sklearn.datasets import fetch_lfw_people\n",
      "from sklearn.cross_validation import train_test_split\n",
      "from sklearn.grid_search import GridSearchCV\n",
      "from sklearn import metrics\n",
      "from sklearn.decomposition import RandomizedPCA\n",
      "from sklearn.svm import SVC\n",
      "from sklearn.ensemble import ExtraTreesClassifier\n",
      "from sklearn.pipeline import Pipeline\n",
      "from sklearn.utils import shuffle\n",
      "\n",
      "import matplotlib.pyplot as plt\n",
      "%pylab inline --no-import-all"
     ],
     "language": "python",
     "metadata": {},
     "outputs": [
      {
       "output_type": "stream",
       "stream": "stdout",
       "text": [
        "Populating the interactive namespace from numpy and matplotlib\n"
       ]
      }
     ],
     "prompt_number": 24
    },
    {
     "cell_type": "code",
     "collapsed": false,
     "input": [
      "lfw_people = fetch_lfw_people(min_faces_per_person=70, resize = 0.4)"
     ],
     "language": "python",
     "metadata": {},
     "outputs": [],
     "prompt_number": 2
    },
    {
     "cell_type": "markdown",
     "metadata": {},
     "source": [
      "## Image Data Classification by Different Models\n",
      "\n",
      "- WHITENING (e.g. PCA_WHITENING) IS CRUCIAL for models such as SVM\n",
      "- WHITENING may NOT be curcial for models such as decision trees\n",
      "- When doing PCA, DONT PUT it in a pipeline as it will refit a PCA for each cross-fold, try to FIT AS MUCH DATA AS POSSIBLE FOR UNSUPERVISED LEARNING "
     ]
    },
    {
     "cell_type": "code",
     "collapsed": false,
     "input": [
      "X = lfw_people.data\n",
      "y = lfw_people.target\n",
      "X, y = shuffle(X, y)\n",
      "train_X, test_X, train_y, test_y = train_test_split(X, y,\n",
      "                                                    test_size = 0.2)\n",
      "print train_X.shape, test_X.shape\n",
      "print np.unique(y)"
     ],
     "language": "python",
     "metadata": {},
     "outputs": [
      {
       "output_type": "stream",
       "stream": "stdout",
       "text": [
        "(1030, 1850) (258, 1850)\n",
        "[0 1 2 3 4 5 6]\n"
       ]
      }
     ],
     "prompt_number": 50
    },
    {
     "cell_type": "code",
     "collapsed": false,
     "input": [
      "## PCA WHITEN OR NOT (ON AS MUCH DATA AS POSSIBLE) \n",
      "pca_whiten = RandomizedPCA(n_components=150, whiten=True)\n",
      "pca = RandomizedPCA(n_components=150, whiten = False)\n",
      "\n",
      "white_train_X = pca_whiten.fit_transform(train_X)\n",
      "white_test_X = pca_whiten.transform(test_X)\n",
      "\n",
      "pca_train_X = pca.fit_transform(train_X)\n",
      "pca_test_X = pca.transform(test_X)\n",
      "\n",
      "datasets = {\n",
      "    'raw': [(train_X, train_y), (test_X, test_y)],\n",
      "    'pca': [(pca_train_X, train_y), (pca_test_X, test_y)],\n",
      "    'white': [(white_train_X, train_y), (white_test_X, test_y)]\n",
      "}"
     ],
     "language": "python",
     "metadata": {},
     "outputs": [],
     "prompt_number": 35
    },
    {
     "cell_type": "code",
     "collapsed": false,
     "input": [
      "trees = ExtraTreesClassifier()\n",
      "svc = SVC(kernel = 'rbf')\n",
      "\n",
      "trees_params = {\n",
      "    'n_estimators': [100, 200, 1000],\n",
      "    'max_features': [0.05, 0.2, 0.5, 1.0]\n",
      "}\n",
      "svc_params = {\n",
      "    'C': [5e2, 1e3, 5e3, 1e4, 5e4],\n",
      "    'gamma': [1e-4, 5e-4, 1e-3, 5e-3, 1e-2, 1e-1]\n",
      "    \n",
      "}\n",
      "\n",
      "models = {\n",
      "    'trees': (trees, trees_params),\n",
      "    'svc': (svc, svc_params)\n",
      "}"
     ],
     "language": "python",
     "metadata": {},
     "outputs": [],
     "prompt_number": 39
    },
    {
     "cell_type": "code",
     "collapsed": false,
     "input": [
      "from itertools import product\n",
      "from sklearn.grid_search import GridSearchCV\n",
      "\n",
      "def benchmark(candidate):\n",
      "    from sklearn.grid_search import GridSearchCV\n",
      "    from sklearn.svm import SVC\n",
      "    from sklearn.ensemble import ExtraTreesClassifier\n",
      "    (data_name, data), (model_name, model_infor) = candidate\n",
      "    train_data, test_data = data\n",
      "    model, param_grid = model_infor\n",
      "    gs = GridSearchCV(model, param_grid, cv = 3, n_jobs=-1)\n",
      "    gs.fit(*train_data)\n",
      "    cv_score = gs.best_score_\n",
      "    test_score = gs.best_estimator_.score(*test_data)\n",
      "    return (model_name, data_name, cv_score, test_score, gs.best_params_)"
     ],
     "language": "python",
     "metadata": {},
     "outputs": [],
     "prompt_number": 40
    },
    {
     "cell_type": "code",
     "collapsed": false,
     "input": [
      "candidates = product(datasets.items(), models.items())\n",
      "results = []\n",
      "for candidate in candidates:\n",
      "    print '============================='\n",
      "    results.append(benchmark(candidate))\n",
      "    print results[-1]"
     ],
     "language": "python",
     "metadata": {},
     "outputs": [
      {
       "output_type": "stream",
       "stream": "stdout",
       "text": [
        "=============================\n"
       ]
      },
      {
       "output_type": "stream",
       "stream": "stdout",
       "text": [
        "('svc', 'raw', 0.40194174757281553, 0.44961240310077522, {'C': 500.0, 'gamma': 0.0001})\n",
        "=============================\n"
       ]
      },
      {
       "output_type": "stream",
       "stream": "stdout",
       "text": [
        "('trees', 'raw', 0.66407766990291262, 0.68217054263565891, {'max_features': 0.2, 'n_estimators': 1000})\n",
        "=============================\n"
       ]
      },
      {
       "output_type": "stream",
       "stream": "stdout",
       "text": [
        "('svc', 'white', 0.80679611650485439, 0.85658914728682167, {'C': 500.0, 'gamma': 0.005})\n",
        "=============================\n"
       ]
      },
      {
       "output_type": "stream",
       "stream": "stdout",
       "text": [
        "('trees', 'white', 0.62038834951456312, 0.68992248062015504, {'max_features': 1.0, 'n_estimators': 1000})\n",
        "=============================\n"
       ]
      },
      {
       "output_type": "stream",
       "stream": "stdout",
       "text": [
        "('svc', 'pca', 0.40194174757281553, 0.44961240310077522, {'C': 500.0, 'gamma': 0.0001})\n",
        "=============================\n"
       ]
      },
      {
       "output_type": "stream",
       "stream": "stdout",
       "text": [
        "('trees', 'pca', 0.60485436893203881, 0.70930232558139539, {'max_features': 1.0, 'n_estimators': 1000})\n"
       ]
      }
     ],
     "prompt_number": 41
    },
    {
     "cell_type": "markdown",
     "metadata": {},
     "source": [
      "### Several Interesting Things to Observe:\n",
      "1. TEST **ACCURACIES** (shuffled) tend to be HIGHER than CROSS-VALIDATION ACCURACIES\n",
      "2. **SVC**'best performance is better than **trees** (is it because it is based on one-vs-one and trees is based on one-vs-other)?\n",
      "3. Tree models are more **sensitive** to number of features (the larger the better) than normalization\n",
      "4. SVC models are more **sensitive** to normalization and (number of features - the smaller the better)?\n",
      "5. **whitening** has HUGE effect on SVC, but doesnt affect SVC that much\n",
      "6. The question is how to improve RandomForest's accuracy? -- does it help by using MORE trees with FEWER features, so each tree will overfit ? - Using a big n_estimators and a small max_features for RAW data does NOT seem to work.\n",
      "\n",
      "***Put it simple, SVM + PCA (dimensionality reduction) + Whitening is very good for face recognition***"
     ]
    },
    {
     "cell_type": "code",
     "collapsed": false,
     "input": [
      "## HOW TO BOOST the performance of random trees - one way could be\n",
      "## to use more advanced features such as sparse filtering.\n",
      "## BUT why does a SVM with PCA white has such a higher accuracy than\n",
      "## random forest?\n",
      "from sklearn.cross_validation import cross_val_score\n",
      "super_trees = ExtraTreesClassifier(n_estimators=300, max_depth=None, \n",
      "                                   max_features=0.5, n_jobs=-1, \n",
      "                                   bootstrap=False)\n",
      "print cross_val_score(super_trees, train_X, train_y, cv = 3)"
     ],
     "language": "python",
     "metadata": {},
     "outputs": [
      {
       "output_type": "stream",
       "stream": "stdout",
       "text": [
        "[ 0.67151163  0.66472303  0.67638484]\n"
       ]
      }
     ],
     "prompt_number": 44
    },
    {
     "cell_type": "code",
     "collapsed": false,
     "input": [
      "## Is it because the one-vs-one (SVM) and one-vs-rest (RBF) difference?\n",
      "## IT SEEMS NOT!!\n",
      "from sklearn.multiclass import OneVsOneClassifier\n",
      "super_trees = OneVsOneClassifier(ExtraTreesClassifier(n_estimators=1000, max_depth=None, \n",
      "                                   max_features=0.5, n_jobs=1, \n",
      "                                   bootstrap=False),\n",
      "                                 n_jobs = -1)\n",
      "print cross_val_score(super_trees, train_X, train_y, cv = 3)"
     ],
     "language": "python",
     "metadata": {},
     "outputs": [
      {
       "output_type": "stream",
       "stream": "stdout",
       "text": [
        "[ 0.66569767  0.67346939  0.70553936]\n"
       ]
      }
     ],
     "prompt_number": 49
    },
    {
     "cell_type": "code",
     "collapsed": false,
     "input": [
      "## MAKE IT BETTER BY USING TREES ON FEATURE SELECTION and USE SVM\n",
      "trees_selector = ExtraTreesClassifier(n_estimators=1000, n_jobs=-1, max_features=1.0)\n",
      "trees_selector.fit(white_train_X, train_y)"
     ],
     "language": "python",
     "metadata": {},
     "outputs": [
      {
       "metadata": {},
       "output_type": "pyout",
       "prompt_number": 65,
       "text": [
        "ExtraTreesClassifier(bootstrap=False, compute_importances=None,\n",
        "           criterion='gini', max_depth=None, max_features=1.0,\n",
        "           min_density=None, min_samples_leaf=1, min_samples_split=2,\n",
        "           n_estimators=1000, n_jobs=-1, oob_score=False,\n",
        "           random_state=None, verbose=0)"
       ]
      }
     ],
     "prompt_number": 65
    },
    {
     "cell_type": "code",
     "collapsed": false,
     "input": [
      "trees_selector.estimators_[0].feature_importances_\n",
      "feature_importances = np.mean(np.asarray([t.feature_importances_ for t in trees_selector.estimators_]), axis = 0)\n",
      "figure(figsize=(32, 8))\n",
      "plt.bar(np.arange(feature_importances.shape[0]), feature_importances)"
     ],
     "language": "python",
     "metadata": {},
     "outputs": [
      {
       "metadata": {},
       "output_type": "pyout",
       "prompt_number": 66,
       "text": [
        "<Container object of 150 artists>"
       ]
      },
      {
       "metadata": {},
       "output_type": "display_data",
       "png": "[encoded data removed]",
       "text": [
        "<matplotlib.figure.Figure at 0x7f44752ff190>"
       ]
      }
     ],
     "prompt_number": 66
    },
    {
     "cell_type": "code",
     "collapsed": false,
     "input": [],
     "language": "python",
     "metadata": {},
     "outputs": []
    }
   ],
   "metadata": {}
  }
 ]
}