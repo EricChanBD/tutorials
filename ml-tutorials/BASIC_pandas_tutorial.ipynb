{
 "metadata": {
  "name": "BASIC_pandas_tutorial"
 },
 "nbformat": 3,
 "nbformat_minor": 0,
 "worksheets": [
  {
   "cells": [
    {
     "cell_type": "markdown",
     "metadata": {},
     "source": [
      "# Pandas for Data Profiling & Analysis\n",
      "\n",
      "*Finally a better indexing interface in pandas 0.12*"
     ]
    },
    {
     "cell_type": "code",
     "collapsed": false,
     "input": [
      "%pylab inline\n",
      "import pandas as pd\n",
      "import numpy as np\n",
      "from IPython.core import display"
     ],
     "language": "python",
     "metadata": {},
     "outputs": [
      {
       "output_type": "stream",
       "stream": "stdout",
       "text": [
        "\n",
        "Welcome to pylab, a matplotlib-based Python environment [backend: module://IPython.zmq.pylab.backend_inline].\n",
        "For more information, type 'help(pylab)'.\n"
       ]
      }
     ],
     "prompt_number": 45
    },
    {
     "cell_type": "markdown",
     "metadata": {},
     "source": [
      "## 1. Object Creation\n",
      "- Series: an iterable, and an index\n",
      "- DataFrame: values (matrix of diffent columns with different dtypes), index, columns (column index)\n",
      "- DataFrame: construction in 2 ways: (1) matrix way (iterable of rows) (2) column way (dictioniary of columns)"
     ]
    },
    {
     "cell_type": "code",
     "collapsed": false,
     "input": [
      "s = pd.Series(data = [1, 3, 5, np.nan, 6, 8])\n",
      "s"
     ],
     "language": "python",
     "metadata": {},
     "outputs": [
      {
       "output_type": "pyout",
       "prompt_number": 2,
       "text": [
        "0     1\n",
        "1     3\n",
        "2     5\n",
        "3   NaN\n",
        "4     6\n",
        "5     8\n",
        "dtype: float64"
       ]
      }
     ],
     "prompt_number": 2
    },
    {
     "cell_type": "code",
     "collapsed": false,
     "input": [
      "dates = pd.date_range(\"20130101\", periods=6) # periods in days\n",
      "df = pd.DataFrame(data = np.random.randn(6, 4), index = dates, columns=list(\"ABCD\"))\n",
      "df"
     ],
     "language": "python",
     "metadata": {},
     "outputs": [
      {
       "html": [
        "<div style=\"max-height:1000px;max-width:1500px;overflow:auto;\">\n",
        "<table border=\"1\" class=\"dataframe\">\n",
        "  <thead>\n",
        "    <tr style=\"text-align: right;\">\n",
        "      <th></th>\n",
        "      <th>A</th>\n",
        "      <th>B</th>\n",
        "      <th>C</th>\n",
        "      <th>D</th>\n",
        "    </tr>\n",
        "  </thead>\n",
        "  <tbody>\n",
        "    <tr>\n",
        "      <th>2013-01-01</th>\n",
        "      <td>-0.030813</td>\n",
        "      <td>-0.865584</td>\n",
        "      <td>-0.433447</td>\n",
        "      <td> 0.507878</td>\n",
        "    </tr>\n",
        "    <tr>\n",
        "      <th>2013-01-02</th>\n",
        "      <td> 0.170206</td>\n",
        "      <td>-1.967499</td>\n",
        "      <td>-0.362710</td>\n",
        "      <td>-1.417809</td>\n",
        "    </tr>\n",
        "    <tr>\n",
        "      <th>2013-01-03</th>\n",
        "      <td>-0.964603</td>\n",
        "      <td> 0.761011</td>\n",
        "      <td>-0.286228</td>\n",
        "      <td>-0.162099</td>\n",
        "    </tr>\n",
        "    <tr>\n",
        "      <th>2013-01-04</th>\n",
        "      <td> 1.204170</td>\n",
        "      <td> 0.711299</td>\n",
        "      <td> 0.451529</td>\n",
        "      <td> 0.546794</td>\n",
        "    </tr>\n",
        "    <tr>\n",
        "      <th>2013-01-05</th>\n",
        "      <td>-1.193963</td>\n",
        "      <td> 0.739754</td>\n",
        "      <td>-0.405187</td>\n",
        "      <td>-0.366887</td>\n",
        "    </tr>\n",
        "    <tr>\n",
        "      <th>2013-01-06</th>\n",
        "      <td> 1.015976</td>\n",
        "      <td>-0.962043</td>\n",
        "      <td> 0.178670</td>\n",
        "      <td> 0.669697</td>\n",
        "    </tr>\n",
        "  </tbody>\n",
        "</table>\n",
        "</div>"
       ],
       "output_type": "pyout",
       "prompt_number": 73,
       "text": [
        "                   A         B         C         D\n",
        "2013-01-01 -0.030813 -0.865584 -0.433447  0.507878\n",
        "2013-01-02  0.170206 -1.967499 -0.362710 -1.417809\n",
        "2013-01-03 -0.964603  0.761011 -0.286228 -0.162099\n",
        "2013-01-04  1.204170  0.711299  0.451529  0.546794\n",
        "2013-01-05 -1.193963  0.739754 -0.405187 -0.366887\n",
        "2013-01-06  1.015976 -0.962043  0.178670  0.669697"
       ]
      }
     ],
     "prompt_number": 73
    },
    {
     "cell_type": "code",
     "collapsed": false,
     "input": [
      "## ways of creating series/df with duplicate values\n",
      "df2 = pd.DataFrame({\n",
      "    \"A\": 1.,\n",
      "    \"B\": pd.Timestamp(\"20130102\"),\n",
      "    \"C\": pd.Series(1, index = range(4), dtype=\"float32\"),\n",
      "    \"D\": np.array([3] * 4, dtype = 'int32'),\n",
      "    \"E\": 'foo'\n",
      "})\n",
      "print df2\n",
      "print df2.dtypes"
     ],
     "language": "python",
     "metadata": {},
     "outputs": [
      {
       "output_type": "stream",
       "stream": "stdout",
       "text": [
        "   A                   B  C  D    E\n",
        "0  1 2013-01-02 00:00:00  1  3  foo\n",
        "1  1 2013-01-02 00:00:00  1  3  foo\n",
        "2  1 2013-01-02 00:00:00  1  3  foo\n",
        "3  1 2013-01-02 00:00:00  1  3  foo\n",
        "A           float64\n",
        "B    datetime64[ns]\n",
        "C           float32\n",
        "D             int32\n",
        "E            object\n",
        "dtype: object\n"
       ]
      }
     ],
     "prompt_number": 4
    },
    {
     "cell_type": "markdown",
     "metadata": {},
     "source": [
      "## 2. Viewing Data\n",
      "- Antonomy of data: index, columns, values (data)\n",
      "- by rows: head(), tail()\n",
      "- summary: describe()\n",
      "- sorting: by axis or by value"
     ]
    },
    {
     "cell_type": "code",
     "collapsed": false,
     "input": [
      "## Basic elements of a dataframe\n",
      "print df2.values\n",
      "print\n",
      "print df2.values.dtype\n",
      "print \n",
      "print df2.index\n",
      "print \n",
      "print df2.columns\n",
      "print \n",
      "print df2.dtypes"
     ],
     "language": "python",
     "metadata": {},
     "outputs": [
      {
       "output_type": "stream",
       "stream": "stdout",
       "text": [
        "[[1.0 datetime.datetime(2013, 1, 2, 0, 0) 1.0 3 'foo']\n",
        " [1.0 datetime.datetime(2013, 1, 2, 0, 0) 1.0 3 'foo']\n",
        " [1.0 datetime.datetime(2013, 1, 2, 0, 0) 1.0 3 'foo']\n",
        " [1.0 datetime.datetime(2013, 1, 2, 0, 0) 1.0 3 'foo']]\n",
        "\n",
        "object\n",
        "\n",
        "Int64Index([0, 1, 2, 3], dtype=int64)\n",
        "\n",
        "Index([u'A', u'B', u'C', u'D', u'E'], dtype=object)\n",
        "\n",
        "A           float64\n",
        "B    datetime64[ns]\n",
        "C           float32\n",
        "D             int32\n",
        "E            object\n",
        "dtype: object\n"
       ]
      }
     ],
     "prompt_number": 5
    },
    {
     "cell_type": "code",
     "collapsed": false,
     "input": [
      "## rows, columns\n",
      "print df2.head(n=3)\n",
      "print \n",
      "print df2.tail(n=5)\n",
      "print \n",
      "print df2.describe() # B, E are missing\n",
      "print\n",
      "print df2.T"
     ],
     "language": "python",
     "metadata": {},
     "outputs": [
      {
       "output_type": "stream",
       "stream": "stdout",
       "text": [
        "   A                   B  C  D    E\n",
        "0  1 2013-01-02 00:00:00  1  3  foo\n",
        "1  1 2013-01-02 00:00:00  1  3  foo\n",
        "2  1 2013-01-02 00:00:00  1  3  foo\n",
        "\n",
        "   A                   B  C  D    E\n",
        "0  1 2013-01-02 00:00:00  1  3  foo\n",
        "1  1 2013-01-02 00:00:00  1  3  foo\n",
        "2  1 2013-01-02 00:00:00  1  3  foo\n",
        "3  1 2013-01-02 00:00:00  1  3  foo\n",
        "\n",
        "       A  C  D\n",
        "count  4  4  4\n",
        "mean   1  1  3\n",
        "std    0  0  0\n",
        "min    1  1  3\n",
        "25%    1  1  3\n",
        "50%    1  1  3\n",
        "75%    1  1  3\n",
        "max    1  1  3\n",
        "\n",
        "                     0                    1                    2                    3\n",
        "A                    1                    1                    1                    1\n",
        "B  2013-01-02 00:00:00  2013-01-02 00:00:00  2013-01-02 00:00:00  2013-01-02 00:00:00\n",
        "C                    1                    1                    1                    1\n",
        "D                    3                    3                    3                    3\n",
        "E                  foo                  foo                  foo                  foo\n"
       ]
      }
     ],
     "prompt_number": 6
    },
    {
     "cell_type": "code",
     "collapsed": false,
     "input": [
      "## MOST COMMON CASE - sort by columns, by specifying columns and axis must be 0\n",
      "## return new values\n",
      "sorted_df = df.sort(columns = [\"B\", \"C\"], ascending=[0, 1])\n",
      "print df\n",
      "print \n",
      "print sorted_df\n",
      "print \n",
      "## LESS COMMON CASE - sort by rows by specifying axis = 1\n",
      "## normal row order\n",
      "print df.sort(axis = 1, ascending=1)\n",
      "## reverse row order\n",
      "print \n",
      "print df.sort(axis = 1, ascending=0)"
     ],
     "language": "python",
     "metadata": {},
     "outputs": [
      {
       "output_type": "stream",
       "stream": "stdout",
       "text": [
        "                   A         B         C         D\n",
        "2013-01-01  1.803674  1.435856  1.368229  1.351646\n",
        "2013-01-02 -2.017179  0.583955  1.025420 -1.153183\n",
        "2013-01-03  0.307859  1.068456  0.147881 -0.631105\n",
        "2013-01-04 -1.549112 -0.255675  0.135599 -0.935568\n",
        "2013-01-05 -0.046233 -0.512905 -1.658730  0.473678\n",
        "2013-01-06 -1.121827 -1.050659  2.499783  1.136633\n",
        "\n",
        "                   A         B         C         D\n",
        "2013-01-01  1.803674  1.435856  1.368229  1.351646\n",
        "2013-01-03  0.307859  1.068456  0.147881 -0.631105\n",
        "2013-01-02 -2.017179  0.583955  1.025420 -1.153183\n",
        "2013-01-04 -1.549112 -0.255675  0.135599 -0.935568\n",
        "2013-01-05 -0.046233 -0.512905 -1.658730  0.473678\n",
        "2013-01-06 -1.121827 -1.050659  2.499783  1.136633\n",
        "\n",
        "                   A         B         C         D\n",
        "2013-01-01  1.803674  1.435856  1.368229  1.351646\n",
        "2013-01-02 -2.017179  0.583955  1.025420 -1.153183\n",
        "2013-01-03  0.307859  1.068456  0.147881 -0.631105\n",
        "2013-01-04 -1.549112 -0.255675  0.135599 -0.935568\n",
        "2013-01-05 -0.046233 -0.512905 -1.658730  0.473678\n",
        "2013-01-06 -1.121827 -1.050659  2.499783  1.136633\n",
        "\n",
        "                   D         C         B         A\n",
        "2013-01-01  1.351646  1.368229  1.435856  1.803674\n",
        "2013-01-02 -1.153183  1.025420  0.583955 -2.017179\n",
        "2013-01-03 -0.631105  0.147881  1.068456  0.307859\n",
        "2013-01-04 -0.935568  0.135599 -0.255675 -1.549112\n",
        "2013-01-05  0.473678 -1.658730 -0.512905 -0.046233\n",
        "2013-01-06  1.136633  2.499783 -1.050659 -1.121827\n"
       ]
      }
     ],
     "prompt_number": 7
    },
    {
     "cell_type": "markdown",
     "metadata": {},
     "source": [
      "## 3. Selection - ALL OF THEM USE an INDEXING SYNTAX\n",
      "- Select by label/index: df.at[,] or df.loc[,] - support slicing, scaler indexing, and explict index list\n",
      "- Select by position (more alike numpy): df.iat[], df.iloc[] - support slicing, scaler indexing and explict index list\n",
      "- Boolean (conditional) selection, always resulting in a matrix to be selected - (1) INDEX BOOLEAN is a MATRIX - zig-zag resulted matrix (2) INDEX BOOLEAN is a VECTOR - regular-shaped resulted matrix -- see examples below\n",
      "- **where** operation with setting\n",
      "- traditional ix[] or [] operations\n",
      "- suggest to use loc[] instead of at[] as the first one is more general in usage"
     ]
    },
    {
     "cell_type": "code",
     "collapsed": false,
     "input": [
      "## selection by index/row\n",
      "print df\n",
      "print '>> selecting one element by scalar index'\n",
      "print df.loc[pd.Timestamp(\"2013-01-01\", ), \"A\"].shape # key error if the index is NOT right\n",
      "print '>> selecting by slicing (inclusive at both ends)'\n",
      "print df.loc[pd.date_range(\"2013-01-01\",\"2013-01-05\")].shape # does not work with at\n",
      "print '>> selecting by explict listing'\n",
      "print df.loc[[pd.Timestamp(\"20130101\"), pd.Timestamp(\"20130104\")], [\"A\", \"D\"]].shape\n",
      "print \">> selecting columns\"\n",
      "print df.loc[:, \"A\"].shape"
     ],
     "language": "python",
     "metadata": {},
     "outputs": [
      {
       "output_type": "stream",
       "stream": "stdout",
       "text": [
        "                   A         B         C         D\n",
        "2013-01-01  1.803674  1.435856  1.368229  1.351646\n",
        "2013-01-02 -2.017179  0.583955  1.025420 -1.153183\n",
        "2013-01-03  0.307859  1.068456  0.147881 -0.631105\n",
        "2013-01-04 -1.549112 -0.255675  0.135599 -0.935568\n",
        "2013-01-05 -0.046233 -0.512905 -1.658730  0.473678\n",
        "2013-01-06 -1.121827 -1.050659  2.499783  1.136633\n",
        ">> selecting one element by scalar index\n",
        "()\n",
        ">> selecting by slicing (inclusive at both ends)\n",
        "(5, 4)\n",
        ">> selecting by explict listing\n",
        "(2, 2)\n",
        ">> selecting columns\n",
        "(6,)\n"
       ]
      }
     ],
     "prompt_number": 8
    },
    {
     "cell_type": "code",
     "collapsed": false,
     "input": [
      "## selection by position (from 0 ~ shape[]-1)\n",
      "print df\n",
      "print '>> selecting one element by scalar index'\n",
      "print df.iloc[1, 1]\n",
      "print '>> selecting by slicing (excluding due to slicing)'\n",
      "print df.iloc[1:3, :3]\n",
      "print '>> selecting by explicit listing'\n",
      "print df.iloc[[0, 3], [0, 3]]\n",
      "print '>> selecting a single column'\n",
      "print df.iloc[:, 1].shape"
     ],
     "language": "python",
     "metadata": {},
     "outputs": [
      {
       "output_type": "stream",
       "stream": "stdout",
       "text": [
        "                   A         B         C         D\n",
        "2013-01-01  1.803674  1.435856  1.368229  1.351646\n",
        "2013-01-02 -2.017179  0.583955  1.025420 -1.153183\n",
        "2013-01-03  0.307859  1.068456  0.147881 -0.631105\n",
        "2013-01-04 -1.549112 -0.255675  0.135599 -0.935568\n",
        "2013-01-05 -0.046233 -0.512905 -1.658730  0.473678\n",
        "2013-01-06 -1.121827 -1.050659  2.499783  1.136633\n",
        ">> selecting one element by scalar index\n",
        "0.583954623432\n",
        ">> selecting by slicing (excluding due to slicing)\n",
        "                   A         B         C\n",
        "2013-01-02 -2.017179  0.583955  1.025420\n",
        "2013-01-03  0.307859  1.068456  0.147881\n",
        ">> selecting by explicit listing\n",
        "                   A         D\n",
        "2013-01-01  1.803674  1.351646\n",
        "2013-01-04 -1.549112 -0.935568\n",
        ">> selecting a single column\n",
        "(6,)\n"
       ]
      }
     ],
     "prompt_number": 9
    },
    {
     "cell_type": "code",
     "collapsed": false,
     "input": [
      "## Boolean / Conditional Selection - ON WHOLE MATRIX\n",
      "## MOST COMMON CASE - use boolean selection to do summarization or assignment\n",
      "print df\n",
      "print df > 0\n",
      "print df[df > 0] ## ZIG-ZAG matrix\n",
      "df[df > 0] = -100\n",
      "print df\n",
      "print '>> reset'\n",
      "df = pd.DataFrame(data = np.random.randn(6, 4), index = df.index, columns = df.columns)\n",
      "print df"
     ],
     "language": "python",
     "metadata": {},
     "outputs": [
      {
       "output_type": "stream",
       "stream": "stdout",
       "text": [
        "                   A         B         C         D\n",
        "2013-01-01  1.803674  1.435856  1.368229  1.351646\n",
        "2013-01-02 -2.017179  0.583955  1.025420 -1.153183\n",
        "2013-01-03  0.307859  1.068456  0.147881 -0.631105\n",
        "2013-01-04 -1.549112 -0.255675  0.135599 -0.935568\n",
        "2013-01-05 -0.046233 -0.512905 -1.658730  0.473678\n",
        "2013-01-06 -1.121827 -1.050659  2.499783  1.136633\n",
        "                A      B      C      D\n",
        "2013-01-01   True   True   True   True\n",
        "2013-01-02  False   True   True  False\n",
        "2013-01-03   True   True   True  False\n",
        "2013-01-04  False  False   True  False\n",
        "2013-01-05  False  False  False   True\n",
        "2013-01-06  False  False   True   True\n",
        "                   A         B         C         D\n",
        "2013-01-01  1.803674  1.435856  1.368229  1.351646\n",
        "2013-01-02       NaN  0.583955  1.025420       NaN\n",
        "2013-01-03  0.307859  1.068456  0.147881       NaN\n",
        "2013-01-04       NaN       NaN  0.135599       NaN\n",
        "2013-01-05       NaN       NaN       NaN  0.473678\n",
        "2013-01-06       NaN       NaN  2.499783  1.136633\n",
        "                     A           B          C           D\n",
        "2013-01-01 -100.000000 -100.000000 -100.00000 -100.000000\n",
        "2013-01-02   -2.017179 -100.000000 -100.00000   -1.153183\n",
        "2013-01-03 -100.000000 -100.000000 -100.00000   -0.631105\n",
        "2013-01-04   -1.549112   -0.255675 -100.00000   -0.935568\n",
        "2013-01-05   -0.046233   -0.512905   -1.65873 -100.000000\n",
        "2013-01-06   -1.121827   -1.050659 -100.00000 -100.000000\n",
        ">> reset\n",
        "                   A         B         C         D\n",
        "2013-01-01  0.307393 -0.478925  0.888284  0.250375\n",
        "2013-01-02  0.689614  0.949111 -0.325068 -1.772610\n",
        "2013-01-03  0.449991 -0.698569 -0.660214 -1.574039\n",
        "2013-01-04  0.696428 -1.042774  0.482444 -2.030131\n",
        "2013-01-05  0.647665 -0.095332  0.178925 -1.374787\n",
        "2013-01-06  1.993792  2.377870  0.161765 -1.319822"
       ]
      },
      {
       "output_type": "stream",
       "stream": "stdout",
       "text": [
        "\n"
       ]
      }
     ],
     "prompt_number": 10
    },
    {
     "cell_type": "code",
     "collapsed": false,
     "input": [
      "## Boolean / Conditional Selection - ON CERTAIN COLUMN\n",
      "print df\n",
      "print df.A > 0\n",
      "print '\\nselecting df elements of df.A > 0'\n",
      "print df[df.A > 0] # selecting rows\n",
      "print '\\nselecting df elements of df.A > 0 and df.D < 0'\n",
      "print df[np.logical_and(df.A > 0, df.D < 0)]\n",
      "## SAME AS ABOVE - NOTE THE PARENTHSIS\n",
      "print df[(df.A > 0) & (df.D < 0)]\n",
      "df[df.A > 0] = 100 ## assiging whole bunch of rows\n",
      "print df\n",
      "## reset\n",
      "df = pd.DataFrame(data = np.random.randn(6, 4), index = df.index, columns = df.columns)"
     ],
     "language": "python",
     "metadata": {},
     "outputs": [
      {
       "output_type": "stream",
       "stream": "stdout",
       "text": [
        "                   A         B         C         D\n",
        "2013-01-01 -0.030813 -0.865584 -0.433447  0.507878\n",
        "2013-01-02  0.170206 -1.967499 -0.362710 -1.417809\n",
        "2013-01-03 -0.964603  0.761011 -0.286228 -0.162099\n",
        "2013-01-04  1.204170  0.711299  0.451529  0.546794\n",
        "2013-01-05 -1.193963  0.739754 -0.405187 -0.366887\n",
        "2013-01-06  1.015976 -0.962043  0.178670  0.669697\n",
        "2013-01-01    False\n",
        "2013-01-02     True\n",
        "2013-01-03    False\n",
        "2013-01-04     True\n",
        "2013-01-05    False\n",
        "2013-01-06     True\n",
        "Freq: D, Name: A, dtype: bool\n",
        "\n",
        "selecting df elements of df.A > 0\n",
        "                   A         B         C         D\n",
        "2013-01-02  0.170206 -1.967499 -0.362710 -1.417809\n",
        "2013-01-04  1.204170  0.711299  0.451529  0.546794\n",
        "2013-01-06  1.015976 -0.962043  0.178670  0.669697\n",
        "\n",
        "selecting df elements of df.A > 0 and df.D < 0\n",
        "                   A         B        C         D\n",
        "2013-01-02  0.170206 -1.967499 -0.36271 -1.417809\n",
        "                   A         B        C         D\n",
        "2013-01-02  0.170206 -1.967499 -0.36271 -1.417809\n",
        "                     A           B           C           D\n",
        "2013-01-01   -0.030813   -0.865584   -0.433447    0.507878\n",
        "2013-01-02  100.000000  100.000000  100.000000  100.000000\n",
        "2013-01-03   -0.964603    0.761011   -0.286228   -0.162099\n",
        "2013-01-04  100.000000  100.000000  100.000000  100.000000\n",
        "2013-01-05   -1.193963    0.739754   -0.405187   -0.366887\n",
        "2013-01-06  100.000000  100.000000  100.000000  100.000000\n"
       ]
      }
     ],
     "prompt_number": 74
    },
    {
     "cell_type": "code",
     "collapsed": false,
     "input": [
      "## WHERE operation with setting\n",
      "## COPY OF DATAFRAME - either DEEP (default) or SHALLOW \n",
      "dff = df.copy(deep = True)\n",
      "print dff\n",
      "print \">> reverse negative values\"\n",
      "dff[dff < 0] = - dff\n",
      "print dff\n",
      "dff[dff.A > 0] = - dff\n",
      "print dff"
     ],
     "language": "python",
     "metadata": {},
     "outputs": [
      {
       "output_type": "stream",
       "stream": "stdout",
       "text": [
        "                   A         B         C         D\n",
        "2013-01-01 -0.440529  0.320633  0.594432 -1.285903\n",
        "2013-01-02  0.353733  1.351794 -0.759201 -0.474171\n",
        "2013-01-03 -0.018955 -0.341444 -0.555280 -0.162339\n",
        "2013-01-04 -1.209282  0.977806  0.909265  0.710577\n",
        "2013-01-05 -0.005757 -1.061972 -0.782961 -1.449468\n",
        "2013-01-06  1.170326  0.011626 -1.814532 -0.245602\n",
        ">> reverse negative values\n",
        "                   A         B         C         D\n",
        "2013-01-01  0.440529  0.320633  0.594432  1.285903\n",
        "2013-01-02  0.353733  1.351794  0.759201  0.474171\n",
        "2013-01-03  0.018955  0.341444  0.555280  0.162339\n",
        "2013-01-04  1.209282  0.977806  0.909265  0.710577\n",
        "2013-01-05  0.005757  1.061972  0.782961  1.449468\n",
        "2013-01-06  1.170326  0.011626  1.814532  0.245602\n",
        "                   A         B         C         D\n",
        "2013-01-01 -0.440529 -0.320633 -0.594432 -1.285903\n",
        "2013-01-02 -0.353733 -1.351794 -0.759201 -0.474171\n",
        "2013-01-03 -0.018955 -0.341444 -0.555280 -0.162339\n",
        "2013-01-04 -1.209282 -0.977806 -0.909265 -0.710577\n",
        "2013-01-05 -0.005757 -1.061972 -0.782961 -1.449468\n",
        "2013-01-06 -1.170326 -0.011626 -1.814532 -0.245602\n"
       ]
      }
     ],
     "prompt_number": 12
    },
    {
     "cell_type": "markdown",
     "metadata": {},
     "source": [
      "## 4. Missing Data\n",
      "- Pandas primarily uses the value np.nan to respresent missing values.\n",
      "- Missing values are by default NOT included in computations.\n",
      "- THREE MAIN TYPES of operations on missing data - FINDING, DROPPING (ignoring) or FILLING (imputation)"
     ]
    },
    {
     "cell_type": "code",
     "collapsed": false,
     "input": [
      "## CREATE missing values\n",
      "dff = df.copy(deep = True)\n",
      "dff['E'] = [1] * 3 + [np.nan] * 3\n",
      "dff.D.iloc[1] = np.nan\n",
      "dff['F'] = np.nan\n",
      "print dff"
     ],
     "language": "python",
     "metadata": {},
     "outputs": [
      {
       "output_type": "stream",
       "stream": "stdout",
       "text": [
        "                   A         B         C         D   E   F\n",
        "2013-01-01 -0.440529  0.320633  0.594432 -1.285903   1 NaN\n",
        "2013-01-02  0.353733  1.351794 -0.759201       NaN   1 NaN\n",
        "2013-01-03 -0.018955 -0.341444 -0.555280 -0.162339   1 NaN\n",
        "2013-01-04 -1.209282  0.977806  0.909265  0.710577 NaN NaN\n",
        "2013-01-05 -0.005757 -1.061972 -0.782961 -1.449468 NaN NaN\n",
        "2013-01-06  1.170326  0.011626 -1.814532 -0.245602 NaN NaN\n"
       ]
      }
     ],
     "prompt_number": 13
    },
    {
     "cell_type": "code",
     "collapsed": false,
     "input": [
      "## FINDING of missing values - BOOLEAN MATRIX\n",
      "dfff = dff.copy(deep = True)\n",
      "print pd.isnull(dfff)\n",
      "dfff[pd.isnull(dfff)] = 100\n",
      "print dfff"
     ],
     "language": "python",
     "metadata": {},
     "outputs": [
      {
       "output_type": "stream",
       "stream": "stdout",
       "text": [
        "                A      B      C      D      E     F\n",
        "2013-01-01  False  False  False  False  False  True\n",
        "2013-01-02  False  False  False   True  False  True\n",
        "2013-01-03  False  False  False  False  False  True\n",
        "2013-01-04  False  False  False  False   True  True\n",
        "2013-01-05  False  False  False  False   True  True\n",
        "2013-01-06  False  False  False  False   True  True\n",
        "                   A         B         C           D    E    F\n",
        "2013-01-01 -0.440529  0.320633  0.594432   -1.285903    1  100\n",
        "2013-01-02  0.353733  1.351794 -0.759201  100.000000    1  100\n",
        "2013-01-03 -0.018955 -0.341444 -0.555280   -0.162339    1  100\n",
        "2013-01-04 -1.209282  0.977806  0.909265    0.710577  100  100\n",
        "2013-01-05 -0.005757 -1.061972 -0.782961   -1.449468  100  100\n",
        "2013-01-06  1.170326  0.011626 -1.814532   -0.245602  100  100\n"
       ]
      }
     ],
     "prompt_number": 14
    },
    {
     "cell_type": "code",
     "collapsed": false,
     "input": [
      "## REMOVE missing data\n",
      "print dff\n",
      "print '\\n>> drop ANY na-rows axis = 0'\n",
      "print dff.dropna(axis = 0, how = 'any')\n",
      "print '\\n>> drop ALL na-rows axis = 0'\n",
      "print dff.dropna(axis = 0, how = 'all')\n",
      "print '\\n>> drop ANY na-cols axis = 1'\n",
      "print dff.dropna(axis = 1, how = 'any')\n",
      "print '\\n>> drop ALL na-cols axis = 1'\n",
      "print dff.dropna(axis = 1, how = 'all')\n",
      "print '\\n>> drop na-rows based on NON-NA threshold - how param is DEACTIVATED'\n",
      "print dff.dropna(axis = 0, thresh=5)\n",
      "print '\\n>> drop na-cols based on NON-NA threshold - how param is DEACTIVATED'\n",
      "print dff.dropna(axis = 1, thresh=4)"
     ],
     "language": "python",
     "metadata": {},
     "outputs": [
      {
       "output_type": "stream",
       "stream": "stdout",
       "text": [
        "                   A         B         C         D   E   F\n",
        "2013-01-01 -0.440529  0.320633  0.594432 -1.285903   1 NaN\n",
        "2013-01-02  0.353733  1.351794 -0.759201       NaN   1 NaN\n",
        "2013-01-03 -0.018955 -0.341444 -0.555280 -0.162339   1 NaN\n",
        "2013-01-04 -1.209282  0.977806  0.909265  0.710577 NaN NaN\n",
        "2013-01-05 -0.005757 -1.061972 -0.782961 -1.449468 NaN NaN\n",
        "2013-01-06  1.170326  0.011626 -1.814532 -0.245602 NaN NaN\n",
        "\n",
        ">> drop ANY na-rows axis = 0\n",
        "Empty DataFrame\n",
        "Columns: [A, B, C, D, E, F]\n",
        "Index: []\n",
        "\n",
        ">> drop ALL na-rows axis = 0\n",
        "                   A         B         C         D   E   F\n",
        "2013-01-01 -0.440529  0.320633  0.594432 -1.285903   1 NaN\n",
        "2013-01-02  0.353733  1.351794 -0.759201       NaN   1 NaN\n",
        "2013-01-03 -0.018955 -0.341444 -0.555280 -0.162339   1 NaN\n",
        "2013-01-04 -1.209282  0.977806  0.909265  0.710577 NaN NaN\n",
        "2013-01-05 -0.005757 -1.061972 -0.782961 -1.449468 NaN NaN\n",
        "2013-01-06  1.170326  0.011626 -1.814532 -0.245602 NaN NaN\n",
        "\n",
        ">> drop ANY na-cols axis = 1\n",
        "                   A         B         C\n",
        "2013-01-01 -0.440529  0.320633  0.594432\n",
        "2013-01-02  0.353733  1.351794 -0.759201\n",
        "2013-01-03 -0.018955 -0.341444 -0.555280\n",
        "2013-01-04 -1.209282  0.977806  0.909265\n",
        "2013-01-05 -0.005757 -1.061972 -0.782961\n",
        "2013-01-06  1.170326  0.011626 -1.814532\n",
        "\n",
        ">> drop ALL na-cols axis = 1\n",
        "                   A         B         C         D   E\n",
        "2013-01-01 -0.440529  0.320633  0.594432 -1.285903   1\n",
        "2013-01-02  0.353733  1.351794 -0.759201       NaN   1\n",
        "2013-01-03 -0.018955 -0.341444 -0.555280 -0.162339   1\n",
        "2013-01-04 -1.209282  0.977806  0.909265  0.710577 NaN\n",
        "2013-01-05 -0.005757 -1.061972 -0.782961 -1.449468 NaN\n",
        "2013-01-06  1.170326  0.011626 -1.814532 -0.245602 NaN\n",
        "\n",
        ">> drop na-rows based on NON-NA threshold - how param is DEACTIVATED\n",
        "                   A         B         C         D  E   F\n",
        "2013-01-01 -0.440529  0.320633  0.594432 -1.285903  1 NaN\n",
        "2013-01-03 -0.018955 -0.341444 -0.555280 -0.162339  1 NaN"
       ]
      },
      {
       "output_type": "stream",
       "stream": "stdout",
       "text": [
        "\n",
        "\n",
        ">> drop na-cols based on NON-NA threshold - how param is DEACTIVATED\n",
        "                   A         B         C         D\n",
        "2013-01-01 -0.440529  0.320633  0.594432 -1.285903\n",
        "2013-01-02  0.353733  1.351794 -0.759201       NaN\n",
        "2013-01-03 -0.018955 -0.341444 -0.555280 -0.162339\n",
        "2013-01-04 -1.209282  0.977806  0.909265  0.710577\n",
        "2013-01-05 -0.005757 -1.061972 -0.782961 -1.449468\n",
        "2013-01-06  1.170326  0.011626 -1.814532 -0.245602\n"
       ]
      }
     ],
     "prompt_number": 15
    },
    {
     "cell_type": "code",
     "collapsed": false,
     "input": [
      "## FILL UP missing values - IMPUTATION\n",
      "## Parameters\n",
      "## ----------\n",
      "## method : {'backfill', 'bfill', 'pad', 'ffill', None}, default None\n",
      "##     Method to use for filling holes in reindexed Series\n",
      "##     pad / ffill: propagate last valid observation forward to next valid\n",
      "##     backfill / bfill: use NEXT valid observation to fill gap\n",
      "##     None: fill by value\n",
      "## value : scalar or dict\n",
      "##     Value to use to fill holes (e.g. 0), alternately a dict of values\n",
      "##     specifying which value to use for each column (columns not in the\n",
      "##     dict will not be filled). This value cannot be a list.\n",
      "## axis : {0, 1}, default 0\n",
      "##     0: fill column-by-column\n",
      "##     1: fill row-by-row\n",
      "## inplace : boolean, default False\n",
      "##     If True, fill the DataFrame in place. Note: this will modify any\n",
      "##     other views on this DataFrame, like if you took a no-copy slice of\n",
      "##     an existing DataFrame, for example a column in a DataFrame. Returns\n",
      "##     a reference to the filled object, which is self if inplace=True\n",
      "## limit : int, default None\n",
      "##     Maximum size gap to forward or backward fill\n",
      "## downcast : dict, default is None, a dict of item->dtype of what to\n",
      "##     downcast if possible\n",
      "print dff\n",
      "print dff.fillna(method='backfill')\n",
      "print dff.fillna(method=\"ffill\")\n",
      "print dff.fillna(method = None, value = {\"D\": -100, \"E\": 0})"
     ],
     "language": "python",
     "metadata": {},
     "outputs": [
      {
       "output_type": "stream",
       "stream": "stdout",
       "text": [
        "                   A         B         C         D   E   F\n",
        "2013-01-01 -0.440529  0.320633  0.594432 -1.285903   1 NaN\n",
        "2013-01-02  0.353733  1.351794 -0.759201       NaN   1 NaN\n",
        "2013-01-03 -0.018955 -0.341444 -0.555280 -0.162339   1 NaN\n",
        "2013-01-04 -1.209282  0.977806  0.909265  0.710577 NaN NaN\n",
        "2013-01-05 -0.005757 -1.061972 -0.782961 -1.449468 NaN NaN\n",
        "2013-01-06  1.170326  0.011626 -1.814532 -0.245602 NaN NaN\n",
        "                   A         B         C         D   E   F\n",
        "2013-01-01 -0.440529  0.320633  0.594432 -1.285903   1 NaN\n",
        "2013-01-02  0.353733  1.351794 -0.759201 -0.162339   1 NaN\n",
        "2013-01-03 -0.018955 -0.341444 -0.555280 -0.162339   1 NaN\n",
        "2013-01-04 -1.209282  0.977806  0.909265  0.710577 NaN NaN\n",
        "2013-01-05 -0.005757 -1.061972 -0.782961 -1.449468 NaN NaN\n",
        "2013-01-06  1.170326  0.011626 -1.814532 -0.245602 NaN NaN\n",
        "                   A         B         C         D  E   F\n",
        "2013-01-01 -0.440529  0.320633  0.594432 -1.285903  1 NaN\n",
        "2013-01-02  0.353733  1.351794 -0.759201 -1.285903  1 NaN\n",
        "2013-01-03 -0.018955 -0.341444 -0.555280 -0.162339  1 NaN\n",
        "2013-01-04 -1.209282  0.977806  0.909265  0.710577  1 NaN\n",
        "2013-01-05 -0.005757 -1.061972 -0.782961 -1.449468  1 NaN\n",
        "2013-01-06  1.170326  0.011626 -1.814532 -0.245602  1 NaN\n",
        "                   A         B         C           D  E   F\n",
        "2013-01-01 -0.440529  0.320633  0.594432   -1.285903  1 NaN\n",
        "2013-01-02  0.353733  1.351794 -0.759201 -100.000000  1 NaN\n",
        "2013-01-03 -0.018955 -0.341444 -0.555280   -0.162339  1 NaN\n",
        "2013-01-04 -1.209282  0.977806  0.909265    0.710577  0 NaN\n",
        "2013-01-05 -0.005757 -1.061972 -0.782961   -1.449468  0 NaN\n",
        "2013-01-06  1.170326  0.011626 -1.814532   -0.245602  0 NaN\n"
       ]
      }
     ],
     "prompt_number": 16
    },
    {
     "cell_type": "markdown",
     "metadata": {},
     "source": [
      "## 5. Operations\n",
      "- General Case - (1) pd.DataFrame.apply(cum_fn, axis) (2) pd.DataFrame.applymap(elewise_fn) for elementwise operation, Use parameter *raw =True* if the applied function is working on numpy.ndarray data instead of pd.Series\n",
      "- Histogramming and value_counts()\n",
      "- Discretization - USUALLY ALWAYS in a columnwise style (FEATURE BY FEATURE) - cut() and get factor.labels\n",
      "- REPLACE: pd.DataFrame.repalce"
     ]
    },
    {
     "cell_type": "code",
     "collapsed": false,
     "input": [
      "print df\n",
      "print \">> apply mean on columns\"\n",
      "print df.apply(np.mean, raw = True, axis = 0)\n",
      "print \">> apply sum on rows\"\n",
      "print df.apply(np.sum, raw = True, axis = 1)\n",
      "print df.applymap(lambda x: x **2) # equlivanent to df ** 2"
     ],
     "language": "python",
     "metadata": {},
     "outputs": [
      {
       "output_type": "stream",
       "stream": "stdout",
       "text": [
        "                   A         B         C         D\n",
        "2013-01-01 -0.440529  0.320633  0.594432 -1.285903\n",
        "2013-01-02  0.353733  1.351794 -0.759201 -0.474171\n",
        "2013-01-03 -0.018955 -0.341444 -0.555280 -0.162339\n",
        "2013-01-04 -1.209282  0.977806  0.909265  0.710577\n",
        "2013-01-05 -0.005757 -1.061972 -0.782961 -1.449468\n",
        "2013-01-06  1.170326  0.011626 -1.814532 -0.245602\n",
        ">> apply mean on columns\n",
        "A   -0.025077\n",
        "B    0.209740\n",
        "C   -0.401380\n",
        "D   -0.484485\n",
        "dtype: float64\n",
        ">> apply sum on rows\n",
        "2013-01-01   -0.811367\n",
        "2013-01-02    0.472155\n",
        "2013-01-03   -1.078019\n",
        "2013-01-04    1.388366\n",
        "2013-01-05   -3.300159\n",
        "2013-01-06   -0.878183\n",
        "Freq: D, dtype: float64\n",
        "                   A         B         C         D\n",
        "2013-01-01  0.194066  0.102805  0.353350  1.653547\n",
        "2013-01-02  0.125127  1.827346  0.576386  0.224838\n",
        "2013-01-03  0.000359  0.116584  0.308336  0.026354\n",
        "2013-01-04  1.462363  0.956105  0.826763  0.504920\n",
        "2013-01-05  0.000033  1.127785  0.613029  2.100959\n",
        "2013-01-06  1.369662  0.000135  3.292527  0.060320\n"
       ]
      }
     ],
     "prompt_number": 17
    },
    {
     "cell_type": "code",
     "collapsed": false,
     "input": [
      "df['E'] = pd.Series(map(str, np.random.randint(0, 4, size = 6)), index = df.index)\n",
      "print df\n",
      "## HISTOGRAMMING by Value-Counting \n",
      "## - RETURN ANOTHER SEREIS (essentially convertable to dict)\n",
      "df.E.value_counts().to_dict()"
     ],
     "language": "python",
     "metadata": {},
     "outputs": [
      {
       "output_type": "stream",
       "stream": "stdout",
       "text": [
        "                   A         B         C         D  E\n",
        "2013-01-01 -0.440529  0.320633  0.594432 -1.285903  1\n",
        "2013-01-02  0.353733  1.351794 -0.759201 -0.474171  3\n",
        "2013-01-03 -0.018955 -0.341444 -0.555280 -0.162339  1\n",
        "2013-01-04 -1.209282  0.977806  0.909265  0.710577  0\n",
        "2013-01-05 -0.005757 -1.061972 -0.782961 -1.449468  1\n",
        "2013-01-06  1.170326  0.011626 -1.814532 -0.245602  0\n"
       ]
      },
      {
       "output_type": "pyout",
       "prompt_number": 18,
       "text": [
        "{'0': 2, '1': 3, '3': 1}"
       ]
      }
     ],
     "prompt_number": 18
    },
    {
     "cell_type": "code",
     "collapsed": false,
     "input": [
      "## Discretization and Quantiling -- for numeric data ONLY\n",
      "## very similiar to R factor now\n",
      "print df\n",
      "A_factors = pd.cut(df.A, 3) \n",
      "print type(A_factors)\n",
      "print A_factors\n",
      "print 'FACTOR LABELS >> ', A_factors.labels\n",
      "print 'FACTOR LEVELS >>', A_factors.levels\n",
      "print 'quatiling >>'\n",
      "A_quantiles = pd.qcut(df.A, [0, 0.25, 0.75, 1])\n",
      "print 'QFACTOR LABELS >> ', A_quantiles.labels\n",
      "print 'QFACTOR LEVELS >> ', A_quantiles.levels"
     ],
     "language": "python",
     "metadata": {},
     "outputs": [
      {
       "output_type": "stream",
       "stream": "stdout",
       "text": [
        "                   A         B         C         D  E\n",
        "2013-01-01 -0.440529  0.320633  0.594432 -1.285903  1\n",
        "2013-01-02  0.353733  1.351794 -0.759201 -0.474171  3\n",
        "2013-01-03 -0.018955 -0.341444 -0.555280 -0.162339  1\n",
        "2013-01-04 -1.209282  0.977806  0.909265  0.710577  0\n",
        "2013-01-05 -0.005757 -1.061972 -0.782961 -1.449468  1\n",
        "2013-01-06  1.170326  0.011626 -1.814532 -0.245602  0\n",
        "<class 'pandas.core.categorical.Categorical'>\n",
        "Categorical: A\n",
        "[(-1.212, -0.416], (-0.416, 0.377], (-0.416, 0.377], (-1.212, -0.416], (-0.416, 0.377], (0.377, 1.17]]\n",
        "Levels (3): Index(['(-1.212, -0.416]', '(-0.416, 0.377]',\n",
        "                   '(0.377, 1.17]'], dtype=object)\n",
        "FACTOR LABELS >>  [0 1 1 0 1 2]\n",
        "FACTOR LEVELS >> Index([u'(-1.212, -0.416]', u'(-0.416, 0.377]', u'(0.377, 1.17]'], dtype=object)\n",
        "quatiling >>\n",
        "QFACTOR LABELS >>  [0 2 1 0 1 2]\n",
        "QFACTOR LEVELS >>  Index([u'[-1.209, -0.335]', u'(-0.335, 0.264]', u'(0.264, 1.17]'], dtype=object)\n"
       ]
      }
     ],
     "prompt_number": 19
    },
    {
     "cell_type": "code",
     "collapsed": false,
     "input": [
      "## REPLACEMENT\n",
      "print df\n",
      "print df.replace({'E': {'3': '2'}}) ## COMBINE 3 and 2"
     ],
     "language": "python",
     "metadata": {},
     "outputs": [
      {
       "output_type": "stream",
       "stream": "stdout",
       "text": [
        "                   A         B         C         D  E\n",
        "2013-01-01 -0.440529  0.320633  0.594432 -1.285903  1\n",
        "2013-01-02  0.353733  1.351794 -0.759201 -0.474171  3\n",
        "2013-01-03 -0.018955 -0.341444 -0.555280 -0.162339  1\n",
        "2013-01-04 -1.209282  0.977806  0.909265  0.710577  0\n",
        "2013-01-05 -0.005757 -1.061972 -0.782961 -1.449468  1\n",
        "2013-01-06  1.170326  0.011626 -1.814532 -0.245602  0\n",
        "                   A         B         C         D  E\n",
        "2013-01-01 -0.440529  0.320633  0.594432 -1.285903  1\n",
        "2013-01-02  0.353733  1.351794 -0.759201 -0.474171  2\n",
        "2013-01-03 -0.018955 -0.341444 -0.555280 -0.162339  1\n",
        "2013-01-04 -1.209282  0.977806  0.909265  0.710577  0\n",
        "2013-01-05 -0.005757 -1.061972 -0.782961 -1.449468  1\n",
        "2013-01-06  1.170326  0.011626 -1.814532 -0.245602  0\n"
       ]
      }
     ],
     "prompt_number": 20
    },
    {
     "cell_type": "markdown",
     "metadata": {},
     "source": [
      "## 6. Merge\n",
      "- Concat (hstack, vstack like)\n",
      "- Join (database like join)\n",
      "- Append (column, row)"
     ]
    },
    {
     "cell_type": "code",
     "collapsed": false,
     "input": [
      "## Horizontal concat\n",
      "print \"HORIZONTAL SPLITTING AND CONCATING\"\n",
      "print df\n",
      "hdf1 = df.iloc[:3]\n",
      "hdf2 = df.iloc[3:]\n",
      "print hdf1\n",
      "print hdf2\n",
      "print pd.concat([hdf2, hdf1], axis = 0)\n",
      "## Vertical concat\n",
      "print '\\nVERTICAL SPLITTING AND CONCATING'\n",
      "vdf1 = df.iloc[:, :3]\n",
      "vdf2 = df.iloc[:, 3:]\n",
      "print vdf1\n",
      "print vdf2\n",
      "print pd.concat([vdf2, vdf1], axis = 1)"
     ],
     "language": "python",
     "metadata": {},
     "outputs": [
      {
       "output_type": "stream",
       "stream": "stdout",
       "text": [
        "HORIZONTAL SPLITTING AND CONCATING\n",
        "                   A         B         C         D  E\n",
        "2013-01-01 -0.440529  0.320633  0.594432 -1.285903  1\n",
        "2013-01-02  0.353733  1.351794 -0.759201 -0.474171  3\n",
        "2013-01-03 -0.018955 -0.341444 -0.555280 -0.162339  1\n",
        "2013-01-04 -1.209282  0.977806  0.909265  0.710577  0\n",
        "2013-01-05 -0.005757 -1.061972 -0.782961 -1.449468  1\n",
        "2013-01-06  1.170326  0.011626 -1.814532 -0.245602  0\n",
        "                   A         B         C         D  E\n",
        "2013-01-01 -0.440529  0.320633  0.594432 -1.285903  1\n",
        "2013-01-02  0.353733  1.351794 -0.759201 -0.474171  3\n",
        "2013-01-03 -0.018955 -0.341444 -0.555280 -0.162339  1\n",
        "                   A         B         C         D  E\n",
        "2013-01-04 -1.209282  0.977806  0.909265  0.710577  0\n",
        "2013-01-05 -0.005757 -1.061972 -0.782961 -1.449468  1\n",
        "2013-01-06  1.170326  0.011626 -1.814532 -0.245602  0\n",
        "                   A         B         C         D  E\n",
        "2013-01-04 -1.209282  0.977806  0.909265  0.710577  0\n",
        "2013-01-05 -0.005757 -1.061972 -0.782961 -1.449468  1\n",
        "2013-01-06  1.170326  0.011626 -1.814532 -0.245602  0\n",
        "2013-01-01 -0.440529  0.320633  0.594432 -1.285903  1\n",
        "2013-01-02  0.353733  1.351794 -0.759201 -0.474171  3\n",
        "2013-01-03 -0.018955 -0.341444 -0.555280 -0.162339  1"
       ]
      },
      {
       "output_type": "stream",
       "stream": "stdout",
       "text": [
        "\n",
        "\n",
        "VERTICAL SPLITTING AND CONCATING\n",
        "                   A         B         C\n",
        "2013-01-01 -0.440529  0.320633  0.594432\n",
        "2013-01-02  0.353733  1.351794 -0.759201\n",
        "2013-01-03 -0.018955 -0.341444 -0.555280\n",
        "2013-01-04 -1.209282  0.977806  0.909265\n",
        "2013-01-05 -0.005757 -1.061972 -0.782961\n",
        "2013-01-06  1.170326  0.011626 -1.814532\n",
        "                   D  E\n",
        "2013-01-01 -1.285903  1\n",
        "2013-01-02 -0.474171  3\n",
        "2013-01-03 -0.162339  1\n",
        "2013-01-04  0.710577  0\n",
        "2013-01-05 -1.449468  1\n",
        "2013-01-06 -0.245602  0\n",
        "                   D  E         A         B         C\n",
        "2013-01-01 -1.285903  1 -0.440529  0.320633  0.594432\n",
        "2013-01-02 -0.474171  3  0.353733  1.351794 -0.759201\n",
        "2013-01-03 -0.162339  1 -0.018955 -0.341444 -0.555280\n",
        "2013-01-04  0.710577  0 -1.209282  0.977806  0.909265\n",
        "2013-01-05 -1.449468  1 -0.005757 -1.061972 -0.782961\n",
        "2013-01-06 -0.245602  0  1.170326  0.011626 -1.814532\n"
       ]
      }
     ],
     "prompt_number": 21
    },
    {
     "cell_type": "code",
     "collapsed": false,
     "input": [
      "## JOINING / MERGING\n",
      "## pd.merge(left, right, how='inner', on=None, \n",
      "##     left_on=None, right_on=None, \n",
      "##     left_index=False, right_index=False, sort=False, \n",
      "##     suffixes=('_x', '_y'), copy=True)\n",
      "left = pd.DataFrame({'key': ['foo', 'foo'], 'lval': [1, 2]})\n",
      "right = pd.DataFrame({'key': ['foo', 'foo'], 'rval': [6, 7]})\n",
      "print left\n",
      "print right\n",
      "print pd.merge(left, right, on = 'key')"
     ],
     "language": "python",
     "metadata": {},
     "outputs": [
      {
       "output_type": "stream",
       "stream": "stdout",
       "text": [
        "   key  lval\n",
        "0  foo     1\n",
        "1  foo     2\n",
        "   key  rval\n",
        "0  foo     6\n",
        "1  foo     7\n",
        "   key  lval  rval\n",
        "0  foo     1     6\n",
        "1  foo     1     7\n",
        "2  foo     2     6\n",
        "3  foo     2     7"
       ]
      },
      {
       "output_type": "stream",
       "stream": "stdout",
       "text": [
        "\n"
       ]
      }
     ],
     "prompt_number": 22
    },
    {
     "cell_type": "code",
     "collapsed": false,
     "input": [
      "## APPENDING ROWS\n",
      "## NOT REALLY VERY USEFUL\n",
      "print df\n",
      "print type(df.iloc[3])\n",
      "print df.iloc[3].name\n",
      "df.append(pd.Series(np.random.randn(5), index = df.columns), ignore_index=True, )"
     ],
     "language": "python",
     "metadata": {},
     "outputs": [
      {
       "output_type": "stream",
       "stream": "stdout",
       "text": [
        "                   A         B         C         D  E\n",
        "2013-01-01 -0.440529  0.320633  0.594432 -1.285903  1\n",
        "2013-01-02  0.353733  1.351794 -0.759201 -0.474171  3\n",
        "2013-01-03 -0.018955 -0.341444 -0.555280 -0.162339  1\n",
        "2013-01-04 -1.209282  0.977806  0.909265  0.710577  0\n",
        "2013-01-05 -0.005757 -1.061972 -0.782961 -1.449468  1\n",
        "2013-01-06  1.170326  0.011626 -1.814532 -0.245602  0\n",
        "<class 'pandas.core.series.Series'>\n",
        "2013-01-04 00:00:00\n"
       ]
      },
      {
       "html": [
        "<div style=\"max-height:1000px;max-width:1500px;overflow:auto;\">\n",
        "<table border=\"1\" class=\"dataframe\">\n",
        "  <thead>\n",
        "    <tr style=\"text-align: right;\">\n",
        "      <th></th>\n",
        "      <th>A</th>\n",
        "      <th>B</th>\n",
        "      <th>C</th>\n",
        "      <th>D</th>\n",
        "      <th>E</th>\n",
        "    </tr>\n",
        "  </thead>\n",
        "  <tbody>\n",
        "    <tr>\n",
        "      <th>0</th>\n",
        "      <td>-0.440529</td>\n",
        "      <td> 0.320633</td>\n",
        "      <td> 0.594432</td>\n",
        "      <td>-1.285903</td>\n",
        "      <td>        1</td>\n",
        "    </tr>\n",
        "    <tr>\n",
        "      <th>1</th>\n",
        "      <td> 0.353733</td>\n",
        "      <td> 1.351794</td>\n",
        "      <td>-0.759201</td>\n",
        "      <td>-0.474171</td>\n",
        "      <td>        3</td>\n",
        "    </tr>\n",
        "    <tr>\n",
        "      <th>2</th>\n",
        "      <td>-0.018955</td>\n",
        "      <td>-0.341444</td>\n",
        "      <td>-0.555280</td>\n",
        "      <td>-0.162339</td>\n",
        "      <td>        1</td>\n",
        "    </tr>\n",
        "    <tr>\n",
        "      <th>3</th>\n",
        "      <td>-1.209282</td>\n",
        "      <td> 0.977806</td>\n",
        "      <td> 0.909265</td>\n",
        "      <td> 0.710577</td>\n",
        "      <td>        0</td>\n",
        "    </tr>\n",
        "    <tr>\n",
        "      <th>4</th>\n",
        "      <td>-0.005757</td>\n",
        "      <td>-1.061972</td>\n",
        "      <td>-0.782961</td>\n",
        "      <td>-1.449468</td>\n",
        "      <td>        1</td>\n",
        "    </tr>\n",
        "    <tr>\n",
        "      <th>5</th>\n",
        "      <td> 1.170326</td>\n",
        "      <td> 0.011626</td>\n",
        "      <td>-1.814532</td>\n",
        "      <td>-0.245602</td>\n",
        "      <td>        0</td>\n",
        "    </tr>\n",
        "    <tr>\n",
        "      <th>6</th>\n",
        "      <td> 0.268328</td>\n",
        "      <td> 1.146425</td>\n",
        "      <td> 0.306675</td>\n",
        "      <td> 2.480935</td>\n",
        "      <td>-2.537934</td>\n",
        "    </tr>\n",
        "  </tbody>\n",
        "</table>\n",
        "</div>"
       ],
       "output_type": "pyout",
       "prompt_number": 23,
       "text": [
        "          A         B         C         D         E\n",
        "0 -0.440529  0.320633  0.594432 -1.285903         1\n",
        "1  0.353733  1.351794 -0.759201 -0.474171         3\n",
        "2 -0.018955 -0.341444 -0.555280 -0.162339         1\n",
        "3 -1.209282  0.977806  0.909265  0.710577         0\n",
        "4 -0.005757 -1.061972 -0.782961 -1.449468         1\n",
        "5  1.170326  0.011626 -1.814532 -0.245602         0\n",
        "6  0.268328  1.146425  0.306675  2.480935 -2.537934"
       ]
      }
     ],
     "prompt_number": 23
    },
    {
     "cell_type": "markdown",
     "metadata": {},
     "source": [
      "## 7. Grouping\n",
      "\n",
      "From Pandas:\n",
      "\n",
      "By \u201cgroup by\u201d we are referring to a process involving one or more of the following steps\n",
      "\n",
      "- **Splitting** the data into groups based on some criteria\n",
      "- **Applying** a function to each group independently\n",
      "- **Combining** the results into a data structure\n",
      "\n",
      "the most common case is to group matrix by columns (features)"
     ]
    },
    {
     "cell_type": "code",
     "collapsed": false,
     "input": [
      "df = pd.DataFrame({\n",
      "     'A': ['foo', 'bar', 'foo', 'bar', 'foo', 'bar', 'foo', 'foo']\n",
      "   , 'B': ['one', 'one', 'two', 'three', 'two', 'two', 'one', 'three']\n",
      "   , 'C': np.random.randn(8)\n",
      "   , 'D': np.random.randn(8)\n",
      "})\n",
      "print df"
     ],
     "language": "python",
     "metadata": {},
     "outputs": [
      {
       "output_type": "stream",
       "stream": "stdout",
       "text": [
        "     A      B         C         D\n",
        "0  foo    one  0.684732 -1.999816\n",
        "1  bar    one  0.502373  0.779502\n",
        "2  foo    two -0.187921  2.815911\n",
        "3  bar  three  1.588625  1.610015\n",
        "4  foo    two -1.367470  0.239797\n",
        "5  bar    two -0.287122 -0.418336\n",
        "6  foo    one  0.122107 -1.787529\n",
        "7  foo  three -0.676687  1.060654\n"
       ]
      }
     ],
     "prompt_number": 24
    },
    {
     "cell_type": "code",
     "collapsed": false,
     "input": [
      "print df.groupby(by = 'A', axis = 0).sum()\n",
      "print \"\\nIterating Group Structure (WHAT GROUPBY IS REALLY ABOUT - A DICT) >>\"\n",
      "for grp_name, sub_df in df.groupby(by = ['B', 'A']):\n",
      "    print grp_name\n",
      "    print sub_df"
     ],
     "language": "python",
     "metadata": {},
     "outputs": [
      {
       "output_type": "stream",
       "stream": "stdout",
       "text": [
        "            C         D\n",
        "A                      \n",
        "bar  1.803875  1.971181\n",
        "foo -1.425239  0.329017\n",
        "\n",
        "Iterating Group Structure (WHAT GROUPBY IS REALLY ABOUT - A DICT) >>\n",
        "('one', 'bar')\n",
        "     A    B         C         D\n",
        "1  bar  one  0.502373  0.779502\n",
        "('one', 'foo')\n",
        "     A    B         C         D\n",
        "0  foo  one  0.684732 -1.999816\n",
        "6  foo  one  0.122107 -1.787529\n",
        "('three', 'bar')\n",
        "     A      B         C         D\n",
        "3  bar  three  1.588625  1.610015\n",
        "('three', 'foo')\n",
        "     A      B         C         D\n",
        "7  foo  three -0.676687  1.060654\n",
        "('two', 'bar')\n",
        "     A    B         C         D\n",
        "5  bar  two -0.287122 -0.418336"
       ]
      },
      {
       "output_type": "stream",
       "stream": "stdout",
       "text": [
        "\n",
        "('two', 'foo')\n",
        "     A    B         C         D\n",
        "2  foo  two -0.187921  2.815911\n",
        "4  foo  two -1.367470  0.239797\n"
       ]
      }
     ],
     "prompt_number": 25
    },
    {
     "cell_type": "markdown",
     "metadata": {},
     "source": [
      "## 8. Reshaping\n",
      "- pivot table"
     ]
    },
    {
     "cell_type": "code",
     "collapsed": false,
     "input": [
      "df = pd.DataFrame({'A' : ['one', 'one', 'two', 'three'] * 3,\n",
      "               'B' : ['A', 'B', 'C'] * 4,\n",
      "               'C' : ['foo', 'foo', 'foo', 'bar', 'bar', 'bar'] * 2,\n",
      "               'D' : np.random.randn(12),\n",
      "               'E' : np.random.randn(12)})\n",
      "print df"
     ],
     "language": "python",
     "metadata": {},
     "outputs": [
      {
       "output_type": "stream",
       "stream": "stdout",
       "text": [
        "        A  B    C         D         E\n",
        "0     one  A  foo -0.257251  0.941467\n",
        "1     one  B  foo -2.041284 -1.070327\n",
        "2     two  C  foo -2.375388  0.539690\n",
        "3   three  A  bar  0.074301  1.018966\n",
        "4     one  B  bar -0.756021  0.669371\n",
        "5     one  C  bar  1.300727  0.330807\n",
        "6     two  A  foo  1.113186  0.263582\n",
        "7   three  B  foo  0.222825 -1.196940\n",
        "8     one  C  foo  0.749618  0.331946\n",
        "9     one  A  bar  0.876066 -2.755204\n",
        "10    two  B  bar  0.254959 -1.748141\n",
        "11  three  C  bar  2.029449  0.109468\n"
       ]
      }
     ],
     "prompt_number": 26
    },
    {
     "cell_type": "code",
     "collapsed": false,
     "input": [
      "## PIVOT TABLE\n",
      "## pd.pivot_table(data, values=None, rows=None, cols=None, aggfunc='mean', \n",
      "##               fill_value=None, margins=False, dropna=True)\n",
      "## Create a spreadsheet-style pivot table as a DataFrame. The levels in the\n",
      "## pivot table will be stored in MultiIndex objects (hierarchical indexes) on\n",
      "## the index and columns of the result DataFrame\n",
      "## IMPORTANT Parameters \n",
      "## data : DataFrame\n",
      "## values : column to aggregate, optional\n",
      "## rows : list of column names or arrays to group on\n",
      "##     Keys to group on the x-axis of the pivot table\n",
      "## cols : list of column names or arrays to group on\n",
      "##     Keys to group on the y-axis of the pivot table\n",
      "## aggfunc : function, default numpy.mean, or list of functions\n",
      "##     If list of functions passed, the resulting pivot table will have\n",
      "##     hierarchical columns whose top level are the function names (inferred\n",
      "##     from the function objects themselves)\n",
      "## rows, cols should be CATEGORICAL variables that can be grouped by\n",
      "## values are usually numeric variables to be calculated on (by applying aggfunc)\n",
      "## values are the remaining variables by default\n",
      "## IN THIS SENSE, PIVOT TABLE is more like a shortcut for groupby(), as group_rows, \n",
      "## group_cols, values() and aggregation statics no them are usually of the most interest\n",
      "## AGGFUNC IS ALWAYS THERE - DEFAULT IS NP.MEAN\n",
      "print df\n",
      "print \n",
      "print pd.pivot_table(df, values = ['D', 'E'], rows = ['A', 'B'], cols = 'C')\n",
      "print\n",
      "print pd.pivot_table(df, values = ['D'], rows = ['A', 'B'], cols = 'C')\n",
      "print\n",
      "print pd.pivot_table(df, rows = ['A'], cols = ['C'], values = ['D'], \n",
      "                    aggfunc=[np.mean, np.min, np.max])"
     ],
     "language": "python",
     "metadata": {},
     "outputs": [
      {
       "output_type": "stream",
       "stream": "stdout",
       "text": [
        "        A  B    C         D         E\n",
        "0     one  A  foo -0.257251  0.941467\n",
        "1     one  B  foo -2.041284 -1.070327\n",
        "2     two  C  foo -2.375388  0.539690\n",
        "3   three  A  bar  0.074301  1.018966\n",
        "4     one  B  bar -0.756021  0.669371\n",
        "5     one  C  bar  1.300727  0.330807\n",
        "6     two  A  foo  1.113186  0.263582\n",
        "7   three  B  foo  0.222825 -1.196940\n",
        "8     one  C  foo  0.749618  0.331946\n",
        "9     one  A  bar  0.876066 -2.755204\n",
        "10    two  B  bar  0.254959 -1.748141\n",
        "11  three  C  bar  2.029449  0.109468\n",
        "\n",
        "                D                   E          \n",
        "C             bar       foo       bar       foo\n",
        "A     B                                        \n",
        "one   A  0.876066 -0.257251 -2.755204  0.941467\n",
        "      B -0.756021 -2.041284  0.669371 -1.070327\n",
        "      C  1.300727  0.749618  0.330807  0.331946\n",
        "three A  0.074301       NaN  1.018966       NaN\n",
        "      B       NaN  0.222825       NaN -1.196940\n",
        "      C  2.029449       NaN  0.109468       NaN\n",
        "two   A       NaN  1.113186       NaN  0.263582\n",
        "      B  0.254959       NaN -1.748141       NaN\n",
        "      C       NaN -2.375388       NaN  0.539690\n",
        "\n",
        "                D          \n",
        "C             bar       foo\n",
        "A     B                    \n",
        "one   A  0.876066 -0.257251\n",
        "      B -0.756021 -2.041284\n",
        "      C  1.300727  0.749618\n",
        "three A  0.074301       NaN\n",
        "      B       NaN  0.222825\n",
        "      C  2.029449       NaN\n",
        "two   A       NaN  1.113186\n",
        "      B  0.254959       NaN\n",
        "      C       NaN -2.375388\n",
        "\n",
        "           mean                amin                amax          \n",
        "              D                   D                   D          \n",
        "C           bar       foo       bar       foo       bar       foo\n",
        "A                                                                \n",
        "one    0.473591 -0.516305 -0.756021 -2.041284  1.300727  0.749618\n",
        "three  1.051875  0.222825  0.074301  0.222825  2.029449  0.222825\n",
        "two    0.254959 -0.631101  0.254959 -2.375388  0.254959  1.113186"
       ]
      },
      {
       "output_type": "stream",
       "stream": "stdout",
       "text": [
        "\n"
       ]
      }
     ],
     "prompt_number": 27
    },
    {
     "cell_type": "markdown",
     "metadata": {},
     "source": [
      "## 9. Time Series\n",
      "- Pandas has simple, powerful, and efficient functionality for performing resampling operations during frequency conversion (e.g., converting secondly data into 5-minutely data). But the sampling should be **regular**.\n",
      "- Representation in a certain time zone: (1) use tz_localize to localize to a certain time zone (2) After localizing the TimeSeries, you may use tz_convert() to get the Datetime values recomputed to a different tz.\n",
      "\n",
      "In summary\n",
      "\n",
      "- resample(): *squeeze or strech the time series*\n",
      "- tz_localize(), tz_convert(), to_period(), to_timestamp(): *change the index (different time offsets or time units) without changing the values in the series*"
     ]
    },
    {
     "cell_type": "code",
     "collapsed": false,
     "input": [
      "rng = pd.date_range('1/1/2012', periods=500, freq='S', ) ## periods and freq \n",
      "ts = pd.Series(randint(0, 500, len(rng)), index = rng)\n",
      "ts.plot()\n",
      "print '\\n>> time series with frequence = sencond >>'\n",
      "print ts\n",
      "tts = ts.resample('1Min', how='sum') ## default how = 'mean', which is downsampling\n",
      "figure()\n",
      "tts.plot()\n",
      "print '\\n>> time series with frequence resampled at 1 min >>'\n",
      "print tts"
     ],
     "language": "python",
     "metadata": {},
     "outputs": [
      {
       "output_type": "stream",
       "stream": "stdout",
       "text": [
        "\n",
        ">> time series with frequence = sencond >>\n",
        "2012-01-01 00:00:00    183\n",
        "2012-01-01 00:00:01    373\n",
        "2012-01-01 00:00:02    390\n",
        "2012-01-01 00:00:03    126\n",
        "2012-01-01 00:00:04    140\n",
        "2012-01-01 00:00:05      3\n",
        "2012-01-01 00:00:06    477\n",
        "2012-01-01 00:00:07    450\n",
        "2012-01-01 00:00:08    170\n",
        "2012-01-01 00:00:09     71\n",
        "2012-01-01 00:00:10     65\n",
        "2012-01-01 00:00:11    107\n",
        "2012-01-01 00:00:12    419\n",
        "2012-01-01 00:00:13    306\n",
        "2012-01-01 00:00:14      1\n",
        "...\n",
        "2012-01-01 00:08:05    111\n",
        "2012-01-01 00:08:06    148\n",
        "2012-01-01 00:08:07     45\n",
        "2012-01-01 00:08:08    132\n",
        "2012-01-01 00:08:09    197\n",
        "2012-01-01 00:08:10    348\n",
        "2012-01-01 00:08:11    102\n",
        "2012-01-01 00:08:12    124\n",
        "2012-01-01 00:08:13    363\n",
        "2012-01-01 00:08:14    141\n",
        "2012-01-01 00:08:15     34\n",
        "2012-01-01 00:08:16     20\n",
        "2012-01-01 00:08:17     25\n",
        "2012-01-01 00:08:18    305\n",
        "2012-01-01 00:08:19    165\n",
        "Freq: S, Length: 500, dtype: int64\n",
        "\n",
        ">> time series with frequence resampled at 1 min >>"
       ]
      },
      {
       "output_type": "stream",
       "stream": "stdout",
       "text": [
        "\n",
        "2012-01-01 00:00:00    13107\n",
        "2012-01-01 00:01:00    14907\n",
        "2012-01-01 00:02:00    13006\n",
        "2012-01-01 00:03:00    13201\n",
        "2012-01-01 00:04:00    14889\n",
        "2012-01-01 00:05:00    14300\n",
        "2012-01-01 00:06:00    15604\n",
        "2012-01-01 00:07:00    13959\n",
        "2012-01-01 00:08:00     3772\n",
        "Freq: T, dtype: int64\n"
       ]
      },
      {
       "output_type": "display_data",
       "png": "[encoded data removed]"
      },
      {
       "output_type": "display_data",
       "png": "[encoded data removed]"
      }
     ],
     "prompt_number": 62
    },
    {
     "cell_type": "code",
     "collapsed": false,
     "input": [
      "## Time zone reprentation - tz_localize()\n",
      "rng = pd.date_range('3/6/2012 00:00', periods = 5, freq = 'D')\n",
      "ts = pd.Series(randn(len(rng)), rng)\n",
      "ts_utc = ts.tz_localize('UTC', )\n",
      "print '>> Time zone UTC >>'\n",
      "print ts_utc\n",
      "ts_utc.plot()\n",
      "## Convert to another time zone - tz_convert\n",
      "ts_us = ts_utc.tz_convert('US/Eastern')\n",
      "print '>> Time zone US >>'\n",
      "print ts_us\n",
      "figure()\n",
      "ts_us.plot()"
     ],
     "language": "python",
     "metadata": {},
     "outputs": [
      {
       "output_type": "stream",
       "stream": "stdout",
       "text": [
        ">> Time zone UTC >>\n",
        "2012-03-06 00:00:00+00:00    0.146046\n",
        "2012-03-07 00:00:00+00:00   -1.695428\n",
        "2012-03-08 00:00:00+00:00   -0.956475\n",
        "2012-03-09 00:00:00+00:00    1.338961\n",
        "2012-03-10 00:00:00+00:00   -0.296398\n",
        "Freq: D, dtype: float64\n",
        ">> Time zone US >>"
       ]
      },
      {
       "output_type": "stream",
       "stream": "stdout",
       "text": [
        "\n",
        "2012-03-05 19:00:00-05:00    0.146046\n",
        "2012-03-06 19:00:00-05:00   -1.695428\n",
        "2012-03-07 19:00:00-05:00   -0.956475\n",
        "2012-03-08 19:00:00-05:00    1.338961\n",
        "2012-03-09 19:00:00-05:00   -0.296398\n",
        "Freq: D, dtype: float64\n"
       ]
      },
      {
       "output_type": "pyout",
       "prompt_number": 38,
       "text": [
        "<matplotlib.axes.AxesSubplot at 0x3fe1a90>"
       ]
      },
      {
       "output_type": "display_data",
       "png": "[encoded data removed]"
      },
      {
       "output_type": "display_data",
       "png": "[encoded data removed]"
      }
     ],
     "prompt_number": 38
    },
    {
     "cell_type": "code",
     "collapsed": false,
     "input": [
      "## Converting between time span representations\n",
      "rng = pd.date_range('1/1/2012', periods=5, freq = 'M') # frequency = 1 month for a period of 5\n",
      "ts = pd.Series(randn(len(rng)), index = rng)\n",
      "\n",
      "print '>> Time series (Datetime Index) >>'\n",
      "print ts\n",
      "ps = ts.to_period()\n",
      "print '>> Period series (Period Index) >>'\n",
      "print ps\n",
      "print ' >> Time stamp series (Datetime Index again)>>'\n",
      "tm_s = ps.to_timestamp()\n",
      "print tm_s"
     ],
     "language": "python",
     "metadata": {},
     "outputs": [
      {
       "output_type": "stream",
       "stream": "stdout",
       "text": [
        ">> Time series (Datetime Index) >>\n",
        "2012-01-31   -0.369075\n",
        "2012-02-29   -0.244696\n",
        "2012-03-31   -1.621117\n",
        "2012-04-30   -1.972054\n",
        "2012-05-31    1.699680\n",
        "Freq: M, dtype: float64\n",
        ">> Period series (Period Index) >>\n",
        "2012-01   -0.369075\n",
        "2012-02   -0.244696\n",
        "2012-03   -1.621117\n",
        "2012-04   -1.972054\n",
        "2012-05    1.699680\n",
        "Freq: M, dtype: float64\n",
        " >> Time stamp series (Datetime Index again)>>\n",
        "2012-01-01   -0.369075\n",
        "2012-02-01   -0.244696\n",
        "2012-03-01   -1.621117\n",
        "2012-04-01   -1.972054\n",
        "2012-05-01    1.699680\n",
        "Freq: MS, dtype: float64\n"
       ]
      }
     ],
     "prompt_number": 55
    },
    {
     "cell_type": "markdown",
     "metadata": {},
     "source": [
      "## 10. Plotting"
     ]
    },
    {
     "cell_type": "code",
     "collapsed": false,
     "input": [
      "## PLOTTING TIME SERIES\n",
      "ts = pd.Series(randn(1000), index = pd.date_range('1/1/2000', periods=1000, freq='D'))\n",
      "ts.plot()\n",
      "cts = ts.cumsum()\n",
      "figure()\n",
      "cts.plot()\n",
      "\n",
      "print \">> time series >>\"\n",
      "print ts.head(5)\n",
      "print \">> cummulative sum of time series >>\"\n",
      "print cts.head(5)"
     ],
     "language": "python",
     "metadata": {},
     "outputs": [
      {
       "output_type": "stream",
       "stream": "stdout",
       "text": [
        ">> time series >>\n",
        "2000-01-01   -0.070830\n",
        "2000-01-02   -1.180476\n",
        "2000-01-03   -0.036886\n",
        "2000-01-04    0.018825\n",
        "2000-01-05    0.280117\n",
        "Freq: D, dtype: float64\n",
        ">> cummulative sum of time series >>\n",
        "2000-01-01   -0.070830\n",
        "2000-01-02   -1.251305\n",
        "2000-01-03   -1.288192\n",
        "2000-01-04   -1.269367\n",
        "2000-01-05   -0.989250\n",
        "Freq: D, dtype: float64\n"
       ]
      },
      {
       "output_type": "display_data",
       "png": "[encoded data removed]"
      },
      {
       "output_type": "display_data",
       "png": "[encoded data removed]"
      }
     ],
     "prompt_number": 64
    },
    {
     "cell_type": "code",
     "collapsed": false,
     "input": [
      "## PLOT OF DATAFRAME\n",
      "df = pd.DataFrame(randn(1000, 4), index = ts.index, columns=list(\"ABCD\"))\n",
      "df.plot()\n",
      "legend(loc='best')\n",
      "figure()\n",
      "cdf = df.cumsum(axis = 0)\n",
      "cdf.plot()\n",
      "legend(loc='best')"
     ],
     "language": "python",
     "metadata": {},
     "outputs": [
      {
       "output_type": "pyout",
       "prompt_number": 70,
       "text": [
        "<matplotlib.legend.Legend at 0x7247150>"
       ]
      },
      {
       "output_type": "display_data",
       "png": "[encoded data removed]"
      },
      {
       "output_type": "display_data",
       "png": "[encoded data removed]"
      }
     ],
     "prompt_number": 70
    },
    {
     "cell_type": "markdown",
     "metadata": {},
     "source": [
      "## 11. Data IO\n",
      "- csv \n",
      "- hdf5\n",
      "- MS excel"
     ]
    },
    {
     "cell_type": "code",
     "collapsed": false,
     "input": [],
     "language": "python",
     "metadata": {},
     "outputs": []
    }
   ],
   "metadata": {}
  }
 ]
}