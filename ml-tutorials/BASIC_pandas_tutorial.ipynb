{
 "metadata": {
  "name": "BASIC_pandas_tutorial"
 },
 "nbformat": 3,
 "nbformat_minor": 0,
 "worksheets": [
  {
   "cells": [
    {
     "cell_type": "markdown",
     "metadata": {},
     "source": [
      "# Pandas for Data Profiling & Analysis\n",
      "\n",
      "*Finally a better indexing interface in pandas 0.12*"
     ]
    },
    {
     "cell_type": "code",
     "collapsed": false,
     "input": [
      "%pylab inline\n",
      "import pandas as pd\n",
      "import numpy as np"
     ],
     "language": "python",
     "metadata": {},
     "outputs": [
      {
       "output_type": "stream",
       "stream": "stdout",
       "text": [
        "\n",
        "Welcome to pylab, a matplotlib-based Python environment [backend: module://IPython.zmq.pylab.backend_inline].\n",
        "For more information, type 'help(pylab)'.\n"
       ]
      }
     ],
     "prompt_number": 1
    },
    {
     "cell_type": "markdown",
     "metadata": {},
     "source": [
      "## 1. Object Creation\n",
      "- Series: an iterable, and an index\n",
      "- DataFrame: values (matrix of diffent columns with different dtypes), index, columns (column index)\n",
      "- DataFrame: construction in 2 ways: (1) matrix way (iterable of rows) (2) column way (dictioniary of columns)"
     ]
    },
    {
     "cell_type": "code",
     "collapsed": false,
     "input": [
      "s = pd.Series(data = [1, 3, 5, np.nan, 6, 8])\n",
      "s"
     ],
     "language": "python",
     "metadata": {},
     "outputs": [
      {
       "output_type": "pyout",
       "prompt_number": 3,
       "text": [
        "0     1\n",
        "1     3\n",
        "2     5\n",
        "3   NaN\n",
        "4     6\n",
        "5     8\n",
        "dtype: float64"
       ]
      }
     ],
     "prompt_number": 3
    },
    {
     "cell_type": "code",
     "collapsed": false,
     "input": [
      "dates = pd.date_range(\"20130101\", periods=6) # periods in days\n",
      "df = pd.DataFrame(data = np.random.randn(6, 4), index = dates, columns=list(\"ABCD\"))\n",
      "df"
     ],
     "language": "python",
     "metadata": {},
     "outputs": [
      {
       "html": [
        "<div style=\"max-height:1000px;max-width:1500px;overflow:auto;\">\n",
        "<table border=\"1\" class=\"dataframe\">\n",
        "  <thead>\n",
        "    <tr style=\"text-align: right;\">\n",
        "      <th></th>\n",
        "      <th>A</th>\n",
        "      <th>B</th>\n",
        "      <th>C</th>\n",
        "      <th>D</th>\n",
        "    </tr>\n",
        "  </thead>\n",
        "  <tbody>\n",
        "    <tr>\n",
        "      <th>2013-01-01</th>\n",
        "      <td>-0.210368</td>\n",
        "      <td> 0.945380</td>\n",
        "      <td>-0.548420</td>\n",
        "      <td>-0.125223</td>\n",
        "    </tr>\n",
        "    <tr>\n",
        "      <th>2013-01-02</th>\n",
        "      <td>-0.283749</td>\n",
        "      <td>-0.661021</td>\n",
        "      <td> 0.417830</td>\n",
        "      <td>-0.550734</td>\n",
        "    </tr>\n",
        "    <tr>\n",
        "      <th>2013-01-03</th>\n",
        "      <td>-1.098055</td>\n",
        "      <td>-0.281637</td>\n",
        "      <td> 0.777664</td>\n",
        "      <td>-0.986539</td>\n",
        "    </tr>\n",
        "    <tr>\n",
        "      <th>2013-01-04</th>\n",
        "      <td> 0.147889</td>\n",
        "      <td> 0.105076</td>\n",
        "      <td>-1.646067</td>\n",
        "      <td>-0.282203</td>\n",
        "    </tr>\n",
        "    <tr>\n",
        "      <th>2013-01-05</th>\n",
        "      <td>-0.300052</td>\n",
        "      <td>-1.206062</td>\n",
        "      <td> 0.368665</td>\n",
        "      <td> 0.530973</td>\n",
        "    </tr>\n",
        "    <tr>\n",
        "      <th>2013-01-06</th>\n",
        "      <td>-1.556146</td>\n",
        "      <td>-0.165717</td>\n",
        "      <td>-0.369762</td>\n",
        "      <td>-0.103303</td>\n",
        "    </tr>\n",
        "  </tbody>\n",
        "</table>\n",
        "</div>"
       ],
       "output_type": "pyout",
       "prompt_number": 8,
       "text": [
        "                   A         B         C         D\n",
        "2013-01-01 -0.210368  0.945380 -0.548420 -0.125223\n",
        "2013-01-02 -0.283749 -0.661021  0.417830 -0.550734\n",
        "2013-01-03 -1.098055 -0.281637  0.777664 -0.986539\n",
        "2013-01-04  0.147889  0.105076 -1.646067 -0.282203\n",
        "2013-01-05 -0.300052 -1.206062  0.368665  0.530973\n",
        "2013-01-06 -1.556146 -0.165717 -0.369762 -0.103303"
       ]
      }
     ],
     "prompt_number": 8
    },
    {
     "cell_type": "code",
     "collapsed": false,
     "input": [
      "## ways of creating series/df with duplicate values\n",
      "df2 = pd.DataFrame({\n",
      "    \"A\": 1.,\n",
      "    \"B\": pd.Timestamp(\"20130102\"),\n",
      "    \"C\": pd.Series(1, index = range(4), dtype=\"float32\"),\n",
      "    \"D\": np.array([3] * 4, dtype = 'int32'),\n",
      "    \"E\": 'foo'\n",
      "})\n",
      "print df2\n",
      "print df2.dtypes"
     ],
     "language": "python",
     "metadata": {},
     "outputs": [
      {
       "output_type": "stream",
       "stream": "stdout",
       "text": [
        "   A                   B  C  D    E\n",
        "0  1 2013-01-02 00:00:00  1  3  foo\n",
        "1  1 2013-01-02 00:00:00  1  3  foo\n",
        "2  1 2013-01-02 00:00:00  1  3  foo\n",
        "3  1 2013-01-02 00:00:00  1  3  foo\n",
        "A           float64\n",
        "B    datetime64[ns]\n",
        "C           float32\n",
        "D             int32\n",
        "E            object\n",
        "dtype: object\n"
       ]
      }
     ],
     "prompt_number": 10
    },
    {
     "cell_type": "markdown",
     "metadata": {},
     "source": [
      "## 2. Viewing Data\n",
      "- Antonomy of data: index, columns, values\n",
      "- by rows: head(), tail()\n",
      "- summary: describe()\n",
      "- sorting: by axis or by value"
     ]
    },
    {
     "cell_type": "code",
     "collapsed": false,
     "input": [
      "## Basic elements of a dataframe\n",
      "print df2.values\n",
      "print\n",
      "print df2.values.dtype\n",
      "print \n",
      "print df2.index\n",
      "print \n",
      "print df2.columns\n",
      "print \n",
      "print df2.dtypes"
     ],
     "language": "python",
     "metadata": {},
     "outputs": [
      {
       "output_type": "stream",
       "stream": "stdout",
       "text": [
        "[[1.0 datetime.datetime(2013, 1, 2, 0, 0) 1.0 3 'foo']\n",
        " [1.0 datetime.datetime(2013, 1, 2, 0, 0) 1.0 3 'foo']\n",
        " [1.0 datetime.datetime(2013, 1, 2, 0, 0) 1.0 3 'foo']\n",
        " [1.0 datetime.datetime(2013, 1, 2, 0, 0) 1.0 3 'foo']]\n",
        "\n",
        "object\n",
        "\n",
        "Int64Index([0, 1, 2, 3], dtype=int64)\n",
        "\n",
        "Index([u'A', u'B', u'C', u'D', u'E'], dtype=object)\n",
        "\n",
        "A           float64\n",
        "B    datetime64[ns]\n",
        "C           float32\n",
        "D             int32\n",
        "E            object\n",
        "dtype: object\n"
       ]
      }
     ],
     "prompt_number": 15
    },
    {
     "cell_type": "code",
     "collapsed": false,
     "input": [
      "## rows, columns\n",
      "print df2.head(n=3)\n",
      "print \n",
      "print df2.tail(n=5)\n",
      "print \n",
      "print df2.describe() # B, E are missing\n",
      "print\n",
      "print df2.T"
     ],
     "language": "python",
     "metadata": {},
     "outputs": [
      {
       "output_type": "stream",
       "stream": "stdout",
       "text": [
        "   A                   B  C  D    E\n",
        "0  1 2013-01-02 00:00:00  1  3  foo\n",
        "1  1 2013-01-02 00:00:00  1  3  foo\n",
        "2  1 2013-01-02 00:00:00  1  3  foo\n",
        "\n",
        "   A                   B  C  D    E\n",
        "0  1 2013-01-02 00:00:00  1  3  foo\n",
        "1  1 2013-01-02 00:00:00  1  3  foo\n",
        "2  1 2013-01-02 00:00:00  1  3  foo\n",
        "3  1 2013-01-02 00:00:00  1  3  foo\n",
        "\n",
        "       A  C  D\n",
        "count  4  4  4\n",
        "mean   1  1  3\n",
        "std    0  0  0\n",
        "min    1  1  3\n",
        "25%    1  1  3\n",
        "50%    1  1  3\n",
        "75%    1  1  3\n",
        "max    1  1  3\n",
        "\n",
        "                     0                    1                    2                    3\n",
        "A                    1                    1                    1                    1\n",
        "B  2013-01-02 00:00:00  2013-01-02 00:00:00  2013-01-02 00:00:00  2013-01-02 00:00:00\n",
        "C                    1                    1                    1                    1\n",
        "D                    3                    3                    3                    3\n",
        "E                  foo                  foo                  foo                  foo\n"
       ]
      }
     ],
     "prompt_number": 18
    },
    {
     "cell_type": "code",
     "collapsed": false,
     "input": [
      "## MOST COMMON CASE - sort by columns, by specifying columns and axis must be 0\n",
      "## return new values\n",
      "sorted_df = df.sort(columns = [\"B\", \"C\"], ascending=[0, 1])\n",
      "print df\n",
      "print \n",
      "print sorted_df\n",
      "print \n",
      "## LESS COMMON CASE - sort by rows by specifying axis = 1\n",
      "## normal row order\n",
      "print df.sort(axis = 1, ascending=1)\n",
      "## reverse row order\n",
      "print \n",
      "print df.sort(axis = 1, ascending=0)"
     ],
     "language": "python",
     "metadata": {},
     "outputs": [
      {
       "output_type": "stream",
       "stream": "stdout",
       "text": [
        "                   A         B         C         D\n",
        "2013-01-01 -0.210368  0.945380 -0.548420 -0.125223\n",
        "2013-01-02 -0.283749 -0.661021  0.417830 -0.550734\n",
        "2013-01-03 -1.098055 -0.281637  0.777664 -0.986539\n",
        "2013-01-04  0.147889  0.105076 -1.646067 -0.282203\n",
        "2013-01-05 -0.300052 -1.206062  0.368665  0.530973\n",
        "2013-01-06 -1.556146 -0.165717 -0.369762 -0.103303\n",
        "\n",
        "                   A         B         C         D\n",
        "2013-01-01 -0.210368  0.945380 -0.548420 -0.125223\n",
        "2013-01-04  0.147889  0.105076 -1.646067 -0.282203\n",
        "2013-01-06 -1.556146 -0.165717 -0.369762 -0.103303\n",
        "2013-01-03 -1.098055 -0.281637  0.777664 -0.986539\n",
        "2013-01-02 -0.283749 -0.661021  0.417830 -0.550734\n",
        "2013-01-05 -0.300052 -1.206062  0.368665  0.530973\n",
        "\n",
        "                   A         B         C         D\n",
        "2013-01-01 -0.210368  0.945380 -0.548420 -0.125223\n",
        "2013-01-02 -0.283749 -0.661021  0.417830 -0.550734\n",
        "2013-01-03 -1.098055 -0.281637  0.777664 -0.986539\n",
        "2013-01-04  0.147889  0.105076 -1.646067 -0.282203\n",
        "2013-01-05 -0.300052 -1.206062  0.368665  0.530973\n",
        "2013-01-06 -1.556146 -0.165717 -0.369762 -0.103303\n",
        "\n",
        "                   D         C         B         A\n",
        "2013-01-01 -0.125223 -0.548420  0.945380 -0.210368\n",
        "2013-01-02 -0.550734  0.417830 -0.661021 -0.283749\n",
        "2013-01-03 -0.986539  0.777664 -0.281637 -1.098055\n",
        "2013-01-04 -0.282203 -1.646067  0.105076  0.147889\n",
        "2013-01-05  0.530973  0.368665 -1.206062 -0.300052\n",
        "2013-01-06 -0.103303 -0.369762 -0.165717 -1.556146\n"
       ]
      }
     ],
     "prompt_number": 28
    },
    {
     "cell_type": "markdown",
     "metadata": {},
     "source": [
      "## 3. Selection - ALL OF THEM USE an INDEXING SYNTAX\n",
      "- Select by label/index: df.at[,] or df.loc[,] - support slicing, scaler indexing, and explict index list\n",
      "- Select by position (more alike numpy): df.iat[], df.iloc[] - support slicing, scaler indexing and explict index list\n",
      "- Boolean (conditional) selection, always resulting in a matrix to be selected - (1) INDEX BOOLEAN is a MATRIX - zig-zag resulted matrix (2) INDEX BOOLEAN is a VECTOR - regular-shaped resulted matrix -- see examples below\n",
      "- **where** operation with setting\n",
      "- traditional ix[] or [] operations\n",
      "- suggest to use loc[] instead of at[] as the first one is more general in usage"
     ]
    },
    {
     "cell_type": "code",
     "collapsed": false,
     "input": [
      "## selection by index/row\n",
      "print df\n",
      "print '>> selecting one element by scalar index'\n",
      "print df.loc[pd.Timestamp(\"2013-01-01\", ), \"A\"].shape # key error if the index is NOT right\n",
      "print '>> selecting by slicing (inclusive at both ends)'\n",
      "print df.loc[pd.date_range(\"2013-01-01\",\"2013-01-05\")].shape # does not work with at\n",
      "print '>> selecting by explict listing'\n",
      "print df.loc[[pd.Timestamp(\"20130101\"), pd.Timestamp(\"20130104\")], [\"A\", \"D\"]].shape\n",
      "print \">> selecting columns\"\n",
      "print df.loc[:, \"A\"].shape"
     ],
     "language": "python",
     "metadata": {},
     "outputs": [
      {
       "output_type": "stream",
       "stream": "stdout",
       "text": [
        "                   A         B         C         D\n",
        "2013-01-01 -0.210368  0.945380 -0.548420 -0.125223\n",
        "2013-01-02 -0.283749 -0.661021  0.417830 -0.550734\n",
        "2013-01-03 -1.098055 -0.281637  0.777664 -0.986539\n",
        "2013-01-04  0.147889  0.105076 -1.646067 -0.282203\n",
        "2013-01-05 -0.300052 -1.206062  0.368665  0.530973\n",
        "2013-01-06 -1.556146 -0.165717 -0.369762 -0.103303\n",
        ">> selecting one element by scaler index\n",
        "()\n",
        ">> selecting by slicing (inclusive at both ends)\n",
        "(5, 4)\n",
        ">> selecting by explict listing\n",
        "(2, 2)\n",
        ">> selecting columns\n",
        "(6,)\n"
       ]
      }
     ],
     "prompt_number": 46
    },
    {
     "cell_type": "code",
     "collapsed": false,
     "input": [
      "## selection by position (from 0 ~ shape[]-1)\n",
      "print df\n",
      "print '>> selecting one element by scalar index'\n",
      "print df.iloc[1, 1]\n",
      "print '>> selecting by slicing (excluding due to slicing)'\n",
      "print df.iloc[1:3, :3]\n",
      "print '>> selecting by explicit listing'\n",
      "print df.iloc[[0, 3], [0, 3]]\n",
      "print '>> selecting a single column'\n",
      "print df.iloc[:, 1].shape"
     ],
     "language": "python",
     "metadata": {},
     "outputs": [
      {
       "output_type": "stream",
       "stream": "stdout",
       "text": [
        "                   A         B         C         D\n",
        "2013-01-01 -0.210368  0.945380 -0.548420 -0.125223\n",
        "2013-01-02 -0.283749 -0.661021  0.417830 -0.550734\n",
        "2013-01-03 -1.098055 -0.281637  0.777664 -0.986539\n",
        "2013-01-04  0.147889  0.105076 -1.646067 -0.282203\n",
        "2013-01-05 -0.300052 -1.206062  0.368665  0.530973\n",
        "2013-01-06 -1.556146 -0.165717 -0.369762 -0.103303\n",
        ">> selecting one element by scalar index\n",
        "-0.661021094689\n",
        ">> selecting by slicing (excluding due to slicing)\n",
        "                   A         B         C\n",
        "2013-01-02 -0.283749 -0.661021  0.417830\n",
        "2013-01-03 -1.098055 -0.281637  0.777664\n",
        ">> selecting by explicit listing\n",
        "                   A         D\n",
        "2013-01-01 -0.210368 -0.125223\n",
        "2013-01-04  0.147889 -0.282203\n",
        ">> selecting a single column\n",
        "(6,)\n"
       ]
      }
     ],
     "prompt_number": 54
    },
    {
     "cell_type": "code",
     "collapsed": false,
     "input": [
      "## Boolean / Conditional Selection - ON WHOLE MATRIX\n",
      "## MOST COMMON CASE - use boolean selection to do summarization or assignment\n",
      "print df\n",
      "print df > 0\n",
      "print df[df > 0] ## ZIG-ZAG matrix\n",
      "df[df > 0] = -100\n",
      "print df\n",
      "print '>> reset'\n",
      "df = pd.DataFrame(data = np.random.randn(6, 4), index = df.index, columns = df.columns)\n",
      "print df"
     ],
     "language": "python",
     "metadata": {},
     "outputs": [
      {
       "output_type": "stream",
       "stream": "stdout",
       "text": [
        "                   A         B         C         D\n",
        "2013-01-01  0.424463 -0.288327 -1.727866  0.349882\n",
        "2013-01-02 -0.886902 -0.880338  1.456684  1.683952\n",
        "2013-01-03  0.090700  1.426625  0.387601 -0.067776\n",
        "2013-01-04 -1.534329  0.924051 -1.170228 -0.237771\n",
        "2013-01-05  1.090578 -2.352680 -1.706989 -1.191688\n",
        "2013-01-06 -0.041499  0.413608 -1.268566 -0.945122\n",
        "                A      B      C      D\n",
        "2013-01-01   True  False  False   True\n",
        "2013-01-02  False  False   True   True\n",
        "2013-01-03   True   True   True  False\n",
        "2013-01-04  False   True  False  False\n",
        "2013-01-05   True  False  False  False\n",
        "2013-01-06  False   True  False  False\n",
        "                   A         B         C         D\n",
        "2013-01-01  0.424463       NaN       NaN  0.349882\n",
        "2013-01-02       NaN       NaN  1.456684  1.683952\n",
        "2013-01-03  0.090700  1.426625  0.387601       NaN\n",
        "2013-01-04       NaN  0.924051       NaN       NaN\n",
        "2013-01-05  1.090578       NaN       NaN       NaN\n",
        "2013-01-06       NaN  0.413608       NaN       NaN\n",
        "                     A           B           C           D\n",
        "2013-01-01 -100.000000   -0.288327   -1.727866 -100.000000\n",
        "2013-01-02   -0.886902   -0.880338 -100.000000 -100.000000\n",
        "2013-01-03 -100.000000 -100.000000 -100.000000   -0.067776\n",
        "2013-01-04   -1.534329 -100.000000   -1.170228   -0.237771\n",
        "2013-01-05 -100.000000   -2.352680   -1.706989   -1.191688\n",
        "2013-01-06   -0.041499 -100.000000   -1.268566   -0.945122\n",
        ">> reset\n",
        "                   A         B         C         D\n",
        "2013-01-01 -0.224742  0.081566 -1.832048  1.834977\n",
        "2013-01-02  1.251540  0.983420 -1.842017  1.401320\n",
        "2013-01-03 -1.398185 -0.995056  3.071875 -1.729866\n",
        "2013-01-04  1.278033 -0.585896  1.439737 -1.090140\n",
        "2013-01-05  0.479395  1.111523  2.288087 -0.349168\n",
        "2013-01-06 -0.825672 -0.881274 -1.444182 -0.705904\n"
       ]
      }
     ],
     "prompt_number": 76
    },
    {
     "cell_type": "code",
     "collapsed": false,
     "input": [
      "## Boolean / Conditional Selection - ON CERTAIN COLUMN\n",
      "print df\n",
      "print df.A > 0\n",
      "print '\\nselecting df elements of df.A > 0'\n",
      "print df[df.A > 0] # selecting rows\n",
      "print '\\nselecting df elements of df.A > 0 and df.D < 0'\n",
      "print df[np.logical_and(df.A > 0, df.D < 0)]\n",
      "df[df.A > 0] = 100 ## assiging whole bunch of rows\n",
      "print df\n",
      "## reset\n",
      "df = pd.DataFrame(data = np.random.randn(6, 4), index = df.index, columns = df.columns)"
     ],
     "language": "python",
     "metadata": {},
     "outputs": [
      {
       "output_type": "stream",
       "stream": "stdout",
       "text": [
        "                   A         B         C         D\n",
        "2013-01-01 -0.702870 -2.805914 -0.052478  1.011947\n",
        "2013-01-02  2.073737  0.312464  1.190006  0.039488\n",
        "2013-01-03  0.233439  0.030616 -0.013012 -1.140088\n",
        "2013-01-04  0.616728 -0.828390 -1.378902  0.261765\n",
        "2013-01-05  1.891266  0.269290  0.298814 -1.157282\n",
        "2013-01-06 -0.132331 -0.668096 -1.237168  0.886050\n",
        "2013-01-01    False\n",
        "2013-01-02     True\n",
        "2013-01-03     True\n",
        "2013-01-04     True\n",
        "2013-01-05     True\n",
        "2013-01-06    False\n",
        "Freq: D, Name: A, dtype: bool\n",
        "\n",
        "selecting df elements of df.A > 0\n",
        "                   A         B         C         D\n",
        "2013-01-02  2.073737  0.312464  1.190006  0.039488\n",
        "2013-01-03  0.233439  0.030616 -0.013012 -1.140088\n",
        "2013-01-04  0.616728 -0.828390 -1.378902  0.261765\n",
        "2013-01-05  1.891266  0.269290  0.298814 -1.157282\n",
        "\n",
        "selecting df elements of df.A > 0 and df.D < 0\n",
        "                   A         B         C         D\n",
        "2013-01-03  0.233439  0.030616 -0.013012 -1.140088\n",
        "2013-01-05  1.891266  0.269290  0.298814 -1.157282\n",
        "                     A           B           C           D\n",
        "2013-01-01   -0.702870   -2.805914   -0.052478    1.011947\n",
        "2013-01-02  100.000000  100.000000  100.000000  100.000000\n",
        "2013-01-03  100.000000  100.000000  100.000000  100.000000\n",
        "2013-01-04  100.000000  100.000000  100.000000  100.000000\n",
        "2013-01-05  100.000000  100.000000  100.000000  100.000000\n",
        "2013-01-06   -0.132331   -0.668096   -1.237168    0.886050\n"
       ]
      }
     ],
     "prompt_number": 75
    },
    {
     "cell_type": "code",
     "collapsed": false,
     "input": [
      "## WHERE operation with setting\n",
      "## COPY OF DATAFRAME - either DEEP (default) or SHALLOW \n",
      "dff = df.copy(deep = True)\n",
      "print dff\n",
      "print \">> reverse negative values\"\n",
      "dff[dff < 0] = - dff\n",
      "print dff\n",
      "dff[dff.A > 0] = - dff\n",
      "print dff"
     ],
     "language": "python",
     "metadata": {},
     "outputs": [
      {
       "output_type": "stream",
       "stream": "stdout",
       "text": [
        "                   A         B         C         D\n",
        "2013-01-01 -0.224742  0.081566 -1.832048  1.834977\n",
        "2013-01-02  1.251540  0.983420 -1.842017  1.401320\n",
        "2013-01-03 -1.398185 -0.995056  3.071875 -1.729866\n",
        "2013-01-04  1.278033 -0.585896  1.439737 -1.090140\n",
        "2013-01-05  0.479395  1.111523  2.288087 -0.349168\n",
        "2013-01-06 -0.825672 -0.881274 -1.444182 -0.705904\n",
        ">> reverse negative values\n",
        "                   A         B         C         D\n",
        "2013-01-01  0.224742  0.081566  1.832048  1.834977\n",
        "2013-01-02  1.251540  0.983420  1.842017  1.401320\n",
        "2013-01-03  1.398185  0.995056  3.071875  1.729866\n",
        "2013-01-04  1.278033  0.585896  1.439737  1.090140\n",
        "2013-01-05  0.479395  1.111523  2.288087  0.349168\n",
        "2013-01-06  0.825672  0.881274  1.444182  0.705904\n",
        "                   A         B         C         D\n",
        "2013-01-01 -0.224742 -0.081566 -1.832048 -1.834977\n",
        "2013-01-02 -1.251540 -0.983420 -1.842017 -1.401320\n",
        "2013-01-03 -1.398185 -0.995056 -3.071875 -1.729866\n",
        "2013-01-04 -1.278033 -0.585896 -1.439737 -1.090140\n",
        "2013-01-05 -0.479395 -1.111523 -2.288087 -0.349168\n",
        "2013-01-06 -0.825672 -0.881274 -1.444182 -0.705904\n"
       ]
      }
     ],
     "prompt_number": 79
    },
    {
     "cell_type": "markdown",
     "metadata": {},
     "source": [
      "## 4. Missing Data\n",
      "- Pandas primarily uses the value np.nan to respresent missing values.\n",
      "- Missing values are by default NOT included in computations.\n",
      "- THREE MAIN TYPES of operations on missing data - FINDING, DROPPING (ignoring) or FILLING (imputation)"
     ]
    },
    {
     "cell_type": "code",
     "collapsed": false,
     "input": [
      "## CREATE missing values\n",
      "dff = df.copy(deep = True)\n",
      "dff['E'] = [1] * 3 + [np.nan] * 3\n",
      "dff.D.iloc[1] = np.nan\n",
      "dff['F'] = np.nan\n",
      "print dff"
     ],
     "language": "python",
     "metadata": {},
     "outputs": [
      {
       "output_type": "stream",
       "stream": "stdout",
       "text": [
        "                   A         B         C         D   E   F\n",
        "2013-01-01 -0.224742  0.081566 -1.832048  1.834977   1 NaN\n",
        "2013-01-02  1.251540  0.983420 -1.842017       NaN   1 NaN\n",
        "2013-01-03 -1.398185 -0.995056  3.071875 -1.729866   1 NaN\n",
        "2013-01-04  1.278033 -0.585896  1.439737 -1.090140 NaN NaN\n",
        "2013-01-05  0.479395  1.111523  2.288087 -0.349168 NaN NaN\n",
        "2013-01-06 -0.825672 -0.881274 -1.444182 -0.705904 NaN NaN\n"
       ]
      }
     ],
     "prompt_number": 90
    },
    {
     "cell_type": "code",
     "collapsed": false,
     "input": [
      "## FINDING of missing values - BOOLEAN MATRIX\n",
      "dfff = dff.copy(deep = True)\n",
      "print pd.isnull(dfff)\n",
      "dfff[pd.isnull(dfff)] = 100\n",
      "print dfff"
     ],
     "language": "python",
     "metadata": {},
     "outputs": [
      {
       "output_type": "stream",
       "stream": "stdout",
       "text": [
        "                A      B      C      D      E     F\n",
        "2013-01-01  False  False  False  False  False  True\n",
        "2013-01-02  False  False  False   True  False  True\n",
        "2013-01-03  False  False  False  False  False  True\n",
        "2013-01-04  False  False  False  False   True  True\n",
        "2013-01-05  False  False  False  False   True  True\n",
        "2013-01-06  False  False  False  False   True  True\n",
        "                   A         B         C           D    E    F\n",
        "2013-01-01 -0.224742  0.081566 -1.832048    1.834977    1  100\n",
        "2013-01-02  1.251540  0.983420 -1.842017  100.000000    1  100\n",
        "2013-01-03 -1.398185 -0.995056  3.071875   -1.729866    1  100\n",
        "2013-01-04  1.278033 -0.585896  1.439737   -1.090140  100  100\n",
        "2013-01-05  0.479395  1.111523  2.288087   -0.349168  100  100\n",
        "2013-01-06 -0.825672 -0.881274 -1.444182   -0.705904  100  100\n"
       ]
      }
     ],
     "prompt_number": 115
    },
    {
     "cell_type": "code",
     "collapsed": false,
     "input": [
      "## REMOVE missing data\n",
      "print dff\n",
      "print '\\n>> drop ANY na-rows axis = 0'\n",
      "print dff.dropna(axis = 0, how = 'any')\n",
      "print '\\n>> drop ALL na-rows axis = 0'\n",
      "print dff.dropna(axis = 0, how = 'all')\n",
      "print '\\n>> drop ANY na-cols axis = 1'\n",
      "print dff.dropna(axis = 1, how = 'any')\n",
      "print '\\n>> drop ALL na-cols axis = 1'\n",
      "print dff.dropna(axis = 1, how = 'all')\n",
      "print '\\n>> drop na-rows based on NON-NA threshold - how param is DEACTIVATED'\n",
      "print dff.dropna(axis = 0, thresh=5)\n",
      "print '\\n>> drop na-cols based on NON-NA threshold - how param is DEACTIVATED'\n",
      "print dff.dropna(axis = 1, thresh=4)"
     ],
     "language": "python",
     "metadata": {},
     "outputs": [
      {
       "output_type": "stream",
       "stream": "stdout",
       "text": [
        "                   A         B         C         D   E   F\n",
        "2013-01-01 -0.224742  0.081566 -1.832048  1.834977   1 NaN\n",
        "2013-01-02  1.251540  0.983420 -1.842017       NaN   1 NaN\n",
        "2013-01-03 -1.398185 -0.995056  3.071875 -1.729866   1 NaN\n",
        "2013-01-04  1.278033 -0.585896  1.439737 -1.090140 NaN NaN\n",
        "2013-01-05  0.479395  1.111523  2.288087 -0.349168 NaN NaN\n",
        "2013-01-06 -0.825672 -0.881274 -1.444182 -0.705904 NaN NaN\n",
        "\n",
        ">> drop ANY na-rows axis = 0\n",
        "Empty DataFrame\n",
        "Columns: [A, B, C, D, E, F]\n",
        "Index: []\n",
        "\n",
        ">> drop ALL na-rows axis = 0\n",
        "                   A         B         C         D   E   F\n",
        "2013-01-01 -0.224742  0.081566 -1.832048  1.834977   1 NaN\n",
        "2013-01-02  1.251540  0.983420 -1.842017       NaN   1 NaN\n",
        "2013-01-03 -1.398185 -0.995056  3.071875 -1.729866   1 NaN\n",
        "2013-01-04  1.278033 -0.585896  1.439737 -1.090140 NaN NaN\n",
        "2013-01-05  0.479395  1.111523  2.288087 -0.349168 NaN NaN\n",
        "2013-01-06 -0.825672 -0.881274 -1.444182 -0.705904 NaN NaN\n",
        "\n",
        ">> drop ANY na-cols axis = 1\n",
        "                   A         B         C\n",
        "2013-01-01 -0.224742  0.081566 -1.832048\n",
        "2013-01-02  1.251540  0.983420 -1.842017\n",
        "2013-01-03 -1.398185 -0.995056  3.071875\n",
        "2013-01-04  1.278033 -0.585896  1.439737\n",
        "2013-01-05  0.479395  1.111523  2.288087\n",
        "2013-01-06 -0.825672 -0.881274 -1.444182\n",
        "\n",
        ">> drop ALL na-cols axis = 1\n",
        "                   A         B         C         D   E\n",
        "2013-01-01 -0.224742  0.081566 -1.832048  1.834977   1\n",
        "2013-01-02  1.251540  0.983420 -1.842017       NaN   1\n",
        "2013-01-03 -1.398185 -0.995056  3.071875 -1.729866   1\n",
        "2013-01-04  1.278033 -0.585896  1.439737 -1.090140 NaN\n",
        "2013-01-05  0.479395  1.111523  2.288087 -0.349168 NaN\n",
        "2013-01-06 -0.825672 -0.881274 -1.444182 -0.705904 NaN\n",
        "\n",
        ">> drop na-rows based on NON-NA threshold - how param is DEACTIVATED\n",
        "                   A         B         C         D  E   F\n",
        "2013-01-01 -0.224742  0.081566 -1.832048  1.834977  1 NaN\n",
        "2013-01-03 -1.398185 -0.995056  3.071875 -1.729866  1 NaN\n",
        "\n",
        ">> drop na-cols based on NON-NA threshold - how param is DEACTIVATED\n",
        "                   A         B         C         D\n",
        "2013-01-01 -0.224742  0.081566 -1.832048  1.834977\n",
        "2013-01-02  1.251540  0.983420 -1.842017       NaN\n",
        "2013-01-03 -1.398185 -0.995056  3.071875 -1.729866\n",
        "2013-01-04  1.278033 -0.585896  1.439737 -1.090140\n",
        "2013-01-05  0.479395  1.111523  2.288087 -0.349168\n",
        "2013-01-06 -0.825672 -0.881274 -1.444182 -0.705904"
       ]
      },
      {
       "output_type": "stream",
       "stream": "stdout",
       "text": [
        "\n"
       ]
      }
     ],
     "prompt_number": 103
    },
    {
     "cell_type": "code",
     "collapsed": false,
     "input": [
      "## FILL UP missing values - IMPUTATION\n",
      "## Parameters\n",
      "## ----------\n",
      "## method : {'backfill', 'bfill', 'pad', 'ffill', None}, default None\n",
      "##     Method to use for filling holes in reindexed Series\n",
      "##     pad / ffill: propagate last valid observation forward to next valid\n",
      "##     backfill / bfill: use NEXT valid observation to fill gap\n",
      "##     None: fill by value\n",
      "## value : scalar or dict\n",
      "##     Value to use to fill holes (e.g. 0), alternately a dict of values\n",
      "##     specifying which value to use for each column (columns not in the\n",
      "##     dict will not be filled). This value cannot be a list.\n",
      "## axis : {0, 1}, default 0\n",
      "##     0: fill column-by-column\n",
      "##     1: fill row-by-row\n",
      "## inplace : boolean, default False\n",
      "##     If True, fill the DataFrame in place. Note: this will modify any\n",
      "##     other views on this DataFrame, like if you took a no-copy slice of\n",
      "##     an existing DataFrame, for example a column in a DataFrame. Returns\n",
      "##     a reference to the filled object, which is self if inplace=True\n",
      "## limit : int, default None\n",
      "##     Maximum size gap to forward or backward fill\n",
      "## downcast : dict, default is None, a dict of item->dtype of what to\n",
      "##     downcast if possible\n",
      "print dff\n",
      "print dff.fillna(method='backfill')\n",
      "print dff.fillna(method=\"ffill\")\n",
      "print dff.fillna(method = None, value = {\"D\": -100, \"E\": 0})"
     ],
     "language": "python",
     "metadata": {},
     "outputs": [
      {
       "output_type": "stream",
       "stream": "stdout",
       "text": [
        "                   A         B         C         D   E   F\n",
        "2013-01-01 -0.224742  0.081566 -1.832048  1.834977   1 NaN\n",
        "2013-01-02  1.251540  0.983420 -1.842017       NaN   1 NaN\n",
        "2013-01-03 -1.398185 -0.995056  3.071875 -1.729866   1 NaN\n",
        "2013-01-04  1.278033 -0.585896  1.439737 -1.090140 NaN NaN\n",
        "2013-01-05  0.479395  1.111523  2.288087 -0.349168 NaN NaN\n",
        "2013-01-06 -0.825672 -0.881274 -1.444182 -0.705904 NaN NaN\n",
        "                   A         B         C         D   E   F\n",
        "2013-01-01 -0.224742  0.081566 -1.832048  1.834977   1 NaN\n",
        "2013-01-02  1.251540  0.983420 -1.842017 -1.729866   1 NaN\n",
        "2013-01-03 -1.398185 -0.995056  3.071875 -1.729866   1 NaN\n",
        "2013-01-04  1.278033 -0.585896  1.439737 -1.090140 NaN NaN\n",
        "2013-01-05  0.479395  1.111523  2.288087 -0.349168 NaN NaN\n",
        "2013-01-06 -0.825672 -0.881274 -1.444182 -0.705904 NaN NaN\n",
        "                   A         B         C         D  E   F\n",
        "2013-01-01 -0.224742  0.081566 -1.832048  1.834977  1 NaN\n",
        "2013-01-02  1.251540  0.983420 -1.842017  1.834977  1 NaN\n",
        "2013-01-03 -1.398185 -0.995056  3.071875 -1.729866  1 NaN\n",
        "2013-01-04  1.278033 -0.585896  1.439737 -1.090140  1 NaN\n",
        "2013-01-05  0.479395  1.111523  2.288087 -0.349168  1 NaN\n",
        "2013-01-06 -0.825672 -0.881274 -1.444182 -0.705904  1 NaN\n",
        "                   A         B         C           D  E   F\n",
        "2013-01-01 -0.224742  0.081566 -1.832048    1.834977  1 NaN\n",
        "2013-01-02  1.251540  0.983420 -1.842017 -100.000000  1 NaN\n",
        "2013-01-03 -1.398185 -0.995056  3.071875   -1.729866  1 NaN\n",
        "2013-01-04  1.278033 -0.585896  1.439737   -1.090140  0 NaN\n",
        "2013-01-05  0.479395  1.111523  2.288087   -0.349168  0 NaN\n",
        "2013-01-06 -0.825672 -0.881274 -1.444182   -0.705904  0 NaN\n"
       ]
      }
     ],
     "prompt_number": 112
    },
    {
     "cell_type": "markdown",
     "metadata": {},
     "source": [
      "## 5. Operations\n",
      "- General Case - (1) pd.DataFrame.apply(cum_fn, axis) (2) pd.DataFrame.applymap(elewise_fn) for elementwise operation, Use parameter *raw =True* if the applied function is working on numpy.ndarray data instead of pd.Series\n",
      "- Histogramming and value_counts()\n",
      "- Discretization - USUALLY ALWAYS in a columnwise style (FEATURE BY FEATURE) - cut() and get factor.labels\n",
      "- REPLACE: pd.DataFrame.repalce"
     ]
    },
    {
     "cell_type": "code",
     "collapsed": false,
     "input": [
      "print df\n",
      "print \">> apply mean on columns\"\n",
      "print df.apply(np.mean, raw = True, axis = 0)\n",
      "print \">> apply sum on rows\"\n",
      "print df.apply(np.sum, raw = True, axis = 1)\n",
      "print df.applymap(lambda x: x **2) # equlivanent to df ** 2"
     ],
     "language": "python",
     "metadata": {},
     "outputs": [
      {
       "output_type": "stream",
       "stream": "stdout",
       "text": [
        "                   A         B         C         D\n",
        "2013-01-01 -0.224742  0.081566 -1.832048  1.834977\n",
        "2013-01-02  1.251540  0.983420 -1.842017  1.401320\n",
        "2013-01-03 -1.398185 -0.995056  3.071875 -1.729866\n",
        "2013-01-04  1.278033 -0.585896  1.439737 -1.090140\n",
        "2013-01-05  0.479395  1.111523  2.288087 -0.349168\n",
        "2013-01-06 -0.825672 -0.881274 -1.444182 -0.705904\n",
        ">> apply mean on columns\n",
        "A    0.093395\n",
        "B   -0.047619\n",
        "C    0.280242\n",
        "D   -0.106464\n",
        "dtype: float64\n",
        ">> apply sum on rows\n",
        "2013-01-01   -0.140246\n",
        "2013-01-02    1.794263\n",
        "2013-01-03   -1.051231\n",
        "2013-01-04    1.041734\n",
        "2013-01-05    3.529837\n",
        "2013-01-06   -3.857032\n",
        "Freq: D, dtype: float64\n",
        "                   A         B         C         D\n",
        "2013-01-01  0.050509  0.006653  3.356399  3.367142\n",
        "2013-01-02  1.566352  0.967115  3.393026  1.963697\n",
        "2013-01-03  1.954920  0.990136  9.436418  2.992437\n",
        "2013-01-04  1.633369  0.343274  2.072842  1.188406\n",
        "2013-01-05  0.229819  1.235483  5.235342  0.121918\n",
        "2013-01-06  0.681734  0.776643  2.085662  0.498301\n"
       ]
      }
     ],
     "prompt_number": 128
    },
    {
     "cell_type": "code",
     "collapsed": false,
     "input": [
      "df['E'] = pd.Series(map(str, np.random.randint(0, 4, size = 6)), index = df.index)\n",
      "print df\n",
      "## HISTOGRAMMING by Value-Counting \n",
      "## - RETURN ANOTHER SEREIS (essentially convertable to dict)\n",
      "df.E.value_counts().to_dict()"
     ],
     "language": "python",
     "metadata": {},
     "outputs": [
      {
       "output_type": "stream",
       "stream": "stdout",
       "text": [
        "                   A         B         C         D  E\n",
        "2013-01-01 -0.224742  0.081566 -1.832048  1.834977  3\n",
        "2013-01-02  1.251540  0.983420 -1.842017  1.401320  1\n",
        "2013-01-03 -1.398185 -0.995056  3.071875 -1.729866  3\n",
        "2013-01-04  1.278033 -0.585896  1.439737 -1.090140  3\n",
        "2013-01-05  0.479395  1.111523  2.288087 -0.349168  1\n",
        "2013-01-06 -0.825672 -0.881274 -1.444182 -0.705904  2\n"
       ]
      },
      {
       "output_type": "pyout",
       "prompt_number": 142,
       "text": [
        "{'1': 2, '2': 1, '3': 3}"
       ]
      }
     ],
     "prompt_number": 142
    },
    {
     "cell_type": "code",
     "collapsed": false,
     "input": [
      "## Discretization and Quantiling -- for numeric data ONLY\n",
      "## very similiar to R factor now\n",
      "print df\n",
      "A_factors = pd.cut(df.A, 3) \n",
      "print type(A_factors)\n",
      "print A_factors\n",
      "print 'FACTOR LABELS >> ', A_factors.labels\n",
      "print 'FACTOR LEVELS >>', A_factors.levels\n",
      "print 'quatiling >>'\n",
      "A_quantiles = pd.qcut(df.A, [0, 0.25, 0.75, 1])\n",
      "print 'QFACTOR LABELS >> ', A_quantiles.labels\n",
      "print 'QFACTOR LEVELS >> ', A_quantiles.levels"
     ],
     "language": "python",
     "metadata": {},
     "outputs": [
      {
       "output_type": "stream",
       "stream": "stdout",
       "text": [
        "                   A         B         C         D  E\n",
        "2013-01-01 -0.224742  0.081566 -1.832048  1.834977  3\n",
        "2013-01-02  1.251540  0.983420 -1.842017  1.401320  1\n",
        "2013-01-03 -1.398185 -0.995056  3.071875 -1.729866  3\n",
        "2013-01-04  1.278033 -0.585896  1.439737 -1.090140  3\n",
        "2013-01-05  0.479395  1.111523  2.288087 -0.349168  1\n",
        "2013-01-06 -0.825672 -0.881274 -1.444182 -0.705904  2\n",
        "<class 'pandas.core.categorical.Categorical'>\n",
        "Categorical: A\n",
        "[(-0.506, 0.386], (0.386, 1.278], (-1.401, -0.506], (0.386, 1.278], (0.386, 1.278], (-1.401, -0.506]]\n",
        "Levels (3): Index(['(-1.401, -0.506]', '(-0.506, 0.386]',\n",
        "                   '(0.386, 1.278]'], dtype=object)\n",
        "FACTOR LABELS >>  [1 2 0 2 2 0]\n",
        "FACTOR LEVELS >> Index([u'(-1.401, -0.506]', u'(-0.506, 0.386]', u'(0.386, 1.278]'], dtype=object)\n",
        "quatiling >>\n",
        "QFACTOR LABELS >>  [1 2 0 2 1 0]\n",
        "QFACTOR LEVELS >>  Index([u'[-1.398, -0.675]', u'(-0.675, 1.0585]', u'(1.0585, 1.278]'], dtype=object)\n"
       ]
      }
     ],
     "prompt_number": 158
    },
    {
     "cell_type": "code",
     "collapsed": false,
     "input": [
      "## REPLACEMENT\n",
      "print df\n",
      "print df.replace({'E': {'3': '2'}}) ## COMBINE 3 and 2"
     ],
     "language": "python",
     "metadata": {},
     "outputs": [
      {
       "output_type": "stream",
       "stream": "stdout",
       "text": [
        "                   A         B         C         D  E\n",
        "2013-01-01 -0.224742  0.081566 -1.832048  1.834977  3\n",
        "2013-01-02  1.251540  0.983420 -1.842017  1.401320  1\n",
        "2013-01-03 -1.398185 -0.995056  3.071875 -1.729866  3\n",
        "2013-01-04  1.278033 -0.585896  1.439737 -1.090140  3\n",
        "2013-01-05  0.479395  1.111523  2.288087 -0.349168  1\n",
        "2013-01-06 -0.825672 -0.881274 -1.444182 -0.705904  2\n",
        "                   A         B         C         D  E\n",
        "2013-01-01 -0.224742  0.081566 -1.832048  1.834977  2\n",
        "2013-01-02  1.251540  0.983420 -1.842017  1.401320  1\n",
        "2013-01-03 -1.398185 -0.995056  3.071875 -1.729866  2\n",
        "2013-01-04  1.278033 -0.585896  1.439737 -1.090140  2\n",
        "2013-01-05  0.479395  1.111523  2.288087 -0.349168  1\n",
        "2013-01-06 -0.825672 -0.881274 -1.444182 -0.705904  2\n"
       ]
      }
     ],
     "prompt_number": 161
    },
    {
     "cell_type": "markdown",
     "metadata": {},
     "source": [
      "## 6. Merge\n",
      "- Concat (hstack, vstack like)\n",
      "- Join (database like join)\n",
      "- Append (column, row)"
     ]
    },
    {
     "cell_type": "code",
     "collapsed": false,
     "input": [
      "## Horizontal concat\n",
      "print \"HORIZONTAL SPLITTING AND CONCATING\"\n",
      "print df\n",
      "hdf1 = df.iloc[:3]\n",
      "hdf2 = df.iloc[3:]\n",
      "print hdf1\n",
      "print hdf2\n",
      "print pd.concat([hdf2, hdf1], axis = 0)\n",
      "## Vertical concat\n",
      "print '\\nVERTICAL SPLITTING AND CONCATING'\n",
      "vdf1 = df.iloc[:, :3]\n",
      "vdf2 = df.iloc[:, 3:]\n",
      "print vdf1\n",
      "print vdf2\n",
      "print pd.concat([vdf2, vdf1], axis = 1)"
     ],
     "language": "python",
     "metadata": {},
     "outputs": [
      {
       "output_type": "stream",
       "stream": "stdout",
       "text": [
        "HORIZONTAL SPLITTING AND CONCATING\n",
        "                   A         B         C         D  E\n",
        "2013-01-01 -0.224742  0.081566 -1.832048  1.834977  3\n",
        "2013-01-02  1.251540  0.983420 -1.842017  1.401320  1\n",
        "2013-01-03 -1.398185 -0.995056  3.071875 -1.729866  3\n",
        "2013-01-04  1.278033 -0.585896  1.439737 -1.090140  3\n",
        "2013-01-05  0.479395  1.111523  2.288087 -0.349168  1\n",
        "2013-01-06 -0.825672 -0.881274 -1.444182 -0.705904  2\n",
        "                   A         B         C         D  E\n",
        "2013-01-01 -0.224742  0.081566 -1.832048  1.834977  3\n",
        "2013-01-02  1.251540  0.983420 -1.842017  1.401320  1\n",
        "2013-01-03 -1.398185 -0.995056  3.071875 -1.729866  3\n",
        "                   A         B         C         D  E\n",
        "2013-01-04  1.278033 -0.585896  1.439737 -1.090140  3\n",
        "2013-01-05  0.479395  1.111523  2.288087 -0.349168  1\n",
        "2013-01-06 -0.825672 -0.881274 -1.444182 -0.705904  2\n",
        "                   A         B         C         D  E\n",
        "2013-01-04  1.278033 -0.585896  1.439737 -1.090140  3\n",
        "2013-01-05  0.479395  1.111523  2.288087 -0.349168  1\n",
        "2013-01-06 -0.825672 -0.881274 -1.444182 -0.705904  2\n",
        "2013-01-01 -0.224742  0.081566 -1.832048  1.834977  3\n",
        "2013-01-02  1.251540  0.983420 -1.842017  1.401320  1\n",
        "2013-01-03 -1.398185 -0.995056  3.071875 -1.729866  3\n",
        "\n",
        "VERTICAL SPLITTING AND CONCATING\n",
        "                   A         B         C\n",
        "2013-01-01 -0.224742  0.081566 -1.832048\n",
        "2013-01-02  1.251540  0.983420 -1.842017\n",
        "2013-01-03 -1.398185 -0.995056  3.071875\n",
        "2013-01-04  1.278033 -0.585896  1.439737\n",
        "2013-01-05  0.479395  1.111523  2.288087\n",
        "2013-01-06 -0.825672 -0.881274 -1.444182"
       ]
      },
      {
       "output_type": "stream",
       "stream": "stdout",
       "text": [
        "\n",
        "                   D  E\n",
        "2013-01-01  1.834977  3\n",
        "2013-01-02  1.401320  1\n",
        "2013-01-03 -1.729866  3\n",
        "2013-01-04 -1.090140  3\n",
        "2013-01-05 -0.349168  1\n",
        "2013-01-06 -0.705904  2\n",
        "                   D  E         A         B         C\n",
        "2013-01-01  1.834977  3 -0.224742  0.081566 -1.832048\n",
        "2013-01-02  1.401320  1  1.251540  0.983420 -1.842017\n",
        "2013-01-03 -1.729866  3 -1.398185 -0.995056  3.071875\n",
        "2013-01-04 -1.090140  3  1.278033 -0.585896  1.439737\n",
        "2013-01-05 -0.349168  1  0.479395  1.111523  2.288087\n",
        "2013-01-06 -0.705904  2 -0.825672 -0.881274 -1.444182\n"
       ]
      }
     ],
     "prompt_number": 169
    },
    {
     "cell_type": "code",
     "collapsed": false,
     "input": [
      "## JOINING / MERGING\n",
      "## pd.merge(left, right, how='inner', on=None, \n",
      "##     left_on=None, right_on=None, \n",
      "##     left_index=False, right_index=False, sort=False, \n",
      "##     suffixes=('_x', '_y'), copy=True)\n",
      "left = pd.DataFrame({'key': ['foo', 'foo'], 'lval': [1, 2]})\n",
      "right = pd.DataFrame({'key': ['foo', 'foo'], 'rval': [6, 7]})\n",
      "print left\n",
      "print right\n",
      "print pd.merge(left, right, on = 'key')"
     ],
     "language": "python",
     "metadata": {},
     "outputs": [
      {
       "output_type": "stream",
       "stream": "stdout",
       "text": [
        "   key  lval\n",
        "0  foo     1\n",
        "1  foo     2\n",
        "   key  rval\n",
        "0  foo     6\n",
        "1  foo     7\n",
        "   key  lval  rval\n",
        "0  foo     1     6\n",
        "1  foo     1     7\n",
        "2  foo     2     6\n",
        "3  foo     2     7\n"
       ]
      }
     ],
     "prompt_number": 172
    },
    {
     "cell_type": "code",
     "collapsed": false,
     "input": [
      "## APPENDING ROWS\n",
      "## NOT REALLY VERY USEFUL\n",
      "print df\n",
      "print type(df.iloc[3])\n",
      "print df.iloc[3].name\n",
      "df.append(pd.Series(np.random.randn(5), index = df.columns), ignore_index=True, )"
     ],
     "language": "python",
     "metadata": {},
     "outputs": [
      {
       "output_type": "stream",
       "stream": "stdout",
       "text": [
        "                   A         B         C         D  E\n",
        "2013-01-01 -0.224742  0.081566 -1.832048  1.834977  3\n",
        "2013-01-02  1.251540  0.983420 -1.842017  1.401320  1\n",
        "2013-01-03 -1.398185 -0.995056  3.071875 -1.729866  3\n",
        "2013-01-04  1.278033 -0.585896  1.439737 -1.090140  3\n",
        "2013-01-05  0.479395  1.111523  2.288087 -0.349168  1\n",
        "2013-01-06 -0.825672 -0.881274 -1.444182 -0.705904  2\n",
        "<class 'pandas.core.series.Series'>\n",
        "2013-01-04 00:00:00\n"
       ]
      },
      {
       "html": [
        "<div style=\"max-height:1000px;max-width:1500px;overflow:auto;\">\n",
        "<table border=\"1\" class=\"dataframe\">\n",
        "  <thead>\n",
        "    <tr style=\"text-align: right;\">\n",
        "      <th></th>\n",
        "      <th>A</th>\n",
        "      <th>B</th>\n",
        "      <th>C</th>\n",
        "      <th>D</th>\n",
        "      <th>E</th>\n",
        "    </tr>\n",
        "  </thead>\n",
        "  <tbody>\n",
        "    <tr>\n",
        "      <th>0</th>\n",
        "      <td>-0.224742</td>\n",
        "      <td> 0.081566</td>\n",
        "      <td>-1.832048</td>\n",
        "      <td> 1.834977</td>\n",
        "      <td>        3</td>\n",
        "    </tr>\n",
        "    <tr>\n",
        "      <th>1</th>\n",
        "      <td> 1.251540</td>\n",
        "      <td> 0.983420</td>\n",
        "      <td>-1.842017</td>\n",
        "      <td> 1.401320</td>\n",
        "      <td>        1</td>\n",
        "    </tr>\n",
        "    <tr>\n",
        "      <th>2</th>\n",
        "      <td>-1.398185</td>\n",
        "      <td>-0.995056</td>\n",
        "      <td> 3.071875</td>\n",
        "      <td>-1.729866</td>\n",
        "      <td>        3</td>\n",
        "    </tr>\n",
        "    <tr>\n",
        "      <th>3</th>\n",
        "      <td> 1.278033</td>\n",
        "      <td>-0.585896</td>\n",
        "      <td> 1.439737</td>\n",
        "      <td>-1.090140</td>\n",
        "      <td>        3</td>\n",
        "    </tr>\n",
        "    <tr>\n",
        "      <th>4</th>\n",
        "      <td> 0.479395</td>\n",
        "      <td> 1.111523</td>\n",
        "      <td> 2.288087</td>\n",
        "      <td>-0.349168</td>\n",
        "      <td>        1</td>\n",
        "    </tr>\n",
        "    <tr>\n",
        "      <th>5</th>\n",
        "      <td>-0.825672</td>\n",
        "      <td>-0.881274</td>\n",
        "      <td>-1.444182</td>\n",
        "      <td>-0.705904</td>\n",
        "      <td>        2</td>\n",
        "    </tr>\n",
        "    <tr>\n",
        "      <th>6</th>\n",
        "      <td>-0.578239</td>\n",
        "      <td> 0.425284</td>\n",
        "      <td> 0.801435</td>\n",
        "      <td> 0.440871</td>\n",
        "      <td>-1.088231</td>\n",
        "    </tr>\n",
        "  </tbody>\n",
        "</table>\n",
        "</div>"
       ],
       "output_type": "pyout",
       "prompt_number": 185,
       "text": [
        "          A         B         C         D         E\n",
        "0 -0.224742  0.081566 -1.832048  1.834977         3\n",
        "1  1.251540  0.983420 -1.842017  1.401320         1\n",
        "2 -1.398185 -0.995056  3.071875 -1.729866         3\n",
        "3  1.278033 -0.585896  1.439737 -1.090140         3\n",
        "4  0.479395  1.111523  2.288087 -0.349168         1\n",
        "5 -0.825672 -0.881274 -1.444182 -0.705904         2\n",
        "6 -0.578239  0.425284  0.801435  0.440871 -1.088231"
       ]
      }
     ],
     "prompt_number": 185
    },
    {
     "cell_type": "markdown",
     "metadata": {},
     "source": [
      "## 7. Grouping\n",
      "\n",
      "From Pandas:\n",
      "\n",
      "By \u201cgroup by\u201d we are referring to a process involving one or more of the following steps\n",
      "\n",
      "- **Splitting** the data into groups based on some criteria\n",
      "- **Applying** a function to each group independently\n",
      "- **Combining** the results into a data structure\n",
      "\n",
      "the most common case is to group matrix by columns (features)"
     ]
    },
    {
     "cell_type": "code",
     "collapsed": false,
     "input": [
      "df = pd.DataFrame({\n",
      "     'A': ['foo', 'bar', 'foo', 'bar', 'foo', 'bar', 'foo', 'foo']\n",
      "   , 'B': ['one', 'one', 'two', 'three', 'two', 'two', 'one', 'three']\n",
      "   , 'C': np.random.randn(8)\n",
      "   , 'D': np.random.randn(8)\n",
      "})\n",
      "print df"
     ],
     "language": "python",
     "metadata": {},
     "outputs": [
      {
       "output_type": "stream",
       "stream": "stdout",
       "text": [
        "     A      B         C         D\n",
        "0  foo    one -0.125648 -0.142254\n",
        "1  bar    one -0.982297  1.263999\n",
        "2  foo    two  1.320930  0.544157\n",
        "3  bar  three  0.848350  0.767912\n",
        "4  foo    two  0.071904 -0.344839\n",
        "5  bar    two -0.091299  1.801514\n",
        "6  foo    one  0.089413  0.136727\n",
        "7  foo  three -0.803120  0.753811\n"
       ]
      }
     ],
     "prompt_number": 2
    },
    {
     "cell_type": "code",
     "collapsed": false,
     "input": [
      "print df.groupby(by = 'A', axis = 0).sum()\n",
      "print \"\\nIterating Group Structure (WHAT GROUPBY IS REALLY ABOUT - A DICT) >>\"\n",
      "for grp_name, sub_df in df.groupby(by = ['B', 'A']):\n",
      "    print grp_name\n",
      "    print sub_df"
     ],
     "language": "python",
     "metadata": {},
     "outputs": [
      {
       "output_type": "stream",
       "stream": "stdout",
       "text": [
        "            C         D\n",
        "A                      \n",
        "bar -0.225246  3.833425\n",
        "foo  0.553479  0.947603\n",
        "\n",
        "Iterating Group Structure (WHAT GROUPBY IS REALLY ABOUT - A DICT) >>\n",
        "('one', 'bar')\n",
        "     A    B         C         D\n",
        "1  bar  one -0.982297  1.263999\n",
        "('one', 'foo')\n",
        "     A    B         C         D\n",
        "0  foo  one -0.125648 -0.142254\n",
        "6  foo  one  0.089413  0.136727\n",
        "('three', 'bar')\n",
        "     A      B        C         D\n",
        "3  bar  three  0.84835  0.767912\n",
        "('three', 'foo')\n",
        "     A      B        C         D\n",
        "7  foo  three -0.80312  0.753811"
       ]
      },
      {
       "output_type": "stream",
       "stream": "stdout",
       "text": [
        "\n",
        "('two', 'bar')\n",
        "     A    B         C         D\n",
        "5  bar  two -0.091299  1.801514\n",
        "('two', 'foo')\n",
        "     A    B         C         D\n",
        "2  foo  two  1.320930  0.544157\n",
        "4  foo  two  0.071904 -0.344839\n"
       ]
      }
     ],
     "prompt_number": 16
    },
    {
     "cell_type": "markdown",
     "metadata": {},
     "source": [
      "## 8. Reshaping\n",
      "- pivot table"
     ]
    },
    {
     "cell_type": "code",
     "collapsed": false,
     "input": [
      "df = pd.DataFrame({'A' : ['one', 'one', 'two', 'three'] * 3,\n",
      "               'B' : ['A', 'B', 'C'] * 4,\n",
      "               'C' : ['foo', 'foo', 'foo', 'bar', 'bar', 'bar'] * 2,\n",
      "               'D' : np.random.randn(12),\n",
      "               'E' : np.random.randn(12)})\n",
      "print df"
     ],
     "language": "python",
     "metadata": {},
     "outputs": [
      {
       "output_type": "stream",
       "stream": "stdout",
       "text": [
        "        A  B    C         D         E\n",
        "0     one  A  foo -0.258405 -1.308632\n",
        "1     one  B  foo  0.006980  1.362590\n",
        "2     two  C  foo  0.397646 -0.770509\n",
        "3   three  A  bar -0.183569 -0.274239\n",
        "4     one  B  bar  1.112148 -0.439739\n",
        "5     one  C  bar -0.987939 -1.513559\n",
        "6     two  A  foo -1.258638  0.737549\n",
        "7   three  B  foo -1.910095  0.683717\n",
        "8     one  C  foo  0.452339  0.507108\n",
        "9     one  A  bar  1.609884  1.185055\n",
        "10    two  B  bar  0.515054  1.078202\n",
        "11  three  C  bar  1.370222  1.545356\n"
       ]
      }
     ],
     "prompt_number": 22
    },
    {
     "cell_type": "code",
     "collapsed": false,
     "input": [
      "## PIVOT TABLE\n",
      "## pd.pivot_table(data, values=None, rows=None, cols=None, aggfunc='mean', \n",
      "##               fill_value=None, margins=False, dropna=True)\n",
      "## Create a spreadsheet-style pivot table as a DataFrame. The levels in the\n",
      "## pivot table will be stored in MultiIndex objects (hierarchical indexes) on\n",
      "## the index and columns of the result DataFrame\n",
      "## IMPORTANT Parameters \n",
      "## data : DataFrame\n",
      "## values : column to aggregate, optional\n",
      "## rows : list of column names or arrays to group on\n",
      "##     Keys to group on the x-axis of the pivot table\n",
      "## cols : list of column names or arrays to group on\n",
      "##     Keys to group on the y-axis of the pivot table\n",
      "## aggfunc : function, default numpy.mean, or list of functions\n",
      "##     If list of functions passed, the resulting pivot table will have\n",
      "##     hierarchical columns whose top level are the function names (inferred\n",
      "##     from the function objects themselves)\n",
      "## rows, cols should be CATEGORICAL variables that can be grouped by\n",
      "## values are usually numeric variables to be calculated on (by applying aggfunc)\n",
      "## values are the remaining variables by default\n",
      "## IN THIS SENSE, PIVOT TABLE is more like a shortcut for groupby(), as group_rows, \n",
      "## group_cols, values() and aggregation statics no them are usually of the most interest\n",
      "print df\n",
      "print \n",
      "print pd.pivot_table(df, values = ['D', 'E'], rows = ['A', 'B'], cols = 'C')\n",
      "print\n",
      "print pd.pivot_table(df, values = ['D'], rows = ['A', 'B'], cols = 'C')\n",
      "print\n",
      "print pd.pivot_table(df, rows = ['A'], cols = ['C'], values = ['D'], \n",
      "                    aggfunc=[np.mean, np.min, np.max])"
     ],
     "language": "python",
     "metadata": {},
     "outputs": [
      {
       "output_type": "stream",
       "stream": "stdout",
       "text": [
        "        A  B    C         D         E\n",
        "0     one  A  foo -0.258405 -1.308632\n",
        "1     one  B  foo  0.006980  1.362590\n",
        "2     two  C  foo  0.397646 -0.770509\n",
        "3   three  A  bar -0.183569 -0.274239\n",
        "4     one  B  bar  1.112148 -0.439739\n",
        "5     one  C  bar -0.987939 -1.513559\n",
        "6     two  A  foo -1.258638  0.737549\n",
        "7   three  B  foo -1.910095  0.683717\n",
        "8     one  C  foo  0.452339  0.507108\n",
        "9     one  A  bar  1.609884  1.185055\n",
        "10    two  B  bar  0.515054  1.078202\n",
        "11  three  C  bar  1.370222  1.545356\n",
        "\n",
        "                D                   E          \n",
        "C             bar       foo       bar       foo\n",
        "A     B                                        \n",
        "one   A  1.609884 -0.258405  1.185055 -1.308632\n",
        "      B  1.112148  0.006980 -0.439739  1.362590\n",
        "      C -0.987939  0.452339 -1.513559  0.507108\n",
        "three A -0.183569       NaN -0.274239       NaN\n",
        "      B       NaN -1.910095       NaN  0.683717\n",
        "      C  1.370222       NaN  1.545356       NaN\n",
        "two   A       NaN -1.258638       NaN  0.737549\n",
        "      B  0.515054       NaN  1.078202       NaN\n",
        "      C       NaN  0.397646       NaN -0.770509\n",
        "\n",
        "                D          \n",
        "C             bar       foo\n",
        "A     B                    \n",
        "one   A  1.609884 -0.258405\n",
        "      B  1.112148  0.006980\n",
        "      C -0.987939  0.452339\n",
        "three A -0.183569       NaN\n",
        "      B       NaN -1.910095\n",
        "      C  1.370222       NaN\n",
        "two   A       NaN -1.258638\n",
        "      B  0.515054       NaN\n",
        "      C       NaN  0.397646\n",
        "\n",
        "           mean                amin                amax          \n",
        "              D                   D                   D          \n",
        "C           bar       foo       bar       foo       bar       foo\n",
        "A                                                                \n",
        "one    0.578031  0.066972 -0.987939 -0.258405  1.609884  0.452339\n",
        "three  0.593327 -1.910095 -0.183569 -1.910095  1.370222 -1.910095\n",
        "two    0.515054 -0.430496  0.515054 -1.258638  0.515054  0.397646"
       ]
      },
      {
       "output_type": "stream",
       "stream": "stdout",
       "text": [
        "\n"
       ]
      }
     ],
     "prompt_number": 39
    },
    {
     "cell_type": "markdown",
     "metadata": {},
     "source": [
      "## 9. Time Series"
     ]
    },
    {
     "cell_type": "markdown",
     "metadata": {},
     "source": [
      "## 10. Plotting"
     ]
    },
    {
     "cell_type": "markdown",
     "metadata": {},
     "source": [
      "## 11. Data IO"
     ]
    },
    {
     "cell_type": "code",
     "collapsed": false,
     "input": [],
     "language": "python",
     "metadata": {},
     "outputs": []
    }
   ],
   "metadata": {}
  }
 ]
}