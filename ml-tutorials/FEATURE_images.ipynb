{
 "metadata": {
  "name": "FEATURE_images"
 },
 "nbformat": 3,
 "nbformat_minor": 0,
 "worksheets": [
  {
   "cells": [
    {
     "cell_type": "code",
     "collapsed": false,
     "input": [
      "## batch\n",
      "## sklearn.image_extraction.image.grid_to_graph - with Ward or WardAgglomeration\n",
      "## http://scikit-learn.org/stable/tutorial/statistical_inference/unsupervised_learning.html"
     ],
     "language": "python",
     "metadata": {},
     "outputs": []
    }
   ],
   "metadata": {}
  }
 ]
}