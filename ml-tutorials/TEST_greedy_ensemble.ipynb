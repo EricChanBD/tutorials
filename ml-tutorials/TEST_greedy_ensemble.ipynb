{
 "metadata": {
  "name": "TEST_greedy_ensemble"
 },
 "nbformat": 3,
 "nbformat_minor": 0,
 "worksheets": [
  {
   "cells": [
    {
     "cell_type": "code",
     "collapsed": false,
     "input": [
      "## TEST greedy ensemble with datasets such as digits and blackbox\n",
      "import ensemble\n",
      "from itertools import cycle\n",
      "reload(ensemble)"
     ],
     "language": "python",
     "metadata": {},
     "outputs": [
      {
       "output_type": "pyout",
       "prompt_number": 8,
       "text": [
        "<module 'ensemble' from 'ensemble.pyc'>"
       ]
      }
     ],
     "prompt_number": 8
    },
    {
     "cell_type": "code",
     "collapsed": false,
     "input": [
      "from IPython.parallel import Client\n",
      "client = Client()\n",
      "print len(client)"
     ],
     "language": "python",
     "metadata": {},
     "outputs": [
      {
       "output_type": "stream",
       "stream": "stdout",
       "text": [
        "6\n"
       ]
      }
     ],
     "prompt_number": 9
    },
    {
     "cell_type": "code",
     "collapsed": false,
     "input": [
      "## load data\n",
      "import cPickle\n",
      "X, y = cPickle.load(open('data/digits.pkl', 'rb'))\n",
      "print X.shape, y.shape"
     ],
     "language": "python",
     "metadata": {},
     "outputs": [
      {
       "output_type": "stream",
       "stream": "stdout",
       "text": [
        "(42000, 784) (42000,)\n"
       ]
      }
     ],
     "prompt_number": 10
    },
    {
     "cell_type": "code",
     "collapsed": false,
     "input": [
      "## split train and test\n",
      "from sklearn.cross_validation import train_test_split\n",
      "train_X, validation_X, train_y, validation_y = train_test_split(X, y, test_size = 0.2)\n",
      "train_X, test_X, train_y, test_y = train_test_split(train_X, train_y, test_size = 0.3)\n",
      "print train_X.shape, validation_X.shape, test_X.shape\n",
      "print train_y.shape, validation_y.shape, test_y.shape"
     ],
     "language": "python",
     "metadata": {},
     "outputs": [
      {
       "output_type": "stream",
       "stream": "stdout",
       "text": [
        "(23520, 784) (8400, 784) (10080, 784)\n",
        "(23520,) (8400,) (10080,)\n"
       ]
      }
     ],
     "prompt_number": 11
    },
    {
     "cell_type": "code",
     "collapsed": false,
     "input": [
      "## make new ensemble\n",
      "!rm -fR tmp/digits_ensemble/\n",
      "ensemble_path = ensemble.new_ensemble('digits_ensemble', 'tmp/')\n",
      "print ensemble_path"
     ],
     "language": "python",
     "metadata": {},
     "outputs": [
      {
       "output_type": "stream",
       "stream": "stdout",
       "text": [
        "/home/ce/workspace/tutorials/ml-tutorials/tmp/digits_ensemble"
       ]
      },
      {
       "output_type": "stream",
       "stream": "stdout",
       "text": [
        "\n"
       ]
      }
     ],
     "prompt_number": 12
    },
    {
     "cell_type": "code",
     "collapsed": false,
     "input": [
      "## persist data\n",
      "ensemble.write_data(ensemble_path, 'train_digits', (train_X, train_y), {'description': 'training for digits'})\n",
      "ensemble.write_data(ensemble_path, 'validation_digits', (validation_X, validation_y), {'description': 'validation for digits'})\n",
      "ensemble.write_data(ensemble_path, 'test_digits', (test_X, test_y), {'description': 'testing for digits'})"
     ],
     "language": "python",
     "metadata": {},
     "outputs": [],
     "prompt_number": 13
    },
    {
     "cell_type": "code",
     "collapsed": false,
     "input": [
      "## confirm writing of data\n",
      "!ls tmp/digits_ensemble/data"
     ],
     "language": "python",
     "metadata": {},
     "outputs": [
      {
       "output_type": "stream",
       "stream": "stdout",
       "text": [
        "test_digits.pkl\t\ttrain_digits.pkl\t validation_digits.pkl\r\n",
        "test_digits.pkl_01.npy\ttrain_digits.pkl_01.npy  validation_digits.pkl_01.npy\r\n",
        "test_digits.pkl_02.npy\ttrain_digits.pkl_02.npy  validation_digits.pkl_02.npy\r\n"
       ]
      }
     ],
     "prompt_number": 14
    },
    {
     "cell_type": "code",
     "collapsed": false,
     "input": [
      "## config different models\n",
      "from sklearn import svm\n",
      "from sklearn import linear_model\n",
      "from sklearn import tree\n",
      "models = {\n",
      "    'sgd_0.1': linear_model.SGDClassifier(alpha = 0.1)\n",
      "  #, 'svc_0.001': svm.SVC(probability=True, gamma=0.001)\n",
      "  #, 'svc_0.01': svm.SVC(probability=True, gamma = 0.01)\n",
      "  #, 'svc_0.1': svm.SVC(probability=True, gamma=0.1)\n",
      "  #, 'sgd_0.0001': linear_model.SGDClassifier(alpha = 0.0001)\n",
      "  , 'sgd_0.001': linear_model.SGDClassifier(alpha = 0.001)\n",
      "  #, 'sgd_0.01': linear_model.SGDClassifier(alpha = 0.01) # SUPER model for digits\n",
      "  , 'sgd_0.05': linear_model.SGDClassifier(alpha = 0.05)\n",
      "  , 'sgd_0.15': linear_model.SGDClassifier(alpha = 0.05)\n",
      "  , 'pac_1.0': linear_model.PassiveAggressiveClassifier(C=1.0)\n",
      "  , 'pac_0.1': linear_model.PassiveAggressiveClassifier(C=0.1)\n",
      "  , 'pac_0.01': linear_model.PassiveAggressiveClassifier(C=0.01)\n",
      "  , 'pac_0.001': linear_model.PassiveAggressiveClassifier(C=0.001)\n",
      "  , 'tree_5': tree.DecisionTreeClassifier(max_depth=5)\n",
      "  , 'tree_3': tree.DecisionTreeClassifier(max_depth=3)\n",
      "  , 'tree_1': tree.DecisionTreeClassifier(max_depth=1)\n",
      "}"
     ],
     "language": "python",
     "metadata": {},
     "outputs": [],
     "prompt_number": 15
    },
    {
     "cell_type": "code",
     "collapsed": false,
     "input": [
      "model_meta = {\n",
      "  'is_probabilistic': False\n",
      "  , 'train_data': 'train_digits'\n",
      "  , 'validation_data': 'validation_digits'\n",
      "  , 'test_data': 'test_digits'\n",
      "}\n",
      "for (model_name, model) in models.items():\n",
      "    ensemble.write_model(ensemble_path, model_name, model, model_meta = model_meta)"
     ],
     "language": "python",
     "metadata": {},
     "outputs": [],
     "prompt_number": 16
    },
    {
     "cell_type": "code",
     "collapsed": false,
     "input": [
      "## check if models are written\n",
      "!ls tmp/digits_ensemble/models\n",
      "print models.keys()"
     ],
     "language": "python",
     "metadata": {},
     "outputs": [
      {
       "output_type": "stream",
       "stream": "stdout",
       "text": [
        "pac_0.001.pkl  pac_0.1.pkl  sgd_0.001.pkl  sgd_0.15.pkl  tree_1.pkl  tree_5.pkl\r\n",
        "pac_0.01.pkl   pac_1.0.pkl  sgd_0.05.pkl   sgd_0.1.pkl\t tree_3.pkl\r\n"
       ]
      },
      {
       "output_type": "stream",
       "stream": "stdout",
       "text": [
        "['tree_3', 'tree_1', 'tree_5', 'sgd_0.1', 'pac_1.0', 'pac_0.001', 'pac_0.1', 'sgd_0.15', 'sgd_0.05', 'pac_0.01', 'sgd_0.001']\n"
       ]
      }
     ],
     "prompt_number": 17
    },
    {
     "cell_type": "code",
     "collapsed": false,
     "input": [
      "## train models in sequential mode\n",
      "model_names = models.keys()#['svc_0.1']#\n",
      "print model_names\n",
      "import time\n",
      "for model_name in model_names:\n",
      "    print 'training model', model_name\n",
      "    tic = time.time()\n",
      "    ensemble.train_model(ensemble_path, model_name, data_type='train_data')\n",
      "    print 'time elapsed', time.time() - tic, 'seconds'"
     ],
     "language": "python",
     "metadata": {},
     "outputs": [
      {
       "output_type": "stream",
       "stream": "stdout",
       "text": [
        "['tree_3', 'tree_1', 'tree_5', 'sgd_0.1', 'pac_1.0', 'pac_0.001', 'pac_0.1', 'sgd_0.15', 'sgd_0.05', 'pac_0.01', 'sgd_0.001']\n",
        "training model tree_3\n",
        "time elapsed"
       ]
      },
      {
       "output_type": "stream",
       "stream": "stdout",
       "text": [
        " 2.82200694084 seconds\n",
        "training model tree_1\n",
        "time elapsed"
       ]
      },
      {
       "output_type": "stream",
       "stream": "stdout",
       "text": [
        " 1.07046318054 seconds\n",
        "training model tree_5\n",
        "time elapsed"
       ]
      },
      {
       "output_type": "stream",
       "stream": "stdout",
       "text": [
        " 5.61066222191 seconds\n",
        "training model sgd_0.1\n",
        "time elapsed"
       ]
      },
      {
       "output_type": "stream",
       "stream": "stdout",
       "text": [
        " 1.60676813126 seconds\n",
        "training model pac_1.0\n",
        "time elapsed"
       ]
      },
      {
       "output_type": "stream",
       "stream": "stdout",
       "text": [
        " 2.71411991119 seconds\n",
        "training model pac_0.001\n",
        "time elapsed"
       ]
      },
      {
       "output_type": "stream",
       "stream": "stdout",
       "text": [
        " 2.80802702904 seconds\n",
        "training model pac_0.1\n",
        "time elapsed"
       ]
      },
      {
       "output_type": "stream",
       "stream": "stdout",
       "text": [
        " 2.86221289635 seconds\n",
        "training model sgd_0.15\n",
        "time elapsed"
       ]
      },
      {
       "output_type": "stream",
       "stream": "stdout",
       "text": [
        " 1.62595009804 seconds\n",
        "training model sgd_0.05\n",
        "time elapsed"
       ]
      },
      {
       "output_type": "stream",
       "stream": "stdout",
       "text": [
        " 1.60579419136 seconds\n",
        "training model pac_0.01\n",
        "time elapsed"
       ]
      },
      {
       "output_type": "stream",
       "stream": "stdout",
       "text": [
        " 2.99565696716 seconds\n",
        "training model sgd_0.001\n",
        "time elapsed"
       ]
      },
      {
       "output_type": "stream",
       "stream": "stdout",
       "text": [
        " 1.81688213348 seconds\n"
       ]
      },
      {
       "output_type": "stream",
       "stream": "stderr",
       "text": [
        "/usr/lib/python2.7/dist-packages/numpy/lib/utils.py:1132: DeprecationWarning: The compiler package is deprecated and removed in Python 3.x.\n",
        "  import compiler\n"
       ]
      }
     ],
     "prompt_number": 18
    },
    {
     "cell_type": "code",
     "collapsed": false,
     "input": [
      "## parallel train models on data\n",
      "#model_data_pairs = zip(models.keys()[:3], cycle(['train_data']))\n",
      "model_data_pairs = zip(model_names, cycle(['train_data']))\n",
      "ensemble.paralle_train_models(ensemble_path, model_data_pairs, client)"
     ],
     "language": "python",
     "metadata": {},
     "outputs": [],
     "prompt_number": 19
    },
    {
     "cell_type": "code",
     "collapsed": false,
     "input": [
      "## construct ensemble model \n",
      "from sklearn import metrics\n",
      "ge = ensemble.GreedyEnsemble(ensemble_path, \n",
      "                        scorefn=metrics.accuracy_score, \n",
      "                        votefn = ensemble.GreedyEnsemble.vote_major_class, \n",
      "                        client=client)\n",
      "ge.fit(model_names, verbose=True)"
     ],
     "language": "python",
     "metadata": {},
     "outputs": [
      {
       "output_type": "stream",
       "stream": "stdout",
       "text": [
        "checking model sgd_0.15 improvement from  0.0 to 0.884404761905\n",
        "checking model"
       ]
      },
      {
       "output_type": "stream",
       "stream": "stdout",
       "text": [
        " sgd_0.05 improvement from  0.884404761905 to 0.884404761905\n",
        "checking model"
       ]
      },
      {
       "output_type": "stream",
       "stream": "stdout",
       "text": [
        " tree_3 improvement from  0.884404761905 to 0.884404761905\n",
        "checking model"
       ]
      },
      {
       "output_type": "stream",
       "stream": "stdout",
       "text": [
        " sgd_0.001 NO improvement from  0.884404761905 to 0.882738095238\n"
       ]
      },
      {
       "output_type": "pyout",
       "prompt_number": 27,
       "text": [
        "GreedyEnsemble(client=<IPython.parallel.client.client.Client object at 0x3b7fd10>,\n",
        "        ensemble_path='/home/ce/workspace/tutorials/ml-tutorials/tmp/digits_ensemble',\n",
        "        random_seed=0, scorefn=<function accuracy_score at 0x4018938>,\n",
        "        votefn=<function vote_major_class at 0x3caa230>)"
       ]
      }
     ],
     "prompt_number": 27
    },
    {
     "cell_type": "code",
     "collapsed": false,
     "input": [
      "print ge.score(data_type='train_data')\n",
      "print ge.score(data_type='validation_data')\n",
      "print ge.score(data_type='test_data')\n",
      "print ge.ensemble_"
     ],
     "language": "python",
     "metadata": {},
     "outputs": [
      {
       "output_type": "stream",
       "stream": "stdout",
       "text": [
        "0.892134353741\n",
        "0.884404761905"
       ]
      },
      {
       "output_type": "stream",
       "stream": "stdout",
       "text": [
        "\n",
        "0.880853174603"
       ]
      },
      {
       "output_type": "stream",
       "stream": "stdout",
       "text": [
        "\n",
        "['sgd_0.15', 'sgd_0.05', 'tree_3']\n"
       ]
      }
     ],
     "prompt_number": 28
    },
    {
     "cell_type": "code",
     "collapsed": false,
     "input": [
      "## try add all models to ensemble and see\n",
      "ge.ensemble_ = model_names\n",
      "print ge.score(data_type='train_data')\n",
      "print ge.score(data_type='validation_data')\n",
      "print ge.score(data_type='test_data')\n",
      "print ge.ensemble_"
     ],
     "language": "python",
     "metadata": {},
     "outputs": [
      {
       "output_type": "stream",
       "stream": "stdout",
       "text": [
        "0.870238095238\n",
        "0.863214285714"
       ]
      },
      {
       "output_type": "stream",
       "stream": "stdout",
       "text": [
        "\n",
        "0.864384920635"
       ]
      },
      {
       "output_type": "stream",
       "stream": "stdout",
       "text": [
        "\n",
        "['tree_3', 'tree_1', 'tree_5', 'sgd_0.1', 'pac_1.0', 'pac_0.001', 'pac_0.1', 'sgd_0.15', 'sgd_0.05', 'pac_0.01', 'sgd_0.001']\n"
       ]
      }
     ],
     "prompt_number": 29
    },
    {
     "cell_type": "code",
     "collapsed": false,
     "input": [
      "## try indivdual models and see the results\n",
      "for model_name in model_names:\n",
      "    print 'for model', model_name\n",
      "    ge.ensemble_ = [model_name]\n",
      "    print ge.score(data_type='train_data')\n",
      "    print ge.score(data_type='validation_data')\n",
      "    print ge.score(data_type='test_data')\n",
      "    print '--------------------------'\n",
      "    print ''"
     ],
     "language": "python",
     "metadata": {},
     "outputs": [
      {
       "output_type": "stream",
       "stream": "stdout",
       "text": [
        "for model tree_3\n",
        "0.508418367347"
       ]
      },
      {
       "output_type": "stream",
       "stream": "stdout",
       "text": [
        "\n",
        "0.508452380952"
       ]
      },
      {
       "output_type": "stream",
       "stream": "stdout",
       "text": [
        "\n",
        "0.499007936508"
       ]
      },
      {
       "output_type": "stream",
       "stream": "stdout",
       "text": [
        "\n",
        "--------------------------\n",
        "\n",
        "for model tree_1\n",
        "0.20212585034"
       ]
      },
      {
       "output_type": "stream",
       "stream": "stdout",
       "text": [
        "\n",
        "0.206785714286"
       ]
      },
      {
       "output_type": "stream",
       "stream": "stdout",
       "text": [
        "\n",
        "0.203472222222"
       ]
      },
      {
       "output_type": "stream",
       "stream": "stdout",
       "text": [
        "\n",
        "--------------------------\n",
        "\n",
        "for model tree_5\n",
        "0.685671768707"
       ]
      },
      {
       "output_type": "stream",
       "stream": "stdout",
       "text": [
        "\n",
        "0.685595238095"
       ]
      },
      {
       "output_type": "stream",
       "stream": "stdout",
       "text": [
        "\n",
        "0.667757936508"
       ]
      },
      {
       "output_type": "stream",
       "stream": "stdout",
       "text": [
        "\n",
        "--------------------------\n",
        "\n",
        "for model sgd_0.1\n",
        "0.869557823129"
       ]
      },
      {
       "output_type": "stream",
       "stream": "stdout",
       "text": [
        "\n",
        "0.861904761905"
       ]
      },
      {
       "output_type": "stream",
       "stream": "stdout",
       "text": [
        "\n",
        "0.861805555556"
       ]
      },
      {
       "output_type": "stream",
       "stream": "stdout",
       "text": [
        "\n",
        "--------------------------\n",
        "\n",
        "for model pac_1.0\n",
        "0.853741496599"
       ]
      },
      {
       "output_type": "stream",
       "stream": "stdout",
       "text": [
        "\n",
        "0.84630952381"
       ]
      },
      {
       "output_type": "stream",
       "stream": "stdout",
       "text": [
        "\n",
        "0.848115079365"
       ]
      },
      {
       "output_type": "stream",
       "stream": "stdout",
       "text": [
        "\n",
        "--------------------------\n",
        "\n",
        "for model pac_0.001\n",
        "0.853741496599"
       ]
      },
      {
       "output_type": "stream",
       "stream": "stdout",
       "text": [
        "\n",
        "0.84630952381"
       ]
      },
      {
       "output_type": "stream",
       "stream": "stdout",
       "text": [
        "\n",
        "0.848115079365"
       ]
      },
      {
       "output_type": "stream",
       "stream": "stdout",
       "text": [
        "\n",
        "--------------------------\n",
        "\n",
        "for model pac_0.1\n",
        "0.853741496599"
       ]
      },
      {
       "output_type": "stream",
       "stream": "stdout",
       "text": [
        "\n",
        "0.84630952381"
       ]
      },
      {
       "output_type": "stream",
       "stream": "stdout",
       "text": [
        "\n",
        "0.848115079365"
       ]
      },
      {
       "output_type": "stream",
       "stream": "stdout",
       "text": [
        "\n",
        "--------------------------\n",
        "\n",
        "for model sgd_0.15\n",
        "0.892134353741"
       ]
      },
      {
       "output_type": "stream",
       "stream": "stdout",
       "text": [
        "\n",
        "0.884404761905"
       ]
      },
      {
       "output_type": "stream",
       "stream": "stdout",
       "text": [
        "\n",
        "0.880853174603"
       ]
      },
      {
       "output_type": "stream",
       "stream": "stdout",
       "text": [
        "\n",
        "--------------------------\n",
        "\n",
        "for model sgd_0.05\n",
        "0.892134353741"
       ]
      },
      {
       "output_type": "stream",
       "stream": "stdout",
       "text": [
        "\n",
        "0.884404761905"
       ]
      },
      {
       "output_type": "stream",
       "stream": "stdout",
       "text": [
        "\n",
        "0.880853174603"
       ]
      },
      {
       "output_type": "stream",
       "stream": "stdout",
       "text": [
        "\n",
        "--------------------------\n",
        "\n",
        "for model pac_0.01\n",
        "0.853741496599"
       ]
      },
      {
       "output_type": "stream",
       "stream": "stdout",
       "text": [
        "\n",
        "0.84630952381"
       ]
      },
      {
       "output_type": "stream",
       "stream": "stdout",
       "text": [
        "\n",
        "0.848115079365"
       ]
      },
      {
       "output_type": "stream",
       "stream": "stdout",
       "text": [
        "\n",
        "--------------------------\n",
        "\n",
        "for model sgd_0.001\n",
        "0.875977891156"
       ]
      },
      {
       "output_type": "stream",
       "stream": "stdout",
       "text": [
        "\n",
        "0.864166666667"
       ]
      },
      {
       "output_type": "stream",
       "stream": "stdout",
       "text": [
        "\n",
        "0.864583333333"
       ]
      },
      {
       "output_type": "stream",
       "stream": "stdout",
       "text": [
        "\n",
        "--------------------------\n",
        "\n"
       ]
      }
     ],
     "prompt_number": 30
    },
    {
     "cell_type": "code",
     "collapsed": false,
     "input": [],
     "language": "python",
     "metadata": {},
     "outputs": []
    }
   ],
   "metadata": {}
  }
 ]
}