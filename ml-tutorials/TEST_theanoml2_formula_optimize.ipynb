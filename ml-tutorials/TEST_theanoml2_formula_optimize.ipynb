{
 "metadata": {
  "name": "TEST_theanoml2_formula_optimize"
 },
 "nbformat": 3,
 "nbformat_minor": 0,
 "worksheets": [
  {
   "cells": [
    {
     "cell_type": "code",
     "collapsed": false,
     "input": [
      "import theanoml2\n",
      "reload(theanoml2)"
     ],
     "language": "python",
     "metadata": {},
     "outputs": [
      {
       "output_type": "pyout",
       "prompt_number": 1,
       "text": [
        "<module 'theanoml2' from 'theanoml2/__init__.pyc'>"
       ]
      }
     ],
     "prompt_number": 1
    },
    {
     "cell_type": "code",
     "collapsed": false,
     "input": [
      "reload(theanoml2.formula)\n",
      "reload(theanoml2.optimize)\n",
      "import cPickle\n",
      "import numpy as np\n",
      "from sklearn.cross_validation import train_test_split\n",
      "from functools import partial\n",
      "X, y = cPickle.load(open('data/digits.pkl', 'rb'))\n",
      "classes = np.unique(y)\n",
      "print X.shape, y.shape\n",
      "train_X, validation_X, train_y, validation_y = train_test_split(X, y, test_size = 0.2)"
     ],
     "language": "python",
     "metadata": {},
     "outputs": [
      {
       "output_type": "stream",
       "stream": "stdout",
       "text": [
        "(42000, 784) (42000,)\n"
       ]
      }
     ],
     "prompt_number": 2
    },
    {
     "cell_type": "raw",
     "metadata": {},
     "source": [
      "## Logistic Regression\n",
      "\n",
      "lgr = theanoml2.formula.FLogisticRegression(n_in = X.shape[1], n_out = len(classes))\n",
      "\n",
      "v_train_X = theanoml2.formula.share_data(train_X)\n",
      "v_validation_X = theanoml2.formula.share_data(validation_X)\n",
      "v_train_y, v_validation_y = map(partial(theanoml2.formula.share_data, dtype = 'int32'), [train_y, validation_y])\n",
      "\n",
      "lgr_infor = theanoml2.formula.build_batch_sgd_model_infor(lgr, \n",
      "        v_train_X, v_train_y, v_validation_X, v_validation_y, batch_size = 500)\n",
      "\n",
      "theanoml2.optimize.batch_sgd_optimize(lgr_infor, n_epochs = 10)"
     ]
    },
    {
     "cell_type": "raw",
     "metadata": {},
     "source": [
      "## auto denoising encoder\n",
      "reload(theanoml2)\n",
      "reload(theanoml2.formula)\n",
      "reload(theanoml2.optimize)\n",
      "\n",
      "ade = theanoml2.formula.FDAE(n_visible = X.shape[1], n_hidden = 500, corruption_level = 0.01)\n",
      "v_train_X = theanoml2.formula.share_data(train_X)\n",
      "ade_infor = theanoml2.formula.build_batch_fixed_iter_model_infor(ade, v_train_X, batch_size = 500)\n",
      "r = theanoml2.optimize.batch_fixed_iter_optimize(ade_infor, n_epochs = 5)\n",
      "print r[1].eval()"
     ]
    },
    {
     "cell_type": "code",
     "collapsed": false,
     "input": [
      "## Denoising Auto Encoder\n",
      "reload(theanoml2)\n",
      "reload(theanoml2.lenet)\n",
      "reload(theanoml2.formula)\n",
      "reload(theanoml2.auto_encoder)\n",
      "d_auto_encoder = theanoml2.auto_encoder.DenoisingAutoEncoder(n_hidden = 500, corruption_level = 0.1, n_epochs=5)\n",
      "d_auto_encoder.partial_fit(X)\n",
      "print d_auto_encoder.transform(X).shape"
     ],
     "language": "python",
     "metadata": {},
     "outputs": [
      {
       "output_type": "stream",
       "stream": "stdout",
       "text": [
        "training epoch 0, train cost -4661960859.348747\n",
        "training epoch 1, train cost -14022858680.165613"
       ]
      },
      {
       "output_type": "stream",
       "stream": "stdout",
       "text": [
        "\n",
        "training epoch 2, train cost -23384465235.146824"
       ]
      },
      {
       "output_type": "stream",
       "stream": "stdout",
       "text": [
        "\n",
        "training epoch 3, train cost -32746071790.126827"
       ]
      },
      {
       "output_type": "stream",
       "stream": "stdout",
       "text": [
        "\n",
        "training epoch 4, train cost -42107678345.098068"
       ]
      },
      {
       "output_type": "stream",
       "stream": "stdout",
       "text": [
        "\n",
        "optimization complete with best train cost: -42107678345.098068\n",
        "(42000, 500)"
       ]
      },
      {
       "output_type": "stream",
       "stream": "stdout",
       "text": [
        "\n"
       ]
      }
     ],
     "prompt_number": 4
    },
    {
     "cell_type": "code",
     "collapsed": false,
     "input": [
      "reload(theanoml2)\n",
      "reload(theanoml2.lenet)\n",
      "reload(theanoml2.formula)\n",
      "reload(theanoml2.auto_encoder)\n",
      "c_auto_encoder = theanoml2.auto_encoder.ContractiveAutoEncoder(n_hidden = 500, \n",
      "        contraction_level = 0.1, n_epochs=5)\n",
      "c_auto_encoder.partial_fit(X[:1000])\n",
      "print c_auto_encoder.transform(X[:1000]).shape"
     ],
     "language": "python",
     "metadata": {},
     "outputs": [
      {
       "output_type": "stream",
       "stream": "stdout",
       "text": [
        "training epoch 0, train cost -103757114.201847\n",
        "training epoch 1, train cost -334109909.187471"
       ]
      },
      {
       "output_type": "stream",
       "stream": "stdout",
       "text": [
        "\n",
        "training epoch 2, train cost -564847972.077478"
       ]
      },
      {
       "output_type": "stream",
       "stream": "stdout",
       "text": [
        "\n",
        "training epoch 3, train cost -795586036.173563"
       ]
      },
      {
       "output_type": "stream",
       "stream": "stdout",
       "text": [
        "\n",
        "training epoch 4, train cost -1026324100.134109"
       ]
      },
      {
       "output_type": "stream",
       "stream": "stdout",
       "text": [
        "\n",
        "optimization complete with best train cost: -1026324100.134109\n",
        "(1000, 500)"
       ]
      },
      {
       "output_type": "stream",
       "stream": "stdout",
       "text": [
        "\n"
       ]
      }
     ],
     "prompt_number": 5
    },
    {
     "cell_type": "code",
     "collapsed": false,
     "input": [
      "## LeNet classification\n",
      "import theanoml2\n",
      "reload(theanoml2)\n",
      "reload(theanoml2.lenet)\n",
      "reload(theanoml2.formula)\n",
      "lenet = theanoml2.lenet.LeNetClassifier(n_classes = len(classes), image_size = (28, 28), \n",
      "                n_hidden = 500, n_epochs = 5,)\n",
      "lenet.partial_fit(train_X, train_y)\n",
      "print lenet.score(train_X[:50], train_y[:50])\n",
      "print np.mean([lenet.score(validation_X[i*50:(i+1)*50], validation_y[i*50:(i+1)*50])\n",
      "                for i in xrange(validation_X.shape[0] / 50)])"
     ],
     "language": "python",
     "metadata": {},
     "outputs": [
      {
       "output_type": "stream",
       "stream": "stdout",
       "text": [
        "epoch 1, minibatch 500/537, validation_error 7.686567 %\n",
        "epoch 2, minibatch 463/537, validation_error 5.298507 %"
       ]
      },
      {
       "output_type": "stream",
       "stream": "stdout",
       "text": [
        "\n",
        "epoch 3, minibatch 426/537, validation_error 4.223881 %"
       ]
      },
      {
       "output_type": "stream",
       "stream": "stdout",
       "text": [
        "\n",
        "epoch 4, minibatch 389/537, validation_error 3.746269 %"
       ]
      },
      {
       "output_type": "stream",
       "stream": "stdout",
       "text": [
        "\n",
        "epoch 5, minibatch 352/537, validation_error 3.238806 %"
       ]
      },
      {
       "output_type": "stream",
       "stream": "stdout",
       "text": [
        "\n",
        "optimization complete with best validation error: 3.238806 %"
       ]
      },
      {
       "output_type": "stream",
       "stream": "stdout",
       "text": [
        "\n",
        "0.94"
       ]
      },
      {
       "output_type": "stream",
       "stream": "stdout",
       "text": [
        "\n",
        "0.966071428571"
       ]
      },
      {
       "output_type": "stream",
       "stream": "stdout",
       "text": [
        "\n"
       ]
      }
     ],
     "prompt_number": 4
    },
    {
     "cell_type": "code",
     "collapsed": false,
     "input": [
      "v_valid_X = theanoml2.formula.share_data(validation_X)\n",
      "print v_valid_X.eval().shape\n",
      "print lenet.batch_size, lenet.image_size\n",
      "batch_size = 8400\n",
      "layer0_input = v_valid_X.reshape((batch_size, 1, lenet.image_size[0], lenet.image_size[1]))\n",
      "layer0_input.eval()"
     ],
     "language": "python",
     "metadata": {},
     "outputs": []
    },
    {
     "cell_type": "code",
     "collapsed": false,
     "input": [
      "## MLP classification\n",
      "reload(theanoml2.mlp)\n",
      "reload(theanoml2.formula)\n",
      "mlp = theanoml2.mlp.MLPClassifier(n_classes = len(classes), n_hidden = 500, n_epochs=5)\n",
      "mlp.partial_fit(train_X, train_y)\n",
      "print mlp.score(train_X, train_y)\n",
      "mlp.partial_fit(train_X, train_y)\n",
      "print mlp.score(train_X, train_y)\n",
      "print mlp.score(validation_X, validation_y)"
     ],
     "language": "python",
     "metadata": {},
     "outputs": [
      {
       "output_type": "stream",
       "stream": "stdout",
       "text": [
        "epoch 1, minibatch 500/537, validation_error 10.104478 %\n",
        "epoch 2, minibatch 463/537, validation_error 8.746269 %"
       ]
      },
      {
       "output_type": "stream",
       "stream": "stdout",
       "text": [
        "\n",
        "epoch 3, minibatch 426/537, validation_error 8.522388 %"
       ]
      },
      {
       "output_type": "stream",
       "stream": "stdout",
       "text": [
        "\n",
        "epoch 4, minibatch 389/537, validation_error 7.582090 %"
       ]
      },
      {
       "output_type": "stream",
       "stream": "stdout",
       "text": [
        "\n",
        "epoch 5, minibatch 352/537, validation_error 7.388060 %"
       ]
      },
      {
       "output_type": "stream",
       "stream": "stdout",
       "text": [
        "\n",
        "optimization complete with best validation error: 7.388060 %"
       ]
      },
      {
       "output_type": "stream",
       "stream": "stdout",
       "text": [
        "\n",
        "0.933452380952"
       ]
      },
      {
       "output_type": "stream",
       "stream": "stdout",
       "text": [
        "\n",
        "epoch 1, minibatch 500/537, validation_error 6.477612 %"
       ]
      },
      {
       "output_type": "stream",
       "stream": "stdout",
       "text": [
        "\n",
        "epoch 2, minibatch 463/537, validation_error 6.402985 %"
       ]
      },
      {
       "output_type": "stream",
       "stream": "stdout",
       "text": [
        "\n",
        "epoch 3, minibatch 426/537, validation_error 6.164179 %"
       ]
      },
      {
       "output_type": "stream",
       "stream": "stdout",
       "text": [
        "\n",
        "epoch 4, minibatch 389/537, validation_error 5.731343 %"
       ]
      },
      {
       "output_type": "stream",
       "stream": "stdout",
       "text": [
        "\n",
        "epoch 5, minibatch 352/537, validation_error 5.686567 %"
       ]
      },
      {
       "output_type": "stream",
       "stream": "stdout",
       "text": [
        "\n",
        "optimization complete with best validation error: 5.686567 %"
       ]
      },
      {
       "output_type": "stream",
       "stream": "stdout",
       "text": [
        "\n",
        "0.944136904762"
       ]
      },
      {
       "output_type": "stream",
       "stream": "stdout",
       "text": [
        "\n",
        "0.931666666667"
       ]
      },
      {
       "output_type": "stream",
       "stream": "stdout",
       "text": [
        "\n"
       ]
      }
     ],
     "prompt_number": 4
    },
    {
     "cell_type": "code",
     "collapsed": false,
     "input": [
      "## Use Logistic Regression Wrapper \n",
      "reload(theanoml2)\n",
      "reload(theanoml2.formula)\n",
      "reload(theanoml2.linear_model)\n",
      "reload(theanoml2.optimize)\n",
      "lgr_model = theanoml2.linear_model.LogisticRegression(n_classes = len(classes), n_epochs = 50)\n",
      "lgr_model.partial_fit(train_X, train_y)\n",
      "#print lgr_model.predict(train_X)\n",
      "print lgr_model.score(train_X, train_y)\n",
      "print lgr_model.score(validation_X, validation_y)"
     ],
     "language": "python",
     "metadata": {},
     "outputs": [
      {
       "output_type": "stream",
       "stream": "stdout",
       "text": [
        "epoch 1, minibatch 500/537, validation_error 16.298507 %\n",
        "epoch 2, minibatch 463/537, validation_error 13.059701 %"
       ]
      },
      {
       "output_type": "stream",
       "stream": "stdout",
       "text": [
        "\n",
        "epoch 3, minibatch 426/537, validation_error 10.000000 %"
       ]
      },
      {
       "output_type": "stream",
       "stream": "stdout",
       "text": [
        "\n",
        "epoch 4, minibatch 389/537, validation_error 12.985075 %"
       ]
      },
      {
       "output_type": "stream",
       "stream": "stdout",
       "text": [
        "\n",
        "epoch 5, minibatch 352/537, validation_error 13.208955 %"
       ]
      },
      {
       "output_type": "stream",
       "stream": "stdout",
       "text": [
        "\n",
        "epoch 6, minibatch 315/537, validation_error 10.850746 %"
       ]
      },
      {
       "output_type": "stream",
       "stream": "stdout",
       "text": [
        "\n",
        "epoch 7, minibatch 278/537, validation_error 14.119403 %"
       ]
      },
      {
       "output_type": "stream",
       "stream": "stdout",
       "text": [
        "\n",
        "epoch 8, minibatch 241/537, validation_error 13.223881 %"
       ]
      },
      {
       "output_type": "stream",
       "stream": "stdout",
       "text": [
        "\n",
        "epoch 9, minibatch 204/537, validation_error 10.522388 %"
       ]
      },
      {
       "output_type": "stream",
       "stream": "stdout",
       "text": [
        "\n",
        "epoch 10, minibatch 167/537, validation_error 10.104478 %"
       ]
      },
      {
       "output_type": "stream",
       "stream": "stdout",
       "text": [
        "\n",
        "epoch 11, minibatch 130/537, validation_error 10.417910 %"
       ]
      },
      {
       "output_type": "stream",
       "stream": "stdout",
       "text": [
        "\n",
        "epoch 12, minibatch 93/537, validation_error 10.477612 %"
       ]
      },
      {
       "output_type": "stream",
       "stream": "stdout",
       "text": [
        "\n",
        "epoch 13, minibatch 56/537, validation_error 11.000000 %"
       ]
      },
      {
       "output_type": "stream",
       "stream": "stdout",
       "text": [
        "\n",
        "epoch 14, minibatch 19/537, validation_error 10.835821 %"
       ]
      },
      {
       "output_type": "stream",
       "stream": "stdout",
       "text": [
        "\n",
        "epoch 14, minibatch 519/537, validation_error 13.791045 %"
       ]
      },
      {
       "output_type": "stream",
       "stream": "stdout",
       "text": [
        "\n",
        "epoch 15, minibatch 482/537, validation_error 11.746269 %"
       ]
      },
      {
       "output_type": "stream",
       "stream": "stdout",
       "text": [
        "\n",
        "epoch 16, minibatch 445/537, validation_error 11.970149 %"
       ]
      },
      {
       "output_type": "stream",
       "stream": "stdout",
       "text": [
        "\n",
        "epoch 17, minibatch 408/537, validation_error 12.910448 %"
       ]
      },
      {
       "output_type": "stream",
       "stream": "stdout",
       "text": [
        "\n",
        "epoch 18, minibatch 371/537, validation_error 21.910448 %"
       ]
      },
      {
       "output_type": "stream",
       "stream": "stdout",
       "text": [
        "\n",
        "epoch 19, minibatch 334/537, validation_error 12.791045 %"
       ]
      },
      {
       "output_type": "stream",
       "stream": "stdout",
       "text": [
        "\n",
        "epoch 20, minibatch 297/537, validation_error 11.029851 %"
       ]
      },
      {
       "output_type": "stream",
       "stream": "stdout",
       "text": [
        "\n",
        "epoch 21, minibatch 260/537, validation_error 11.537313 %"
       ]
      },
      {
       "output_type": "stream",
       "stream": "stdout",
       "text": [
        "\n",
        "epoch 22, minibatch 223/537, validation_error 12.268657 %"
       ]
      },
      {
       "output_type": "stream",
       "stream": "stdout",
       "text": [
        "\n",
        "epoch 23, minibatch 186/537, validation_error 14.567164 %"
       ]
      },
      {
       "output_type": "stream",
       "stream": "stdout",
       "text": [
        "\n",
        "epoch 24, minibatch 149/537, validation_error 10.014925 %"
       ]
      },
      {
       "output_type": "stream",
       "stream": "stdout",
       "text": [
        "\n",
        "epoch 25, minibatch 112/537, validation_error 12.343284 %"
       ]
      },
      {
       "output_type": "stream",
       "stream": "stdout",
       "text": [
        "\n",
        "epoch 26, minibatch 75/537, validation_error 11.477612 %"
       ]
      },
      {
       "output_type": "stream",
       "stream": "stdout",
       "text": [
        "\n",
        "epoch 27, minibatch 38/537, validation_error 11.029851 %"
       ]
      },
      {
       "output_type": "stream",
       "stream": "stdout",
       "text": [
        "\n",
        "epoch 28, minibatch 1/537, validation_error 11.567164 %"
       ]
      },
      {
       "output_type": "stream",
       "stream": "stdout",
       "text": [
        "\n",
        "epoch 28, minibatch 501/537, validation_error 14.253731 %"
       ]
      },
      {
       "output_type": "stream",
       "stream": "stdout",
       "text": [
        "\n",
        "epoch 29, minibatch 464/537, validation_error 13.194030 %"
       ]
      },
      {
       "output_type": "stream",
       "stream": "stdout",
       "text": [
        "\n",
        "epoch 30, minibatch 427/537, validation_error 11.238806 %"
       ]
      },
      {
       "output_type": "stream",
       "stream": "stdout",
       "text": [
        "\n",
        "epoch 31, minibatch 390/537, validation_error 11.388060 %"
       ]
      },
      {
       "output_type": "stream",
       "stream": "stdout",
       "text": [
        "\n",
        "epoch 32, minibatch 353/537, validation_error 13.432836 %"
       ]
      },
      {
       "output_type": "stream",
       "stream": "stdout",
       "text": [
        "\n",
        "epoch 33, minibatch 316/537, validation_error 11.880597 %"
       ]
      },
      {
       "output_type": "stream",
       "stream": "stdout",
       "text": [
        "\n",
        "epoch 34, minibatch 279/537, validation_error 10.940299 %"
       ]
      },
      {
       "output_type": "stream",
       "stream": "stdout",
       "text": [
        "\n",
        "epoch 35, minibatch 242/537, validation_error 12.537313 %"
       ]
      },
      {
       "output_type": "stream",
       "stream": "stdout",
       "text": [
        "\n",
        "epoch 36, minibatch 205/537, validation_error 10.925373 %"
       ]
      },
      {
       "output_type": "stream",
       "stream": "stdout",
       "text": [
        "\n",
        "epoch 37, minibatch 168/537, validation_error 10.089552 %"
       ]
      },
      {
       "output_type": "stream",
       "stream": "stdout",
       "text": [
        "\n",
        "epoch 38, minibatch 131/537, validation_error 11.477612 %"
       ]
      },
      {
       "output_type": "stream",
       "stream": "stdout",
       "text": [
        "\n",
        "epoch 39, minibatch 94/537, validation_error 12.283582 %"
       ]
      },
      {
       "output_type": "stream",
       "stream": "stdout",
       "text": [
        "\n",
        "epoch 40, minibatch 57/537, validation_error 11.522388 %"
       ]
      },
      {
       "output_type": "stream",
       "stream": "stdout",
       "text": [
        "\n",
        "epoch 41, minibatch 20/537, validation_error 11.253731 %"
       ]
      },
      {
       "output_type": "stream",
       "stream": "stdout",
       "text": [
        "\n",
        "epoch 41, minibatch 520/537, validation_error 12.268657 %"
       ]
      },
      {
       "output_type": "stream",
       "stream": "stdout",
       "text": [
        "\n",
        "epoch 42, minibatch 483/537, validation_error 14.388060 %"
       ]
      },
      {
       "output_type": "stream",
       "stream": "stdout",
       "text": [
        "\n",
        "epoch 43, minibatch 446/537, validation_error 13.597015 %"
       ]
      },
      {
       "output_type": "stream",
       "stream": "stdout",
       "text": [
        "\n",
        "epoch 44, minibatch 409/537, validation_error 12.119403 %"
       ]
      },
      {
       "output_type": "stream",
       "stream": "stdout",
       "text": [
        "\n",
        "epoch 45, minibatch 372/537, validation_error 12.238806 %"
       ]
      },
      {
       "output_type": "stream",
       "stream": "stdout",
       "text": [
        "\n",
        "epoch 46, minibatch 335/537, validation_error 12.865672 %"
       ]
      },
      {
       "output_type": "stream",
       "stream": "stdout",
       "text": [
        "\n",
        "epoch 47, minibatch 298/537, validation_error 13.761194 %"
       ]
      },
      {
       "output_type": "stream",
       "stream": "stdout",
       "text": [
        "\n",
        "epoch 48, minibatch 261/537, validation_error 17.865672 %"
       ]
      },
      {
       "output_type": "stream",
       "stream": "stdout",
       "text": [
        "\n",
        "epoch 49, minibatch 224/537, validation_error 12.865672 %"
       ]
      },
      {
       "output_type": "stream",
       "stream": "stdout",
       "text": [
        "\n",
        "epoch 50, minibatch 187/537, validation_error 17.283582 %"
       ]
      },
      {
       "output_type": "stream",
       "stream": "stdout",
       "text": [
        "\n",
        "optimization complete with best validation error: 10.000000 %"
       ]
      },
      {
       "output_type": "stream",
       "stream": "stdout",
       "text": [
        "\n",
        "0.903125"
       ]
      },
      {
       "output_type": "stream",
       "stream": "stdout",
       "text": [
        "\n",
        "0.88880952381"
       ]
      },
      {
       "output_type": "stream",
       "stream": "stdout",
       "text": [
        "\n"
       ]
      }
     ],
     "prompt_number": 5
    },
    {
     "cell_type": "code",
     "collapsed": false,
     "input": [
      "## Linear Regression Model\n",
      "import theanoml2\n",
      "reload(theanoml2)\n",
      "reload(theanoml2.linear_model)\n",
      "reload(theanoml2.formula)\n",
      "from sklearn.datasets import load_diabetes\n",
      "from sklearn.cross_validation import train_test_split\n",
      "diabetes = load_diabetes()\n",
      "X, y = diabetes.data, diabetes.target\n",
      "X = np.random.uniform(size = (1000, 3))\n",
      "y = X[:,0]*2. + X[:, 1] * 5. + 1.\n",
      "print X.shape, y.shape\n",
      "train_X, validation_X, train_y, validation_y = train_test_split(X, y, test_size = 0.2)\n",
      "lr_model = theanoml2.linear_model.LinearRegression(n_epochs = 10, batch_size=10)\n",
      "lr_model.partial_fit(train_X, train_y)\n",
      "print lr_model.score(train_X, train_y)\n",
      "print lr_model.score(validation_X, validation_y)\n",
      "print map(lambda v: v.eval(), lr_model.formula_.params)"
     ],
     "language": "python",
     "metadata": {},
     "outputs": [
      {
       "output_type": "stream",
       "stream": "stdout",
       "text": [
        "(1000, 3) (1000,)\n",
        "epoch 1, minibatch 64/64, validation_error 91.202448 %"
       ]
      },
      {
       "output_type": "stream",
       "stream": "stdout",
       "text": [
        "\n",
        "epoch 2, minibatch 64/64, validation_error 76.554709 %\n",
        "epoch 3, minibatch 64/64, validation_error 68.960607 %\n",
        "epoch 4, minibatch 64/64, validation_error 62.231556 %\n",
        "epoch 5, minibatch 64/64, validation_error 56.194271 %\n",
        "epoch 6, minibatch 64/64, validation_error 50.775172 %\n",
        "epoch 7, minibatch 64/64, validation_error 45.913820 %\n",
        "epoch 8, minibatch 64/64, validation_error 41.565633 %\n",
        "epoch 9, minibatch 64/64, validation_error 37.656044 %"
       ]
      },
      {
       "output_type": "stream",
       "stream": "stdout",
       "text": [
        "\n",
        "epoch 10, minibatch 64/64, validation_error 34.142120 %\n",
        "optimization complete with best validation error: 34.142120 %\n",
        "0.928087113353"
       ]
      },
      {
       "output_type": "stream",
       "stream": "stdout",
       "text": [
        "\n",
        "0.93059764046\n",
        "[array([ 1.56063239,  3.64438407,  0.17407062]), array(1.8625258492463739)]"
       ]
      },
      {
       "output_type": "stream",
       "stream": "stdout",
       "text": [
        "\n"
       ]
      }
     ],
     "prompt_number": 5
    },
    {
     "cell_type": "code",
     "collapsed": false,
     "input": [],
     "language": "python",
     "metadata": {},
     "outputs": []
    }
   ],
   "metadata": {}
  }
 ]
}