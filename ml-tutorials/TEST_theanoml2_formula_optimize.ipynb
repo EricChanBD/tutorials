{
 "metadata": {
  "name": "TEST_theanoml2_formula_optimize"
 },
 "nbformat": 3,
 "nbformat_minor": 0,
 "worksheets": [
  {
   "cells": [
    {
     "cell_type": "code",
     "collapsed": false,
     "input": [
      "import theanoml2\n",
      "reload(theanoml2)"
     ],
     "language": "python",
     "metadata": {},
     "outputs": [
      {
       "output_type": "pyout",
       "prompt_number": 1,
       "text": [
        "<module 'theanoml2' from 'theanoml2/__init__.pyc'>"
       ]
      }
     ],
     "prompt_number": 1
    },
    {
     "cell_type": "code",
     "collapsed": false,
     "input": [
      "reload(theanoml2.formula)\n",
      "reload(theanoml2.optimize)\n",
      "import cPickle\n",
      "import numpy as np\n",
      "from sklearn.cross_validation import train_test_split\n",
      "from functools import partial\n",
      "X, y = cPickle.load(open('data/digits.pkl', 'rb'))\n",
      "classes = np.unique(y)\n",
      "print X.shape, y.shape\n",
      "train_X, validation_X, train_y, validation_y = train_test_split(X, y, test_size = 0.2)"
     ],
     "language": "python",
     "metadata": {},
     "outputs": [
      {
       "output_type": "stream",
       "stream": "stdout",
       "text": [
        "(42000, 784) (42000,)\n"
       ]
      }
     ],
     "prompt_number": 2
    },
    {
     "cell_type": "raw",
     "metadata": {},
     "source": [
      "## Logistic Regression\n",
      "\n",
      "lgr = theanoml2.formula.FLogisticRegression(n_in = X.shape[1], n_out = len(classes))\n",
      "\n",
      "v_train_X = theanoml2.formula.share_data(train_X)\n",
      "v_validation_X = theanoml2.formula.share_data(validation_X)\n",
      "v_train_y, v_validation_y = map(partial(theanoml2.formula.share_data, dtype = 'int32'), [train_y, validation_y])\n",
      "\n",
      "lgr_infor = theanoml2.formula.build_batch_sgd_model_infor(lgr, \n",
      "        v_train_X, v_train_y, v_validation_X, v_validation_y, batch_size = 500)\n",
      "\n",
      "theanoml2.optimize.batch_sgd_optimize(lgr_infor, n_epochs = 10)"
     ]
    },
    {
     "cell_type": "code",
     "collapsed": false,
     "input": [
      "## MLP classification\n",
      "reload(theanoml2.mlp)\n",
      "reload(theanoml2.formula)\n",
      "mlp = theanoml2.mlp.MLPClassifier(n_classes = len(classes), n_hidden = 500, n_epochs=10)\n",
      "mlp.partial_fit(train_X, train_y)\n",
      "print mlp.score(train_X, train_y)\n",
      "print mlp.score(validation_X, validation_y)"
     ],
     "language": "python",
     "metadata": {},
     "outputs": [
      {
       "output_type": "stream",
       "stream": "stdout",
       "text": [
        "epoch 1, minibatch 500/537, validation_error 10.731343 %\n",
        "epoch 2, minibatch 463/537, validation_error 9.492537 %"
       ]
      },
      {
       "output_type": "stream",
       "stream": "stdout",
       "text": [
        "\n",
        "epoch 3, minibatch 426/537, validation_error 8.701493 %"
       ]
      },
      {
       "output_type": "stream",
       "stream": "stdout",
       "text": [
        "\n",
        "epoch 4, minibatch 389/537, validation_error 8.940299 %"
       ]
      },
      {
       "output_type": "stream",
       "stream": "stdout",
       "text": [
        "\n",
        "epoch 5, minibatch 352/537, validation_error 8.388060 %"
       ]
      },
      {
       "output_type": "stream",
       "stream": "stdout",
       "text": [
        "\n",
        "epoch 6, minibatch 315/537, validation_error 8.164179 %"
       ]
      },
      {
       "output_type": "stream",
       "stream": "stdout",
       "text": [
        "\n",
        "epoch 7, minibatch 278/537, validation_error 7.835821 %"
       ]
      },
      {
       "output_type": "stream",
       "stream": "stdout",
       "text": [
        "\n",
        "epoch 8, minibatch 241/537, validation_error 7.686567 %"
       ]
      },
      {
       "output_type": "stream",
       "stream": "stdout",
       "text": [
        "\n",
        "epoch 9, minibatch 204/537, validation_error 7.597015 %"
       ]
      },
      {
       "output_type": "stream",
       "stream": "stdout",
       "text": [
        "\n",
        "epoch 10, minibatch 167/537, validation_error 7.567164 %"
       ]
      },
      {
       "output_type": "stream",
       "stream": "stdout",
       "text": [
        "\n",
        "optimization complete with best validation error: 7.567164 %"
       ]
      },
      {
       "output_type": "stream",
       "stream": "stdout",
       "text": [
        "\n",
        "0.943958333333"
       ]
      },
      {
       "output_type": "stream",
       "stream": "stdout",
       "text": [
        "\n",
        "0.931904761905"
       ]
      },
      {
       "output_type": "stream",
       "stream": "stdout",
       "text": [
        "\n"
       ]
      }
     ],
     "prompt_number": 5
    },
    {
     "cell_type": "code",
     "collapsed": false,
     "input": [
      "## Use Logistic Regression Wrapper \n",
      "reload(theanoml2)\n",
      "reload(theanoml2.formula)\n",
      "reload(theanoml2.linear_model)\n",
      "lgr_model = theanoml2.linear_model.LogisticRegression(n_classes = len(classes), n_epochs = 10)\n",
      "lgr_model.partial_fit(train_X, train_y)\n",
      "#print lgr_model.predict(train_X)\n",
      "print lgr_model.score(train_X, train_y)\n",
      "print lgr_model.score(validation_X, validation_y)"
     ],
     "language": "python",
     "metadata": {},
     "outputs": [
      {
       "output_type": "stream",
       "stream": "stdout",
       "text": [
        "epoch 1, minibatch 500/537, validation_error 12.791045 %\n",
        "epoch 2, minibatch 463/537, validation_error 16.492537 %"
       ]
      },
      {
       "output_type": "stream",
       "stream": "stdout",
       "text": [
        "\n",
        "epoch 3, minibatch 426/537, validation_error 16.000000 %"
       ]
      },
      {
       "output_type": "stream",
       "stream": "stdout",
       "text": [
        "\n",
        "epoch 4, minibatch 389/537, validation_error 11.179104 %"
       ]
      },
      {
       "output_type": "stream",
       "stream": "stdout",
       "text": [
        "\n",
        "epoch 5, minibatch 352/537, validation_error 13.701493 %"
       ]
      },
      {
       "output_type": "stream",
       "stream": "stdout",
       "text": [
        "\n",
        "epoch 6, minibatch 315/537, validation_error 12.074627 %"
       ]
      },
      {
       "output_type": "stream",
       "stream": "stdout",
       "text": [
        "\n",
        "epoch 7, minibatch 278/537, validation_error 13.104478 %"
       ]
      },
      {
       "output_type": "stream",
       "stream": "stdout",
       "text": [
        "\n",
        "epoch 8, minibatch 241/537, validation_error 11.402985 %"
       ]
      },
      {
       "output_type": "stream",
       "stream": "stdout",
       "text": [
        "\n",
        "epoch 9, minibatch 204/537, validation_error 14.164179 %"
       ]
      },
      {
       "output_type": "stream",
       "stream": "stdout",
       "text": [
        "\n",
        "epoch 10, minibatch 167/537, validation_error 11.895522 %"
       ]
      },
      {
       "output_type": "stream",
       "stream": "stdout",
       "text": [
        "\n",
        "optimization complete with best validation error: 11.179104 %"
       ]
      },
      {
       "output_type": "stream",
       "stream": "stdout",
       "text": [
        "\n",
        "0.8675"
       ]
      },
      {
       "output_type": "stream",
       "stream": "stdout",
       "text": [
        "\n",
        "0.861904761905"
       ]
      },
      {
       "output_type": "stream",
       "stream": "stdout",
       "text": [
        "\n"
       ]
      }
     ],
     "prompt_number": 4
    },
    {
     "cell_type": "code",
     "collapsed": false,
     "input": [
      "## Linear Regression Model\n",
      "import theanoml2\n",
      "reload(theanoml2)\n",
      "reload(theanoml2.linear_model)\n",
      "reload(theanoml2.formula)\n",
      "from sklearn.datasets import load_diabetes\n",
      "from sklearn.cross_validation import train_test_split\n",
      "diabetes = load_diabetes()\n",
      "X, y = diabetes.data, diabetes.target\n",
      "X = np.random.uniform(size = (1000, 3))\n",
      "y = X[:,0]*2. + X[:, 1] * 5. + 1.\n",
      "print X.shape, y.shape\n",
      "train_X, validation_X, train_y, validation_y = train_test_split(X, y, test_size = 0.2)\n",
      "lr_model = theanoml2.linear_model.LinearRegression(n_epochs = 100, batch_size=10)\n",
      "lr_model.partial_fit(train_X, train_y)\n",
      "print lr_model.score(train_X, train_y)\n",
      "print lr_model.score(validation_X, validation_y)\n",
      "print map(lambda v: v.eval(), lr_model.formula_.params)"
     ],
     "language": "python",
     "metadata": {},
     "outputs": [
      {
       "output_type": "stream",
       "stream": "stdout",
       "text": [
        "(1000, 3) (1000,)\n",
        "epoch 1, minibatch 64/64, validation_error 87.750366 %"
       ]
      },
      {
       "output_type": "stream",
       "stream": "stdout",
       "text": [
        "\n",
        "epoch 2, minibatch 64/64, validation_error 78.111078 %\n",
        "epoch 3, minibatch 64/64, validation_error 71.557845 %\n",
        "epoch 4, minibatch 64/64, validation_error 65.282002 %\n",
        "epoch 5, minibatch 64/64, validation_error 59.556710 %\n",
        "epoch 6, minibatch 64/64, validation_error 54.394383 %\n",
        "epoch 7, minibatch 64/64, validation_error 49.709456 %\n",
        "epoch 8, minibatch 64/64, validation_error 45.486665 %\n",
        "epoch 9, minibatch 64/64, validation_error 41.666899 %\n",
        "epoch 10, minibatch 64/64, validation_error 38.196635 %"
       ]
      },
      {
       "output_type": "stream",
       "stream": "stdout",
       "text": [
        "\n",
        "epoch 11, minibatch 64/64, validation_error 35.035268 %\n",
        "epoch 12, minibatch 64/64, validation_error 32.161202 %\n",
        "epoch 13, minibatch 64/64, validation_error 29.541653 %\n",
        "epoch 14, minibatch 64/64, validation_error 27.157418 %\n",
        "epoch 15, minibatch 64/64, validation_error 24.991530 %\n",
        "epoch 16, minibatch 64/64, validation_error 23.011391 %\n",
        "epoch 17, minibatch 64/64, validation_error 21.212712 %\n",
        "epoch 18, minibatch 64/64, validation_error 19.584572 %"
       ]
      },
      {
       "output_type": "stream",
       "stream": "stdout",
       "text": [
        "\n",
        "epoch 19, minibatch 64/64, validation_error 18.093969 %\n",
        "epoch 20, minibatch 64/64, validation_error 16.728928 %\n",
        "epoch 21, minibatch 64/64, validation_error 15.481784 %\n",
        "epoch 22, minibatch 64/64, validation_error 14.336144 %\n",
        "epoch 23, minibatch 64/64, validation_error 13.289156 %\n",
        "epoch 24, minibatch 64/64, validation_error 12.325154 %\n",
        "epoch 25, minibatch 64/64, validation_error 11.438650 %\n",
        "epoch 26, minibatch 64/64, validation_error 10.621678 %"
       ]
      },
      {
       "output_type": "stream",
       "stream": "stdout",
       "text": [
        "\n",
        "epoch 27, minibatch 64/64, validation_error 9.869156 %\n",
        "epoch 28, minibatch 64/64, validation_error 9.178273 %\n",
        "epoch 29, minibatch 64/64, validation_error 8.543435 %\n",
        "epoch 30, minibatch 64/64, validation_error 7.956917 %\n",
        "epoch 31, minibatch 64/64, validation_error 7.418721 %\n",
        "epoch 32, minibatch 64/64, validation_error 6.921364 %\n",
        "epoch 33, minibatch 64/64, validation_error 6.460472 %\n",
        "epoch 34, minibatch 64/64, validation_error 6.035651 %\n",
        "epoch 35, minibatch 64/64, validation_error 5.642889 %"
       ]
      },
      {
       "output_type": "stream",
       "stream": "stdout",
       "text": [
        "\n",
        "epoch 36, minibatch 64/64, validation_error 5.277580 %\n",
        "epoch 37, minibatch 64/64, validation_error 4.938708 %\n",
        "epoch 38, minibatch 64/64, validation_error 4.624493 %\n",
        "epoch 39, minibatch 64/64, validation_error 4.332370 %\n",
        "epoch 40, minibatch 64/64, validation_error 4.060822 %\n",
        "epoch 41, minibatch 64/64, validation_error 3.808380 %\n",
        "epoch 42, minibatch 64/64, validation_error 3.573482 %\n",
        "epoch 43, minibatch 64/64, validation_error 3.354536 %\n",
        "epoch 44, minibatch 64/64, validation_error 3.150267 %"
       ]
      },
      {
       "output_type": "stream",
       "stream": "stdout",
       "text": [
        "\n",
        "epoch 45, minibatch 64/64, validation_error 2.958965 %\n",
        "epoch 46, minibatch 64/64, validation_error 2.779867 %\n",
        "epoch 47, minibatch 64/64, validation_error 2.612828 %\n",
        "epoch 48, minibatch 64/64, validation_error 2.457336 %\n",
        "epoch 49, minibatch 64/64, validation_error 2.311679 %\n",
        "epoch 50, minibatch 64/64, validation_error 2.174707 %\n",
        "epoch 51, minibatch 64/64, validation_error 2.046564 %\n",
        "epoch 52, minibatch 64/64, validation_error 1.925999 %\n",
        "epoch 53, minibatch 64/64, validation_error 1.812651 %"
       ]
      },
      {
       "output_type": "stream",
       "stream": "stdout",
       "text": [
        "\n",
        "epoch 54, minibatch 64/64, validation_error 1.706055 %\n",
        "epoch 55, minibatch 64/64, validation_error 1.605866 %\n",
        "epoch 56, minibatch 64/64, validation_error 1.511757 %\n",
        "epoch 57, minibatch 64/64, validation_error 1.423350 %\n",
        "epoch 58, minibatch 64/64, validation_error 1.340090 %\n",
        "epoch 59, minibatch 64/64, validation_error 1.261707 %\n",
        "epoch 60, minibatch 64/64, validation_error 1.188061 %\n",
        "epoch 61, minibatch 64/64, validation_error 1.118694 %\n",
        "epoch 62, minibatch 64/64, validation_error 1.053355 %"
       ]
      },
      {
       "output_type": "stream",
       "stream": "stdout",
       "text": [
        "\n",
        "epoch 63, minibatch 64/64, validation_error 0.991812 %\n",
        "epoch 64, minibatch 64/64, validation_error 0.933853 %\n",
        "epoch 65, minibatch 64/64, validation_error 0.879532 %\n",
        "epoch 66, minibatch 64/64, validation_error 0.828369 %\n",
        "epoch 67, minibatch 64/64, validation_error 0.780157 %\n",
        "epoch 68, minibatch 64/64, validation_error 0.734729 %\n",
        "epoch 69, minibatch 64/64, validation_error 0.691926 %\n",
        "epoch 70, minibatch 64/64, validation_error 0.651599 %\n",
        "epoch 71, minibatch 64/64, validation_error 0.613606 %"
       ]
      },
      {
       "output_type": "stream",
       "stream": "stdout",
       "text": [
        "\n",
        "epoch 72, minibatch 64/64, validation_error 0.577814 %\n",
        "epoch 73, minibatch 64/64, validation_error 0.544120 %\n",
        "epoch 74, minibatch 64/64, validation_error 0.512385 %\n",
        "epoch 75, minibatch 64/64, validation_error 0.482490 %\n",
        "epoch 76, minibatch 64/64, validation_error 0.454329 %\n",
        "epoch 77, minibatch 64/64, validation_error 0.427802 %\n",
        "epoch 78, minibatch 64/64, validation_error 0.402819 %\n",
        "epoch 79, minibatch 64/64, validation_error 0.379289 %\n",
        "epoch 80, minibatch 64/64, validation_error 0.357143 %"
       ]
      },
      {
       "output_type": "stream",
       "stream": "stdout",
       "text": [
        "\n",
        "epoch 81, minibatch 64/64, validation_error 0.336283 %\n",
        "epoch 82, minibatch 64/64, validation_error 0.316635 %\n",
        "epoch 83, minibatch 64/64, validation_error 0.298131 %\n",
        "epoch 84, minibatch 64/64, validation_error 0.280707 %\n",
        "epoch 85, minibatch 64/64, validation_error 0.264304 %\n",
        "epoch 86, minibatch 64/64, validation_error 0.248854 %\n",
        "epoch 87, minibatch 64/64, validation_error 0.234304 %\n",
        "epoch 88, minibatch 64/64, validation_error 0.220602 %\n",
        "epoch 89, minibatch 64/64, validation_error 0.207697 %"
       ]
      },
      {
       "output_type": "stream",
       "stream": "stdout",
       "text": [
        "\n",
        "epoch 90, minibatch 64/64, validation_error 0.195545 %\n",
        "epoch 91, minibatch 64/64, validation_error 0.184101 %\n",
        "epoch 92, minibatch 64/64, validation_error 0.173324 %\n",
        "epoch 93, minibatch 64/64, validation_error 0.163177 %\n",
        "epoch 94, minibatch 64/64, validation_error 0.153621 %\n",
        "epoch 95, minibatch 64/64, validation_error 0.144624 %\n",
        "epoch 96, minibatch 64/64, validation_error 0.136152 %\n",
        "epoch 97, minibatch 64/64, validation_error 0.128175 %\n",
        "epoch 98, minibatch 64/64, validation_error 0.120664 %"
       ]
      },
      {
       "output_type": "stream",
       "stream": "stdout",
       "text": [
        "\n",
        "epoch 99, minibatch 64/64, validation_error 0.113593 %\n",
        "epoch 100, minibatch 64/64, validation_error 0.106934 %\n",
        "optimization complete with best validation error: 0.106934 %\n",
        "0.999999261749"
       ]
      },
      {
       "output_type": "stream",
       "stream": "stdout",
       "text": [
        "\n",
        "0.99999921501\n",
        "[array([  1.99736703e+00,   4.99704603e+00,  -2.15751925e-03]), array(1.0041267357192185)]"
       ]
      },
      {
       "output_type": "stream",
       "stream": "stdout",
       "text": [
        "\n"
       ]
      }
     ],
     "prompt_number": 6
    }
   ],
   "metadata": {}
  }
 ]
}