{
 "metadata": {
  "name": "TEST_theanoml2_formula_optimize"
 },
 "nbformat": 3,
 "nbformat_minor": 0,
 "worksheets": [
  {
   "cells": [
    {
     "cell_type": "code",
     "collapsed": false,
     "input": [
      "import theanoml2\n",
      "reload(theanoml2)"
     ],
     "language": "python",
     "metadata": {},
     "outputs": [
      {
       "output_type": "pyout",
       "prompt_number": 1,
       "text": [
        "<module 'theanoml2' from 'theanoml2/__init__.pyc'>"
       ]
      }
     ],
     "prompt_number": 1
    },
    {
     "cell_type": "code",
     "collapsed": false,
     "input": [
      "reload(theanoml2.formula)\n",
      "reload(theanoml2.optimize)\n",
      "import cPickle\n",
      "import numpy as np\n",
      "from sklearn.cross_validation import train_test_split\n",
      "from functools import partial\n",
      "X, y = cPickle.load(open('data/digits.pkl', 'rb'))\n",
      "classes = np.unique(y)\n",
      "print X.shape, y.shape\n",
      "train_X, validation_X, train_y, validation_y = train_test_split(X, y, test_size = 0.2)"
     ],
     "language": "python",
     "metadata": {},
     "outputs": [
      {
       "output_type": "stream",
       "stream": "stdout",
       "text": [
        "(42000, 784) (42000,)\n"
       ]
      }
     ],
     "prompt_number": 2
    },
    {
     "cell_type": "raw",
     "metadata": {},
     "source": [
      "## Logistic Regression\n",
      "\n",
      "lgr = theanoml2.formula.FLogisticRegression(n_in = X.shape[1], n_out = len(classes))\n",
      "\n",
      "v_train_X = theanoml2.formula.share_data(train_X)\n",
      "v_validation_X = theanoml2.formula.share_data(validation_X)\n",
      "v_train_y, v_validation_y = map(partial(theanoml2.formula.share_data, dtype = 'int32'), [train_y, validation_y])\n",
      "\n",
      "lgr_infor = theanoml2.formula.build_batch_sgd_model_infor(lgr, \n",
      "        v_train_X, v_train_y, v_validation_X, v_validation_y, batch_size = 500)\n",
      "\n",
      "theanoml2.optimize.batch_sgd_optimize(lgr_infor, n_epochs = 10)"
     ]
    },
    {
     "cell_type": "code",
     "collapsed": false,
     "input": [
      "## LeNet classification\n",
      "import theanoml2\n",
      "reload(theanoml2)\n",
      "reload(theanoml2.lenet)\n",
      "reload(theanoml2.formula)\n",
      "lenet = theanoml2.lenet.LeNetClassifier(n_classes = len(classes), image_size = (28, 28), \n",
      "                n_hidden = 500, n_epochs = 1,)\n",
      "lenet.partial_fit(train_X, train_y)\n",
      "print lenet.score(train_X, train_y)\n",
      "print lenet.score(validation_X, validation_y)"
     ],
     "language": "python",
     "metadata": {},
     "outputs": [
      {
       "output_type": "stream",
       "stream": "stdout",
       "text": [
        "epoch 1, minibatch 500/537, validation_error 7.850746 %\n",
        "optimization complete with best validation error: 7.850746 %"
       ]
      },
      {
       "output_type": "stream",
       "stream": "stdout",
       "text": [
        "\n",
        "0.0"
       ]
      },
      {
       "output_type": "stream",
       "stream": "stdout",
       "text": [
        "\n",
        "0.0"
       ]
      },
      {
       "output_type": "stream",
       "stream": "stdout",
       "text": [
        "\n"
       ]
      }
     ],
     "prompt_number": 3
    },
    {
     "cell_type": "code",
     "collapsed": false,
     "input": [
      "v_valid_X = theanoml2.formula.share_data(validation_X)\n",
      "print v_valid_X.eval().shape\n",
      "print lenet.batch_size, lenet.image_size\n",
      "batch_size = 8400\n",
      "layer0_input = v_valid_X.reshape((batch_size, 1, lenet.image_size[0], lenet.image_size[1]))\n",
      "layer0_input.eval()"
     ],
     "language": "python",
     "metadata": {},
     "outputs": [
      {
       "output_type": "stream",
       "stream": "stdout",
       "text": [
        "(8400, 784)\n",
        "50 (28, 28)\n"
       ]
      },
      {
       "output_type": "pyout",
       "prompt_number": 30,
       "text": [
        "array([[[[ 0.,  0.,  0., ...,  0.,  0.,  0.],\n",
        "         [ 0.,  0.,  0., ...,  0.,  0.,  0.],\n",
        "         [ 0.,  0.,  0., ...,  0.,  0.,  0.],\n",
        "         ..., \n",
        "         [ 0.,  0.,  0., ...,  0.,  0.,  0.],\n",
        "         [ 0.,  0.,  0., ...,  0.,  0.,  0.],\n",
        "         [ 0.,  0.,  0., ...,  0.,  0.,  0.]]],\n",
        "\n",
        "\n",
        "       [[[ 0.,  0.,  0., ...,  0.,  0.,  0.],\n",
        "         [ 0.,  0.,  0., ...,  0.,  0.,  0.],\n",
        "         [ 0.,  0.,  0., ...,  0.,  0.,  0.],\n",
        "         ..., \n",
        "         [ 0.,  0.,  0., ...,  0.,  0.,  0.],\n",
        "         [ 0.,  0.,  0., ...,  0.,  0.,  0.],\n",
        "         [ 0.,  0.,  0., ...,  0.,  0.,  0.]]],\n",
        "\n",
        "\n",
        "       [[[ 0.,  0.,  0., ...,  0.,  0.,  0.],\n",
        "         [ 0.,  0.,  0., ...,  0.,  0.,  0.],\n",
        "         [ 0.,  0.,  0., ...,  0.,  0.,  0.],\n",
        "         ..., \n",
        "         [ 0.,  0.,  0., ...,  0.,  0.,  0.],\n",
        "         [ 0.,  0.,  0., ...,  0.,  0.,  0.],\n",
        "         [ 0.,  0.,  0., ...,  0.,  0.,  0.]]],\n",
        "\n",
        "\n",
        "       ..., \n",
        "       [[[ 0.,  0.,  0., ...,  0.,  0.,  0.],\n",
        "         [ 0.,  0.,  0., ...,  0.,  0.,  0.],\n",
        "         [ 0.,  0.,  0., ...,  0.,  0.,  0.],\n",
        "         ..., \n",
        "         [ 0.,  0.,  0., ...,  0.,  0.,  0.],\n",
        "         [ 0.,  0.,  0., ...,  0.,  0.,  0.],\n",
        "         [ 0.,  0.,  0., ...,  0.,  0.,  0.]]],\n",
        "\n",
        "\n",
        "       [[[ 0.,  0.,  0., ...,  0.,  0.,  0.],\n",
        "         [ 0.,  0.,  0., ...,  0.,  0.,  0.],\n",
        "         [ 0.,  0.,  0., ...,  0.,  0.,  0.],\n",
        "         ..., \n",
        "         [ 0.,  0.,  0., ...,  0.,  0.,  0.],\n",
        "         [ 0.,  0.,  0., ...,  0.,  0.,  0.],\n",
        "         [ 0.,  0.,  0., ...,  0.,  0.,  0.]]],\n",
        "\n",
        "\n",
        "       [[[ 0.,  0.,  0., ...,  0.,  0.,  0.],\n",
        "         [ 0.,  0.,  0., ...,  0.,  0.,  0.],\n",
        "         [ 0.,  0.,  0., ...,  0.,  0.,  0.],\n",
        "         ..., \n",
        "         [ 0.,  0.,  0., ...,  0.,  0.,  0.],\n",
        "         [ 0.,  0.,  0., ...,  0.,  0.,  0.],\n",
        "         [ 0.,  0.,  0., ...,  0.,  0.,  0.]]]])"
       ]
      }
     ],
     "prompt_number": 30
    },
    {
     "cell_type": "code",
     "collapsed": false,
     "input": [
      "## MLP classification\n",
      "reload(theanoml2.mlp)\n",
      "reload(theanoml2.formula)\n",
      "mlp = theanoml2.mlp.MLPClassifier(n_classes = len(classes), n_hidden = 500, n_epochs=10)\n",
      "mlp.partial_fit(train_X, train_y)\n",
      "print mlp.score(train_X, train_y)\n",
      "print mlp.score(validation_X, validation_y)"
     ],
     "language": "python",
     "metadata": {},
     "outputs": [
      {
       "output_type": "stream",
       "stream": "stdout",
       "text": [
        "epoch 1, minibatch 500/537, validation_error 10.119403 %\n",
        "epoch 2, minibatch 463/537, validation_error 8.880597 %"
       ]
      },
      {
       "output_type": "stream",
       "stream": "stdout",
       "text": [
        "\n",
        "epoch 3, minibatch 426/537, validation_error 8.044776 %"
       ]
      },
      {
       "output_type": "stream",
       "stream": "stdout",
       "text": [
        "\n",
        "epoch 4, minibatch 389/537, validation_error 7.417910 %"
       ]
      },
      {
       "output_type": "stream",
       "stream": "stdout",
       "text": [
        "\n",
        "epoch 5, minibatch 352/537, validation_error 7.358209 %"
       ]
      },
      {
       "output_type": "stream",
       "stream": "stdout",
       "text": [
        "\n",
        "epoch 6, minibatch 315/537, validation_error 7.358209 %"
       ]
      },
      {
       "output_type": "stream",
       "stream": "stdout",
       "text": [
        "\n",
        "epoch 7, minibatch 278/537, validation_error 6.761194 %"
       ]
      },
      {
       "output_type": "stream",
       "stream": "stdout",
       "text": [
        "\n",
        "epoch 8, minibatch 241/537, validation_error 6.582090 %"
       ]
      },
      {
       "output_type": "stream",
       "stream": "stdout",
       "text": [
        "\n",
        "epoch 9, minibatch 204/537, validation_error 6.641791 %"
       ]
      },
      {
       "output_type": "stream",
       "stream": "stdout",
       "text": [
        "\n",
        "epoch 10, minibatch 167/537, validation_error 6.208955 %"
       ]
      },
      {
       "output_type": "stream",
       "stream": "stdout",
       "text": [
        "\n",
        "optimization complete with best validation error: 6.208955 %"
       ]
      },
      {
       "output_type": "stream",
       "stream": "stdout",
       "text": [
        "\n",
        "0.942410714286"
       ]
      },
      {
       "output_type": "stream",
       "stream": "stdout",
       "text": [
        "\n",
        "0.937976190476"
       ]
      },
      {
       "output_type": "stream",
       "stream": "stdout",
       "text": [
        "\n"
       ]
      }
     ],
     "prompt_number": 6
    },
    {
     "cell_type": "code",
     "collapsed": false,
     "input": [
      "## Use Logistic Regression Wrapper \n",
      "reload(theanoml2)\n",
      "reload(theanoml2.formula)\n",
      "reload(theanoml2.linear_model)\n",
      "lgr_model = theanoml2.linear_model.LogisticRegression(n_classes = len(classes), n_epochs = 10)\n",
      "lgr_model.partial_fit(train_X, train_y)\n",
      "#print lgr_model.predict(train_X)\n",
      "print lgr_model.score(train_X, train_y)\n",
      "print lgr_model.score(validation_X, validation_y)"
     ],
     "language": "python",
     "metadata": {},
     "outputs": [
      {
       "output_type": "stream",
       "stream": "stdout",
       "text": [
        "epoch 1, minibatch 500/537, validation_error 14.477612 %\n",
        "epoch 2, minibatch 463/537, validation_error 14.970149 %"
       ]
      },
      {
       "output_type": "stream",
       "stream": "stdout",
       "text": [
        "\n",
        "epoch 3, minibatch 426/537, validation_error 10.940299 %"
       ]
      },
      {
       "output_type": "stream",
       "stream": "stdout",
       "text": [
        "\n",
        "epoch 4, minibatch 389/537, validation_error 10.925373 %"
       ]
      },
      {
       "output_type": "stream",
       "stream": "stdout",
       "text": [
        "\n",
        "epoch 5, minibatch 352/537, validation_error 11.432836 %"
       ]
      },
      {
       "output_type": "stream",
       "stream": "stdout",
       "text": [
        "\n",
        "epoch 6, minibatch 315/537, validation_error 11.014925 %"
       ]
      },
      {
       "output_type": "stream",
       "stream": "stdout",
       "text": [
        "\n",
        "epoch 7, minibatch 278/537, validation_error 14.074627 %"
       ]
      },
      {
       "output_type": "stream",
       "stream": "stdout",
       "text": [
        "\n",
        "epoch 8, minibatch 241/537, validation_error 12.880597 %"
       ]
      },
      {
       "output_type": "stream",
       "stream": "stdout",
       "text": [
        "\n",
        "epoch 9, minibatch 204/537, validation_error 16.388060 %"
       ]
      },
      {
       "output_type": "stream",
       "stream": "stdout",
       "text": [
        "\n",
        "epoch 10, minibatch 167/537, validation_error 12.462687 %"
       ]
      },
      {
       "output_type": "stream",
       "stream": "stdout",
       "text": [
        "\n",
        "optimization complete with best validation error: 10.925373 %"
       ]
      },
      {
       "output_type": "stream",
       "stream": "stdout",
       "text": [
        "\n",
        "0.889166666667"
       ]
      },
      {
       "output_type": "stream",
       "stream": "stdout",
       "text": [
        "\n",
        "0.877619047619"
       ]
      },
      {
       "output_type": "stream",
       "stream": "stdout",
       "text": [
        "\n"
       ]
      }
     ],
     "prompt_number": 3
    },
    {
     "cell_type": "code",
     "collapsed": false,
     "input": [
      "## Linear Regression Model\n",
      "import theanoml2\n",
      "reload(theanoml2)\n",
      "reload(theanoml2.linear_model)\n",
      "reload(theanoml2.formula)\n",
      "from sklearn.datasets import load_diabetes\n",
      "from sklearn.cross_validation import train_test_split\n",
      "diabetes = load_diabetes()\n",
      "X, y = diabetes.data, diabetes.target\n",
      "X = np.random.uniform(size = (1000, 3))\n",
      "y = X[:,0]*2. + X[:, 1] * 5. + 1.\n",
      "print X.shape, y.shape\n",
      "train_X, validation_X, train_y, validation_y = train_test_split(X, y, test_size = 0.2)\n",
      "lr_model = theanoml2.linear_model.LinearRegression(n_epochs = 10, batch_size=10)\n",
      "lr_model.partial_fit(train_X, train_y)\n",
      "print lr_model.score(train_X, train_y)\n",
      "print lr_model.score(validation_X, validation_y)\n",
      "print map(lambda v: v.eval(), lr_model.formula_.params)"
     ],
     "language": "python",
     "metadata": {},
     "outputs": [
      {
       "output_type": "stream",
       "stream": "stdout",
       "text": [
        "(1000, 3) (1000,)\n",
        "epoch 1, minibatch 64/64, validation_error 91.202448 %"
       ]
      },
      {
       "output_type": "stream",
       "stream": "stdout",
       "text": [
        "\n",
        "epoch 2, minibatch 64/64, validation_error 76.554709 %\n",
        "epoch 3, minibatch 64/64, validation_error 68.960607 %\n",
        "epoch 4, minibatch 64/64, validation_error 62.231556 %\n",
        "epoch 5, minibatch 64/64, validation_error 56.194271 %\n",
        "epoch 6, minibatch 64/64, validation_error 50.775172 %\n",
        "epoch 7, minibatch 64/64, validation_error 45.913820 %\n",
        "epoch 8, minibatch 64/64, validation_error 41.565633 %\n",
        "epoch 9, minibatch 64/64, validation_error 37.656044 %"
       ]
      },
      {
       "output_type": "stream",
       "stream": "stdout",
       "text": [
        "\n",
        "epoch 10, minibatch 64/64, validation_error 34.142120 %\n",
        "optimization complete with best validation error: 34.142120 %\n",
        "0.928087113353"
       ]
      },
      {
       "output_type": "stream",
       "stream": "stdout",
       "text": [
        "\n",
        "0.93059764046\n",
        "[array([ 1.56063239,  3.64438407,  0.17407062]), array(1.8625258492463739)]"
       ]
      },
      {
       "output_type": "stream",
       "stream": "stdout",
       "text": [
        "\n"
       ]
      }
     ],
     "prompt_number": 5
    },
    {
     "cell_type": "code",
     "collapsed": false,
     "input": [],
     "language": "python",
     "metadata": {},
     "outputs": []
    }
   ],
   "metadata": {}
  }
 ]
}