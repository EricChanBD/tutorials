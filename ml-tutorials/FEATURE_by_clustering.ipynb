{
 "metadata": {
  "name": "FEATURE_by_clustering"
 },
 "nbformat": 3,
 "nbformat_minor": 0,
 "worksheets": [
  {
   "cells": [
    {
     "cell_type": "code",
     "collapsed": false,
     "input": [
      "## kmeans for feature transformation, minibatch kmeans\n",
      "## WARD with connectivity constraint - image processing and network profiling"
     ],
     "language": "python",
     "metadata": {},
     "outputs": []
    }
   ],
   "metadata": {}
  }
 ]
}