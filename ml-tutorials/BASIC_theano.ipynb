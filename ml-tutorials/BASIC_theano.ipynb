{
 "metadata": {
  "name": "BASIC_theano"
 },
 "nbformat": 3,
 "nbformat_minor": 0,
 "worksheets": [
  {
   "cells": [
    {
     "cell_type": "heading",
     "level": 1,
     "metadata": {},
     "source": [
      "Basic Tutorial for Theano deep learning package"
     ]
    },
    {
     "cell_type": "code",
     "collapsed": false,
     "input": [
      "import theano.tensor as T\n",
      "from theano import function, shared\n",
      "from theano import pp\n",
      "import numpy as np"
     ],
     "language": "python",
     "metadata": {},
     "outputs": [],
     "prompt_number": 26
    },
    {
     "cell_type": "markdown",
     "metadata": {},
     "source": [
      "***Basics of Tensor Functionality***"
     ]
    },
    {
     "cell_type": "code",
     "collapsed": false,
     "input": [
      "## create symbols of variables and functions\n",
      "## 1. use T.xx to directly create variables\n",
      "## 2. use operators (such as +) to create new variables - TensorVariable\n",
      "## 3. use function to create function symbols\n",
      "x = T.dscalar('x') ## ALL SYMBOLS must be typed, T.dscalar = 0-d arrays (scalar) of doubles (d)\n",
      "print type(x) ## dscalar is similiar to dtype in np, so x is not an instance of dscalar, but TensorVariable\n",
      "y = T.dscalar('y') ## T.dscalar() is like a factory method\n",
      "print y.type is T.dscalar ## the \"dtype\" of a TensorVariable is accessed by 'type' attr \n",
      "z = x + y\n",
      "print type(z), pp(z) ## pp can be used for pretty-print of variables, but for functions\n",
      "f = function([x, y], z) ## compiling function object to C code, f CAN be used like a normal python function\n",
      "print type(f), f ## cannot use pp for f\n",
      "print f(10.1, 100)\n",
      "print z.eval({x: 10.1, y: 100}) ## z's eval() is equivalent to function(), but less flexible"
     ],
     "language": "python",
     "metadata": {},
     "outputs": [
      {
       "output_type": "stream",
       "stream": "stdout",
       "text": [
        "<class 'theano.tensor.basic.TensorVariable'>\n",
        "True\n",
        "<class 'theano.tensor.basic.TensorVariable'> (x + y)\n",
        "<class 'theano.compile.function_module.Function'> <theano.compile.function_module.Function object at 0x4bfa190>\n",
        "110.1\n",
        "110.1\n"
       ]
      }
     ],
     "prompt_number": 14
    },
    {
     "cell_type": "code",
     "collapsed": false,
     "input": [
      "## every symbol in theano must be typed, which can be done by using specific factory method in T\n",
      "## matrices algebra\n",
      "x = T.dmatrix('x') # matrix of double- matrices are DUCK-typed, np.array or list of list, it RETURNS np.array\n",
      "print type(x), x.type, pp(x)\n",
      "y = T.dmatrix('y')\n",
      "z = x * y ## elementwise multiplication\n",
      "f = function([x, y], z)\n",
      "## perform f on list of list\n",
      "r = f([[1, 2], [3, 4]], [[10, 20], [30, 40]])\n",
      "print type(r)\n",
      "print r\n",
      "## perform f again on np.array\n",
      "r = f(np.asarray([[1, 2], [3, 4]]), np.asarray([[10, 20], [30, 40]]))\n",
      "print type(r)\n",
      "print r"
     ],
     "language": "python",
     "metadata": {},
     "outputs": [
      {
       "ename": "MissingInputError",
       "evalue": "('Undeclared input', x)",
       "output_type": "pyerr",
       "traceback": [
        "\u001b[0;31m---------------------------------------------------------------------------\u001b[0m\n\u001b[0;31mMissingInputError\u001b[0m                         Traceback (most recent call last)",
        "\u001b[0;32m<ipython-input-41-84c83f427da5>\u001b[0m in \u001b[0;36m<module>\u001b[0;34m()\u001b[0m\n\u001b[1;32m     14\u001b[0m \u001b[0;32mprint\u001b[0m \u001b[0mtype\u001b[0m\u001b[0;34m(\u001b[0m\u001b[0mr\u001b[0m\u001b[0;34m)\u001b[0m\u001b[0;34m\u001b[0m\u001b[0m\n\u001b[1;32m     15\u001b[0m \u001b[0;32mprint\u001b[0m \u001b[0mr\u001b[0m\u001b[0;34m\u001b[0m\u001b[0m\n\u001b[0;32m---> 16\u001b[0;31m \u001b[0;32mprint\u001b[0m \u001b[0mx\u001b[0m\u001b[0;34m.\u001b[0m\u001b[0meval\u001b[0m\u001b[0;34m(\u001b[0m\u001b[0;34m)\u001b[0m\u001b[0;34m\u001b[0m\u001b[0m\n\u001b[0m",
        "\u001b[0;32m/usr/local/lib/python2.7/dist-packages/theano/gof/graph.pyc\u001b[0m in \u001b[0;36meval\u001b[0;34m(self, inputs_to_values)\u001b[0m\n\u001b[1;32m    418\u001b[0m         \u001b[0;32mif\u001b[0m \u001b[0;32mnot\u001b[0m \u001b[0mhasattr\u001b[0m\u001b[0;34m(\u001b[0m\u001b[0mself\u001b[0m\u001b[0;34m,\u001b[0m \u001b[0;34m'_fn'\u001b[0m\u001b[0;34m)\u001b[0m\u001b[0;34m:\u001b[0m\u001b[0;34m\u001b[0m\u001b[0m\n\u001b[1;32m    419\u001b[0m             \u001b[0mself\u001b[0m\u001b[0;34m.\u001b[0m\u001b[0m_fn_inputs\u001b[0m \u001b[0;34m=\u001b[0m \u001b[0minputs_to_values\u001b[0m\u001b[0;34m.\u001b[0m\u001b[0mkeys\u001b[0m\u001b[0;34m(\u001b[0m\u001b[0;34m)\u001b[0m\u001b[0;34m\u001b[0m\u001b[0m\n\u001b[0;32m--> 420\u001b[0;31m             \u001b[0mself\u001b[0m\u001b[0;34m.\u001b[0m\u001b[0m_fn\u001b[0m \u001b[0;34m=\u001b[0m \u001b[0mtheano\u001b[0m\u001b[0;34m.\u001b[0m\u001b[0mfunction\u001b[0m\u001b[0;34m(\u001b[0m\u001b[0mself\u001b[0m\u001b[0;34m.\u001b[0m\u001b[0m_fn_inputs\u001b[0m\u001b[0;34m,\u001b[0m \u001b[0mself\u001b[0m\u001b[0;34m)\u001b[0m\u001b[0;34m\u001b[0m\u001b[0m\n\u001b[0m\u001b[1;32m    421\u001b[0m         \u001b[0margs\u001b[0m \u001b[0;34m=\u001b[0m \u001b[0;34m[\u001b[0m\u001b[0minputs_to_values\u001b[0m\u001b[0;34m[\u001b[0m\u001b[0mparam\u001b[0m\u001b[0;34m]\u001b[0m \u001b[0;32mfor\u001b[0m \u001b[0mparam\u001b[0m \u001b[0;32min\u001b[0m \u001b[0mself\u001b[0m\u001b[0;34m.\u001b[0m\u001b[0m_fn_inputs\u001b[0m\u001b[0;34m]\u001b[0m\u001b[0;34m\u001b[0m\u001b[0m\n\u001b[1;32m    422\u001b[0m \u001b[0;34m\u001b[0m\u001b[0m\n",
        "\u001b[0;32m/usr/local/lib/python2.7/dist-packages/theano/compile/function.pyc\u001b[0m in \u001b[0;36mfunction\u001b[0;34m(inputs, outputs, mode, updates, givens, no_default_updates, accept_inplace, name, rebuild_strict, allow_input_downcast, profile, on_unused_input)\u001b[0m\n\u001b[1;32m    219\u001b[0m                 \u001b[0mallow_input_downcast\u001b[0m\u001b[0;34m=\u001b[0m\u001b[0mallow_input_downcast\u001b[0m\u001b[0;34m,\u001b[0m\u001b[0;34m\u001b[0m\u001b[0m\n\u001b[1;32m    220\u001b[0m                 \u001b[0mon_unused_input\u001b[0m\u001b[0;34m=\u001b[0m\u001b[0mon_unused_input\u001b[0m\u001b[0;34m,\u001b[0m\u001b[0;34m\u001b[0m\u001b[0m\n\u001b[0;32m--> 221\u001b[0;31m                 profile=profile)\n\u001b[0m\u001b[1;32m    222\u001b[0m     \u001b[0;31m# We need to add the flag check_aliased inputs if we have any mutable or\u001b[0m\u001b[0;34m\u001b[0m\u001b[0;34m\u001b[0m\u001b[0m\n\u001b[1;32m    223\u001b[0m     \u001b[0;31m# borrowed used defined inputs\u001b[0m\u001b[0;34m\u001b[0m\u001b[0;34m\u001b[0m\u001b[0m\n",
        "\u001b[0;32m/usr/local/lib/python2.7/dist-packages/theano/compile/pfunc.pyc\u001b[0m in \u001b[0;36mpfunc\u001b[0;34m(params, outputs, mode, updates, givens, no_default_updates, accept_inplace, name, rebuild_strict, allow_input_downcast, profile, on_unused_input)\u001b[0m\n\u001b[1;32m    504\u001b[0m     return orig_function(inputs, cloned_outputs, mode,\n\u001b[1;32m    505\u001b[0m             \u001b[0maccept_inplace\u001b[0m\u001b[0;34m=\u001b[0m\u001b[0maccept_inplace\u001b[0m\u001b[0;34m,\u001b[0m \u001b[0mname\u001b[0m\u001b[0;34m=\u001b[0m\u001b[0mname\u001b[0m\u001b[0;34m,\u001b[0m \u001b[0mprofile\u001b[0m\u001b[0;34m=\u001b[0m\u001b[0mprofile\u001b[0m\u001b[0;34m,\u001b[0m\u001b[0;34m\u001b[0m\u001b[0m\n\u001b[0;32m--> 506\u001b[0;31m             on_unused_input=on_unused_input)\n\u001b[0m\u001b[1;32m    507\u001b[0m \u001b[0;34m\u001b[0m\u001b[0m\n\u001b[1;32m    508\u001b[0m \u001b[0;34m\u001b[0m\u001b[0m\n",
        "\u001b[0;32m/usr/local/lib/python2.7/dist-packages/theano/compile/function_module.pyc\u001b[0m in \u001b[0;36morig_function\u001b[0;34m(inputs, outputs, mode, accept_inplace, name, profile, on_unused_input)\u001b[0m\n\u001b[1;32m   1336\u001b[0m                 \u001b[0maccept_inplace\u001b[0m\u001b[0;34m=\u001b[0m\u001b[0maccept_inplace\u001b[0m\u001b[0;34m,\u001b[0m\u001b[0;34m\u001b[0m\u001b[0m\n\u001b[1;32m   1337\u001b[0m                 \u001b[0mprofile\u001b[0m\u001b[0;34m=\u001b[0m\u001b[0mprofile\u001b[0m\u001b[0;34m,\u001b[0m\u001b[0;34m\u001b[0m\u001b[0m\n\u001b[0;32m-> 1338\u001b[0;31m                 \u001b[0mon_unused_input\u001b[0m\u001b[0;34m=\u001b[0m\u001b[0mon_unused_input\u001b[0m\u001b[0;34m)\u001b[0m\u001b[0;34m.\u001b[0m\u001b[0mcreate\u001b[0m\u001b[0;34m(\u001b[0m\u001b[0;34m\u001b[0m\u001b[0m\n\u001b[0m\u001b[1;32m   1339\u001b[0m                         defaults)\n\u001b[1;32m   1340\u001b[0m \u001b[0;34m\u001b[0m\u001b[0m\n",
        "\u001b[0;32m/usr/local/lib/python2.7/dist-packages/theano/compile/function_module.pyc\u001b[0m in \u001b[0;36m__init__\u001b[0;34m(self, inputs, outputs, mode, accept_inplace, function_builder, profile, on_unused_input)\u001b[0m\n\u001b[1;32m    991\u001b[0m \u001b[0;34m\u001b[0m\u001b[0m\n\u001b[1;32m    992\u001b[0m         \u001b[0;31m# make the fgraph (copies the graph, creates NEW INPUT AND OUTPUT VARIABLES)\u001b[0m\u001b[0;34m\u001b[0m\u001b[0;34m\u001b[0m\u001b[0m\n\u001b[0;32m--> 993\u001b[0;31m         \u001b[0mfgraph\u001b[0m\u001b[0;34m,\u001b[0m \u001b[0madditional_outputs\u001b[0m \u001b[0;34m=\u001b[0m \u001b[0mstd_fgraph\u001b[0m\u001b[0;34m(\u001b[0m\u001b[0mexpanded_inputs\u001b[0m\u001b[0;34m,\u001b[0m \u001b[0moutputs\u001b[0m\u001b[0;34m,\u001b[0m \u001b[0maccept_inplace\u001b[0m\u001b[0;34m)\u001b[0m\u001b[0;34m\u001b[0m\u001b[0m\n\u001b[0m\u001b[1;32m    994\u001b[0m         \u001b[0mfgraph\u001b[0m\u001b[0;34m.\u001b[0m\u001b[0mprofile\u001b[0m \u001b[0;34m=\u001b[0m \u001b[0mprofile\u001b[0m\u001b[0;34m\u001b[0m\u001b[0m\n\u001b[1;32m    995\u001b[0m \u001b[0;34m\u001b[0m\u001b[0m\n",
        "\u001b[0;32m/usr/local/lib/python2.7/dist-packages/theano/compile/function_module.pyc\u001b[0m in \u001b[0;36mstd_fgraph\u001b[0;34m(input_specs, output_specs, accept_inplace)\u001b[0m\n\u001b[1;32m    131\u001b[0m \u001b[0;34m\u001b[0m\u001b[0m\n\u001b[1;32m    132\u001b[0m     \u001b[0minputs\u001b[0m\u001b[0;34m,\u001b[0m \u001b[0moutputs\u001b[0m \u001b[0;34m=\u001b[0m \u001b[0mgof\u001b[0m\u001b[0;34m.\u001b[0m\u001b[0mgraph\u001b[0m\u001b[0;34m.\u001b[0m\u001b[0mclone\u001b[0m\u001b[0;34m(\u001b[0m\u001b[0morig_inputs\u001b[0m\u001b[0;34m,\u001b[0m \u001b[0morig_outputs\u001b[0m\u001b[0;34m)\u001b[0m\u001b[0;34m\u001b[0m\u001b[0m\n\u001b[0;32m--> 133\u001b[0;31m     \u001b[0mfgraph\u001b[0m \u001b[0;34m=\u001b[0m \u001b[0mgof\u001b[0m\u001b[0;34m.\u001b[0m\u001b[0mfg\u001b[0m\u001b[0;34m.\u001b[0m\u001b[0mFunctionGraph\u001b[0m\u001b[0;34m(\u001b[0m\u001b[0minputs\u001b[0m\u001b[0;34m,\u001b[0m \u001b[0moutputs\u001b[0m\u001b[0;34m)\u001b[0m\u001b[0;34m\u001b[0m\u001b[0m\n\u001b[0m\u001b[1;32m    134\u001b[0m \u001b[0;34m\u001b[0m\u001b[0m\n\u001b[1;32m    135\u001b[0m     \u001b[0;32mfor\u001b[0m \u001b[0mnode\u001b[0m \u001b[0;32min\u001b[0m \u001b[0mfgraph\u001b[0m\u001b[0;34m.\u001b[0m\u001b[0mapply_nodes\u001b[0m\u001b[0;34m:\u001b[0m\u001b[0;34m\u001b[0m\u001b[0m\n",
        "\u001b[0;32m/usr/local/lib/python2.7/dist-packages/theano/gof/fg.pyc\u001b[0m in \u001b[0;36m__init__\u001b[0;34m(self, inputs, outputs, features)\u001b[0m\n\u001b[1;32m    104\u001b[0m             \u001b[0mself\u001b[0m\u001b[0;34m.\u001b[0m\u001b[0mvariables\u001b[0m\u001b[0;34m.\u001b[0m\u001b[0madd\u001b[0m\u001b[0;34m(\u001b[0m\u001b[0minput\u001b[0m\u001b[0;34m)\u001b[0m\u001b[0;34m\u001b[0m\u001b[0m\n\u001b[1;32m    105\u001b[0m \u001b[0;34m\u001b[0m\u001b[0m\n\u001b[0;32m--> 106\u001b[0;31m         \u001b[0mself\u001b[0m\u001b[0;34m.\u001b[0m\u001b[0m__import_r__\u001b[0m\u001b[0;34m(\u001b[0m\u001b[0moutputs\u001b[0m\u001b[0;34m)\u001b[0m\u001b[0;34m\u001b[0m\u001b[0m\n\u001b[0m\u001b[1;32m    107\u001b[0m         \u001b[0;32mfor\u001b[0m \u001b[0mi\u001b[0m\u001b[0;34m,\u001b[0m \u001b[0moutput\u001b[0m \u001b[0;32min\u001b[0m \u001b[0menumerate\u001b[0m\u001b[0;34m(\u001b[0m\u001b[0moutputs\u001b[0m\u001b[0;34m)\u001b[0m\u001b[0;34m:\u001b[0m\u001b[0;34m\u001b[0m\u001b[0m\n\u001b[1;32m    108\u001b[0m             \u001b[0moutput\u001b[0m\u001b[0;34m.\u001b[0m\u001b[0mclients\u001b[0m\u001b[0;34m.\u001b[0m\u001b[0mappend\u001b[0m\u001b[0;34m(\u001b[0m\u001b[0;34m(\u001b[0m\u001b[0;34m'output'\u001b[0m\u001b[0;34m,\u001b[0m \u001b[0mi\u001b[0m\u001b[0;34m)\u001b[0m\u001b[0;34m)\u001b[0m\u001b[0;34m\u001b[0m\u001b[0m\n",
        "\u001b[0;32m/usr/local/lib/python2.7/dist-packages/theano/gof/fg.pyc\u001b[0m in \u001b[0;36m__import_r__\u001b[0;34m(self, variables)\u001b[0m\n\u001b[1;32m    227\u001b[0m                 \u001b[0;32mif\u001b[0m \u001b[0misinstance\u001b[0m\u001b[0;34m(\u001b[0m\u001b[0mr\u001b[0m\u001b[0;34m.\u001b[0m\u001b[0mtype\u001b[0m\u001b[0;34m,\u001b[0m\u001b[0mNullType\u001b[0m\u001b[0;34m)\u001b[0m\u001b[0;34m:\u001b[0m\u001b[0;34m\u001b[0m\u001b[0m\n\u001b[1;32m    228\u001b[0m                     \u001b[0;32mraise\u001b[0m \u001b[0mTypeError\u001b[0m\u001b[0;34m(\u001b[0m\u001b[0;34m\"Computation graph contains a NaN. \"\u001b[0m\u001b[0;34m+\u001b[0m\u001b[0mr\u001b[0m\u001b[0;34m.\u001b[0m\u001b[0mtype\u001b[0m\u001b[0;34m.\u001b[0m\u001b[0mwhy_null\u001b[0m\u001b[0;34m)\u001b[0m\u001b[0;34m\u001b[0m\u001b[0m\n\u001b[0;32m--> 229\u001b[0;31m                 \u001b[0;32mraise\u001b[0m \u001b[0mMissingInputError\u001b[0m\u001b[0;34m(\u001b[0m\u001b[0;34m\"Undeclared input\"\u001b[0m\u001b[0;34m,\u001b[0m \u001b[0mr\u001b[0m\u001b[0;34m)\u001b[0m\u001b[0;34m\u001b[0m\u001b[0m\n\u001b[0m\u001b[1;32m    230\u001b[0m             \u001b[0;32mif\u001b[0m \u001b[0;32mnot\u001b[0m \u001b[0mgetattr\u001b[0m\u001b[0;34m(\u001b[0m\u001b[0mr\u001b[0m\u001b[0;34m,\u001b[0m \u001b[0;34m'fgraph'\u001b[0m\u001b[0;34m,\u001b[0m \u001b[0mNone\u001b[0m\u001b[0;34m)\u001b[0m \u001b[0;32mis\u001b[0m \u001b[0mself\u001b[0m\u001b[0;34m:\u001b[0m\u001b[0;34m\u001b[0m\u001b[0m\n\u001b[1;32m    231\u001b[0m                 \u001b[0mself\u001b[0m\u001b[0;34m.\u001b[0m\u001b[0m__setup_r__\u001b[0m\u001b[0;34m(\u001b[0m\u001b[0mr\u001b[0m\u001b[0;34m)\u001b[0m\u001b[0;34m\u001b[0m\u001b[0m\n",
        "\u001b[0;31mMissingInputError\u001b[0m: ('Undeclared input', x)"
       ]
      },
      {
       "output_type": "stream",
       "stream": "stdout",
       "text": [
        "<class 'theano.tensor.basic.TensorVariable'> TensorType(float64, matrix) x\n",
        "<type 'numpy.ndarray'>\n",
        "[[  10.   40.]\n",
        " [  90.  160.]]\n",
        "<type 'numpy.ndarray'>\n",
        "[[  10.   40.]\n",
        " [  90.  160.]]\n"
       ]
      }
     ],
     "prompt_number": 41
    },
    {
     "cell_type": "markdown",
     "metadata": {},
     "source": [
      "***Theano symbol typing system*** \n",
      "\n",
      "- **byte**: bscalar, bvector, bmatrix, brow, bcol, btensor3, btensor4\n",
      "- **16-bit integers**: wscalar, wvector, wmatrix, wrow, wcol, wtensor3, wtensor4\n",
      "- **32-bit integers**: iscalar, ivector, imatrix, irow, icol, itensor3, itensor4\n",
      "- **64-bit integers**: lscalar, lvector, lmatrix, lrow, lcol, ltensor3, ltensor4\n",
      "- **float**: fscalar, fvector, fmatrix, frow, fcol, ftensor3, ftensor4\n",
      "- **double**: dscalar, dvector, dmatrix, drow, dcol, dtensor3, dtensor4\n",
      "- **complex**: cscalar, cvector, cmatrix, crow, ccol, ctensor3, ctensor4\n",
      "\n",
      "**system: scalar, vector, matrix, row, col, tensor3, tensor4**\n",
      "\n",
      "they can be created using the specific type-specific factory methods, or just using the *common* factory methods, \n",
      "such as tensor.scalar(name, dtype=config.floatX)"
     ]
    },
    {
     "cell_type": "code",
     "collapsed": false,
     "input": [
      "## shared TensorVariable\n",
      "## Shared TensorVariables are usually used to convert existing python objects to symbol variables\n",
      "## it is more like another type of beast, which is why shared is now in theano pkg directly\n",
      "## instead of in theano.tensor\n",
      "x = shared(np.random.randn(3, 4))\n",
      "print type(x), pp(x), x.type\n",
      "print x.value\n",
      "print T.shape(x)\n",
      "## use eval to get the value in the shared variable\n",
      "print x.eval()\n",
      "## the created variable is a TensorSharedVariable whose .value is a np array in this case\n",
      "## the dtype of x is inferred from the ndarray"
     ],
     "language": "python",
     "metadata": {},
     "outputs": [
      {
       "output_type": "stream",
       "stream": "stdout",
       "text": [
        "<class 'theano.tensor.sharedvar.TensorSharedVariable'> <TensorType(float64, matrix)> TensorType(float64, matrix)\n",
        "(<property object at 0x3c22e10>,)\n",
        "Shape.0\n",
        "[[-0.83847609 -0.19164663  0.40880658 -0.28274562]\n",
        " [ 0.88732707  0.05855173  1.76264515 -1.0256925 ]\n",
        " [ 0.52073389  1.05226875  0.99763288 -0.72579095]]\n"
       ]
      }
     ],
     "prompt_number": 40
    },
    {
     "cell_type": "markdown",
     "metadata": {},
     "source": [
      "*The argument to shared variable will NOT be copied, and subsequent changes will be reflected in X.value*\n",
      "\n",
      "*On the other hande, theano makes a copy of any ndarray that you use in an expression, so subsequent changes to that ndarray will not have any effect on the theano expression*"
     ]
    },
    {
     "cell_type": "markdown",
     "metadata": {},
     "source": [
      "***Types of TensorVariables***\n",
      "\n",
      "- *TensorVariable*: The result of symbolic operations typically have this type.\n",
      "- *TensorConstant*: *Python and numpy numbers* are wrapped in this type.\n",
      "- *TensorSharedVariable*: This type is returned by shared() when the value to share is a *numpy ndarray*."
     ]
    },
    {
     "cell_type": "markdown",
     "metadata": {},
     "source": [
      "***TensorVariable Operation***\n",
      "\n",
      "Tensor pacakage has different types of operators, which can be used to combine different types of variables to create new tensor variables, such as \n",
      "\n",
      "- tensor.reshape, tensor.shape\n",
      "- tensor.flatten\n",
      "- tensor.zeros_like\n",
      "- tensor.stack\n",
      "- tensor.concatenate\n",
      "- tensor.sum\n",
      "- other operators such as indexing, #TODO"
     ]
    },
    {
     "cell_type": "code",
     "collapsed": false,
     "input": [],
     "language": "python",
     "metadata": {},
     "outputs": []
    }
   ],
   "metadata": {}
  }
 ]
}