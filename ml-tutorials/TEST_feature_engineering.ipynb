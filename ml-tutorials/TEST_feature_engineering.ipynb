{
 "metadata": {
  "name": "TEST_feature_engineering"
 },
 "nbformat": 3,
 "nbformat_minor": 0,
 "worksheets": [
  {
   "cells": [
    {
     "cell_type": "code",
     "collapsed": false,
     "input": [
      "import features\n",
      "import numpy as np"
     ],
     "language": "python",
     "metadata": {},
     "outputs": [],
     "prompt_number": 1
    },
    {
     "cell_type": "code",
     "collapsed": false,
     "input": [
      "from IPython.parallel import Client\n",
      "client = Client()\n",
      "print len(client)"
     ],
     "language": "python",
     "metadata": {},
     "outputs": [
      {
       "output_type": "stream",
       "stream": "stdout",
       "text": [
        "24\n"
       ]
      }
     ],
     "prompt_number": 2
    },
    {
     "cell_type": "code",
     "collapsed": false,
     "input": [
      "## load some data\n",
      "import cPickle\n",
      "X, y = cPickle.load(open('data/blackbox.pkl', 'rb'))\n",
      "print X.shape, y.shape"
     ],
     "language": "python",
     "metadata": {},
     "outputs": [
      {
       "output_type": "stream",
       "stream": "stdout",
       "text": [
        "(1000, 1875) (1000,)\n"
       ]
      }
     ],
     "prompt_number": 3
    },
    {
     "cell_type": "code",
     "collapsed": false,
     "input": [
      "## TEST patch on 2D data\n",
      "reload(features)\n",
      "## 2-D patch\n",
      "subX = features.patch(X, None, [0])\n",
      "assert subX.shape == (1000, 1) \n",
      "for i in xrange(1000):\n",
      "    assert subX[i, 0] == X[i, 0]\n",
      "## 2-D patch\n",
      "subX = features.patch(X, [0, 1, 2], [100, 200])\n",
      "assert subX.shape == (3, 2)\n",
      "for isub, i in enumerate([0, 1, 2]):\n",
      "    for jsub, j in enumerate([100, 200]):\n",
      "        assert subX[isub, jsub] == X[i, j]\n",
      "## 1-D row patch\n",
      "subX = features.patch(X, [100], [100, 200, 300, 400])\n",
      "assert subX.shape == (1, 4)\n",
      "for (isub, i) in enumerate([100, 200, 300, 400]):\n",
      "    assert subX[0, isub] == X[100, i]\n",
      "## 1-D col patch\n",
      "subX = features.patch(X, [100, 200, 300, 400], [500])\n",
      "assert subX.shape == (4, 1)\n",
      "for (isub, i) in enumerate([100, 200, 300, 400]):\n",
      "    assert subX[isub, 0] == X[i, 500]\n",
      "## whole array\n",
      "subX = features.patch(X, None, None)\n",
      "assert subX.shape == X.shape\n",
      "assert np.all(subX == X)\n",
      "print 'all tests passed ...'"
     ],
     "language": "python",
     "metadata": {},
     "outputs": [
      {
       "output_type": "stream",
       "stream": "stdout",
       "text": [
        "all tests passed ...\n"
       ]
      }
     ],
     "prompt_number": 4
    },
    {
     "cell_type": "code",
     "collapsed": false,
     "input": [
      "## TEST patch on 1D data\n",
      "reload(features)\n",
      "## test whole patch\n",
      "suby = features.patch(y, None)\n",
      "assert suby.shape == y.shape\n",
      "assert np.all(suby == y)\n",
      "## test several elements\n",
      "suby = features.patch(y, [0, 1, 2, 100])\n",
      "assert suby.shape == (4, )\n",
      "for isub, i in enumerate([0, 1, 2, 100]):\n",
      "    assert suby[isub] == y[i]\n",
      "print 'all tests passed ...'"
     ],
     "language": "python",
     "metadata": {},
     "outputs": [
      {
       "output_type": "stream",
       "stream": "stdout",
       "text": [
        "all tests passed ...\n"
       ]
      }
     ],
     "prompt_number": 5
    },
    {
     "cell_type": "code",
     "collapsed": false,
     "input": [
      "## test stride_seqs\n",
      "reload(features)\n",
      "seq = [1, 3, 100, 200, 300, 400, 500, 600]\n",
      "assert features.strided_seqs(seq, stride=2, subsize=3) == [[1, 3, 100], [100, 200, 300], [300, 400, 500], [500, 600, 1]]\n",
      "assert features.strided_seqs(seq, stride=1, subsize=2) == [[1, 3], [3, 100], [100, 200], [200, 300], [300, 400], [400, 500], [500, 600], [600, 1]]\n",
      "print 'all tests passed ... '"
     ],
     "language": "python",
     "metadata": {},
     "outputs": [
      {
       "output_type": "stream",
       "stream": "stdout",
       "text": [
        "all tests passed ... \n"
       ]
      }
     ],
     "prompt_number": 6
    },
    {
     "cell_type": "code",
     "collapsed": false,
     "input": [
      "## test bootstrap_seqs\n",
      "reload(features)\n",
      "seq = [1, 3, 100, 200, 300, 400, 500, 600]\n",
      "print features.bootstrap_seqs(seq, n_iter = 3, subsize = 5)"
     ],
     "language": "python",
     "metadata": {},
     "outputs": [
      {
       "output_type": "stream",
       "stream": "stdout",
       "text": [
        "[array([  3, 200, 500, 500, 200]), array([400, 100,   3, 300, 400]), array([500, 400, 600, 600, 600])]\n"
       ]
      }
     ],
     "prompt_number": 7
    },
    {
     "cell_type": "code",
     "collapsed": false,
     "input": [
      "## test tri-kmeans feature extraction\n",
      "reload(features)\n",
      "feat_patches = features.bootstrap_seqs(range(X.shape[0]), n_iter = 100, subsize = 10)\n",
      "print len(feat_patches)"
     ],
     "language": "python",
     "metadata": {},
     "outputs": [
      {
       "output_type": "stream",
       "stream": "stdout",
       "text": [
        "100\n"
       ]
      }
     ],
     "prompt_number": 8
    },
    {
     "cell_type": "code",
     "collapsed": false,
     "input": [
      "tri_kmeans = features.TriKmeansFeatures(n_clusters = 20, \n",
      "                                    feat_patches = feat_patches, \n",
      "                                    client = client)\n",
      "tri_kmeans.fit(X)"
     ],
     "language": "python",
     "metadata": {},
     "outputs": [
      {
       "output_type": "stream",
       "stream": "stdout",
       "text": [
        "  24/24 tasks finished after    2 s"
       ]
      },
      {
       "output_type": "stream",
       "stream": "stdout",
       "text": [
        "\n",
        "done\n"
       ]
      },
      {
       "output_type": "pyout",
       "prompt_number": 9,
       "text": [
        "TriKmeansFeatures(algo_name='KMeans', cache_dir='/tmp',\n",
        "         client=<IPython.parallel.client.client.Client object at 0x33c8a50>,\n",
        "         feat_patches=[array([231, 306, 306, 672, 971, 553,  27, 706,  27, 298]), array([419, 419,  89, 738, 768, 347, 507, 759, 419, 419]), array([554, 753, 487, 214, 782, 908, 908,  45, 908, 554]), array([592, 464, 543, 720, 543, 641, 543, 592, 592, 641]), array([779, 953, 541, 411, 546, 821, 411, 821, 546...640, 968, 451, 968, 640, 451, 451, 611]), array([344, 728, 964, 178, 178, 344, 732,  26, 521, 371])],\n",
        "         n_clusters=20, random_state=0, sparse_result=True)"
       ]
      }
     ],
     "prompt_number": 9
    },
    {
     "cell_type": "code",
     "collapsed": false,
     "input": [
      "print len(tri_kmeans.feat_to_kmeans_)"
     ],
     "language": "python",
     "metadata": {},
     "outputs": [
      {
       "output_type": "stream",
       "stream": "stdout",
       "text": [
        "100\n"
       ]
      }
     ],
     "prompt_number": 10
    },
    {
     "cell_type": "code",
     "collapsed": false,
     "input": [
      "tri_feats = tri_kmeans.transform(X)\n",
      "print tri_feats.shape"
     ],
     "language": "python",
     "metadata": {},
     "outputs": [
      {
       "output_type": "stream",
       "stream": "stdout",
       "text": [
        "(1000, 2000)\n"
       ]
      }
     ],
     "prompt_number": 11
    },
    {
     "cell_type": "code",
     "collapsed": false,
     "input": [
      "## test tri-kmeans feature extraction\n",
      "reload(features)\n",
      "feat_patches = features.bootstrap_seqs(range(X.shape[1]), n_iter = 100, subsize = 10)\n",
      "tri_kmeans = features.TriKmeansFeatures(n_clusters = 10, \n",
      "                                        feat_patches = feat_patches, \n",
      "                                        client=client)\n",
      "tri_feats = tri_kmeans.fit_transform(X)\n",
      "print tri_feats.shape"
     ],
     "language": "python",
     "metadata": {},
     "outputs": [
      {
       "output_type": "stream",
       "stream": "stdout",
       "text": [
        "  24/24 tasks finished after    2 s"
       ]
      },
      {
       "output_type": "stream",
       "stream": "stdout",
       "text": [
        "\n",
        "done\n",
        "(1000, 1000)"
       ]
      },
      {
       "output_type": "stream",
       "stream": "stdout",
       "text": [
        "\n"
       ]
      }
     ],
     "prompt_number": 16
    },
    {
     "cell_type": "code",
     "collapsed": false,
     "input": [
      "## test patch on sparse matrix\n",
      "reload(features)\n",
      "from scipy import sparse\n",
      "print sparse.issparse(tri_feats)\n",
      "print type(tri_feats)\n",
      "r = features.patch(tri_feats, rows = [1, 2, 10], cols=[5, 6, 7])\n",
      "print r.shape\n",
      "print r"
     ],
     "language": "python",
     "metadata": {},
     "outputs": [
      {
       "output_type": "stream",
       "stream": "stdout",
       "text": [
        "True\n",
        "<class 'scipy.sparse.coo.coo_matrix'>\n",
        "(3, 3)\n",
        "[[ 0.2005319   0.07548249  0.        ]\n",
        " [ 0.          0.14359365  0.15580698]\n",
        " [ 0.          0.          0.54688784]]\n"
       ]
      }
     ],
     "prompt_number": 17
    },
    {
     "cell_type": "code",
     "collapsed": false,
     "input": [
      "a = np.asarray(tri_feats)\n",
      "print a.shape"
     ],
     "language": "python",
     "metadata": {},
     "outputs": [
      {
       "output_type": "stream",
       "stream": "stdout",
       "text": [
        "()\n"
       ]
      }
     ],
     "prompt_number": 18
    },
    {
     "cell_type": "code",
     "collapsed": false,
     "input": [
      "type(tri_feats.toarray())"
     ],
     "language": "python",
     "metadata": {},
     "outputs": [
      {
       "output_type": "pyout",
       "prompt_number": 19,
       "text": [
        "numpy.ndarray"
       ]
      }
     ],
     "prompt_number": 19
    },
    {
     "cell_type": "code",
     "collapsed": false,
     "input": [
      "## TEST kernel_approximation\n",
      "reload(features)\n",
      "feature_patches = features.bootstrap_seqs(range(X.shape[1]), n_iter = 100, subsize = 100)\n",
      "Xs = [features.patch(X, None, cols=feats) for feats in feat_patches]\n",
      "Ys = features.kernel_approximation(Xs, client, n_components = 100, kernel = 'rbf')\n",
      "assert len(Ys) == len(Xs)\n",
      "for y in Ys:\n",
      "    assert y.shape == (1000, 100)\n",
      "print 'all tests passed ...'"
     ],
     "language": "python",
     "metadata": {},
     "outputs": [
      {
       "output_type": "stream",
       "stream": "stdout",
       "text": [
        "all tests passed ...\n"
       ]
      }
     ],
     "prompt_number": 27
    },
    {
     "cell_type": "code",
     "collapsed": false,
     "input": [],
     "language": "python",
     "metadata": {},
     "outputs": []
    }
   ],
   "metadata": {}
  }
 ]
}