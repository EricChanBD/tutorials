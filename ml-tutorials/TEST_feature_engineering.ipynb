{
 "metadata": {
  "name": "TEST_feature_engineering"
 },
 "nbformat": 3,
 "nbformat_minor": 0,
 "worksheets": [
  {
   "cells": [
    {
     "cell_type": "code",
     "collapsed": false,
     "input": [
      "import features\n",
      "import numpy as np"
     ],
     "language": "python",
     "metadata": {},
     "outputs": [],
     "prompt_number": 32
    },
    {
     "cell_type": "code",
     "collapsed": false,
     "input": [
      "## load some data\n",
      "import cPickle\n",
      "X, y = cPickle.load(open('data/blackbox.pkl', 'rb'))\n",
      "print X.shape, y.shape"
     ],
     "language": "python",
     "metadata": {},
     "outputs": [
      {
       "output_type": "stream",
       "stream": "stdout",
       "text": [
        "(1000, 1875) (1000,)\n"
       ]
      }
     ],
     "prompt_number": 4
    },
    {
     "cell_type": "code",
     "collapsed": false,
     "input": [
      "## TEST patch on 2D data\n",
      "reload(features)\n",
      "## 2-D patch\n",
      "subX = features.patch(X, None, [0])\n",
      "assert subX.shape == (1000, 1) \n",
      "for i in xrange(1000):\n",
      "    assert subX[i, 0] == X[i, 0]\n",
      "## 2-D patch\n",
      "subX = features.patch(X, [0, 1, 2], [100, 200])\n",
      "assert subX.shape == (3, 2)\n",
      "for isub, i in enumerate([0, 1, 2]):\n",
      "    for jsub, j in enumerate([100, 200]):\n",
      "        assert subX[isub, jsub] == X[i, j]\n",
      "## 1-D row patch\n",
      "subX = features.patch(X, [100], [100, 200, 300, 400])\n",
      "assert subX.shape == (1, 4)\n",
      "for (isub, i) in enumerate([100, 200, 300, 400]):\n",
      "    assert subX[0, isub] == X[100, i]\n",
      "## 1-D col patch\n",
      "subX = features.patch(X, [100, 200, 300, 400], [500])\n",
      "assert subX.shape == (4, 1)\n",
      "for (isub, i) in enumerate([100, 200, 300, 400]):\n",
      "    assert subX[isub, 0] == X[i, 500]\n",
      "## whole array\n",
      "subX = features.patch(X, None, None)\n",
      "assert subX.shape == X.shape\n",
      "assert np.all(subX == X)\n",
      "print 'all tests passed ...'"
     ],
     "language": "python",
     "metadata": {},
     "outputs": [
      {
       "output_type": "stream",
       "stream": "stdout",
       "text": [
        "all tests passed ...\n"
       ]
      }
     ],
     "prompt_number": 33
    },
    {
     "cell_type": "code",
     "collapsed": false,
     "input": [
      "## TEST patch on 1D data\n",
      "reload(features)\n",
      "## test whole patch\n",
      "suby = features.patch(y, None)\n",
      "assert suby.shape == y.shape\n",
      "assert np.all(suby == y)\n",
      "## test several elements\n",
      "suby = features.patch(y, [0, 1, 2, 100])\n",
      "assert suby.shape == (4, )\n",
      "for isub, i in enumerate([0, 1, 2, 100]):\n",
      "    assert suby[isub] == y[i]\n",
      "print 'all tests passed ...'"
     ],
     "language": "python",
     "metadata": {},
     "outputs": [
      {
       "output_type": "stream",
       "stream": "stdout",
       "text": [
        "all tests passed ...\n"
       ]
      }
     ],
     "prompt_number": 42
    },
    {
     "cell_type": "code",
     "collapsed": false,
     "input": [],
     "language": "python",
     "metadata": {},
     "outputs": []
    }
   ],
   "metadata": {}
  }
 ]
}