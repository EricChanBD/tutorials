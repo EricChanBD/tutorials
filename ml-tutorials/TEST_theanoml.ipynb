{
 "metadata": {
  "name": "TEST_theanoml"
 },
 "nbformat": 3,
 "nbformat_minor": 0,
 "worksheets": [
  {
   "cells": [
    {
     "cell_type": "code",
     "collapsed": false,
     "input": [
      "import theanoml\n",
      "reload(theanoml)"
     ],
     "language": "python",
     "metadata": {},
     "outputs": [
      {
       "output_type": "pyout",
       "prompt_number": 5,
       "text": [
        "<module 'theanoml' from 'theanoml/__init__.pyc'>"
       ]
      }
     ],
     "prompt_number": 5
    },
    {
     "cell_type": "code",
     "collapsed": false,
     "input": [
      "import cPickle\n",
      "import numpy as np\n",
      "raw_X, raw_y = cPickle.load(open('data/digits.pkl', 'rb'))\n",
      "print raw_X.shape\n",
      "print raw_y.shape\n",
      "classes = np.unique(raw_y)\n",
      "#from sklearn.cross_validation import train_test_split\n",
      "#train_raw_X, validation_raw_X, train_raw_y, validation_raw_y = train_test_split(raw_X, raw_y, test_size = 0.2)"
     ],
     "language": "python",
     "metadata": {},
     "outputs": [
      {
       "output_type": "stream",
       "stream": "stdout",
       "text": [
        "(42000, 784)\n",
        "(42000,)\n"
       ]
      }
     ],
     "prompt_number": 6
    },
    {
     "cell_type": "code",
     "collapsed": false,
     "input": [
      "reload(theanoml)\n",
      "model = theanoml.logistic_regression.LogisticRegression(classes)\n",
      "model.fit(raw_X, raw_y)"
     ],
     "language": "python",
     "metadata": {},
     "outputs": [],
     "prompt_number": 7
    },
    {
     "cell_type": "code",
     "collapsed": false,
     "input": [
      "reload(theanoml)\n",
      "model = theanoml.logistic_regression.LogisticRegression(classes)\n",
      "model.fit(raw_X, raw_y)\n",
      "print model.predict(raw_X)\n",
      "print model.predict_proba(raw_X)"
     ],
     "language": "python",
     "metadata": {},
     "outputs": [
      {
       "output_type": "stream",
       "stream": "stdout",
       "text": [
        "[0 0 0 ..., 0 0 0]\n",
        "[[ 0.1  0.1  0.1 ...,  0.1  0.1  0.1]\n",
        " [ 0.1  0.1  0.1 ...,  0.1  0.1  0.1]\n",
        " [ 0.1  0.1  0.1 ...,  0.1  0.1  0.1]\n",
        " ..., \n",
        " [ 0.1  0.1  0.1 ...,  0.1  0.1  0.1]\n",
        " [ 0.1  0.1  0.1 ...,  0.1  0.1  0.1]\n",
        " [ 0.1  0.1  0.1 ...,  0.1  0.1  0.1]]"
       ]
      },
      {
       "output_type": "stream",
       "stream": "stdout",
       "text": [
        "\n"
       ]
      }
     ],
     "prompt_number": 8
    },
    {
     "cell_type": "code",
     "collapsed": false,
     "input": [],
     "language": "python",
     "metadata": {},
     "outputs": []
    }
   ],
   "metadata": {}
  }
 ]
}