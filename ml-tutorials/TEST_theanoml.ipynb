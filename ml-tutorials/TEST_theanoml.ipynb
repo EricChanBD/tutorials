{
 "metadata": {
  "name": "TEST_theanoml"
 },
 "nbformat": 3,
 "nbformat_minor": 0,
 "worksheets": [
  {
   "cells": [
    {
     "cell_type": "code",
     "collapsed": false,
     "input": [
      "import theanoml\n",
      "reload(theanoml)"
     ],
     "language": "python",
     "metadata": {},
     "outputs": [
      {
       "output_type": "pyout",
       "prompt_number": 1,
       "text": [
        "<module 'theanoml' from 'theanoml/__init__.pyc'>"
       ]
      }
     ],
     "prompt_number": 1
    },
    {
     "cell_type": "code",
     "collapsed": false,
     "input": [
      "import cPickle\n",
      "import numpy as np\n",
      "raw_X, raw_y = cPickle.load(open('data/digits.pkl', 'rb'))\n",
      "print raw_X.shape\n",
      "print raw_y.shape\n",
      "classes = np.unique(raw_y)\n",
      "#from sklearn.cross_validation import train_test_split\n",
      "#train_raw_X, validation_raw_X, train_raw_y, validation_raw_y = train_test_split(raw_X, raw_y, test_size = 0.2)"
     ],
     "language": "python",
     "metadata": {},
     "outputs": [
      {
       "output_type": "stream",
       "stream": "stdout",
       "text": [
        "(42000, 784)\n",
        "(42000,)\n"
       ]
      }
     ],
     "prompt_number": 2
    },
    {
     "cell_type": "code",
     "collapsed": false,
     "input": [
      "reload(theanoml.logistic_regression)\n",
      "model = theanoml.logistic_regression.LogisticRegression(classes)\n",
      "model.fit(raw_X, raw_y)"
     ],
     "language": "python",
     "metadata": {},
     "outputs": [
      {
       "output_type": "stream",
       "stream": "stdout",
       "text": [
        "epoch 1, minibatch 56/56, validation error 19.154762 %\n",
        "epoch 2, minibatch 56/56, validation error 22.261905 %"
       ]
      },
      {
       "output_type": "stream",
       "stream": "stdout",
       "text": [
        "\n",
        "epoch 3, minibatch 56/56, validation error 12.809524 %"
       ]
      },
      {
       "output_type": "stream",
       "stream": "stdout",
       "text": [
        "\n",
        "epoch 4, minibatch 56/56, validation error 18.130952 %"
       ]
      },
      {
       "output_type": "stream",
       "stream": "stdout",
       "text": [
        "\n",
        "epoch 5, minibatch 56/56, validation error 13.107143 %"
       ]
      },
      {
       "output_type": "stream",
       "stream": "stdout",
       "text": [
        "\n",
        "epoch 6, minibatch 56/56, validation error 12.928571 %"
       ]
      },
      {
       "output_type": "stream",
       "stream": "stdout",
       "text": [
        "\n",
        "epoch 7, minibatch 56/56, validation error 9.785714 %"
       ]
      },
      {
       "output_type": "stream",
       "stream": "stdout",
       "text": [
        "\n",
        "epoch 8, minibatch 56/56, validation error 14.369048 %"
       ]
      },
      {
       "output_type": "stream",
       "stream": "stdout",
       "text": [
        "\n",
        "epoch 9, minibatch 56/56, validation error 10.488095 %"
       ]
      },
      {
       "output_type": "stream",
       "stream": "stdout",
       "text": [
        "\n",
        "epoch 10, minibatch 56/56, validation error 23.226190 %"
       ]
      },
      {
       "output_type": "stream",
       "stream": "stdout",
       "text": [
        "\n",
        "epoch 11, minibatch 56/56, validation error 10.178571 %"
       ]
      },
      {
       "output_type": "stream",
       "stream": "stdout",
       "text": [
        "\n",
        "epoch 12, minibatch 56/56, validation error 9.250000 %"
       ]
      },
      {
       "output_type": "stream",
       "stream": "stdout",
       "text": [
        "\n",
        "epoch 13, minibatch 56/56, validation error 11.309524 %"
       ]
      },
      {
       "output_type": "stream",
       "stream": "stdout",
       "text": [
        "\n",
        "epoch 14, minibatch 56/56, validation error 9.214286 %"
       ]
      },
      {
       "output_type": "stream",
       "stream": "stdout",
       "text": [
        "\n",
        "epoch 15, minibatch 56/56, validation error 9.619048 %"
       ]
      },
      {
       "output_type": "stream",
       "stream": "stdout",
       "text": [
        "\n",
        "epoch 16, minibatch 56/56, validation error 17.869048 %"
       ]
      },
      {
       "output_type": "stream",
       "stream": "stdout",
       "text": [
        "\n",
        "epoch 17, minibatch 56/56, validation error 15.309524 %"
       ]
      },
      {
       "output_type": "stream",
       "stream": "stdout",
       "text": [
        "\n",
        "epoch 18, minibatch 56/56, validation error 14.035714 %"
       ]
      },
      {
       "output_type": "stream",
       "stream": "stdout",
       "text": [
        "\n",
        "epoch 19, minibatch 56/56, validation error 11.916667 %"
       ]
      },
      {
       "output_type": "stream",
       "stream": "stdout",
       "text": [
        "\n",
        "epoch 20, minibatch 56/56, validation error 10.071429 %"
       ]
      },
      {
       "output_type": "stream",
       "stream": "stdout",
       "text": [
        "\n",
        "epoch 21, minibatch 56/56, validation error 11.166667 %"
       ]
      },
      {
       "output_type": "stream",
       "stream": "stdout",
       "text": [
        "\n",
        "epoch 22, minibatch 56/56, validation error 17.154762 %"
       ]
      },
      {
       "output_type": "stream",
       "stream": "stdout",
       "text": [
        "\n",
        "epoch 23, minibatch 56/56, validation error 10.666667 %"
       ]
      },
      {
       "output_type": "stream",
       "stream": "stdout",
       "text": [
        "\n",
        "epoch 24, minibatch 56/56, validation error 11.380952 %"
       ]
      },
      {
       "output_type": "stream",
       "stream": "stdout",
       "text": [
        "\n",
        "epoch 25, minibatch 56/56, validation error 10.238095 %"
       ]
      },
      {
       "output_type": "stream",
       "stream": "stdout",
       "text": [
        "\n",
        "epoch 26, minibatch 56/56, validation error 9.702381 %"
       ]
      },
      {
       "output_type": "stream",
       "stream": "stdout",
       "text": [
        "\n",
        "epoch 27, minibatch 56/56, validation error 15.630952 %"
       ]
      },
      {
       "output_type": "stream",
       "stream": "stdout",
       "text": [
        "\n",
        "epoch 28, minibatch 56/56, validation error 14.238095 %"
       ]
      },
      {
       "output_type": "stream",
       "stream": "stdout",
       "text": [
        "\n",
        "epoch 29, minibatch 56/56, validation error 11.797619 %"
       ]
      },
      {
       "output_type": "stream",
       "stream": "stdout",
       "text": [
        "\n",
        "epoch 30, minibatch 56/56, validation error 9.416667 %"
       ]
      },
      {
       "output_type": "stream",
       "stream": "stdout",
       "text": [
        "\n",
        "epoch 31, minibatch 56/56, validation error 11.821429 %"
       ]
      },
      {
       "output_type": "stream",
       "stream": "stdout",
       "text": [
        "\n",
        "epoch 32, minibatch 56/56, validation error 11.238095 %"
       ]
      },
      {
       "output_type": "stream",
       "stream": "stdout",
       "text": [
        "\n",
        "epoch 33, minibatch 56/56, validation error 11.202381 %"
       ]
      },
      {
       "output_type": "stream",
       "stream": "stdout",
       "text": [
        "\n",
        "epoch 34, minibatch 56/56, validation error 18.202381 %"
       ]
      },
      {
       "output_type": "stream",
       "stream": "stdout",
       "text": [
        "\n",
        "epoch 35, minibatch 56/56, validation error 11.702381 %"
       ]
      },
      {
       "output_type": "stream",
       "stream": "stdout",
       "text": [
        "\n",
        "epoch 36, minibatch 56/56, validation error 16.916667 %"
       ]
      },
      {
       "output_type": "stream",
       "stream": "stdout",
       "text": [
        "\n",
        "epoch 37, minibatch 56/56, validation error 9.488095 %"
       ]
      },
      {
       "output_type": "stream",
       "stream": "stdout",
       "text": [
        "\n",
        "epoch 38, minibatch 56/56, validation error 9.380952 %"
       ]
      },
      {
       "output_type": "stream",
       "stream": "stdout",
       "text": [
        "\n",
        "epoch 39, minibatch 56/56, validation error 9.214286 %"
       ]
      },
      {
       "output_type": "stream",
       "stream": "stdout",
       "text": [
        "\n",
        "epoch 40, minibatch 56/56, validation error 10.261905 %"
       ]
      },
      {
       "output_type": "stream",
       "stream": "stdout",
       "text": [
        "\n",
        "epoch 41, minibatch 56/56, validation error 13.511905 %"
       ]
      },
      {
       "output_type": "stream",
       "stream": "stdout",
       "text": [
        "\n",
        "epoch 42, minibatch 56/56, validation error 11.523810 %"
       ]
      },
      {
       "output_type": "stream",
       "stream": "stdout",
       "text": [
        "\n",
        "epoch 43, minibatch 56/56, validation error 15.261905 %"
       ]
      },
      {
       "output_type": "stream",
       "stream": "stdout",
       "text": [
        "\n",
        "epoch 44, minibatch 56/56, validation error 13.250000 %"
       ]
      },
      {
       "output_type": "stream",
       "stream": "stdout",
       "text": [
        "\n",
        "epoch 45, minibatch 56/56, validation error 10.464286 %"
       ]
      },
      {
       "output_type": "stream",
       "stream": "stdout",
       "text": [
        "\n",
        "epoch 46, minibatch 56/56, validation error 10.095238 %"
       ]
      },
      {
       "output_type": "stream",
       "stream": "stdout",
       "text": [
        "\n",
        "epoch 47, minibatch 56/56, validation error 9.821429 %"
       ]
      },
      {
       "output_type": "stream",
       "stream": "stdout",
       "text": [
        "\n",
        "epoch 48, minibatch 56/56, validation error 9.619048 %"
       ]
      },
      {
       "output_type": "stream",
       "stream": "stdout",
       "text": [
        "\n",
        "epoch 49, minibatch 56/56, validation error 11.476190 %"
       ]
      },
      {
       "output_type": "stream",
       "stream": "stdout",
       "text": [
        "\n",
        "epoch 50, minibatch 56/56, validation error 9.845238 %"
       ]
      },
      {
       "output_type": "stream",
       "stream": "stdout",
       "text": [
        "\n",
        "epoch 51, minibatch 56/56, validation error 11.059524 %"
       ]
      },
      {
       "output_type": "stream",
       "stream": "stdout",
       "text": [
        "\n",
        "epoch 52, minibatch 56/56, validation error 9.702381 %"
       ]
      },
      {
       "output_type": "stream",
       "stream": "stdout",
       "text": [
        "\n",
        "epoch 53, minibatch 56/56, validation error 12.000000 %"
       ]
      },
      {
       "output_type": "stream",
       "stream": "stdout",
       "text": [
        "\n",
        "epoch 54, minibatch 56/56, validation error 10.595238 %"
       ]
      },
      {
       "output_type": "stream",
       "stream": "stdout",
       "text": [
        "\n",
        "epoch 55, minibatch 56/56, validation error 14.511905 %"
       ]
      },
      {
       "output_type": "stream",
       "stream": "stdout",
       "text": [
        "\n",
        "epoch 56, minibatch 56/56, validation error 14.273810 %"
       ]
      },
      {
       "output_type": "stream",
       "stream": "stdout",
       "text": [
        "\n",
        "epoch 57, minibatch 56/56, validation error 14.250000 %"
       ]
      },
      {
       "output_type": "stream",
       "stream": "stdout",
       "text": [
        "\n",
        "epoch 58, minibatch 56/56, validation error 10.321429 %"
       ]
      },
      {
       "output_type": "stream",
       "stream": "stdout",
       "text": [
        "\n",
        "epoch 59, minibatch 56/56, validation error 10.678571 %"
       ]
      },
      {
       "output_type": "stream",
       "stream": "stdout",
       "text": [
        "\n",
        "epoch 60, minibatch 56/56, validation error 10.595238 %"
       ]
      },
      {
       "output_type": "stream",
       "stream": "stdout",
       "text": [
        "\n",
        "epoch 61, minibatch 56/56, validation error 9.857143 %"
       ]
      },
      {
       "output_type": "stream",
       "stream": "stdout",
       "text": [
        "\n",
        "epoch 62, minibatch 56/56, validation error 9.678571 %"
       ]
      },
      {
       "output_type": "stream",
       "stream": "stdout",
       "text": [
        "\n",
        "epoch 63, minibatch 56/56, validation error 9.642857 %"
       ]
      },
      {
       "output_type": "stream",
       "stream": "stdout",
       "text": [
        "\n",
        "epoch 64, minibatch 56/56, validation error 10.976190 %"
       ]
      },
      {
       "output_type": "stream",
       "stream": "stdout",
       "text": [
        "\n",
        "epoch 65, minibatch 56/56, validation error 9.964286 %"
       ]
      },
      {
       "output_type": "stream",
       "stream": "stdout",
       "text": [
        "\n",
        "epoch 66, minibatch 56/56, validation error 11.035714 %"
       ]
      },
      {
       "output_type": "stream",
       "stream": "stdout",
       "text": [
        "\n",
        "epoch 67, minibatch 56/56, validation error 9.797619 %"
       ]
      },
      {
       "output_type": "stream",
       "stream": "stdout",
       "text": [
        "\n",
        "epoch 68, minibatch 56/56, validation error 10.476190 %"
       ]
      },
      {
       "output_type": "stream",
       "stream": "stdout",
       "text": [
        "\n",
        "epoch 69, minibatch 56/56, validation error 21.250000 %"
       ]
      },
      {
       "output_type": "stream",
       "stream": "stdout",
       "text": [
        "\n",
        "epoch 70, minibatch 56/56, validation error 11.880952 %"
       ]
      },
      {
       "output_type": "stream",
       "stream": "stdout",
       "text": [
        "\n",
        "epoch 71, minibatch 56/56, validation error 10.880952 %"
       ]
      },
      {
       "output_type": "stream",
       "stream": "stdout",
       "text": [
        "\n",
        "epoch 72, minibatch 56/56, validation error 10.845238 %"
       ]
      },
      {
       "output_type": "stream",
       "stream": "stdout",
       "text": [
        "\n",
        "epoch 73, minibatch 56/56, validation error 9.547619 %"
       ]
      },
      {
       "output_type": "stream",
       "stream": "stdout",
       "text": [
        "\n",
        "epoch 74, minibatch 56/56, validation error 9.964286 %"
       ]
      },
      {
       "output_type": "stream",
       "stream": "stdout",
       "text": [
        "\n",
        "epoch 75, minibatch 56/56, validation error 17.261905 %"
       ]
      },
      {
       "output_type": "stream",
       "stream": "stdout",
       "text": [
        "\n",
        "epoch 76, minibatch 56/56, validation error 10.285714 %"
       ]
      },
      {
       "output_type": "stream",
       "stream": "stdout",
       "text": [
        "\n",
        "epoch 77, minibatch 56/56, validation error 12.202381 %"
       ]
      },
      {
       "output_type": "stream",
       "stream": "stdout",
       "text": [
        "\n",
        "epoch 78, minibatch 56/56, validation error 10.642857 %"
       ]
      },
      {
       "output_type": "stream",
       "stream": "stdout",
       "text": [
        "\n",
        "epoch 79, minibatch 56/56, validation error 9.547619 %"
       ]
      },
      {
       "output_type": "stream",
       "stream": "stdout",
       "text": [
        "\n",
        "epoch 80, minibatch 56/56, validation error 11.869048 %"
       ]
      },
      {
       "output_type": "stream",
       "stream": "stdout",
       "text": [
        "\n",
        "epoch 81, minibatch 56/56, validation error 15.059524 %"
       ]
      },
      {
       "output_type": "stream",
       "stream": "stdout",
       "text": [
        "\n",
        "epoch 82, minibatch 56/56, validation error 11.654762 %"
       ]
      },
      {
       "output_type": "stream",
       "stream": "stdout",
       "text": [
        "\n",
        "epoch 83, minibatch 56/56, validation error 9.273810 %"
       ]
      },
      {
       "output_type": "stream",
       "stream": "stdout",
       "text": [
        "\n",
        "epoch 84, minibatch 56/56, validation error 10.464286 %"
       ]
      },
      {
       "output_type": "stream",
       "stream": "stdout",
       "text": [
        "\n",
        "epoch 85, minibatch 56/56, validation error 20.488095 %"
       ]
      },
      {
       "output_type": "stream",
       "stream": "stdout",
       "text": [
        "\n",
        "epoch 86, minibatch 56/56, validation error 11.250000 %"
       ]
      },
      {
       "output_type": "stream",
       "stream": "stdout",
       "text": [
        "\n",
        "epoch 87, minibatch 56/56, validation error 12.773810 %"
       ]
      },
      {
       "output_type": "stream",
       "stream": "stdout",
       "text": [
        "\n",
        "epoch 88, minibatch 56/56, validation error 10.190476 %"
       ]
      },
      {
       "output_type": "stream",
       "stream": "stdout",
       "text": [
        "\n",
        "epoch 89, minibatch 56/56, validation error 12.857143 %"
       ]
      },
      {
       "output_type": "stream",
       "stream": "stdout",
       "text": [
        "\n",
        "Optimization complete with best validation score 9.214286 %"
       ]
      },
      {
       "output_type": "stream",
       "stream": "stdout",
       "text": [
        "\n"
       ]
      }
     ],
     "prompt_number": 7
    },
    {
     "cell_type": "code",
     "collapsed": false,
     "input": [
      "reload(theanoml.logistic_regression)\n",
      "model = theanoml.logistic_regression.LogisticRegression(classes, verbose = False)\n",
      "model.partial_fit(raw_X, raw_y)\n",
      "print '============classification rate on the whole dataset:', model.score(raw_X, raw_y)\n",
      "model.partial_fit(raw_X, raw_y)\n",
      "print '============classification rate on the whole dataset:', model.score(raw_X, raw_y)"
     ],
     "language": "python",
     "metadata": {},
     "outputs": [
      {
       "output_type": "stream",
       "stream": "stdout",
       "text": [
        "Training LogisticRegression modle with SGD ...\n",
        "============classification rate on the whole dataset:"
       ]
      },
      {
       "output_type": "stream",
       "stream": "stdout",
       "text": [
        " 0.0828333333333\n",
        "Training LogisticRegression modle with SGD ...\n",
        "============classification rate on the whole dataset:"
       ]
      },
      {
       "output_type": "stream",
       "stream": "stdout",
       "text": [
        " 0.0773095238095\n"
       ]
      }
     ],
     "prompt_number": 13
    },
    {
     "cell_type": "code",
     "collapsed": false,
     "input": [
      "## TEST Logistic REGRESSION with CG\n",
      "reload(theanoml.logistic_regression)\n",
      "model = theanoml.logistic_regression.LogisticRegression(classes, verbose=False, optimizer='cg')\n",
      "model.fit(raw_X, raw_y)\n",
      "print '============classification rate on the whole dataset:', model.score(raw_X, raw_y)\n",
      "model.partial_fit(raw_X, raw_y)\n",
      "print '============classification rate on the whole dataset:', model.score(raw_X, raw_y)"
     ],
     "language": "python",
     "metadata": {},
     "outputs": [
      {
       "output_type": "stream",
       "stream": "stdout",
       "text": [
        "Training LogisticRegression modle with CG ...\n",
        "============classification rate on the whole dataset:"
       ]
      },
      {
       "output_type": "stream",
       "stream": "stdout",
       "text": [
        " 0.0776904761905\n",
        "Training LogisticRegression modle with CG ...\n",
        "============classification rate on the whole dataset:"
       ]
      },
      {
       "output_type": "stream",
       "stream": "stdout",
       "text": [
        " 0.0742142857143\n"
       ]
      }
     ],
     "prompt_number": 14
    },
    {
     "cell_type": "code",
     "collapsed": false,
     "input": [
      "reload(theanoml.logistic_regression)\n",
      "model = theanoml.logistic_regression.LogisticRegression(classes, verbose = False)\n",
      "model.partial_fit(raw_X, raw_y)\n",
      "print '============classification rate on the whole dataset:', model.score(raw_X, raw_y)\n",
      "model.fit(raw_X, raw_y)\n",
      "print '============classification rate on the whole dataset:', model.score(raw_X, raw_y)"
     ],
     "language": "python",
     "metadata": {},
     "outputs": [
      {
       "output_type": "stream",
       "stream": "stdout",
       "text": [
        "============classification rate on the whole dataset: "
       ]
      },
      {
       "output_type": "stream",
       "stream": "stdout",
       "text": [
        "0.076\n",
        "============classification rate on the whole dataset:"
       ]
      },
      {
       "output_type": "stream",
       "stream": "stdout",
       "text": [
        " 0.147928571429\n"
       ]
      }
     ],
     "prompt_number": 9
    },
    {
     "cell_type": "code",
     "collapsed": false,
     "input": [
      "## TEST Logistic Regression on blackbox data\n",
      "raw_X, raw_y = cPickle.load(open('data/blackbox.pkl', 'rb'))\n",
      "print raw_X.shape, raw_y.shape\n",
      "## reencode y classes \n",
      "raw_y = raw_y -1\n",
      "classes = np.unique(raw_y)\n",
      "print classes\n",
      "reload(theanoml.logistic_regression)\n",
      "model = theanoml.logistic_regression.LogisticRegression(classes, verbose = True, batch_size=100)\n",
      "shared_X, shared_y = model._share_data(raw_X), model._share_data(raw_y, dtype='int32')\n",
      "print shared_X, shared_y\n",
      "model.fit(raw_X, raw_y)\n",
      "print 'classification error for blackbox data:', model.score(raw_X, raw_y)\n",
      "model.partial_fit(raw_X, raw_y)\n",
      "print 'classification error for blackbox data:', model.score(raw_X, raw_y)"
     ],
     "language": "python",
     "metadata": {},
     "outputs": [
      {
       "output_type": "stream",
       "stream": "stdout",
       "text": [
        "(1000, 1875) (1000,)\n",
        "[0 1 2 3 4 5 6 7 8]\n",
        "<TensorType(float64, matrix)> Elemwise{Cast{int32}}.0\n",
        "Training LogisticRegression modle with SGD ...\n",
        "epoch 1, minibatch 8/8, validation error 79.500000 %"
       ]
      },
      {
       "output_type": "stream",
       "stream": "stdout",
       "text": [
        "\n",
        "epoch 2, minibatch 8/8, validation error 82.000000 %\n",
        "epoch 3, minibatch 8/8, validation error 81.000000 %\n",
        "epoch 4, minibatch 8/8, validation error 80.500000 %"
       ]
      },
      {
       "output_type": "stream",
       "stream": "stdout",
       "text": [
        "\n",
        "epoch 5, minibatch 8/8, validation error 81.500000 %\n",
        "epoch 6, minibatch 8/8, validation error 81.500000 %\n",
        "epoch 7, minibatch 8/8, validation error 80.500000 %\n",
        "epoch 8, minibatch 8/8, validation error 80.000000 %"
       ]
      },
      {
       "output_type": "stream",
       "stream": "stdout",
       "text": [
        "\n",
        "epoch 9, minibatch 8/8, validation error 80.000000 %\n",
        "epoch 10, minibatch 8/8, validation error 79.500000 %\n",
        "epoch 11, minibatch 8/8, validation error 80.000000 %\n",
        "epoch 12, minibatch 8/8, validation error 79.500000 %"
       ]
      },
      {
       "output_type": "stream",
       "stream": "stdout",
       "text": [
        "\n",
        "epoch 13, minibatch 8/8, validation error 79.500000 %\n",
        "epoch 14, minibatch 8/8, validation error 81.000000 %\n",
        "epoch 15, minibatch 8/8, validation error 81.000000 %"
       ]
      },
      {
       "output_type": "stream",
       "stream": "stdout",
       "text": [
        "\n",
        "epoch 16, minibatch 8/8, validation error 80.000000 %\n",
        "epoch 17, minibatch 8/8, validation error 80.000000 %\n",
        "epoch 18, minibatch 8/8, validation error 79.500000 %\n",
        "epoch 19, minibatch 8/8, validation error 79.000000 %"
       ]
      },
      {
       "output_type": "stream",
       "stream": "stdout",
       "text": [
        "\n",
        "epoch 20, minibatch 8/8, validation error 79.000000 %\n",
        "epoch 21, minibatch 8/8, validation error 79.000000 %\n",
        "epoch 22, minibatch 8/8, validation error 79.500000 %"
       ]
      },
      {
       "output_type": "stream",
       "stream": "stdout",
       "text": [
        "\n",
        "epoch 23, minibatch 8/8, validation error 79.000000 %\n",
        "epoch 24, minibatch 8/8, validation error 78.000000 %\n",
        "epoch 25, minibatch 8/8, validation error 78.500000 %\n",
        "epoch 26, minibatch 8/8, validation error 78.500000 %"
       ]
      },
      {
       "output_type": "stream",
       "stream": "stdout",
       "text": [
        "\n",
        "epoch 27, minibatch 8/8, validation error 78.500000 %\n",
        "epoch 28, minibatch 8/8, validation error 78.000000 %\n",
        "epoch 29, minibatch 8/8, validation error 78.000000 %\n",
        "epoch 30, minibatch 8/8, validation error 78.000000 %"
       ]
      },
      {
       "output_type": "stream",
       "stream": "stdout",
       "text": [
        "\n",
        "epoch 31, minibatch 8/8, validation error 78.500000 %\n",
        "epoch 32, minibatch 8/8, validation error 78.500000 %\n",
        "epoch 33, minibatch 8/8, validation error 78.500000 %"
       ]
      },
      {
       "output_type": "stream",
       "stream": "stdout",
       "text": [
        "\n",
        "epoch 34, minibatch 8/8, validation error 78.500000 %\n",
        "epoch 35, minibatch 8/8, validation error 78.500000 %\n",
        "epoch 36, minibatch 8/8, validation error 78.500000 %\n",
        "epoch 37, minibatch 8/8, validation error 78.500000 %"
       ]
      },
      {
       "output_type": "stream",
       "stream": "stdout",
       "text": [
        "\n",
        "epoch 38, minibatch 8/8, validation error 78.500000 %\n",
        "epoch 39, minibatch 8/8, validation error 78.500000 %\n",
        "epoch 40, minibatch 8/8, validation error 79.000000 %"
       ]
      },
      {
       "output_type": "stream",
       "stream": "stdout",
       "text": [
        "\n",
        "epoch 41, minibatch 8/8, validation error 80.000000 %\n",
        "epoch 42, minibatch 8/8, validation error 80.000000 %\n",
        "epoch 43, minibatch 8/8, validation error 80.000000 %\n",
        "epoch 44, minibatch 8/8, validation error 80.500000 %"
       ]
      },
      {
       "output_type": "stream",
       "stream": "stdout",
       "text": [
        "\n",
        "epoch 45, minibatch 8/8, validation error 80.500000 %\n",
        "epoch 46, minibatch 8/8, validation error 80.500000 %\n",
        "epoch 47, minibatch 8/8, validation error 80.500000 %\n",
        "epoch 48, minibatch 8/8, validation error 80.500000 %"
       ]
      },
      {
       "output_type": "stream",
       "stream": "stdout",
       "text": [
        "\n",
        "epoch 49, minibatch 8/8, validation error 81.000000 %\n",
        "epoch 50, minibatch 8/8, validation error 81.000000 %\n",
        "epoch 51, minibatch 8/8, validation error 81.500000 %"
       ]
      },
      {
       "output_type": "stream",
       "stream": "stdout",
       "text": [
        "\n",
        "epoch 52, minibatch 8/8, validation error 80.500000 %\n",
        "epoch 53, minibatch 8/8, validation error 80.500000 %\n",
        "epoch 54, minibatch 8/8, validation error 80.500000 %\n",
        "epoch 55, minibatch 8/8, validation error 80.500000 %"
       ]
      },
      {
       "output_type": "stream",
       "stream": "stdout",
       "text": [
        "\n",
        "epoch 56, minibatch 8/8, validation error 80.500000 %\n",
        "epoch 57, minibatch 8/8, validation error 80.500000 %\n",
        "epoch 58, minibatch 8/8, validation error 80.500000 %"
       ]
      },
      {
       "output_type": "stream",
       "stream": "stdout",
       "text": [
        "\n",
        "epoch 59, minibatch 8/8, validation error 80.500000 %\n",
        "epoch 60, minibatch 8/8, validation error 80.500000 %\n",
        "epoch 61, minibatch 8/8, validation error 80.500000 %"
       ]
      },
      {
       "output_type": "stream",
       "stream": "stdout",
       "text": [
        "\n",
        "epoch 62, minibatch 8/8, validation error 80.500000 %\n",
        "epoch 63, minibatch 8/8, validation error 80.500000 %\n",
        "epoch 64, minibatch 8/8, validation error 80.500000 %"
       ]
      },
      {
       "output_type": "stream",
       "stream": "stdout",
       "text": [
        "\n",
        "epoch 65, minibatch 8/8, validation error 80.500000 %\n",
        "epoch 66, minibatch 8/8, validation error 80.500000 %\n",
        "epoch 67, minibatch 8/8, validation error 80.500000 %\n",
        "epoch 68, minibatch 8/8, validation error 80.500000 %"
       ]
      },
      {
       "output_type": "stream",
       "stream": "stdout",
       "text": [
        "\n",
        "epoch 69, minibatch 8/8, validation error 80.500000 %\n",
        "epoch 70, minibatch 8/8, validation error 80.000000 %\n",
        "epoch 71, minibatch 8/8, validation error 79.500000 %\n",
        "epoch 72, minibatch 8/8, validation error 79.500000 %"
       ]
      },
      {
       "output_type": "stream",
       "stream": "stdout",
       "text": [
        "\n",
        "epoch 73, minibatch 8/8, validation error 79.500000 %\n",
        "epoch 74, minibatch 8/8, validation error 79.500000 %\n",
        "epoch 75, minibatch 8/8, validation error 80.000000 %"
       ]
      },
      {
       "output_type": "stream",
       "stream": "stdout",
       "text": [
        "\n",
        "epoch 76, minibatch 8/8, validation error 80.000000 %\n",
        "epoch 77, minibatch 8/8, validation error 79.500000 %\n",
        "epoch 78, minibatch 8/8, validation error 79.500000 %\n",
        "epoch 79, minibatch 8/8, validation error 79.500000 %"
       ]
      },
      {
       "output_type": "stream",
       "stream": "stdout",
       "text": [
        "\n",
        "epoch 80, minibatch 8/8, validation error 79.000000 %\n",
        "epoch 81, minibatch 8/8, validation error 79.000000 %\n",
        "epoch 82, minibatch 8/8, validation error 79.000000 %"
       ]
      },
      {
       "output_type": "stream",
       "stream": "stdout",
       "text": [
        "\n",
        "epoch 83, minibatch 8/8, validation error 79.000000 %\n",
        "epoch 84, minibatch 8/8, validation error 79.000000 %\n",
        "epoch 85, minibatch 8/8, validation error 79.000000 %\n",
        "epoch 86, minibatch 8/8, validation error 79.000000 %"
       ]
      },
      {
       "output_type": "stream",
       "stream": "stdout",
       "text": [
        "\n",
        "epoch 87, minibatch 8/8, validation error 79.000000 %\n",
        "epoch 88, minibatch 8/8, validation error 79.000000 %\n",
        "epoch 89, minibatch 8/8, validation error 79.000000 %\n",
        "epoch 90, minibatch 8/8, validation error 79.000000 %"
       ]
      },
      {
       "output_type": "stream",
       "stream": "stdout",
       "text": [
        "\n",
        "epoch 91, minibatch 8/8, validation error 79.000000 %\n",
        "epoch 92, minibatch 8/8, validation error 79.000000 %\n",
        "epoch 93, minibatch 8/8, validation error 79.000000 %"
       ]
      },
      {
       "output_type": "stream",
       "stream": "stdout",
       "text": [
        "\n",
        "epoch 94, minibatch 8/8, validation error 78.500000 %\n",
        "epoch 95, minibatch 8/8, validation error 78.500000 %\n",
        "epoch 96, minibatch 8/8, validation error 78.500000 %\n",
        "epoch 97, minibatch 8/8, validation error 78.500000 %"
       ]
      },
      {
       "output_type": "stream",
       "stream": "stdout",
       "text": [
        "\n",
        "epoch 98, minibatch 8/8, validation error 78.500000 %\n",
        "epoch 99, minibatch 8/8, validation error 78.500000 %\n",
        "epoch 100, minibatch 8/8, validation error 78.500000 %"
       ]
      },
      {
       "output_type": "stream",
       "stream": "stdout",
       "text": [
        "\n",
        "epoch 101, minibatch 8/8, validation error 78.500000 %\n",
        "epoch 102, minibatch 8/8, validation error 78.500000 %\n",
        "epoch 103, minibatch 8/8, validation error 78.500000 %\n",
        "epoch 104, minibatch 8/8, validation error 78.500000 %"
       ]
      },
      {
       "output_type": "stream",
       "stream": "stdout",
       "text": [
        "\n",
        "epoch 105, minibatch 8/8, validation error 78.500000 %\n",
        "epoch 106, minibatch 8/8, validation error 78.500000 %\n",
        "epoch 107, minibatch 8/8, validation error 78.500000 %\n",
        "epoch 108, minibatch 8/8, validation error 78.500000 %"
       ]
      },
      {
       "output_type": "stream",
       "stream": "stdout",
       "text": [
        "\n",
        "epoch 109, minibatch 8/8, validation error 78.500000 %\n",
        "epoch 110, minibatch 8/8, validation error 78.000000 %\n",
        "epoch 111, minibatch 8/8, validation error 78.000000 %\n",
        "epoch 112, minibatch 8/8, validation error 78.000000 %"
       ]
      },
      {
       "output_type": "stream",
       "stream": "stdout",
       "text": [
        "\n",
        "epoch 113, minibatch 8/8, validation error 78.000000 %\n",
        "epoch 114, minibatch 8/8, validation error 78.000000 %\n",
        "epoch 115, minibatch 8/8, validation error 78.000000 %\n",
        "epoch 116, minibatch 8/8, validation error 78.000000 %"
       ]
      },
      {
       "output_type": "stream",
       "stream": "stdout",
       "text": [
        "\n",
        "epoch 117, minibatch 8/8, validation error 78.000000 %\n",
        "epoch 118, minibatch 8/8, validation error 78.000000 %\n",
        "epoch 119, minibatch 8/8, validation error 78.000000 %\n",
        "epoch 120, minibatch 8/8, validation error 78.000000 %"
       ]
      },
      {
       "output_type": "stream",
       "stream": "stdout",
       "text": [
        "\n",
        "epoch 121, minibatch 8/8, validation error 78.000000 %\n",
        "epoch 122, minibatch 8/8, validation error 78.000000 %\n",
        "epoch 123, minibatch 8/8, validation error 78.000000 %\n",
        "epoch 124, minibatch 8/8, validation error 78.000000 %"
       ]
      },
      {
       "output_type": "stream",
       "stream": "stdout",
       "text": [
        "\n",
        "epoch 125, minibatch 8/8, validation error 78.000000 %\n",
        "epoch 126, minibatch 8/8, validation error 78.000000 %\n",
        "epoch 127, minibatch 8/8, validation error 78.000000 %"
       ]
      },
      {
       "output_type": "stream",
       "stream": "stdout",
       "text": [
        "\n",
        "epoch 128, minibatch 8/8, validation error 78.000000 %\n",
        "epoch 129, minibatch 8/8, validation error 78.000000 %\n",
        "epoch 130, minibatch 8/8, validation error 78.000000 %\n",
        "epoch 131, minibatch 8/8, validation error 78.000000 %"
       ]
      },
      {
       "output_type": "stream",
       "stream": "stdout",
       "text": [
        "\n",
        "epoch 132, minibatch 8/8, validation error 78.000000 %\n",
        "epoch 133, minibatch 8/8, validation error 78.000000 %\n",
        "epoch 134, minibatch 8/8, validation error 78.000000 %\n",
        "epoch 135, minibatch 8/8, validation error 78.000000 %"
       ]
      },
      {
       "output_type": "stream",
       "stream": "stdout",
       "text": [
        "\n",
        "epoch 136, minibatch 8/8, validation error 78.000000 %\n",
        "epoch 137, minibatch 8/8, validation error 78.500000 %\n",
        "epoch 138, minibatch 8/8, validation error 78.500000 %\n",
        "epoch 139, minibatch 8/8, validation error 78.500000 %"
       ]
      },
      {
       "output_type": "stream",
       "stream": "stdout",
       "text": [
        "\n",
        "epoch 140, minibatch 8/8, validation error 78.500000 %\n",
        "epoch 141, minibatch 8/8, validation error 78.500000 %\n",
        "epoch 142, minibatch 8/8, validation error 78.500000 %\n",
        "epoch 143, minibatch 8/8, validation error 78.500000 %"
       ]
      },
      {
       "output_type": "stream",
       "stream": "stdout",
       "text": [
        "\n",
        "epoch 144, minibatch 8/8, validation error 79.000000 %\n",
        "epoch 145, minibatch 8/8, validation error 79.000000 %\n",
        "epoch 146, minibatch 8/8, validation error 79.000000 %\n",
        "epoch 147, minibatch 8/8, validation error 79.000000 %"
       ]
      },
      {
       "output_type": "stream",
       "stream": "stdout",
       "text": [
        "\n",
        "epoch 148, minibatch 8/8, validation error 79.000000 %\n",
        "epoch 149, minibatch 8/8, validation error 79.000000 %\n",
        "epoch 150, minibatch 8/8, validation error 79.000000 %\n",
        "epoch 151, minibatch 8/8, validation error 79.000000 %"
       ]
      },
      {
       "output_type": "stream",
       "stream": "stdout",
       "text": [
        "\n",
        "epoch 152, minibatch 8/8, validation error 79.000000 %\n",
        "epoch 153, minibatch 8/8, validation error 79.000000 %\n",
        "epoch 154, minibatch 8/8, validation error 79.000000 %\n",
        "epoch 155, minibatch 8/8, validation error 79.000000 %"
       ]
      },
      {
       "output_type": "stream",
       "stream": "stdout",
       "text": [
        "\n",
        "epoch 156, minibatch 8/8, validation error 79.000000 %\n",
        "epoch 157, minibatch 8/8, validation error 79.000000 %\n",
        "epoch 158, minibatch 8/8, validation error 79.000000 %\n",
        "epoch 159, minibatch 8/8, validation error 79.000000 %"
       ]
      },
      {
       "output_type": "stream",
       "stream": "stdout",
       "text": [
        "\n",
        "epoch 160, minibatch 8/8, validation error 79.000000 %\n",
        "epoch 161, minibatch 8/8, validation error 79.000000 %\n",
        "epoch 162, minibatch 8/8, validation error 79.500000 %\n",
        "epoch 163, minibatch 8/8, validation error 79.500000 %"
       ]
      },
      {
       "output_type": "stream",
       "stream": "stdout",
       "text": [
        "\n",
        "epoch 164, minibatch 8/8, validation error 79.500000 %\n",
        "epoch 165, minibatch 8/8, validation error 79.500000 %\n",
        "epoch 166, minibatch 8/8, validation error 79.500000 %\n",
        "epoch 167, minibatch 8/8, validation error 80.000000 %"
       ]
      },
      {
       "output_type": "stream",
       "stream": "stdout",
       "text": [
        "\n",
        "epoch 168, minibatch 8/8, validation error 80.000000 %\n",
        "epoch 169, minibatch 8/8, validation error 80.000000 %\n",
        "epoch 170, minibatch 8/8, validation error 80.000000 %\n",
        "epoch 171, minibatch 8/8, validation error 80.000000 %"
       ]
      },
      {
       "output_type": "stream",
       "stream": "stdout",
       "text": [
        "\n",
        "epoch 172, minibatch 8/8, validation error 80.000000 %\n",
        "epoch 173, minibatch 8/8, validation error 80.000000 %\n",
        "epoch 174, minibatch 8/8, validation error 80.000000 %\n",
        "epoch 175, minibatch 8/8, validation error 80.000000 %"
       ]
      },
      {
       "output_type": "stream",
       "stream": "stdout",
       "text": [
        "\n",
        "epoch 176, minibatch 8/8, validation error 80.000000 %\n",
        "epoch 177, minibatch 8/8, validation error 80.000000 %\n",
        "epoch 178, minibatch 8/8, validation error 80.000000 %\n",
        "epoch 179, minibatch 8/8, validation error 80.000000 %"
       ]
      },
      {
       "output_type": "stream",
       "stream": "stdout",
       "text": [
        "\n",
        "epoch 180, minibatch 8/8, validation error 80.000000 %\n",
        "epoch 181, minibatch 8/8, validation error 80.000000 %\n",
        "epoch 182, minibatch 8/8, validation error 80.000000 %\n",
        "epoch 183, minibatch 8/8, validation error 80.000000 %"
       ]
      },
      {
       "output_type": "stream",
       "stream": "stdout",
       "text": [
        "\n",
        "epoch 184, minibatch 8/8, validation error 80.000000 %\n",
        "epoch 185, minibatch 8/8, validation error 80.000000 %\n",
        "epoch 186, minibatch 8/8, validation error 80.000000 %\n",
        "epoch 187, minibatch 8/8, validation error 80.000000 %"
       ]
      },
      {
       "output_type": "stream",
       "stream": "stdout",
       "text": [
        "\n",
        "epoch 188, minibatch 8/8, validation error 80.000000 %\n",
        "epoch 189, minibatch 8/8, validation error 80.000000 %\n",
        "epoch 190, minibatch 8/8, validation error 80.000000 %\n",
        "epoch 191, minibatch 8/8, validation error 80.000000 %"
       ]
      },
      {
       "output_type": "stream",
       "stream": "stdout",
       "text": [
        "\n",
        "epoch 192, minibatch 8/8, validation error 80.000000 %\n",
        "epoch 193, minibatch 8/8, validation error 80.500000 %\n",
        "epoch 194, minibatch 8/8, validation error 80.500000 %\n",
        "epoch 195, minibatch 8/8, validation error 80.500000 %"
       ]
      },
      {
       "output_type": "stream",
       "stream": "stdout",
       "text": [
        "\n",
        "epoch 196, minibatch 8/8, validation error 80.500000 %\n",
        "epoch 197, minibatch 8/8, validation error 80.500000 %\n",
        "epoch 198, minibatch 8/8, validation error 80.500000 %\n",
        "epoch 199, minibatch 8/8, validation error 80.500000 %"
       ]
      },
      {
       "output_type": "stream",
       "stream": "stdout",
       "text": [
        "\n",
        "epoch 200, minibatch 8/8, validation error 80.500000 %\n",
        "epoch 201, minibatch 8/8, validation error 80.500000 %\n",
        "epoch 202, minibatch 8/8, validation error 80.500000 %\n",
        "epoch 203, minibatch 8/8, validation error 80.500000 %"
       ]
      },
      {
       "output_type": "stream",
       "stream": "stdout",
       "text": [
        "\n",
        "epoch 204, minibatch 8/8, validation error 81.000000 %\n",
        "epoch 205, minibatch 8/8, validation error 81.000000 %\n",
        "epoch 206, minibatch 8/8, validation error 81.000000 %\n",
        "epoch 207, minibatch 8/8, validation error 81.000000 %"
       ]
      },
      {
       "output_type": "stream",
       "stream": "stdout",
       "text": [
        "\n",
        "epoch 208, minibatch 8/8, validation error 81.000000 %\n",
        "epoch 209, minibatch 8/8, validation error 81.000000 %\n",
        "epoch 210, minibatch 8/8, validation error 81.000000 %\n",
        "epoch 211, minibatch 8/8, validation error 81.000000 %"
       ]
      },
      {
       "output_type": "stream",
       "stream": "stdout",
       "text": [
        "\n",
        "epoch 212, minibatch 8/8, validation error 81.000000 %\n",
        "epoch 213, minibatch 8/8, validation error 81.000000 %\n",
        "epoch 214, minibatch 8/8, validation error 81.000000 %\n",
        "epoch 215, minibatch 8/8, validation error 81.000000 %"
       ]
      },
      {
       "output_type": "stream",
       "stream": "stdout",
       "text": [
        "\n",
        "epoch 216, minibatch 8/8, validation error 81.000000 %\n",
        "epoch 217, minibatch 8/8, validation error 81.000000 %\n",
        "epoch 218, minibatch 8/8, validation error 81.000000 %\n",
        "epoch 219, minibatch 8/8, validation error 81.000000 %"
       ]
      },
      {
       "output_type": "stream",
       "stream": "stdout",
       "text": [
        "\n",
        "epoch 220, minibatch 8/8, validation error 81.000000 %\n",
        "epoch 221, minibatch 8/8, validation error 81.000000 %\n",
        "epoch 222, minibatch 8/8, validation error 81.000000 %\n",
        "epoch 223, minibatch 8/8, validation error 81.000000 %"
       ]
      },
      {
       "output_type": "stream",
       "stream": "stdout",
       "text": [
        "\n",
        "epoch 224, minibatch 8/8, validation error 81.000000 %\n",
        "epoch 225, minibatch 8/8, validation error 81.000000 %\n",
        "epoch 226, minibatch 8/8, validation error 81.000000 %\n",
        "epoch 227, minibatch 8/8, validation error 81.000000 %"
       ]
      },
      {
       "output_type": "stream",
       "stream": "stdout",
       "text": [
        "\n",
        "epoch 228, minibatch 8/8, validation error 81.000000 %\n",
        "epoch 229, minibatch 8/8, validation error 81.000000 %\n",
        "epoch 230, minibatch 8/8, validation error 81.000000 %\n",
        "epoch 231, minibatch 8/8, validation error 81.000000 %"
       ]
      },
      {
       "output_type": "stream",
       "stream": "stdout",
       "text": [
        "\n",
        "epoch 232, minibatch 8/8, validation error 81.000000 %\n",
        "epoch 233, minibatch 8/8, validation error 81.000000 %\n",
        "epoch 234, minibatch 8/8, validation error 81.000000 %\n",
        "epoch 235, minibatch 8/8, validation error 81.000000 %"
       ]
      },
      {
       "output_type": "stream",
       "stream": "stdout",
       "text": [
        "\n",
        "epoch 236, minibatch 8/8, validation error 81.000000 %\n",
        "epoch 237, minibatch 8/8, validation error 81.000000 %\n",
        "epoch 238, minibatch 8/8, validation error 81.000000 %\n",
        "epoch 239, minibatch 8/8, validation error 81.000000 %"
       ]
      },
      {
       "output_type": "stream",
       "stream": "stdout",
       "text": [
        "\n",
        "epoch 240, minibatch 8/8, validation error 81.000000 %\n",
        "epoch 241, minibatch 8/8, validation error 81.000000 %\n",
        "epoch 242, minibatch 8/8, validation error 81.000000 %\n",
        "epoch 243, minibatch 8/8, validation error 81.000000 %"
       ]
      },
      {
       "output_type": "stream",
       "stream": "stdout",
       "text": [
        "\n",
        "epoch 244, minibatch 8/8, validation error 81.500000 %\n",
        "epoch 245, minibatch 8/8, validation error 81.500000 %\n",
        "epoch 246, minibatch 8/8, validation error 81.500000 %\n",
        "epoch 247, minibatch 8/8, validation error 81.500000 %"
       ]
      },
      {
       "output_type": "stream",
       "stream": "stdout",
       "text": [
        "\n",
        "epoch 248, minibatch 8/8, validation error 81.500000 %\n",
        "epoch 249, minibatch 8/8, validation error 81.500000 %\n",
        "epoch 250, minibatch 8/8, validation error 81.500000 %\n",
        "epoch 251, minibatch 8/8, validation error 81.500000 %"
       ]
      },
      {
       "output_type": "stream",
       "stream": "stdout",
       "text": [
        "\n",
        "epoch 252, minibatch 8/8, validation error 82.000000 %\n",
        "epoch 253, minibatch 8/8, validation error 82.000000 %\n",
        "epoch 254, minibatch 8/8, validation error 82.000000 %\n",
        "epoch 255, minibatch 8/8, validation error 82.000000 %"
       ]
      },
      {
       "output_type": "stream",
       "stream": "stdout",
       "text": [
        "\n",
        "epoch 256, minibatch 8/8, validation error 82.000000 %\n",
        "epoch 257, minibatch 8/8, validation error 82.000000 %\n",
        "epoch 258, minibatch 8/8, validation error 82.000000 %\n",
        "epoch 259, minibatch 8/8, validation error 82.000000 %"
       ]
      },
      {
       "output_type": "stream",
       "stream": "stdout",
       "text": [
        "\n",
        "epoch 260, minibatch 8/8, validation error 82.000000 %\n",
        "epoch 261, minibatch 8/8, validation error 82.500000 %\n",
        "epoch 262, minibatch 8/8, validation error 82.500000 %\n",
        "epoch 263, minibatch 8/8, validation error 82.500000 %"
       ]
      },
      {
       "output_type": "stream",
       "stream": "stdout",
       "text": [
        "\n",
        "epoch 264, minibatch 8/8, validation error 82.500000 %\n",
        "epoch 265, minibatch 8/8, validation error 82.500000 %\n",
        "epoch 266, minibatch 8/8, validation error 82.500000 %\n",
        "epoch 267, minibatch 8/8, validation error 82.500000 %"
       ]
      },
      {
       "output_type": "stream",
       "stream": "stdout",
       "text": [
        "\n",
        "epoch 268, minibatch 8/8, validation error 82.500000 %\n",
        "epoch 269, minibatch 8/8, validation error 82.500000 %\n",
        "epoch 270, minibatch 8/8, validation error 82.500000 %\n",
        "epoch 271, minibatch 8/8, validation error 82.500000 %"
       ]
      },
      {
       "output_type": "stream",
       "stream": "stdout",
       "text": [
        "\n",
        "epoch 272, minibatch 8/8, validation error 82.500000 %\n",
        "epoch 273, minibatch 8/8, validation error 82.500000 %\n",
        "epoch 274, minibatch 8/8, validation error 82.500000 %\n",
        "epoch 275, minibatch 8/8, validation error 82.500000 %"
       ]
      },
      {
       "output_type": "stream",
       "stream": "stdout",
       "text": [
        "\n",
        "epoch 276, minibatch 8/8, validation error 82.500000 %\n",
        "epoch 277, minibatch 8/8, validation error 82.500000 %\n",
        "epoch 278, minibatch 8/8, validation error 82.500000 %\n",
        "epoch 279, minibatch 8/8, validation error 82.500000 %"
       ]
      },
      {
       "output_type": "stream",
       "stream": "stdout",
       "text": [
        "\n",
        "epoch 280, minibatch 8/8, validation error 82.500000 %\n",
        "epoch 281, minibatch 8/8, validation error 82.500000 %\n",
        "epoch 282, minibatch 8/8, validation error 83.000000 %\n",
        "epoch 283, minibatch 8/8, validation error 83.000000 %"
       ]
      },
      {
       "output_type": "stream",
       "stream": "stdout",
       "text": [
        "\n",
        "epoch 284, minibatch 8/8, validation error 83.000000 %\n",
        "epoch 285, minibatch 8/8, validation error 83.000000 %\n",
        "epoch 286, minibatch 8/8, validation error 83.000000 %\n",
        "epoch 287, minibatch 8/8, validation error 83.000000 %"
       ]
      },
      {
       "output_type": "stream",
       "stream": "stdout",
       "text": [
        "\n",
        "epoch 288, minibatch 8/8, validation error 83.000000 %\n",
        "epoch 289, minibatch 8/8, validation error 83.000000 %\n",
        "epoch 290, minibatch 8/8, validation error 83.000000 %\n",
        "epoch 291, minibatch 8/8, validation error 83.000000 %"
       ]
      },
      {
       "output_type": "stream",
       "stream": "stdout",
       "text": [
        "\n",
        "epoch 292, minibatch 8/8, validation error 83.000000 %\n",
        "epoch 293, minibatch 8/8, validation error 83.000000 %\n",
        "epoch 294, minibatch 8/8, validation error 83.000000 %\n",
        "epoch 295, minibatch 8/8, validation error 83.000000 %"
       ]
      },
      {
       "output_type": "stream",
       "stream": "stdout",
       "text": [
        "\n",
        "epoch 296, minibatch 8/8, validation error 83.000000 %\n",
        "epoch 297, minibatch 8/8, validation error 83.000000 %\n",
        "epoch 298, minibatch 8/8, validation error 83.000000 %\n",
        "epoch 299, minibatch 8/8, validation error 83.000000 %"
       ]
      },
      {
       "output_type": "stream",
       "stream": "stdout",
       "text": [
        "\n",
        "epoch 300, minibatch 8/8, validation error 83.000000 %\n",
        "epoch 301, minibatch 8/8, validation error 83.000000 %\n",
        "epoch 302, minibatch 8/8, validation error 83.000000 %\n",
        "epoch 303, minibatch 8/8, validation error 83.000000 %"
       ]
      },
      {
       "output_type": "stream",
       "stream": "stdout",
       "text": [
        "\n",
        "epoch 304, minibatch 8/8, validation error 83.000000 %\n",
        "epoch 305, minibatch 8/8, validation error 83.000000 %\n",
        "epoch 306, minibatch 8/8, validation error 83.000000 %\n",
        "epoch 307, minibatch 8/8, validation error 83.000000 %"
       ]
      },
      {
       "output_type": "stream",
       "stream": "stdout",
       "text": [
        "\n",
        "epoch 308, minibatch 8/8, validation error 83.000000 %\n",
        "epoch 309, minibatch 8/8, validation error 83.000000 %\n",
        "epoch 310, minibatch 8/8, validation error 83.000000 %\n",
        "epoch 311, minibatch 8/8, validation error 83.000000 %"
       ]
      },
      {
       "output_type": "stream",
       "stream": "stdout",
       "text": [
        "\n",
        "epoch 312, minibatch 8/8, validation error 83.000000 %\n",
        "epoch 313, minibatch 8/8, validation error 83.000000 %\n",
        "epoch 314, minibatch 8/8, validation error 83.000000 %\n",
        "epoch 315, minibatch 8/8, validation error 82.500000 %"
       ]
      },
      {
       "output_type": "stream",
       "stream": "stdout",
       "text": [
        "\n",
        "epoch 316, minibatch 8/8, validation error 82.500000 %\n",
        "epoch 317, minibatch 8/8, validation error 82.500000 %\n",
        "epoch 318, minibatch 8/8, validation error 82.500000 %\n",
        "epoch 319, minibatch 8/8, validation error 82.500000 %"
       ]
      },
      {
       "output_type": "stream",
       "stream": "stdout",
       "text": [
        "\n",
        "epoch 320, minibatch 8/8, validation error 82.500000 %\n",
        "epoch 321, minibatch 8/8, validation error 82.500000 %\n",
        "epoch 322, minibatch 8/8, validation error 82.500000 %\n",
        "epoch 323, minibatch 8/8, validation error 82.500000 %"
       ]
      },
      {
       "output_type": "stream",
       "stream": "stdout",
       "text": [
        "\n",
        "epoch 324, minibatch 8/8, validation error 82.500000 %\n",
        "epoch 325, minibatch 8/8, validation error 82.500000 %\n",
        "epoch 326, minibatch 8/8, validation error 82.500000 %\n",
        "epoch 327, minibatch 8/8, validation error 82.500000 %"
       ]
      },
      {
       "output_type": "stream",
       "stream": "stdout",
       "text": [
        "\n",
        "epoch 328, minibatch 8/8, validation error 82.500000 %\n",
        "epoch 329, minibatch 8/8, validation error 82.500000 %\n",
        "epoch 330, minibatch 8/8, validation error 82.500000 %\n",
        "epoch 331, minibatch 8/8, validation error 82.500000 %"
       ]
      },
      {
       "output_type": "stream",
       "stream": "stdout",
       "text": [
        "\n",
        "epoch 332, minibatch 8/8, validation error 82.500000 %\n",
        "epoch 333, minibatch 8/8, validation error 82.500000 %\n",
        "epoch 334, minibatch 8/8, validation error 82.500000 %\n",
        "epoch 335, minibatch 8/8, validation error 82.500000 %"
       ]
      },
      {
       "output_type": "stream",
       "stream": "stdout",
       "text": [
        "\n",
        "epoch 336, minibatch 8/8, validation error 82.500000 %\n",
        "epoch 337, minibatch 8/8, validation error 82.500000 %\n",
        "epoch 338, minibatch 8/8, validation error 82.500000 %\n",
        "epoch 339, minibatch 8/8, validation error 82.500000 %"
       ]
      },
      {
       "output_type": "stream",
       "stream": "stdout",
       "text": [
        "\n",
        "epoch 340, minibatch 8/8, validation error 82.500000 %\n",
        "epoch 341, minibatch 8/8, validation error 82.500000 %\n",
        "epoch 342, minibatch 8/8, validation error 82.500000 %\n",
        "epoch 343, minibatch 8/8, validation error 82.500000 %"
       ]
      },
      {
       "output_type": "stream",
       "stream": "stdout",
       "text": [
        "\n",
        "epoch 344, minibatch 8/8, validation error 82.500000 %\n",
        "epoch 345, minibatch 8/8, validation error 82.500000 %\n",
        "epoch 346, minibatch 8/8, validation error 82.500000 %\n",
        "epoch 347, minibatch 8/8, validation error 82.500000 %"
       ]
      },
      {
       "output_type": "stream",
       "stream": "stdout",
       "text": [
        "\n",
        "epoch 348, minibatch 8/8, validation error 82.500000 %\n",
        "epoch 349, minibatch 8/8, validation error 82.500000 %\n",
        "epoch 350, minibatch 8/8, validation error 82.500000 %\n",
        "epoch 351, minibatch 8/8, validation error 82.500000 %"
       ]
      },
      {
       "output_type": "stream",
       "stream": "stdout",
       "text": [
        "\n",
        "epoch 352, minibatch 8/8, validation error 82.500000 %\n",
        "epoch 353, minibatch 8/8, validation error 82.500000 %\n",
        "epoch 354, minibatch 8/8, validation error 82.500000 %\n",
        "epoch 355, minibatch 8/8, validation error 82.500000 %"
       ]
      },
      {
       "output_type": "stream",
       "stream": "stdout",
       "text": [
        "\n",
        "epoch 356, minibatch 8/8, validation error 82.500000 %\n",
        "epoch 357, minibatch 8/8, validation error 82.500000 %\n",
        "epoch 358, minibatch 8/8, validation error 82.500000 %\n",
        "epoch 359, minibatch 8/8, validation error 82.500000 %"
       ]
      },
      {
       "output_type": "stream",
       "stream": "stdout",
       "text": [
        "\n",
        "epoch 360, minibatch 8/8, validation error 82.500000 %\n",
        "epoch 361, minibatch 8/8, validation error 82.500000 %\n",
        "epoch 362, minibatch 8/8, validation error 82.500000 %\n",
        "epoch 363, minibatch 8/8, validation error 82.500000 %"
       ]
      },
      {
       "output_type": "stream",
       "stream": "stdout",
       "text": [
        "\n",
        "epoch 364, minibatch 8/8, validation error 82.500000 %\n",
        "epoch 365, minibatch 8/8, validation error 82.500000 %\n",
        "epoch 366, minibatch 8/8, validation error 82.500000 %\n",
        "epoch 367, minibatch 8/8, validation error 82.500000 %"
       ]
      },
      {
       "output_type": "stream",
       "stream": "stdout",
       "text": [
        "\n",
        "epoch 368, minibatch 8/8, validation error 82.500000 %\n",
        "epoch 369, minibatch 8/8, validation error 82.500000 %\n",
        "epoch 370, minibatch 8/8, validation error 82.500000 %\n",
        "epoch 371, minibatch 8/8, validation error 82.500000 %"
       ]
      },
      {
       "output_type": "stream",
       "stream": "stdout",
       "text": [
        "\n",
        "epoch 372, minibatch 8/8, validation error 82.500000 %\n",
        "epoch 373, minibatch 8/8, validation error 82.500000 %\n",
        "epoch 374, minibatch 8/8, validation error 82.500000 %\n",
        "epoch 375, minibatch 8/8, validation error 82.500000 %"
       ]
      },
      {
       "output_type": "stream",
       "stream": "stdout",
       "text": [
        "\n",
        "epoch 376, minibatch 8/8, validation error 82.500000 %\n",
        "epoch 377, minibatch 8/8, validation error 82.500000 %\n",
        "epoch 378, minibatch 8/8, validation error 82.500000 %\n",
        "epoch 379, minibatch 8/8, validation error 82.500000 %"
       ]
      },
      {
       "output_type": "stream",
       "stream": "stdout",
       "text": [
        "\n",
        "epoch 380, minibatch 8/8, validation error 82.500000 %\n",
        "epoch 381, minibatch 8/8, validation error 82.500000 %\n",
        "epoch 382, minibatch 8/8, validation error 82.500000 %\n",
        "epoch 383, minibatch 8/8, validation error 82.500000 %"
       ]
      },
      {
       "output_type": "stream",
       "stream": "stdout",
       "text": [
        "\n",
        "epoch 384, minibatch 8/8, validation error 82.500000 %\n",
        "epoch 385, minibatch 8/8, validation error 82.500000 %\n",
        "epoch 386, minibatch 8/8, validation error 82.500000 %\n",
        "epoch 387, minibatch 8/8, validation error 82.500000 %"
       ]
      },
      {
       "output_type": "stream",
       "stream": "stdout",
       "text": [
        "\n",
        "epoch 388, minibatch 8/8, validation error 82.500000 %\n",
        "epoch 389, minibatch 8/8, validation error 82.500000 %\n",
        "epoch 390, minibatch 8/8, validation error 82.500000 %\n",
        "epoch 391, minibatch 8/8, validation error 82.500000 %"
       ]
      },
      {
       "output_type": "stream",
       "stream": "stdout",
       "text": [
        "\n",
        "epoch 392, minibatch 8/8, validation error 82.500000 %\n",
        "epoch 393, minibatch 8/8, validation error 82.500000 %\n",
        "epoch 394, minibatch 8/8, validation error 82.500000 %\n",
        "epoch 395, minibatch 8/8, validation error 82.500000 %"
       ]
      },
      {
       "output_type": "stream",
       "stream": "stdout",
       "text": [
        "\n",
        "epoch 396, minibatch 8/8, validation error 82.500000 %\n",
        "epoch 397, minibatch 8/8, validation error 82.500000 %\n",
        "epoch 398, minibatch 8/8, validation error 82.500000 %\n",
        "epoch 399, minibatch 8/8, validation error 82.500000 %"
       ]
      },
      {
       "output_type": "stream",
       "stream": "stdout",
       "text": [
        "\n",
        "epoch 400, minibatch 8/8, validation error 82.500000 %\n",
        "epoch 401, minibatch 8/8, validation error 82.500000 %\n",
        "epoch 402, minibatch 8/8, validation error 82.500000 %\n",
        "epoch 403, minibatch 8/8, validation error 82.500000 %"
       ]
      },
      {
       "output_type": "stream",
       "stream": "stdout",
       "text": [
        "\n",
        "epoch 404, minibatch 8/8, validation error 82.500000 %\n",
        "epoch 405, minibatch 8/8, validation error 82.500000 %\n",
        "epoch 406, minibatch 8/8, validation error 82.500000 %\n",
        "epoch 407, minibatch 8/8, validation error 82.500000 %"
       ]
      },
      {
       "output_type": "stream",
       "stream": "stdout",
       "text": [
        "\n",
        "epoch 408, minibatch 8/8, validation error 82.500000 %\n",
        "epoch 409, minibatch 8/8, validation error 82.500000 %\n",
        "epoch 410, minibatch 8/8, validation error 82.500000 %\n",
        "epoch 411, minibatch 8/8, validation error 82.500000 %"
       ]
      },
      {
       "output_type": "stream",
       "stream": "stdout",
       "text": [
        "\n",
        "epoch 412, minibatch 8/8, validation error 82.500000 %\n",
        "epoch 413, minibatch 8/8, validation error 82.500000 %\n",
        "epoch 414, minibatch 8/8, validation error 82.500000 %\n",
        "epoch 415, minibatch 8/8, validation error 82.500000 %"
       ]
      },
      {
       "output_type": "stream",
       "stream": "stdout",
       "text": [
        "\n",
        "epoch 416, minibatch 8/8, validation error 82.500000 %\n",
        "epoch 417, minibatch 8/8, validation error 82.500000 %\n",
        "epoch 418, minibatch 8/8, validation error 82.500000 %\n",
        "epoch 419, minibatch 8/8, validation error 82.500000 %"
       ]
      },
      {
       "output_type": "stream",
       "stream": "stdout",
       "text": [
        "\n",
        "epoch 420, minibatch 8/8, validation error 82.500000 %\n",
        "epoch 421, minibatch 8/8, validation error 82.500000 %\n",
        "epoch 422, minibatch 8/8, validation error 82.500000 %\n",
        "epoch 423, minibatch 8/8, validation error 82.500000 %"
       ]
      },
      {
       "output_type": "stream",
       "stream": "stdout",
       "text": [
        "\n",
        "epoch 424, minibatch 8/8, validation error 82.500000 %\n",
        "epoch 425, minibatch 8/8, validation error 82.500000 %\n",
        "epoch 426, minibatch 8/8, validation error 82.500000 %\n",
        "epoch 427, minibatch 8/8, validation error 82.500000 %"
       ]
      },
      {
       "output_type": "stream",
       "stream": "stdout",
       "text": [
        "\n",
        "epoch 428, minibatch 8/8, validation error 82.500000 %\n",
        "epoch 429, minibatch 8/8, validation error 82.500000 %\n",
        "epoch 430, minibatch 8/8, validation error 82.500000 %\n",
        "epoch 431, minibatch 8/8, validation error 82.500000 %"
       ]
      },
      {
       "output_type": "stream",
       "stream": "stdout",
       "text": [
        "\n",
        "epoch 432, minibatch 8/8, validation error 82.500000 %\n",
        "epoch 433, minibatch 8/8, validation error 82.500000 %\n",
        "epoch 434, minibatch 8/8, validation error 82.500000 %\n",
        "epoch 435, minibatch 8/8, validation error 82.500000 %"
       ]
      },
      {
       "output_type": "stream",
       "stream": "stdout",
       "text": [
        "\n",
        "epoch 436, minibatch 8/8, validation error 82.500000 %\n",
        "epoch 437, minibatch 8/8, validation error 82.500000 %\n",
        "epoch 438, minibatch 8/8, validation error 82.500000 %\n",
        "epoch 439, minibatch 8/8, validation error 82.500000 %"
       ]
      },
      {
       "output_type": "stream",
       "stream": "stdout",
       "text": [
        "\n",
        "epoch 440, minibatch 8/8, validation error 82.500000 %\n",
        "epoch 441, minibatch 8/8, validation error 82.500000 %\n",
        "epoch 442, minibatch 8/8, validation error 82.500000 %\n",
        "epoch 443, minibatch 8/8, validation error 82.500000 %"
       ]
      },
      {
       "output_type": "stream",
       "stream": "stdout",
       "text": [
        "\n",
        "epoch 444, minibatch 8/8, validation error 82.500000 %\n",
        "epoch 445, minibatch 8/8, validation error 82.500000 %\n",
        "epoch 446, minibatch 8/8, validation error 82.500000 %\n",
        "epoch 447, minibatch 8/8, validation error 82.500000 %"
       ]
      },
      {
       "output_type": "stream",
       "stream": "stdout",
       "text": [
        "\n",
        "epoch 448, minibatch 8/8, validation error 82.500000 %\n",
        "epoch 449, minibatch 8/8, validation error 82.500000 %\n",
        "epoch 450, minibatch 8/8, validation error 82.500000 %\n",
        "epoch 451, minibatch 8/8, validation error 82.500000 %"
       ]
      },
      {
       "output_type": "stream",
       "stream": "stdout",
       "text": [
        "\n",
        "epoch 452, minibatch 8/8, validation error 82.500000 %\n",
        "epoch 453, minibatch 8/8, validation error 82.500000 %\n",
        "epoch 454, minibatch 8/8, validation error 82.500000 %\n",
        "epoch 455, minibatch 8/8, validation error 82.500000 %"
       ]
      },
      {
       "output_type": "stream",
       "stream": "stdout",
       "text": [
        "\n",
        "epoch 456, minibatch 8/8, validation error 82.500000 %\n",
        "epoch 457, minibatch 8/8, validation error 82.500000 %\n",
        "epoch 458, minibatch 8/8, validation error 82.500000 %\n",
        "epoch 459, minibatch 8/8, validation error 82.500000 %"
       ]
      },
      {
       "output_type": "stream",
       "stream": "stdout",
       "text": [
        "\n",
        "epoch 460, minibatch 8/8, validation error 82.500000 %\n",
        "epoch 461, minibatch 8/8, validation error 82.500000 %\n",
        "epoch 462, minibatch 8/8, validation error 82.500000 %\n",
        "epoch 463, minibatch 8/8, validation error 82.500000 %"
       ]
      },
      {
       "output_type": "stream",
       "stream": "stdout",
       "text": [
        "\n",
        "epoch 464, minibatch 8/8, validation error 82.500000 %\n",
        "epoch 465, minibatch 8/8, validation error 82.500000 %\n",
        "epoch 466, minibatch 8/8, validation error 82.500000 %\n",
        "epoch 467, minibatch 8/8, validation error 82.500000 %"
       ]
      },
      {
       "output_type": "stream",
       "stream": "stdout",
       "text": [
        "\n",
        "epoch 468, minibatch 8/8, validation error 82.500000 %\n",
        "epoch 469, minibatch 8/8, validation error 82.500000 %\n",
        "epoch 470, minibatch 8/8, validation error 82.500000 %\n",
        "epoch 471, minibatch 8/8, validation error 82.500000 %"
       ]
      },
      {
       "output_type": "stream",
       "stream": "stdout",
       "text": [
        "\n",
        "epoch 472, minibatch 8/8, validation error 82.500000 %\n",
        "epoch 473, minibatch 8/8, validation error 82.500000 %\n",
        "epoch 474, minibatch 8/8, validation error 82.500000 %\n",
        "epoch 475, minibatch 8/8, validation error 82.500000 %"
       ]
      },
      {
       "output_type": "stream",
       "stream": "stdout",
       "text": [
        "\n",
        "epoch 476, minibatch 8/8, validation error 82.500000 %\n",
        "epoch 477, minibatch 8/8, validation error 82.500000 %\n",
        "epoch 478, minibatch 8/8, validation error 83.000000 %\n",
        "epoch 479, minibatch 8/8, validation error 83.000000 %"
       ]
      },
      {
       "output_type": "stream",
       "stream": "stdout",
       "text": [
        "\n",
        "epoch 480, minibatch 8/8, validation error 83.000000 %\n",
        "epoch 481, minibatch 8/8, validation error 83.000000 %\n",
        "epoch 482, minibatch 8/8, validation error 83.000000 %\n",
        "epoch 483, minibatch 8/8, validation error 83.000000 %"
       ]
      },
      {
       "output_type": "stream",
       "stream": "stdout",
       "text": [
        "\n",
        "epoch 484, minibatch 8/8, validation error 83.000000 %\n",
        "epoch 485, minibatch 8/8, validation error 83.500000 %\n",
        "epoch 486, minibatch 8/8, validation error 83.500000 %\n",
        "epoch 487, minibatch 8/8, validation error 83.500000 %"
       ]
      },
      {
       "output_type": "stream",
       "stream": "stdout",
       "text": [
        "\n",
        "epoch 488, minibatch 8/8, validation error 83.500000 %\n",
        "epoch 489, minibatch 8/8, validation error 83.500000 %\n",
        "epoch 490, minibatch 8/8, validation error 83.500000 %\n",
        "epoch 491, minibatch 8/8, validation error 83.500000 %"
       ]
      },
      {
       "output_type": "stream",
       "stream": "stdout",
       "text": [
        "\n",
        "epoch 492, minibatch 8/8, validation error 83.500000 %\n",
        "epoch 493, minibatch 8/8, validation error 83.500000 %\n",
        "epoch 494, minibatch 8/8, validation error 83.500000 %\n",
        "epoch 495, minibatch 8/8, validation error 83.500000 %"
       ]
      },
      {
       "output_type": "stream",
       "stream": "stdout",
       "text": [
        "\n",
        "epoch 496, minibatch 8/8, validation error 83.500000 %\n",
        "epoch 497, minibatch 8/8, validation error 83.500000 %\n",
        "epoch 498, minibatch 8/8, validation error 83.500000 %\n",
        "epoch 499, minibatch 8/8, validation error 83.500000 %"
       ]
      },
      {
       "output_type": "stream",
       "stream": "stdout",
       "text": [
        "\n",
        "epoch 500, minibatch 8/8, validation error 83.500000 %\n",
        "epoch 501, minibatch 8/8, validation error 83.500000 %\n",
        "epoch 502, minibatch 8/8, validation error 83.500000 %\n",
        "epoch 503, minibatch 8/8, validation error 83.500000 %"
       ]
      },
      {
       "output_type": "stream",
       "stream": "stdout",
       "text": [
        "\n",
        "epoch 504, minibatch 8/8, validation error 83.500000 %\n",
        "epoch 505, minibatch 8/8, validation error 83.500000 %\n",
        "epoch 506, minibatch 8/8, validation error 83.500000 %\n",
        "epoch 507, minibatch 8/8, validation error 84.000000 %"
       ]
      },
      {
       "output_type": "stream",
       "stream": "stdout",
       "text": [
        "\n",
        "epoch 508, minibatch 8/8, validation error 84.000000 %\n",
        "epoch 509, minibatch 8/8, validation error 84.000000 %\n",
        "epoch 510, minibatch 8/8, validation error 84.000000 %\n",
        "epoch 511, minibatch 8/8, validation error 84.000000 %"
       ]
      },
      {
       "output_type": "stream",
       "stream": "stdout",
       "text": [
        "\n",
        "epoch 512, minibatch 8/8, validation error 84.000000 %\n",
        "epoch 513, minibatch 8/8, validation error 84.000000 %\n",
        "epoch 514, minibatch 8/8, validation error 84.000000 %\n",
        "epoch 515, minibatch 8/8, validation error 84.000000 %"
       ]
      },
      {
       "output_type": "stream",
       "stream": "stdout",
       "text": [
        "\n",
        "epoch 516, minibatch 8/8, validation error 83.500000 %\n",
        "epoch 517, minibatch 8/8, validation error 83.500000 %\n",
        "epoch 518, minibatch 8/8, validation error 83.500000 %\n",
        "epoch 519, minibatch 8/8, validation error 83.500000 %"
       ]
      },
      {
       "output_type": "stream",
       "stream": "stdout",
       "text": [
        "\n",
        "epoch 520, minibatch 8/8, validation error 83.500000 %\n",
        "epoch 521, minibatch 8/8, validation error 83.500000 %\n",
        "epoch 522, minibatch 8/8, validation error 83.500000 %\n",
        "epoch 523, minibatch 8/8, validation error 83.500000 %"
       ]
      },
      {
       "output_type": "stream",
       "stream": "stdout",
       "text": [
        "\n",
        "epoch 524, minibatch 8/8, validation error 83.500000 %\n",
        "epoch 525, minibatch 8/8, validation error 83.500000 %\n",
        "epoch 526, minibatch 8/8, validation error 83.500000 %\n",
        "epoch 527, minibatch 8/8, validation error 83.500000 %"
       ]
      },
      {
       "output_type": "stream",
       "stream": "stdout",
       "text": [
        "\n",
        "epoch 528, minibatch 8/8, validation error 83.500000 %\n",
        "epoch 529, minibatch 8/8, validation error 83.500000 %\n",
        "epoch 530, minibatch 8/8, validation error 83.500000 %\n",
        "epoch 531, minibatch 8/8, validation error 83.500000 %"
       ]
      },
      {
       "output_type": "stream",
       "stream": "stdout",
       "text": [
        "\n",
        "epoch 532, minibatch 8/8, validation error 83.500000 %\n",
        "epoch 533, minibatch 8/8, validation error 83.500000 %\n",
        "epoch 534, minibatch 8/8, validation error 83.500000 %\n",
        "epoch 535, minibatch 8/8, validation error 83.500000 %"
       ]
      },
      {
       "output_type": "stream",
       "stream": "stdout",
       "text": [
        "\n",
        "epoch 536, minibatch 8/8, validation error 83.500000 %\n",
        "epoch 537, minibatch 8/8, validation error 83.500000 %\n",
        "epoch 538, minibatch 8/8, validation error 83.500000 %\n",
        "epoch 539, minibatch 8/8, validation error 83.500000 %"
       ]
      },
      {
       "output_type": "stream",
       "stream": "stdout",
       "text": [
        "\n",
        "epoch 540, minibatch 8/8, validation error 83.500000 %\n",
        "epoch 541, minibatch 8/8, validation error 83.500000 %\n",
        "epoch 542, minibatch 8/8, validation error 83.500000 %\n",
        "epoch 543, minibatch 8/8, validation error 83.500000 %"
       ]
      },
      {
       "output_type": "stream",
       "stream": "stdout",
       "text": [
        "\n",
        "epoch 544, minibatch 8/8, validation error 83.500000 %\n",
        "epoch 545, minibatch 8/8, validation error 83.500000 %\n",
        "epoch 546, minibatch 8/8, validation error 83.500000 %\n",
        "epoch 547, minibatch 8/8, validation error 83.500000 %"
       ]
      },
      {
       "output_type": "stream",
       "stream": "stdout",
       "text": [
        "\n",
        "epoch 548, minibatch 8/8, validation error 83.500000 %\n",
        "epoch 549, minibatch 8/8, validation error 83.500000 %\n",
        "epoch 550, minibatch 8/8, validation error 83.500000 %\n",
        "epoch 551, minibatch 8/8, validation error 83.500000 %"
       ]
      },
      {
       "output_type": "stream",
       "stream": "stdout",
       "text": [
        "\n",
        "epoch 552, minibatch 8/8, validation error 83.500000 %\n",
        "epoch 553, minibatch 8/8, validation error 83.000000 %\n",
        "epoch 554, minibatch 8/8, validation error 83.000000 %\n",
        "epoch 555, minibatch 8/8, validation error 83.000000 %"
       ]
      },
      {
       "output_type": "stream",
       "stream": "stdout",
       "text": [
        "\n",
        "epoch 556, minibatch 8/8, validation error 83.000000 %\n",
        "epoch 557, minibatch 8/8, validation error 83.000000 %\n",
        "epoch 558, minibatch 8/8, validation error 83.000000 %\n",
        "epoch 559, minibatch 8/8, validation error 83.500000 %"
       ]
      },
      {
       "output_type": "stream",
       "stream": "stdout",
       "text": [
        "\n",
        "epoch 560, minibatch 8/8, validation error 83.500000 %\n",
        "epoch 561, minibatch 8/8, validation error 83.500000 %\n",
        "epoch 562, minibatch 8/8, validation error 83.500000 %\n",
        "epoch 563, minibatch 8/8, validation error 83.500000 %"
       ]
      },
      {
       "output_type": "stream",
       "stream": "stdout",
       "text": [
        "\n",
        "epoch 564, minibatch 8/8, validation error 83.500000 %\n",
        "epoch 565, minibatch 8/8, validation error 83.500000 %\n",
        "epoch 566, minibatch 8/8, validation error 83.500000 %\n",
        "epoch 567, minibatch 8/8, validation error 83.500000 %"
       ]
      },
      {
       "output_type": "stream",
       "stream": "stdout",
       "text": [
        "\n",
        "epoch 568, minibatch 8/8, validation error 83.500000 %\n",
        "epoch 569, minibatch 8/8, validation error 83.500000 %\n",
        "epoch 570, minibatch 8/8, validation error 83.500000 %\n",
        "epoch 571, minibatch 8/8, validation error 83.500000 %"
       ]
      },
      {
       "output_type": "stream",
       "stream": "stdout",
       "text": [
        "\n",
        "epoch 572, minibatch 8/8, validation error 83.500000 %\n",
        "epoch 573, minibatch 8/8, validation error 83.500000 %\n",
        "epoch 574, minibatch 8/8, validation error 83.500000 %\n",
        "epoch 575, minibatch 8/8, validation error 83.500000 %"
       ]
      },
      {
       "output_type": "stream",
       "stream": "stdout",
       "text": [
        "\n",
        "epoch 576, minibatch 8/8, validation error 83.500000 %\n",
        "epoch 577, minibatch 8/8, validation error 83.500000 %\n",
        "epoch 578, minibatch 8/8, validation error 83.500000 %\n",
        "epoch 579, minibatch 8/8, validation error 83.500000 %"
       ]
      },
      {
       "output_type": "stream",
       "stream": "stdout",
       "text": [
        "\n",
        "epoch 580, minibatch 8/8, validation error 83.500000 %\n",
        "epoch 581, minibatch 8/8, validation error 83.500000 %\n",
        "epoch 582, minibatch 8/8, validation error 83.500000 %\n",
        "epoch 583, minibatch 8/8, validation error 83.500000 %"
       ]
      },
      {
       "output_type": "stream",
       "stream": "stdout",
       "text": [
        "\n",
        "epoch 584, minibatch 8/8, validation error 83.500000 %\n",
        "epoch 585, minibatch 8/8, validation error 83.500000 %\n",
        "epoch 586, minibatch 8/8, validation error 83.500000 %\n",
        "epoch 587, minibatch 8/8, validation error 83.500000 %"
       ]
      },
      {
       "output_type": "stream",
       "stream": "stdout",
       "text": [
        "\n",
        "epoch 588, minibatch 8/8, validation error 83.500000 %\n",
        "epoch 589, minibatch 8/8, validation error 83.500000 %\n",
        "epoch 590, minibatch 8/8, validation error 83.500000 %\n",
        "epoch 591, minibatch 8/8, validation error 83.500000 %"
       ]
      },
      {
       "output_type": "stream",
       "stream": "stdout",
       "text": [
        "\n",
        "epoch 592, minibatch 8/8, validation error 83.500000 %\n",
        "epoch 593, minibatch 8/8, validation error 83.500000 %\n",
        "epoch 594, minibatch 8/8, validation error 83.500000 %\n",
        "epoch 595, minibatch 8/8, validation error 83.500000 %"
       ]
      },
      {
       "output_type": "stream",
       "stream": "stdout",
       "text": [
        "\n",
        "epoch 596, minibatch 8/8, validation error 83.500000 %\n",
        "epoch 597, minibatch 8/8, validation error 83.500000 %\n",
        "epoch 598, minibatch 8/8, validation error 83.500000 %\n",
        "epoch 599, minibatch 8/8, validation error 83.500000 %"
       ]
      },
      {
       "output_type": "stream",
       "stream": "stdout",
       "text": [
        "\n",
        "epoch 600, minibatch 8/8, validation error 83.500000 %\n",
        "epoch 601, minibatch 8/8, validation error 83.500000 %\n",
        "epoch 602, minibatch 8/8, validation error 83.500000 %\n",
        "epoch 603, minibatch 8/8, validation error 83.500000 %"
       ]
      },
      {
       "output_type": "stream",
       "stream": "stdout",
       "text": [
        "\n",
        "epoch 604, minibatch 8/8, validation error 83.500000 %\n",
        "epoch 605, minibatch 8/8, validation error 83.500000 %\n",
        "epoch 606, minibatch 8/8, validation error 83.500000 %\n",
        "epoch 607, minibatch 8/8, validation error 83.500000 %"
       ]
      },
      {
       "output_type": "stream",
       "stream": "stdout",
       "text": [
        "\n",
        "epoch 608, minibatch 8/8, validation error 83.500000 %\n",
        "epoch 609, minibatch 8/8, validation error 84.000000 %\n",
        "epoch 610, minibatch 8/8, validation error 84.000000 %\n",
        "epoch 611, minibatch 8/8, validation error 84.000000 %"
       ]
      },
      {
       "output_type": "stream",
       "stream": "stdout",
       "text": [
        "\n",
        "epoch 612, minibatch 8/8, validation error 84.000000 %\n",
        "epoch 613, minibatch 8/8, validation error 84.000000 %\n",
        "epoch 614, minibatch 8/8, validation error 84.000000 %\n",
        "epoch 615, minibatch 8/8, validation error 84.000000 %"
       ]
      },
      {
       "output_type": "stream",
       "stream": "stdout",
       "text": [
        "\n",
        "epoch 616, minibatch 8/8, validation error 84.000000 %\n",
        "epoch 617, minibatch 8/8, validation error 84.000000 %\n",
        "epoch 618, minibatch 8/8, validation error 84.000000 %\n",
        "epoch 619, minibatch 8/8, validation error 84.000000 %"
       ]
      },
      {
       "output_type": "stream",
       "stream": "stdout",
       "text": [
        "\n",
        "epoch 620, minibatch 8/8, validation error 84.000000 %\n",
        "epoch 621, minibatch 8/8, validation error 84.000000 %\n",
        "epoch 622, minibatch 8/8, validation error 84.500000 %\n",
        "epoch 623, minibatch 8/8, validation error 84.500000 %"
       ]
      },
      {
       "output_type": "stream",
       "stream": "stdout",
       "text": [
        "\n",
        "epoch 624, minibatch 8/8, validation error 84.500000 %\n",
        "epoch 625, minibatch 8/8, validation error 84.500000 %\n",
        "Optimization complete with best validation score 78.000000 %\n",
        "classification error for blackbox data: "
       ]
      },
      {
       "output_type": "stream",
       "stream": "stdout",
       "text": [
        "0.433\n",
        "Training LogisticRegression modle with SGD ...\n",
        "epoch 1, minibatch 8/8, validation error 42.500000 %"
       ]
      },
      {
       "output_type": "stream",
       "stream": "stdout",
       "text": [
        "\n",
        "epoch 2, minibatch 8/8, validation error 43.000000 %\n",
        "epoch 3, minibatch 8/8, validation error 43.500000 %\n",
        "epoch 4, minibatch 8/8, validation error 44.500000 %\n",
        "epoch 5, minibatch 8/8, validation error 45.000000 %"
       ]
      },
      {
       "output_type": "stream",
       "stream": "stdout",
       "text": [
        "\n",
        "epoch 6, minibatch 8/8, validation error 45.000000 %\n",
        "epoch 7, minibatch 8/8, validation error 45.000000 %\n",
        "epoch 8, minibatch 8/8, validation error 45.500000 %\n",
        "epoch 9, minibatch 8/8, validation error 47.000000 %"
       ]
      },
      {
       "output_type": "stream",
       "stream": "stdout",
       "text": [
        "\n",
        "epoch 10, minibatch 8/8, validation error 47.500000 %\n",
        "epoch 11, minibatch 8/8, validation error 47.500000 %\n",
        "epoch 12, minibatch 8/8, validation error 47.500000 %\n",
        "epoch 13, minibatch 8/8, validation error 48.500000 %"
       ]
      },
      {
       "output_type": "stream",
       "stream": "stdout",
       "text": [
        "\n",
        "epoch 14, minibatch 8/8, validation error 49.000000 %\n",
        "epoch 15, minibatch 8/8, validation error 49.000000 %\n",
        "epoch 16, minibatch 8/8, validation error 49.000000 %\n",
        "epoch 17, minibatch 8/8, validation error 49.500000 %"
       ]
      },
      {
       "output_type": "stream",
       "stream": "stdout",
       "text": [
        "\n",
        "epoch 18, minibatch 8/8, validation error 49.500000 %\n",
        "epoch 19, minibatch 8/8, validation error 49.500000 %\n",
        "epoch 20, minibatch 8/8, validation error 50.000000 %\n",
        "epoch 21, minibatch 8/8, validation error 51.000000 %"
       ]
      },
      {
       "output_type": "stream",
       "stream": "stdout",
       "text": [
        "\n",
        "epoch 22, minibatch 8/8, validation error 51.000000 %\n",
        "epoch 23, minibatch 8/8, validation error 51.500000 %\n",
        "epoch 24, minibatch 8/8, validation error 51.500000 %\n",
        "epoch 25, minibatch 8/8, validation error 51.500000 %"
       ]
      },
      {
       "output_type": "stream",
       "stream": "stdout",
       "text": [
        "\n",
        "epoch 26, minibatch 8/8, validation error 51.500000 %\n",
        "epoch 27, minibatch 8/8, validation error 51.500000 %\n",
        "epoch 28, minibatch 8/8, validation error 51.500000 %\n",
        "epoch 29, minibatch 8/8, validation error 53.000000 %"
       ]
      },
      {
       "output_type": "stream",
       "stream": "stdout",
       "text": [
        "\n",
        "epoch 30, minibatch 8/8, validation error 53.000000 %\n",
        "epoch 31, minibatch 8/8, validation error 53.000000 %\n",
        "epoch 32, minibatch 8/8, validation error 54.000000 %\n",
        "epoch 33, minibatch 8/8, validation error 54.000000 %"
       ]
      },
      {
       "output_type": "stream",
       "stream": "stdout",
       "text": [
        "\n",
        "epoch 34, minibatch 8/8, validation error 54.000000 %\n",
        "epoch 35, minibatch 8/8, validation error 54.500000 %\n",
        "epoch 36, minibatch 8/8, validation error 55.000000 %\n",
        "epoch 37, minibatch 8/8, validation error 55.000000 %"
       ]
      },
      {
       "output_type": "stream",
       "stream": "stdout",
       "text": [
        "\n",
        "epoch 38, minibatch 8/8, validation error 55.500000 %\n",
        "epoch 39, minibatch 8/8, validation error 55.500000 %\n",
        "epoch 40, minibatch 8/8, validation error 55.500000 %\n",
        "epoch 41, minibatch 8/8, validation error 55.500000 %"
       ]
      },
      {
       "output_type": "stream",
       "stream": "stdout",
       "text": [
        "\n",
        "epoch 42, minibatch 8/8, validation error 55.500000 %\n",
        "epoch 43, minibatch 8/8, validation error 56.000000 %\n",
        "epoch 44, minibatch 8/8, validation error 56.500000 %\n",
        "epoch 45, minibatch 8/8, validation error 57.000000 %"
       ]
      },
      {
       "output_type": "stream",
       "stream": "stdout",
       "text": [
        "\n",
        "epoch 46, minibatch 8/8, validation error 57.000000 %\n",
        "epoch 47, minibatch 8/8, validation error 57.000000 %\n",
        "epoch 48, minibatch 8/8, validation error 57.500000 %\n",
        "epoch 49, minibatch 8/8, validation error 57.500000 %"
       ]
      },
      {
       "output_type": "stream",
       "stream": "stdout",
       "text": [
        "\n",
        "epoch 50, minibatch 8/8, validation error 57.500000 %\n",
        "epoch 51, minibatch 8/8, validation error 58.000000 %\n",
        "epoch 52, minibatch 8/8, validation error 58.000000 %\n",
        "epoch 53, minibatch 8/8, validation error 58.000000 %"
       ]
      },
      {
       "output_type": "stream",
       "stream": "stdout",
       "text": [
        "\n",
        "epoch 54, minibatch 8/8, validation error 58.000000 %\n",
        "epoch 55, minibatch 8/8, validation error 58.000000 %\n",
        "epoch 56, minibatch 8/8, validation error 58.000000 %\n",
        "epoch 57, minibatch 8/8, validation error 58.000000 %"
       ]
      },
      {
       "output_type": "stream",
       "stream": "stdout",
       "text": [
        "\n",
        "epoch 58, minibatch 8/8, validation error 58.000000 %\n",
        "epoch 59, minibatch 8/8, validation error 58.000000 %\n",
        "epoch 60, minibatch 8/8, validation error 58.000000 %\n",
        "epoch 61, minibatch 8/8, validation error 58.000000 %"
       ]
      },
      {
       "output_type": "stream",
       "stream": "stdout",
       "text": [
        "\n",
        "epoch 62, minibatch 8/8, validation error 58.000000 %\n",
        "epoch 63, minibatch 8/8, validation error 58.000000 %\n",
        "epoch 64, minibatch 8/8, validation error 58.500000 %\n",
        "epoch 65, minibatch 8/8, validation error 59.000000 %"
       ]
      },
      {
       "output_type": "stream",
       "stream": "stdout",
       "text": [
        "\n",
        "epoch 66, minibatch 8/8, validation error 59.500000 %\n",
        "epoch 67, minibatch 8/8, validation error 59.500000 %\n",
        "epoch 68, minibatch 8/8, validation error 60.000000 %\n",
        "epoch 69, minibatch 8/8, validation error 60.000000 %"
       ]
      },
      {
       "output_type": "stream",
       "stream": "stdout",
       "text": [
        "\n",
        "epoch 70, minibatch 8/8, validation error 59.500000 %\n",
        "epoch 71, minibatch 8/8, validation error 59.500000 %\n",
        "epoch 72, minibatch 8/8, validation error 59.500000 %\n",
        "epoch 73, minibatch 8/8, validation error 60.000000 %"
       ]
      },
      {
       "output_type": "stream",
       "stream": "stdout",
       "text": [
        "\n",
        "epoch 74, minibatch 8/8, validation error 60.000000 %\n",
        "epoch 75, minibatch 8/8, validation error 60.000000 %\n",
        "epoch 76, minibatch 8/8, validation error 60.000000 %\n",
        "epoch 77, minibatch 8/8, validation error 60.000000 %"
       ]
      },
      {
       "output_type": "stream",
       "stream": "stdout",
       "text": [
        "\n",
        "epoch 78, minibatch 8/8, validation error 60.000000 %\n",
        "epoch 79, minibatch 8/8, validation error 60.000000 %\n",
        "epoch 80, minibatch 8/8, validation error 60.000000 %\n",
        "epoch 81, minibatch 8/8, validation error 60.000000 %"
       ]
      },
      {
       "output_type": "stream",
       "stream": "stdout",
       "text": [
        "\n",
        "epoch 82, minibatch 8/8, validation error 60.000000 %\n",
        "epoch 83, minibatch 8/8, validation error 60.000000 %\n",
        "epoch 84, minibatch 8/8, validation error 60.000000 %\n",
        "epoch 85, minibatch 8/8, validation error 60.000000 %"
       ]
      },
      {
       "output_type": "stream",
       "stream": "stdout",
       "text": [
        "\n",
        "epoch 86, minibatch 8/8, validation error 60.000000 %\n",
        "epoch 87, minibatch 8/8, validation error 60.000000 %\n",
        "epoch 88, minibatch 8/8, validation error 60.000000 %\n",
        "epoch 89, minibatch 8/8, validation error 60.000000 %"
       ]
      },
      {
       "output_type": "stream",
       "stream": "stdout",
       "text": [
        "\n",
        "epoch 90, minibatch 8/8, validation error 60.500000 %\n",
        "epoch 91, minibatch 8/8, validation error 60.500000 %\n",
        "epoch 92, minibatch 8/8, validation error 60.500000 %\n",
        "epoch 93, minibatch 8/8, validation error 60.500000 %"
       ]
      },
      {
       "output_type": "stream",
       "stream": "stdout",
       "text": [
        "\n",
        "epoch 94, minibatch 8/8, validation error 60.500000 %\n",
        "epoch 95, minibatch 8/8, validation error 61.000000 %\n",
        "epoch 96, minibatch 8/8, validation error 61.500000 %\n",
        "epoch 97, minibatch 8/8, validation error 61.500000 %"
       ]
      },
      {
       "output_type": "stream",
       "stream": "stdout",
       "text": [
        "\n",
        "epoch 98, minibatch 8/8, validation error 61.500000 %\n",
        "epoch 99, minibatch 8/8, validation error 61.500000 %\n",
        "epoch 100, minibatch 8/8, validation error 61.500000 %\n",
        "epoch 101, minibatch 8/8, validation error 62.000000 %"
       ]
      },
      {
       "output_type": "stream",
       "stream": "stdout",
       "text": [
        "\n",
        "epoch 102, minibatch 8/8, validation error 62.000000 %\n",
        "epoch 103, minibatch 8/8, validation error 62.000000 %\n",
        "epoch 104, minibatch 8/8, validation error 62.000000 %\n",
        "epoch 105, minibatch 8/8, validation error 62.000000 %"
       ]
      },
      {
       "output_type": "stream",
       "stream": "stdout",
       "text": [
        "\n",
        "epoch 106, minibatch 8/8, validation error 62.000000 %\n",
        "epoch 107, minibatch 8/8, validation error 62.000000 %\n",
        "epoch 108, minibatch 8/8, validation error 62.000000 %\n",
        "epoch 109, minibatch 8/8, validation error 62.000000 %"
       ]
      },
      {
       "output_type": "stream",
       "stream": "stdout",
       "text": [
        "\n",
        "epoch 110, minibatch 8/8, validation error 62.000000 %\n",
        "epoch 111, minibatch 8/8, validation error 62.000000 %\n",
        "epoch 112, minibatch 8/8, validation error 62.500000 %\n",
        "epoch 113, minibatch 8/8, validation error 62.500000 %"
       ]
      },
      {
       "output_type": "stream",
       "stream": "stdout",
       "text": [
        "\n",
        "epoch 114, minibatch 8/8, validation error 62.500000 %\n",
        "epoch 115, minibatch 8/8, validation error 62.500000 %\n",
        "epoch 116, minibatch 8/8, validation error 62.500000 %\n",
        "epoch 117, minibatch 8/8, validation error 62.500000 %"
       ]
      },
      {
       "output_type": "stream",
       "stream": "stdout",
       "text": [
        "\n",
        "epoch 118, minibatch 8/8, validation error 62.500000 %\n",
        "epoch 119, minibatch 8/8, validation error 63.500000 %\n",
        "epoch 120, minibatch 8/8, validation error 63.500000 %\n",
        "epoch 121, minibatch 8/8, validation error 63.500000 %"
       ]
      },
      {
       "output_type": "stream",
       "stream": "stdout",
       "text": [
        "\n",
        "epoch 122, minibatch 8/8, validation error 63.500000 %\n",
        "epoch 123, minibatch 8/8, validation error 63.500000 %\n",
        "epoch 124, minibatch 8/8, validation error 63.500000 %\n",
        "epoch 125, minibatch 8/8, validation error 63.500000 %"
       ]
      },
      {
       "output_type": "stream",
       "stream": "stdout",
       "text": [
        "\n",
        "epoch 126, minibatch 8/8, validation error 63.500000 %\n",
        "epoch 127, minibatch 8/8, validation error 64.000000 %\n",
        "epoch 128, minibatch 8/8, validation error 64.000000 %\n",
        "epoch 129, minibatch 8/8, validation error 64.000000 %"
       ]
      },
      {
       "output_type": "stream",
       "stream": "stdout",
       "text": [
        "\n",
        "epoch 130, minibatch 8/8, validation error 64.000000 %\n",
        "epoch 131, minibatch 8/8, validation error 64.000000 %\n",
        "epoch 132, minibatch 8/8, validation error 64.000000 %\n",
        "epoch 133, minibatch 8/8, validation error 64.000000 %"
       ]
      },
      {
       "output_type": "stream",
       "stream": "stdout",
       "text": [
        "\n",
        "epoch 134, minibatch 8/8, validation error 64.000000 %\n",
        "epoch 135, minibatch 8/8, validation error 64.000000 %\n",
        "epoch 136, minibatch 8/8, validation error 64.000000 %\n",
        "epoch 137, minibatch 8/8, validation error 64.000000 %"
       ]
      },
      {
       "output_type": "stream",
       "stream": "stdout",
       "text": [
        "\n",
        "epoch 138, minibatch 8/8, validation error 64.000000 %\n",
        "epoch 139, minibatch 8/8, validation error 64.000000 %\n",
        "epoch 140, minibatch 8/8, validation error 64.500000 %\n",
        "epoch 141, minibatch 8/8, validation error 64.500000 %"
       ]
      },
      {
       "output_type": "stream",
       "stream": "stdout",
       "text": [
        "\n",
        "epoch 142, minibatch 8/8, validation error 65.500000 %\n",
        "epoch 143, minibatch 8/8, validation error 65.500000 %\n",
        "epoch 144, minibatch 8/8, validation error 65.500000 %\n",
        "epoch 145, minibatch 8/8, validation error 65.500000 %"
       ]
      },
      {
       "output_type": "stream",
       "stream": "stdout",
       "text": [
        "\n",
        "epoch 146, minibatch 8/8, validation error 65.500000 %\n",
        "epoch 147, minibatch 8/8, validation error 65.500000 %\n",
        "epoch 148, minibatch 8/8, validation error 65.500000 %\n",
        "epoch 149, minibatch 8/8, validation error 65.500000 %"
       ]
      },
      {
       "output_type": "stream",
       "stream": "stdout",
       "text": [
        "\n",
        "epoch 150, minibatch 8/8, validation error 65.500000 %\n",
        "epoch 151, minibatch 8/8, validation error 65.500000 %\n",
        "epoch 152, minibatch 8/8, validation error 65.500000 %\n",
        "epoch 153, minibatch 8/8, validation error 66.000000 %"
       ]
      },
      {
       "output_type": "stream",
       "stream": "stdout",
       "text": [
        "\n",
        "epoch 154, minibatch 8/8, validation error 66.000000 %\n",
        "epoch 155, minibatch 8/8, validation error 66.000000 %\n",
        "epoch 156, minibatch 8/8, validation error 66.000000 %\n",
        "epoch 157, minibatch 8/8, validation error 66.000000 %"
       ]
      },
      {
       "output_type": "stream",
       "stream": "stdout",
       "text": [
        "\n",
        "epoch 158, minibatch 8/8, validation error 66.000000 %\n",
        "epoch 159, minibatch 8/8, validation error 66.000000 %\n",
        "epoch 160, minibatch 8/8, validation error 66.000000 %\n",
        "epoch 161, minibatch 8/8, validation error 66.500000 %"
       ]
      },
      {
       "output_type": "stream",
       "stream": "stdout",
       "text": [
        "\n",
        "epoch 162, minibatch 8/8, validation error 66.500000 %\n",
        "epoch 163, minibatch 8/8, validation error 66.500000 %\n",
        "epoch 164, minibatch 8/8, validation error 66.500000 %\n",
        "epoch 165, minibatch 8/8, validation error 66.500000 %"
       ]
      },
      {
       "output_type": "stream",
       "stream": "stdout",
       "text": [
        "\n",
        "epoch 166, minibatch 8/8, validation error 66.500000 %\n",
        "epoch 167, minibatch 8/8, validation error 66.500000 %\n",
        "epoch 168, minibatch 8/8, validation error 66.500000 %\n",
        "epoch 169, minibatch 8/8, validation error 66.500000 %"
       ]
      },
      {
       "output_type": "stream",
       "stream": "stdout",
       "text": [
        "\n",
        "epoch 170, minibatch 8/8, validation error 66.500000 %\n",
        "epoch 171, minibatch 8/8, validation error 66.500000 %\n",
        "epoch 172, minibatch 8/8, validation error 66.500000 %\n",
        "epoch 173, minibatch 8/8, validation error 66.500000 %"
       ]
      },
      {
       "output_type": "stream",
       "stream": "stdout",
       "text": [
        "\n",
        "epoch 174, minibatch 8/8, validation error 66.500000 %\n",
        "epoch 175, minibatch 8/8, validation error 66.500000 %\n",
        "epoch 176, minibatch 8/8, validation error 66.500000 %\n",
        "epoch 177, minibatch 8/8, validation error 66.500000 %"
       ]
      },
      {
       "output_type": "stream",
       "stream": "stdout",
       "text": [
        "\n",
        "epoch 178, minibatch 8/8, validation error 66.500000 %\n",
        "epoch 179, minibatch 8/8, validation error 66.500000 %\n",
        "epoch 180, minibatch 8/8, validation error 66.500000 %\n",
        "epoch 181, minibatch 8/8, validation error 66.500000 %"
       ]
      },
      {
       "output_type": "stream",
       "stream": "stdout",
       "text": [
        "\n",
        "epoch 182, minibatch 8/8, validation error 66.500000 %\n",
        "epoch 183, minibatch 8/8, validation error 66.500000 %\n",
        "epoch 184, minibatch 8/8, validation error 66.500000 %\n",
        "epoch 185, minibatch 8/8, validation error 66.500000 %"
       ]
      },
      {
       "output_type": "stream",
       "stream": "stdout",
       "text": [
        "\n",
        "epoch 186, minibatch 8/8, validation error 66.500000 %\n",
        "epoch 187, minibatch 8/8, validation error 66.500000 %\n",
        "epoch 188, minibatch 8/8, validation error 66.500000 %\n",
        "epoch 189, minibatch 8/8, validation error 66.500000 %"
       ]
      },
      {
       "output_type": "stream",
       "stream": "stdout",
       "text": [
        "\n",
        "epoch 190, minibatch 8/8, validation error 66.500000 %\n",
        "epoch 191, minibatch 8/8, validation error 66.500000 %\n",
        "epoch 192, minibatch 8/8, validation error 66.500000 %\n",
        "epoch 193, minibatch 8/8, validation error 66.500000 %"
       ]
      },
      {
       "output_type": "stream",
       "stream": "stdout",
       "text": [
        "\n",
        "epoch 194, minibatch 8/8, validation error 66.500000 %\n",
        "epoch 195, minibatch 8/8, validation error 66.500000 %\n",
        "epoch 196, minibatch 8/8, validation error 66.500000 %\n",
        "epoch 197, minibatch 8/8, validation error 66.500000 %"
       ]
      },
      {
       "output_type": "stream",
       "stream": "stdout",
       "text": [
        "\n",
        "epoch 198, minibatch 8/8, validation error 67.000000 %\n",
        "epoch 199, minibatch 8/8, validation error 67.000000 %\n",
        "epoch 200, minibatch 8/8, validation error 67.000000 %\n",
        "epoch 201, minibatch 8/8, validation error 67.000000 %"
       ]
      },
      {
       "output_type": "stream",
       "stream": "stdout",
       "text": [
        "\n",
        "epoch 202, minibatch 8/8, validation error 67.000000 %\n",
        "epoch 203, minibatch 8/8, validation error 67.000000 %\n",
        "epoch 204, minibatch 8/8, validation error 67.000000 %\n",
        "epoch 205, minibatch 8/8, validation error 67.000000 %"
       ]
      },
      {
       "output_type": "stream",
       "stream": "stdout",
       "text": [
        "\n",
        "epoch 206, minibatch 8/8, validation error 67.000000 %\n",
        "epoch 207, minibatch 8/8, validation error 67.000000 %\n",
        "epoch 208, minibatch 8/8, validation error 67.000000 %\n",
        "epoch 209, minibatch 8/8, validation error 67.000000 %"
       ]
      },
      {
       "output_type": "stream",
       "stream": "stdout",
       "text": [
        "\n",
        "epoch 210, minibatch 8/8, validation error 67.000000 %\n",
        "epoch 211, minibatch 8/8, validation error 67.000000 %\n",
        "epoch 212, minibatch 8/8, validation error 67.000000 %\n",
        "epoch 213, minibatch 8/8, validation error 67.000000 %"
       ]
      },
      {
       "output_type": "stream",
       "stream": "stdout",
       "text": [
        "\n",
        "epoch 214, minibatch 8/8, validation error 67.000000 %\n",
        "epoch 215, minibatch 8/8, validation error 67.000000 %\n",
        "epoch 216, minibatch 8/8, validation error 67.000000 %\n",
        "epoch 217, minibatch 8/8, validation error 67.000000 %"
       ]
      },
      {
       "output_type": "stream",
       "stream": "stdout",
       "text": [
        "\n",
        "epoch 218, minibatch 8/8, validation error 67.000000 %\n",
        "epoch 219, minibatch 8/8, validation error 67.000000 %\n",
        "epoch 220, minibatch 8/8, validation error 67.000000 %\n",
        "epoch 221, minibatch 8/8, validation error 67.000000 %"
       ]
      },
      {
       "output_type": "stream",
       "stream": "stdout",
       "text": [
        "\n",
        "epoch 222, minibatch 8/8, validation error 67.000000 %\n",
        "epoch 223, minibatch 8/8, validation error 67.000000 %\n",
        "epoch 224, minibatch 8/8, validation error 67.000000 %\n",
        "epoch 225, minibatch 8/8, validation error 67.000000 %"
       ]
      },
      {
       "output_type": "stream",
       "stream": "stdout",
       "text": [
        "\n",
        "epoch 226, minibatch 8/8, validation error 67.000000 %\n",
        "epoch 227, minibatch 8/8, validation error 67.000000 %\n",
        "epoch 228, minibatch 8/8, validation error 67.000000 %\n",
        "epoch 229, minibatch 8/8, validation error 67.000000 %"
       ]
      },
      {
       "output_type": "stream",
       "stream": "stdout",
       "text": [
        "\n",
        "epoch 230, minibatch 8/8, validation error 67.000000 %\n",
        "epoch 231, minibatch 8/8, validation error 67.000000 %\n",
        "epoch 232, minibatch 8/8, validation error 67.000000 %\n",
        "epoch 233, minibatch 8/8, validation error 67.000000 %"
       ]
      },
      {
       "output_type": "stream",
       "stream": "stdout",
       "text": [
        "\n",
        "epoch 234, minibatch 8/8, validation error 67.000000 %\n",
        "epoch 235, minibatch 8/8, validation error 67.000000 %\n",
        "epoch 236, minibatch 8/8, validation error 67.000000 %\n",
        "epoch 237, minibatch 8/8, validation error 67.000000 %"
       ]
      },
      {
       "output_type": "stream",
       "stream": "stdout",
       "text": [
        "\n",
        "epoch 238, minibatch 8/8, validation error 67.000000 %\n",
        "epoch 239, minibatch 8/8, validation error 67.000000 %\n",
        "epoch 240, minibatch 8/8, validation error 67.000000 %\n",
        "epoch 241, minibatch 8/8, validation error 67.000000 %"
       ]
      },
      {
       "output_type": "stream",
       "stream": "stdout",
       "text": [
        "\n",
        "epoch 242, minibatch 8/8, validation error 67.000000 %\n",
        "epoch 243, minibatch 8/8, validation error 67.000000 %\n",
        "epoch 244, minibatch 8/8, validation error 67.000000 %\n",
        "epoch 245, minibatch 8/8, validation error 67.000000 %"
       ]
      },
      {
       "output_type": "stream",
       "stream": "stdout",
       "text": [
        "\n",
        "epoch 246, minibatch 8/8, validation error 67.000000 %\n",
        "epoch 247, minibatch 8/8, validation error 67.000000 %\n",
        "epoch 248, minibatch 8/8, validation error 67.000000 %\n",
        "epoch 249, minibatch 8/8, validation error 67.000000 %"
       ]
      },
      {
       "output_type": "stream",
       "stream": "stdout",
       "text": [
        "\n",
        "epoch 250, minibatch 8/8, validation error 67.000000 %\n",
        "epoch 251, minibatch 8/8, validation error 67.000000 %\n",
        "epoch 252, minibatch 8/8, validation error 67.000000 %\n",
        "epoch 253, minibatch 8/8, validation error 67.000000 %"
       ]
      },
      {
       "output_type": "stream",
       "stream": "stdout",
       "text": [
        "\n",
        "epoch 254, minibatch 8/8, validation error 67.000000 %\n",
        "epoch 255, minibatch 8/8, validation error 67.500000 %\n",
        "epoch 256, minibatch 8/8, validation error 67.500000 %\n",
        "epoch 257, minibatch 8/8, validation error 67.500000 %"
       ]
      },
      {
       "output_type": "stream",
       "stream": "stdout",
       "text": [
        "\n",
        "epoch 258, minibatch 8/8, validation error 67.500000 %\n",
        "epoch 259, minibatch 8/8, validation error 67.500000 %\n",
        "epoch 260, minibatch 8/8, validation error 67.500000 %\n",
        "epoch 261, minibatch 8/8, validation error 67.500000 %"
       ]
      },
      {
       "output_type": "stream",
       "stream": "stdout",
       "text": [
        "\n",
        "epoch 262, minibatch 8/8, validation error 67.500000 %\n",
        "epoch 263, minibatch 8/8, validation error 68.000000 %\n",
        "epoch 264, minibatch 8/8, validation error 68.000000 %\n",
        "epoch 265, minibatch 8/8, validation error 68.000000 %"
       ]
      },
      {
       "output_type": "stream",
       "stream": "stdout",
       "text": [
        "\n",
        "epoch 266, minibatch 8/8, validation error 68.000000 %\n",
        "epoch 267, minibatch 8/8, validation error 68.000000 %\n",
        "epoch 268, minibatch 8/8, validation error 68.000000 %\n",
        "epoch 269, minibatch 8/8, validation error 68.000000 %"
       ]
      },
      {
       "output_type": "stream",
       "stream": "stdout",
       "text": [
        "\n",
        "epoch 270, minibatch 8/8, validation error 68.000000 %\n",
        "epoch 271, minibatch 8/8, validation error 68.000000 %\n",
        "epoch 272, minibatch 8/8, validation error 68.000000 %\n",
        "epoch 273, minibatch 8/8, validation error 68.000000 %"
       ]
      },
      {
       "output_type": "stream",
       "stream": "stdout",
       "text": [
        "\n",
        "epoch 274, minibatch 8/8, validation error 68.000000 %\n",
        "epoch 275, minibatch 8/8, validation error 68.000000 %\n",
        "epoch 276, minibatch 8/8, validation error 68.000000 %\n",
        "epoch 277, minibatch 8/8, validation error 68.000000 %"
       ]
      },
      {
       "output_type": "stream",
       "stream": "stdout",
       "text": [
        "\n",
        "epoch 278, minibatch 8/8, validation error 68.000000 %\n",
        "epoch 279, minibatch 8/8, validation error 68.000000 %\n",
        "epoch 280, minibatch 8/8, validation error 68.000000 %\n",
        "epoch 281, minibatch 8/8, validation error 68.000000 %"
       ]
      },
      {
       "output_type": "stream",
       "stream": "stdout",
       "text": [
        "\n",
        "epoch 282, minibatch 8/8, validation error 68.000000 %\n",
        "epoch 283, minibatch 8/8, validation error 68.000000 %\n",
        "epoch 284, minibatch 8/8, validation error 68.000000 %\n",
        "epoch 285, minibatch 8/8, validation error 68.000000 %"
       ]
      },
      {
       "output_type": "stream",
       "stream": "stdout",
       "text": [
        "\n",
        "epoch 286, minibatch 8/8, validation error 68.000000 %\n",
        "epoch 287, minibatch 8/8, validation error 68.000000 %\n",
        "epoch 288, minibatch 8/8, validation error 68.000000 %\n",
        "epoch 289, minibatch 8/8, validation error 68.000000 %"
       ]
      },
      {
       "output_type": "stream",
       "stream": "stdout",
       "text": [
        "\n",
        "epoch 290, minibatch 8/8, validation error 68.000000 %\n",
        "epoch 291, minibatch 8/8, validation error 68.000000 %\n",
        "epoch 292, minibatch 8/8, validation error 68.000000 %\n",
        "epoch 293, minibatch 8/8, validation error 68.000000 %"
       ]
      },
      {
       "output_type": "stream",
       "stream": "stdout",
       "text": [
        "\n",
        "epoch 294, minibatch 8/8, validation error 68.000000 %\n",
        "epoch 295, minibatch 8/8, validation error 68.000000 %\n",
        "epoch 296, minibatch 8/8, validation error 68.000000 %\n",
        "epoch 297, minibatch 8/8, validation error 68.000000 %"
       ]
      },
      {
       "output_type": "stream",
       "stream": "stdout",
       "text": [
        "\n",
        "epoch 298, minibatch 8/8, validation error 68.000000 %\n",
        "epoch 299, minibatch 8/8, validation error 68.000000 %\n",
        "epoch 300, minibatch 8/8, validation error 68.000000 %\n",
        "epoch 301, minibatch 8/8, validation error 68.000000 %"
       ]
      },
      {
       "output_type": "stream",
       "stream": "stdout",
       "text": [
        "\n",
        "epoch 302, minibatch 8/8, validation error 68.000000 %\n",
        "epoch 303, minibatch 8/8, validation error 68.000000 %\n",
        "epoch 304, minibatch 8/8, validation error 68.000000 %\n",
        "epoch 305, minibatch 8/8, validation error 68.000000 %"
       ]
      },
      {
       "output_type": "stream",
       "stream": "stdout",
       "text": [
        "\n",
        "epoch 306, minibatch 8/8, validation error 68.000000 %\n",
        "epoch 307, minibatch 8/8, validation error 68.000000 %\n",
        "epoch 308, minibatch 8/8, validation error 68.000000 %\n",
        "epoch 309, minibatch 8/8, validation error 68.000000 %"
       ]
      },
      {
       "output_type": "stream",
       "stream": "stdout",
       "text": [
        "\n",
        "epoch 310, minibatch 8/8, validation error 68.000000 %\n",
        "epoch 311, minibatch 8/8, validation error 68.000000 %\n",
        "epoch 312, minibatch 8/8, validation error 68.000000 %\n",
        "epoch 313, minibatch 8/8, validation error 68.000000 %"
       ]
      },
      {
       "output_type": "stream",
       "stream": "stdout",
       "text": [
        "\n",
        "epoch 314, minibatch 8/8, validation error 68.000000 %\n",
        "epoch 315, minibatch 8/8, validation error 68.000000 %\n",
        "epoch 316, minibatch 8/8, validation error 68.000000 %\n",
        "epoch 317, minibatch 8/8, validation error 68.000000 %"
       ]
      },
      {
       "output_type": "stream",
       "stream": "stdout",
       "text": [
        "\n",
        "epoch 318, minibatch 8/8, validation error 68.000000 %\n",
        "epoch 319, minibatch 8/8, validation error 68.000000 %\n",
        "epoch 320, minibatch 8/8, validation error 68.000000 %\n",
        "epoch 321, minibatch 8/8, validation error 68.000000 %"
       ]
      },
      {
       "output_type": "stream",
       "stream": "stdout",
       "text": [
        "\n",
        "epoch 322, minibatch 8/8, validation error 68.000000 %\n",
        "epoch 323, minibatch 8/8, validation error 68.000000 %\n",
        "epoch 324, minibatch 8/8, validation error 68.000000 %\n",
        "epoch 325, minibatch 8/8, validation error 68.000000 %"
       ]
      },
      {
       "output_type": "stream",
       "stream": "stdout",
       "text": [
        "\n",
        "epoch 326, minibatch 8/8, validation error 68.500000 %\n",
        "epoch 327, minibatch 8/8, validation error 68.500000 %\n",
        "epoch 328, minibatch 8/8, validation error 68.500000 %\n",
        "epoch 329, minibatch 8/8, validation error 68.500000 %"
       ]
      },
      {
       "output_type": "stream",
       "stream": "stdout",
       "text": [
        "\n",
        "epoch 330, minibatch 8/8, validation error 68.500000 %\n",
        "epoch 331, minibatch 8/8, validation error 68.500000 %\n",
        "epoch 332, minibatch 8/8, validation error 68.500000 %\n",
        "epoch 333, minibatch 8/8, validation error 68.500000 %"
       ]
      },
      {
       "output_type": "stream",
       "stream": "stdout",
       "text": [
        "\n",
        "epoch 334, minibatch 8/8, validation error 68.500000 %\n",
        "epoch 335, minibatch 8/8, validation error 68.500000 %\n",
        "epoch 336, minibatch 8/8, validation error 68.500000 %\n",
        "epoch 337, minibatch 8/8, validation error 68.500000 %"
       ]
      },
      {
       "output_type": "stream",
       "stream": "stdout",
       "text": [
        "\n",
        "epoch 338, minibatch 8/8, validation error 68.500000 %\n",
        "epoch 339, minibatch 8/8, validation error 68.500000 %\n",
        "epoch 340, minibatch 8/8, validation error 68.500000 %\n",
        "epoch 341, minibatch 8/8, validation error 68.500000 %"
       ]
      },
      {
       "output_type": "stream",
       "stream": "stdout",
       "text": [
        "\n",
        "epoch 342, minibatch 8/8, validation error 68.500000 %\n",
        "epoch 343, minibatch 8/8, validation error 68.500000 %\n",
        "epoch 344, minibatch 8/8, validation error 68.500000 %\n",
        "epoch 345, minibatch 8/8, validation error 68.500000 %"
       ]
      },
      {
       "output_type": "stream",
       "stream": "stdout",
       "text": [
        "\n",
        "epoch 346, minibatch 8/8, validation error 68.500000 %\n",
        "epoch 347, minibatch 8/8, validation error 68.500000 %\n",
        "epoch 348, minibatch 8/8, validation error 68.500000 %\n",
        "epoch 349, minibatch 8/8, validation error 68.500000 %"
       ]
      },
      {
       "output_type": "stream",
       "stream": "stdout",
       "text": [
        "\n",
        "epoch 350, minibatch 8/8, validation error 68.500000 %\n",
        "epoch 351, minibatch 8/8, validation error 68.500000 %\n",
        "epoch 352, minibatch 8/8, validation error 68.500000 %\n",
        "epoch 353, minibatch 8/8, validation error 68.500000 %"
       ]
      },
      {
       "output_type": "stream",
       "stream": "stdout",
       "text": [
        "\n",
        "epoch 354, minibatch 8/8, validation error 68.500000 %\n",
        "epoch 355, minibatch 8/8, validation error 68.500000 %\n",
        "epoch 356, minibatch 8/8, validation error 68.500000 %\n",
        "epoch 357, minibatch 8/8, validation error 68.500000 %"
       ]
      },
      {
       "output_type": "stream",
       "stream": "stdout",
       "text": [
        "\n",
        "epoch 358, minibatch 8/8, validation error 68.500000 %\n",
        "epoch 359, minibatch 8/8, validation error 68.500000 %\n",
        "epoch 360, minibatch 8/8, validation error 68.500000 %\n",
        "epoch 361, minibatch 8/8, validation error 68.500000 %"
       ]
      },
      {
       "output_type": "stream",
       "stream": "stdout",
       "text": [
        "\n",
        "epoch 362, minibatch 8/8, validation error 68.500000 %\n",
        "epoch 363, minibatch 8/8, validation error 68.500000 %\n",
        "epoch 364, minibatch 8/8, validation error 68.500000 %\n",
        "epoch 365, minibatch 8/8, validation error 68.500000 %"
       ]
      },
      {
       "output_type": "stream",
       "stream": "stdout",
       "text": [
        "\n",
        "epoch 366, minibatch 8/8, validation error 68.500000 %\n",
        "epoch 367, minibatch 8/8, validation error 68.500000 %\n",
        "epoch 368, minibatch 8/8, validation error 68.500000 %\n",
        "epoch 369, minibatch 8/8, validation error 68.500000 %"
       ]
      },
      {
       "output_type": "stream",
       "stream": "stdout",
       "text": [
        "\n",
        "epoch 370, minibatch 8/8, validation error 68.500000 %\n",
        "epoch 371, minibatch 8/8, validation error 68.500000 %\n",
        "epoch 372, minibatch 8/8, validation error 68.500000 %\n",
        "epoch 373, minibatch 8/8, validation error 68.500000 %"
       ]
      },
      {
       "output_type": "stream",
       "stream": "stdout",
       "text": [
        "\n",
        "epoch 374, minibatch 8/8, validation error 68.500000 %\n",
        "epoch 375, minibatch 8/8, validation error 68.500000 %\n",
        "epoch 376, minibatch 8/8, validation error 68.500000 %\n",
        "epoch 377, minibatch 8/8, validation error 68.500000 %"
       ]
      },
      {
       "output_type": "stream",
       "stream": "stdout",
       "text": [
        "\n",
        "epoch 378, minibatch 8/8, validation error 68.500000 %\n",
        "epoch 379, minibatch 8/8, validation error 68.500000 %\n",
        "epoch 380, minibatch 8/8, validation error 68.500000 %\n",
        "epoch 381, minibatch 8/8, validation error 68.500000 %"
       ]
      },
      {
       "output_type": "stream",
       "stream": "stdout",
       "text": [
        "\n",
        "epoch 382, minibatch 8/8, validation error 68.500000 %\n",
        "epoch 383, minibatch 8/8, validation error 68.500000 %\n",
        "epoch 384, minibatch 8/8, validation error 68.500000 %\n",
        "epoch 385, minibatch 8/8, validation error 68.500000 %"
       ]
      },
      {
       "output_type": "stream",
       "stream": "stdout",
       "text": [
        "\n",
        "epoch 386, minibatch 8/8, validation error 68.500000 %\n",
        "epoch 387, minibatch 8/8, validation error 68.500000 %\n",
        "epoch 388, minibatch 8/8, validation error 68.500000 %\n",
        "epoch 389, minibatch 8/8, validation error 68.500000 %"
       ]
      },
      {
       "output_type": "stream",
       "stream": "stdout",
       "text": [
        "\n",
        "epoch 390, minibatch 8/8, validation error 68.500000 %\n",
        "epoch 391, minibatch 8/8, validation error 68.500000 %\n",
        "epoch 392, minibatch 8/8, validation error 68.500000 %\n",
        "epoch 393, minibatch 8/8, validation error 68.500000 %"
       ]
      },
      {
       "output_type": "stream",
       "stream": "stdout",
       "text": [
        "\n",
        "epoch 394, minibatch 8/8, validation error 68.500000 %\n",
        "epoch 395, minibatch 8/8, validation error 68.500000 %\n",
        "epoch 396, minibatch 8/8, validation error 68.500000 %\n",
        "epoch 397, minibatch 8/8, validation error 68.500000 %"
       ]
      },
      {
       "output_type": "stream",
       "stream": "stdout",
       "text": [
        "\n",
        "epoch 398, minibatch 8/8, validation error 68.500000 %\n",
        "epoch 399, minibatch 8/8, validation error 68.500000 %\n",
        "epoch 400, minibatch 8/8, validation error 68.500000 %\n",
        "epoch 401, minibatch 8/8, validation error 68.500000 %"
       ]
      },
      {
       "output_type": "stream",
       "stream": "stdout",
       "text": [
        "\n",
        "epoch 402, minibatch 8/8, validation error 68.500000 %\n",
        "epoch 403, minibatch 8/8, validation error 68.500000 %\n",
        "epoch 404, minibatch 8/8, validation error 68.500000 %\n",
        "epoch 405, minibatch 8/8, validation error 68.500000 %"
       ]
      },
      {
       "output_type": "stream",
       "stream": "stdout",
       "text": [
        "\n",
        "epoch 406, minibatch 8/8, validation error 68.500000 %\n",
        "epoch 407, minibatch 8/8, validation error 68.500000 %\n",
        "epoch 408, minibatch 8/8, validation error 68.500000 %\n",
        "epoch 409, minibatch 8/8, validation error 68.500000 %"
       ]
      },
      {
       "output_type": "stream",
       "stream": "stdout",
       "text": [
        "\n",
        "epoch 410, minibatch 8/8, validation error 68.500000 %\n",
        "epoch 411, minibatch 8/8, validation error 69.000000 %\n",
        "epoch 412, minibatch 8/8, validation error 69.000000 %\n",
        "epoch 413, minibatch 8/8, validation error 69.000000 %"
       ]
      },
      {
       "output_type": "stream",
       "stream": "stdout",
       "text": [
        "\n",
        "epoch 414, minibatch 8/8, validation error 69.000000 %\n",
        "epoch 415, minibatch 8/8, validation error 69.000000 %\n",
        "epoch 416, minibatch 8/8, validation error 69.000000 %\n",
        "epoch 417, minibatch 8/8, validation error 69.000000 %"
       ]
      },
      {
       "output_type": "stream",
       "stream": "stdout",
       "text": [
        "\n",
        "epoch 418, minibatch 8/8, validation error 69.000000 %\n",
        "epoch 419, minibatch 8/8, validation error 69.000000 %\n",
        "epoch 420, minibatch 8/8, validation error 69.000000 %\n",
        "epoch 421, minibatch 8/8, validation error 69.000000 %"
       ]
      },
      {
       "output_type": "stream",
       "stream": "stdout",
       "text": [
        "\n",
        "epoch 422, minibatch 8/8, validation error 69.000000 %\n",
        "epoch 423, minibatch 8/8, validation error 69.000000 %\n",
        "epoch 424, minibatch 8/8, validation error 69.000000 %\n",
        "epoch 425, minibatch 8/8, validation error 69.000000 %"
       ]
      },
      {
       "output_type": "stream",
       "stream": "stdout",
       "text": [
        "\n",
        "epoch 426, minibatch 8/8, validation error 69.500000 %\n",
        "epoch 427, minibatch 8/8, validation error 69.500000 %\n",
        "epoch 428, minibatch 8/8, validation error 69.500000 %\n",
        "epoch 429, minibatch 8/8, validation error 69.500000 %"
       ]
      },
      {
       "output_type": "stream",
       "stream": "stdout",
       "text": [
        "\n",
        "epoch 430, minibatch 8/8, validation error 69.500000 %\n",
        "epoch 431, minibatch 8/8, validation error 69.500000 %\n",
        "epoch 432, minibatch 8/8, validation error 69.500000 %\n",
        "epoch 433, minibatch 8/8, validation error 69.500000 %"
       ]
      },
      {
       "output_type": "stream",
       "stream": "stdout",
       "text": [
        "\n",
        "epoch 434, minibatch 8/8, validation error 69.500000 %\n",
        "epoch 435, minibatch 8/8, validation error 69.500000 %\n",
        "epoch 436, minibatch 8/8, validation error 69.500000 %\n",
        "epoch 437, minibatch 8/8, validation error 70.000000 %"
       ]
      },
      {
       "output_type": "stream",
       "stream": "stdout",
       "text": [
        "\n",
        "epoch 438, minibatch 8/8, validation error 70.000000 %\n",
        "epoch 439, minibatch 8/8, validation error 70.000000 %\n",
        "epoch 440, minibatch 8/8, validation error 70.000000 %\n",
        "epoch 441, minibatch 8/8, validation error 70.000000 %"
       ]
      },
      {
       "output_type": "stream",
       "stream": "stdout",
       "text": [
        "\n",
        "epoch 442, minibatch 8/8, validation error 70.000000 %\n",
        "epoch 443, minibatch 8/8, validation error 70.000000 %\n",
        "epoch 444, minibatch 8/8, validation error 70.000000 %\n",
        "epoch 445, minibatch 8/8, validation error 70.000000 %"
       ]
      },
      {
       "output_type": "stream",
       "stream": "stdout",
       "text": [
        "\n",
        "epoch 446, minibatch 8/8, validation error 70.000000 %\n",
        "epoch 447, minibatch 8/8, validation error 70.000000 %\n",
        "epoch 448, minibatch 8/8, validation error 70.000000 %\n",
        "epoch 449, minibatch 8/8, validation error 70.000000 %"
       ]
      },
      {
       "output_type": "stream",
       "stream": "stdout",
       "text": [
        "\n",
        "epoch 450, minibatch 8/8, validation error 70.000000 %\n",
        "epoch 451, minibatch 8/8, validation error 70.000000 %\n",
        "epoch 452, minibatch 8/8, validation error 70.000000 %\n",
        "epoch 453, minibatch 8/8, validation error 70.000000 %"
       ]
      },
      {
       "output_type": "stream",
       "stream": "stdout",
       "text": [
        "\n",
        "epoch 454, minibatch 8/8, validation error 70.000000 %\n",
        "epoch 455, minibatch 8/8, validation error 70.000000 %\n",
        "epoch 456, minibatch 8/8, validation error 70.000000 %\n",
        "epoch 457, minibatch 8/8, validation error 70.000000 %"
       ]
      },
      {
       "output_type": "stream",
       "stream": "stdout",
       "text": [
        "\n",
        "epoch 458, minibatch 8/8, validation error 70.000000 %\n",
        "epoch 459, minibatch 8/8, validation error 70.000000 %\n",
        "epoch 460, minibatch 8/8, validation error 70.000000 %\n",
        "epoch 461, minibatch 8/8, validation error 70.000000 %"
       ]
      },
      {
       "output_type": "stream",
       "stream": "stdout",
       "text": [
        "\n",
        "epoch 462, minibatch 8/8, validation error 70.000000 %\n",
        "epoch 463, minibatch 8/8, validation error 70.000000 %\n",
        "epoch 464, minibatch 8/8, validation error 70.000000 %\n",
        "epoch 465, minibatch 8/8, validation error 70.000000 %"
       ]
      },
      {
       "output_type": "stream",
       "stream": "stdout",
       "text": [
        "\n",
        "epoch 466, minibatch 8/8, validation error 70.500000 %\n",
        "epoch 467, minibatch 8/8, validation error 70.500000 %\n",
        "epoch 468, minibatch 8/8, validation error 70.500000 %\n",
        "epoch 469, minibatch 8/8, validation error 70.500000 %"
       ]
      },
      {
       "output_type": "stream",
       "stream": "stdout",
       "text": [
        "\n",
        "epoch 470, minibatch 8/8, validation error 70.500000 %\n",
        "epoch 471, minibatch 8/8, validation error 70.500000 %\n",
        "epoch 472, minibatch 8/8, validation error 70.500000 %\n",
        "epoch 473, minibatch 8/8, validation error 70.500000 %"
       ]
      },
      {
       "output_type": "stream",
       "stream": "stdout",
       "text": [
        "\n",
        "epoch 474, minibatch 8/8, validation error 70.500000 %\n",
        "epoch 475, minibatch 8/8, validation error 70.500000 %\n",
        "epoch 476, minibatch 8/8, validation error 70.500000 %\n",
        "epoch 477, minibatch 8/8, validation error 70.500000 %"
       ]
      },
      {
       "output_type": "stream",
       "stream": "stdout",
       "text": [
        "\n",
        "epoch 478, minibatch 8/8, validation error 70.500000 %\n",
        "epoch 479, minibatch 8/8, validation error 70.500000 %\n",
        "epoch 480, minibatch 8/8, validation error 70.500000 %\n",
        "epoch 481, minibatch 8/8, validation error 70.500000 %"
       ]
      },
      {
       "output_type": "stream",
       "stream": "stdout",
       "text": [
        "\n",
        "epoch 482, minibatch 8/8, validation error 70.500000 %\n",
        "epoch 483, minibatch 8/8, validation error 70.500000 %\n",
        "epoch 484, minibatch 8/8, validation error 70.500000 %\n",
        "epoch 485, minibatch 8/8, validation error 70.500000 %"
       ]
      },
      {
       "output_type": "stream",
       "stream": "stdout",
       "text": [
        "\n",
        "epoch 486, minibatch 8/8, validation error 70.500000 %\n",
        "epoch 487, minibatch 8/8, validation error 70.500000 %\n",
        "epoch 488, minibatch 8/8, validation error 70.500000 %\n",
        "epoch 489, minibatch 8/8, validation error 70.500000 %"
       ]
      },
      {
       "output_type": "stream",
       "stream": "stdout",
       "text": [
        "\n",
        "epoch 490, minibatch 8/8, validation error 70.500000 %\n",
        "epoch 491, minibatch 8/8, validation error 70.500000 %\n",
        "epoch 492, minibatch 8/8, validation error 70.500000 %\n",
        "epoch 493, minibatch 8/8, validation error 70.500000 %"
       ]
      },
      {
       "output_type": "stream",
       "stream": "stdout",
       "text": [
        "\n",
        "epoch 494, minibatch 8/8, validation error 70.500000 %\n",
        "epoch 495, minibatch 8/8, validation error 70.500000 %\n",
        "epoch 496, minibatch 8/8, validation error 70.500000 %\n",
        "epoch 497, minibatch 8/8, validation error 70.500000 %"
       ]
      },
      {
       "output_type": "stream",
       "stream": "stdout",
       "text": [
        "\n",
        "epoch 498, minibatch 8/8, validation error 70.500000 %\n",
        "epoch 499, minibatch 8/8, validation error 70.500000 %\n",
        "epoch 500, minibatch 8/8, validation error 70.500000 %\n",
        "epoch 501, minibatch 8/8, validation error 70.500000 %"
       ]
      },
      {
       "output_type": "stream",
       "stream": "stdout",
       "text": [
        "\n",
        "epoch 502, minibatch 8/8, validation error 70.500000 %\n",
        "epoch 503, minibatch 8/8, validation error 70.500000 %\n",
        "epoch 504, minibatch 8/8, validation error 70.500000 %\n",
        "epoch 505, minibatch 8/8, validation error 70.500000 %"
       ]
      },
      {
       "output_type": "stream",
       "stream": "stdout",
       "text": [
        "\n",
        "epoch 506, minibatch 8/8, validation error 70.500000 %\n",
        "epoch 507, minibatch 8/8, validation error 70.500000 %\n",
        "epoch 508, minibatch 8/8, validation error 70.500000 %\n",
        "epoch 509, minibatch 8/8, validation error 70.500000 %"
       ]
      },
      {
       "output_type": "stream",
       "stream": "stdout",
       "text": [
        "\n",
        "epoch 510, minibatch 8/8, validation error 70.500000 %\n",
        "epoch 511, minibatch 8/8, validation error 70.500000 %\n",
        "epoch 512, minibatch 8/8, validation error 70.500000 %\n",
        "epoch 513, minibatch 8/8, validation error 70.500000 %"
       ]
      },
      {
       "output_type": "stream",
       "stream": "stdout",
       "text": [
        "\n",
        "epoch 514, minibatch 8/8, validation error 70.500000 %\n",
        "epoch 515, minibatch 8/8, validation error 70.500000 %\n",
        "epoch 516, minibatch 8/8, validation error 70.500000 %\n",
        "epoch 517, minibatch 8/8, validation error 70.500000 %"
       ]
      },
      {
       "output_type": "stream",
       "stream": "stdout",
       "text": [
        "\n",
        "epoch 518, minibatch 8/8, validation error 70.500000 %\n",
        "epoch 519, minibatch 8/8, validation error 70.500000 %\n",
        "epoch 520, minibatch 8/8, validation error 70.500000 %\n",
        "epoch 521, minibatch 8/8, validation error 70.500000 %"
       ]
      },
      {
       "output_type": "stream",
       "stream": "stdout",
       "text": [
        "\n",
        "epoch 522, minibatch 8/8, validation error 70.500000 %\n",
        "epoch 523, minibatch 8/8, validation error 70.500000 %\n",
        "epoch 524, minibatch 8/8, validation error 70.500000 %\n",
        "epoch 525, minibatch 8/8, validation error 70.500000 %"
       ]
      },
      {
       "output_type": "stream",
       "stream": "stdout",
       "text": [
        "\n",
        "epoch 526, minibatch 8/8, validation error 70.500000 %\n",
        "epoch 527, minibatch 8/8, validation error 70.500000 %\n",
        "epoch 528, minibatch 8/8, validation error 70.500000 %\n",
        "epoch 529, minibatch 8/8, validation error 70.500000 %"
       ]
      },
      {
       "output_type": "stream",
       "stream": "stdout",
       "text": [
        "\n",
        "epoch 530, minibatch 8/8, validation error 70.500000 %\n",
        "epoch 531, minibatch 8/8, validation error 70.500000 %\n",
        "epoch 532, minibatch 8/8, validation error 70.500000 %\n",
        "epoch 533, minibatch 8/8, validation error 70.500000 %"
       ]
      },
      {
       "output_type": "stream",
       "stream": "stdout",
       "text": [
        "\n",
        "epoch 534, minibatch 8/8, validation error 70.500000 %\n",
        "epoch 535, minibatch 8/8, validation error 70.500000 %\n",
        "epoch 536, minibatch 8/8, validation error 70.500000 %\n",
        "epoch 537, minibatch 8/8, validation error 71.000000 %"
       ]
      },
      {
       "output_type": "stream",
       "stream": "stdout",
       "text": [
        "\n",
        "epoch 538, minibatch 8/8, validation error 71.000000 %\n",
        "epoch 539, minibatch 8/8, validation error 71.000000 %\n",
        "epoch 540, minibatch 8/8, validation error 71.000000 %\n",
        "epoch 541, minibatch 8/8, validation error 71.000000 %"
       ]
      },
      {
       "output_type": "stream",
       "stream": "stdout",
       "text": [
        "\n",
        "epoch 542, minibatch 8/8, validation error 71.000000 %\n",
        "epoch 543, minibatch 8/8, validation error 71.000000 %\n",
        "epoch 544, minibatch 8/8, validation error 71.000000 %\n",
        "epoch 545, minibatch 8/8, validation error 71.000000 %"
       ]
      },
      {
       "output_type": "stream",
       "stream": "stdout",
       "text": [
        "\n",
        "epoch 546, minibatch 8/8, validation error 71.000000 %\n",
        "epoch 547, minibatch 8/8, validation error 71.000000 %\n",
        "epoch 548, minibatch 8/8, validation error 71.000000 %\n",
        "epoch 549, minibatch 8/8, validation error 71.000000 %"
       ]
      },
      {
       "output_type": "stream",
       "stream": "stdout",
       "text": [
        "\n",
        "epoch 550, minibatch 8/8, validation error 71.000000 %\n",
        "epoch 551, minibatch 8/8, validation error 71.000000 %\n",
        "epoch 552, minibatch 8/8, validation error 71.000000 %\n",
        "epoch 553, minibatch 8/8, validation error 71.000000 %"
       ]
      },
      {
       "output_type": "stream",
       "stream": "stdout",
       "text": [
        "\n",
        "epoch 554, minibatch 8/8, validation error 71.000000 %\n",
        "epoch 555, minibatch 8/8, validation error 71.000000 %\n",
        "epoch 556, minibatch 8/8, validation error 71.000000 %\n",
        "epoch 557, minibatch 8/8, validation error 71.000000 %"
       ]
      },
      {
       "output_type": "stream",
       "stream": "stdout",
       "text": [
        "\n",
        "epoch 558, minibatch 8/8, validation error 71.000000 %\n",
        "epoch 559, minibatch 8/8, validation error 71.000000 %\n",
        "epoch 560, minibatch 8/8, validation error 71.000000 %\n",
        "epoch 561, minibatch 8/8, validation error 71.000000 %"
       ]
      },
      {
       "output_type": "stream",
       "stream": "stdout",
       "text": [
        "\n",
        "epoch 562, minibatch 8/8, validation error 71.000000 %\n",
        "epoch 563, minibatch 8/8, validation error 71.000000 %\n",
        "epoch 564, minibatch 8/8, validation error 71.000000 %\n",
        "epoch 565, minibatch 8/8, validation error 71.000000 %"
       ]
      },
      {
       "output_type": "stream",
       "stream": "stdout",
       "text": [
        "\n",
        "epoch 566, minibatch 8/8, validation error 71.000000 %\n",
        "epoch 567, minibatch 8/8, validation error 71.000000 %\n",
        "epoch 568, minibatch 8/8, validation error 71.000000 %\n",
        "epoch 569, minibatch 8/8, validation error 71.000000 %"
       ]
      },
      {
       "output_type": "stream",
       "stream": "stdout",
       "text": [
        "\n",
        "epoch 570, minibatch 8/8, validation error 71.000000 %\n",
        "epoch 571, minibatch 8/8, validation error 71.000000 %\n",
        "epoch 572, minibatch 8/8, validation error 71.000000 %\n",
        "epoch 573, minibatch 8/8, validation error 71.000000 %"
       ]
      },
      {
       "output_type": "stream",
       "stream": "stdout",
       "text": [
        "\n",
        "epoch 574, minibatch 8/8, validation error 71.000000 %\n",
        "epoch 575, minibatch 8/8, validation error 71.000000 %\n",
        "epoch 576, minibatch 8/8, validation error 71.000000 %\n",
        "epoch 577, minibatch 8/8, validation error 71.000000 %"
       ]
      },
      {
       "output_type": "stream",
       "stream": "stdout",
       "text": [
        "\n",
        "epoch 578, minibatch 8/8, validation error 71.000000 %\n",
        "epoch 579, minibatch 8/8, validation error 71.000000 %\n",
        "epoch 580, minibatch 8/8, validation error 71.000000 %\n",
        "epoch 581, minibatch 8/8, validation error 71.000000 %"
       ]
      },
      {
       "output_type": "stream",
       "stream": "stdout",
       "text": [
        "\n",
        "epoch 582, minibatch 8/8, validation error 71.000000 %\n",
        "epoch 583, minibatch 8/8, validation error 71.000000 %\n",
        "epoch 584, minibatch 8/8, validation error 71.000000 %\n",
        "epoch 585, minibatch 8/8, validation error 71.000000 %"
       ]
      },
      {
       "output_type": "stream",
       "stream": "stdout",
       "text": [
        "\n",
        "epoch 586, minibatch 8/8, validation error 71.000000 %\n",
        "epoch 587, minibatch 8/8, validation error 71.000000 %\n",
        "epoch 588, minibatch 8/8, validation error 71.500000 %\n",
        "epoch 589, minibatch 8/8, validation error 71.500000 %"
       ]
      },
      {
       "output_type": "stream",
       "stream": "stdout",
       "text": [
        "\n",
        "epoch 590, minibatch 8/8, validation error 71.500000 %\n",
        "epoch 591, minibatch 8/8, validation error 71.500000 %\n",
        "epoch 592, minibatch 8/8, validation error 71.500000 %\n",
        "epoch 593, minibatch 8/8, validation error 71.500000 %"
       ]
      },
      {
       "output_type": "stream",
       "stream": "stdout",
       "text": [
        "\n",
        "epoch 594, minibatch 8/8, validation error 71.500000 %\n",
        "epoch 595, minibatch 8/8, validation error 71.500000 %\n",
        "epoch 596, minibatch 8/8, validation error 71.500000 %\n",
        "epoch 597, minibatch 8/8, validation error 71.500000 %"
       ]
      },
      {
       "output_type": "stream",
       "stream": "stdout",
       "text": [
        "\n",
        "epoch 598, minibatch 8/8, validation error 71.500000 %\n",
        "epoch 599, minibatch 8/8, validation error 71.500000 %\n",
        "epoch 600, minibatch 8/8, validation error 71.500000 %\n",
        "epoch 601, minibatch 8/8, validation error 71.500000 %"
       ]
      },
      {
       "output_type": "stream",
       "stream": "stdout",
       "text": [
        "\n",
        "epoch 602, minibatch 8/8, validation error 71.500000 %\n",
        "epoch 603, minibatch 8/8, validation error 71.500000 %\n",
        "epoch 604, minibatch 8/8, validation error 71.500000 %\n",
        "epoch 605, minibatch 8/8, validation error 71.500000 %"
       ]
      },
      {
       "output_type": "stream",
       "stream": "stdout",
       "text": [
        "\n",
        "epoch 606, minibatch 8/8, validation error 71.500000 %\n",
        "epoch 607, minibatch 8/8, validation error 71.500000 %\n",
        "epoch 608, minibatch 8/8, validation error 71.500000 %\n",
        "epoch 609, minibatch 8/8, validation error 71.500000 %"
       ]
      },
      {
       "output_type": "stream",
       "stream": "stdout",
       "text": [
        "\n",
        "epoch 610, minibatch 8/8, validation error 71.500000 %\n",
        "epoch 611, minibatch 8/8, validation error 71.500000 %\n",
        "epoch 612, minibatch 8/8, validation error 71.500000 %\n",
        "epoch 613, minibatch 8/8, validation error 71.500000 %"
       ]
      },
      {
       "output_type": "stream",
       "stream": "stdout",
       "text": [
        "\n",
        "epoch 614, minibatch 8/8, validation error 71.500000 %\n",
        "epoch 615, minibatch 8/8, validation error 71.500000 %\n",
        "epoch 616, minibatch 8/8, validation error 71.500000 %\n",
        "epoch 617, minibatch 8/8, validation error 71.500000 %"
       ]
      },
      {
       "output_type": "stream",
       "stream": "stdout",
       "text": [
        "\n",
        "epoch 618, minibatch 8/8, validation error 71.500000 %\n",
        "epoch 619, minibatch 8/8, validation error 71.500000 %\n",
        "epoch 620, minibatch 8/8, validation error 71.500000 %\n",
        "epoch 621, minibatch 8/8, validation error 71.500000 %"
       ]
      },
      {
       "output_type": "stream",
       "stream": "stdout",
       "text": [
        "\n",
        "epoch 622, minibatch 8/8, validation error 71.500000 %\n",
        "epoch 623, minibatch 8/8, validation error 71.500000 %\n",
        "epoch 624, minibatch 8/8, validation error 71.500000 %\n",
        "epoch 625, minibatch 8/8, validation error 71.500000 %"
       ]
      },
      {
       "output_type": "stream",
       "stream": "stdout",
       "text": [
        "\n",
        "Optimization complete with best validation score 42.500000 %\n",
        "classification error for blackbox data: "
       ]
      },
      {
       "output_type": "stream",
       "stream": "stdout",
       "text": [
        "0.369\n"
       ]
      }
     ],
     "prompt_number": 20
    },
    {
     "cell_type": "code",
     "collapsed": false,
     "input": [
      "## TEST Logistic Regression with CG on blackbox data\n",
      "raw_X, raw_y = cPickle.load(open('data/blackbox.pkl', 'rb'))\n",
      "print raw_X.shape, raw_y.shape\n",
      "## reencode y classes \n",
      "raw_y = raw_y -1\n",
      "classes = np.unique(raw_y)\n",
      "print classes\n",
      "reload(theanoml.logistic_regression)\n",
      "model = theanoml.logistic_regression.LogisticRegression(classes, optimizer='cg', verbose = True, batch_size=100)\n",
      "shared_X, shared_y = model._share_data(raw_X), model._share_data(raw_y, dtype='int32')\n",
      "print shared_X, shared_y\n",
      "model.fit(raw_X, raw_y)\n",
      "print 'classification error for blackbox data:', model.score(raw_X, raw_y)\n",
      "model.partial_fit(raw_X, raw_y)\n",
      "print 'classification error for blackbox data:', model.score(raw_X, raw_y)"
     ],
     "language": "python",
     "metadata": {},
     "outputs": [
      {
       "output_type": "stream",
       "stream": "stdout",
       "text": [
        "(1000, 1875) (1000,)\n",
        "[0 1 2 3 4 5 6 7 8]\n",
        "<TensorType(float64, matrix)> Elemwise{Cast{int32}}.0\n",
        "Training LogisticRegression modle with CG ...\n",
        "validation error"
       ]
      },
      {
       "output_type": "stream",
       "stream": "stdout",
       "text": [
        " 0.83\n",
        "validation error 0.81\n",
        "validation error"
       ]
      },
      {
       "output_type": "stream",
       "stream": "stdout",
       "text": [
        " 0.82\n",
        "validation error 0.795\n",
        "validation error"
       ]
      },
      {
       "output_type": "stream",
       "stream": "stdout",
       "text": [
        " 0.815\n",
        "validation error 0.815\n",
        "validation error"
       ]
      },
      {
       "output_type": "stream",
       "stream": "stdout",
       "text": [
        " 0.815\n",
        "validation error 0.78\n",
        "validation error"
       ]
      },
      {
       "output_type": "stream",
       "stream": "stdout",
       "text": [
        " 0.775\n",
        "validation error 0.79\n",
        "validation error"
       ]
      },
      {
       "output_type": "stream",
       "stream": "stdout",
       "text": [
        " 0.79\n",
        "validation error 0.805\n",
        "validation error"
       ]
      },
      {
       "output_type": "stream",
       "stream": "stdout",
       "text": [
        " 0.8\n",
        "validation error 0.81\n",
        "validation error"
       ]
      },
      {
       "output_type": "stream",
       "stream": "stdout",
       "text": [
        " 0.795\n",
        "validation error 0.78\n",
        "validation error"
       ]
      },
      {
       "output_type": "stream",
       "stream": "stdout",
       "text": [
        " 0.78\n",
        "validation error 0.79\n",
        "validation error"
       ]
      },
      {
       "output_type": "stream",
       "stream": "stdout",
       "text": [
        " 0.775\n",
        "validation error 0.765\n",
        "validation error 0.8\n",
        "validation error"
       ]
      },
      {
       "output_type": "stream",
       "stream": "stdout",
       "text": [
        " 0.795\n",
        "validation error 0.8\n",
        "validation error"
       ]
      },
      {
       "output_type": "stream",
       "stream": "stdout",
       "text": [
        " 0.805\n",
        "validation error 0.8\n",
        "validation error"
       ]
      },
      {
       "output_type": "stream",
       "stream": "stdout",
       "text": [
        " 0.805\n",
        "validation error 0.81\n",
        "validation error 0.79\n",
        "validation error"
       ]
      },
      {
       "output_type": "stream",
       "stream": "stdout",
       "text": [
        " 0.785\n",
        "validation error 0.79\n",
        "validation error"
       ]
      },
      {
       "output_type": "stream",
       "stream": "stdout",
       "text": [
        " 0.8\n",
        "validation error 0.81\n",
        "validation error"
       ]
      },
      {
       "output_type": "stream",
       "stream": "stdout",
       "text": [
        " 0.81\n",
        "validation error 0.81\n",
        "validation error"
       ]
      },
      {
       "output_type": "stream",
       "stream": "stdout",
       "text": [
        " 0.8\n",
        "validation error 0.805\n",
        "validation error"
       ]
      },
      {
       "output_type": "stream",
       "stream": "stdout",
       "text": [
        " 0.795\n",
        "validation error 0.795\n",
        "validation error"
       ]
      },
      {
       "output_type": "stream",
       "stream": "stdout",
       "text": [
        " 0.785\n",
        "validation error 0.8\n",
        "validation error"
       ]
      },
      {
       "output_type": "stream",
       "stream": "stdout",
       "text": [
        " 0.805\n",
        "validation error 0.79\n",
        "validation error 0.785\n",
        "validation error"
       ]
      },
      {
       "output_type": "stream",
       "stream": "stdout",
       "text": [
        " 0.775\n",
        "validation error 0.765\n",
        "validation error 0.785\n",
        "validation error"
       ]
      },
      {
       "output_type": "stream",
       "stream": "stdout",
       "text": [
        " 0.785\n",
        "validation error 0.785\n",
        "validation error"
       ]
      },
      {
       "output_type": "stream",
       "stream": "stdout",
       "text": [
        " 0.79\n",
        "validation error 0.785\n",
        "classification error for blackbox data: "
       ]
      },
      {
       "output_type": "stream",
       "stream": "stdout",
       "text": [
        "0.5\n",
        "Training LogisticRegression modle with CG ...\n",
        "validation error"
       ]
      },
      {
       "output_type": "stream",
       "stream": "stdout",
       "text": [
        " 0.835\n",
        "validation error 0.845\n",
        "validation error"
       ]
      },
      {
       "output_type": "stream",
       "stream": "stdout",
       "text": [
        " 0.81\n",
        "validation error 0.825\n",
        "validation error"
       ]
      },
      {
       "output_type": "stream",
       "stream": "stdout",
       "text": [
        " 0.845\n",
        "validation error 0.84\n",
        "validation error"
       ]
      },
      {
       "output_type": "stream",
       "stream": "stdout",
       "text": [
        " 0.845\n",
        "validation error 0.815\n",
        "validation error"
       ]
      },
      {
       "output_type": "stream",
       "stream": "stdout",
       "text": [
        " 0.81\n",
        "validation error 0.82\n",
        "validation error"
       ]
      },
      {
       "output_type": "stream",
       "stream": "stdout",
       "text": [
        " 0.81\n",
        "validation error 0.8\n",
        "validation error 0.805\n",
        "validation error"
       ]
      },
      {
       "output_type": "stream",
       "stream": "stdout",
       "text": [
        " 0.805\n",
        "validation error 0.815\n",
        "validation error 0.815\n",
        "validation error"
       ]
      },
      {
       "output_type": "stream",
       "stream": "stdout",
       "text": [
        " 0.81\n",
        "validation error 0.825\n",
        "validation error"
       ]
      },
      {
       "output_type": "stream",
       "stream": "stdout",
       "text": [
        " 0.825\n",
        "validation error 0.835\n",
        "validation error"
       ]
      },
      {
       "output_type": "stream",
       "stream": "stdout",
       "text": [
        " 0.805\n",
        "validation error 0.805\n",
        "validation error"
       ]
      },
      {
       "output_type": "stream",
       "stream": "stdout",
       "text": [
        " 0.805\n",
        "validation error 0.81\n",
        "validation error"
       ]
      },
      {
       "output_type": "stream",
       "stream": "stdout",
       "text": [
        " 0.82\n",
        "validation error 0.805\n",
        "validation error 0.805\n",
        "validation error"
       ]
      },
      {
       "output_type": "stream",
       "stream": "stdout",
       "text": [
        " 0.795\n",
        "validation error 0.805\n",
        "validation error"
       ]
      },
      {
       "output_type": "stream",
       "stream": "stdout",
       "text": [
        " 0.81\n",
        "validation error 0.82\n",
        "validation error 0.82\n",
        "validation error"
       ]
      },
      {
       "output_type": "stream",
       "stream": "stdout",
       "text": [
        " 0.815\n",
        "validation error 0.815\n",
        "validation error"
       ]
      },
      {
       "output_type": "stream",
       "stream": "stdout",
       "text": [
        " 0.84\n",
        "validation error 0.83\n",
        "validation error"
       ]
      },
      {
       "output_type": "stream",
       "stream": "stdout",
       "text": [
        " 0.825\n",
        "validation error 0.81\n",
        "validation error"
       ]
      },
      {
       "output_type": "stream",
       "stream": "stdout",
       "text": [
        " 0.805\n",
        "validation error 0.82\n",
        "validation error"
       ]
      },
      {
       "output_type": "stream",
       "stream": "stdout",
       "text": [
        " 0.81\n",
        "validation error 0.82\n",
        "validation error"
       ]
      },
      {
       "output_type": "stream",
       "stream": "stdout",
       "text": [
        " 0.825\n",
        "validation error 0.805\n",
        "validation error"
       ]
      },
      {
       "output_type": "stream",
       "stream": "stdout",
       "text": [
        " 0.815\n",
        "validation error 0.82\n",
        "validation error"
       ]
      },
      {
       "output_type": "stream",
       "stream": "stdout",
       "text": [
        " 0.825\n",
        "validation error 0.835\n",
        "validation error"
       ]
      },
      {
       "output_type": "stream",
       "stream": "stdout",
       "text": [
        " 0.84\n",
        "validation error 0.845\n",
        "classification error for blackbox data: "
       ]
      },
      {
       "output_type": "stream",
       "stream": "stdout",
       "text": [
        "0.541\n"
       ]
      }
     ],
     "prompt_number": 18
    },
    {
     "cell_type": "code",
     "collapsed": false,
     "input": [],
     "language": "python",
     "metadata": {},
     "outputs": []
    }
   ],
   "metadata": {}
  }
 ]
}