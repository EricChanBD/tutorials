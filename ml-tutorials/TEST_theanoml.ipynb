{
 "metadata": {
  "name": "TEST_theanoml"
 },
 "nbformat": 3,
 "nbformat_minor": 0,
 "worksheets": [
  {
   "cells": [
    {
     "cell_type": "code",
     "collapsed": false,
     "input": [
      "import theanoml\n",
      "reload(theanoml)"
     ],
     "language": "python",
     "metadata": {},
     "outputs": [
      {
       "output_type": "pyout",
       "prompt_number": 44,
       "text": [
        "<module 'theanoml' from 'theanoml/__init__.pyc'>"
       ]
      }
     ],
     "prompt_number": 44
    },
    {
     "cell_type": "code",
     "collapsed": false,
     "input": [
      "import cPickle\n",
      "import numpy as np\n",
      "raw_X, raw_y = cPickle.load(open('data/digits.pkl', 'rb'))\n",
      "print raw_X.shape\n",
      "print raw_y.shape\n",
      "classes = np.unique(raw_y)\n",
      "#from sklearn.cross_validation import train_test_split\n",
      "#train_raw_X, validation_raw_X, train_raw_y, validation_raw_y = train_test_split(raw_X, raw_y, test_size = 0.2)"
     ],
     "language": "python",
     "metadata": {},
     "outputs": [
      {
       "output_type": "stream",
       "stream": "stdout",
       "text": [
        "(42000, 784)\n",
        "(42000,)\n"
       ]
      }
     ],
     "prompt_number": 49
    },
    {
     "cell_type": "code",
     "collapsed": false,
     "input": [
      "reload(theanoml.logistic_regression)\n",
      "model = theanoml.logistic_regression.LogisticRegression(classes)\n",
      "model.fit(raw_X, raw_y)"
     ],
     "language": "python",
     "metadata": {},
     "outputs": [
      {
       "output_type": "stream",
       "stream": "stdout",
       "text": [
        "epoch 1, minibatch 56/56, validation error 16.369048 %\n",
        "epoch 2, minibatch 56/56, validation error 21.000000 %"
       ]
      },
      {
       "output_type": "stream",
       "stream": "stdout",
       "text": [
        "\n",
        "epoch 3, minibatch 56/56, validation error 13.809524 %"
       ]
      },
      {
       "output_type": "stream",
       "stream": "stdout",
       "text": [
        "\n",
        "epoch 4, minibatch 56/56, validation error 11.297619 %"
       ]
      },
      {
       "output_type": "stream",
       "stream": "stdout",
       "text": [
        "\n",
        "epoch 5, minibatch 56/56, validation error 31.535714 %"
       ]
      },
      {
       "output_type": "stream",
       "stream": "stdout",
       "text": [
        "\n",
        "epoch 6, minibatch 56/56, validation error 9.226190 %"
       ]
      },
      {
       "output_type": "stream",
       "stream": "stdout",
       "text": [
        "\n",
        "epoch 7, minibatch 56/56, validation error 9.333333 %"
       ]
      },
      {
       "output_type": "stream",
       "stream": "stdout",
       "text": [
        "\n",
        "epoch 8, minibatch 56/56, validation error 8.738095 %"
       ]
      },
      {
       "output_type": "stream",
       "stream": "stdout",
       "text": [
        "\n",
        "epoch 9, minibatch 56/56, validation error 9.857143 %"
       ]
      },
      {
       "output_type": "stream",
       "stream": "stdout",
       "text": [
        "\n",
        "epoch 10, minibatch 56/56, validation error 11.476190 %"
       ]
      },
      {
       "output_type": "stream",
       "stream": "stdout",
       "text": [
        "\n",
        "epoch 11, minibatch 56/56, validation error 9.226190 %"
       ]
      },
      {
       "output_type": "stream",
       "stream": "stdout",
       "text": [
        "\n",
        "epoch 12, minibatch 56/56, validation error 10.869048 %"
       ]
      },
      {
       "output_type": "stream",
       "stream": "stdout",
       "text": [
        "\n",
        "epoch 13, minibatch 56/56, validation error 10.726190 %"
       ]
      },
      {
       "output_type": "stream",
       "stream": "stdout",
       "text": [
        "\n",
        "epoch 14, minibatch 56/56, validation error 8.714286 %"
       ]
      },
      {
       "output_type": "stream",
       "stream": "stdout",
       "text": [
        "\n",
        "epoch 15, minibatch 56/56, validation error 10.488095 %"
       ]
      },
      {
       "output_type": "stream",
       "stream": "stdout",
       "text": [
        "\n",
        "epoch 16, minibatch 56/56, validation error 8.797619 %"
       ]
      },
      {
       "output_type": "stream",
       "stream": "stdout",
       "text": [
        "\n",
        "epoch 17, minibatch 56/56, validation error 8.678571 %"
       ]
      },
      {
       "output_type": "stream",
       "stream": "stdout",
       "text": [
        "\n",
        "epoch 18, minibatch 56/56, validation error 9.261905 %"
       ]
      },
      {
       "output_type": "stream",
       "stream": "stdout",
       "text": [
        "\n",
        "epoch 19, minibatch 56/56, validation error 11.642857 %"
       ]
      },
      {
       "output_type": "stream",
       "stream": "stdout",
       "text": [
        "\n",
        "epoch 20, minibatch 56/56, validation error 10.892857 %"
       ]
      },
      {
       "output_type": "stream",
       "stream": "stdout",
       "text": [
        "\n",
        "epoch 21, minibatch 56/56, validation error 9.047619 %"
       ]
      },
      {
       "output_type": "stream",
       "stream": "stdout",
       "text": [
        "\n",
        "epoch 22, minibatch 56/56, validation error 9.369048 %"
       ]
      },
      {
       "output_type": "stream",
       "stream": "stdout",
       "text": [
        "\n",
        "epoch 23, minibatch 56/56, validation error 9.261905 %"
       ]
      },
      {
       "output_type": "stream",
       "stream": "stdout",
       "text": [
        "\n",
        "epoch 24, minibatch 56/56, validation error 10.035714 %"
       ]
      },
      {
       "output_type": "stream",
       "stream": "stdout",
       "text": [
        "\n",
        "epoch 25, minibatch 56/56, validation error 9.583333 %"
       ]
      },
      {
       "output_type": "stream",
       "stream": "stdout",
       "text": [
        "\n",
        "epoch 26, minibatch 56/56, validation error 9.595238 %"
       ]
      },
      {
       "output_type": "stream",
       "stream": "stdout",
       "text": [
        "\n",
        "epoch 27, minibatch 56/56, validation error 9.297619 %"
       ]
      },
      {
       "output_type": "stream",
       "stream": "stdout",
       "text": [
        "\n",
        "epoch 28, minibatch 56/56, validation error 11.095238 %"
       ]
      },
      {
       "output_type": "stream",
       "stream": "stdout",
       "text": [
        "\n",
        "epoch 29, minibatch 56/56, validation error 10.511905 %"
       ]
      },
      {
       "output_type": "stream",
       "stream": "stdout",
       "text": [
        "\n",
        "epoch 30, minibatch 56/56, validation error 11.797619 %"
       ]
      },
      {
       "output_type": "stream",
       "stream": "stdout",
       "text": [
        "\n",
        "epoch 31, minibatch 56/56, validation error 9.214286 %"
       ]
      },
      {
       "output_type": "stream",
       "stream": "stdout",
       "text": [
        "\n",
        "epoch 32, minibatch 56/56, validation error 13.750000 %"
       ]
      },
      {
       "output_type": "stream",
       "stream": "stdout",
       "text": [
        "\n",
        "epoch 33, minibatch 56/56, validation error 12.142857 %"
       ]
      },
      {
       "output_type": "stream",
       "stream": "stdout",
       "text": [
        "\n",
        "epoch 34, minibatch 56/56, validation error 10.821429 %"
       ]
      },
      {
       "output_type": "stream",
       "stream": "stdout",
       "text": [
        "\n",
        "epoch 35, minibatch 56/56, validation error 9.273810 %"
       ]
      },
      {
       "output_type": "stream",
       "stream": "stdout",
       "text": [
        "\n",
        "epoch 36, minibatch 56/56, validation error 9.773810 %"
       ]
      },
      {
       "output_type": "stream",
       "stream": "stdout",
       "text": [
        "\n",
        "epoch 37, minibatch 56/56, validation error 11.380952 %"
       ]
      },
      {
       "output_type": "stream",
       "stream": "stdout",
       "text": [
        "\n",
        "epoch 38, minibatch 56/56, validation error 10.023810 %"
       ]
      },
      {
       "output_type": "stream",
       "stream": "stdout",
       "text": [
        "\n",
        "epoch 39, minibatch 56/56, validation error 8.571429 %"
       ]
      },
      {
       "output_type": "stream",
       "stream": "stdout",
       "text": [
        "\n",
        "epoch 40, minibatch 56/56, validation error 17.166667 %"
       ]
      },
      {
       "output_type": "stream",
       "stream": "stdout",
       "text": [
        "\n",
        "epoch 41, minibatch 56/56, validation error 13.797619 %"
       ]
      },
      {
       "output_type": "stream",
       "stream": "stdout",
       "text": [
        "\n",
        "epoch 42, minibatch 56/56, validation error 11.440476 %"
       ]
      },
      {
       "output_type": "stream",
       "stream": "stdout",
       "text": [
        "\n",
        "epoch 43, minibatch 56/56, validation error 9.761905 %"
       ]
      },
      {
       "output_type": "stream",
       "stream": "stdout",
       "text": [
        "\n",
        "epoch 44, minibatch 56/56, validation error 9.904762 %"
       ]
      },
      {
       "output_type": "stream",
       "stream": "stdout",
       "text": [
        "\n",
        "epoch 45, minibatch 56/56, validation error 9.952381 %"
       ]
      },
      {
       "output_type": "stream",
       "stream": "stdout",
       "text": [
        "\n",
        "epoch 46, minibatch 56/56, validation error 14.071429 %"
       ]
      },
      {
       "output_type": "stream",
       "stream": "stdout",
       "text": [
        "\n",
        "epoch 47, minibatch 56/56, validation error 11.535714 %"
       ]
      },
      {
       "output_type": "stream",
       "stream": "stdout",
       "text": [
        "\n",
        "epoch 48, minibatch 56/56, validation error 9.916667 %"
       ]
      },
      {
       "output_type": "stream",
       "stream": "stdout",
       "text": [
        "\n",
        "epoch 49, minibatch 56/56, validation error 10.285714 %"
       ]
      },
      {
       "output_type": "stream",
       "stream": "stdout",
       "text": [
        "\n",
        "epoch 50, minibatch 56/56, validation error 9.357143 %"
       ]
      },
      {
       "output_type": "stream",
       "stream": "stdout",
       "text": [
        "\n",
        "epoch 51, minibatch 56/56, validation error 9.797619 %"
       ]
      },
      {
       "output_type": "stream",
       "stream": "stdout",
       "text": [
        "\n",
        "epoch 52, minibatch 56/56, validation error 11.761905 %"
       ]
      },
      {
       "output_type": "stream",
       "stream": "stdout",
       "text": [
        "\n",
        "epoch 53, minibatch 56/56, validation error 11.023810 %"
       ]
      },
      {
       "output_type": "stream",
       "stream": "stdout",
       "text": [
        "\n",
        "epoch 54, minibatch 56/56, validation error 13.023810 %"
       ]
      },
      {
       "output_type": "stream",
       "stream": "stdout",
       "text": [
        "\n",
        "epoch 55, minibatch 56/56, validation error 11.273810 %"
       ]
      },
      {
       "output_type": "stream",
       "stream": "stdout",
       "text": [
        "\n",
        "epoch 56, minibatch 56/56, validation error 17.833333 %"
       ]
      },
      {
       "output_type": "stream",
       "stream": "stdout",
       "text": [
        "\n",
        "epoch 57, minibatch 56/56, validation error 9.642857 %"
       ]
      },
      {
       "output_type": "stream",
       "stream": "stdout",
       "text": [
        "\n",
        "epoch 58, minibatch 56/56, validation error 10.035714 %"
       ]
      },
      {
       "output_type": "stream",
       "stream": "stdout",
       "text": [
        "\n",
        "epoch 59, minibatch 56/56, validation error 12.202381 %"
       ]
      },
      {
       "output_type": "stream",
       "stream": "stdout",
       "text": [
        "\n",
        "epoch 60, minibatch 56/56, validation error 11.202381 %"
       ]
      },
      {
       "output_type": "stream",
       "stream": "stdout",
       "text": [
        "\n",
        "epoch 61, minibatch 56/56, validation error 14.404762 %"
       ]
      },
      {
       "output_type": "stream",
       "stream": "stdout",
       "text": [
        "\n",
        "epoch 62, minibatch 56/56, validation error 9.964286 %"
       ]
      },
      {
       "output_type": "stream",
       "stream": "stdout",
       "text": [
        "\n",
        "epoch 63, minibatch 56/56, validation error 13.059524 %"
       ]
      },
      {
       "output_type": "stream",
       "stream": "stdout",
       "text": [
        "\n",
        "epoch 64, minibatch 56/56, validation error 9.011905 %"
       ]
      },
      {
       "output_type": "stream",
       "stream": "stdout",
       "text": [
        "\n",
        "epoch 65, minibatch 56/56, validation error 10.226190 %"
       ]
      },
      {
       "output_type": "stream",
       "stream": "stdout",
       "text": [
        "\n",
        "epoch 66, minibatch 56/56, validation error 17.285714 %"
       ]
      },
      {
       "output_type": "stream",
       "stream": "stdout",
       "text": [
        "\n",
        "epoch 67, minibatch 56/56, validation error 9.976190 %"
       ]
      },
      {
       "output_type": "stream",
       "stream": "stdout",
       "text": [
        "\n",
        "epoch 68, minibatch 56/56, validation error 11.845238 %"
       ]
      },
      {
       "output_type": "stream",
       "stream": "stdout",
       "text": [
        "\n",
        "epoch 69, minibatch 56/56, validation error 9.761905 %"
       ]
      },
      {
       "output_type": "stream",
       "stream": "stdout",
       "text": [
        "\n",
        "epoch 70, minibatch 56/56, validation error 26.202381 %"
       ]
      },
      {
       "output_type": "stream",
       "stream": "stdout",
       "text": [
        "\n",
        "epoch 71, minibatch 56/56, validation error 9.273810 %"
       ]
      },
      {
       "output_type": "stream",
       "stream": "stdout",
       "text": [
        "\n",
        "epoch 72, minibatch 56/56, validation error 9.333333 %"
       ]
      },
      {
       "output_type": "stream",
       "stream": "stdout",
       "text": [
        "\n",
        "epoch 73, minibatch 56/56, validation error 16.035714 %"
       ]
      },
      {
       "output_type": "stream",
       "stream": "stdout",
       "text": [
        "\n",
        "epoch 74, minibatch 56/56, validation error 9.690476 %"
       ]
      },
      {
       "output_type": "stream",
       "stream": "stdout",
       "text": [
        "\n",
        "epoch 75, minibatch 56/56, validation error 10.892857 %"
       ]
      },
      {
       "output_type": "stream",
       "stream": "stdout",
       "text": [
        "\n",
        "epoch 76, minibatch 56/56, validation error 9.523810 %"
       ]
      },
      {
       "output_type": "stream",
       "stream": "stdout",
       "text": [
        "\n",
        "epoch 77, minibatch 56/56, validation error 10.309524 %"
       ]
      },
      {
       "output_type": "stream",
       "stream": "stdout",
       "text": [
        "\n",
        "epoch 78, minibatch 56/56, validation error 9.178571 %"
       ]
      },
      {
       "output_type": "stream",
       "stream": "stdout",
       "text": [
        "\n",
        "epoch 79, minibatch 56/56, validation error 10.000000 %"
       ]
      },
      {
       "output_type": "stream",
       "stream": "stdout",
       "text": [
        "\n",
        "epoch 80, minibatch 56/56, validation error 9.857143 %"
       ]
      },
      {
       "output_type": "stream",
       "stream": "stdout",
       "text": [
        "\n",
        "epoch 81, minibatch 56/56, validation error 12.964286 %"
       ]
      },
      {
       "output_type": "stream",
       "stream": "stdout",
       "text": [
        "\n",
        "epoch 82, minibatch 56/56, validation error 11.821429 %"
       ]
      },
      {
       "output_type": "stream",
       "stream": "stdout",
       "text": [
        "\n",
        "epoch 83, minibatch 56/56, validation error 14.380952 %"
       ]
      },
      {
       "output_type": "stream",
       "stream": "stdout",
       "text": [
        "\n",
        "epoch 84, minibatch 56/56, validation error 9.690476 %"
       ]
      },
      {
       "output_type": "stream",
       "stream": "stdout",
       "text": [
        "\n",
        "epoch 85, minibatch 56/56, validation error 10.440476 %"
       ]
      },
      {
       "output_type": "stream",
       "stream": "stdout",
       "text": [
        "\n",
        "epoch 86, minibatch 56/56, validation error 9.797619 %"
       ]
      },
      {
       "output_type": "stream",
       "stream": "stdout",
       "text": [
        "\n",
        "epoch 87, minibatch 56/56, validation error 17.345238 %"
       ]
      },
      {
       "output_type": "stream",
       "stream": "stdout",
       "text": [
        "\n",
        "epoch 88, minibatch 56/56, validation error 10.333333 %"
       ]
      },
      {
       "output_type": "stream",
       "stream": "stdout",
       "text": [
        "\n",
        "epoch 89, minibatch 56/56, validation error 16.154762 %"
       ]
      },
      {
       "output_type": "stream",
       "stream": "stdout",
       "text": [
        "\n",
        "Optimization complete with best validation score 8.571429 %"
       ]
      },
      {
       "output_type": "stream",
       "stream": "stdout",
       "text": [
        "\n"
       ]
      }
     ],
     "prompt_number": 52
    },
    {
     "cell_type": "code",
     "collapsed": false,
     "input": [
      "reload(theanoml.logistic_regression)\n",
      "model = theanoml.logistic_regression.LogisticRegression(classes)\n",
      "model.partial_fit(raw_X, raw_y)\n",
      "print '============classification rate on the whole dataset:', model.score(raw_X, raw_y)\n",
      "model.partial_fit(raw_X, raw_y)\n",
      "print '============classification rate on the whole dataset:', model.score(raw_X, raw_y)"
     ],
     "language": "python",
     "metadata": {},
     "outputs": [
      {
       "output_type": "stream",
       "stream": "stdout",
       "text": [
        "epoch 1, minibatch 56/56, validation error 11.738095 %\n",
        "epoch 2, minibatch 56/56, validation error 10.988095 %"
       ]
      },
      {
       "output_type": "stream",
       "stream": "stdout",
       "text": [
        "\n",
        "epoch 3, minibatch 56/56, validation error 26.690476 %"
       ]
      },
      {
       "output_type": "stream",
       "stream": "stdout",
       "text": [
        "\n",
        "epoch 4, minibatch 56/56, validation error 17.178571 %"
       ]
      },
      {
       "output_type": "stream",
       "stream": "stdout",
       "text": [
        "\n",
        "epoch 5, minibatch 56/56, validation error 34.202381 %"
       ]
      },
      {
       "output_type": "stream",
       "stream": "stdout",
       "text": [
        "\n",
        "epoch 6, minibatch 56/56, validation error 9.273810 %"
       ]
      },
      {
       "output_type": "stream",
       "stream": "stdout",
       "text": [
        "\n",
        "epoch 7, minibatch 56/56, validation error 13.714286 %"
       ]
      },
      {
       "output_type": "stream",
       "stream": "stdout",
       "text": [
        "\n",
        "epoch 8, minibatch 56/56, validation error 17.333333 %"
       ]
      },
      {
       "output_type": "stream",
       "stream": "stdout",
       "text": [
        "\n",
        "epoch 9, minibatch 56/56, validation error 10.035714 %"
       ]
      },
      {
       "output_type": "stream",
       "stream": "stdout",
       "text": [
        "\n",
        "epoch 10, minibatch 56/56, validation error 9.202381 %"
       ]
      },
      {
       "output_type": "stream",
       "stream": "stdout",
       "text": [
        "\n",
        "epoch 11, minibatch 56/56, validation error 12.357143 %"
       ]
      },
      {
       "output_type": "stream",
       "stream": "stdout",
       "text": [
        "\n",
        "epoch 12, minibatch 56/56, validation error 9.380952 %"
       ]
      },
      {
       "output_type": "stream",
       "stream": "stdout",
       "text": [
        "\n",
        "epoch 13, minibatch 56/56, validation error 9.892857 %"
       ]
      },
      {
       "output_type": "stream",
       "stream": "stdout",
       "text": [
        "\n",
        "epoch 14, minibatch 56/56, validation error 19.238095 %"
       ]
      },
      {
       "output_type": "stream",
       "stream": "stdout",
       "text": [
        "\n",
        "epoch 15, minibatch 56/56, validation error 9.202381 %"
       ]
      },
      {
       "output_type": "stream",
       "stream": "stdout",
       "text": [
        "\n",
        "epoch 16, minibatch 56/56, validation error 11.452381 %"
       ]
      },
      {
       "output_type": "stream",
       "stream": "stdout",
       "text": [
        "\n",
        "epoch 17, minibatch 56/56, validation error 11.761905 %"
       ]
      },
      {
       "output_type": "stream",
       "stream": "stdout",
       "text": [
        "\n",
        "epoch 18, minibatch 56/56, validation error 9.750000 %"
       ]
      },
      {
       "output_type": "stream",
       "stream": "stdout",
       "text": [
        "\n",
        "epoch 19, minibatch 56/56, validation error 9.047619 %"
       ]
      },
      {
       "output_type": "stream",
       "stream": "stdout",
       "text": [
        "\n",
        "epoch 20, minibatch 56/56, validation error 9.142857 %"
       ]
      },
      {
       "output_type": "stream",
       "stream": "stdout",
       "text": [
        "\n",
        "epoch 21, minibatch 56/56, validation error 9.714286 %"
       ]
      },
      {
       "output_type": "stream",
       "stream": "stdout",
       "text": [
        "\n",
        "epoch 22, minibatch 56/56, validation error 9.035714 %"
       ]
      },
      {
       "output_type": "stream",
       "stream": "stdout",
       "text": [
        "\n",
        "epoch 23, minibatch 56/56, validation error 29.119048 %"
       ]
      },
      {
       "output_type": "stream",
       "stream": "stdout",
       "text": [
        "\n",
        "epoch 24, minibatch 56/56, validation error 10.023810 %"
       ]
      },
      {
       "output_type": "stream",
       "stream": "stdout",
       "text": [
        "\n",
        "epoch 25, minibatch 56/56, validation error 9.488095 %"
       ]
      },
      {
       "output_type": "stream",
       "stream": "stdout",
       "text": [
        "\n",
        "epoch 26, minibatch 56/56, validation error 10.845238 %"
       ]
      },
      {
       "output_type": "stream",
       "stream": "stdout",
       "text": [
        "\n",
        "epoch 27, minibatch 56/56, validation error 9.678571 %"
       ]
      },
      {
       "output_type": "stream",
       "stream": "stdout",
       "text": [
        "\n",
        "epoch 28, minibatch 56/56, validation error 9.833333 %"
       ]
      },
      {
       "output_type": "stream",
       "stream": "stdout",
       "text": [
        "\n",
        "epoch 29, minibatch 56/56, validation error 9.071429 %"
       ]
      },
      {
       "output_type": "stream",
       "stream": "stdout",
       "text": [
        "\n",
        "epoch 30, minibatch 56/56, validation error 9.642857 %"
       ]
      },
      {
       "output_type": "stream",
       "stream": "stdout",
       "text": [
        "\n",
        "epoch 31, minibatch 56/56, validation error 10.630952 %"
       ]
      },
      {
       "output_type": "stream",
       "stream": "stdout",
       "text": [
        "\n",
        "epoch 32, minibatch 56/56, validation error 9.619048 %"
       ]
      },
      {
       "output_type": "stream",
       "stream": "stdout",
       "text": [
        "\n",
        "epoch 33, minibatch 56/56, validation error 20.392857 %"
       ]
      },
      {
       "output_type": "stream",
       "stream": "stdout",
       "text": [
        "\n",
        "epoch 34, minibatch 56/56, validation error 9.797619 %"
       ]
      },
      {
       "output_type": "stream",
       "stream": "stdout",
       "text": [
        "\n",
        "epoch 35, minibatch 56/56, validation error 9.083333 %"
       ]
      },
      {
       "output_type": "stream",
       "stream": "stdout",
       "text": [
        "\n",
        "epoch 36, minibatch 56/56, validation error 21.011905 %"
       ]
      },
      {
       "output_type": "stream",
       "stream": "stdout",
       "text": [
        "\n",
        "epoch 37, minibatch 56/56, validation error 10.607143 %"
       ]
      },
      {
       "output_type": "stream",
       "stream": "stdout",
       "text": [
        "\n",
        "epoch 38, minibatch 56/56, validation error 9.678571 %"
       ]
      },
      {
       "output_type": "stream",
       "stream": "stdout",
       "text": [
        "\n",
        "epoch 39, minibatch 56/56, validation error 12.845238 %"
       ]
      },
      {
       "output_type": "stream",
       "stream": "stdout",
       "text": [
        "\n",
        "epoch 40, minibatch 56/56, validation error 9.178571 %"
       ]
      },
      {
       "output_type": "stream",
       "stream": "stdout",
       "text": [
        "\n",
        "epoch 41, minibatch 56/56, validation error 9.595238 %"
       ]
      },
      {
       "output_type": "stream",
       "stream": "stdout",
       "text": [
        "\n",
        "epoch 42, minibatch 56/56, validation error 9.333333 %"
       ]
      },
      {
       "output_type": "stream",
       "stream": "stdout",
       "text": [
        "\n",
        "epoch 43, minibatch 56/56, validation error 9.607143 %"
       ]
      },
      {
       "output_type": "stream",
       "stream": "stdout",
       "text": [
        "\n",
        "epoch 44, minibatch 56/56, validation error 9.285714 %"
       ]
      },
      {
       "output_type": "stream",
       "stream": "stdout",
       "text": [
        "\n",
        "epoch 45, minibatch 56/56, validation error 18.321429 %"
       ]
      },
      {
       "output_type": "stream",
       "stream": "stdout",
       "text": [
        "\n",
        "epoch 46, minibatch 56/56, validation error 9.476190 %"
       ]
      },
      {
       "output_type": "stream",
       "stream": "stdout",
       "text": [
        "\n",
        "epoch 47, minibatch 56/56, validation error 9.154762 %"
       ]
      },
      {
       "output_type": "stream",
       "stream": "stdout",
       "text": [
        "\n",
        "epoch 48, minibatch 56/56, validation error 10.857143 %"
       ]
      },
      {
       "output_type": "stream",
       "stream": "stdout",
       "text": [
        "\n",
        "epoch 49, minibatch 56/56, validation error 9.476190 %"
       ]
      },
      {
       "output_type": "stream",
       "stream": "stdout",
       "text": [
        "\n",
        "epoch 50, minibatch 56/56, validation error 10.583333 %"
       ]
      },
      {
       "output_type": "stream",
       "stream": "stdout",
       "text": [
        "\n",
        "epoch 51, minibatch 56/56, validation error 9.773810 %"
       ]
      },
      {
       "output_type": "stream",
       "stream": "stdout",
       "text": [
        "\n",
        "epoch 52, minibatch 56/56, validation error 9.071429 %"
       ]
      },
      {
       "output_type": "stream",
       "stream": "stdout",
       "text": [
        "\n",
        "epoch 53, minibatch 56/56, validation error 9.440476 %"
       ]
      },
      {
       "output_type": "stream",
       "stream": "stdout",
       "text": [
        "\n",
        "epoch 54, minibatch 56/56, validation error 9.630952 %"
       ]
      },
      {
       "output_type": "stream",
       "stream": "stdout",
       "text": [
        "\n",
        "epoch 55, minibatch 56/56, validation error 9.738095 %"
       ]
      },
      {
       "output_type": "stream",
       "stream": "stdout",
       "text": [
        "\n",
        "epoch 56, minibatch 56/56, validation error 20.214286 %"
       ]
      },
      {
       "output_type": "stream",
       "stream": "stdout",
       "text": [
        "\n",
        "epoch 57, minibatch 56/56, validation error 17.952381 %"
       ]
      },
      {
       "output_type": "stream",
       "stream": "stdout",
       "text": [
        "\n",
        "epoch 58, minibatch 56/56, validation error 10.250000 %"
       ]
      },
      {
       "output_type": "stream",
       "stream": "stdout",
       "text": [
        "\n",
        "epoch 59, minibatch 56/56, validation error 9.595238 %"
       ]
      },
      {
       "output_type": "stream",
       "stream": "stdout",
       "text": [
        "\n",
        "epoch 60, minibatch 56/56, validation error 9.119048 %"
       ]
      },
      {
       "output_type": "stream",
       "stream": "stdout",
       "text": [
        "\n",
        "epoch 61, minibatch 56/56, validation error 9.690476 %"
       ]
      },
      {
       "output_type": "stream",
       "stream": "stdout",
       "text": [
        "\n",
        "epoch 62, minibatch 56/56, validation error 12.261905 %"
       ]
      },
      {
       "output_type": "stream",
       "stream": "stdout",
       "text": [
        "\n",
        "epoch 63, minibatch 56/56, validation error 9.821429 %"
       ]
      },
      {
       "output_type": "stream",
       "stream": "stdout",
       "text": [
        "\n",
        "epoch 64, minibatch 56/56, validation error 11.285714 %"
       ]
      },
      {
       "output_type": "stream",
       "stream": "stdout",
       "text": [
        "\n",
        "epoch 65, minibatch 56/56, validation error 10.654762 %"
       ]
      },
      {
       "output_type": "stream",
       "stream": "stdout",
       "text": [
        "\n",
        "epoch 66, minibatch 56/56, validation error 18.809524 %"
       ]
      },
      {
       "output_type": "stream",
       "stream": "stdout",
       "text": [
        "\n",
        "epoch 67, minibatch 56/56, validation error 10.547619 %"
       ]
      },
      {
       "output_type": "stream",
       "stream": "stdout",
       "text": [
        "\n",
        "epoch 68, minibatch 56/56, validation error 9.357143 %"
       ]
      },
      {
       "output_type": "stream",
       "stream": "stdout",
       "text": [
        "\n",
        "epoch 69, minibatch 56/56, validation error 9.833333 %"
       ]
      },
      {
       "output_type": "stream",
       "stream": "stdout",
       "text": [
        "\n",
        "epoch 70, minibatch 56/56, validation error 9.071429 %"
       ]
      },
      {
       "output_type": "stream",
       "stream": "stdout",
       "text": [
        "\n",
        "epoch 71, minibatch 56/56, validation error 12.750000 %"
       ]
      },
      {
       "output_type": "stream",
       "stream": "stdout",
       "text": [
        "\n",
        "epoch 72, minibatch 56/56, validation error 21.452381 %"
       ]
      },
      {
       "output_type": "stream",
       "stream": "stdout",
       "text": [
        "\n",
        "epoch 73, minibatch 56/56, validation error 9.107143 %"
       ]
      },
      {
       "output_type": "stream",
       "stream": "stdout",
       "text": [
        "\n",
        "epoch 74, minibatch 56/56, validation error 10.250000 %"
       ]
      },
      {
       "output_type": "stream",
       "stream": "stdout",
       "text": [
        "\n",
        "epoch 75, minibatch 56/56, validation error 10.750000 %"
       ]
      },
      {
       "output_type": "stream",
       "stream": "stdout",
       "text": [
        "\n",
        "epoch 76, minibatch 56/56, validation error 10.023810 %"
       ]
      },
      {
       "output_type": "stream",
       "stream": "stdout",
       "text": [
        "\n",
        "epoch 77, minibatch 56/56, validation error 9.821429 %"
       ]
      },
      {
       "output_type": "stream",
       "stream": "stdout",
       "text": [
        "\n",
        "epoch 78, minibatch 56/56, validation error 9.345238 %"
       ]
      },
      {
       "output_type": "stream",
       "stream": "stdout",
       "text": [
        "\n",
        "epoch 79, minibatch 56/56, validation error 9.357143 %"
       ]
      },
      {
       "output_type": "stream",
       "stream": "stdout",
       "text": [
        "\n",
        "epoch 80, minibatch 56/56, validation error 10.166667 %"
       ]
      },
      {
       "output_type": "stream",
       "stream": "stdout",
       "text": [
        "\n",
        "epoch 81, minibatch 56/56, validation error 9.773810 %"
       ]
      },
      {
       "output_type": "stream",
       "stream": "stdout",
       "text": [
        "\n",
        "epoch 82, minibatch 56/56, validation error 9.142857 %"
       ]
      },
      {
       "output_type": "stream",
       "stream": "stdout",
       "text": [
        "\n",
        "epoch 83, minibatch 56/56, validation error 9.916667 %"
       ]
      },
      {
       "output_type": "stream",
       "stream": "stdout",
       "text": [
        "\n",
        "epoch 84, minibatch 56/56, validation error 9.964286 %"
       ]
      },
      {
       "output_type": "stream",
       "stream": "stdout",
       "text": [
        "\n",
        "epoch 85, minibatch 56/56, validation error 9.940476 %"
       ]
      },
      {
       "output_type": "stream",
       "stream": "stdout",
       "text": [
        "\n",
        "epoch 86, minibatch 56/56, validation error 9.880952 %"
       ]
      },
      {
       "output_type": "stream",
       "stream": "stdout",
       "text": [
        "\n",
        "epoch 87, minibatch 56/56, validation error 17.523810 %"
       ]
      },
      {
       "output_type": "stream",
       "stream": "stdout",
       "text": [
        "\n",
        "epoch 88, minibatch 56/56, validation error 9.702381 %"
       ]
      },
      {
       "output_type": "stream",
       "stream": "stdout",
       "text": [
        "\n",
        "epoch 89, minibatch 56/56, validation error 23.988095 %"
       ]
      },
      {
       "output_type": "stream",
       "stream": "stdout",
       "text": [
        "\n",
        "Optimization complete with best validation score 9.035714 %"
       ]
      },
      {
       "output_type": "stream",
       "stream": "stdout",
       "text": [
        "\n",
        "============classification rate on the whole dataset: "
       ]
      },
      {
       "output_type": "stream",
       "stream": "stdout",
       "text": [
        "0.0786904761905\n",
        "epoch 1, minibatch 56/56, validation error 10.500000 %"
       ]
      },
      {
       "output_type": "stream",
       "stream": "stdout",
       "text": [
        "\n",
        "epoch 2, minibatch 56/56, validation error 8.202381 %"
       ]
      },
      {
       "output_type": "stream",
       "stream": "stdout",
       "text": [
        "\n",
        "epoch 3, minibatch 56/56, validation error 8.785714 %"
       ]
      },
      {
       "output_type": "stream",
       "stream": "stdout",
       "text": [
        "\n",
        "epoch 4, minibatch 56/56, validation error 7.988095 %"
       ]
      },
      {
       "output_type": "stream",
       "stream": "stdout",
       "text": [
        "\n",
        "epoch 5, minibatch 56/56, validation error 7.857143 %"
       ]
      },
      {
       "output_type": "stream",
       "stream": "stdout",
       "text": [
        "\n",
        "epoch 6, minibatch 56/56, validation error 8.095238 %"
       ]
      },
      {
       "output_type": "stream",
       "stream": "stdout",
       "text": [
        "\n",
        "epoch 7, minibatch 56/56, validation error 8.714286 %"
       ]
      },
      {
       "output_type": "stream",
       "stream": "stdout",
       "text": [
        "\n",
        "epoch 8, minibatch 56/56, validation error 8.202381 %"
       ]
      },
      {
       "output_type": "stream",
       "stream": "stdout",
       "text": [
        "\n",
        "epoch 9, minibatch 56/56, validation error 21.130952 %"
       ]
      },
      {
       "output_type": "stream",
       "stream": "stdout",
       "text": [
        "\n",
        "epoch 10, minibatch 56/56, validation error 8.345238 %"
       ]
      },
      {
       "output_type": "stream",
       "stream": "stdout",
       "text": [
        "\n",
        "epoch 11, minibatch 56/56, validation error 8.785714 %"
       ]
      },
      {
       "output_type": "stream",
       "stream": "stdout",
       "text": [
        "\n",
        "epoch 12, minibatch 56/56, validation error 10.964286 %"
       ]
      },
      {
       "output_type": "stream",
       "stream": "stdout",
       "text": [
        "\n",
        "epoch 13, minibatch 56/56, validation error 8.464286 %"
       ]
      },
      {
       "output_type": "stream",
       "stream": "stdout",
       "text": [
        "\n",
        "epoch 14, minibatch 56/56, validation error 20.178571 %"
       ]
      },
      {
       "output_type": "stream",
       "stream": "stdout",
       "text": [
        "\n",
        "epoch 15, minibatch 56/56, validation error 8.452381 %"
       ]
      },
      {
       "output_type": "stream",
       "stream": "stdout",
       "text": [
        "\n",
        "epoch 16, minibatch 56/56, validation error 8.619048 %"
       ]
      },
      {
       "output_type": "stream",
       "stream": "stdout",
       "text": [
        "\n",
        "epoch 17, minibatch 56/56, validation error 8.785714 %"
       ]
      },
      {
       "output_type": "stream",
       "stream": "stdout",
       "text": [
        "\n",
        "epoch 18, minibatch 56/56, validation error 9.023810 %"
       ]
      },
      {
       "output_type": "stream",
       "stream": "stdout",
       "text": [
        "\n",
        "epoch 19, minibatch 56/56, validation error 9.273810 %"
       ]
      },
      {
       "output_type": "stream",
       "stream": "stdout",
       "text": [
        "\n",
        "epoch 20, minibatch 56/56, validation error 9.773810 %"
       ]
      },
      {
       "output_type": "stream",
       "stream": "stdout",
       "text": [
        "\n",
        "epoch 21, minibatch 56/56, validation error 9.714286 %"
       ]
      },
      {
       "output_type": "stream",
       "stream": "stdout",
       "text": [
        "\n",
        "epoch 22, minibatch 56/56, validation error 8.583333 %"
       ]
      },
      {
       "output_type": "stream",
       "stream": "stdout",
       "text": [
        "\n",
        "epoch 23, minibatch 56/56, validation error 10.988095 %"
       ]
      },
      {
       "output_type": "stream",
       "stream": "stdout",
       "text": [
        "\n",
        "epoch 24, minibatch 56/56, validation error 8.726190 %"
       ]
      },
      {
       "output_type": "stream",
       "stream": "stdout",
       "text": [
        "\n",
        "epoch 25, minibatch 56/56, validation error 8.595238 %"
       ]
      },
      {
       "output_type": "stream",
       "stream": "stdout",
       "text": [
        "\n",
        "epoch 26, minibatch 56/56, validation error 8.785714 %"
       ]
      },
      {
       "output_type": "stream",
       "stream": "stdout",
       "text": [
        "\n",
        "epoch 27, minibatch 56/56, validation error 9.464286 %"
       ]
      },
      {
       "output_type": "stream",
       "stream": "stdout",
       "text": [
        "\n",
        "epoch 28, minibatch 56/56, validation error 9.190476 %"
       ]
      },
      {
       "output_type": "stream",
       "stream": "stdout",
       "text": [
        "\n",
        "epoch 29, minibatch 56/56, validation error 8.940476 %"
       ]
      },
      {
       "output_type": "stream",
       "stream": "stdout",
       "text": [
        "\n",
        "epoch 30, minibatch 56/56, validation error 9.011905 %"
       ]
      },
      {
       "output_type": "stream",
       "stream": "stdout",
       "text": [
        "\n",
        "epoch 31, minibatch 56/56, validation error 8.880952 %"
       ]
      },
      {
       "output_type": "stream",
       "stream": "stdout",
       "text": [
        "\n",
        "epoch 32, minibatch 56/56, validation error 11.595238 %"
       ]
      },
      {
       "output_type": "stream",
       "stream": "stdout",
       "text": [
        "\n",
        "epoch 33, minibatch 56/56, validation error 9.285714 %"
       ]
      },
      {
       "output_type": "stream",
       "stream": "stdout",
       "text": [
        "\n",
        "epoch 34, minibatch 56/56, validation error 9.476190 %"
       ]
      },
      {
       "output_type": "stream",
       "stream": "stdout",
       "text": [
        "\n",
        "epoch 35, minibatch 56/56, validation error 9.214286 %"
       ]
      },
      {
       "output_type": "stream",
       "stream": "stdout",
       "text": [
        "\n",
        "epoch 36, minibatch 56/56, validation error 8.452381 %"
       ]
      },
      {
       "output_type": "stream",
       "stream": "stdout",
       "text": [
        "\n",
        "epoch 37, minibatch 56/56, validation error 8.857143 %"
       ]
      },
      {
       "output_type": "stream",
       "stream": "stdout",
       "text": [
        "\n",
        "epoch 38, minibatch 56/56, validation error 9.869048 %"
       ]
      },
      {
       "output_type": "stream",
       "stream": "stdout",
       "text": [
        "\n",
        "epoch 39, minibatch 56/56, validation error 9.285714 %"
       ]
      },
      {
       "output_type": "stream",
       "stream": "stdout",
       "text": [
        "\n",
        "epoch 40, minibatch 56/56, validation error 8.761905 %"
       ]
      },
      {
       "output_type": "stream",
       "stream": "stdout",
       "text": [
        "\n",
        "epoch 41, minibatch 56/56, validation error 9.154762 %"
       ]
      },
      {
       "output_type": "stream",
       "stream": "stdout",
       "text": [
        "\n",
        "epoch 42, minibatch 56/56, validation error 9.880952 %"
       ]
      },
      {
       "output_type": "stream",
       "stream": "stdout",
       "text": [
        "\n",
        "epoch 43, minibatch 56/56, validation error 8.845238 %"
       ]
      },
      {
       "output_type": "stream",
       "stream": "stdout",
       "text": [
        "\n",
        "epoch 44, minibatch 56/56, validation error 9.178571 %"
       ]
      },
      {
       "output_type": "stream",
       "stream": "stdout",
       "text": [
        "\n",
        "epoch 45, minibatch 56/56, validation error 11.988095 %"
       ]
      },
      {
       "output_type": "stream",
       "stream": "stdout",
       "text": [
        "\n",
        "epoch 46, minibatch 56/56, validation error 10.059524 %"
       ]
      },
      {
       "output_type": "stream",
       "stream": "stdout",
       "text": [
        "\n",
        "epoch 47, minibatch 56/56, validation error 9.107143 %"
       ]
      },
      {
       "output_type": "stream",
       "stream": "stdout",
       "text": [
        "\n",
        "epoch 48, minibatch 56/56, validation error 9.250000 %"
       ]
      },
      {
       "output_type": "stream",
       "stream": "stdout",
       "text": [
        "\n",
        "epoch 49, minibatch 56/56, validation error 13.940476 %"
       ]
      },
      {
       "output_type": "stream",
       "stream": "stdout",
       "text": [
        "\n",
        "epoch 50, minibatch 56/56, validation error 8.904762 %"
       ]
      },
      {
       "output_type": "stream",
       "stream": "stdout",
       "text": [
        "\n",
        "epoch 51, minibatch 56/56, validation error 11.440476 %"
       ]
      },
      {
       "output_type": "stream",
       "stream": "stdout",
       "text": [
        "\n",
        "epoch 52, minibatch 56/56, validation error 9.892857 %"
       ]
      },
      {
       "output_type": "stream",
       "stream": "stdout",
       "text": [
        "\n",
        "epoch 53, minibatch 56/56, validation error 9.047619 %"
       ]
      },
      {
       "output_type": "stream",
       "stream": "stdout",
       "text": [
        "\n",
        "epoch 54, minibatch 56/56, validation error 10.333333 %"
       ]
      },
      {
       "output_type": "stream",
       "stream": "stdout",
       "text": [
        "\n",
        "epoch 55, minibatch 56/56, validation error 11.261905 %"
       ]
      },
      {
       "output_type": "stream",
       "stream": "stdout",
       "text": [
        "\n",
        "epoch 56, minibatch 56/56, validation error 8.928571 %"
       ]
      },
      {
       "output_type": "stream",
       "stream": "stdout",
       "text": [
        "\n",
        "epoch 57, minibatch 56/56, validation error 8.916667 %"
       ]
      },
      {
       "output_type": "stream",
       "stream": "stdout",
       "text": [
        "\n",
        "epoch 58, minibatch 56/56, validation error 8.952381 %"
       ]
      },
      {
       "output_type": "stream",
       "stream": "stdout",
       "text": [
        "\n",
        "epoch 59, minibatch 56/56, validation error 9.119048 %"
       ]
      },
      {
       "output_type": "stream",
       "stream": "stdout",
       "text": [
        "\n",
        "epoch 60, minibatch 56/56, validation error 11.916667 %"
       ]
      },
      {
       "output_type": "stream",
       "stream": "stdout",
       "text": [
        "\n",
        "epoch 61, minibatch 56/56, validation error 9.250000 %"
       ]
      },
      {
       "output_type": "stream",
       "stream": "stdout",
       "text": [
        "\n",
        "epoch 62, minibatch 56/56, validation error 9.285714 %"
       ]
      },
      {
       "output_type": "stream",
       "stream": "stdout",
       "text": [
        "\n",
        "epoch 63, minibatch 56/56, validation error 9.095238 %"
       ]
      },
      {
       "output_type": "stream",
       "stream": "stdout",
       "text": [
        "\n",
        "epoch 64, minibatch 56/56, validation error 9.321429 %"
       ]
      },
      {
       "output_type": "stream",
       "stream": "stdout",
       "text": [
        "\n",
        "epoch 65, minibatch 56/56, validation error 19.119048 %"
       ]
      },
      {
       "output_type": "stream",
       "stream": "stdout",
       "text": [
        "\n",
        "epoch 66, minibatch 56/56, validation error 9.440476 %"
       ]
      },
      {
       "output_type": "stream",
       "stream": "stdout",
       "text": [
        "\n",
        "epoch 67, minibatch 56/56, validation error 9.154762 %"
       ]
      },
      {
       "output_type": "stream",
       "stream": "stdout",
       "text": [
        "\n",
        "epoch 68, minibatch 56/56, validation error 10.857143 %"
       ]
      },
      {
       "output_type": "stream",
       "stream": "stdout",
       "text": [
        "\n",
        "epoch 69, minibatch 56/56, validation error 9.488095 %"
       ]
      },
      {
       "output_type": "stream",
       "stream": "stdout",
       "text": [
        "\n",
        "epoch 70, minibatch 56/56, validation error 21.321429 %"
       ]
      },
      {
       "output_type": "stream",
       "stream": "stdout",
       "text": [
        "\n",
        "epoch 71, minibatch 56/56, validation error 9.178571 %"
       ]
      },
      {
       "output_type": "stream",
       "stream": "stdout",
       "text": [
        "\n",
        "epoch 72, minibatch 56/56, validation error 10.750000 %"
       ]
      },
      {
       "output_type": "stream",
       "stream": "stdout",
       "text": [
        "\n",
        "epoch 73, minibatch 56/56, validation error 16.571429 %"
       ]
      },
      {
       "output_type": "stream",
       "stream": "stdout",
       "text": [
        "\n",
        "epoch 74, minibatch 56/56, validation error 11.940476 %"
       ]
      },
      {
       "output_type": "stream",
       "stream": "stdout",
       "text": [
        "\n",
        "epoch 75, minibatch 56/56, validation error 10.547619 %"
       ]
      },
      {
       "output_type": "stream",
       "stream": "stdout",
       "text": [
        "\n",
        "epoch 76, minibatch 56/56, validation error 9.154762 %"
       ]
      },
      {
       "output_type": "stream",
       "stream": "stdout",
       "text": [
        "\n",
        "epoch 77, minibatch 56/56, validation error 9.178571 %"
       ]
      },
      {
       "output_type": "stream",
       "stream": "stdout",
       "text": [
        "\n",
        "epoch 78, minibatch 56/56, validation error 9.190476 %"
       ]
      },
      {
       "output_type": "stream",
       "stream": "stdout",
       "text": [
        "\n",
        "epoch 79, minibatch 56/56, validation error 11.226190 %"
       ]
      },
      {
       "output_type": "stream",
       "stream": "stdout",
       "text": [
        "\n",
        "epoch 80, minibatch 56/56, validation error 9.000000 %"
       ]
      },
      {
       "output_type": "stream",
       "stream": "stdout",
       "text": [
        "\n",
        "epoch 81, minibatch 56/56, validation error 9.464286 %"
       ]
      },
      {
       "output_type": "stream",
       "stream": "stdout",
       "text": [
        "\n",
        "epoch 82, minibatch 56/56, validation error 9.523810 %"
       ]
      },
      {
       "output_type": "stream",
       "stream": "stdout",
       "text": [
        "\n",
        "epoch 83, minibatch 56/56, validation error 9.845238 %"
       ]
      },
      {
       "output_type": "stream",
       "stream": "stdout",
       "text": [
        "\n",
        "epoch 84, minibatch 56/56, validation error 9.488095 %"
       ]
      },
      {
       "output_type": "stream",
       "stream": "stdout",
       "text": [
        "\n",
        "epoch 85, minibatch 56/56, validation error 9.261905 %"
       ]
      },
      {
       "output_type": "stream",
       "stream": "stdout",
       "text": [
        "\n",
        "epoch 86, minibatch 56/56, validation error 11.607143 %"
       ]
      },
      {
       "output_type": "stream",
       "stream": "stdout",
       "text": [
        "\n",
        "epoch 87, minibatch 56/56, validation error 17.166667 %"
       ]
      },
      {
       "output_type": "stream",
       "stream": "stdout",
       "text": [
        "\n",
        "epoch 88, minibatch 56/56, validation error 9.988095 %"
       ]
      },
      {
       "output_type": "stream",
       "stream": "stdout",
       "text": [
        "\n",
        "epoch 89, minibatch 56/56, validation error 11.059524 %"
       ]
      },
      {
       "output_type": "stream",
       "stream": "stdout",
       "text": [
        "\n",
        "Optimization complete with best validation score 7.857143 %"
       ]
      },
      {
       "output_type": "stream",
       "stream": "stdout",
       "text": [
        "\n",
        "============classification rate on the whole dataset: "
       ]
      },
      {
       "output_type": "stream",
       "stream": "stdout",
       "text": [
        "0.0786666666667\n"
       ]
      }
     ],
     "prompt_number": 53
    },
    {
     "cell_type": "code",
     "collapsed": false,
     "input": [
      "## TEST Logistic Regression on blackbox data\n",
      "raw_X, raw_y = cPickle.load(open('data/blackbox.pkl', 'rb'))\n",
      "print raw_X.shape, raw_y.shape\n",
      "## reencode y classes \n",
      "raw_y = raw_y -1\n",
      "classes = np.unique(raw_y)\n",
      "print classes\n",
      "reload(theanoml.logistic_regression)\n",
      "model = theanoml.logistic_regression.LogisticRegression(classes)\n",
      "shared_X, shared_y = model._share_data(raw_X), model._share_data(raw_y, dtype='int32')\n",
      "print shared_X, shared_y\n",
      "model.fit(raw_X, raw_y)\n",
      "print 'classification error for blackbox data:', model.score(raw_X, raw_y)\n",
      "model.partial_fit(raw_X, raw_y)\n",
      "print 'classification error for blackbox data:', model.score(raw_X, raw_y)"
     ],
     "language": "python",
     "metadata": {},
     "outputs": [
      {
       "output_type": "stream",
       "stream": "stdout",
       "text": [
        "(1000, 1875) (1000,)\n",
        "[0 1 2 3 4 5 6 7 8]\n",
        "<TensorType(float64, matrix)> Elemwise{Cast{int32}}.0\n",
        "epoch 1, minibatch 1/1, validation error nan %"
       ]
      },
      {
       "output_type": "stream",
       "stream": "stdout",
       "text": [
        "\n",
        "epoch 2, minibatch 1/1, validation error nan %\n",
        "epoch 3, minibatch 1/1, validation error nan %\n",
        "epoch 4, minibatch 1/1, validation error nan %\n",
        "epoch 5, minibatch 1/1, validation error nan %\n",
        "epoch 6, minibatch 1/1, validation error nan %\n",
        "epoch 7, minibatch 1/1, validation error nan %\n",
        "epoch 8, minibatch 1/1, validation error nan %"
       ]
      },
      {
       "output_type": "stream",
       "stream": "stdout",
       "text": [
        "\n",
        "epoch 9, minibatch 1/1, validation error nan %\n",
        "epoch 10, minibatch 1/1, validation error nan %\n",
        "epoch 11, minibatch 1/1, validation error nan %\n",
        "epoch 12, minibatch 1/1, validation error nan %\n",
        "epoch 13, minibatch 1/1, validation error nan %\n",
        "epoch 14, minibatch 1/1, validation error nan %\n",
        "epoch 15, minibatch 1/1, validation error nan %"
       ]
      },
      {
       "output_type": "stream",
       "stream": "stdout",
       "text": [
        "\n",
        "epoch 16, minibatch 1/1, validation error nan %\n",
        "epoch 17, minibatch 1/1, validation error nan %\n",
        "epoch 18, minibatch 1/1, validation error nan %\n",
        "epoch 19, minibatch 1/1, validation error nan %\n",
        "epoch 20, minibatch 1/1, validation error nan %\n",
        "epoch 21, minibatch 1/1, validation error nan %\n",
        "epoch 22, minibatch 1/1, validation error nan %"
       ]
      },
      {
       "output_type": "stream",
       "stream": "stdout",
       "text": [
        "\n",
        "epoch 23, minibatch 1/1, validation error nan %\n",
        "epoch 24, minibatch 1/1, validation error nan %\n",
        "epoch 25, minibatch 1/1, validation error nan %\n",
        "epoch 26, minibatch 1/1, validation error nan %\n",
        "epoch 27, minibatch 1/1, validation error nan %\n",
        "epoch 28, minibatch 1/1, validation error nan %\n",
        "epoch 29, minibatch 1/1, validation error nan %"
       ]
      },
      {
       "output_type": "stream",
       "stream": "stdout",
       "text": [
        "\n",
        "epoch 30, minibatch 1/1, validation error nan %\n",
        "epoch 31, minibatch 1/1, validation error nan %\n",
        "epoch 32, minibatch 1/1, validation error nan %\n",
        "epoch 33, minibatch 1/1, validation error nan %\n",
        "epoch 34, minibatch 1/1, validation error nan %\n",
        "epoch 35, minibatch 1/1, validation error nan %\n",
        "epoch 36, minibatch 1/1, validation error nan %"
       ]
      },
      {
       "output_type": "stream",
       "stream": "stdout",
       "text": [
        "\n",
        "epoch 37, minibatch 1/1, validation error nan %\n",
        "epoch 38, minibatch 1/1, validation error nan %\n",
        "epoch 39, minibatch 1/1, validation error nan %\n",
        "epoch 40, minibatch 1/1, validation error nan %\n",
        "epoch 41, minibatch 1/1, validation error nan %\n",
        "epoch 42, minibatch 1/1, validation error nan %\n",
        "epoch 43, minibatch 1/1, validation error nan %"
       ]
      },
      {
       "output_type": "stream",
       "stream": "stdout",
       "text": [
        "\n",
        "epoch 44, minibatch 1/1, validation error nan %\n",
        "epoch 45, minibatch 1/1, validation error nan %\n",
        "epoch 46, minibatch 1/1, validation error nan %\n",
        "epoch 47, minibatch 1/1, validation error nan %\n",
        "epoch 48, minibatch 1/1, validation error nan %\n",
        "epoch 49, minibatch 1/1, validation error nan %\n",
        "epoch 50, minibatch 1/1, validation error nan %"
       ]
      },
      {
       "output_type": "stream",
       "stream": "stdout",
       "text": [
        "\n",
        "epoch 51, minibatch 1/1, validation error nan %\n",
        "epoch 52, minibatch 1/1, validation error nan %\n",
        "epoch 53, minibatch 1/1, validation error nan %\n",
        "epoch 54, minibatch 1/1, validation error nan %\n",
        "epoch 55, minibatch 1/1, validation error nan %\n",
        "epoch 56, minibatch 1/1, validation error nan %\n",
        "epoch 57, minibatch 1/1, validation error nan %"
       ]
      },
      {
       "output_type": "stream",
       "stream": "stdout",
       "text": [
        "\n",
        "epoch 58, minibatch 1/1, validation error nan %\n",
        "epoch 59, minibatch 1/1, validation error nan %\n",
        "epoch 60, minibatch 1/1, validation error nan %\n",
        "epoch 61, minibatch 1/1, validation error nan %\n",
        "epoch 62, minibatch 1/1, validation error nan %\n",
        "epoch 63, minibatch 1/1, validation error nan %\n",
        "epoch 64, minibatch 1/1, validation error nan %"
       ]
      },
      {
       "output_type": "stream",
       "stream": "stdout",
       "text": [
        "\n",
        "epoch 65, minibatch 1/1, validation error nan %\n",
        "epoch 66, minibatch 1/1, validation error nan %\n",
        "epoch 67, minibatch 1/1, validation error nan %\n",
        "epoch 68, minibatch 1/1, validation error nan %\n",
        "epoch 69, minibatch 1/1, validation error nan %\n",
        "epoch 70, minibatch 1/1, validation error nan %\n",
        "epoch 71, minibatch 1/1, validation error nan %"
       ]
      },
      {
       "output_type": "stream",
       "stream": "stdout",
       "text": [
        "\n",
        "epoch 72, minibatch 1/1, validation error nan %\n",
        "epoch 73, minibatch 1/1, validation error nan %\n",
        "epoch 74, minibatch 1/1, validation error nan %\n",
        "epoch 75, minibatch 1/1, validation error nan %\n",
        "epoch 76, minibatch 1/1, validation error nan %\n",
        "epoch 77, minibatch 1/1, validation error nan %\n",
        "epoch 78, minibatch 1/1, validation error nan %"
       ]
      },
      {
       "output_type": "stream",
       "stream": "stdout",
       "text": [
        "\n",
        "epoch 79, minibatch 1/1, validation error nan %\n",
        "epoch 80, minibatch 1/1, validation error nan %\n",
        "epoch 81, minibatch 1/1, validation error nan %\n",
        "epoch 82, minibatch 1/1, validation error nan %\n",
        "epoch 83, minibatch 1/1, validation error nan %\n",
        "epoch 84, minibatch 1/1, validation error nan %"
       ]
      },
      {
       "output_type": "stream",
       "stream": "stdout",
       "text": [
        "\n",
        "epoch 85, minibatch 1/1, validation error nan %\n",
        "epoch 86, minibatch 1/1, validation error nan %\n",
        "epoch 87, minibatch 1/1, validation error nan %\n",
        "epoch 88, minibatch 1/1, validation error nan %\n",
        "epoch 89, minibatch 1/1, validation error nan %\n",
        "epoch 90, minibatch 1/1, validation error nan %\n",
        "epoch 91, minibatch 1/1, validation error nan %"
       ]
      },
      {
       "output_type": "stream",
       "stream": "stdout",
       "text": [
        "\n",
        "epoch 92, minibatch 1/1, validation error nan %\n",
        "epoch 93, minibatch 1/1, validation error nan %\n",
        "epoch 94, minibatch 1/1, validation error nan %\n",
        "epoch 95, minibatch 1/1, validation error nan %\n",
        "epoch 96, minibatch 1/1, validation error nan %\n",
        "epoch 97, minibatch 1/1, validation error nan %\n",
        "epoch 98, minibatch 1/1, validation error nan %"
       ]
      },
      {
       "output_type": "stream",
       "stream": "stdout",
       "text": [
        "\n",
        "epoch 99, minibatch 1/1, validation error nan %\n",
        "epoch 100, minibatch 1/1, validation error nan %\n",
        "epoch 101, minibatch 1/1, validation error nan %\n",
        "epoch 102, minibatch 1/1, validation error nan %\n",
        "epoch 103, minibatch 1/1, validation error nan %\n",
        "epoch 104, minibatch 1/1, validation error nan %\n",
        "epoch 105, minibatch 1/1, validation error nan %"
       ]
      },
      {
       "output_type": "stream",
       "stream": "stdout",
       "text": [
        "\n",
        "epoch 106, minibatch 1/1, validation error nan %\n",
        "epoch 107, minibatch 1/1, validation error nan %\n",
        "epoch 108, minibatch 1/1, validation error nan %\n",
        "epoch 109, minibatch 1/1, validation error nan %\n",
        "epoch 110, minibatch 1/1, validation error nan %\n",
        "epoch 111, minibatch 1/1, validation error nan %\n",
        "epoch 112, minibatch 1/1, validation error nan %"
       ]
      },
      {
       "output_type": "stream",
       "stream": "stdout",
       "text": [
        "\n",
        "epoch 113, minibatch 1/1, validation error nan %\n",
        "epoch 114, minibatch 1/1, validation error nan %\n",
        "epoch 115, minibatch 1/1, validation error nan %\n",
        "epoch 116, minibatch 1/1, validation error nan %\n",
        "epoch 117, minibatch 1/1, validation error nan %\n",
        "epoch 118, minibatch 1/1, validation error nan %\n",
        "epoch 119, minibatch 1/1, validation error nan %"
       ]
      },
      {
       "output_type": "stream",
       "stream": "stdout",
       "text": [
        "\n",
        "epoch 120, minibatch 1/1, validation error nan %\n",
        "epoch 121, minibatch 1/1, validation error nan %\n",
        "epoch 122, minibatch 1/1, validation error nan %\n",
        "epoch 123, minibatch 1/1, validation error nan %\n",
        "epoch 124, minibatch 1/1, validation error nan %\n",
        "epoch 125, minibatch 1/1, validation error nan %\n",
        "epoch 126, minibatch 1/1, validation error nan %"
       ]
      },
      {
       "output_type": "stream",
       "stream": "stdout",
       "text": [
        "\n",
        "epoch 127, minibatch 1/1, validation error nan %\n",
        "epoch 128, minibatch 1/1, validation error nan %\n",
        "epoch 129, minibatch 1/1, validation error nan %\n",
        "epoch 130, minibatch 1/1, validation error nan %\n",
        "epoch 131, minibatch 1/1, validation error nan %\n",
        "epoch 132, minibatch 1/1, validation error nan %\n",
        "epoch 133, minibatch 1/1, validation error nan %"
       ]
      },
      {
       "output_type": "stream",
       "stream": "stdout",
       "text": [
        "\n",
        "epoch 134, minibatch 1/1, validation error nan %\n",
        "epoch 135, minibatch 1/1, validation error nan %\n",
        "epoch 136, minibatch 1/1, validation error nan %\n",
        "epoch 137, minibatch 1/1, validation error nan %\n",
        "epoch 138, minibatch 1/1, validation error nan %\n",
        "epoch 139, minibatch 1/1, validation error nan %"
       ]
      },
      {
       "output_type": "stream",
       "stream": "stdout",
       "text": [
        "\n",
        "epoch 140, minibatch 1/1, validation error nan %\n",
        "epoch 141, minibatch 1/1, validation error nan %\n",
        "epoch 142, minibatch 1/1, validation error nan %\n",
        "epoch 143, minibatch 1/1, validation error nan %\n",
        "epoch 144, minibatch 1/1, validation error nan %\n",
        "epoch 145, minibatch 1/1, validation error nan %"
       ]
      },
      {
       "output_type": "stream",
       "stream": "stdout",
       "text": [
        "\n",
        "epoch 146, minibatch 1/1, validation error nan %\n",
        "epoch 147, minibatch 1/1, validation error nan %\n",
        "epoch 148, minibatch 1/1, validation error nan %\n",
        "epoch 149, minibatch 1/1, validation error nan %\n",
        "epoch 150, minibatch 1/1, validation error nan %\n",
        "epoch 151, minibatch 1/1, validation error nan %"
       ]
      },
      {
       "output_type": "stream",
       "stream": "stdout",
       "text": [
        "\n",
        "epoch 152, minibatch 1/1, validation error nan %\n",
        "epoch 153, minibatch 1/1, validation error nan %\n",
        "epoch 154, minibatch 1/1, validation error nan %\n",
        "epoch 155, minibatch 1/1, validation error nan %\n",
        "epoch 156, minibatch 1/1, validation error nan %\n",
        "epoch 157, minibatch 1/1, validation error nan %"
       ]
      },
      {
       "output_type": "stream",
       "stream": "stdout",
       "text": [
        "\n",
        "epoch 158, minibatch 1/1, validation error nan %\n",
        "epoch 159, minibatch 1/1, validation error nan %\n",
        "epoch 160, minibatch 1/1, validation error nan %\n",
        "epoch 161, minibatch 1/1, validation error nan %\n",
        "epoch 162, minibatch 1/1, validation error nan %\n",
        "epoch 163, minibatch 1/1, validation error nan %"
       ]
      },
      {
       "output_type": "stream",
       "stream": "stdout",
       "text": [
        "\n",
        "epoch 164, minibatch 1/1, validation error nan %\n",
        "epoch 165, minibatch 1/1, validation error nan %\n",
        "epoch 166, minibatch 1/1, validation error nan %\n",
        "epoch 167, minibatch 1/1, validation error nan %\n",
        "epoch 168, minibatch 1/1, validation error nan %\n",
        "epoch 169, minibatch 1/1, validation error nan %"
       ]
      },
      {
       "output_type": "stream",
       "stream": "stdout",
       "text": [
        "\n",
        "epoch 170, minibatch 1/1, validation error nan %\n",
        "epoch 171, minibatch 1/1, validation error nan %\n",
        "epoch 172, minibatch 1/1, validation error nan %\n",
        "epoch 173, minibatch 1/1, validation error nan %\n",
        "epoch 174, minibatch 1/1, validation error nan %\n",
        "epoch 175, minibatch 1/1, validation error nan %"
       ]
      },
      {
       "output_type": "stream",
       "stream": "stdout",
       "text": [
        "\n",
        "epoch 176, minibatch 1/1, validation error nan %\n",
        "epoch 177, minibatch 1/1, validation error nan %\n",
        "epoch 178, minibatch 1/1, validation error nan %\n",
        "epoch 179, minibatch 1/1, validation error nan %\n",
        "epoch 180, minibatch 1/1, validation error nan %\n",
        "epoch 181, minibatch 1/1, validation error nan %"
       ]
      },
      {
       "output_type": "stream",
       "stream": "stdout",
       "text": [
        "\n",
        "epoch 182, minibatch 1/1, validation error nan %\n",
        "epoch 183, minibatch 1/1, validation error nan %\n",
        "epoch 184, minibatch 1/1, validation error nan %\n",
        "epoch 185, minibatch 1/1, validation error nan %\n",
        "epoch 186, minibatch 1/1, validation error nan %\n",
        "epoch 187, minibatch 1/1, validation error nan %"
       ]
      },
      {
       "output_type": "stream",
       "stream": "stdout",
       "text": [
        "\n",
        "epoch 188, minibatch 1/1, validation error nan %\n",
        "epoch 189, minibatch 1/1, validation error nan %\n",
        "epoch 190, minibatch 1/1, validation error nan %\n",
        "epoch 191, minibatch 1/1, validation error nan %\n",
        "epoch 192, minibatch 1/1, validation error nan %\n",
        "epoch 193, minibatch 1/1, validation error nan %"
       ]
      },
      {
       "output_type": "stream",
       "stream": "stdout",
       "text": [
        "\n",
        "epoch 194, minibatch 1/1, validation error nan %\n",
        "epoch 195, minibatch 1/1, validation error nan %\n",
        "epoch 196, minibatch 1/1, validation error nan %\n",
        "epoch 197, minibatch 1/1, validation error nan %\n",
        "epoch 198, minibatch 1/1, validation error nan %\n",
        "epoch 199, minibatch 1/1, validation error nan %"
       ]
      },
      {
       "output_type": "stream",
       "stream": "stdout",
       "text": [
        "\n",
        "epoch 200, minibatch 1/1, validation error nan %\n",
        "epoch 201, minibatch 1/1, validation error nan %\n",
        "epoch 202, minibatch 1/1, validation error nan %\n",
        "epoch 203, minibatch 1/1, validation error nan %\n",
        "epoch 204, minibatch 1/1, validation error nan %\n",
        "epoch 205, minibatch 1/1, validation error nan %"
       ]
      },
      {
       "output_type": "stream",
       "stream": "stdout",
       "text": [
        "\n",
        "epoch 206, minibatch 1/1, validation error nan %\n",
        "epoch 207, minibatch 1/1, validation error nan %\n",
        "epoch 208, minibatch 1/1, validation error nan %\n",
        "epoch 209, minibatch 1/1, validation error nan %\n",
        "epoch 210, minibatch 1/1, validation error nan %\n",
        "epoch 211, minibatch 1/1, validation error nan %"
       ]
      },
      {
       "output_type": "stream",
       "stream": "stdout",
       "text": [
        "\n",
        "epoch 212, minibatch 1/1, validation error nan %\n",
        "epoch 213, minibatch 1/1, validation error nan %\n",
        "epoch 214, minibatch 1/1, validation error nan %\n",
        "epoch 215, minibatch 1/1, validation error nan %\n",
        "epoch 216, minibatch 1/1, validation error nan %\n",
        "epoch 217, minibatch 1/1, validation error nan %"
       ]
      },
      {
       "output_type": "stream",
       "stream": "stdout",
       "text": [
        "\n",
        "epoch 218, minibatch 1/1, validation error nan %\n",
        "epoch 219, minibatch 1/1, validation error nan %\n",
        "epoch 220, minibatch 1/1, validation error nan %\n",
        "epoch 221, minibatch 1/1, validation error nan %\n",
        "epoch 222, minibatch 1/1, validation error nan %\n",
        "epoch 223, minibatch 1/1, validation error nan %\n",
        "epoch 224, minibatch 1/1, validation error nan %"
       ]
      },
      {
       "output_type": "stream",
       "stream": "stdout",
       "text": [
        "\n",
        "epoch 225, minibatch 1/1, validation error nan %\n",
        "epoch 226, minibatch 1/1, validation error nan %\n",
        "epoch 227, minibatch 1/1, validation error nan %\n",
        "epoch 228, minibatch 1/1, validation error nan %\n",
        "epoch 229, minibatch 1/1, validation error nan %\n",
        "epoch 230, minibatch 1/1, validation error nan %\n",
        "epoch 231, minibatch 1/1, validation error nan %"
       ]
      },
      {
       "output_type": "stream",
       "stream": "stdout",
       "text": [
        "\n",
        "epoch 232, minibatch 1/1, validation error nan %\n",
        "epoch 233, minibatch 1/1, validation error nan %\n",
        "epoch 234, minibatch 1/1, validation error nan %\n",
        "epoch 235, minibatch 1/1, validation error nan %\n",
        "epoch 236, minibatch 1/1, validation error nan %\n",
        "epoch 237, minibatch 1/1, validation error nan %\n",
        "epoch 238, minibatch 1/1, validation error nan %"
       ]
      },
      {
       "output_type": "stream",
       "stream": "stdout",
       "text": [
        "\n",
        "epoch 239, minibatch 1/1, validation error nan %\n",
        "epoch 240, minibatch 1/1, validation error nan %\n",
        "epoch 241, minibatch 1/1, validation error nan %\n",
        "epoch 242, minibatch 1/1, validation error nan %\n",
        "epoch 243, minibatch 1/1, validation error nan %\n",
        "epoch 244, minibatch 1/1, validation error nan %\n",
        "epoch 245, minibatch 1/1, validation error nan %"
       ]
      },
      {
       "output_type": "stream",
       "stream": "stdout",
       "text": [
        "\n",
        "epoch 246, minibatch 1/1, validation error nan %\n",
        "epoch 247, minibatch 1/1, validation error nan %\n",
        "epoch 248, minibatch 1/1, validation error nan %\n",
        "epoch 249, minibatch 1/1, validation error nan %\n",
        "epoch 250, minibatch 1/1, validation error nan %\n",
        "epoch 251, minibatch 1/1, validation error nan %\n",
        "epoch 252, minibatch 1/1, validation error nan %"
       ]
      },
      {
       "output_type": "stream",
       "stream": "stdout",
       "text": [
        "\n",
        "epoch 253, minibatch 1/1, validation error nan %\n",
        "epoch 254, minibatch 1/1, validation error nan %\n",
        "epoch 255, minibatch 1/1, validation error nan %\n",
        "epoch 256, minibatch 1/1, validation error nan %\n",
        "epoch 257, minibatch 1/1, validation error nan %\n",
        "epoch 258, minibatch 1/1, validation error nan %\n",
        "epoch 259, minibatch 1/1, validation error nan %"
       ]
      },
      {
       "output_type": "stream",
       "stream": "stdout",
       "text": [
        "\n",
        "epoch 260, minibatch 1/1, validation error nan %\n",
        "epoch 261, minibatch 1/1, validation error nan %\n",
        "epoch 262, minibatch 1/1, validation error nan %\n",
        "epoch 263, minibatch 1/1, validation error nan %\n",
        "epoch 264, minibatch 1/1, validation error nan %\n",
        "epoch 265, minibatch 1/1, validation error nan %\n",
        "epoch 266, minibatch 1/1, validation error nan %"
       ]
      },
      {
       "output_type": "stream",
       "stream": "stdout",
       "text": [
        "\n",
        "epoch 267, minibatch 1/1, validation error nan %\n",
        "epoch 268, minibatch 1/1, validation error nan %\n",
        "epoch 269, minibatch 1/1, validation error nan %\n",
        "epoch 270, minibatch 1/1, validation error nan %\n",
        "epoch 271, minibatch 1/1, validation error nan %\n",
        "epoch 272, minibatch 1/1, validation error nan %\n",
        "epoch 273, minibatch 1/1, validation error nan %"
       ]
      },
      {
       "output_type": "stream",
       "stream": "stdout",
       "text": [
        "\n",
        "epoch 274, minibatch 1/1, validation error nan %\n",
        "epoch 275, minibatch 1/1, validation error nan %\n",
        "epoch 276, minibatch 1/1, validation error nan %\n",
        "epoch 277, minibatch 1/1, validation error nan %\n",
        "epoch 278, minibatch 1/1, validation error nan %\n",
        "epoch 279, minibatch 1/1, validation error nan %\n",
        "epoch 280, minibatch 1/1, validation error nan %"
       ]
      },
      {
       "output_type": "stream",
       "stream": "stdout",
       "text": [
        "\n",
        "epoch 281, minibatch 1/1, validation error nan %\n",
        "epoch 282, minibatch 1/1, validation error nan %\n",
        "epoch 283, minibatch 1/1, validation error nan %\n",
        "epoch 284, minibatch 1/1, validation error nan %\n",
        "epoch 285, minibatch 1/1, validation error nan %\n",
        "epoch 286, minibatch 1/1, validation error nan %\n",
        "epoch 287, minibatch 1/1, validation error nan %"
       ]
      },
      {
       "output_type": "stream",
       "stream": "stdout",
       "text": [
        "\n",
        "epoch 288, minibatch 1/1, validation error nan %\n",
        "epoch 289, minibatch 1/1, validation error nan %\n",
        "epoch 290, minibatch 1/1, validation error nan %\n",
        "epoch 291, minibatch 1/1, validation error nan %\n",
        "epoch 292, minibatch 1/1, validation error nan %\n",
        "epoch 293, minibatch 1/1, validation error nan %\n",
        "epoch 294, minibatch 1/1, validation error nan %"
       ]
      },
      {
       "output_type": "stream",
       "stream": "stdout",
       "text": [
        "\n",
        "epoch 295, minibatch 1/1, validation error nan %\n",
        "epoch 296, minibatch 1/1, validation error nan %\n",
        "epoch 297, minibatch 1/1, validation error nan %\n",
        "epoch 298, minibatch 1/1, validation error nan %\n",
        "epoch 299, minibatch 1/1, validation error nan %\n",
        "epoch 300, minibatch 1/1, validation error nan %"
       ]
      },
      {
       "output_type": "stream",
       "stream": "stdout",
       "text": [
        "\n",
        "epoch 301, minibatch 1/1, validation error nan %\n",
        "epoch 302, minibatch 1/1, validation error nan %\n",
        "epoch 303, minibatch 1/1, validation error nan %\n",
        "epoch 304, minibatch 1/1, validation error nan %\n",
        "epoch 305, minibatch 1/1, validation error nan %\n",
        "epoch 306, minibatch 1/1, validation error nan %"
       ]
      },
      {
       "output_type": "stream",
       "stream": "stdout",
       "text": [
        "\n",
        "epoch 307, minibatch 1/1, validation error nan %\n",
        "epoch 308, minibatch 1/1, validation error nan %\n",
        "epoch 309, minibatch 1/1, validation error nan %\n",
        "epoch 310, minibatch 1/1, validation error nan %\n",
        "epoch 311, minibatch 1/1, validation error nan %\n",
        "epoch 312, minibatch 1/1, validation error nan %"
       ]
      },
      {
       "output_type": "stream",
       "stream": "stdout",
       "text": [
        "\n",
        "epoch 313, minibatch 1/1, validation error nan %\n",
        "epoch 314, minibatch 1/1, validation error nan %\n",
        "epoch 315, minibatch 1/1, validation error nan %\n",
        "epoch 316, minibatch 1/1, validation error nan %\n",
        "epoch 317, minibatch 1/1, validation error nan %\n",
        "epoch 318, minibatch 1/1, validation error nan %"
       ]
      },
      {
       "output_type": "stream",
       "stream": "stdout",
       "text": [
        "\n",
        "epoch 319, minibatch 1/1, validation error nan %\n",
        "epoch 320, minibatch 1/1, validation error nan %\n",
        "epoch 321, minibatch 1/1, validation error nan %\n",
        "epoch 322, minibatch 1/1, validation error nan %\n",
        "epoch 323, minibatch 1/1, validation error nan %\n",
        "epoch 324, minibatch 1/1, validation error nan %"
       ]
      },
      {
       "output_type": "stream",
       "stream": "stdout",
       "text": [
        "\n",
        "epoch 325, minibatch 1/1, validation error nan %\n",
        "epoch 326, minibatch 1/1, validation error nan %\n",
        "epoch 327, minibatch 1/1, validation error nan %\n",
        "epoch 328, minibatch 1/1, validation error nan %\n",
        "epoch 329, minibatch 1/1, validation error nan %\n",
        "epoch 330, minibatch 1/1, validation error nan %"
       ]
      },
      {
       "output_type": "stream",
       "stream": "stdout",
       "text": [
        "\n",
        "epoch 331, minibatch 1/1, validation error nan %\n",
        "epoch 332, minibatch 1/1, validation error nan %\n",
        "epoch 333, minibatch 1/1, validation error nan %\n",
        "epoch 334, minibatch 1/1, validation error nan %\n",
        "epoch 335, minibatch 1/1, validation error nan %\n",
        "epoch 336, minibatch 1/1, validation error nan %"
       ]
      },
      {
       "output_type": "stream",
       "stream": "stdout",
       "text": [
        "\n",
        "epoch 337, minibatch 1/1, validation error nan %\n",
        "epoch 338, minibatch 1/1, validation error nan %\n",
        "epoch 339, minibatch 1/1, validation error nan %\n",
        "epoch 340, minibatch 1/1, validation error nan %\n",
        "epoch 341, minibatch 1/1, validation error nan %\n",
        "epoch 342, minibatch 1/1, validation error nan %"
       ]
      },
      {
       "output_type": "stream",
       "stream": "stdout",
       "text": [
        "\n",
        "epoch 343, minibatch 1/1, validation error nan %\n",
        "epoch 344, minibatch 1/1, validation error nan %\n",
        "epoch 345, minibatch 1/1, validation error nan %\n",
        "epoch 346, minibatch 1/1, validation error nan %\n",
        "epoch 347, minibatch 1/1, validation error nan %\n",
        "epoch 348, minibatch 1/1, validation error nan %"
       ]
      },
      {
       "output_type": "stream",
       "stream": "stdout",
       "text": [
        "\n",
        "epoch 349, minibatch 1/1, validation error nan %\n",
        "epoch 350, minibatch 1/1, validation error nan %\n",
        "epoch 351, minibatch 1/1, validation error nan %\n",
        "epoch 352, minibatch 1/1, validation error nan %\n",
        "epoch 353, minibatch 1/1, validation error nan %\n",
        "epoch 354, minibatch 1/1, validation error nan %"
       ]
      },
      {
       "output_type": "stream",
       "stream": "stdout",
       "text": [
        "\n",
        "epoch 355, minibatch 1/1, validation error nan %\n",
        "epoch 356, minibatch 1/1, validation error nan %\n",
        "epoch 357, minibatch 1/1, validation error nan %\n",
        "epoch 358, minibatch 1/1, validation error nan %\n",
        "epoch 359, minibatch 1/1, validation error nan %\n",
        "epoch 360, minibatch 1/1, validation error nan %"
       ]
      },
      {
       "output_type": "stream",
       "stream": "stdout",
       "text": [
        "\n",
        "epoch 361, minibatch 1/1, validation error nan %\n",
        "epoch 362, minibatch 1/1, validation error nan %\n",
        "epoch 363, minibatch 1/1, validation error nan %\n",
        "epoch 364, minibatch 1/1, validation error nan %\n",
        "epoch 365, minibatch 1/1, validation error nan %\n",
        "epoch 366, minibatch 1/1, validation error nan %"
       ]
      },
      {
       "output_type": "stream",
       "stream": "stdout",
       "text": [
        "\n",
        "epoch 367, minibatch 1/1, validation error nan %\n",
        "epoch 368, minibatch 1/1, validation error nan %\n",
        "epoch 369, minibatch 1/1, validation error nan %\n",
        "epoch 370, minibatch 1/1, validation error nan %\n",
        "epoch 371, minibatch 1/1, validation error nan %\n",
        "epoch 372, minibatch 1/1, validation error nan %"
       ]
      },
      {
       "output_type": "stream",
       "stream": "stdout",
       "text": [
        "\n",
        "epoch 373, minibatch 1/1, validation error nan %\n",
        "epoch 374, minibatch 1/1, validation error nan %\n",
        "epoch 375, minibatch 1/1, validation error nan %\n",
        "epoch 376, minibatch 1/1, validation error nan %\n",
        "epoch 377, minibatch 1/1, validation error nan %\n",
        "epoch 378, minibatch 1/1, validation error nan %"
       ]
      },
      {
       "output_type": "stream",
       "stream": "stdout",
       "text": [
        "\n",
        "epoch 379, minibatch 1/1, validation error nan %\n",
        "epoch 380, minibatch 1/1, validation error nan %\n",
        "epoch 381, minibatch 1/1, validation error nan %\n",
        "epoch 382, minibatch 1/1, validation error nan %\n",
        "epoch 383, minibatch 1/1, validation error nan %\n",
        "epoch 384, minibatch 1/1, validation error nan %\n",
        "epoch 385, minibatch 1/1, validation error nan %"
       ]
      },
      {
       "output_type": "stream",
       "stream": "stdout",
       "text": [
        "\n",
        "epoch 386, minibatch 1/1, validation error nan %\n",
        "epoch 387, minibatch 1/1, validation error nan %\n",
        "epoch 388, minibatch 1/1, validation error nan %\n",
        "epoch 389, minibatch 1/1, validation error nan %\n",
        "epoch 390, minibatch 1/1, validation error nan %\n",
        "epoch 391, minibatch 1/1, validation error nan %"
       ]
      },
      {
       "output_type": "stream",
       "stream": "stdout",
       "text": [
        "\n",
        "epoch 392, minibatch 1/1, validation error nan %\n",
        "epoch 393, minibatch 1/1, validation error nan %\n",
        "epoch 394, minibatch 1/1, validation error nan %\n",
        "epoch 395, minibatch 1/1, validation error nan %\n",
        "epoch 396, minibatch 1/1, validation error nan %\n",
        "epoch 397, minibatch 1/1, validation error nan %\n",
        "epoch 398, minibatch 1/1, validation error nan %"
       ]
      },
      {
       "output_type": "stream",
       "stream": "stdout",
       "text": [
        "\n",
        "epoch 399, minibatch 1/1, validation error nan %\n",
        "epoch 400, minibatch 1/1, validation error nan %\n",
        "epoch 401, minibatch 1/1, validation error nan %\n",
        "epoch 402, minibatch 1/1, validation error nan %\n",
        "epoch 403, minibatch 1/1, validation error nan %\n",
        "epoch 404, minibatch 1/1, validation error nan %\n",
        "epoch 405, minibatch 1/1, validation error nan %"
       ]
      },
      {
       "output_type": "stream",
       "stream": "stdout",
       "text": [
        "\n",
        "epoch 406, minibatch 1/1, validation error nan %\n",
        "epoch 407, minibatch 1/1, validation error nan %\n",
        "epoch 408, minibatch 1/1, validation error nan %\n",
        "epoch 409, minibatch 1/1, validation error nan %\n",
        "epoch 410, minibatch 1/1, validation error nan %\n",
        "epoch 411, minibatch 1/1, validation error nan %"
       ]
      },
      {
       "output_type": "stream",
       "stream": "stdout",
       "text": [
        "\n",
        "epoch 412, minibatch 1/1, validation error nan %\n",
        "epoch 413, minibatch 1/1, validation error nan %\n",
        "epoch 414, minibatch 1/1, validation error nan %\n",
        "epoch 415, minibatch 1/1, validation error nan %\n",
        "epoch 416, minibatch 1/1, validation error nan %\n",
        "epoch 417, minibatch 1/1, validation error nan %\n",
        "epoch 418, minibatch 1/1, validation error nan %"
       ]
      },
      {
       "output_type": "stream",
       "stream": "stdout",
       "text": [
        "\n",
        "epoch 419, minibatch 1/1, validation error nan %\n",
        "epoch 420, minibatch 1/1, validation error nan %\n",
        "epoch 421, minibatch 1/1, validation error nan %\n",
        "epoch 422, minibatch 1/1, validation error nan %\n",
        "epoch 423, minibatch 1/1, validation error nan %\n",
        "epoch 424, minibatch 1/1, validation error nan %\n",
        "epoch 425, minibatch 1/1, validation error nan %"
       ]
      },
      {
       "output_type": "stream",
       "stream": "stdout",
       "text": [
        "\n",
        "epoch 426, minibatch 1/1, validation error nan %\n",
        "epoch 427, minibatch 1/1, validation error nan %\n",
        "epoch 428, minibatch 1/1, validation error nan %\n",
        "epoch 429, minibatch 1/1, validation error nan %\n",
        "epoch 430, minibatch 1/1, validation error nan %\n",
        "epoch 431, minibatch 1/1, validation error nan %\n",
        "epoch 432, minibatch 1/1, validation error nan %"
       ]
      },
      {
       "output_type": "stream",
       "stream": "stdout",
       "text": [
        "\n",
        "epoch 433, minibatch 1/1, validation error nan %\n",
        "epoch 434, minibatch 1/1, validation error nan %\n",
        "epoch 435, minibatch 1/1, validation error nan %\n",
        "epoch 436, minibatch 1/1, validation error nan %\n",
        "epoch 437, minibatch 1/1, validation error nan %\n",
        "epoch 438, minibatch 1/1, validation error nan %"
       ]
      },
      {
       "output_type": "stream",
       "stream": "stdout",
       "text": [
        "\n",
        "epoch 439, minibatch 1/1, validation error nan %\n",
        "epoch 440, minibatch 1/1, validation error nan %\n",
        "epoch 441, minibatch 1/1, validation error nan %\n",
        "epoch 442, minibatch 1/1, validation error nan %\n",
        "epoch 443, minibatch 1/1, validation error nan %\n",
        "epoch 444, minibatch 1/1, validation error nan %\n",
        "epoch 445, minibatch 1/1, validation error nan %"
       ]
      },
      {
       "output_type": "stream",
       "stream": "stdout",
       "text": [
        "\n",
        "epoch 446, minibatch 1/1, validation error nan %\n",
        "epoch 447, minibatch 1/1, validation error nan %\n",
        "epoch 448, minibatch 1/1, validation error nan %\n",
        "epoch 449, minibatch 1/1, validation error nan %\n",
        "epoch 450, minibatch 1/1, validation error nan %\n",
        "epoch 451, minibatch 1/1, validation error nan %\n",
        "epoch 452, minibatch 1/1, validation error nan %"
       ]
      },
      {
       "output_type": "stream",
       "stream": "stdout",
       "text": [
        "\n",
        "epoch 453, minibatch 1/1, validation error nan %\n",
        "epoch 454, minibatch 1/1, validation error nan %\n",
        "epoch 455, minibatch 1/1, validation error nan %\n",
        "epoch 456, minibatch 1/1, validation error nan %\n",
        "epoch 457, minibatch 1/1, validation error nan %\n",
        "epoch 458, minibatch 1/1, validation error nan %\n",
        "epoch 459, minibatch 1/1, validation error nan %"
       ]
      },
      {
       "output_type": "stream",
       "stream": "stdout",
       "text": [
        "\n",
        "epoch 460, minibatch 1/1, validation error nan %\n",
        "epoch 461, minibatch 1/1, validation error nan %\n",
        "epoch 462, minibatch 1/1, validation error nan %\n",
        "epoch 463, minibatch 1/1, validation error nan %\n",
        "epoch 464, minibatch 1/1, validation error nan %\n",
        "epoch 465, minibatch 1/1, validation error nan %\n",
        "epoch 466, minibatch 1/1, validation error nan %"
       ]
      },
      {
       "output_type": "stream",
       "stream": "stdout",
       "text": [
        "\n",
        "epoch 467, minibatch 1/1, validation error nan %\n",
        "epoch 468, minibatch 1/1, validation error nan %\n",
        "epoch 469, minibatch 1/1, validation error nan %\n",
        "epoch 470, minibatch 1/1, validation error nan %\n",
        "epoch 471, minibatch 1/1, validation error nan %\n",
        "epoch 472, minibatch 1/1, validation error nan %\n",
        "epoch 473, minibatch 1/1, validation error nan %"
       ]
      },
      {
       "output_type": "stream",
       "stream": "stdout",
       "text": [
        "\n",
        "epoch 474, minibatch 1/1, validation error nan %\n",
        "epoch 475, minibatch 1/1, validation error nan %\n",
        "epoch 476, minibatch 1/1, validation error nan %\n",
        "epoch 477, minibatch 1/1, validation error nan %\n",
        "epoch 478, minibatch 1/1, validation error nan %\n",
        "epoch 479, minibatch 1/1, validation error nan %\n",
        "epoch 480, minibatch 1/1, validation error nan %"
       ]
      },
      {
       "output_type": "stream",
       "stream": "stdout",
       "text": [
        "\n",
        "epoch 481, minibatch 1/1, validation error nan %\n",
        "epoch 482, minibatch 1/1, validation error nan %\n",
        "epoch 483, minibatch 1/1, validation error nan %\n",
        "epoch 484, minibatch 1/1, validation error nan %\n",
        "epoch 485, minibatch 1/1, validation error nan %\n",
        "epoch 486, minibatch 1/1, validation error nan %"
       ]
      },
      {
       "output_type": "stream",
       "stream": "stdout",
       "text": [
        "\n",
        "epoch 487, minibatch 1/1, validation error nan %\n",
        "epoch 488, minibatch 1/1, validation error nan %\n",
        "epoch 489, minibatch 1/1, validation error nan %\n",
        "epoch 490, minibatch 1/1, validation error nan %\n",
        "epoch 491, minibatch 1/1, validation error nan %\n",
        "epoch 492, minibatch 1/1, validation error nan %\n",
        "epoch 493, minibatch 1/1, validation error nan %"
       ]
      },
      {
       "output_type": "stream",
       "stream": "stdout",
       "text": [
        "\n",
        "epoch 494, minibatch 1/1, validation error nan %\n",
        "epoch 495, minibatch 1/1, validation error nan %\n",
        "epoch 496, minibatch 1/1, validation error nan %\n",
        "epoch 497, minibatch 1/1, validation error nan %\n",
        "epoch 498, minibatch 1/1, validation error nan %\n",
        "epoch 499, minibatch 1/1, validation error nan %"
       ]
      },
      {
       "output_type": "stream",
       "stream": "stdout",
       "text": [
        "\n",
        "epoch 500, minibatch 1/1, validation error nan %\n",
        "epoch 501, minibatch 1/1, validation error nan %\n",
        "epoch 502, minibatch 1/1, validation error nan %\n",
        "epoch 503, minibatch 1/1, validation error nan %\n",
        "epoch 504, minibatch 1/1, validation error nan %\n",
        "epoch 505, minibatch 1/1, validation error nan %"
       ]
      },
      {
       "output_type": "stream",
       "stream": "stdout",
       "text": [
        "\n",
        "epoch 506, minibatch 1/1, validation error nan %\n",
        "epoch 507, minibatch 1/1, validation error nan %\n",
        "epoch 508, minibatch 1/1, validation error nan %\n",
        "epoch 509, minibatch 1/1, validation error nan %\n",
        "epoch 510, minibatch 1/1, validation error nan %\n",
        "epoch 511, minibatch 1/1, validation error nan %"
       ]
      },
      {
       "output_type": "stream",
       "stream": "stdout",
       "text": [
        "\n",
        "epoch 512, minibatch 1/1, validation error nan %\n",
        "epoch 513, minibatch 1/1, validation error nan %\n",
        "epoch 514, minibatch 1/1, validation error nan %\n",
        "epoch 515, minibatch 1/1, validation error nan %\n",
        "epoch 516, minibatch 1/1, validation error nan %\n",
        "epoch 517, minibatch 1/1, validation error nan %"
       ]
      },
      {
       "output_type": "stream",
       "stream": "stdout",
       "text": [
        "\n",
        "epoch 518, minibatch 1/1, validation error nan %\n",
        "epoch 519, minibatch 1/1, validation error nan %\n",
        "epoch 520, minibatch 1/1, validation error nan %\n",
        "epoch 521, minibatch 1/1, validation error nan %\n",
        "epoch 522, minibatch 1/1, validation error nan %\n",
        "epoch 523, minibatch 1/1, validation error nan %"
       ]
      },
      {
       "output_type": "stream",
       "stream": "stdout",
       "text": [
        "\n",
        "epoch 524, minibatch 1/1, validation error nan %\n",
        "epoch 525, minibatch 1/1, validation error nan %\n",
        "epoch 526, minibatch 1/1, validation error nan %\n",
        "epoch 527, minibatch 1/1, validation error nan %\n",
        "epoch 528, minibatch 1/1, validation error nan %\n",
        "epoch 529, minibatch 1/1, validation error nan %"
       ]
      },
      {
       "output_type": "stream",
       "stream": "stdout",
       "text": [
        "\n",
        "epoch 530, minibatch 1/1, validation error nan %\n",
        "epoch 531, minibatch 1/1, validation error nan %\n",
        "epoch 532, minibatch 1/1, validation error nan %\n",
        "epoch 533, minibatch 1/1, validation error nan %\n",
        "epoch 534, minibatch 1/1, validation error nan %\n",
        "epoch 535, minibatch 1/1, validation error nan %"
       ]
      },
      {
       "output_type": "stream",
       "stream": "stdout",
       "text": [
        "\n",
        "epoch 536, minibatch 1/1, validation error nan %\n",
        "epoch 537, minibatch 1/1, validation error nan %\n",
        "epoch 538, minibatch 1/1, validation error nan %\n",
        "epoch 539, minibatch 1/1, validation error nan %\n",
        "epoch 540, minibatch 1/1, validation error nan %\n",
        "epoch 541, minibatch 1/1, validation error nan %"
       ]
      },
      {
       "output_type": "stream",
       "stream": "stdout",
       "text": [
        "\n",
        "epoch 542, minibatch 1/1, validation error nan %\n",
        "epoch 543, minibatch 1/1, validation error nan %\n",
        "epoch 544, minibatch 1/1, validation error nan %\n",
        "epoch 545, minibatch 1/1, validation error nan %\n",
        "epoch 546, minibatch 1/1, validation error nan %\n",
        "epoch 547, minibatch 1/1, validation error nan %\n",
        "epoch 548, minibatch 1/1, validation error nan %"
       ]
      },
      {
       "output_type": "stream",
       "stream": "stdout",
       "text": [
        "\n",
        "epoch 549, minibatch 1/1, validation error nan %\n",
        "epoch 550, minibatch 1/1, validation error nan %\n",
        "epoch 551, minibatch 1/1, validation error nan %\n",
        "epoch 552, minibatch 1/1, validation error nan %\n",
        "epoch 553, minibatch 1/1, validation error nan %\n",
        "epoch 554, minibatch 1/1, validation error nan %\n",
        "epoch 555, minibatch 1/1, validation error nan %"
       ]
      },
      {
       "output_type": "stream",
       "stream": "stdout",
       "text": [
        "\n",
        "epoch 556, minibatch 1/1, validation error nan %\n",
        "epoch 557, minibatch 1/1, validation error nan %\n",
        "epoch 558, minibatch 1/1, validation error nan %\n",
        "epoch 559, minibatch 1/1, validation error nan %\n",
        "epoch 560, minibatch 1/1, validation error nan %\n",
        "epoch 561, minibatch 1/1, validation error nan %"
       ]
      },
      {
       "output_type": "stream",
       "stream": "stdout",
       "text": [
        "\n",
        "epoch 562, minibatch 1/1, validation error nan %\n",
        "epoch 563, minibatch 1/1, validation error nan %\n",
        "epoch 564, minibatch 1/1, validation error nan %\n",
        "epoch 565, minibatch 1/1, validation error nan %\n",
        "epoch 566, minibatch 1/1, validation error nan %\n",
        "epoch 567, minibatch 1/1, validation error nan %\n",
        "epoch 568, minibatch 1/1, validation error nan %"
       ]
      },
      {
       "output_type": "stream",
       "stream": "stdout",
       "text": [
        "\n",
        "epoch 569, minibatch 1/1, validation error nan %\n",
        "epoch 570, minibatch 1/1, validation error nan %\n",
        "epoch 571, minibatch 1/1, validation error nan %\n",
        "epoch 572, minibatch 1/1, validation error nan %\n",
        "epoch 573, minibatch 1/1, validation error nan %\n",
        "epoch 574, minibatch 1/1, validation error nan %\n",
        "epoch 575, minibatch 1/1, validation error nan %"
       ]
      },
      {
       "output_type": "stream",
       "stream": "stdout",
       "text": [
        "\n",
        "epoch 576, minibatch 1/1, validation error nan %\n",
        "epoch 577, minibatch 1/1, validation error nan %\n",
        "epoch 578, minibatch 1/1, validation error nan %\n",
        "epoch 579, minibatch 1/1, validation error nan %\n",
        "epoch 580, minibatch 1/1, validation error nan %\n",
        "epoch 581, minibatch 1/1, validation error nan %\n",
        "epoch 582, minibatch 1/1, validation error nan %"
       ]
      },
      {
       "output_type": "stream",
       "stream": "stdout",
       "text": [
        "\n",
        "epoch 583, minibatch 1/1, validation error nan %\n",
        "epoch 584, minibatch 1/1, validation error nan %\n",
        "epoch 585, minibatch 1/1, validation error nan %\n",
        "epoch 586, minibatch 1/1, validation error nan %\n",
        "epoch 587, minibatch 1/1, validation error nan %\n",
        "epoch 588, minibatch 1/1, validation error nan %\n",
        "epoch 589, minibatch 1/1, validation error nan %"
       ]
      },
      {
       "output_type": "stream",
       "stream": "stdout",
       "text": [
        "\n",
        "epoch 590, minibatch 1/1, validation error nan %\n",
        "epoch 591, minibatch 1/1, validation error nan %\n",
        "epoch 592, minibatch 1/1, validation error nan %\n",
        "epoch 593, minibatch 1/1, validation error nan %\n",
        "epoch 594, minibatch 1/1, validation error nan %\n",
        "epoch 595, minibatch 1/1, validation error nan %\n",
        "epoch 596, minibatch 1/1, validation error nan %"
       ]
      },
      {
       "output_type": "stream",
       "stream": "stdout",
       "text": [
        "\n",
        "epoch 597, minibatch 1/1, validation error nan %\n",
        "epoch 598, minibatch 1/1, validation error nan %\n",
        "epoch 599, minibatch 1/1, validation error nan %\n",
        "epoch 600, minibatch 1/1, validation error nan %\n",
        "epoch 601, minibatch 1/1, validation error nan %\n",
        "epoch 602, minibatch 1/1, validation error nan %\n",
        "epoch 603, minibatch 1/1, validation error nan %"
       ]
      },
      {
       "output_type": "stream",
       "stream": "stdout",
       "text": [
        "\n",
        "epoch 604, minibatch 1/1, validation error nan %\n",
        "epoch 605, minibatch 1/1, validation error nan %\n",
        "epoch 606, minibatch 1/1, validation error nan %\n",
        "epoch 607, minibatch 1/1, validation error nan %\n",
        "epoch 608, minibatch 1/1, validation error nan %\n",
        "epoch 609, minibatch 1/1, validation error nan %"
       ]
      },
      {
       "output_type": "stream",
       "stream": "stdout",
       "text": [
        "\n",
        "epoch 610, minibatch 1/1, validation error nan %\n",
        "epoch 611, minibatch 1/1, validation error nan %\n",
        "epoch 612, minibatch 1/1, validation error nan %\n",
        "epoch 613, minibatch 1/1, validation error nan %\n",
        "epoch 614, minibatch 1/1, validation error nan %\n",
        "epoch 615, minibatch 1/1, validation error nan %\n",
        "epoch 616, minibatch 1/1, validation error nan %"
       ]
      },
      {
       "output_type": "stream",
       "stream": "stdout",
       "text": [
        "\n",
        "epoch 617, minibatch 1/1, validation error nan %\n",
        "epoch 618, minibatch 1/1, validation error nan %\n",
        "epoch 619, minibatch 1/1, validation error nan %\n",
        "epoch 620, minibatch 1/1, validation error nan %\n",
        "epoch 621, minibatch 1/1, validation error nan %\n",
        "epoch 622, minibatch 1/1, validation error nan %\n",
        "epoch 623, minibatch 1/1, validation error nan %"
       ]
      },
      {
       "output_type": "stream",
       "stream": "stdout",
       "text": [
        "\n",
        "epoch 624, minibatch 1/1, validation error nan %\n",
        "epoch 625, minibatch 1/1, validation error nan %\n",
        "epoch 626, minibatch 1/1, validation error nan %\n",
        "epoch 627, minibatch 1/1, validation error nan %\n",
        "epoch 628, minibatch 1/1, validation error nan %\n",
        "epoch 629, minibatch 1/1, validation error nan %"
       ]
      },
      {
       "output_type": "stream",
       "stream": "stdout",
       "text": [
        "\n",
        "epoch 630, minibatch 1/1, validation error nan %\n",
        "epoch 631, minibatch 1/1, validation error nan %\n",
        "epoch 632, minibatch 1/1, validation error nan %\n",
        "epoch 633, minibatch 1/1, validation error nan %\n",
        "epoch 634, minibatch 1/1, validation error nan %\n",
        "epoch 635, minibatch 1/1, validation error nan %\n",
        "epoch 636, minibatch 1/1, validation error nan %"
       ]
      },
      {
       "output_type": "stream",
       "stream": "stdout",
       "text": [
        "\n",
        "epoch 637, minibatch 1/1, validation error nan %\n",
        "epoch 638, minibatch 1/1, validation error nan %\n",
        "epoch 639, minibatch 1/1, validation error nan %\n",
        "epoch 640, minibatch 1/1, validation error nan %\n",
        "epoch 641, minibatch 1/1, validation error nan %\n",
        "epoch 642, minibatch 1/1, validation error nan %\n",
        "epoch 643, minibatch 1/1, validation error nan %"
       ]
      },
      {
       "output_type": "stream",
       "stream": "stdout",
       "text": [
        "\n",
        "epoch 644, minibatch 1/1, validation error nan %\n",
        "epoch 645, minibatch 1/1, validation error nan %\n",
        "epoch 646, minibatch 1/1, validation error nan %\n",
        "epoch 647, minibatch 1/1, validation error nan %\n",
        "epoch 648, minibatch 1/1, validation error nan %\n",
        "epoch 649, minibatch 1/1, validation error nan %\n",
        "epoch 650, minibatch 1/1, validation error nan %"
       ]
      },
      {
       "output_type": "stream",
       "stream": "stdout",
       "text": [
        "\n",
        "epoch 651, minibatch 1/1, validation error nan %\n",
        "epoch 652, minibatch 1/1, validation error nan %\n",
        "epoch 653, minibatch 1/1, validation error nan %\n",
        "epoch 654, minibatch 1/1, validation error nan %\n",
        "epoch 655, minibatch 1/1, validation error nan %\n",
        "epoch 656, minibatch 1/1, validation error nan %\n",
        "epoch 657, minibatch 1/1, validation error nan %"
       ]
      },
      {
       "output_type": "stream",
       "stream": "stdout",
       "text": [
        "\n",
        "epoch 658, minibatch 1/1, validation error nan %\n",
        "epoch 659, minibatch 1/1, validation error nan %\n",
        "epoch 660, minibatch 1/1, validation error nan %\n",
        "epoch 661, minibatch 1/1, validation error nan %\n",
        "epoch 662, minibatch 1/1, validation error nan %\n",
        "epoch 663, minibatch 1/1, validation error nan %\n",
        "epoch 664, minibatch 1/1, validation error nan %"
       ]
      },
      {
       "output_type": "stream",
       "stream": "stdout",
       "text": [
        "\n",
        "epoch 665, minibatch 1/1, validation error nan %\n",
        "epoch 666, minibatch 1/1, validation error nan %\n",
        "epoch 667, minibatch 1/1, validation error nan %\n",
        "epoch 668, minibatch 1/1, validation error nan %\n",
        "epoch 669, minibatch 1/1, validation error nan %\n",
        "epoch 670, minibatch 1/1, validation error nan %\n",
        "epoch 671, minibatch 1/1, validation error nan %"
       ]
      },
      {
       "output_type": "stream",
       "stream": "stdout",
       "text": [
        "\n",
        "epoch 672, minibatch 1/1, validation error nan %\n",
        "epoch 673, minibatch 1/1, validation error nan %\n",
        "epoch 674, minibatch 1/1, validation error nan %\n",
        "epoch 675, minibatch 1/1, validation error nan %\n",
        "epoch 676, minibatch 1/1, validation error nan %\n",
        "epoch 677, minibatch 1/1, validation error nan %"
       ]
      },
      {
       "output_type": "stream",
       "stream": "stdout",
       "text": [
        "\n",
        "epoch 678, minibatch 1/1, validation error nan %\n",
        "epoch 679, minibatch 1/1, validation error nan %\n",
        "epoch 680, minibatch 1/1, validation error nan %\n",
        "epoch 681, minibatch 1/1, validation error nan %\n",
        "epoch 682, minibatch 1/1, validation error nan %\n",
        "epoch 683, minibatch 1/1, validation error nan %\n",
        "epoch 684, minibatch 1/1, validation error nan %"
       ]
      },
      {
       "output_type": "stream",
       "stream": "stdout",
       "text": [
        "\n",
        "epoch 685, minibatch 1/1, validation error nan %\n",
        "epoch 686, minibatch 1/1, validation error nan %\n",
        "epoch 687, minibatch 1/1, validation error nan %\n",
        "epoch 688, minibatch 1/1, validation error nan %\n",
        "epoch 689, minibatch 1/1, validation error nan %\n",
        "epoch 690, minibatch 1/1, validation error nan %\n",
        "epoch 691, minibatch 1/1, validation error nan %"
       ]
      },
      {
       "output_type": "stream",
       "stream": "stdout",
       "text": [
        "\n",
        "epoch 692, minibatch 1/1, validation error nan %\n",
        "epoch 693, minibatch 1/1, validation error nan %\n",
        "epoch 694, minibatch 1/1, validation error nan %\n",
        "epoch 695, minibatch 1/1, validation error nan %\n",
        "epoch 696, minibatch 1/1, validation error nan %\n",
        "epoch 697, minibatch 1/1, validation error nan %\n",
        "epoch 698, minibatch 1/1, validation error nan %"
       ]
      },
      {
       "output_type": "stream",
       "stream": "stdout",
       "text": [
        "\n",
        "epoch 699, minibatch 1/1, validation error nan %\n",
        "epoch 700, minibatch 1/1, validation error nan %\n",
        "epoch 701, minibatch 1/1, validation error nan %\n",
        "epoch 702, minibatch 1/1, validation error nan %\n",
        "epoch 703, minibatch 1/1, validation error nan %\n",
        "epoch 704, minibatch 1/1, validation error nan %"
       ]
      },
      {
       "output_type": "stream",
       "stream": "stdout",
       "text": [
        "\n",
        "epoch 705, minibatch 1/1, validation error nan %\n",
        "epoch 706, minibatch 1/1, validation error nan %\n",
        "epoch 707, minibatch 1/1, validation error nan %\n",
        "epoch 708, minibatch 1/1, validation error nan %\n",
        "epoch 709, minibatch 1/1, validation error nan %\n",
        "epoch 710, minibatch 1/1, validation error nan %\n",
        "epoch 711, minibatch 1/1, validation error nan %"
       ]
      },
      {
       "output_type": "stream",
       "stream": "stdout",
       "text": [
        "\n",
        "epoch 712, minibatch 1/1, validation error nan %\n",
        "epoch 713, minibatch 1/1, validation error nan %\n",
        "epoch 714, minibatch 1/1, validation error nan %\n",
        "epoch 715, minibatch 1/1, validation error nan %\n",
        "epoch 716, minibatch 1/1, validation error nan %\n",
        "epoch 717, minibatch 1/1, validation error nan %\n",
        "epoch 718, minibatch 1/1, validation error nan %"
       ]
      },
      {
       "output_type": "stream",
       "stream": "stdout",
       "text": [
        "\n",
        "epoch 719, minibatch 1/1, validation error nan %\n",
        "epoch 720, minibatch 1/1, validation error nan %\n",
        "epoch 721, minibatch 1/1, validation error nan %\n",
        "epoch 722, minibatch 1/1, validation error nan %\n",
        "epoch 723, minibatch 1/1, validation error nan %\n",
        "epoch 724, minibatch 1/1, validation error nan %\n",
        "epoch 725, minibatch 1/1, validation error nan %"
       ]
      },
      {
       "output_type": "stream",
       "stream": "stdout",
       "text": [
        "\n",
        "epoch 726, minibatch 1/1, validation error nan %\n",
        "epoch 727, minibatch 1/1, validation error nan %\n",
        "epoch 728, minibatch 1/1, validation error nan %\n",
        "epoch 729, minibatch 1/1, validation error nan %\n",
        "epoch 730, minibatch 1/1, validation error nan %\n",
        "epoch 731, minibatch 1/1, validation error nan %\n",
        "epoch 732, minibatch 1/1, validation error nan %"
       ]
      },
      {
       "output_type": "stream",
       "stream": "stdout",
       "text": [
        "\n",
        "epoch 733, minibatch 1/1, validation error nan %\n",
        "epoch 734, minibatch 1/1, validation error nan %\n",
        "epoch 735, minibatch 1/1, validation error nan %\n",
        "epoch 736, minibatch 1/1, validation error nan %\n",
        "epoch 737, minibatch 1/1, validation error nan %\n",
        "epoch 738, minibatch 1/1, validation error nan %\n",
        "epoch 739, minibatch 1/1, validation error nan %"
       ]
      },
      {
       "output_type": "stream",
       "stream": "stdout",
       "text": [
        "\n",
        "epoch 740, minibatch 1/1, validation error nan %\n",
        "epoch 741, minibatch 1/1, validation error nan %\n",
        "epoch 742, minibatch 1/1, validation error nan %\n",
        "epoch 743, minibatch 1/1, validation error nan %\n",
        "epoch 744, minibatch 1/1, validation error nan %\n",
        "epoch 745, minibatch 1/1, validation error nan %\n",
        "epoch 746, minibatch 1/1, validation error nan %"
       ]
      },
      {
       "output_type": "stream",
       "stream": "stdout",
       "text": [
        "\n",
        "epoch 747, minibatch 1/1, validation error nan %\n",
        "epoch 748, minibatch 1/1, validation error nan %\n",
        "epoch 749, minibatch 1/1, validation error nan %\n",
        "epoch 750, minibatch 1/1, validation error nan %\n",
        "epoch 751, minibatch 1/1, validation error nan %\n",
        "epoch 752, minibatch 1/1, validation error nan %\n",
        "epoch 753, minibatch 1/1, validation error nan %"
       ]
      },
      {
       "output_type": "stream",
       "stream": "stdout",
       "text": [
        "\n",
        "epoch 754, minibatch 1/1, validation error nan %\n",
        "epoch 755, minibatch 1/1, validation error nan %\n",
        "epoch 756, minibatch 1/1, validation error nan %\n",
        "epoch 757, minibatch 1/1, validation error nan %\n",
        "epoch 758, minibatch 1/1, validation error nan %\n",
        "epoch 759, minibatch 1/1, validation error nan %\n",
        "epoch 760, minibatch 1/1, validation error nan %"
       ]
      },
      {
       "output_type": "stream",
       "stream": "stdout",
       "text": [
        "\n",
        "epoch 761, minibatch 1/1, validation error nan %\n",
        "epoch 762, minibatch 1/1, validation error nan %\n",
        "epoch 763, minibatch 1/1, validation error nan %\n",
        "epoch 764, minibatch 1/1, validation error nan %\n",
        "epoch 765, minibatch 1/1, validation error nan %\n",
        "epoch 766, minibatch 1/1, validation error nan %\n",
        "epoch 767, minibatch 1/1, validation error nan %"
       ]
      },
      {
       "output_type": "stream",
       "stream": "stdout",
       "text": [
        "\n",
        "epoch 768, minibatch 1/1, validation error nan %\n",
        "epoch 769, minibatch 1/1, validation error nan %\n",
        "epoch 770, minibatch 1/1, validation error nan %\n",
        "epoch 771, minibatch 1/1, validation error nan %\n",
        "epoch 772, minibatch 1/1, validation error nan %\n",
        "epoch 773, minibatch 1/1, validation error nan %\n",
        "epoch 774, minibatch 1/1, validation error nan %"
       ]
      },
      {
       "output_type": "stream",
       "stream": "stdout",
       "text": [
        "\n",
        "epoch 775, minibatch 1/1, validation error nan %\n",
        "epoch 776, minibatch 1/1, validation error nan %\n",
        "epoch 777, minibatch 1/1, validation error nan %\n",
        "epoch 778, minibatch 1/1, validation error nan %\n",
        "epoch 779, minibatch 1/1, validation error nan %\n",
        "epoch 780, minibatch 1/1, validation error nan %\n",
        "epoch 781, minibatch 1/1, validation error nan %"
       ]
      },
      {
       "output_type": "stream",
       "stream": "stdout",
       "text": [
        "\n",
        "epoch 782, minibatch 1/1, validation error nan %\n",
        "epoch 783, minibatch 1/1, validation error nan %\n",
        "epoch 784, minibatch 1/1, validation error nan %\n",
        "epoch 785, minibatch 1/1, validation error nan %\n",
        "epoch 786, minibatch 1/1, validation error nan %\n",
        "epoch 787, minibatch 1/1, validation error nan %\n",
        "epoch 788, minibatch 1/1, validation error nan %"
       ]
      },
      {
       "output_type": "stream",
       "stream": "stdout",
       "text": [
        "\n",
        "epoch 789, minibatch 1/1, validation error nan %\n",
        "epoch 790, minibatch 1/1, validation error nan %\n",
        "epoch 791, minibatch 1/1, validation error nan %\n",
        "epoch 792, minibatch 1/1, validation error nan %\n",
        "epoch 793, minibatch 1/1, validation error nan %\n",
        "epoch 794, minibatch 1/1, validation error nan %\n",
        "epoch 795, minibatch 1/1, validation error nan %"
       ]
      },
      {
       "output_type": "stream",
       "stream": "stdout",
       "text": [
        "\n",
        "epoch 796, minibatch 1/1, validation error nan %\n",
        "epoch 797, minibatch 1/1, validation error nan %\n",
        "epoch 798, minibatch 1/1, validation error nan %\n",
        "epoch 799, minibatch 1/1, validation error nan %\n",
        "epoch 800, minibatch 1/1, validation error nan %\n",
        "epoch 801, minibatch 1/1, validation error nan %"
       ]
      },
      {
       "output_type": "stream",
       "stream": "stdout",
       "text": [
        "\n",
        "epoch 802, minibatch 1/1, validation error nan %\n",
        "epoch 803, minibatch 1/1, validation error nan %\n",
        "epoch 804, minibatch 1/1, validation error nan %\n",
        "epoch 805, minibatch 1/1, validation error nan %\n",
        "epoch 806, minibatch 1/1, validation error nan %\n",
        "epoch 807, minibatch 1/1, validation error nan %"
       ]
      },
      {
       "output_type": "stream",
       "stream": "stdout",
       "text": [
        "\n",
        "epoch 808, minibatch 1/1, validation error nan %\n",
        "epoch 809, minibatch 1/1, validation error nan %\n",
        "epoch 810, minibatch 1/1, validation error nan %\n",
        "epoch 811, minibatch 1/1, validation error nan %\n",
        "epoch 812, minibatch 1/1, validation error nan %\n",
        "epoch 813, minibatch 1/1, validation error nan %"
       ]
      },
      {
       "output_type": "stream",
       "stream": "stdout",
       "text": [
        "\n",
        "epoch 814, minibatch 1/1, validation error nan %\n",
        "epoch 815, minibatch 1/1, validation error nan %\n",
        "epoch 816, minibatch 1/1, validation error nan %\n",
        "epoch 817, minibatch 1/1, validation error nan %\n",
        "epoch 818, minibatch 1/1, validation error nan %\n",
        "epoch 819, minibatch 1/1, validation error nan %"
       ]
      },
      {
       "output_type": "stream",
       "stream": "stdout",
       "text": [
        "\n",
        "epoch 820, minibatch 1/1, validation error nan %\n",
        "epoch 821, minibatch 1/1, validation error nan %\n",
        "epoch 822, minibatch 1/1, validation error nan %\n",
        "epoch 823, minibatch 1/1, validation error nan %\n",
        "epoch 824, minibatch 1/1, validation error nan %\n",
        "epoch 825, minibatch 1/1, validation error nan %"
       ]
      },
      {
       "output_type": "stream",
       "stream": "stdout",
       "text": [
        "\n",
        "epoch 826, minibatch 1/1, validation error nan %\n",
        "epoch 827, minibatch 1/1, validation error nan %\n",
        "epoch 828, minibatch 1/1, validation error nan %\n",
        "epoch 829, minibatch 1/1, validation error nan %\n",
        "epoch 830, minibatch 1/1, validation error nan %\n",
        "epoch 831, minibatch 1/1, validation error nan %\n",
        "epoch 832, minibatch 1/1, validation error nan %"
       ]
      },
      {
       "output_type": "stream",
       "stream": "stdout",
       "text": [
        "\n",
        "epoch 833, minibatch 1/1, validation error nan %\n",
        "epoch 834, minibatch 1/1, validation error nan %\n",
        "epoch 835, minibatch 1/1, validation error nan %\n",
        "epoch 836, minibatch 1/1, validation error nan %\n",
        "epoch 837, minibatch 1/1, validation error nan %\n",
        "epoch 838, minibatch 1/1, validation error nan %\n",
        "epoch 839, minibatch 1/1, validation error nan %"
       ]
      },
      {
       "output_type": "stream",
       "stream": "stdout",
       "text": [
        "\n",
        "epoch 840, minibatch 1/1, validation error nan %\n",
        "epoch 841, minibatch 1/1, validation error nan %\n",
        "epoch 842, minibatch 1/1, validation error nan %\n",
        "epoch 843, minibatch 1/1, validation error nan %\n",
        "epoch 844, minibatch 1/1, validation error nan %\n",
        "epoch 845, minibatch 1/1, validation error nan %"
       ]
      },
      {
       "output_type": "stream",
       "stream": "stdout",
       "text": [
        "\n",
        "epoch 846, minibatch 1/1, validation error nan %\n",
        "epoch 847, minibatch 1/1, validation error nan %\n",
        "epoch 848, minibatch 1/1, validation error nan %\n",
        "epoch 849, minibatch 1/1, validation error nan %\n",
        "epoch 850, minibatch 1/1, validation error nan %\n",
        "epoch 851, minibatch 1/1, validation error nan %\n",
        "epoch 852, minibatch 1/1, validation error nan %"
       ]
      },
      {
       "output_type": "stream",
       "stream": "stdout",
       "text": [
        "\n",
        "epoch 853, minibatch 1/1, validation error nan %\n",
        "epoch 854, minibatch 1/1, validation error nan %\n",
        "epoch 855, minibatch 1/1, validation error nan %\n",
        "epoch 856, minibatch 1/1, validation error nan %\n",
        "epoch 857, minibatch 1/1, validation error nan %\n",
        "epoch 858, minibatch 1/1, validation error nan %\n",
        "epoch 859, minibatch 1/1, validation error nan %"
       ]
      },
      {
       "output_type": "stream",
       "stream": "stdout",
       "text": [
        "\n",
        "epoch 860, minibatch 1/1, validation error nan %\n",
        "epoch 861, minibatch 1/1, validation error nan %\n",
        "epoch 862, minibatch 1/1, validation error nan %\n",
        "epoch 863, minibatch 1/1, validation error nan %\n",
        "epoch 864, minibatch 1/1, validation error nan %\n",
        "epoch 865, minibatch 1/1, validation error nan %\n",
        "epoch 866, minibatch 1/1, validation error nan %"
       ]
      },
      {
       "output_type": "stream",
       "stream": "stdout",
       "text": [
        "\n",
        "epoch 867, minibatch 1/1, validation error nan %\n",
        "epoch 868, minibatch 1/1, validation error nan %\n",
        "epoch 869, minibatch 1/1, validation error nan %\n",
        "epoch 870, minibatch 1/1, validation error nan %\n",
        "epoch 871, minibatch 1/1, validation error nan %\n",
        "epoch 872, minibatch 1/1, validation error nan %\n",
        "epoch 873, minibatch 1/1, validation error nan %"
       ]
      },
      {
       "output_type": "stream",
       "stream": "stdout",
       "text": [
        "\n",
        "epoch 874, minibatch 1/1, validation error nan %\n",
        "epoch 875, minibatch 1/1, validation error nan %\n",
        "epoch 876, minibatch 1/1, validation error nan %\n",
        "epoch 877, minibatch 1/1, validation error nan %\n",
        "epoch 878, minibatch 1/1, validation error nan %\n",
        "epoch 879, minibatch 1/1, validation error nan %\n",
        "epoch 880, minibatch 1/1, validation error nan %"
       ]
      },
      {
       "output_type": "stream",
       "stream": "stdout",
       "text": [
        "\n",
        "epoch 881, minibatch 1/1, validation error nan %\n",
        "epoch 882, minibatch 1/1, validation error nan %\n",
        "epoch 883, minibatch 1/1, validation error nan %\n",
        "epoch 884, minibatch 1/1, validation error nan %\n",
        "epoch 885, minibatch 1/1, validation error nan %\n",
        "epoch 886, minibatch 1/1, validation error nan %\n",
        "epoch 887, minibatch 1/1, validation error nan %"
       ]
      },
      {
       "output_type": "stream",
       "stream": "stdout",
       "text": [
        "\n",
        "epoch 888, minibatch 1/1, validation error nan %\n",
        "epoch 889, minibatch 1/1, validation error nan %\n",
        "epoch 890, minibatch 1/1, validation error nan %\n",
        "epoch 891, minibatch 1/1, validation error nan %\n",
        "epoch 892, minibatch 1/1, validation error nan %\n",
        "epoch 893, minibatch 1/1, validation error nan %\n",
        "epoch 894, minibatch 1/1, validation error nan %"
       ]
      },
      {
       "output_type": "stream",
       "stream": "stdout",
       "text": [
        "\n",
        "epoch 895, minibatch 1/1, validation error nan %\n",
        "epoch 896, minibatch 1/1, validation error nan %\n",
        "epoch 897, minibatch 1/1, validation error nan %\n",
        "epoch 898, minibatch 1/1, validation error nan %\n",
        "epoch 899, minibatch 1/1, validation error nan %\n",
        "epoch 900, minibatch 1/1, validation error nan %\n",
        "epoch 901, minibatch 1/1, validation error nan %"
       ]
      },
      {
       "output_type": "stream",
       "stream": "stdout",
       "text": [
        "\n",
        "epoch 902, minibatch 1/1, validation error nan %\n",
        "epoch 903, minibatch 1/1, validation error nan %\n",
        "epoch 904, minibatch 1/1, validation error nan %\n",
        "epoch 905, minibatch 1/1, validation error nan %\n",
        "epoch 906, minibatch 1/1, validation error nan %\n",
        "epoch 907, minibatch 1/1, validation error nan %\n",
        "epoch 908, minibatch 1/1, validation error nan %"
       ]
      },
      {
       "output_type": "stream",
       "stream": "stdout",
       "text": [
        "\n",
        "epoch 909, minibatch 1/1, validation error nan %\n",
        "epoch 910, minibatch 1/1, validation error nan %\n",
        "epoch 911, minibatch 1/1, validation error nan %\n",
        "epoch 912, minibatch 1/1, validation error nan %\n",
        "epoch 913, minibatch 1/1, validation error nan %\n",
        "epoch 914, minibatch 1/1, validation error nan %\n",
        "epoch 915, minibatch 1/1, validation error nan %"
       ]
      },
      {
       "output_type": "stream",
       "stream": "stdout",
       "text": [
        "\n",
        "epoch 916, minibatch 1/1, validation error nan %\n",
        "epoch 917, minibatch 1/1, validation error nan %\n",
        "epoch 918, minibatch 1/1, validation error nan %\n",
        "epoch 919, minibatch 1/1, validation error nan %\n",
        "epoch 920, minibatch 1/1, validation error nan %\n",
        "epoch 921, minibatch 1/1, validation error nan %\n",
        "epoch 922, minibatch 1/1, validation error nan %"
       ]
      },
      {
       "output_type": "stream",
       "stream": "stdout",
       "text": [
        "\n",
        "epoch 923, minibatch 1/1, validation error nan %\n",
        "epoch 924, minibatch 1/1, validation error nan %\n",
        "epoch 925, minibatch 1/1, validation error nan %\n",
        "epoch 926, minibatch 1/1, validation error nan %\n",
        "epoch 927, minibatch 1/1, validation error nan %\n",
        "epoch 928, minibatch 1/1, validation error nan %\n",
        "epoch 929, minibatch 1/1, validation error nan %"
       ]
      },
      {
       "output_type": "stream",
       "stream": "stdout",
       "text": [
        "\n",
        "epoch 930, minibatch 1/1, validation error nan %\n",
        "epoch 931, minibatch 1/1, validation error nan %\n",
        "epoch 932, minibatch 1/1, validation error nan %\n",
        "epoch 933, minibatch 1/1, validation error nan %\n",
        "epoch 934, minibatch 1/1, validation error nan %\n",
        "epoch 935, minibatch 1/1, validation error nan %\n",
        "epoch 936, minibatch 1/1, validation error nan %"
       ]
      },
      {
       "output_type": "stream",
       "stream": "stdout",
       "text": [
        "\n",
        "epoch 937, minibatch 1/1, validation error nan %\n",
        "epoch 938, minibatch 1/1, validation error nan %\n",
        "epoch 939, minibatch 1/1, validation error nan %\n",
        "epoch 940, minibatch 1/1, validation error nan %\n",
        "epoch 941, minibatch 1/1, validation error nan %\n",
        "epoch 942, minibatch 1/1, validation error nan %\n",
        "epoch 943, minibatch 1/1, validation error nan %"
       ]
      },
      {
       "output_type": "stream",
       "stream": "stdout",
       "text": [
        "\n",
        "epoch 944, minibatch 1/1, validation error nan %\n",
        "epoch 945, minibatch 1/1, validation error nan %\n",
        "epoch 946, minibatch 1/1, validation error nan %\n",
        "epoch 947, minibatch 1/1, validation error nan %\n",
        "epoch 948, minibatch 1/1, validation error nan %\n",
        "epoch 949, minibatch 1/1, validation error nan %\n",
        "epoch 950, minibatch 1/1, validation error nan %"
       ]
      },
      {
       "output_type": "stream",
       "stream": "stdout",
       "text": [
        "\n",
        "epoch 951, minibatch 1/1, validation error nan %\n",
        "epoch 952, minibatch 1/1, validation error nan %\n",
        "epoch 953, minibatch 1/1, validation error nan %\n",
        "epoch 954, minibatch 1/1, validation error nan %\n",
        "epoch 955, minibatch 1/1, validation error nan %\n",
        "epoch 956, minibatch 1/1, validation error nan %\n",
        "epoch 957, minibatch 1/1, validation error nan %"
       ]
      },
      {
       "output_type": "stream",
       "stream": "stdout",
       "text": [
        "\n",
        "epoch 958, minibatch 1/1, validation error nan %\n",
        "epoch 959, minibatch 1/1, validation error nan %\n",
        "epoch 960, minibatch 1/1, validation error nan %\n",
        "epoch 961, minibatch 1/1, validation error nan %\n",
        "epoch 962, minibatch 1/1, validation error nan %\n",
        "epoch 963, minibatch 1/1, validation error nan %\n",
        "epoch 964, minibatch 1/1, validation error nan %"
       ]
      },
      {
       "output_type": "stream",
       "stream": "stdout",
       "text": [
        "\n",
        "epoch 965, minibatch 1/1, validation error nan %\n",
        "epoch 966, minibatch 1/1, validation error nan %\n",
        "epoch 967, minibatch 1/1, validation error nan %\n",
        "epoch 968, minibatch 1/1, validation error nan %\n",
        "epoch 969, minibatch 1/1, validation error nan %\n",
        "epoch 970, minibatch 1/1, validation error nan %\n",
        "epoch 971, minibatch 1/1, validation error nan %"
       ]
      },
      {
       "output_type": "stream",
       "stream": "stdout",
       "text": [
        "\n",
        "epoch 972, minibatch 1/1, validation error nan %\n",
        "epoch 973, minibatch 1/1, validation error nan %\n",
        "epoch 974, minibatch 1/1, validation error nan %\n",
        "epoch 975, minibatch 1/1, validation error nan %\n",
        "epoch 976, minibatch 1/1, validation error nan %\n",
        "epoch 977, minibatch 1/1, validation error nan %\n",
        "epoch 978, minibatch 1/1, validation error nan %"
       ]
      },
      {
       "output_type": "stream",
       "stream": "stdout",
       "text": [
        "\n",
        "epoch 979, minibatch 1/1, validation error nan %\n",
        "epoch 980, minibatch 1/1, validation error nan %\n",
        "epoch 981, minibatch 1/1, validation error nan %\n",
        "epoch 982, minibatch 1/1, validation error nan %\n",
        "epoch 983, minibatch 1/1, validation error nan %\n",
        "epoch 984, minibatch 1/1, validation error nan %"
       ]
      },
      {
       "output_type": "stream",
       "stream": "stdout",
       "text": [
        "\n",
        "epoch 985, minibatch 1/1, validation error nan %\n",
        "epoch 986, minibatch 1/1, validation error nan %\n",
        "epoch 987, minibatch 1/1, validation error nan %\n",
        "epoch 988, minibatch 1/1, validation error nan %\n",
        "epoch 989, minibatch 1/1, validation error nan %\n",
        "epoch 990, minibatch 1/1, validation error nan %\n",
        "epoch 991, minibatch 1/1, validation error nan %"
       ]
      },
      {
       "output_type": "stream",
       "stream": "stdout",
       "text": [
        "\n",
        "epoch 992, minibatch 1/1, validation error nan %\n",
        "epoch 993, minibatch 1/1, validation error nan %\n",
        "epoch 994, minibatch 1/1, validation error nan %\n",
        "epoch 995, minibatch 1/1, validation error nan %\n",
        "epoch 996, minibatch 1/1, validation error nan %\n",
        "epoch 997, minibatch 1/1, validation error nan %\n",
        "epoch 998, minibatch 1/1, validation error nan %"
       ]
      },
      {
       "output_type": "stream",
       "stream": "stdout",
       "text": [
        "\n",
        "epoch 999, minibatch 1/1, validation error nan %\n",
        "epoch 1000, minibatch 1/1, validation error nan %\n",
        "Optimization complete with best validation score inf %\n",
        "classification error for blackbox data: "
       ]
      },
      {
       "output_type": "stream",
       "stream": "stdout",
       "text": [
        "0.592\n",
        "epoch 1, minibatch 1/1, validation error nan %"
       ]
      },
      {
       "output_type": "stream",
       "stream": "stdout",
       "text": [
        "\n",
        "epoch 2, minibatch 1/1, validation error nan %\n",
        "epoch 3, minibatch 1/1, validation error nan %\n",
        "epoch 4, minibatch 1/1, validation error nan %\n",
        "epoch 5, minibatch 1/1, validation error nan %\n",
        "epoch 6, minibatch 1/1, validation error nan %\n",
        "epoch 7, minibatch 1/1, validation error nan %"
       ]
      },
      {
       "output_type": "stream",
       "stream": "stdout",
       "text": [
        "\n",
        "epoch 8, minibatch 1/1, validation error nan %\n",
        "epoch 9, minibatch 1/1, validation error nan %\n",
        "epoch 10, minibatch 1/1, validation error nan %\n",
        "epoch 11, minibatch 1/1, validation error nan %\n",
        "epoch 12, minibatch 1/1, validation error nan %\n",
        "epoch 13, minibatch 1/1, validation error nan %"
       ]
      },
      {
       "output_type": "stream",
       "stream": "stdout",
       "text": [
        "\n",
        "epoch 14, minibatch 1/1, validation error nan %\n",
        "epoch 15, minibatch 1/1, validation error nan %\n",
        "epoch 16, minibatch 1/1, validation error nan %\n",
        "epoch 17, minibatch 1/1, validation error nan %\n",
        "epoch 18, minibatch 1/1, validation error nan %\n",
        "epoch 19, minibatch 1/1, validation error nan %"
       ]
      },
      {
       "output_type": "stream",
       "stream": "stdout",
       "text": [
        "\n",
        "epoch 20, minibatch 1/1, validation error nan %\n",
        "epoch 21, minibatch 1/1, validation error nan %\n",
        "epoch 22, minibatch 1/1, validation error nan %\n",
        "epoch 23, minibatch 1/1, validation error nan %\n",
        "epoch 24, minibatch 1/1, validation error nan %\n",
        "epoch 25, minibatch 1/1, validation error nan %"
       ]
      },
      {
       "output_type": "stream",
       "stream": "stdout",
       "text": [
        "\n",
        "epoch 26, minibatch 1/1, validation error nan %\n",
        "epoch 27, minibatch 1/1, validation error nan %\n",
        "epoch 28, minibatch 1/1, validation error nan %\n",
        "epoch 29, minibatch 1/1, validation error nan %\n",
        "epoch 30, minibatch 1/1, validation error nan %\n",
        "epoch 31, minibatch 1/1, validation error nan %"
       ]
      },
      {
       "output_type": "stream",
       "stream": "stdout",
       "text": [
        "\n",
        "epoch 32, minibatch 1/1, validation error nan %\n",
        "epoch 33, minibatch 1/1, validation error nan %\n",
        "epoch 34, minibatch 1/1, validation error nan %\n",
        "epoch 35, minibatch 1/1, validation error nan %\n",
        "epoch 36, minibatch 1/1, validation error nan %\n",
        "epoch 37, minibatch 1/1, validation error nan %"
       ]
      },
      {
       "output_type": "stream",
       "stream": "stdout",
       "text": [
        "\n",
        "epoch 38, minibatch 1/1, validation error nan %\n",
        "epoch 39, minibatch 1/1, validation error nan %\n",
        "epoch 40, minibatch 1/1, validation error nan %\n",
        "epoch 41, minibatch 1/1, validation error nan %\n",
        "epoch 42, minibatch 1/1, validation error nan %\n",
        "epoch 43, minibatch 1/1, validation error nan %"
       ]
      },
      {
       "output_type": "stream",
       "stream": "stdout",
       "text": [
        "\n",
        "epoch 44, minibatch 1/1, validation error nan %\n",
        "epoch 45, minibatch 1/1, validation error nan %\n",
        "epoch 46, minibatch 1/1, validation error nan %\n",
        "epoch 47, minibatch 1/1, validation error nan %\n",
        "epoch 48, minibatch 1/1, validation error nan %\n",
        "epoch 49, minibatch 1/1, validation error nan %"
       ]
      },
      {
       "output_type": "stream",
       "stream": "stdout",
       "text": [
        "\n",
        "epoch 50, minibatch 1/1, validation error nan %\n",
        "epoch 51, minibatch 1/1, validation error nan %\n",
        "epoch 52, minibatch 1/1, validation error nan %\n",
        "epoch 53, minibatch 1/1, validation error nan %\n",
        "epoch 54, minibatch 1/1, validation error nan %\n",
        "epoch 55, minibatch 1/1, validation error nan %"
       ]
      },
      {
       "output_type": "stream",
       "stream": "stdout",
       "text": [
        "\n",
        "epoch 56, minibatch 1/1, validation error nan %\n",
        "epoch 57, minibatch 1/1, validation error nan %\n",
        "epoch 58, minibatch 1/1, validation error nan %\n",
        "epoch 59, minibatch 1/1, validation error nan %\n",
        "epoch 60, minibatch 1/1, validation error nan %\n",
        "epoch 61, minibatch 1/1, validation error nan %"
       ]
      },
      {
       "output_type": "stream",
       "stream": "stdout",
       "text": [
        "\n",
        "epoch 62, minibatch 1/1, validation error nan %\n",
        "epoch 63, minibatch 1/1, validation error nan %\n",
        "epoch 64, minibatch 1/1, validation error nan %\n",
        "epoch 65, minibatch 1/1, validation error nan %\n",
        "epoch 66, minibatch 1/1, validation error nan %\n",
        "epoch 67, minibatch 1/1, validation error nan %"
       ]
      },
      {
       "output_type": "stream",
       "stream": "stdout",
       "text": [
        "\n",
        "epoch 68, minibatch 1/1, validation error nan %\n",
        "epoch 69, minibatch 1/1, validation error nan %\n",
        "epoch 70, minibatch 1/1, validation error nan %\n",
        "epoch 71, minibatch 1/1, validation error nan %\n",
        "epoch 72, minibatch 1/1, validation error nan %\n",
        "epoch 73, minibatch 1/1, validation error nan %"
       ]
      },
      {
       "output_type": "stream",
       "stream": "stdout",
       "text": [
        "\n",
        "epoch 74, minibatch 1/1, validation error nan %\n",
        "epoch 75, minibatch 1/1, validation error nan %\n",
        "epoch 76, minibatch 1/1, validation error nan %\n",
        "epoch 77, minibatch 1/1, validation error nan %\n",
        "epoch 78, minibatch 1/1, validation error nan %\n",
        "epoch 79, minibatch 1/1, validation error nan %"
       ]
      },
      {
       "output_type": "stream",
       "stream": "stdout",
       "text": [
        "\n",
        "epoch 80, minibatch 1/1, validation error nan %\n",
        "epoch 81, minibatch 1/1, validation error nan %\n",
        "epoch 82, minibatch 1/1, validation error nan %\n",
        "epoch 83, minibatch 1/1, validation error nan %\n",
        "epoch 84, minibatch 1/1, validation error nan %\n",
        "epoch 85, minibatch 1/1, validation error nan %"
       ]
      },
      {
       "output_type": "stream",
       "stream": "stdout",
       "text": [
        "\n",
        "epoch 86, minibatch 1/1, validation error nan %\n",
        "epoch 87, minibatch 1/1, validation error nan %\n",
        "epoch 88, minibatch 1/1, validation error nan %\n",
        "epoch 89, minibatch 1/1, validation error nan %\n",
        "epoch 90, minibatch 1/1, validation error nan %\n",
        "epoch 91, minibatch 1/1, validation error nan %"
       ]
      },
      {
       "output_type": "stream",
       "stream": "stdout",
       "text": [
        "\n",
        "epoch 92, minibatch 1/1, validation error nan %\n",
        "epoch 93, minibatch 1/1, validation error nan %\n",
        "epoch 94, minibatch 1/1, validation error nan %\n",
        "epoch 95, minibatch 1/1, validation error nan %\n",
        "epoch 96, minibatch 1/1, validation error nan %\n",
        "epoch 97, minibatch 1/1, validation error nan %"
       ]
      },
      {
       "output_type": "stream",
       "stream": "stdout",
       "text": [
        "\n",
        "epoch 98, minibatch 1/1, validation error nan %\n",
        "epoch 99, minibatch 1/1, validation error nan %\n",
        "epoch 100, minibatch 1/1, validation error nan %\n",
        "epoch 101, minibatch 1/1, validation error nan %\n",
        "epoch 102, minibatch 1/1, validation error nan %\n",
        "epoch 103, minibatch 1/1, validation error nan %"
       ]
      },
      {
       "output_type": "stream",
       "stream": "stdout",
       "text": [
        "\n",
        "epoch 104, minibatch 1/1, validation error nan %\n",
        "epoch 105, minibatch 1/1, validation error nan %\n",
        "epoch 106, minibatch 1/1, validation error nan %\n",
        "epoch 107, minibatch 1/1, validation error nan %\n",
        "epoch 108, minibatch 1/1, validation error nan %\n",
        "epoch 109, minibatch 1/1, validation error nan %"
       ]
      },
      {
       "output_type": "stream",
       "stream": "stdout",
       "text": [
        "\n",
        "epoch 110, minibatch 1/1, validation error nan %\n",
        "epoch 111, minibatch 1/1, validation error nan %\n",
        "epoch 112, minibatch 1/1, validation error nan %\n",
        "epoch 113, minibatch 1/1, validation error nan %\n",
        "epoch 114, minibatch 1/1, validation error nan %\n",
        "epoch 115, minibatch 1/1, validation error nan %"
       ]
      },
      {
       "output_type": "stream",
       "stream": "stdout",
       "text": [
        "\n",
        "epoch 116, minibatch 1/1, validation error nan %\n",
        "epoch 117, minibatch 1/1, validation error nan %\n",
        "epoch 118, minibatch 1/1, validation error nan %\n",
        "epoch 119, minibatch 1/1, validation error nan %\n",
        "epoch 120, minibatch 1/1, validation error nan %\n",
        "epoch 121, minibatch 1/1, validation error nan %"
       ]
      },
      {
       "output_type": "stream",
       "stream": "stdout",
       "text": [
        "\n",
        "epoch 122, minibatch 1/1, validation error nan %\n",
        "epoch 123, minibatch 1/1, validation error nan %\n",
        "epoch 124, minibatch 1/1, validation error nan %\n",
        "epoch 125, minibatch 1/1, validation error nan %\n",
        "epoch 126, minibatch 1/1, validation error nan %\n",
        "epoch 127, minibatch 1/1, validation error nan %"
       ]
      },
      {
       "output_type": "stream",
       "stream": "stdout",
       "text": [
        "\n",
        "epoch 128, minibatch 1/1, validation error nan %\n",
        "epoch 129, minibatch 1/1, validation error nan %\n",
        "epoch 130, minibatch 1/1, validation error nan %\n",
        "epoch 131, minibatch 1/1, validation error nan %\n",
        "epoch 132, minibatch 1/1, validation error nan %\n",
        "epoch 133, minibatch 1/1, validation error nan %"
       ]
      },
      {
       "output_type": "stream",
       "stream": "stdout",
       "text": [
        "\n",
        "epoch 134, minibatch 1/1, validation error nan %\n",
        "epoch 135, minibatch 1/1, validation error nan %\n",
        "epoch 136, minibatch 1/1, validation error nan %\n",
        "epoch 137, minibatch 1/1, validation error nan %\n",
        "epoch 138, minibatch 1/1, validation error nan %\n",
        "epoch 139, minibatch 1/1, validation error nan %"
       ]
      },
      {
       "output_type": "stream",
       "stream": "stdout",
       "text": [
        "\n",
        "epoch 140, minibatch 1/1, validation error nan %\n",
        "epoch 141, minibatch 1/1, validation error nan %\n",
        "epoch 142, minibatch 1/1, validation error nan %\n",
        "epoch 143, minibatch 1/1, validation error nan %\n",
        "epoch 144, minibatch 1/1, validation error nan %\n",
        "epoch 145, minibatch 1/1, validation error nan %"
       ]
      },
      {
       "output_type": "stream",
       "stream": "stdout",
       "text": [
        "\n",
        "epoch 146, minibatch 1/1, validation error nan %\n",
        "epoch 147, minibatch 1/1, validation error nan %\n",
        "epoch 148, minibatch 1/1, validation error nan %\n",
        "epoch 149, minibatch 1/1, validation error nan %\n",
        "epoch 150, minibatch 1/1, validation error nan %\n",
        "epoch 151, minibatch 1/1, validation error nan %"
       ]
      },
      {
       "output_type": "stream",
       "stream": "stdout",
       "text": [
        "\n",
        "epoch 152, minibatch 1/1, validation error nan %\n",
        "epoch 153, minibatch 1/1, validation error nan %\n",
        "epoch 154, minibatch 1/1, validation error nan %\n",
        "epoch 155, minibatch 1/1, validation error nan %\n",
        "epoch 156, minibatch 1/1, validation error nan %\n",
        "epoch 157, minibatch 1/1, validation error nan %"
       ]
      },
      {
       "output_type": "stream",
       "stream": "stdout",
       "text": [
        "\n",
        "epoch 158, minibatch 1/1, validation error nan %\n",
        "epoch 159, minibatch 1/1, validation error nan %\n",
        "epoch 160, minibatch 1/1, validation error nan %\n",
        "epoch 161, minibatch 1/1, validation error nan %\n",
        "epoch 162, minibatch 1/1, validation error nan %\n",
        "epoch 163, minibatch 1/1, validation error nan %"
       ]
      },
      {
       "output_type": "stream",
       "stream": "stdout",
       "text": [
        "\n",
        "epoch 164, minibatch 1/1, validation error nan %\n",
        "epoch 165, minibatch 1/1, validation error nan %\n",
        "epoch 166, minibatch 1/1, validation error nan %\n",
        "epoch 167, minibatch 1/1, validation error nan %\n",
        "epoch 168, minibatch 1/1, validation error nan %\n",
        "epoch 169, minibatch 1/1, validation error nan %"
       ]
      },
      {
       "output_type": "stream",
       "stream": "stdout",
       "text": [
        "\n",
        "epoch 170, minibatch 1/1, validation error nan %\n",
        "epoch 171, minibatch 1/1, validation error nan %\n",
        "epoch 172, minibatch 1/1, validation error nan %\n",
        "epoch 173, minibatch 1/1, validation error nan %\n",
        "epoch 174, minibatch 1/1, validation error nan %\n",
        "epoch 175, minibatch 1/1, validation error nan %"
       ]
      },
      {
       "output_type": "stream",
       "stream": "stdout",
       "text": [
        "\n",
        "epoch 176, minibatch 1/1, validation error nan %\n",
        "epoch 177, minibatch 1/1, validation error nan %\n",
        "epoch 178, minibatch 1/1, validation error nan %\n",
        "epoch 179, minibatch 1/1, validation error nan %\n",
        "epoch 180, minibatch 1/1, validation error nan %\n",
        "epoch 181, minibatch 1/1, validation error nan %"
       ]
      },
      {
       "output_type": "stream",
       "stream": "stdout",
       "text": [
        "\n",
        "epoch 182, minibatch 1/1, validation error nan %\n",
        "epoch 183, minibatch 1/1, validation error nan %\n",
        "epoch 184, minibatch 1/1, validation error nan %\n",
        "epoch 185, minibatch 1/1, validation error nan %\n",
        "epoch 186, minibatch 1/1, validation error nan %\n",
        "epoch 187, minibatch 1/1, validation error nan %"
       ]
      },
      {
       "output_type": "stream",
       "stream": "stdout",
       "text": [
        "\n",
        "epoch 188, minibatch 1/1, validation error nan %\n",
        "epoch 189, minibatch 1/1, validation error nan %\n",
        "epoch 190, minibatch 1/1, validation error nan %\n",
        "epoch 191, minibatch 1/1, validation error nan %\n",
        "epoch 192, minibatch 1/1, validation error nan %\n",
        "epoch 193, minibatch 1/1, validation error nan %"
       ]
      },
      {
       "output_type": "stream",
       "stream": "stdout",
       "text": [
        "\n",
        "epoch 194, minibatch 1/1, validation error nan %\n",
        "epoch 195, minibatch 1/1, validation error nan %\n",
        "epoch 196, minibatch 1/1, validation error nan %\n",
        "epoch 197, minibatch 1/1, validation error nan %\n",
        "epoch 198, minibatch 1/1, validation error nan %\n",
        "epoch 199, minibatch 1/1, validation error nan %"
       ]
      },
      {
       "output_type": "stream",
       "stream": "stdout",
       "text": [
        "\n",
        "epoch 200, minibatch 1/1, validation error nan %\n",
        "epoch 201, minibatch 1/1, validation error nan %\n",
        "epoch 202, minibatch 1/1, validation error nan %\n",
        "epoch 203, minibatch 1/1, validation error nan %\n",
        "epoch 204, minibatch 1/1, validation error nan %\n",
        "epoch 205, minibatch 1/1, validation error nan %"
       ]
      },
      {
       "output_type": "stream",
       "stream": "stdout",
       "text": [
        "\n",
        "epoch 206, minibatch 1/1, validation error nan %\n",
        "epoch 207, minibatch 1/1, validation error nan %\n",
        "epoch 208, minibatch 1/1, validation error nan %\n",
        "epoch 209, minibatch 1/1, validation error nan %\n",
        "epoch 210, minibatch 1/1, validation error nan %\n",
        "epoch 211, minibatch 1/1, validation error nan %"
       ]
      },
      {
       "output_type": "stream",
       "stream": "stdout",
       "text": [
        "\n",
        "epoch 212, minibatch 1/1, validation error nan %\n",
        "epoch 213, minibatch 1/1, validation error nan %\n",
        "epoch 214, minibatch 1/1, validation error nan %\n",
        "epoch 215, minibatch 1/1, validation error nan %\n",
        "epoch 216, minibatch 1/1, validation error nan %\n",
        "epoch 217, minibatch 1/1, validation error nan %"
       ]
      },
      {
       "output_type": "stream",
       "stream": "stdout",
       "text": [
        "\n",
        "epoch 218, minibatch 1/1, validation error nan %\n",
        "epoch 219, minibatch 1/1, validation error nan %\n",
        "epoch 220, minibatch 1/1, validation error nan %\n",
        "epoch 221, minibatch 1/1, validation error nan %\n",
        "epoch 222, minibatch 1/1, validation error nan %\n",
        "epoch 223, minibatch 1/1, validation error nan %"
       ]
      },
      {
       "output_type": "stream",
       "stream": "stdout",
       "text": [
        "\n",
        "epoch 224, minibatch 1/1, validation error nan %\n",
        "epoch 225, minibatch 1/1, validation error nan %\n",
        "epoch 226, minibatch 1/1, validation error nan %\n",
        "epoch 227, minibatch 1/1, validation error nan %\n",
        "epoch 228, minibatch 1/1, validation error nan %\n",
        "epoch 229, minibatch 1/1, validation error nan %"
       ]
      },
      {
       "output_type": "stream",
       "stream": "stdout",
       "text": [
        "\n",
        "epoch 230, minibatch 1/1, validation error nan %\n",
        "epoch 231, minibatch 1/1, validation error nan %\n",
        "epoch 232, minibatch 1/1, validation error nan %\n",
        "epoch 233, minibatch 1/1, validation error nan %\n",
        "epoch 234, minibatch 1/1, validation error nan %\n",
        "epoch 235, minibatch 1/1, validation error nan %"
       ]
      },
      {
       "output_type": "stream",
       "stream": "stdout",
       "text": [
        "\n",
        "epoch 236, minibatch 1/1, validation error nan %\n",
        "epoch 237, minibatch 1/1, validation error nan %\n",
        "epoch 238, minibatch 1/1, validation error nan %\n",
        "epoch 239, minibatch 1/1, validation error nan %\n",
        "epoch 240, minibatch 1/1, validation error nan %\n",
        "epoch 241, minibatch 1/1, validation error nan %"
       ]
      },
      {
       "output_type": "stream",
       "stream": "stdout",
       "text": [
        "\n",
        "epoch 242, minibatch 1/1, validation error nan %\n",
        "epoch 243, minibatch 1/1, validation error nan %\n",
        "epoch 244, minibatch 1/1, validation error nan %\n",
        "epoch 245, minibatch 1/1, validation error nan %\n",
        "epoch 246, minibatch 1/1, validation error nan %\n",
        "epoch 247, minibatch 1/1, validation error nan %"
       ]
      },
      {
       "output_type": "stream",
       "stream": "stdout",
       "text": [
        "\n",
        "epoch 248, minibatch 1/1, validation error nan %\n",
        "epoch 249, minibatch 1/1, validation error nan %\n",
        "epoch 250, minibatch 1/1, validation error nan %\n",
        "epoch 251, minibatch 1/1, validation error nan %\n",
        "epoch 252, minibatch 1/1, validation error nan %\n",
        "epoch 253, minibatch 1/1, validation error nan %"
       ]
      },
      {
       "output_type": "stream",
       "stream": "stdout",
       "text": [
        "\n",
        "epoch 254, minibatch 1/1, validation error nan %\n",
        "epoch 255, minibatch 1/1, validation error nan %\n",
        "epoch 256, minibatch 1/1, validation error nan %\n",
        "epoch 257, minibatch 1/1, validation error nan %\n",
        "epoch 258, minibatch 1/1, validation error nan %\n",
        "epoch 259, minibatch 1/1, validation error nan %"
       ]
      },
      {
       "output_type": "stream",
       "stream": "stdout",
       "text": [
        "\n",
        "epoch 260, minibatch 1/1, validation error nan %\n",
        "epoch 261, minibatch 1/1, validation error nan %\n",
        "epoch 262, minibatch 1/1, validation error nan %\n",
        "epoch 263, minibatch 1/1, validation error nan %\n",
        "epoch 264, minibatch 1/1, validation error nan %\n",
        "epoch 265, minibatch 1/1, validation error nan %"
       ]
      },
      {
       "output_type": "stream",
       "stream": "stdout",
       "text": [
        "\n",
        "epoch 266, minibatch 1/1, validation error nan %\n",
        "epoch 267, minibatch 1/1, validation error nan %\n",
        "epoch 268, minibatch 1/1, validation error nan %\n",
        "epoch 269, minibatch 1/1, validation error nan %\n",
        "epoch 270, minibatch 1/1, validation error nan %\n",
        "epoch 271, minibatch 1/1, validation error nan %"
       ]
      },
      {
       "output_type": "stream",
       "stream": "stdout",
       "text": [
        "\n",
        "epoch 272, minibatch 1/1, validation error nan %\n",
        "epoch 273, minibatch 1/1, validation error nan %\n",
        "epoch 274, minibatch 1/1, validation error nan %\n",
        "epoch 275, minibatch 1/1, validation error nan %\n",
        "epoch 276, minibatch 1/1, validation error nan %\n",
        "epoch 277, minibatch 1/1, validation error nan %"
       ]
      },
      {
       "output_type": "stream",
       "stream": "stdout",
       "text": [
        "\n",
        "epoch 278, minibatch 1/1, validation error nan %\n",
        "epoch 279, minibatch 1/1, validation error nan %\n",
        "epoch 280, minibatch 1/1, validation error nan %\n",
        "epoch 281, minibatch 1/1, validation error nan %\n",
        "epoch 282, minibatch 1/1, validation error nan %\n",
        "epoch 283, minibatch 1/1, validation error nan %"
       ]
      },
      {
       "output_type": "stream",
       "stream": "stdout",
       "text": [
        "\n",
        "epoch 284, minibatch 1/1, validation error nan %\n",
        "epoch 285, minibatch 1/1, validation error nan %\n",
        "epoch 286, minibatch 1/1, validation error nan %\n",
        "epoch 287, minibatch 1/1, validation error nan %\n",
        "epoch 288, minibatch 1/1, validation error nan %\n",
        "epoch 289, minibatch 1/1, validation error nan %"
       ]
      },
      {
       "output_type": "stream",
       "stream": "stdout",
       "text": [
        "\n",
        "epoch 290, minibatch 1/1, validation error nan %\n",
        "epoch 291, minibatch 1/1, validation error nan %\n",
        "epoch 292, minibatch 1/1, validation error nan %\n",
        "epoch 293, minibatch 1/1, validation error nan %\n",
        "epoch 294, minibatch 1/1, validation error nan %\n",
        "epoch 295, minibatch 1/1, validation error nan %"
       ]
      },
      {
       "output_type": "stream",
       "stream": "stdout",
       "text": [
        "\n",
        "epoch 296, minibatch 1/1, validation error nan %\n",
        "epoch 297, minibatch 1/1, validation error nan %\n",
        "epoch 298, minibatch 1/1, validation error nan %\n",
        "epoch 299, minibatch 1/1, validation error nan %\n",
        "epoch 300, minibatch 1/1, validation error nan %\n",
        "epoch 301, minibatch 1/1, validation error nan %"
       ]
      },
      {
       "output_type": "stream",
       "stream": "stdout",
       "text": [
        "\n",
        "epoch 302, minibatch 1/1, validation error nan %\n",
        "epoch 303, minibatch 1/1, validation error nan %\n",
        "epoch 304, minibatch 1/1, validation error nan %\n",
        "epoch 305, minibatch 1/1, validation error nan %\n",
        "epoch 306, minibatch 1/1, validation error nan %\n",
        "epoch 307, minibatch 1/1, validation error nan %"
       ]
      },
      {
       "output_type": "stream",
       "stream": "stdout",
       "text": [
        "\n",
        "epoch 308, minibatch 1/1, validation error nan %\n",
        "epoch 309, minibatch 1/1, validation error nan %\n",
        "epoch 310, minibatch 1/1, validation error nan %\n",
        "epoch 311, minibatch 1/1, validation error nan %\n",
        "epoch 312, minibatch 1/1, validation error nan %\n",
        "epoch 313, minibatch 1/1, validation error nan %\n",
        "epoch 314, minibatch 1/1, validation error nan %"
       ]
      },
      {
       "output_type": "stream",
       "stream": "stdout",
       "text": [
        "\n",
        "epoch 315, minibatch 1/1, validation error nan %\n",
        "epoch 316, minibatch 1/1, validation error nan %\n",
        "epoch 317, minibatch 1/1, validation error nan %\n",
        "epoch 318, minibatch 1/1, validation error nan %\n",
        "epoch 319, minibatch 1/1, validation error nan %\n",
        "epoch 320, minibatch 1/1, validation error nan %"
       ]
      },
      {
       "output_type": "stream",
       "stream": "stdout",
       "text": [
        "\n",
        "epoch 321, minibatch 1/1, validation error nan %\n",
        "epoch 322, minibatch 1/1, validation error nan %\n",
        "epoch 323, minibatch 1/1, validation error nan %\n",
        "epoch 324, minibatch 1/1, validation error nan %\n",
        "epoch 325, minibatch 1/1, validation error nan %\n",
        "epoch 326, minibatch 1/1, validation error nan %"
       ]
      },
      {
       "output_type": "stream",
       "stream": "stdout",
       "text": [
        "\n",
        "epoch 327, minibatch 1/1, validation error nan %\n",
        "epoch 328, minibatch 1/1, validation error nan %\n",
        "epoch 329, minibatch 1/1, validation error nan %\n",
        "epoch 330, minibatch 1/1, validation error nan %\n",
        "epoch 331, minibatch 1/1, validation error nan %\n",
        "epoch 332, minibatch 1/1, validation error nan %"
       ]
      },
      {
       "output_type": "stream",
       "stream": "stdout",
       "text": [
        "\n",
        "epoch 333, minibatch 1/1, validation error nan %\n",
        "epoch 334, minibatch 1/1, validation error nan %\n",
        "epoch 335, minibatch 1/1, validation error nan %\n",
        "epoch 336, minibatch 1/1, validation error nan %\n",
        "epoch 337, minibatch 1/1, validation error nan %\n",
        "epoch 338, minibatch 1/1, validation error nan %"
       ]
      },
      {
       "output_type": "stream",
       "stream": "stdout",
       "text": [
        "\n",
        "epoch 339, minibatch 1/1, validation error nan %\n",
        "epoch 340, minibatch 1/1, validation error nan %\n",
        "epoch 341, minibatch 1/1, validation error nan %\n",
        "epoch 342, minibatch 1/1, validation error nan %\n",
        "epoch 343, minibatch 1/1, validation error nan %\n",
        "epoch 344, minibatch 1/1, validation error nan %"
       ]
      },
      {
       "output_type": "stream",
       "stream": "stdout",
       "text": [
        "\n",
        "epoch 345, minibatch 1/1, validation error nan %\n",
        "epoch 346, minibatch 1/1, validation error nan %\n",
        "epoch 347, minibatch 1/1, validation error nan %\n",
        "epoch 348, minibatch 1/1, validation error nan %\n",
        "epoch 349, minibatch 1/1, validation error nan %\n",
        "epoch 350, minibatch 1/1, validation error nan %"
       ]
      },
      {
       "output_type": "stream",
       "stream": "stdout",
       "text": [
        "\n",
        "epoch 351, minibatch 1/1, validation error nan %\n",
        "epoch 352, minibatch 1/1, validation error nan %\n",
        "epoch 353, minibatch 1/1, validation error nan %\n",
        "epoch 354, minibatch 1/1, validation error nan %\n",
        "epoch 355, minibatch 1/1, validation error nan %\n",
        "epoch 356, minibatch 1/1, validation error nan %\n",
        "epoch 357, minibatch 1/1, validation error nan %"
       ]
      },
      {
       "output_type": "stream",
       "stream": "stdout",
       "text": [
        "\n",
        "epoch 358, minibatch 1/1, validation error nan %\n",
        "epoch 359, minibatch 1/1, validation error nan %\n",
        "epoch 360, minibatch 1/1, validation error nan %\n",
        "epoch 361, minibatch 1/1, validation error nan %\n",
        "epoch 362, minibatch 1/1, validation error nan %\n",
        "epoch 363, minibatch 1/1, validation error nan %"
       ]
      },
      {
       "output_type": "stream",
       "stream": "stdout",
       "text": [
        "\n",
        "epoch 364, minibatch 1/1, validation error nan %\n",
        "epoch 365, minibatch 1/1, validation error nan %\n",
        "epoch 366, minibatch 1/1, validation error nan %\n",
        "epoch 367, minibatch 1/1, validation error nan %\n",
        "epoch 368, minibatch 1/1, validation error nan %\n",
        "epoch 369, minibatch 1/1, validation error nan %"
       ]
      },
      {
       "output_type": "stream",
       "stream": "stdout",
       "text": [
        "\n",
        "epoch 370, minibatch 1/1, validation error nan %\n",
        "epoch 371, minibatch 1/1, validation error nan %\n",
        "epoch 372, minibatch 1/1, validation error nan %\n",
        "epoch 373, minibatch 1/1, validation error nan %\n",
        "epoch 374, minibatch 1/1, validation error nan %\n",
        "epoch 375, minibatch 1/1, validation error nan %"
       ]
      },
      {
       "output_type": "stream",
       "stream": "stdout",
       "text": [
        "\n",
        "epoch 376, minibatch 1/1, validation error nan %\n",
        "epoch 377, minibatch 1/1, validation error nan %\n",
        "epoch 378, minibatch 1/1, validation error nan %\n",
        "epoch 379, minibatch 1/1, validation error nan %\n",
        "epoch 380, minibatch 1/1, validation error nan %\n",
        "epoch 381, minibatch 1/1, validation error nan %"
       ]
      },
      {
       "output_type": "stream",
       "stream": "stdout",
       "text": [
        "\n",
        "epoch 382, minibatch 1/1, validation error nan %\n",
        "epoch 383, minibatch 1/1, validation error nan %\n",
        "epoch 384, minibatch 1/1, validation error nan %\n",
        "epoch 385, minibatch 1/1, validation error nan %\n",
        "epoch 386, minibatch 1/1, validation error nan %\n",
        "epoch 387, minibatch 1/1, validation error nan %"
       ]
      },
      {
       "output_type": "stream",
       "stream": "stdout",
       "text": [
        "\n",
        "epoch 388, minibatch 1/1, validation error nan %\n",
        "epoch 389, minibatch 1/1, validation error nan %\n",
        "epoch 390, minibatch 1/1, validation error nan %\n",
        "epoch 391, minibatch 1/1, validation error nan %\n",
        "epoch 392, minibatch 1/1, validation error nan %\n",
        "epoch 393, minibatch 1/1, validation error nan %"
       ]
      },
      {
       "output_type": "stream",
       "stream": "stdout",
       "text": [
        "\n",
        "epoch 394, minibatch 1/1, validation error nan %\n",
        "epoch 395, minibatch 1/1, validation error nan %\n",
        "epoch 396, minibatch 1/1, validation error nan %\n",
        "epoch 397, minibatch 1/1, validation error nan %\n",
        "epoch 398, minibatch 1/1, validation error nan %\n",
        "epoch 399, minibatch 1/1, validation error nan %"
       ]
      },
      {
       "output_type": "stream",
       "stream": "stdout",
       "text": [
        "\n",
        "epoch 400, minibatch 1/1, validation error nan %\n",
        "epoch 401, minibatch 1/1, validation error nan %\n",
        "epoch 402, minibatch 1/1, validation error nan %\n",
        "epoch 403, minibatch 1/1, validation error nan %\n",
        "epoch 404, minibatch 1/1, validation error nan %\n",
        "epoch 405, minibatch 1/1, validation error nan %\n",
        "epoch 406, minibatch 1/1, validation error nan %"
       ]
      },
      {
       "output_type": "stream",
       "stream": "stdout",
       "text": [
        "\n",
        "epoch 407, minibatch 1/1, validation error nan %\n",
        "epoch 408, minibatch 1/1, validation error nan %\n",
        "epoch 409, minibatch 1/1, validation error nan %\n",
        "epoch 410, minibatch 1/1, validation error nan %\n",
        "epoch 411, minibatch 1/1, validation error nan %\n",
        "epoch 412, minibatch 1/1, validation error nan %"
       ]
      },
      {
       "output_type": "stream",
       "stream": "stdout",
       "text": [
        "\n",
        "epoch 413, minibatch 1/1, validation error nan %\n",
        "epoch 414, minibatch 1/1, validation error nan %\n",
        "epoch 415, minibatch 1/1, validation error nan %\n",
        "epoch 416, minibatch 1/1, validation error nan %\n",
        "epoch 417, minibatch 1/1, validation error nan %\n",
        "epoch 418, minibatch 1/1, validation error nan %"
       ]
      },
      {
       "output_type": "stream",
       "stream": "stdout",
       "text": [
        "\n",
        "epoch 419, minibatch 1/1, validation error nan %\n",
        "epoch 420, minibatch 1/1, validation error nan %\n",
        "epoch 421, minibatch 1/1, validation error nan %\n",
        "epoch 422, minibatch 1/1, validation error nan %\n",
        "epoch 423, minibatch 1/1, validation error nan %\n",
        "epoch 424, minibatch 1/1, validation error nan %"
       ]
      },
      {
       "output_type": "stream",
       "stream": "stdout",
       "text": [
        "\n",
        "epoch 425, minibatch 1/1, validation error nan %\n",
        "epoch 426, minibatch 1/1, validation error nan %\n",
        "epoch 427, minibatch 1/1, validation error nan %\n",
        "epoch 428, minibatch 1/1, validation error nan %\n",
        "epoch 429, minibatch 1/1, validation error nan %\n",
        "epoch 430, minibatch 1/1, validation error nan %\n",
        "epoch 431, minibatch 1/1, validation error nan %"
       ]
      },
      {
       "output_type": "stream",
       "stream": "stdout",
       "text": [
        "\n",
        "epoch 432, minibatch 1/1, validation error nan %\n",
        "epoch 433, minibatch 1/1, validation error nan %\n",
        "epoch 434, minibatch 1/1, validation error nan %\n",
        "epoch 435, minibatch 1/1, validation error nan %\n",
        "epoch 436, minibatch 1/1, validation error nan %\n",
        "epoch 437, minibatch 1/1, validation error nan %"
       ]
      },
      {
       "output_type": "stream",
       "stream": "stdout",
       "text": [
        "\n",
        "epoch 438, minibatch 1/1, validation error nan %\n",
        "epoch 439, minibatch 1/1, validation error nan %\n",
        "epoch 440, minibatch 1/1, validation error nan %\n",
        "epoch 441, minibatch 1/1, validation error nan %\n",
        "epoch 442, minibatch 1/1, validation error nan %\n",
        "epoch 443, minibatch 1/1, validation error nan %"
       ]
      },
      {
       "output_type": "stream",
       "stream": "stdout",
       "text": [
        "\n",
        "epoch 444, minibatch 1/1, validation error nan %\n",
        "epoch 445, minibatch 1/1, validation error nan %\n",
        "epoch 446, minibatch 1/1, validation error nan %\n",
        "epoch 447, minibatch 1/1, validation error nan %\n",
        "epoch 448, minibatch 1/1, validation error nan %\n",
        "epoch 449, minibatch 1/1, validation error nan %"
       ]
      },
      {
       "output_type": "stream",
       "stream": "stdout",
       "text": [
        "\n",
        "epoch 450, minibatch 1/1, validation error nan %\n",
        "epoch 451, minibatch 1/1, validation error nan %\n",
        "epoch 452, minibatch 1/1, validation error nan %\n",
        "epoch 453, minibatch 1/1, validation error nan %\n",
        "epoch 454, minibatch 1/1, validation error nan %\n",
        "epoch 455, minibatch 1/1, validation error nan %\n",
        "epoch 456, minibatch 1/1, validation error nan %"
       ]
      },
      {
       "output_type": "stream",
       "stream": "stdout",
       "text": [
        "\n",
        "epoch 457, minibatch 1/1, validation error nan %\n",
        "epoch 458, minibatch 1/1, validation error nan %\n",
        "epoch 459, minibatch 1/1, validation error nan %\n",
        "epoch 460, minibatch 1/1, validation error nan %\n",
        "epoch 461, minibatch 1/1, validation error nan %\n",
        "epoch 462, minibatch 1/1, validation error nan %"
       ]
      },
      {
       "output_type": "stream",
       "stream": "stdout",
       "text": [
        "\n",
        "epoch 463, minibatch 1/1, validation error nan %\n",
        "epoch 464, minibatch 1/1, validation error nan %\n",
        "epoch 465, minibatch 1/1, validation error nan %\n",
        "epoch 466, minibatch 1/1, validation error nan %\n",
        "epoch 467, minibatch 1/1, validation error nan %\n",
        "epoch 468, minibatch 1/1, validation error nan %"
       ]
      },
      {
       "output_type": "stream",
       "stream": "stdout",
       "text": [
        "\n",
        "epoch 469, minibatch 1/1, validation error nan %\n",
        "epoch 470, minibatch 1/1, validation error nan %\n",
        "epoch 471, minibatch 1/1, validation error nan %\n",
        "epoch 472, minibatch 1/1, validation error nan %\n",
        "epoch 473, minibatch 1/1, validation error nan %\n",
        "epoch 474, minibatch 1/1, validation error nan %\n",
        "epoch 475, minibatch 1/1, validation error nan %"
       ]
      },
      {
       "output_type": "stream",
       "stream": "stdout",
       "text": [
        "\n",
        "epoch 476, minibatch 1/1, validation error nan %\n",
        "epoch 477, minibatch 1/1, validation error nan %\n",
        "epoch 478, minibatch 1/1, validation error nan %\n",
        "epoch 479, minibatch 1/1, validation error nan %\n",
        "epoch 480, minibatch 1/1, validation error nan %\n",
        "epoch 481, minibatch 1/1, validation error nan %"
       ]
      },
      {
       "output_type": "stream",
       "stream": "stdout",
       "text": [
        "\n",
        "epoch 482, minibatch 1/1, validation error nan %\n",
        "epoch 483, minibatch 1/1, validation error nan %\n",
        "epoch 484, minibatch 1/1, validation error nan %\n",
        "epoch 485, minibatch 1/1, validation error nan %\n",
        "epoch 486, minibatch 1/1, validation error nan %\n",
        "epoch 487, minibatch 1/1, validation error nan %"
       ]
      },
      {
       "output_type": "stream",
       "stream": "stdout",
       "text": [
        "\n",
        "epoch 488, minibatch 1/1, validation error nan %\n",
        "epoch 489, minibatch 1/1, validation error nan %\n",
        "epoch 490, minibatch 1/1, validation error nan %\n",
        "epoch 491, minibatch 1/1, validation error nan %\n",
        "epoch 492, minibatch 1/1, validation error nan %\n",
        "epoch 493, minibatch 1/1, validation error nan %\n",
        "epoch 494, minibatch 1/1, validation error nan %"
       ]
      },
      {
       "output_type": "stream",
       "stream": "stdout",
       "text": [
        "\n",
        "epoch 495, minibatch 1/1, validation error nan %\n",
        "epoch 496, minibatch 1/1, validation error nan %\n",
        "epoch 497, minibatch 1/1, validation error nan %\n",
        "epoch 498, minibatch 1/1, validation error nan %\n",
        "epoch 499, minibatch 1/1, validation error nan %\n",
        "epoch 500, minibatch 1/1, validation error nan %"
       ]
      },
      {
       "output_type": "stream",
       "stream": "stdout",
       "text": [
        "\n",
        "epoch 501, minibatch 1/1, validation error nan %\n",
        "epoch 502, minibatch 1/1, validation error nan %\n",
        "epoch 503, minibatch 1/1, validation error nan %\n",
        "epoch 504, minibatch 1/1, validation error nan %\n",
        "epoch 505, minibatch 1/1, validation error nan %\n",
        "epoch 506, minibatch 1/1, validation error nan %"
       ]
      },
      {
       "output_type": "stream",
       "stream": "stdout",
       "text": [
        "\n",
        "epoch 507, minibatch 1/1, validation error nan %\n",
        "epoch 508, minibatch 1/1, validation error nan %\n",
        "epoch 509, minibatch 1/1, validation error nan %\n",
        "epoch 510, minibatch 1/1, validation error nan %\n",
        "epoch 511, minibatch 1/1, validation error nan %\n",
        "epoch 512, minibatch 1/1, validation error nan %"
       ]
      },
      {
       "output_type": "stream",
       "stream": "stdout",
       "text": [
        "\n",
        "epoch 513, minibatch 1/1, validation error nan %\n",
        "epoch 514, minibatch 1/1, validation error nan %\n",
        "epoch 515, minibatch 1/1, validation error nan %\n",
        "epoch 516, minibatch 1/1, validation error nan %\n",
        "epoch 517, minibatch 1/1, validation error nan %\n",
        "epoch 518, minibatch 1/1, validation error nan %"
       ]
      },
      {
       "output_type": "stream",
       "stream": "stdout",
       "text": [
        "\n",
        "epoch 519, minibatch 1/1, validation error nan %\n",
        "epoch 520, minibatch 1/1, validation error nan %\n",
        "epoch 521, minibatch 1/1, validation error nan %\n",
        "epoch 522, minibatch 1/1, validation error nan %\n",
        "epoch 523, minibatch 1/1, validation error nan %\n",
        "epoch 524, minibatch 1/1, validation error nan %\n",
        "epoch 525, minibatch 1/1, validation error nan %"
       ]
      },
      {
       "output_type": "stream",
       "stream": "stdout",
       "text": [
        "\n",
        "epoch 526, minibatch 1/1, validation error nan %\n",
        "epoch 527, minibatch 1/1, validation error nan %\n",
        "epoch 528, minibatch 1/1, validation error nan %\n",
        "epoch 529, minibatch 1/1, validation error nan %\n",
        "epoch 530, minibatch 1/1, validation error nan %\n",
        "epoch 531, minibatch 1/1, validation error nan %"
       ]
      },
      {
       "output_type": "stream",
       "stream": "stdout",
       "text": [
        "\n",
        "epoch 532, minibatch 1/1, validation error nan %\n",
        "epoch 533, minibatch 1/1, validation error nan %\n",
        "epoch 534, minibatch 1/1, validation error nan %\n",
        "epoch 535, minibatch 1/1, validation error nan %\n",
        "epoch 536, minibatch 1/1, validation error nan %\n",
        "epoch 537, minibatch 1/1, validation error nan %"
       ]
      },
      {
       "output_type": "stream",
       "stream": "stdout",
       "text": [
        "\n",
        "epoch 538, minibatch 1/1, validation error nan %\n",
        "epoch 539, minibatch 1/1, validation error nan %\n",
        "epoch 540, minibatch 1/1, validation error nan %\n",
        "epoch 541, minibatch 1/1, validation error nan %\n",
        "epoch 542, minibatch 1/1, validation error nan %\n",
        "epoch 543, minibatch 1/1, validation error nan %\n",
        "epoch 544, minibatch 1/1, validation error nan %"
       ]
      },
      {
       "output_type": "stream",
       "stream": "stdout",
       "text": [
        "\n",
        "epoch 545, minibatch 1/1, validation error nan %\n",
        "epoch 546, minibatch 1/1, validation error nan %\n",
        "epoch 547, minibatch 1/1, validation error nan %\n",
        "epoch 548, minibatch 1/1, validation error nan %\n",
        "epoch 549, minibatch 1/1, validation error nan %\n",
        "epoch 550, minibatch 1/1, validation error nan %"
       ]
      },
      {
       "output_type": "stream",
       "stream": "stdout",
       "text": [
        "\n",
        "epoch 551, minibatch 1/1, validation error nan %\n",
        "epoch 552, minibatch 1/1, validation error nan %\n",
        "epoch 553, minibatch 1/1, validation error nan %\n",
        "epoch 554, minibatch 1/1, validation error nan %\n",
        "epoch 555, minibatch 1/1, validation error nan %\n",
        "epoch 556, minibatch 1/1, validation error nan %"
       ]
      },
      {
       "output_type": "stream",
       "stream": "stdout",
       "text": [
        "\n",
        "epoch 557, minibatch 1/1, validation error nan %\n",
        "epoch 558, minibatch 1/1, validation error nan %\n",
        "epoch 559, minibatch 1/1, validation error nan %\n",
        "epoch 560, minibatch 1/1, validation error nan %\n",
        "epoch 561, minibatch 1/1, validation error nan %\n",
        "epoch 562, minibatch 1/1, validation error nan %"
       ]
      },
      {
       "output_type": "stream",
       "stream": "stdout",
       "text": [
        "\n",
        "epoch 563, minibatch 1/1, validation error nan %\n",
        "epoch 564, minibatch 1/1, validation error nan %\n",
        "epoch 565, minibatch 1/1, validation error nan %\n",
        "epoch 566, minibatch 1/1, validation error nan %\n",
        "epoch 567, minibatch 1/1, validation error nan %\n",
        "epoch 568, minibatch 1/1, validation error nan %"
       ]
      },
      {
       "output_type": "stream",
       "stream": "stdout",
       "text": [
        "\n",
        "epoch 569, minibatch 1/1, validation error nan %\n",
        "epoch 570, minibatch 1/1, validation error nan %\n",
        "epoch 571, minibatch 1/1, validation error nan %\n",
        "epoch 572, minibatch 1/1, validation error nan %\n",
        "epoch 573, minibatch 1/1, validation error nan %\n",
        "epoch 574, minibatch 1/1, validation error nan %"
       ]
      },
      {
       "output_type": "stream",
       "stream": "stdout",
       "text": [
        "\n",
        "epoch 575, minibatch 1/1, validation error nan %\n",
        "epoch 576, minibatch 1/1, validation error nan %\n",
        "epoch 577, minibatch 1/1, validation error nan %\n",
        "epoch 578, minibatch 1/1, validation error nan %\n",
        "epoch 579, minibatch 1/1, validation error nan %\n",
        "epoch 580, minibatch 1/1, validation error nan %"
       ]
      },
      {
       "output_type": "stream",
       "stream": "stdout",
       "text": [
        "\n",
        "epoch 581, minibatch 1/1, validation error nan %\n",
        "epoch 582, minibatch 1/1, validation error nan %\n",
        "epoch 583, minibatch 1/1, validation error nan %\n",
        "epoch 584, minibatch 1/1, validation error nan %\n",
        "epoch 585, minibatch 1/1, validation error nan %\n",
        "epoch 586, minibatch 1/1, validation error nan %"
       ]
      },
      {
       "output_type": "stream",
       "stream": "stdout",
       "text": [
        "\n",
        "epoch 587, minibatch 1/1, validation error nan %\n",
        "epoch 588, minibatch 1/1, validation error nan %\n",
        "epoch 589, minibatch 1/1, validation error nan %\n",
        "epoch 590, minibatch 1/1, validation error nan %\n",
        "epoch 591, minibatch 1/1, validation error nan %\n",
        "epoch 592, minibatch 1/1, validation error nan %"
       ]
      },
      {
       "output_type": "stream",
       "stream": "stdout",
       "text": [
        "\n",
        "epoch 593, minibatch 1/1, validation error nan %\n",
        "epoch 594, minibatch 1/1, validation error nan %\n",
        "epoch 595, minibatch 1/1, validation error nan %\n",
        "epoch 596, minibatch 1/1, validation error nan %\n",
        "epoch 597, minibatch 1/1, validation error nan %\n",
        "epoch 598, minibatch 1/1, validation error nan %\n",
        "epoch 599, minibatch 1/1, validation error nan %"
       ]
      },
      {
       "output_type": "stream",
       "stream": "stdout",
       "text": [
        "\n",
        "epoch 600, minibatch 1/1, validation error nan %\n",
        "epoch 601, minibatch 1/1, validation error nan %\n",
        "epoch 602, minibatch 1/1, validation error nan %\n",
        "epoch 603, minibatch 1/1, validation error nan %\n",
        "epoch 604, minibatch 1/1, validation error nan %\n",
        "epoch 605, minibatch 1/1, validation error nan %"
       ]
      },
      {
       "output_type": "stream",
       "stream": "stdout",
       "text": [
        "\n",
        "epoch 606, minibatch 1/1, validation error nan %\n",
        "epoch 607, minibatch 1/1, validation error nan %\n",
        "epoch 608, minibatch 1/1, validation error nan %\n",
        "epoch 609, minibatch 1/1, validation error nan %\n",
        "epoch 610, minibatch 1/1, validation error nan %\n",
        "epoch 611, minibatch 1/1, validation error nan %\n",
        "epoch 612, minibatch 1/1, validation error nan %"
       ]
      },
      {
       "output_type": "stream",
       "stream": "stdout",
       "text": [
        "\n",
        "epoch 613, minibatch 1/1, validation error nan %\n",
        "epoch 614, minibatch 1/1, validation error nan %\n",
        "epoch 615, minibatch 1/1, validation error nan %\n",
        "epoch 616, minibatch 1/1, validation error nan %\n",
        "epoch 617, minibatch 1/1, validation error nan %\n",
        "epoch 618, minibatch 1/1, validation error nan %"
       ]
      },
      {
       "output_type": "stream",
       "stream": "stdout",
       "text": [
        "\n",
        "epoch 619, minibatch 1/1, validation error nan %\n",
        "epoch 620, minibatch 1/1, validation error nan %\n",
        "epoch 621, minibatch 1/1, validation error nan %\n",
        "epoch 622, minibatch 1/1, validation error nan %\n",
        "epoch 623, minibatch 1/1, validation error nan %\n",
        "epoch 624, minibatch 1/1, validation error nan %"
       ]
      },
      {
       "output_type": "stream",
       "stream": "stdout",
       "text": [
        "\n",
        "epoch 625, minibatch 1/1, validation error nan %\n",
        "epoch 626, minibatch 1/1, validation error nan %\n",
        "epoch 627, minibatch 1/1, validation error nan %\n",
        "epoch 628, minibatch 1/1, validation error nan %\n",
        "epoch 629, minibatch 1/1, validation error nan %\n",
        "epoch 630, minibatch 1/1, validation error nan %"
       ]
      },
      {
       "output_type": "stream",
       "stream": "stdout",
       "text": [
        "\n",
        "epoch 631, minibatch 1/1, validation error nan %\n",
        "epoch 632, minibatch 1/1, validation error nan %\n",
        "epoch 633, minibatch 1/1, validation error nan %\n",
        "epoch 634, minibatch 1/1, validation error nan %\n",
        "epoch 635, minibatch 1/1, validation error nan %\n",
        "epoch 636, minibatch 1/1, validation error nan %\n",
        "epoch 637, minibatch 1/1, validation error nan %"
       ]
      },
      {
       "output_type": "stream",
       "stream": "stdout",
       "text": [
        "\n",
        "epoch 638, minibatch 1/1, validation error nan %\n",
        "epoch 639, minibatch 1/1, validation error nan %\n",
        "epoch 640, minibatch 1/1, validation error nan %\n",
        "epoch 641, minibatch 1/1, validation error nan %\n",
        "epoch 642, minibatch 1/1, validation error nan %\n",
        "epoch 643, minibatch 1/1, validation error nan %"
       ]
      },
      {
       "output_type": "stream",
       "stream": "stdout",
       "text": [
        "\n",
        "epoch 644, minibatch 1/1, validation error nan %\n",
        "epoch 645, minibatch 1/1, validation error nan %\n",
        "epoch 646, minibatch 1/1, validation error nan %\n",
        "epoch 647, minibatch 1/1, validation error nan %\n",
        "epoch 648, minibatch 1/1, validation error nan %\n",
        "epoch 649, minibatch 1/1, validation error nan %\n",
        "epoch 650, minibatch 1/1, validation error nan %"
       ]
      },
      {
       "output_type": "stream",
       "stream": "stdout",
       "text": [
        "\n",
        "epoch 651, minibatch 1/1, validation error nan %\n",
        "epoch 652, minibatch 1/1, validation error nan %\n",
        "epoch 653, minibatch 1/1, validation error nan %\n",
        "epoch 654, minibatch 1/1, validation error nan %\n",
        "epoch 655, minibatch 1/1, validation error nan %\n",
        "epoch 656, minibatch 1/1, validation error nan %"
       ]
      },
      {
       "output_type": "stream",
       "stream": "stdout",
       "text": [
        "\n",
        "epoch 657, minibatch 1/1, validation error nan %\n",
        "epoch 658, minibatch 1/1, validation error nan %\n",
        "epoch 659, minibatch 1/1, validation error nan %\n",
        "epoch 660, minibatch 1/1, validation error nan %\n",
        "epoch 661, minibatch 1/1, validation error nan %\n",
        "epoch 662, minibatch 1/1, validation error nan %\n",
        "epoch 663, minibatch 1/1, validation error nan %"
       ]
      },
      {
       "output_type": "stream",
       "stream": "stdout",
       "text": [
        "\n",
        "epoch 664, minibatch 1/1, validation error nan %\n",
        "epoch 665, minibatch 1/1, validation error nan %\n",
        "epoch 666, minibatch 1/1, validation error nan %\n",
        "epoch 667, minibatch 1/1, validation error nan %\n",
        "epoch 668, minibatch 1/1, validation error nan %\n",
        "epoch 669, minibatch 1/1, validation error nan %"
       ]
      },
      {
       "output_type": "stream",
       "stream": "stdout",
       "text": [
        "\n",
        "epoch 670, minibatch 1/1, validation error nan %\n",
        "epoch 671, minibatch 1/1, validation error nan %\n",
        "epoch 672, minibatch 1/1, validation error nan %\n",
        "epoch 673, minibatch 1/1, validation error nan %\n",
        "epoch 674, minibatch 1/1, validation error nan %\n",
        "epoch 675, minibatch 1/1, validation error nan %"
       ]
      },
      {
       "output_type": "stream",
       "stream": "stdout",
       "text": [
        "\n",
        "epoch 676, minibatch 1/1, validation error nan %\n",
        "epoch 677, minibatch 1/1, validation error nan %\n",
        "epoch 678, minibatch 1/1, validation error nan %\n",
        "epoch 679, minibatch 1/1, validation error nan %\n",
        "epoch 680, minibatch 1/1, validation error nan %\n",
        "epoch 681, minibatch 1/1, validation error nan %"
       ]
      },
      {
       "output_type": "stream",
       "stream": "stdout",
       "text": [
        "\n",
        "epoch 682, minibatch 1/1, validation error nan %\n",
        "epoch 683, minibatch 1/1, validation error nan %\n",
        "epoch 684, minibatch 1/1, validation error nan %\n",
        "epoch 685, minibatch 1/1, validation error nan %\n",
        "epoch 686, minibatch 1/1, validation error nan %\n",
        "epoch 687, minibatch 1/1, validation error nan %\n",
        "epoch 688, minibatch 1/1, validation error nan %"
       ]
      },
      {
       "output_type": "stream",
       "stream": "stdout",
       "text": [
        "\n",
        "epoch 689, minibatch 1/1, validation error nan %\n",
        "epoch 690, minibatch 1/1, validation error nan %\n",
        "epoch 691, minibatch 1/1, validation error nan %\n",
        "epoch 692, minibatch 1/1, validation error nan %\n",
        "epoch 693, minibatch 1/1, validation error nan %\n",
        "epoch 694, minibatch 1/1, validation error nan %"
       ]
      },
      {
       "output_type": "stream",
       "stream": "stdout",
       "text": [
        "\n",
        "epoch 695, minibatch 1/1, validation error nan %\n",
        "epoch 696, minibatch 1/1, validation error nan %\n",
        "epoch 697, minibatch 1/1, validation error nan %\n",
        "epoch 698, minibatch 1/1, validation error nan %\n",
        "epoch 699, minibatch 1/1, validation error nan %\n",
        "epoch 700, minibatch 1/1, validation error nan %\n",
        "epoch 701, minibatch 1/1, validation error nan %"
       ]
      },
      {
       "output_type": "stream",
       "stream": "stdout",
       "text": [
        "\n",
        "epoch 702, minibatch 1/1, validation error nan %\n",
        "epoch 703, minibatch 1/1, validation error nan %\n",
        "epoch 704, minibatch 1/1, validation error nan %\n",
        "epoch 705, minibatch 1/1, validation error nan %\n",
        "epoch 706, minibatch 1/1, validation error nan %\n",
        "epoch 707, minibatch 1/1, validation error nan %"
       ]
      },
      {
       "output_type": "stream",
       "stream": "stdout",
       "text": [
        "\n",
        "epoch 708, minibatch 1/1, validation error nan %\n",
        "epoch 709, minibatch 1/1, validation error nan %\n",
        "epoch 710, minibatch 1/1, validation error nan %\n",
        "epoch 711, minibatch 1/1, validation error nan %\n",
        "epoch 712, minibatch 1/1, validation error nan %\n",
        "epoch 713, minibatch 1/1, validation error nan %\n",
        "epoch 714, minibatch 1/1, validation error nan %"
       ]
      },
      {
       "output_type": "stream",
       "stream": "stdout",
       "text": [
        "\n",
        "epoch 715, minibatch 1/1, validation error nan %\n",
        "epoch 716, minibatch 1/1, validation error nan %\n",
        "epoch 717, minibatch 1/1, validation error nan %\n",
        "epoch 718, minibatch 1/1, validation error nan %\n",
        "epoch 719, minibatch 1/1, validation error nan %\n",
        "epoch 720, minibatch 1/1, validation error nan %"
       ]
      },
      {
       "output_type": "stream",
       "stream": "stdout",
       "text": [
        "\n",
        "epoch 721, minibatch 1/1, validation error nan %\n",
        "epoch 722, minibatch 1/1, validation error nan %\n",
        "epoch 723, minibatch 1/1, validation error nan %\n",
        "epoch 724, minibatch 1/1, validation error nan %\n",
        "epoch 725, minibatch 1/1, validation error nan %\n",
        "epoch 726, minibatch 1/1, validation error nan %\n",
        "epoch 727, minibatch 1/1, validation error nan %"
       ]
      },
      {
       "output_type": "stream",
       "stream": "stdout",
       "text": [
        "\n",
        "epoch 728, minibatch 1/1, validation error nan %\n",
        "epoch 729, minibatch 1/1, validation error nan %\n",
        "epoch 730, minibatch 1/1, validation error nan %\n",
        "epoch 731, minibatch 1/1, validation error nan %\n",
        "epoch 732, minibatch 1/1, validation error nan %\n",
        "epoch 733, minibatch 1/1, validation error nan %"
       ]
      },
      {
       "output_type": "stream",
       "stream": "stdout",
       "text": [
        "\n",
        "epoch 734, minibatch 1/1, validation error nan %\n",
        "epoch 735, minibatch 1/1, validation error nan %\n",
        "epoch 736, minibatch 1/1, validation error nan %\n",
        "epoch 737, minibatch 1/1, validation error nan %\n",
        "epoch 738, minibatch 1/1, validation error nan %\n",
        "epoch 739, minibatch 1/1, validation error nan %\n",
        "epoch 740, minibatch 1/1, validation error nan %"
       ]
      },
      {
       "output_type": "stream",
       "stream": "stdout",
       "text": [
        "\n",
        "epoch 741, minibatch 1/1, validation error nan %\n",
        "epoch 742, minibatch 1/1, validation error nan %\n",
        "epoch 743, minibatch 1/1, validation error nan %\n",
        "epoch 744, minibatch 1/1, validation error nan %\n",
        "epoch 745, minibatch 1/1, validation error nan %\n",
        "epoch 746, minibatch 1/1, validation error nan %\n",
        "epoch 747, minibatch 1/1, validation error nan %"
       ]
      },
      {
       "output_type": "stream",
       "stream": "stdout",
       "text": [
        "\n",
        "epoch 748, minibatch 1/1, validation error nan %\n",
        "epoch 749, minibatch 1/1, validation error nan %\n",
        "epoch 750, minibatch 1/1, validation error nan %\n",
        "epoch 751, minibatch 1/1, validation error nan %\n",
        "epoch 752, minibatch 1/1, validation error nan %\n",
        "epoch 753, minibatch 1/1, validation error nan %"
       ]
      },
      {
       "output_type": "stream",
       "stream": "stdout",
       "text": [
        "\n",
        "epoch 754, minibatch 1/1, validation error nan %\n",
        "epoch 755, minibatch 1/1, validation error nan %\n",
        "epoch 756, minibatch 1/1, validation error nan %\n",
        "epoch 757, minibatch 1/1, validation error nan %\n",
        "epoch 758, minibatch 1/1, validation error nan %\n",
        "epoch 759, minibatch 1/1, validation error nan %\n",
        "epoch 760, minibatch 1/1, validation error nan %"
       ]
      },
      {
       "output_type": "stream",
       "stream": "stdout",
       "text": [
        "\n",
        "epoch 761, minibatch 1/1, validation error nan %\n",
        "epoch 762, minibatch 1/1, validation error nan %\n",
        "epoch 763, minibatch 1/1, validation error nan %\n",
        "epoch 764, minibatch 1/1, validation error nan %\n",
        "epoch 765, minibatch 1/1, validation error nan %\n",
        "epoch 766, minibatch 1/1, validation error nan %"
       ]
      },
      {
       "output_type": "stream",
       "stream": "stdout",
       "text": [
        "\n",
        "epoch 767, minibatch 1/1, validation error nan %\n",
        "epoch 768, minibatch 1/1, validation error nan %\n",
        "epoch 769, minibatch 1/1, validation error nan %\n",
        "epoch 770, minibatch 1/1, validation error nan %\n",
        "epoch 771, minibatch 1/1, validation error nan %\n",
        "epoch 772, minibatch 1/1, validation error nan %\n",
        "epoch 773, minibatch 1/1, validation error nan %"
       ]
      },
      {
       "output_type": "stream",
       "stream": "stdout",
       "text": [
        "\n",
        "epoch 774, minibatch 1/1, validation error nan %\n",
        "epoch 775, minibatch 1/1, validation error nan %\n",
        "epoch 776, minibatch 1/1, validation error nan %\n",
        "epoch 777, minibatch 1/1, validation error nan %\n",
        "epoch 778, minibatch 1/1, validation error nan %\n",
        "epoch 779, minibatch 1/1, validation error nan %"
       ]
      },
      {
       "output_type": "stream",
       "stream": "stdout",
       "text": [
        "\n",
        "epoch 780, minibatch 1/1, validation error nan %\n",
        "epoch 781, minibatch 1/1, validation error nan %\n",
        "epoch 782, minibatch 1/1, validation error nan %\n",
        "epoch 783, minibatch 1/1, validation error nan %\n",
        "epoch 784, minibatch 1/1, validation error nan %\n",
        "epoch 785, minibatch 1/1, validation error nan %"
       ]
      },
      {
       "output_type": "stream",
       "stream": "stdout",
       "text": [
        "\n",
        "epoch 786, minibatch 1/1, validation error nan %\n",
        "epoch 787, minibatch 1/1, validation error nan %\n",
        "epoch 788, minibatch 1/1, validation error nan %\n",
        "epoch 789, minibatch 1/1, validation error nan %\n",
        "epoch 790, minibatch 1/1, validation error nan %\n",
        "epoch 791, minibatch 1/1, validation error nan %"
       ]
      },
      {
       "output_type": "stream",
       "stream": "stdout",
       "text": [
        "\n",
        "epoch 792, minibatch 1/1, validation error nan %\n",
        "epoch 793, minibatch 1/1, validation error nan %\n",
        "epoch 794, minibatch 1/1, validation error nan %\n",
        "epoch 795, minibatch 1/1, validation error nan %\n",
        "epoch 796, minibatch 1/1, validation error nan %\n",
        "epoch 797, minibatch 1/1, validation error nan %"
       ]
      },
      {
       "output_type": "stream",
       "stream": "stdout",
       "text": [
        "\n",
        "epoch 798, minibatch 1/1, validation error nan %\n",
        "epoch 799, minibatch 1/1, validation error nan %\n",
        "epoch 800, minibatch 1/1, validation error nan %\n",
        "epoch 801, minibatch 1/1, validation error nan %\n",
        "epoch 802, minibatch 1/1, validation error nan %\n",
        "epoch 803, minibatch 1/1, validation error nan %"
       ]
      },
      {
       "output_type": "stream",
       "stream": "stdout",
       "text": [
        "\n",
        "epoch 804, minibatch 1/1, validation error nan %\n",
        "epoch 805, minibatch 1/1, validation error nan %\n",
        "epoch 806, minibatch 1/1, validation error nan %\n",
        "epoch 807, minibatch 1/1, validation error nan %\n",
        "epoch 808, minibatch 1/1, validation error nan %\n",
        "epoch 809, minibatch 1/1, validation error nan %\n",
        "epoch 810, minibatch 1/1, validation error nan %"
       ]
      },
      {
       "output_type": "stream",
       "stream": "stdout",
       "text": [
        "\n",
        "epoch 811, minibatch 1/1, validation error nan %\n",
        "epoch 812, minibatch 1/1, validation error nan %\n",
        "epoch 813, minibatch 1/1, validation error nan %\n",
        "epoch 814, minibatch 1/1, validation error nan %\n",
        "epoch 815, minibatch 1/1, validation error nan %\n",
        "epoch 816, minibatch 1/1, validation error nan %"
       ]
      },
      {
       "output_type": "stream",
       "stream": "stdout",
       "text": [
        "\n",
        "epoch 817, minibatch 1/1, validation error nan %\n",
        "epoch 818, minibatch 1/1, validation error nan %\n",
        "epoch 819, minibatch 1/1, validation error nan %\n",
        "epoch 820, minibatch 1/1, validation error nan %\n",
        "epoch 821, minibatch 1/1, validation error nan %\n",
        "epoch 822, minibatch 1/1, validation error nan %\n",
        "epoch 823, minibatch 1/1, validation error nan %"
       ]
      },
      {
       "output_type": "stream",
       "stream": "stdout",
       "text": [
        "\n",
        "epoch 824, minibatch 1/1, validation error nan %\n",
        "epoch 825, minibatch 1/1, validation error nan %\n",
        "epoch 826, minibatch 1/1, validation error nan %\n",
        "epoch 827, minibatch 1/1, validation error nan %\n",
        "epoch 828, minibatch 1/1, validation error nan %\n",
        "epoch 829, minibatch 1/1, validation error nan %"
       ]
      },
      {
       "output_type": "stream",
       "stream": "stdout",
       "text": [
        "\n",
        "epoch 830, minibatch 1/1, validation error nan %\n",
        "epoch 831, minibatch 1/1, validation error nan %\n",
        "epoch 832, minibatch 1/1, validation error nan %\n",
        "epoch 833, minibatch 1/1, validation error nan %\n",
        "epoch 834, minibatch 1/1, validation error nan %\n",
        "epoch 835, minibatch 1/1, validation error nan %\n",
        "epoch 836, minibatch 1/1, validation error nan %"
       ]
      },
      {
       "output_type": "stream",
       "stream": "stdout",
       "text": [
        "\n",
        "epoch 837, minibatch 1/1, validation error nan %\n",
        "epoch 838, minibatch 1/1, validation error nan %\n",
        "epoch 839, minibatch 1/1, validation error nan %\n",
        "epoch 840, minibatch 1/1, validation error nan %\n",
        "epoch 841, minibatch 1/1, validation error nan %\n",
        "epoch 842, minibatch 1/1, validation error nan %"
       ]
      },
      {
       "output_type": "stream",
       "stream": "stdout",
       "text": [
        "\n",
        "epoch 843, minibatch 1/1, validation error nan %\n",
        "epoch 844, minibatch 1/1, validation error nan %\n",
        "epoch 845, minibatch 1/1, validation error nan %\n",
        "epoch 846, minibatch 1/1, validation error nan %\n",
        "epoch 847, minibatch 1/1, validation error nan %\n",
        "epoch 848, minibatch 1/1, validation error nan %\n",
        "epoch 849, minibatch 1/1, validation error nan %"
       ]
      },
      {
       "output_type": "stream",
       "stream": "stdout",
       "text": [
        "\n",
        "epoch 850, minibatch 1/1, validation error nan %\n",
        "epoch 851, minibatch 1/1, validation error nan %\n",
        "epoch 852, minibatch 1/1, validation error nan %\n",
        "epoch 853, minibatch 1/1, validation error nan %\n",
        "epoch 854, minibatch 1/1, validation error nan %\n",
        "epoch 855, minibatch 1/1, validation error nan %"
       ]
      },
      {
       "output_type": "stream",
       "stream": "stdout",
       "text": [
        "\n",
        "epoch 856, minibatch 1/1, validation error nan %\n",
        "epoch 857, minibatch 1/1, validation error nan %\n",
        "epoch 858, minibatch 1/1, validation error nan %\n",
        "epoch 859, minibatch 1/1, validation error nan %\n",
        "epoch 860, minibatch 1/1, validation error nan %\n",
        "epoch 861, minibatch 1/1, validation error nan %\n",
        "epoch 862, minibatch 1/1, validation error nan %"
       ]
      },
      {
       "ename": "KeyboardInterrupt",
       "evalue": "",
       "output_type": "pyerr",
       "traceback": [
        "\u001b[0;31m---------------------------------------------------------------------------\u001b[0m\n\u001b[0;31mKeyboardInterrupt\u001b[0m                         Traceback (most recent call last)",
        "\u001b[0;32m<ipython-input-54-59ba54723fe4>\u001b[0m in \u001b[0;36m<module>\u001b[0;34m()\u001b[0m\n\u001b[1;32m     12\u001b[0m \u001b[0mmodel\u001b[0m\u001b[0;34m.\u001b[0m\u001b[0mfit\u001b[0m\u001b[0;34m(\u001b[0m\u001b[0mraw_X\u001b[0m\u001b[0;34m,\u001b[0m \u001b[0mraw_y\u001b[0m\u001b[0;34m)\u001b[0m\u001b[0;34m\u001b[0m\u001b[0m\n\u001b[1;32m     13\u001b[0m \u001b[0;32mprint\u001b[0m \u001b[0;34m'classification error for blackbox data:'\u001b[0m\u001b[0;34m,\u001b[0m \u001b[0mmodel\u001b[0m\u001b[0;34m.\u001b[0m\u001b[0mscore\u001b[0m\u001b[0;34m(\u001b[0m\u001b[0mraw_X\u001b[0m\u001b[0;34m,\u001b[0m \u001b[0mraw_y\u001b[0m\u001b[0;34m)\u001b[0m\u001b[0;34m\u001b[0m\u001b[0m\n\u001b[0;32m---> 14\u001b[0;31m \u001b[0mmodel\u001b[0m\u001b[0;34m.\u001b[0m\u001b[0mpartial_fit\u001b[0m\u001b[0;34m(\u001b[0m\u001b[0mraw_X\u001b[0m\u001b[0;34m,\u001b[0m \u001b[0mraw_y\u001b[0m\u001b[0;34m)\u001b[0m\u001b[0;34m\u001b[0m\u001b[0m\n\u001b[0m\u001b[1;32m     15\u001b[0m \u001b[0;32mprint\u001b[0m \u001b[0;34m'classification error for blackbox data:'\u001b[0m\u001b[0;34m,\u001b[0m \u001b[0mmodel\u001b[0m\u001b[0;34m.\u001b[0m\u001b[0mscore\u001b[0m\u001b[0;34m(\u001b[0m\u001b[0mraw_X\u001b[0m\u001b[0;34m,\u001b[0m \u001b[0mraw_y\u001b[0m\u001b[0;34m)\u001b[0m\u001b[0;34m\u001b[0m\u001b[0m\n",
        "\u001b[0;32m/home/ce/mali/tutorials/ml-tutorials/theanoml/logistic_regression.pyc\u001b[0m in \u001b[0;36mpartial_fit\u001b[0;34m(self, X, y)\u001b[0m\n\u001b[1;32m     48\u001b[0m                         \u001b[0mself\u001b[0m\u001b[0;34m.\u001b[0m\u001b[0mn_classes\u001b[0m \u001b[0;34m=\u001b[0m \u001b[0mlen\u001b[0m\u001b[0;34m(\u001b[0m\u001b[0mself\u001b[0m\u001b[0;34m.\u001b[0m\u001b[0mclasses\u001b[0m\u001b[0;34m)\u001b[0m\u001b[0;34m\u001b[0m\u001b[0m\n\u001b[1;32m     49\u001b[0m                 \u001b[0;31m## optimize\u001b[0m\u001b[0;34m\u001b[0m\u001b[0;34m\u001b[0m\u001b[0m\n\u001b[0;32m---> 50\u001b[0;31m                 \u001b[0mself\u001b[0m\u001b[0;34m.\u001b[0m\u001b[0moptimize\u001b[0m\u001b[0;34m(\u001b[0m\u001b[0mv_train_X\u001b[0m\u001b[0;34m,\u001b[0m \u001b[0mv_train_y\u001b[0m\u001b[0;34m,\u001b[0m \u001b[0mv_validation_X\u001b[0m\u001b[0;34m,\u001b[0m \u001b[0mv_validation_y\u001b[0m\u001b[0;34m,\u001b[0m \u001b[0mpartial\u001b[0m\u001b[0;34m=\u001b[0m\u001b[0mTrue\u001b[0m\u001b[0;34m)\u001b[0m\u001b[0;34m\u001b[0m\u001b[0m\n\u001b[0m\u001b[1;32m     51\u001b[0m         \u001b[0;32mdef\u001b[0m \u001b[0mpredict\u001b[0m\u001b[0;34m(\u001b[0m\u001b[0mself\u001b[0m\u001b[0;34m,\u001b[0m \u001b[0mX\u001b[0m\u001b[0;34m)\u001b[0m\u001b[0;34m:\u001b[0m\u001b[0;34m\u001b[0m\u001b[0m\n\u001b[1;32m     52\u001b[0m                 \u001b[0;32mreturn\u001b[0m \u001b[0mself\u001b[0m\u001b[0;34m.\u001b[0m\u001b[0m_predict\u001b[0m\u001b[0;34m(\u001b[0m\u001b[0mX\u001b[0m\u001b[0;34m)\u001b[0m\u001b[0;34m[\u001b[0m\u001b[0;36m0\u001b[0m\u001b[0;34m]\u001b[0m\u001b[0;34m\u001b[0m\u001b[0m\n",
        "\u001b[0;32m/home/ce/mali/tutorials/ml-tutorials/theanoml/logistic_regression.pyc\u001b[0m in \u001b[0;36m_sgd\u001b[0;34m(self, v_train_X, v_train_y, v_validation_X, v_validation_y, learning_rate, n_epochs, batch_size, partial)\u001b[0m\n\u001b[1;32m    108\u001b[0m                         \u001b[0;32mfor\u001b[0m \u001b[0mminibatch_index\u001b[0m \u001b[0;32min\u001b[0m \u001b[0mxrange\u001b[0m\u001b[0;34m(\u001b[0m\u001b[0mn_train_batches\u001b[0m\u001b[0;34m)\u001b[0m\u001b[0;34m:\u001b[0m\u001b[0;34m\u001b[0m\u001b[0m\n\u001b[1;32m    109\u001b[0m                                 \u001b[0;31m## train the model\u001b[0m\u001b[0;34m\u001b[0m\u001b[0;34m\u001b[0m\u001b[0m\n\u001b[0;32m--> 110\u001b[0;31m                                 \u001b[0mminibatch_cost\u001b[0m \u001b[0;34m=\u001b[0m \u001b[0mtrain_model\u001b[0m\u001b[0;34m(\u001b[0m\u001b[0mminibatch_index\u001b[0m\u001b[0;34m)\u001b[0m\u001b[0;34m\u001b[0m\u001b[0m\n\u001b[0m\u001b[1;32m    111\u001b[0m                                 \u001b[0;31m## update the total iteration number\u001b[0m\u001b[0;34m\u001b[0m\u001b[0;34m\u001b[0m\u001b[0m\n\u001b[1;32m    112\u001b[0m                                 \u001b[0miter\u001b[0m \u001b[0;34m=\u001b[0m \u001b[0;34m(\u001b[0m\u001b[0mepoch\u001b[0m \u001b[0;34m-\u001b[0m \u001b[0;36m1\u001b[0m\u001b[0;34m)\u001b[0m \u001b[0;34m*\u001b[0m \u001b[0mn_train_batches\u001b[0m \u001b[0;34m+\u001b[0m \u001b[0mminibatch_index\u001b[0m\u001b[0;34m\u001b[0m\u001b[0m\n",
        "\u001b[0;32m/usr/local/lib/python2.7/dist-packages/theano/compile/function_module.pyc\u001b[0m in \u001b[0;36m__call__\u001b[0;34m(self, *args, **kwargs)\u001b[0m\n\u001b[1;32m    578\u001b[0m         \u001b[0mt0_fn\u001b[0m \u001b[0;34m=\u001b[0m \u001b[0mtime\u001b[0m\u001b[0;34m.\u001b[0m\u001b[0mtime\u001b[0m\u001b[0;34m(\u001b[0m\u001b[0;34m)\u001b[0m\u001b[0;34m\u001b[0m\u001b[0m\n\u001b[1;32m    579\u001b[0m         \u001b[0;32mtry\u001b[0m\u001b[0;34m:\u001b[0m\u001b[0;34m\u001b[0m\u001b[0m\n\u001b[0;32m--> 580\u001b[0;31m             \u001b[0moutputs\u001b[0m \u001b[0;34m=\u001b[0m \u001b[0mself\u001b[0m\u001b[0;34m.\u001b[0m\u001b[0mfn\u001b[0m\u001b[0;34m(\u001b[0m\u001b[0;34m)\u001b[0m\u001b[0;34m\u001b[0m\u001b[0m\n\u001b[0m\u001b[1;32m    581\u001b[0m         \u001b[0;32mexcept\u001b[0m \u001b[0mException\u001b[0m\u001b[0;34m:\u001b[0m\u001b[0;34m\u001b[0m\u001b[0m\n\u001b[1;32m    582\u001b[0m             \u001b[0;32mif\u001b[0m \u001b[0mhasattr\u001b[0m\u001b[0;34m(\u001b[0m\u001b[0mself\u001b[0m\u001b[0;34m.\u001b[0m\u001b[0mfn\u001b[0m\u001b[0;34m,\u001b[0m \u001b[0;34m'position_of_error'\u001b[0m\u001b[0;34m)\u001b[0m\u001b[0;34m:\u001b[0m\u001b[0;34m\u001b[0m\u001b[0m\n",
        "\u001b[0;31mKeyboardInterrupt\u001b[0m: "
       ]
      },
      {
       "output_type": "stream",
       "stream": "stdout",
       "text": [
        "\n",
        "epoch 863, minibatch 1/1, validation error nan %\n",
        "epoch 864, minibatch 1/1, validation error nan %\n",
        "epoch 865, minibatch 1/1, validation error nan %\n",
        "epoch 866, minibatch 1/1, validation error nan %\n",
        "epoch 867, minibatch 1/1, validation error nan %\n",
        "epoch 868, minibatch 1/1, validation error nan %\n"
       ]
      }
     ],
     "prompt_number": 54
    },
    {
     "cell_type": "code",
     "collapsed": false,
     "input": [],
     "language": "python",
     "metadata": {},
     "outputs": []
    }
   ],
   "metadata": {}
  }
 ]
}