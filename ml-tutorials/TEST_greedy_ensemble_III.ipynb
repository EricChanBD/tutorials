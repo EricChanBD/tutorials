{
 "metadata": {
  "name": "TEST_greedy_ensemble_III"
 },
 "nbformat": 3,
 "nbformat_minor": 0,
 "worksheets": [
  {
   "cells": [
    {
     "cell_type": "code",
     "collapsed": false,
     "input": [
      "import ensemble\n",
      "import features\n",
      "reload(ensemble)\n",
      "reload(features)\n",
      "from itertools import cycle\n",
      "import numpy as np\n",
      "import random\n",
      "from IPython.parallel import Client\n",
      "client = Client()\n",
      "print len(client)"
     ],
     "language": "python",
     "metadata": {},
     "outputs": [
      {
       "output_type": "stream",
       "stream": "stdout",
       "text": [
        "4\n"
       ]
      }
     ],
     "prompt_number": 17
    },
    {
     "cell_type": "code",
     "collapsed": false,
     "input": [
      "import cPickle\n",
      "X, y = cPickle.load(open('data/blackbox.pkl', 'rb'))\n",
      "print X.shape, y.shape"
     ],
     "language": "python",
     "metadata": {},
     "outputs": [
      {
       "output_type": "stream",
       "stream": "stdout",
       "text": [
        "(1000, 1875) (1000,)\n"
       ]
      }
     ],
     "prompt_number": 2
    },
    {
     "cell_type": "code",
     "collapsed": false,
     "input": [
      "## clear and create ensemble\n",
      "!rm -fR tmp/blackbox_ensemble_iii/\n",
      "ensemble_path = ensemble.new_ensemble('blackbox_ensemble_iii', 'tmp/')\n",
      "print ensemble_path"
     ],
     "language": "python",
     "metadata": {},
     "outputs": [
      {
       "output_type": "stream",
       "stream": "stdout",
       "text": [
        "/Users/lima/workspace/tutorials/ml-tutorials/tmp/blackbox_ensemble_iii"
       ]
      },
      {
       "output_type": "stream",
       "stream": "stdout",
       "text": [
        "\n"
       ]
      }
     ],
     "prompt_number": 3
    },
    {
     "cell_type": "markdown",
     "metadata": {},
     "source": [
      "***FEATURE and DATA ENGINEERING***"
     ]
    },
    {
     "cell_type": "code",
     "collapsed": false,
     "input": [
      "## split data into train and validation\n",
      "from sklearn.cross_validation import train_test_split\n",
      "n_samples, n_features = X.shape\n",
      "train_index, test_index = train_test_split(range(n_samples), test_size = 0.2)\n",
      "data_records = []\n",
      "data_names = []"
     ],
     "language": "python",
     "metadata": {},
     "outputs": [],
     "prompt_number": 4
    },
    {
     "cell_type": "code",
     "collapsed": false,
     "input": [
      "## strided subpatches of original features\n",
      "feature_patches = features.strided_seqs(range(n_features), stride = 25, subsize = 25)\n",
      "data_name_prefix = 'stride_%d_%d'\n",
      "for feats in feature_patches:\n",
      "    train_X = features.patch(X, train_index, feats)\n",
      "    train_y = features.patch(y, train_index)\n",
      "    test_X = features.patch(X, test_index, feats)\n",
      "    test_y = features.patch(y, test_index)\n",
      "    train_name = 'train_' + data_name_prefix % (feats[0], feats[-1])\n",
      "    test_name = 'test_' + data_name_prefix % (feats[0], feats[-1])\n",
      "    data_records.append([train_name, (train_X, train_y), {}])\n",
      "    data_records.append([test_name, (test_X, test_y), {}])\n",
      "    data_names.append((train_name, test_name))"
     ],
     "language": "python",
     "metadata": {},
     "outputs": [],
     "prompt_number": 5
    },
    {
     "cell_type": "code",
     "collapsed": false,
     "input": [
      "## bootstraped subpatches of original features\n",
      "feature_patches = features.bootstrap_seqs(range(n_features), n_iter = 500, subsize = 15)\n",
      "data_name_prefix = 'bs_%d_%d'\n",
      "for feats in feature_patches:\n",
      "    train_X = features.patch(X, train_index, feats)\n",
      "    train_y = features.patch(y, train_index)\n",
      "    test_X = features.patch(X, test_index, feats)\n",
      "    test_y = features.patch(y, test_index)\n",
      "    train_name = 'train_' + data_name_prefix % (feats[0], feats[-1])\n",
      "    test_name = 'test_' + data_name_prefix % (feats[0], feats[-1])\n",
      "    data_records.append([train_name, (train_X, train_y), {}])\n",
      "    data_records.append([test_name, (test_X, test_y), {}])\n",
      "    data_names.append((train_name, test_name))"
     ],
     "language": "python",
     "metadata": {},
     "outputs": [],
     "prompt_number": 6
    },
    {
     "cell_type": "code",
     "collapsed": false,
     "input": [
      "## tri-kmeans features \n",
      "tri_kmeans = features.TriKmeansFeatures(n_clusters = 20, \n",
      "                        feat_patches = features.bootstrap_seqs(range(n_features), \n",
      "                                                                  n_iter = 500, subsize=20), \n",
      "                        client = client)\n",
      "tri_X = tri_kmeans.fit_transform(X)\n",
      "feature_patches = features.strided_seqs(range(tri_X.shape[1]), stride = 15, subsize=30)\n",
      "data_name_prefix = 'tri_%d_%d'\n",
      "for feats in feature_patches:\n",
      "    train_X = features.patch(tri_X, train_index, feats)\n",
      "    train_y = features.patch(y, train_index)\n",
      "    test_X = features.patch(tri_X, test_index, feats)\n",
      "    test_y = features.patch(y, test_index)\n",
      "    train_name = 'train_' + data_name_prefix % (feats[0], feats[-1])\n",
      "    test_name = 'test_' + data_name_prefix % (feats[0], feats[-1])\n",
      "    data_records.append([train_name, (train_X, train_y), {}])\n",
      "    data_records.append([test_name, (test_X, test_y), {}])\n",
      "    data_names.append((train_name, test_name))"
     ],
     "language": "python",
     "metadata": {},
     "outputs": [
      {
       "output_type": "stream",
       "stream": "stdout",
       "text": [
        "   4/4 tasks finished after   47 s"
       ]
      },
      {
       "output_type": "stream",
       "stream": "stdout",
       "text": [
        "\n",
        "done\n"
       ]
      }
     ],
     "prompt_number": 7
    },
    {
     "cell_type": "code",
     "collapsed": false,
     "input": [
      "## 2nd order features\n",
      "## TODO"
     ],
     "language": "python",
     "metadata": {},
     "outputs": [],
     "prompt_number": 8
    },
    {
     "cell_type": "code",
     "collapsed": false,
     "input": [
      "## Write data in batch\n",
      "ensemble.batch_write_data(ensemble_path, data_records)\n",
      "print len(data_names)"
     ],
     "language": "python",
     "metadata": {},
     "outputs": [
      {
       "output_type": "stream",
       "stream": "stdout",
       "text": [
        "1241\n"
       ]
      }
     ],
     "prompt_number": 9
    },
    {
     "cell_type": "markdown",
     "metadata": {},
     "source": [
      "***FARM MODELS***"
     ]
    },
    {
     "cell_type": "code",
     "collapsed": false,
     "input": [
      "## different model configurations \n",
      "from sklearn import svm\n",
      "from sklearn import linear_model\n",
      "from sklearn import tree\n",
      "from sklearn.grid_search import IterGrid\n",
      "models = []\n",
      "## tree models\n",
      "tree_params = IterGrid({'criterion': ['gini', 'entropy'], 'max_depth': range(5, 16)})\n",
      "for param in tree_params:\n",
      "    model_name = 'tree_%s_%d' % (param['criterion'], param['max_depth'])\n",
      "    models.append((model_name, tree.DecisionTreeClassifier(**param)))"
     ],
     "language": "python",
     "metadata": {},
     "outputs": [],
     "prompt_number": 10
    },
    {
     "cell_type": "code",
     "collapsed": false,
     "input": [
      "## link models with data\n",
      "model_names = []\n",
      "model_records = []\n",
      "for (model_name, model) in models:\n",
      "    for (train_data, validation_data) in data_names:\n",
      "        model_meta = {\n",
      "          'is_probabilistic': False\n",
      "          , 'train_data': train_data\n",
      "          , 'validation_data': validation_data\n",
      "          , 'test_data': None\n",
      "        }\n",
      "        model_data_name = '__'.join([model_name, train_data, validation_data])\n",
      "        model_names.append(model_data_name)\n",
      "        model_records.append([model_data_name, model, model_meta])"
     ],
     "language": "python",
     "metadata": {},
     "outputs": [],
     "prompt_number": 11
    },
    {
     "cell_type": "code",
     "collapsed": false,
     "input": [
      "## write models into ensemble\n",
      "print len(model_names)\n",
      "selected_models = range(len(model_names))\n",
      "from random import shuffle\n",
      "shuffle(selected_models)\n",
      "selected_models = selected_models[:1000]\n",
      "model_names = np.array(model_names)[selected_models]\n",
      "model_records = np.array(model_records)[selected_models]\n",
      "print len(model_names)\n",
      "ensemble.batch_write_model(ensemble_path, model_records)"
     ],
     "language": "python",
     "metadata": {},
     "outputs": [
      {
       "output_type": "stream",
       "stream": "stdout",
       "text": [
        "27302\n",
        "1000"
       ]
      },
      {
       "output_type": "stream",
       "stream": "stdout",
       "text": [
        "\n"
       ]
      }
     ],
     "prompt_number": 12
    },
    {
     "cell_type": "code",
     "collapsed": false,
     "input": [
      "## train models in parallel\n",
      "model_data_pairs = zip(model_names, cycle(['train_data']))\n",
      "ensemble.parallel_train_models(ensemble_path, model_data_pairs, client)"
     ],
     "language": "python",
     "metadata": {},
     "outputs": [
      {
       "output_type": "stream",
       "stream": "stdout",
       "text": [
        "   4/4 tasks finished after   24 s"
       ]
      },
      {
       "output_type": "stream",
       "stream": "stdout",
       "text": [
        "\n",
        "done\n"
       ]
      }
     ],
     "prompt_number": 13
    },
    {
     "cell_type": "code",
     "collapsed": false,
     "input": [
      "## construct the greedy ensemble\n",
      "from sklearn.metrics import accuracy_score\n",
      "ge = ensemble.GreedyEnsemble(ensemble_path, \n",
      "                             scorefn = accuracy_score,\n",
      "                             votefn = ensemble.GreedyEnsemble.vote_major_class,\n",
      "                             client = client)\n",
      "ge.fit(model_names, verbose = True)"
     ],
     "language": "python",
     "metadata": {},
     "outputs": [
      {
       "output_type": "stream",
       "stream": "stdout",
       "text": [
        "   4/4 tasks finished after   17 s"
       ]
      },
      {
       "output_type": "stream",
       "stream": "stdout",
       "text": [
        "\n",
        "done\n",
        "checking model"
       ]
      },
      {
       "output_type": "stream",
       "stream": "stdout",
       "text": [
        " tree_gini_6__train_bs_1591_120__test_bs_1591_120 improvement from  0.0 to 0.27\n",
        "checking model"
       ]
      },
      {
       "output_type": "stream",
       "stream": "stdout",
       "text": [
        " tree_gini_11__train_stride_350_374__test_stride_350_374 improvement from  0.27 to 0.315\n",
        "checking model"
       ]
      },
      {
       "output_type": "stream",
       "stream": "stdout",
       "text": [
        " tree_gini_14__train_tri_5130_5159__test_tri_5130_5159 improvement from  0.315 to 0.315\n",
        "checking model"
       ]
      },
      {
       "output_type": "stream",
       "stream": "stdout",
       "text": [
        " tree_entropy_14__train_bs_823_827__test_bs_823_827 improvement from  0.315 to 0.335\n",
        "checking model"
       ]
      },
      {
       "output_type": "stream",
       "stream": "stdout",
       "text": [
        " tree_entropy_13__train_stride_1025_1049__test_stride_1025_1049 improvement from  0.335 to 0.345\n",
        "checking model"
       ]
      },
      {
       "output_type": "stream",
       "stream": "stdout",
       "text": [
        " tree_gini_15__train_tri_3600_3629__test_tri_3600_3629 improvement from  0.345 to 0.355\n",
        "checking model"
       ]
      },
      {
       "output_type": "stream",
       "stream": "stdout",
       "text": [
        " tree_entropy_13__train_tri_2280_2309__test_tri_2280_2309 improvement from  0.355 to 0.365\n",
        "checking model"
       ]
      },
      {
       "output_type": "stream",
       "stream": "stdout",
       "text": [
        " tree_entropy_6__train_tri_8160_8189__test_tri_8160_8189 improvement from  0.365 to 0.37\n",
        "checking model"
       ]
      },
      {
       "output_type": "stream",
       "stream": "stdout",
       "text": [
        " tree_entropy_12__train_tri_9105_9134__test_tri_9105_9134 improvement from  0.37 to 0.38\n",
        "checking model"
       ]
      },
      {
       "output_type": "stream",
       "stream": "stdout",
       "text": [
        " tree_gini_11__train_tri_2250_2279__test_tri_2250_2279 improvement from  0.38 to 0.38\n",
        "checking model"
       ]
      },
      {
       "output_type": "stream",
       "stream": "stdout",
       "text": [
        " tree_entropy_7__train_bs_1297_1316__test_bs_1297_1316 improvement from  0.38 to 0.395\n",
        "checking model"
       ]
      },
      {
       "output_type": "stream",
       "stream": "stdout",
       "text": [
        " tree_entropy_13__train_bs_974_1690__test_bs_974_1690 improvement from  0.395 to 0.4\n",
        "checking model"
       ]
      },
      {
       "output_type": "stream",
       "stream": "stdout",
       "text": [
        " tree_entropy_15__train_bs_1304_1291__test_bs_1304_1291 improvement from  0.4 to 0.4\n",
        "checking model"
       ]
      },
      {
       "output_type": "stream",
       "stream": "stdout",
       "text": [
        " tree_gini_11__train_bs_1749_1266__test_bs_1749_1266 improvement from  0.4 to 0.4\n",
        "checking model"
       ]
      },
      {
       "output_type": "stream",
       "stream": "stdout",
       "text": [
        " tree_entropy_11__train_bs_453_802__test_bs_453_802 improvement from  0.4 to 0.415\n",
        "checking model"
       ]
      },
      {
       "output_type": "stream",
       "stream": "stdout",
       "text": [
        " tree_gini_14__train_tri_3990_4019__test_tri_3990_4019 improvement from  0.415 to 0.42\n",
        "checking model"
       ]
      },
      {
       "output_type": "stream",
       "stream": "stdout",
       "text": [
        " tree_entropy_15__train_bs_295_295__test_bs_295_295 improvement from  0.42 to 0.43\n",
        "checking model"
       ]
      },
      {
       "output_type": "stream",
       "stream": "stdout",
       "text": [
        " tree_entropy_10__train_tri_4215_4244__test_tri_4215_4244 improvement from  0.43 to 0.435\n",
        "checking model"
       ]
      },
      {
       "output_type": "stream",
       "stream": "stdout",
       "text": [
        " tree_entropy_9__train_bs_374_683__test_bs_374_683 improvement from  0.435 to 0.445\n",
        "checking model"
       ]
      },
      {
       "output_type": "stream",
       "stream": "stdout",
       "text": [
        " tree_entropy_15__train_bs_1390_589__test_bs_1390_589 improvement from  0.445 to 0.45\n",
        "checking model"
       ]
      },
      {
       "output_type": "stream",
       "stream": "stdout",
       "text": [
        " tree_entropy_15__train_tri_3120_3149__test_tri_3120_3149 NO improvement from  0.45 to 0.44\n"
       ]
      },
      {
       "output_type": "pyout",
       "prompt_number": 14,
       "text": [
        "GreedyEnsemble(client=<IPython.parallel.client.client.Client object at 0x105635690>,\n",
        "        ensemble_path='/Users/lima/workspace/tutorials/ml-tutorials/tmp/blackbox_ensemble_iii',\n",
        "        random_seed=0, scorefn=<function accuracy_score at 0x108e98398>,\n",
        "        votefn=<function vote_major_class at 0x105772c08>)"
       ]
      }
     ],
     "prompt_number": 14
    },
    {
     "cell_type": "code",
     "collapsed": false,
     "input": [
      "## performance checking on training data\n",
      "print ge.score(data_type = 'train_data')"
     ],
     "language": "python",
     "metadata": {},
     "outputs": [
      {
       "output_type": "stream",
       "stream": "stdout",
       "text": [
        "   4/4 tasks finished after    0 s"
       ]
      },
      {
       "output_type": "stream",
       "stream": "stdout",
       "text": [
        "\n",
        "done\n",
        "1.0\n"
       ]
      }
     ],
     "prompt_number": 15
    },
    {
     "cell_type": "code",
     "collapsed": false,
     "input": [
      "## performance checking on validation_data\n",
      "print ge.score(data_type = 'validation_data')"
     ],
     "language": "python",
     "metadata": {},
     "outputs": [
      {
       "output_type": "stream",
       "stream": "stdout",
       "text": [
        "   4/4 tasks finished after    0 s"
       ]
      },
      {
       "output_type": "stream",
       "stream": "stdout",
       "text": [
        "\n",
        "done\n",
        "0.45\n"
       ]
      }
     ],
     "prompt_number": 16
    },
    {
     "cell_type": "code",
     "collapsed": false,
     "input": [
      "## write out ensemble\n",
      "reload(ensemble)\n",
      "optimal_ensemble_path = 'tmp/blackbox_ensemble_iii_optimal'\n",
      "ensemble.copy_ensemble(ensemble_path, optimal_ensemble_path, ge.ensemble_, overwrite=True)"
     ],
     "language": "python",
     "metadata": {},
     "outputs": [],
     "prompt_number": 23
    },
    {
     "cell_type": "code",
     "collapsed": false,
     "input": [
      "!ls tmp/blackbox_ensemble_iii_optimal/"
     ],
     "language": "python",
     "metadata": {},
     "outputs": [
      {
       "output_type": "stream",
       "stream": "stdout",
       "text": [
        "\u001b[1m\u001b[34mdata\u001b[m\u001b[m        data.json   \u001b[1m\u001b[34mmodels\u001b[m\u001b[m      models.json\r\n"
       ]
      }
     ],
     "prompt_number": 24
    },
    {
     "cell_type": "code",
     "collapsed": false,
     "input": [
      "## reconstruct the ensemble model\n",
      "gee = ensemble.GreedyEnsemble(optimal_ensemble_path, scorefn=accuracy_score, votefn=ensemble.GreedyEnsemble.vote_major_class, client = client)\n",
      "gee.fit(ensemble.all_model_names(optimal_ensemble_path), verbose = True)"
     ],
     "language": "python",
     "metadata": {},
     "outputs": [
      {
       "output_type": "stream",
       "stream": "stdout",
       "text": [
        "   4/4 tasks finished after    0 s"
       ]
      },
      {
       "output_type": "stream",
       "stream": "stdout",
       "text": [
        "\n",
        "done\n",
        "checking model tree_gini_6__train_bs_1591_120__test_bs_1591_120 improvement from  0.0 to 0.27\n",
        "checking model tree_gini_11__train_stride_350_374__test_stride_350_374 improvement from  0.27 to 0.315\n",
        "checking model tree_gini_14__train_tri_5130_5159__test_tri_5130_5159 improvement from  0.315 to 0.315\n",
        "checking model"
       ]
      },
      {
       "output_type": "stream",
       "stream": "stdout",
       "text": [
        " tree_entropy_14__train_bs_823_827__test_bs_823_827 improvement from  0.315 to 0.335\n",
        "checking model tree_entropy_13__train_stride_1025_1049__test_stride_1025_1049 improvement from  0.335 to 0.345\n",
        "checking model tree_gini_15__train_tri_3600_3629__test_tri_3600_3629 improvement from  0.345 to 0.355\n",
        "checking model tree_entropy_13__train_tri_2280_2309__test_tri_2280_2309 improvement from  0.355 to 0.365\n",
        "checking model tree_entropy_6__train_tri_8160_8189__test_tri_8160_8189 improvement from  0.365 to 0.37\n",
        "checking model"
       ]
      },
      {
       "output_type": "stream",
       "stream": "stdout",
       "text": [
        " tree_entropy_12__train_tri_9105_9134__test_tri_9105_9134 improvement from  0.37 to 0.38\n",
        "checking model tree_gini_11__train_tri_2250_2279__test_tri_2250_2279 improvement from  0.38 to 0.38\n",
        "checking model tree_entropy_7__train_bs_1297_1316__test_bs_1297_1316 improvement from  0.38 to 0.395\n",
        "checking model tree_entropy_13__train_bs_974_1690__test_bs_974_1690 improvement from  0.395 to 0.4\n",
        "checking model tree_entropy_15__train_bs_1304_1291__test_bs_1304_1291 improvement from  0.4 to 0.4\n",
        "checking model tree_gini_11__train_bs_1749_1266__test_bs_1749_1266 improvement from  0.4 to 0.4\n",
        "checking model tree_entropy_11__train_bs_453_802__test_bs_453_802 improvement from  0.4 to 0.415\n",
        "checking model"
       ]
      },
      {
       "output_type": "stream",
       "stream": "stdout",
       "text": [
        " tree_gini_14__train_tri_3990_4019__test_tri_3990_4019 improvement from  0.415 to 0.42\n",
        "checking model tree_entropy_15__train_bs_295_295__test_bs_295_295 improvement from  0.42 to 0.43\n",
        "checking model tree_entropy_10__train_tri_4215_4244__test_tri_4215_4244 improvement from  0.43 to 0.435\n",
        "checking model tree_entropy_9__train_bs_374_683__test_bs_374_683 improvement from  0.435 to 0.445\n",
        "checking model tree_entropy_15__train_bs_1390_589__test_bs_1390_589 improvement from  0.445 to 0.45\n"
       ]
      },
      {
       "output_type": "pyout",
       "prompt_number": 26,
       "text": [
        "GreedyEnsemble(client=<IPython.parallel.client.client.Client object at 0x108e8cb10>,\n",
        "        ensemble_path='tmp/blackbox_ensemble_iii_optimal', random_seed=0,\n",
        "        scorefn=<function accuracy_score at 0x108e98398>,\n",
        "        votefn=<function vote_major_class at 0x1057758c0>)"
       ]
      }
     ],
     "prompt_number": 26
    },
    {
     "cell_type": "code",
     "collapsed": false,
     "input": [
      "print gee.score('train_data')\n"
     ],
     "language": "python",
     "metadata": {},
     "outputs": [
      {
       "output_type": "stream",
       "stream": "stdout",
       "text": [
        "   4/4 tasks finished after    0 s"
       ]
      },
      {
       "output_type": "stream",
       "stream": "stdout",
       "text": [
        "\n",
        "done\n",
        "1.0\n"
       ]
      }
     ],
     "prompt_number": 29
    },
    {
     "cell_type": "code",
     "collapsed": false,
     "input": [
      "print gee.score('validation_data')"
     ],
     "language": "python",
     "metadata": {},
     "outputs": [
      {
       "output_type": "stream",
       "stream": "stdout",
       "text": [
        "   4/4 tasks finished after    0 s"
       ]
      },
      {
       "output_type": "stream",
       "stream": "stdout",
       "text": [
        "\n",
        "done\n",
        "0.45\n"
       ]
      }
     ],
     "prompt_number": 28
    },
    {
     "cell_type": "code",
     "collapsed": false,
     "input": [],
     "language": "python",
     "metadata": {},
     "outputs": []
    }
   ],
   "metadata": {}
  }
 ]
}