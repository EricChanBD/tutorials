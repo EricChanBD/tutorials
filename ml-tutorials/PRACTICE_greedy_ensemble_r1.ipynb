{
 "metadata": {
  "name": "PRACTICE_greedy_ensemble_r1"
 },
 "nbformat": 3,
 "nbformat_minor": 0,
 "worksheets": [
  {
   "cells": [
    {
     "cell_type": "code",
     "collapsed": false,
     "input": [
      "!ls "
     ],
     "language": "python",
     "metadata": {},
     "outputs": [
      {
       "output_type": "stream",
       "stream": "stdout",
       "text": [
        "BASIC_sklearn_fact_book.ipynb           REGULARIZATION_sklearn_comparison.ipynb\r\n",
        "FEATURE_by_clustering.ipynb             X.pkl\r\n",
        "FEATURE_images.ipynb                    \u001b[1m\u001b[34mdata\u001b[m\u001b[m\r\n",
        "PRACTICE_feature_and_ensemble.ipynb     ensemble.py\r\n",
        "PRACTICE_greedy_ensemble.ipynb          ensemble.pyc\r\n",
        "PRACTICE_greedy_ensemble_r1.ipynb       pca_vs_ica.png\r\n",
        "README.md                               \u001b[1m\u001b[34mtmp\u001b[m\u001b[m\r\n"
       ]
      }
     ],
     "prompt_number": 1
    },
    {
     "cell_type": "code",
     "collapsed": false,
     "input": [
      "import ensemble\n",
      "reload(ensemble)"
     ],
     "language": "python",
     "metadata": {},
     "outputs": [
      {
       "output_type": "pyout",
       "prompt_number": 2,
       "text": [
        "<module 'ensemble' from 'ensemble.pyc'>"
       ]
      }
     ],
     "prompt_number": 2
    },
    {
     "cell_type": "markdown",
     "metadata": {},
     "source": [
      "***Testing Helper Function***"
     ]
    },
    {
     "cell_type": "code",
     "collapsed": false,
     "input": [
      "reload(ensemble)"
     ],
     "language": "python",
     "metadata": {},
     "outputs": [
      {
       "output_type": "pyout",
       "prompt_number": 3,
       "text": [
        "<module 'ensemble' from 'ensemble.pyc'>"
       ]
      }
     ],
     "prompt_number": 3
    },
    {
     "cell_type": "code",
     "collapsed": false,
     "input": [
      "## TEST create json files\n",
      "ensemble._new_json_file('tmp/tmp_data.json')\n",
      "!cat tmp/tmp_data.json"
     ],
     "language": "python",
     "metadata": {},
     "outputs": [
      {
       "output_type": "stream",
       "stream": "stdout",
       "text": [
        "{}"
       ]
      }
     ],
     "prompt_number": 4
    },
    {
     "cell_type": "code",
     "collapsed": false,
     "input": [
      "## TEST write/read json records\n",
      "ensemble._write_json_record('tmp/tmp_data.json', {'data1': {'name': 'gooddata'}}, False)\n",
      "print ensemble._read_json_record('tmp/tmp_data.json')\n",
      "#ensemble.write_json_record('tmp/tmp_data.json', {'data1': {'name': 'gooddata'}}, False)\n",
      "ensemble._write_json_record('tmp/tmp_data.json', {'data2': {'name': 'betterata'}}, False)\n",
      "print ensemble._read_json_record('tmp/tmp_data.json')"
     ],
     "language": "python",
     "metadata": {},
     "outputs": [
      {
       "output_type": "stream",
       "stream": "stdout",
       "text": [
        "{u'data1': {u'name': u'gooddata'}}\n",
        "{u'data1': {u'name': u'gooddata'}, u'data2': {u'name': u'betterata'}}"
       ]
      },
      {
       "output_type": "stream",
       "stream": "stdout",
       "text": [
        "\n"
       ]
      }
     ],
     "prompt_number": 5
    },
    {
     "cell_type": "code",
     "collapsed": false,
     "input": [
      "## TEST delete keys\n",
      "ensemble._remove_json_record('tmp/tmp_data.json', ['data1'])\n",
      "print ensemble._read_json_record('tmp/tmp_data.json')"
     ],
     "language": "python",
     "metadata": {},
     "outputs": [
      {
       "output_type": "stream",
       "stream": "stdout",
       "text": [
        "{u'data2': {u'name': u'betterata'}}\n"
       ]
      }
     ],
     "prompt_number": 6
    },
    {
     "cell_type": "code",
     "collapsed": false,
     "input": [
      "print ensemble._get_path('tmp/tmp_data.json', 'data_json')\n",
      "print ensemble._get_path('tmp/tmp_data.json', 'data_folder')\n",
      "print ensemble._get_path('tmp/tmp_data.json', 'models_json')\n",
      "print ensemble._get_path('tmp/tmp_data.json', 'models_folder')"
     ],
     "language": "python",
     "metadata": {},
     "outputs": [
      {
       "output_type": "stream",
       "stream": "stdout",
       "text": [
        "/Users/lima/workspace/tutorials/ml-tutorials/tmp/tmp_data.json/data.json\n",
        "/Users/lima/workspace/tutorials/ml-tutorials/tmp/tmp_data.json/data\n",
        "/Users/lima/workspace/tutorials/ml-tutorials/tmp/tmp_data.json/models.json\n",
        "/Users/lima/workspace/tutorials/ml-tutorials/tmp/tmp_data.json/models\n"
       ]
      }
     ],
     "prompt_number": 7
    },
    {
     "cell_type": "markdown",
     "metadata": {},
     "source": [
      "***Test ensemble data manipulation***"
     ]
    },
    {
     "cell_type": "code",
     "collapsed": false,
     "input": [
      "reload(ensemble)"
     ],
     "language": "python",
     "metadata": {},
     "outputs": [
      {
       "output_type": "pyout",
       "prompt_number": 8,
       "text": [
        "<module 'ensemble' from 'ensemble.pyc'>"
       ]
      }
     ],
     "prompt_number": 8
    },
    {
     "cell_type": "code",
     "collapsed": false,
     "input": [
      "!rm -fR tmp/bigfat\n",
      "ensemble.new_ensemble('bigfat', 'tmp/')\n",
      "!ls tmp/bigfat"
     ],
     "language": "python",
     "metadata": {},
     "outputs": [
      {
       "output_type": "stream",
       "stream": "stdout",
       "text": [
        "\u001b[1m\u001b[34mdata\u001b[m\u001b[m        data.json   \u001b[1m\u001b[34mmodels\u001b[m\u001b[m      models.json\r\n"
       ]
      }
     ],
     "prompt_number": 9
    },
    {
     "cell_type": "code",
     "collapsed": false,
     "input": [
      "## test write new data\n",
      "import numpy as np\n",
      "ensemble.write_data('tmp/bigfat/', 'X', np.array([1, 2, 3]), {'decription': 'simple array'})\n",
      "!cat tmp/bigfat/data.json\n"
     ],
     "language": "python",
     "metadata": {},
     "outputs": [
      {
       "output_type": "stream",
       "stream": "stdout",
       "text": [
        "{\"X\": {\"decription\": \"simple array\", \"file\": \"/Users/lima/workspace/tutorials/ml-tutorials/tmp/bigfat/data/X.pkl\", \"stored_files\": [\"/Users/lima/workspace/tutorials/ml-tutorials/tmp/bigfat/data/X.pkl\", \"/Users/lima/workspace/tutorials/ml-tutorials/tmp/bigfat/data/X.pkl_01.npy\"]}}"
       ]
      }
     ],
     "prompt_number": 10
    },
    {
     "cell_type": "code",
     "collapsed": false,
     "input": [
      "## test load data\n",
      "print ensemble.load_data('tmp/bigfat/', 'X')"
     ],
     "language": "python",
     "metadata": {},
     "outputs": [
      {
       "output_type": "stream",
       "stream": "stdout",
       "text": [
        "({u'decription': u'simple array', u'file': u'/Users/lima/workspace/tutorials/ml-tutorials/tmp/bigfat/data/X.pkl', u'stored_files': [u'/Users/lima/workspace/tutorials/ml-tutorials/tmp/bigfat/data/X.pkl', u'/Users/lima/workspace/tutorials/ml-tutorials/tmp/bigfat/data/X.pkl_01.npy']}, array([1, 2, 3]))"
       ]
      },
      {
       "output_type": "stream",
       "stream": "stdout",
       "text": [
        "\n"
       ]
      }
     ],
     "prompt_number": 11
    },
    {
     "cell_type": "code",
     "collapsed": false,
     "input": [
      "## test remove data\n",
      "!ls tmp/bigfat/data\n",
      "ensemble.remove_data('tmp/bigfat/', 'X')"
     ],
     "language": "python",
     "metadata": {},
     "outputs": [
      {
       "output_type": "stream",
       "stream": "stdout",
       "text": [
        "X.pkl        X.pkl_01.npy\r\n"
       ]
      }
     ],
     "prompt_number": 12
    },
    {
     "cell_type": "code",
     "collapsed": false,
     "input": [
      "!ls tmp/bigfat/data"
     ],
     "language": "python",
     "metadata": {},
     "outputs": [],
     "prompt_number": 13
    },
    {
     "cell_type": "code",
     "collapsed": false,
     "input": [
      "!cat tmp/bigfat/data.json"
     ],
     "language": "python",
     "metadata": {},
     "outputs": [
      {
       "output_type": "stream",
       "stream": "stdout",
       "text": [
        "{}"
       ]
      }
     ],
     "prompt_number": 14
    },
    {
     "cell_type": "markdown",
     "metadata": {},
     "source": [
      "**Test Model manipulation** "
     ]
    },
    {
     "cell_type": "code",
     "collapsed": false,
     "input": [
      "reload(ensemble)"
     ],
     "language": "python",
     "metadata": {},
     "outputs": [
      {
       "output_type": "pyout",
       "prompt_number": 15,
       "text": [
        "<module 'ensemble' from 'ensemble.pyc'>"
       ]
      }
     ],
     "prompt_number": 15
    },
    {
     "cell_type": "code",
     "collapsed": false,
     "input": [
      "!rm -fR tmp/bigfat/\n",
      "ensemble.new_ensemble('bigfat', 'tmp')"
     ],
     "language": "python",
     "metadata": {},
     "outputs": [],
     "prompt_number": 16
    },
    {
     "cell_type": "code",
     "collapsed": false,
     "input": [
      "## test write model\n",
      "from sklearn.svm import LinearSVC\n",
      "svc = LinearSVC()\n",
      "ensemble.write_model('tmp/bigfat/', 'svc', svc, {'train_data': None, \n",
      "                                                'validation_data': None, \n",
      "                                                'test_data': None})"
     ],
     "language": "python",
     "metadata": {},
     "outputs": [],
     "prompt_number": 17
    },
    {
     "cell_type": "code",
     "collapsed": false,
     "input": [
      "!ls tmp/bigfat/models"
     ],
     "language": "python",
     "metadata": {},
     "outputs": [
      {
       "output_type": "stream",
       "stream": "stdout",
       "text": [
        "svc.pkl\r\n"
       ]
      }
     ],
     "prompt_number": 18
    },
    {
     "cell_type": "code",
     "collapsed": false,
     "input": [
      "!cat tmp/bigfat/models.json"
     ],
     "language": "python",
     "metadata": {},
     "outputs": [
      {
       "output_type": "stream",
       "stream": "stdout",
       "text": [
        "{\"svc\": {\"stored_files\": [\"/Users/lima/workspace/tutorials/ml-tutorials/tmp/bigfat/models/svc.pkl\"], \"test_data\": null, \"validation_data\": null, \"file\": \"/Users/lima/workspace/tutorials/ml-tutorials/tmp/bigfat/models/svc.pkl\", \"train_data\": null}}"
       ]
      }
     ],
     "prompt_number": 19
    },
    {
     "cell_type": "code",
     "collapsed": false,
     "input": [
      "## TEST load model\n",
      "print ensemble.load_model('tmp/bigfat/', 'svc')"
     ],
     "language": "python",
     "metadata": {},
     "outputs": [
      {
       "output_type": "stream",
       "stream": "stdout",
       "text": [
        "({u'stored_files': [u'/Users/lima/workspace/tutorials/ml-tutorials/tmp/bigfat/models/svc.pkl'], u'test_data': None, u'validation_data': None, u'file': u'/Users/lima/workspace/tutorials/ml-tutorials/tmp/bigfat/models/svc.pkl', u'train_data': None}, LinearSVC(C=1.0, class_weight=None, dual=True, fit_intercept=True,\n",
        "     intercept_scaling=1, loss='l2', multi_class='ovr', penalty='l2',\n",
        "     random_state=None, tol=0.0001, verbose=0))"
       ]
      },
      {
       "output_type": "stream",
       "stream": "stdout",
       "text": [
        "\n"
       ]
      }
     ],
     "prompt_number": 20
    },
    {
     "cell_type": "code",
     "collapsed": false,
     "input": [
      "## test update model record\n",
      "from sklearn.datasets import load_iris\n",
      "from sklearn.cross_validation import train_test_split\n",
      "iris = load_iris()\n",
      "X, y = iris.data, iris.target\n",
      "train_X, validation_X, train_y, validation_y = train_test_split(X, y, test_size = 0.3)\n",
      "ensemble.write_data('tmp/bigfat/', 'iris_train', (train_X, train_y), {'description':'iris train data'})\n",
      "ensemble.write_data('tmp/bigfat/', 'iris_validation', (validation_X, validation_y), {'description':'iris validation data'})\n",
      "\n",
      "print ensemble.load_model('tmp/bigfat/', 'svc')\n",
      "ensemble.update_model_record('tmp/bigfat/', 'svc', {'train_data': 'iris_train', 'validation_data': 'iris_validation'})\n",
      "print ensemble.load_model('tmp/bigfat/', 'svc')"
     ],
     "language": "python",
     "metadata": {},
     "outputs": [
      {
       "output_type": "stream",
       "stream": "stdout",
       "text": [
        "({u'stored_files': [u'/Users/lima/workspace/tutorials/ml-tutorials/tmp/bigfat/models/svc.pkl'], u'test_data': None, u'validation_data': None, u'file': u'/Users/lima/workspace/tutorials/ml-tutorials/tmp/bigfat/models/svc.pkl', u'train_data': None}, LinearSVC(C=1.0, class_weight=None, dual=True, fit_intercept=True,\n",
        "     intercept_scaling=1, loss='l2', multi_class='ovr', penalty='l2',\n",
        "     random_state=None, tol=0.0001, verbose=0))\n",
        "({u'stored_files': [u'/Users/lima/workspace/tutorials/ml-tutorials/tmp/bigfat/models/svc.pkl'], u'test_data': None, u'validation_data': u'iris_validation', u'file': u'/Users/lima/workspace/tutorials/ml-tutorials/tmp/bigfat/models/svc.pkl', u'train_data': u'iris_train'}, LinearSVC(C=1.0, class_weight=None, dual=True, fit_intercept=True,\n",
        "     intercept_scaling=1, loss='l2', multi_class='ovr', penalty='l2',\n",
        "     random_state=None, tol=0.0001, verbose=0))\n"
       ]
      }
     ],
     "prompt_number": 21
    },
    {
     "cell_type": "code",
     "collapsed": false,
     "input": [
      "## TEST train model\n",
      "from sklearn.metrics import classification_report\n",
      "_, model_before = ensemble.load_model('tmp/bigfat/', 'svc')\n",
      "ensemble.train_model('tmp/bigfat/', 'svc', 'train_data')\n",
      "_, model_after = ensemble.load_model('tmp/bigfat/', 'svc')\n",
      "try:\n",
      "    model_before.predict(X)\n",
      "    raise RuntimeError('exceptions not caught')\n",
      "except AttributeError as e:\n",
      "    pass\n",
      "\n",
      "classification_report(y, model_after.predict(X))"
     ],
     "language": "python",
     "metadata": {},
     "outputs": [
      {
       "output_type": "pyout",
       "prompt_number": 22,
       "text": [
        "'             precision    recall  f1-score   support\\n\\n          0       1.00      1.00      1.00        50\\n          1       0.96      0.94      0.95        50\\n          2       0.94      0.96      0.95        50\\n\\navg / total       0.97      0.97      0.97       150\\n'"
       ]
      }
     ],
     "prompt_number": 22
    },
    {
     "cell_type": "code",
     "collapsed": false,
     "input": [
      "model_name, (target, prediction) = ensemble.predict_model('tmp/bigfat/', 'svc', \n",
      "                    'validation_data', probabilistic=False)\n",
      "print target.shape\n",
      "print prediction.shape\n",
      "\n",
      "classification_report(target, prediction)"
     ],
     "language": "python",
     "metadata": {},
     "outputs": [
      {
       "output_type": "stream",
       "stream": "stdout",
       "text": [
        "(45,)\n",
        "(45,)\n"
       ]
      },
      {
       "output_type": "pyout",
       "prompt_number": 23,
       "text": [
        "'             precision    recall  f1-score   support\\n\\n          0       1.00      1.00      1.00        16\\n          1       0.92      0.92      0.92        13\\n          2       0.94      0.94      0.94        16\\n\\navg / total       0.96      0.96      0.96        45\\n'"
       ]
      }
     ],
     "prompt_number": 23
    },
    {
     "cell_type": "code",
     "collapsed": false,
     "input": [
      "## test remove model\n",
      "ensemble.remove_model('tmp/bigfat/', 'svc')\n",
      "!ls tmp/bigfat/models/"
     ],
     "language": "python",
     "metadata": {},
     "outputs": [
      {
       "output_type": "stream",
       "stream": "stdout",
       "text": [
        "remove  svc from  /Users/lima/workspace/tutorials/ml-tutorials/tmp/bigfat/models.json\n"
       ]
      }
     ],
     "prompt_number": 24
    },
    {
     "cell_type": "code",
     "collapsed": false,
     "input": [
      "!cat tmp/bigfat/models.json"
     ],
     "language": "python",
     "metadata": {},
     "outputs": [
      {
       "output_type": "stream",
       "stream": "stdout",
       "text": [
        "{}"
       ]
      }
     ],
     "prompt_number": 25
    },
    {
     "cell_type": "markdown",
     "metadata": {},
     "source": [
      "**test parallel**"
     ]
    },
    {
     "cell_type": "code",
     "collapsed": false,
     "input": [
      "reload(ensemble)"
     ],
     "language": "python",
     "metadata": {},
     "outputs": [
      {
       "output_type": "pyout",
       "prompt_number": 38,
       "text": [
        "<module 'ensemble' from 'ensemble.pyc'>"
       ]
      }
     ],
     "prompt_number": 38
    },
    {
     "cell_type": "code",
     "collapsed": false,
     "input": [
      "N = 1000000\n",
      "chunks = 400\n",
      "\n",
      "def get_primes(rng):\n",
      "    def is_prime(n):\n",
      "        import math\n",
      "        for i in xrange(2, int(math.sqrt(n)) + 1):\n",
      "            if n % i == 0:\n",
      "                return False\n",
      "        return True\n",
      "    return [i for i in rng if is_prime(i)]\n",
      "\n",
      "rngs = [{'rng': rng} for rng in np.array_split(range(2, N), chunks)]\n",
      "tasks = zip([get_primes] * len(rngs), rngs)"
     ],
     "language": "python",
     "metadata": {},
     "outputs": [],
     "prompt_number": 28
    },
    {
     "cell_type": "code",
     "collapsed": false,
     "input": [
      "import numpy as np\n",
      "import time \n",
      "results = []\n",
      "tic = time.time()\n",
      "for rng in rngs:\n",
      "    results.append(get_primes(**rng))\n",
      "print time.time()-tic, 'seconds'\n",
      "print len(list(flatten(results)))"
     ],
     "language": "python",
     "metadata": {},
     "outputs": [
      {
       "output_type": "stream",
       "stream": "stdout",
       "text": [
        "130.505992889 seconds\n",
        "78498"
       ]
      },
      {
       "output_type": "stream",
       "stream": "stdout",
       "text": [
        "\n"
       ]
      }
     ],
     "prompt_number": 29
    },
    {
     "cell_type": "code",
     "collapsed": false,
     "input": [
      "tic = time.time()\n",
      "n = 0\n",
      "n += len(get_primes(range(2, N/4)))\n",
      "n += len(get_primes(range(N/4, N*2/4)))\n",
      "n += len(get_primes(range(N*2/4, N*3/4)))\n",
      "n += len(get_primes(range(N*3/4, N)))\n",
      "print time.time() - tic, 'seconds'\n",
      "print n"
     ],
     "language": "python",
     "metadata": {},
     "outputs": [
      {
       "output_type": "stream",
       "stream": "stdout",
       "text": [
        "7.98505091667 seconds\n",
        "78498\n"
       ]
      }
     ],
     "prompt_number": 30
    },
    {
     "cell_type": "code",
     "collapsed": false,
     "input": [
      "%time print len(get_primes(range(2, N)))"
     ],
     "language": "python",
     "metadata": {},
     "outputs": [
      {
       "output_type": "stream",
       "stream": "stdout",
       "text": [
        "78498\n",
        "CPU times: user 7.89 s, sys: 0.43 s, total: 8.32 s\n",
        "Wall time: 8.00 s\n"
       ]
      }
     ],
     "prompt_number": 31
    },
    {
     "cell_type": "code",
     "collapsed": false,
     "input": [
      "from IPython import parallel\n",
      "client = parallel.Client()\n",
      "%time y = ensemble._parallel(tasks, client)\n",
      "import numpy as np\n",
      "len(list(flatten(y)))"
     ],
     "language": "python",
     "metadata": {},
     "outputs": [
      {
       "output_type": "stream",
       "stream": "stdout",
       "text": [
        "CPU times: user 2.83 s, sys: 0.34 s, total: 3.18 s\n",
        "Wall time: 40.93 s\n"
       ]
      },
      {
       "output_type": "pyout",
       "prompt_number": 32,
       "text": [
        "78498"
       ]
      }
     ],
     "prompt_number": 32
    },
    {
     "cell_type": "code",
     "collapsed": false,
     "input": [
      "dv = client[:]\n",
      "dv.block = True\n",
      "dv.scatter('rng', range(2, N))"
     ],
     "language": "python",
     "metadata": {},
     "outputs": [],
     "prompt_number": 33
    },
    {
     "cell_type": "code",
     "collapsed": false,
     "input": [
      "%time y = ensemble._parallel([(get_primes, {'rng': parallel.Reference('rng')}) for _ in range(len(dv))], client)\n",
      "import numpy as np\n",
      "len(list(flatten(y)))"
     ],
     "language": "python",
     "metadata": {},
     "outputs": [
      {
       "output_type": "stream",
       "stream": "stdout",
       "text": [
        "CPU times: user 0.84 s, sys: 0.06 s, total: 0.90 s\n",
        "Wall time: 3.57 s\n"
       ]
      },
      {
       "output_type": "pyout",
       "prompt_number": 34,
       "text": [
        "78498"
       ]
      }
     ],
     "prompt_number": 34
    },
    {
     "cell_type": "markdown",
     "metadata": {},
     "source": [
      "**The culprit of SLOW PARALLEL COMPUTING turns out to be LARGE data transformation, so do best to load_data before running them**"
     ]
    },
    {
     "cell_type": "markdown",
     "metadata": {},
     "source": [
      "**Test parallel model training and prediction**"
     ]
    },
    {
     "cell_type": "code",
     "collapsed": false,
     "input": [
      "reload(ensemble)\n",
      "ensemble_path = 'tmp/bigfat/'\n",
      "from IPython import parallel\n",
      "client = parallel.Client()"
     ],
     "language": "python",
     "metadata": {},
     "outputs": [],
     "prompt_number": 32
    },
    {
     "cell_type": "code",
     "collapsed": false,
     "input": [
      "## create models\n",
      "from sklearn import svm\n",
      "from sklearn import linear_model\n",
      "models = {\n",
      "    'linear_svc' : svm.LinearSVC()\n",
      "    , 'svc' : svm.SVC()\n",
      "    , 'sgd' : linear_model.SGDClassifier()\n",
      "    , 'lasso' : linear_model.Lasso()\n",
      "    , 'pac' : linear_model.PassiveAggressiveClassifier()\n",
      "}\n",
      "for model_name, model in models.items():\n",
      "    ensemble.write_model(ensemble_path, model_name, \n",
      "                            model, {'train_data': 'iris_train', \n",
      "                                    'validation_data': 'iris_validation'})"
     ],
     "language": "python",
     "metadata": {},
     "outputs": [],
     "prompt_number": 33
    },
    {
     "cell_type": "code",
     "collapsed": false,
     "input": [
      "## TEST parallel prediction\n",
      "try:\n",
      "    results = ensemble.parallel_predict_model(ensemble_path, \n",
      "        zip(models.keys(), ['validation_data'] * len(models), [False]*len(models)),\n",
      "        client)\n",
      "    raise RuntimeError('untrained models should NOT be able to predict')\n",
      "except parallel.RemoteError as ex:\n",
      "    if ex.ename == 'AttributeError':\n",
      "        pass\n",
      "    else:\n",
      "        raise ex"
     ],
     "language": "python",
     "metadata": {},
     "outputs": [],
     "prompt_number": 34
    },
    {
     "cell_type": "code",
     "collapsed": false,
     "input": [
      "#ensemble._read_json_record(ensemble._get_path(ensemble_path, 'models_json'))"
     ],
     "language": "python",
     "metadata": {},
     "outputs": [],
     "prompt_number": 35
    },
    {
     "cell_type": "code",
     "collapsed": false,
     "input": [
      "## TEST parallel training\n",
      "\n",
      "ensemble.paralle_train_models(ensemble_path, \n",
      "        zip(models.keys(), ['train_data'] * len(models)), client)"
     ],
     "language": "python",
     "metadata": {},
     "outputs": [],
     "prompt_number": 36
    },
    {
     "cell_type": "code",
     "collapsed": false,
     "input": [
      "## TEST parallel prediction\n",
      "results = ensemble.parallel_predict_model(ensemble_path, \n",
      "        zip(models.keys(), ['validation_data'] * len(models), [False]*len(models)),\n",
      "        client)"
     ],
     "language": "python",
     "metadata": {},
     "outputs": [],
     "prompt_number": 37
    },
    {
     "cell_type": "code",
     "collapsed": false,
     "input": [
      "from pprint import pprint\n",
      "pprint(results)"
     ],
     "language": "python",
     "metadata": {},
     "outputs": [
      {
       "output_type": "stream",
       "stream": "stdout",
       "text": [
        "[['pac',\n",
        "  (array([2, 2, 1, 1, 0, 1, 2, 1, 1, 0, 1, 2, 2, 0, 1, 1, 0, 2, 2, 2, 0, 2, 0,\n",
        "       0, 2, 2, 0, 0, 1, 2, 2, 0, 2, 0, 2, 1, 0, 0, 0, 2, 0, 1, 1, 1, 0]),\n",
        "   array([1, 1, 1, 1, 0, 1, 1, 1, 1, 0, 1, 2, 1, 0, 1, 1, 0, 1, 1, 1, 0, 1, 0,\n",
        "       0, 1, 2, 0, 0, 1, 1, 1, 0, 1, 0, 1, 1, 0, 0, 0, 1, 0, 1, 1, 1, 0]))],\n",
        " ['lasso',\n",
        "  (array([2, 2, 1, 1, 0, 1, 2, 1, 1, 0, 1, 2, 2, 0, 1, 1, 0, 2, 2, 2, 0, 2, 0,\n",
        "       0, 2, 2, 0, 0, 1, 2, 2, 0, 2, 0, 2, 1, 0, 0, 0, 2, 0, 1, 1, 1, 0]),\n",
        "   array([ 1.15598952,  1.12318799,  1.12318799,  1.07945261,  0.74050341,\n",
        "        1.03571723,  1.1997249 ,  1.07945261,  0.97011416,  0.75143725,\n",
        "        1.02478338,  1.24346028,  1.23252644,  0.7623711 ,  1.06851876,\n",
        "        1.1013203 ,  0.7623711 ,  1.12318799,  1.14505568,  1.18879106,\n",
        "        0.75143725,  1.3199972 ,  0.75143725,  0.75143725,  1.14505568,\n",
        "        1.21065875,  0.74050341,  0.74050341,  1.02478338,  1.22159259,\n",
        "        1.17785721,  0.75143725,  1.18879106,  0.79517264,  1.15598952,\n",
        "        0.91544493,  0.74050341,  0.77330495,  0.7623711 ,  1.21065875,\n",
        "        0.72956956,  1.04665107,  1.09038645,  1.11225414,  0.74050341]))],\n",
        " ['svc',\n",
        "  (array([2, 2, 1, 1, 0, 1, 2, 1, 1, 0, 1, 2, 2, 0, 1, 1, 0, 2, 2, 2, 0, 2, 0,\n",
        "       0, 2, 2, 0, 0, 1, 2, 2, 0, 2, 0, 2, 1, 0, 0, 0, 2, 0, 1, 1, 1, 0]),\n",
        "   array([2, 2, 1, 1, 0, 1, 2, 1, 1, 0, 1, 2, 2, 0, 1, 1, 0, 2, 2, 2, 0, 2, 0,\n",
        "       0, 2, 2, 0, 0, 1, 2, 2, 0, 2, 0, 2, 1, 0, 0, 0, 2, 0, 1, 1, 1, 0]))],\n",
        " ['linear_svc',\n",
        "  (array([2, 2, 1, 1, 0, 1, 2, 1, 1, 0, 1, 2, 2, 0, 1, 1, 0, 2, 2, 2, 0, 2, 0,\n",
        "       0, 2, 2, 0, 0, 1, 2, 2, 0, 2, 0, 2, 1, 0, 0, 0, 2, 0, 1, 1, 1, 0]),\n",
        "   array([2, 2, 1, 1, 0, 1, 2, 2, 1, 0, 1, 2, 2, 0, 1, 1, 0, 2, 2, 2, 0, 2, 0,\n",
        "       0, 2, 2, 0, 0, 1, 1, 2, 0, 2, 0, 2, 1, 0, 0, 0, 2, 0, 1, 1, 1, 0]))],\n",
        " ['sgd',\n",
        "  (array([2, 2, 1, 1, 0, 1, 2, 1, 1, 0, 1, 2, 2, 0, 1, 1, 0, 2, 2, 2, 0, 2, 0,\n",
        "       0, 2, 2, 0, 0, 1, 2, 2, 0, 2, 0, 2, 1, 0, 0, 0, 2, 0, 1, 1, 1, 0]),\n",
        "   array([2, 2, 2, 2, 0, 1, 2, 2, 1, 0, 2, 2, 2, 0, 1, 2, 0, 2, 2, 2, 0, 2, 0,\n",
        "       0, 2, 2, 0, 0, 0, 2, 2, 0, 2, 0, 2, 0, 0, 0, 0, 2, 0, 2, 2, 1, 0]))]]\n"
       ]
      }
     ],
     "prompt_number": 38
    },
    {
     "cell_type": "markdown",
     "metadata": {},
     "source": [
      "**TEST GreedyEnsemble Class**"
     ]
    },
    {
     "cell_type": "code",
     "collapsed": false,
     "input": [],
     "language": "python",
     "metadata": {},
     "outputs": []
    }
   ],
   "metadata": {}
  }
 ]
}