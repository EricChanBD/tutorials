{
 "metadata": {
  "name": "PRACTICE_greedy_ensemble_r1"
 },
 "nbformat": 3,
 "nbformat_minor": 0,
 "worksheets": [
  {
   "cells": [
    {
     "cell_type": "code",
     "collapsed": false,
     "input": [
      "!ls "
     ],
     "language": "python",
     "metadata": {},
     "outputs": [
      {
       "output_type": "stream",
       "stream": "stdout",
       "text": [
        "BASIC_sklearn_fact_book.ipynb  PRACTICE_feature_and_ensemble.ipynb\r\n",
        "data\t\t\t       PRACTICE_greedy_ensemble.ipynb\r\n",
        "ensemble.py\t\t       PRACTICE_greedy_ensemble_r1.ipynb\r\n",
        "ensemble.pyc\t\t       README.md\r\n",
        "FEATURE_by_clustering.ipynb    REGULARIZATION_sklearn_comparison.ipynb\r\n",
        "FEATURE_images.ipynb\t       tmp\r\n",
        "pca_vs_ica.png\r\n"
       ]
      }
     ],
     "prompt_number": 46
    },
    {
     "cell_type": "code",
     "collapsed": false,
     "input": [
      "import ensemble\n",
      "reload(ensemble)"
     ],
     "language": "python",
     "metadata": {},
     "outputs": [
      {
       "output_type": "pyout",
       "prompt_number": 60,
       "text": [
        "<module 'ensemble' from 'ensemble.py'>"
       ]
      }
     ],
     "prompt_number": 60
    },
    {
     "cell_type": "markdown",
     "metadata": {},
     "source": [
      "***Testing Helper Function***"
     ]
    },
    {
     "cell_type": "code",
     "collapsed": false,
     "input": [
      "reload(ensemble)"
     ],
     "language": "python",
     "metadata": {},
     "outputs": []
    },
    {
     "cell_type": "code",
     "collapsed": false,
     "input": [
      "## TEST create json files\n",
      "ensemble._new_json_file('tmp/tmp_data.json')\n",
      "!cat tmp/tmp_data.json"
     ],
     "language": "python",
     "metadata": {},
     "outputs": [
      {
       "output_type": "stream",
       "stream": "stdout",
       "text": [
        "{}"
       ]
      }
     ],
     "prompt_number": 55
    },
    {
     "cell_type": "code",
     "collapsed": false,
     "input": [
      "## TEST write/read json records\n",
      "ensemble._write_json_record('tmp/tmp_data.json', {'data1': {'name': 'gooddata'}}, False)\n",
      "print ensemble._read_json_record('tmp/tmp_data.json')\n",
      "#ensemble.write_json_record('tmp/tmp_data.json', {'data1': {'name': 'gooddata'}}, False)\n",
      "ensemble._write_json_record('tmp/tmp_data.json', {'data1': {'name': 'betterata'}}, True)\n",
      "print ensemble._read_json_record('tmp/tmp_data.json')"
     ],
     "language": "python",
     "metadata": {},
     "outputs": [
      {
       "output_type": "stream",
       "stream": "stdout",
       "text": [
        "{u'data1': {u'name': u'gooddata'}}\n",
        "{u'data1': {u'name': u'betterata'}}\n"
       ]
      }
     ],
     "prompt_number": 56
    },
    {
     "cell_type": "code",
     "collapsed": false,
     "input": [
      "print ensemble._get_path('tmp/tmp_data.json', 'data_json')\n",
      "print ensemble._get_path('tmp/tmp_data.json', 'data_folder')\n",
      "print ensemble._get_path('tmp/tmp_data.json', 'models_json')\n",
      "print ensemble._get_path('tmp/tmp_data.json', 'models_folder')"
     ],
     "language": "python",
     "metadata": {},
     "outputs": [
      {
       "output_type": "stream",
       "stream": "stdout",
       "text": [
        "/home/dola/workspace/tutorials/ml-tutorials/tmp/tmp_data.json/data.json\n",
        "/home/dola/workspace/tutorials/ml-tutorials/tmp/tmp_data.json/data\n",
        "/home/dola/workspace/tutorials/ml-tutorials/tmp/tmp_data.json/models.json\n",
        "/home/dola/workspace/tutorials/ml-tutorials/tmp/tmp_data.json/models\n"
       ]
      }
     ],
     "prompt_number": 59
    },
    {
     "cell_type": "markdown",
     "metadata": {},
     "source": [
      "***Test ensemble house-keeping***"
     ]
    },
    {
     "cell_type": "code",
     "collapsed": false,
     "input": [
      "reload(ensemble)"
     ],
     "language": "python",
     "metadata": {},
     "outputs": [
      {
       "output_type": "pyout",
       "prompt_number": 77,
       "text": [
        "<module 'ensemble' from 'ensemble.py'>"
       ]
      }
     ],
     "prompt_number": 77
    },
    {
     "cell_type": "code",
     "collapsed": false,
     "input": [
      "ensemble.new_ensemble('bigfat', 'tmp/')\n",
      "!ls tmp/bigfat"
     ],
     "language": "python",
     "metadata": {},
     "outputs": [
      {
       "ename": "OSError",
       "evalue": "[Errno 17] File exists: '/home/dola/workspace/tutorials/ml-tutorials/tmp/bigfat'",
       "output_type": "pyerr",
       "traceback": [
        "\u001b[0;31m---------------------------------------------------------------------------\u001b[0m\n\u001b[0;31mOSError\u001b[0m                                   Traceback (most recent call last)",
        "\u001b[0;32m<ipython-input-68-b43dd47b4c3a>\u001b[0m in \u001b[0;36m<module>\u001b[0;34m()\u001b[0m\n\u001b[0;32m----> 1\u001b[0;31m \u001b[0mensemble\u001b[0m\u001b[0;34m.\u001b[0m\u001b[0mnew_ensemble\u001b[0m\u001b[0;34m(\u001b[0m\u001b[0;34m'bigfat'\u001b[0m\u001b[0;34m,\u001b[0m \u001b[0;34m'tmp/'\u001b[0m\u001b[0;34m)\u001b[0m\u001b[0;34m\u001b[0m\u001b[0m\n\u001b[0m\u001b[1;32m      2\u001b[0m \u001b[0mget_ipython\u001b[0m\u001b[0;34m(\u001b[0m\u001b[0;34m)\u001b[0m\u001b[0;34m.\u001b[0m\u001b[0msystem\u001b[0m\u001b[0;34m(\u001b[0m\u001b[0;34mu'ls tmp/bigfat'\u001b[0m\u001b[0;34m)\u001b[0m\u001b[0;34m\u001b[0m\u001b[0m\n",
        "\u001b[0;32m/home/dola/workspace/tutorials/ml-tutorials/ensemble.py\u001b[0m in \u001b[0;36mnew_ensemble\u001b[0;34m(ensemble_name, container_path)\u001b[0m\n\u001b[1;32m     20\u001b[0m         \u001b[0;31m## check existence - make folder\u001b[0m\u001b[0;34m\u001b[0m\u001b[0;34m\u001b[0m\u001b[0m\n\u001b[1;32m     21\u001b[0m         \u001b[0mensemble_path\u001b[0m \u001b[0;34m=\u001b[0m \u001b[0mpath\u001b[0m\u001b[0;34m.\u001b[0m\u001b[0mabspath\u001b[0m\u001b[0;34m(\u001b[0m\u001b[0mpath\u001b[0m\u001b[0;34m.\u001b[0m\u001b[0mjoin\u001b[0m\u001b[0;34m(\u001b[0m\u001b[0mcontainer_path\u001b[0m\u001b[0;34m,\u001b[0m \u001b[0mensemble_name\u001b[0m\u001b[0;34m)\u001b[0m\u001b[0;34m)\u001b[0m\u001b[0;34m\u001b[0m\u001b[0m\n\u001b[0;32m---> 22\u001b[0;31m         \u001b[0mos\u001b[0m\u001b[0;34m.\u001b[0m\u001b[0mmkdir\u001b[0m\u001b[0;34m(\u001b[0m\u001b[0mensemble_path\u001b[0m\u001b[0;34m)\u001b[0m\u001b[0;34m\u001b[0m\u001b[0m\n\u001b[0m\u001b[1;32m     23\u001b[0m         \u001b[0mos\u001b[0m\u001b[0;34m.\u001b[0m\u001b[0mmkdir\u001b[0m\u001b[0;34m(\u001b[0m\u001b[0m_get_path\u001b[0m\u001b[0;34m(\u001b[0m\u001b[0mensemble_path\u001b[0m\u001b[0;34m,\u001b[0m \u001b[0;34m'data_folder'\u001b[0m\u001b[0;34m)\u001b[0m\u001b[0;34m)\u001b[0m\u001b[0;34m\u001b[0m\u001b[0m\n\u001b[1;32m     24\u001b[0m         \u001b[0mos\u001b[0m\u001b[0;34m.\u001b[0m\u001b[0mmkdir\u001b[0m\u001b[0;34m(\u001b[0m\u001b[0m_get_path\u001b[0m\u001b[0;34m(\u001b[0m\u001b[0mensemble_path\u001b[0m\u001b[0;34m,\u001b[0m \u001b[0;34m'models_folder'\u001b[0m\u001b[0;34m)\u001b[0m\u001b[0;34m)\u001b[0m\u001b[0;34m\u001b[0m\u001b[0m\n",
        "\u001b[0;31mOSError\u001b[0m: [Errno 17] File exists: '/home/dola/workspace/tutorials/ml-tutorials/tmp/bigfat'"
       ]
      }
     ],
     "prompt_number": 68
    },
    {
     "cell_type": "code",
     "collapsed": false,
     "input": [
      "import numpy as np\n",
      "ensemble.write_data('tmp/bigfat/', 'X', np.array([1, 2, 3]), {'decription': 'simple array'})\n",
      "!cat tmp/bigfat/data.json\n"
     ],
     "language": "python",
     "metadata": {},
     "outputs": [
      {
       "output_type": "stream",
       "stream": "stdout",
       "text": [
        "{\"decription\": \"simple array\", \"store_files\": [\"/home/dola/workspace/tutorials/ml-tutorials/tmp/bigfat/data/X.pkl\"], \"file\": \"/home/dola/workspace/tutorials/ml-tutorials/tmp/bigfat/data/X.pkl\"}"
       ]
      }
     ],
     "prompt_number": 78
    },
    {
     "cell_type": "code",
     "collapsed": false,
     "input": [
      "!ls tmp/bigfat/data"
     ],
     "language": "python",
     "metadata": {},
     "outputs": [
      {
       "output_type": "stream",
       "stream": "stdout",
       "text": [
        "X.pkl\r\n"
       ]
      }
     ],
     "prompt_number": 79
    },
    {
     "cell_type": "code",
     "collapsed": false,
     "input": [],
     "language": "python",
     "metadata": {},
     "outputs": []
    }
   ],
   "metadata": {}
  }
 ]
}