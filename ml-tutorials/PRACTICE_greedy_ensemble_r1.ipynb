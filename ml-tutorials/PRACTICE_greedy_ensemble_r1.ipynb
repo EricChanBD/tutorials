{
 "metadata": {
  "name": "PRACTICE_greedy_ensemble_r1"
 },
 "nbformat": 3,
 "nbformat_minor": 0,
 "worksheets": [
  {
   "cells": [
    {
     "cell_type": "code",
     "collapsed": false,
     "input": [
      "!ls "
     ],
     "language": "python",
     "metadata": {},
     "outputs": [
      {
       "output_type": "stream",
       "stream": "stdout",
       "text": [
        "BASIC_sklearn_fact_book.ipynb  PRACTICE_feature_and_ensemble.ipynb\r\n",
        "data\t\t\t       PRACTICE_greedy_ensemble.ipynb\r\n",
        "ensemble.py\t\t       PRACTICE_greedy_ensemble_r1.ipynb\r\n",
        "ensemble.pyc\t\t       README.md\r\n",
        "FEATURE_by_clustering.ipynb    REGULARIZATION_sklearn_comparison.ipynb\r\n",
        "FEATURE_images.ipynb\t       tmp\r\n",
        "pca_vs_ica.png\t\t       X.pkl\r\n"
       ]
      }
     ],
     "prompt_number": 1
    },
    {
     "cell_type": "code",
     "collapsed": false,
     "input": [
      "import ensemble\n",
      "reload(ensemble)"
     ],
     "language": "python",
     "metadata": {},
     "outputs": [
      {
       "output_type": "pyout",
       "prompt_number": 2,
       "text": [
        "<module 'ensemble' from 'ensemble.pyc'>"
       ]
      }
     ],
     "prompt_number": 2
    },
    {
     "cell_type": "markdown",
     "metadata": {},
     "source": [
      "***Testing Helper Function***"
     ]
    },
    {
     "cell_type": "code",
     "collapsed": false,
     "input": [
      "reload(ensemble)"
     ],
     "language": "python",
     "metadata": {},
     "outputs": [
      {
       "output_type": "pyout",
       "prompt_number": 3,
       "text": [
        "<module 'ensemble' from 'ensemble.pyc'>"
       ]
      }
     ],
     "prompt_number": 3
    },
    {
     "cell_type": "code",
     "collapsed": false,
     "input": [
      "## TEST create json files\n",
      "ensemble._new_json_file('tmp/tmp_data.json')\n",
      "!cat tmp/tmp_data.json"
     ],
     "language": "python",
     "metadata": {},
     "outputs": [
      {
       "output_type": "stream",
       "stream": "stdout",
       "text": [
        "{}"
       ]
      }
     ],
     "prompt_number": 4
    },
    {
     "cell_type": "code",
     "collapsed": false,
     "input": [
      "## TEST write/read json records\n",
      "ensemble._write_json_record('tmp/tmp_data.json', {'data1': {'name': 'gooddata'}}, False)\n",
      "print ensemble._read_json_record('tmp/tmp_data.json')\n",
      "#ensemble.write_json_record('tmp/tmp_data.json', {'data1': {'name': 'gooddata'}}, False)\n",
      "ensemble._write_json_record('tmp/tmp_data.json', {'data2': {'name': 'betterata'}}, False)\n",
      "print ensemble._read_json_record('tmp/tmp_data.json')"
     ],
     "language": "python",
     "metadata": {},
     "outputs": [
      {
       "output_type": "stream",
       "stream": "stdout",
       "text": [
        "{u'data1': {u'name': u'gooddata'}}\n",
        "{u'data1': {u'name': u'gooddata'}, u'data2': {u'name': u'betterata'}}\n"
       ]
      }
     ],
     "prompt_number": 5
    },
    {
     "cell_type": "code",
     "collapsed": false,
     "input": [
      "## TEST delete keys\n",
      "ensemble._remove_json_record('tmp/tmp_data.json', ['data1'])\n",
      "print ensemble._read_json_record('tmp/tmp_data.json')"
     ],
     "language": "python",
     "metadata": {},
     "outputs": [
      {
       "output_type": "stream",
       "stream": "stdout",
       "text": [
        "{u'data2': {u'name': u'betterata'}}\n"
       ]
      }
     ],
     "prompt_number": 6
    },
    {
     "cell_type": "code",
     "collapsed": false,
     "input": [
      "print ensemble._get_path('tmp/tmp_data.json', 'data_json')\n",
      "print ensemble._get_path('tmp/tmp_data.json', 'data_folder')\n",
      "print ensemble._get_path('tmp/tmp_data.json', 'models_json')\n",
      "print ensemble._get_path('tmp/tmp_data.json', 'models_folder')"
     ],
     "language": "python",
     "metadata": {},
     "outputs": [
      {
       "output_type": "stream",
       "stream": "stdout",
       "text": [
        "/home/ce/workspace/tutorials/ml-tutorials/tmp/tmp_data.json/data.json\n",
        "/home/ce/workspace/tutorials/ml-tutorials/tmp/tmp_data.json/data\n",
        "/home/ce/workspace/tutorials/ml-tutorials/tmp/tmp_data.json/models.json\n",
        "/home/ce/workspace/tutorials/ml-tutorials/tmp/tmp_data.json/models\n"
       ]
      }
     ],
     "prompt_number": 7
    },
    {
     "cell_type": "markdown",
     "metadata": {},
     "source": [
      "***Test ensemble data manipulation***"
     ]
    },
    {
     "cell_type": "code",
     "collapsed": false,
     "input": [
      "reload(ensemble)"
     ],
     "language": "python",
     "metadata": {},
     "outputs": [
      {
       "output_type": "pyout",
       "prompt_number": 8,
       "text": [
        "<module 'ensemble' from 'ensemble.pyc'>"
       ]
      }
     ],
     "prompt_number": 8
    },
    {
     "cell_type": "code",
     "collapsed": false,
     "input": [
      "!rm -fR tmp/bigfat\n",
      "ensemble.new_ensemble('bigfat', 'tmp/')\n",
      "!ls tmp/bigfat"
     ],
     "language": "python",
     "metadata": {},
     "outputs": [
      {
       "output_type": "stream",
       "stream": "stdout",
       "text": [
        "data  data.json  models  models.json\r\n"
       ]
      }
     ],
     "prompt_number": 9
    },
    {
     "cell_type": "code",
     "collapsed": false,
     "input": [
      "## test write new data\n",
      "import numpy as np\n",
      "ensemble.write_data('tmp/bigfat/', 'X', np.array([1, 2, 3]), {'decription': 'simple array'})\n",
      "!cat tmp/bigfat/data.json\n"
     ],
     "language": "python",
     "metadata": {},
     "outputs": [
      {
       "output_type": "stream",
       "stream": "stdout",
       "text": [
        "{\"X\": {\"decription\": \"simple array\", \"file\": \"/home/ce/workspace/tutorials/ml-tutorials/tmp/bigfat/data/X.pkl\", \"stored_files\": [\"/home/ce/workspace/tutorials/ml-tutorials/tmp/bigfat/data/X.pkl\", \"/home/ce/workspace/tutorials/ml-tutorials/tmp/bigfat/data/X.pkl_01.npy\"]}}"
       ]
      }
     ],
     "prompt_number": 10
    },
    {
     "cell_type": "code",
     "collapsed": false,
     "input": [
      "## test load data\n",
      "print ensemble.load_data('tmp/bigfat/', 'X')"
     ],
     "language": "python",
     "metadata": {},
     "outputs": [
      {
       "output_type": "stream",
       "stream": "stdout",
       "text": [
        "({u'decription': u'simple array', u'file': u'/home/ce/workspace/tutorials/ml-tutorials/tmp/bigfat/data/X.pkl', u'stored_files': [u'/home/ce/workspace/tutorials/ml-tutorials/tmp/bigfat/data/X.pkl', u'/home/ce/workspace/tutorials/ml-tutorials/tmp/bigfat/data/X.pkl_01.npy']}, array([1, 2, 3]))"
       ]
      },
      {
       "output_type": "stream",
       "stream": "stdout",
       "text": [
        "\n"
       ]
      }
     ],
     "prompt_number": 11
    },
    {
     "cell_type": "code",
     "collapsed": false,
     "input": [
      "## test remove data\n",
      "!ls tmp/bigfat/data\n",
      "ensemble.remove_data('tmp/bigfat/', 'X')"
     ],
     "language": "python",
     "metadata": {},
     "outputs": [
      {
       "output_type": "stream",
       "stream": "stdout",
       "text": [
        "X.pkl  X.pkl_01.npy\r\n"
       ]
      }
     ],
     "prompt_number": 12
    },
    {
     "cell_type": "code",
     "collapsed": false,
     "input": [
      "!ls tmp/bigfat/data"
     ],
     "language": "python",
     "metadata": {},
     "outputs": [],
     "prompt_number": 13
    },
    {
     "cell_type": "code",
     "collapsed": false,
     "input": [
      "!cat tmp/bigfat/data.json"
     ],
     "language": "python",
     "metadata": {},
     "outputs": [
      {
       "output_type": "stream",
       "stream": "stdout",
       "text": [
        "{}"
       ]
      }
     ],
     "prompt_number": 14
    },
    {
     "cell_type": "markdown",
     "metadata": {},
     "source": [
      "**Test Model manipulation** "
     ]
    },
    {
     "cell_type": "code",
     "collapsed": false,
     "input": [
      "reload(ensemble)"
     ],
     "language": "python",
     "metadata": {},
     "outputs": [
      {
       "output_type": "pyout",
       "prompt_number": 15,
       "text": [
        "<module 'ensemble' from 'ensemble.pyc'>"
       ]
      }
     ],
     "prompt_number": 15
    },
    {
     "cell_type": "code",
     "collapsed": false,
     "input": [
      "!rm -fR tmp/bigfat/\n",
      "ensemble.new_ensemble('bigfat', 'tmp')"
     ],
     "language": "python",
     "metadata": {},
     "outputs": [],
     "prompt_number": 16
    },
    {
     "cell_type": "code",
     "collapsed": false,
     "input": [
      "## test write model\n",
      "from sklearn.svm import LinearSVC\n",
      "svc = LinearSVC()\n",
      "ensemble.write_model('tmp/bigfat/', 'svc', svc, {'train_data': None, \n",
      "                                                'validation_data': None, \n",
      "                                                'test_data': None})"
     ],
     "language": "python",
     "metadata": {},
     "outputs": [],
     "prompt_number": 17
    },
    {
     "cell_type": "code",
     "collapsed": false,
     "input": [
      "!ls tmp/bigfat/models"
     ],
     "language": "python",
     "metadata": {},
     "outputs": [
      {
       "output_type": "stream",
       "stream": "stdout",
       "text": [
        "svc.pkl\r\n"
       ]
      }
     ],
     "prompt_number": 18
    },
    {
     "cell_type": "code",
     "collapsed": false,
     "input": [
      "!cat tmp/bigfat/models.json"
     ],
     "language": "python",
     "metadata": {},
     "outputs": [
      {
       "output_type": "stream",
       "stream": "stdout",
       "text": [
        "{\"svc\": {\"stored_files\": [\"/home/ce/workspace/tutorials/ml-tutorials/tmp/bigfat/models/svc.pkl\"], \"test_data\": null, \"validation_data\": null, \"file\": \"/home/ce/workspace/tutorials/ml-tutorials/tmp/bigfat/models/svc.pkl\", \"train_data\": null}}"
       ]
      }
     ],
     "prompt_number": 19
    },
    {
     "cell_type": "code",
     "collapsed": false,
     "input": [
      "## TEST load model\n",
      "print ensemble.load_model('tmp/bigfat/', 'svc')"
     ],
     "language": "python",
     "metadata": {},
     "outputs": [
      {
       "output_type": "stream",
       "stream": "stdout",
       "text": [
        "({u'stored_files': [u'/home/ce/workspace/tutorials/ml-tutorials/tmp/bigfat/models/svc.pkl'], u'test_data': None, u'validation_data': None, u'file': u'/home/ce/workspace/tutorials/ml-tutorials/tmp/bigfat/models/svc.pkl', u'train_data': None}, LinearSVC(C=1.0, class_weight=None, dual=True, fit_intercept=True,\n",
        "     intercept_scaling=1, loss='l2', multi_class='ovr', penalty='l2',\n",
        "     random_state=None, tol=0.0001, verbose=0))"
       ]
      },
      {
       "output_type": "stream",
       "stream": "stdout",
       "text": [
        "\n"
       ]
      }
     ],
     "prompt_number": 20
    },
    {
     "cell_type": "code",
     "collapsed": false,
     "input": [
      "## test update model record\n",
      "from sklearn.datasets import load_iris\n",
      "from sklearn.cross_validation import train_test_split\n",
      "iris = load_iris()\n",
      "X, y = iris.data, iris.target\n",
      "train_X, validation_X, train_y, validation_y = train_test_split(X, y, test_size = 0.3)\n",
      "ensemble.write_data('tmp/bigfat/', 'iris_train', (train_X, train_y), {'description':'iris train data'})\n",
      "ensemble.write_data('tmp/bigfat/', 'iris_validation', (validation_X, validation_y), {'description':'iris validation data'})\n",
      "\n",
      "print ensemble.load_model('tmp/bigfat/', 'svc')\n",
      "ensemble.update_model_record('tmp/bigfat/', 'svc', {'train_data': 'iris_train', 'validation_data': 'iris_validation'})\n",
      "print ensemble.load_model('tmp/bigfat/', 'svc')"
     ],
     "language": "python",
     "metadata": {},
     "outputs": [
      {
       "output_type": "stream",
       "stream": "stdout",
       "text": [
        "({u'stored_files': [u'/home/ce/workspace/tutorials/ml-tutorials/tmp/bigfat/models/svc.pkl'], u'test_data': None, u'validation_data': None, u'file': u'/home/ce/workspace/tutorials/ml-tutorials/tmp/bigfat/models/svc.pkl', u'train_data': None}, LinearSVC(C=1.0, class_weight=None, dual=True, fit_intercept=True,\n",
        "     intercept_scaling=1, loss='l2', multi_class='ovr', penalty='l2',\n",
        "     random_state=None, tol=0.0001, verbose=0))\n",
        "({u'stored_files': [u'/home/ce/workspace/tutorials/ml-tutorials/tmp/bigfat/models/svc.pkl'], u'test_data': None, u'validation_data': u'iris_validation', u'file': u'/home/ce/workspace/tutorials/ml-tutorials/tmp/bigfat/models/svc.pkl', u'train_data': u'iris_train'}, LinearSVC(C=1.0, class_weight=None, dual=True, fit_intercept=True,\n",
        "     intercept_scaling=1, loss='l2', multi_class='ovr', penalty='l2',\n",
        "     random_state=None, tol=0.0001, verbose=0))\n"
       ]
      }
     ],
     "prompt_number": 21
    },
    {
     "cell_type": "code",
     "collapsed": false,
     "input": [
      "## TEST train model\n",
      "from sklearn.metrics import classification_report\n",
      "_, model_before = ensemble.load_model('tmp/bigfat/', 'svc')\n",
      "ensemble.train_model('tmp/bigfat/', 'svc', 'train_data')\n",
      "_, model_after = ensemble.load_model('tmp/bigfat/', 'svc')\n",
      "try:\n",
      "    model_before.predict(X)\n",
      "    raise RuntimeError('exceptions not caught')\n",
      "except AttributeError as e:\n",
      "    pass\n",
      "\n",
      "classification_report(y, model_after.predict(X))"
     ],
     "language": "python",
     "metadata": {},
     "outputs": [
      {
       "output_type": "pyout",
       "prompt_number": 22,
       "text": [
        "'             precision    recall  f1-score   support\\n\\n          0       1.00      1.00      1.00        50\\n          1       0.94      0.96      0.95        50\\n          2       0.96      0.94      0.95        50\\n\\navg / total       0.97      0.97      0.97       150\\n'"
       ]
      }
     ],
     "prompt_number": 22
    },
    {
     "cell_type": "code",
     "collapsed": false,
     "input": [
      "model_name, (target, prediction) = ensemble.predict_model('tmp/bigfat/', 'svc', \n",
      "                    'validation_data', probabilistic=False)\n",
      "print target.shape\n",
      "print prediction.shape\n",
      "\n",
      "classification_report(target, prediction)"
     ],
     "language": "python",
     "metadata": {},
     "outputs": [
      {
       "output_type": "stream",
       "stream": "stdout",
       "text": [
        "(45,)\n",
        "(45,)\n"
       ]
      },
      {
       "output_type": "pyout",
       "prompt_number": 23,
       "text": [
        "'             precision    recall  f1-score   support\\n\\n          0       1.00      1.00      1.00        18\\n          1       0.86      0.92      0.89        13\\n          2       0.92      0.86      0.89        14\\n\\navg / total       0.93      0.93      0.93        45\\n'"
       ]
      }
     ],
     "prompt_number": 23
    },
    {
     "cell_type": "code",
     "collapsed": false,
     "input": [
      "## test remove model\n",
      "ensemble.remove_model('tmp/bigfat/', 'svc')\n",
      "!ls tmp/bigfat/models/"
     ],
     "language": "python",
     "metadata": {},
     "outputs": [
      {
       "output_type": "stream",
       "stream": "stdout",
       "text": [
        "remove  svc from  /home/ce/workspace/tutorials/ml-tutorials/tmp/bigfat/models.json\n"
       ]
      }
     ],
     "prompt_number": 24
    },
    {
     "cell_type": "code",
     "collapsed": false,
     "input": [
      "!cat tmp/bigfat/models.json"
     ],
     "language": "python",
     "metadata": {},
     "outputs": [
      {
       "output_type": "stream",
       "stream": "stdout",
       "text": [
        "{}"
       ]
      }
     ],
     "prompt_number": 25
    },
    {
     "cell_type": "markdown",
     "metadata": {},
     "source": [
      "**test parallel**"
     ]
    },
    {
     "cell_type": "markdown",
     "metadata": {},
     "source": [
      "reload(ensemble)"
     ]
    },
    {
     "cell_type": "markdown",
     "metadata": {},
     "source": [
      "N = 1000000\n",
      "chunks = 400\n",
      "\n",
      "def get_primes(rng):\n",
      "    def is_prime(n):\n",
      "        import math\n",
      "        for i in xrange(2, int(math.sqrt(n)) + 1):\n",
      "            if n % i == 0:\n",
      "                return False\n",
      "        return True\n",
      "    return [i for i in rng if is_prime(i)]\n",
      "\n",
      "rngs = [{'rng': rng} for rng in np.array_split(range(2, N), chunks)]\n",
      "tasks = zip([get_primes] * len(rngs), rngs)"
     ]
    },
    {
     "cell_type": "markdown",
     "metadata": {},
     "source": [
      "import numpy as np\n",
      "import time \n",
      "results = []\n",
      "tic = time.time()\n",
      "for rng in rngs:\n",
      "    results.append(get_primes(**rng))\n",
      "print time.time()-tic, 'seconds'\n",
      "print len(list(flatten(results)))"
     ]
    },
    {
     "cell_type": "markdown",
     "metadata": {},
     "source": [
      "tic = time.time()\n",
      "n = 0\n",
      "n += len(get_primes(range(2, N/4)))\n",
      "n += len(get_primes(range(N/4, N*2/4)))\n",
      "n += len(get_primes(range(N*2/4, N*3/4)))\n",
      "n += len(get_primes(range(N*3/4, N)))\n",
      "print time.time() - tic, 'seconds'\n",
      "print n"
     ]
    },
    {
     "cell_type": "markdown",
     "metadata": {},
     "source": [
      "%time print len(get_primes(range(2, N)))"
     ]
    },
    {
     "cell_type": "markdown",
     "metadata": {},
     "source": [
      "from IPython import parallel\n",
      "client = parallel.Client()\n",
      "%time y = ensemble._parallel(tasks, client)\n",
      "import numpy as np\n",
      "len(list(flatten(y)))"
     ]
    },
    {
     "cell_type": "markdown",
     "metadata": {},
     "source": [
      "dv = client[:]\n",
      "dv.block = True\n",
      "dv.scatter('rng', range(2, N))"
     ]
    },
    {
     "cell_type": "markdown",
     "metadata": {},
     "source": [
      "%time y = ensemble._parallel([(get_primes, {'rng': parallel.Reference('rng')}) for _ in range(len(dv))], client)\n",
      "import numpy as np\n",
      "len(list(flatten(y)))"
     ]
    },
    {
     "cell_type": "markdown",
     "metadata": {},
     "source": [
      "**The culprit of SLOW PARALLEL COMPUTING turns out to be LARGE data transformation, so do best to load_data before running them**"
     ]
    },
    {
     "cell_type": "markdown",
     "metadata": {},
     "source": [
      "**Test parallel model training and prediction**"
     ]
    },
    {
     "cell_type": "code",
     "collapsed": false,
     "input": [
      "reload(ensemble)\n",
      "ensemble_path = 'tmp/bigfat/'\n",
      "from IPython import parallel\n",
      "client = parallel.Client()"
     ],
     "language": "python",
     "metadata": {},
     "outputs": [],
     "prompt_number": 26
    },
    {
     "cell_type": "code",
     "collapsed": false,
     "input": [
      "## create models\n",
      "from sklearn import svm\n",
      "from sklearn import linear_model\n",
      "models = {\n",
      "    'linear_svc' : svm.LinearSVC()\n",
      "    , 'svc' : svm.SVC()\n",
      "    , 'sgd' : linear_model.SGDClassifier()\n",
      "    , 'lasso' : linear_model.Lasso()\n",
      "    , 'pac' : linear_model.PassiveAggressiveClassifier()\n",
      "}\n",
      "for model_name, model in models.items():\n",
      "    ensemble.write_model(ensemble_path, model_name, \n",
      "                            model, {'train_data': 'iris_train', \n",
      "                                    'validation_data': 'iris_validation'})"
     ],
     "language": "python",
     "metadata": {},
     "outputs": [],
     "prompt_number": 27
    },
    {
     "cell_type": "code",
     "collapsed": false,
     "input": [
      "## TEST parallel prediction\n",
      "try:\n",
      "    results = ensemble.parallel_predict_model(ensemble_path, \n",
      "        zip(models.keys(), ['validation_data'] * len(models), [False]*len(models)),\n",
      "        client)\n",
      "    raise RuntimeError('untrained models should NOT be able to predict')\n",
      "except parallel.RemoteError as ex:\n",
      "    if ex.ename == 'AttributeError':\n",
      "        pass\n",
      "    else:\n",
      "        raise ex"
     ],
     "language": "python",
     "metadata": {},
     "outputs": [],
     "prompt_number": 28
    },
    {
     "cell_type": "code",
     "collapsed": false,
     "input": [
      "print ensemble._read_json_record(ensemble._get_path(ensemble_path, 'models_json'))\n",
      "## TEST read model meta\n",
      "print ''\n",
      "print ensemble.read_model_meta(ensemble_path, 'lasso', ['file', 'is_probabilistic', 'train_data'])"
     ],
     "language": "python",
     "metadata": {},
     "outputs": [
      {
       "output_type": "stream",
       "stream": "stdout",
       "text": [
        "{u'lasso': {u'stored_files': [u'/home/ce/workspace/tutorials/ml-tutorials/tmp/bigfat/models/lasso.pkl'], u'validation_data': u'iris_validation', u'file': u'/home/ce/workspace/tutorials/ml-tutorials/tmp/bigfat/models/lasso.pkl', u'train_data': u'iris_train'}, u'pac': {u'stored_files': [u'/home/ce/workspace/tutorials/ml-tutorials/tmp/bigfat/models/pac.pkl'], u'validation_data': u'iris_validation', u'file': u'/home/ce/workspace/tutorials/ml-tutorials/tmp/bigfat/models/pac.pkl', u'train_data': u'iris_train'}, u'sgd': {u'stored_files': [u'/home/ce/workspace/tutorials/ml-tutorials/tmp/bigfat/models/sgd.pkl'], u'validation_data': u'iris_validation', u'file': u'/home/ce/workspace/tutorials/ml-tutorials/tmp/bigfat/models/sgd.pkl', u'train_data': u'iris_train'}, u'linear_svc': {u'stored_files': [u'/home/ce/workspace/tutorials/ml-tutorials/tmp/bigfat/models/linear_svc.pkl'], u'validation_data': u'iris_validation', u'file': u'/home/ce/workspace/tutorials/ml-tutorials/tmp/bigfat/models/linear_svc.pkl', u'train_data': u'iris_train'}, u'svc': {u'stored_files': [u'/home/ce/workspace/tutorials/ml-tutorials/tmp/bigfat/models/svc.pkl'], u'validation_data': u'iris_validation', u'file': u'/home/ce/workspace/tutorials/ml-tutorials/tmp/bigfat/models/svc.pkl', u'train_data': u'iris_train'}}\n",
        "\n",
        "{'is_probabilistic': None, 'file': u'/home/ce/workspace/tutorials/ml-tutorials/tmp/bigfat/models/lasso.pkl', 'train_data': u'iris_train'}\n"
       ]
      }
     ],
     "prompt_number": 29
    },
    {
     "cell_type": "code",
     "collapsed": false,
     "input": [
      "## TEST parallel training\n",
      "\n",
      "ensemble.paralle_train_models(ensemble_path, \n",
      "        zip(models.keys(), ['train_data'] * len(models)), client)"
     ],
     "language": "python",
     "metadata": {},
     "outputs": [],
     "prompt_number": 30
    },
    {
     "cell_type": "code",
     "collapsed": false,
     "input": [
      "## TEST parallel prediction\n",
      "results = ensemble.parallel_predict_model(ensemble_path, \n",
      "        zip(models.keys(), ['validation_data'] * len(models), [False]*len(models)),\n",
      "        client)"
     ],
     "language": "python",
     "metadata": {},
     "outputs": [],
     "prompt_number": 31
    },
    {
     "cell_type": "code",
     "collapsed": false,
     "input": [
      "from pprint import pprint\n",
      "pprint(results)"
     ],
     "language": "python",
     "metadata": {},
     "outputs": [
      {
       "output_type": "stream",
       "stream": "stdout",
       "text": [
        "[['pac',\n",
        "  (array([2, 2, 2, 0, 1, 0, 1, 0, 0, 2, 2, 0, 2, 0, 2, 2, 0, 0, 1, 0, 2, 1, 1,\n",
        "       1, 1, 0, 2, 2, 1, 2, 0, 1, 0, 0, 1, 0, 0, 0, 0, 1, 1, 0, 1, 2, 2]),\n",
        "   array([1, 1, 1, 0, 1, 0, 1, 0, 0, 1, 1, 0, 1, 0, 1, 1, 0, 0, 1, 0, 1, 1, 1,\n",
        "       1, 1, 0, 1, 1, 1, 1, 0, 1, 0, 0, 1, 0, 0, 0, 0, 1, 1, 0, 1, 1, 1]))],\n",
        " ['lasso',\n",
        "  (array([2, 2, 2, 0, 1, 0, 1, 0, 0, 2, 2, 0, 2, 0, 2, 2, 0, 0, 1, 0, 2, 1, 1,\n",
        "       1, 1, 0, 2, 2, 1, 2, 0, 1, 0, 0, 1, 0, 0, 0, 0, 1, 1, 0, 1, 2, 2]),\n",
        "   array([ 1.27931693,  1.17098383,  1.17098383,  0.77015139,  1.0193175 ,\n",
        "        0.80265131,  1.13848391,  0.75931808,  0.791818  ,  1.18181714,\n",
        "        1.23598369,  0.791818  ,  1.22515038,  0.75931808,  1.13848391,\n",
        "        1.17098383,  0.80265131,  0.77015139,  1.05181743,  0.791818  ,\n",
        "        1.21431707,  1.07348405,  0.94348434,  1.03015081,  1.07348405,\n",
        "        0.791818  ,  1.17098383,  1.17098383,  1.10598398,  1.31181686,\n",
        "        0.78098469,  1.08431736,  0.77015139,  0.82431793,  1.08431736,\n",
        "        0.80265131,  0.75931808,  0.77015139,  0.78098469,  1.09515067,\n",
        "        0.99765088,  0.78098469,  1.14931721,  1.22515038,  1.23598369]))],\n",
        " ['svc',\n",
        "  (array([2, 2, 2, 0, 1, 0, 1, 0, 0, 2, 2, 0, 2, 0, 2, 2, 0, 0, 1, 0, 2, 1, 1,\n",
        "       1, 1, 0, 2, 2, 1, 2, 0, 1, 0, 0, 1, 0, 0, 0, 0, 1, 1, 0, 1, 2, 2]),\n",
        "   array([2, 2, 2, 0, 1, 0, 1, 0, 0, 2, 2, 0, 2, 0, 2, 1, 0, 0, 1, 0, 2, 1, 1,\n",
        "       1, 1, 0, 2, 2, 1, 2, 0, 1, 0, 0, 1, 0, 0, 0, 0, 1, 1, 0, 1, 2, 2]))],\n",
        " ['linear_svc',\n",
        "  (array([2, 2, 2, 0, 1, 0, 1, 0, 0, 2, 2, 0, 2, 0, 2, 2, 0, 0, 1, 0, 2, 1, 1,\n",
        "       1, 1, 0, 2, 2, 1, 2, 0, 1, 0, 0, 1, 0, 0, 0, 0, 1, 1, 0, 1, 2, 2]),\n",
        "   array([2, 2, 2, 0, 1, 0, 2, 0, 0, 2, 2, 0, 1, 0, 2, 1, 0, 0, 1, 0, 2, 1, 1,\n",
        "       1, 1, 0, 2, 2, 1, 2, 0, 1, 0, 0, 1, 0, 0, 0, 0, 1, 1, 0, 1, 2, 2]))],\n",
        " ['sgd',\n",
        "  (array([2, 2, 2, 0, 1, 0, 1, 0, 0, 2, 2, 0, 2, 0, 2, 2, 0, 0, 1, 0, 2, 1, 1,\n",
        "       1, 1, 0, 2, 2, 1, 2, 0, 1, 0, 0, 1, 0, 0, 0, 0, 1, 1, 0, 1, 2, 2]),\n",
        "   array([2, 1, 2, 0, 1, 0, 1, 0, 0, 1, 2, 0, 1, 0, 1, 1, 0, 0, 1, 0, 1, 1, 1,\n",
        "       1, 1, 0, 2, 2, 1, 1, 0, 1, 0, 0, 1, 0, 0, 0, 0, 1, 1, 0, 1, 2, 2]))]]\n"
       ]
      }
     ],
     "prompt_number": 32
    },
    {
     "cell_type": "markdown",
     "metadata": {},
     "source": [
      "**TEST GreedyEnsemble Class**"
     ]
    },
    {
     "cell_type": "code",
     "collapsed": false,
     "input": [
      "reload(ensemble)"
     ],
     "language": "python",
     "metadata": {},
     "outputs": [
      {
       "output_type": "pyout",
       "prompt_number": 46,
       "text": [
        "<module 'ensemble' from 'ensemble.pyc'>"
       ]
      }
     ],
     "prompt_number": 46
    },
    {
     "cell_type": "code",
     "collapsed": false,
     "input": [
      "ge = ensemble.GreedyEnsemble(ensemble_path, scorefn=None, votefn=None)\n",
      "models = ['lasso', 'pac', 'svc', 'sgd', 'linear_svc']"
     ],
     "language": "python",
     "metadata": {},
     "outputs": [],
     "prompt_number": 47
    },
    {
     "cell_type": "code",
     "collapsed": false,
     "input": [
      "## test _predict_by_model\n",
      "target, predictions = ge._predict_by_model(models, data_type='validation_data')\n",
      "print predictions\n",
      "print target.shape"
     ],
     "language": "python",
     "metadata": {},
     "outputs": [
      {
       "output_type": "stream",
       "stream": "stdout",
       "text": [
        "{'pac': array([1, 1, 1, 0, 1, 0, 1, 0, 0, 1, 1, 0, 1, 0, 1, 1, 0, 0, 1, 0, 1, 1, 1,\n",
        "       1, 1, 0, 1, 1, 1, 1, 0, 1, 0, 0, 1, 0, 0, 0, 0, 1, 1, 0, 1, 1, 1]), 'sgd': array([2, 1, 2, 0, 1, 0, 1, 0, 0, 1, 2, 0, 1, 0, 1, 1, 0, 0, 1, 0, 1, 1, 1,\n",
        "       1, 1, 0, 2, 2, 1, 1, 0, 1, 0, 0, 1, 0, 0, 0, 0, 1, 1, 0, 1, 2, 2]), 'svc': array([2, 2, 2, 0, 1, 0, 1, 0, 0, 2, 2, 0, 2, 0, 2, 1, 0, 0, 1, 0, 2, 1, 1,\n",
        "       1, 1, 0, 2, 2, 1, 2, 0, 1, 0, 0, 1, 0, 0, 0, 0, 1, 1, 0, 1, 2, 2]), 'linear_svc': array([2, 2, 2, 0, 1, 0, 2, 0, 0, 2, 2, 0, 1, 0, 2, 1, 0, 0, 1, 0, 2, 1, 1,\n",
        "       1, 1, 0, 2, 2, 1, 2, 0, 1, 0, 0, 1, 0, 0, 0, 0, 1, 1, 0, 1, 2, 2]), 'lasso': array([ 1.27931693,  1.17098383,  1.17098383,  0.77015139,  1.0193175 ,\n",
        "        0.80265131,  1.13848391,  0.75931808,  0.791818  ,  1.18181714,\n",
        "        1.23598369,  0.791818  ,  1.22515038,  0.75931808,  1.13848391,\n",
        "        1.17098383,  0.80265131,  0.77015139,  1.05181743,  0.791818  ,\n",
        "        1.21431707,  1.07348405,  0.94348434,  1.03015081,  1.07348405,\n",
        "        0.791818  ,  1.17098383,  1.17098383,  1.10598398,  1.31181686,\n",
        "        0.78098469,  1.08431736,  0.77015139,  0.82431793,  1.08431736,\n",
        "        0.80265131,  0.75931808,  0.77015139,  0.78098469,  1.09515067,\n",
        "        0.99765088,  0.78098469,  1.14931721,  1.22515038,  1.23598369])}\n",
        "(45,)\n"
       ]
      }
     ],
     "prompt_number": 48
    },
    {
     "cell_type": "code",
     "collapsed": false,
     "input": [
      "## test _greedy_search\n",
      "from sklearn import metrics\n",
      "scorefn = metrics.accuracy_score\n",
      "votefn = ensemble.GreedyEnsemble.vote_major_class"
     ],
     "language": "python",
     "metadata": {},
     "outputs": [],
     "prompt_number": 49
    },
    {
     "cell_type": "code",
     "collapsed": false,
     "input": [
      "ge = ensemble.GreedyEnsemble(ensemble_path, scorefn, votefn)"
     ],
     "language": "python",
     "metadata": {},
     "outputs": [],
     "prompt_number": 50
    },
    {
     "cell_type": "code",
     "collapsed": false,
     "input": [
      "ge.fit(['sgd', 'svc', 'linear_svc'], data_type='validation_data', verbose = True)\n",
      "print ge.ensemble_"
     ],
     "language": "python",
     "metadata": {},
     "outputs": [
      {
       "output_type": "stream",
       "stream": "stdout",
       "text": [
        "checking model svc improvement from  0.0 to 0.977777777778\n",
        "['svc']\n"
       ]
      }
     ],
     "prompt_number": 51
    },
    {
     "cell_type": "code",
     "collapsed": false,
     "input": [
      "ge._predict_by_model(['sgd', 'svc', 'linear_svc'], data_type='validation_data')"
     ],
     "language": "python",
     "metadata": {},
     "outputs": [
      {
       "output_type": "pyout",
       "prompt_number": 52,
       "text": [
        "(array([2, 2, 2, 0, 1, 0, 1, 0, 0, 2, 2, 0, 2, 0, 2, 2, 0, 0, 1, 0, 2, 1, 1,\n",
        "       1, 1, 0, 2, 2, 1, 2, 0, 1, 0, 0, 1, 0, 0, 0, 0, 1, 1, 0, 1, 2, 2]),\n",
        " {'linear_svc': array([2, 2, 2, 0, 1, 0, 2, 0, 0, 2, 2, 0, 1, 0, 2, 1, 0, 0, 1, 0, 2, 1, 1,\n",
        "       1, 1, 0, 2, 2, 1, 2, 0, 1, 0, 0, 1, 0, 0, 0, 0, 1, 1, 0, 1, 2, 2]),\n",
        "  'sgd': array([2, 1, 2, 0, 1, 0, 1, 0, 0, 1, 2, 0, 1, 0, 1, 1, 0, 0, 1, 0, 1, 1, 1,\n",
        "       1, 1, 0, 2, 2, 1, 1, 0, 1, 0, 0, 1, 0, 0, 0, 0, 1, 1, 0, 1, 2, 2]),\n",
        "  'svc': array([2, 2, 2, 0, 1, 0, 1, 0, 0, 2, 2, 0, 2, 0, 2, 1, 0, 0, 1, 0, 2, 1, 1,\n",
        "       1, 1, 0, 2, 2, 1, 2, 0, 1, 0, 0, 1, 0, 0, 0, 0, 1, 1, 0, 1, 2, 2])})"
       ]
      }
     ],
     "prompt_number": 52
    },
    {
     "cell_type": "code",
     "collapsed": false,
     "input": [
      "## test partial_fit\n",
      "ge = ensemble.GreedyEnsemble(ensemble_path, scorefn, votefn)\n",
      "models = ['sgd', 'svc', 'linear_svc', 'pac']\n",
      "data_type = 'validation_data'\n",
      "print ge.ensemble_"
     ],
     "language": "python",
     "metadata": {},
     "outputs": [
      {
       "output_type": "stream",
       "stream": "stdout",
       "text": [
        "[]\n"
       ]
      }
     ],
     "prompt_number": 53
    },
    {
     "cell_type": "code",
     "collapsed": false,
     "input": [
      "for model in models:\n",
      "    ge.partial_fit([model], data_type=data_type, verbose = True)"
     ],
     "language": "python",
     "metadata": {},
     "outputs": [
      {
       "output_type": "stream",
       "stream": "stdout",
       "text": [
        "checking model sgd improvement from  0.0 to 0.844444444444\n",
        "checking model"
       ]
      },
      {
       "output_type": "stream",
       "stream": "stdout",
       "text": [
        " svc improvement from  0.844444444444 to 0.844444444444\n",
        "checking model"
       ]
      },
      {
       "output_type": "stream",
       "stream": "stdout",
       "text": [
        " linear_svc improvement from  0.844444444444 to 0.955555555556\n"
       ]
      }
     ],
     "prompt_number": 54
    },
    {
     "cell_type": "code",
     "collapsed": false,
     "input": [
      "print ge.ensemble_"
     ],
     "language": "python",
     "metadata": {},
     "outputs": [
      {
       "output_type": "stream",
       "stream": "stdout",
       "text": [
        "['sgd', 'svc', 'linear_svc']\n"
       ]
      }
     ],
     "prompt_number": 55
    },
    {
     "cell_type": "code",
     "collapsed": false,
     "input": [
      "## test predict\n",
      "ge = ensemble.GreedyEnsemble(ensemble_path, scorefn, votefn)\n",
      "models = ['sgd', 'svc', 'linear_svc', 'pac']\n",
      "data_type = 'validation_data'"
     ],
     "language": "python",
     "metadata": {},
     "outputs": [],
     "prompt_number": 56
    },
    {
     "cell_type": "code",
     "collapsed": false,
     "input": [
      "for model in models:\n",
      "    ge.partial_fit([model], data_type=data_type, verbose=True)\n",
      "    print ge.predict(data_type)"
     ],
     "language": "python",
     "metadata": {},
     "outputs": [
      {
       "output_type": "stream",
       "stream": "stdout",
       "text": [
        "checking model sgd improvement from  0.0 to 0.844444444444\n",
        "[2 1 2 0 1 0 1 0 0 1 2 0 1 0 1 1 0 0 1 0 1 1 1 1 1 0 2 2 1 1 0 1 0 0 1 0 0\n",
        " 0 0 1 1 0 1 2 2]\n",
        "checking model"
       ]
      },
      {
       "output_type": "stream",
       "stream": "stdout",
       "text": [
        " svc improvement from  0.844444444444 to 0.844444444444\n",
        "[2 1 2 0 1 0 1 0 0 1 2 0 1 0 1 1 0 0 1 0 1 1 1 1 1 0 2 2 1 1 0 1 0 0 1 0 0\n",
        " 0 0 1 1 0 1 2 2]\n",
        "checking model"
       ]
      },
      {
       "output_type": "stream",
       "stream": "stdout",
       "text": [
        " linear_svc improvement from  0.844444444444 to 0.955555555556\n",
        "[2 2 2 0 1 0 1 0 0 2 2 0 1 0 2 1 0 0 1 0 2 1 1 1 1 0 2 2 1 2 0 1 0 0 1 0 0\n",
        " 0 0 1 1 0 1 2 2]"
       ]
      },
      {
       "output_type": "stream",
       "stream": "stdout",
       "text": [
        "\n",
        "[2 2 2 0 1 0 1 0 0 2 2 0 1 0 2 1 0 0 1 0 2 1 1 1 1 0 2 2 1 2 0 1 0 0 1 0 0\n",
        " 0 0 1 1 0 1 2 2]"
       ]
      },
      {
       "output_type": "stream",
       "stream": "stdout",
       "text": [
        "\n"
       ]
      }
     ],
     "prompt_number": 57
    },
    {
     "cell_type": "code",
     "collapsed": false,
     "input": [
      "## test score\n",
      "ge = ensemble.GreedyEnsemble(ensemble_path, scorefn, votefn)\n",
      "models = ['sgd', 'svc', 'linear_svc', 'pac']\n",
      "data_type = 'validation_data'\n",
      "for model in models:\n",
      "    ge.partial_fit([model], data_type=data_type, verbose=True)\n",
      "    print ge.score(data_type)\n",
      "print ge.ensemble_"
     ],
     "language": "python",
     "metadata": {},
     "outputs": [
      {
       "output_type": "stream",
       "stream": "stdout",
       "text": [
        "checking model sgd improvement from  0.0 to 0.844444444444\n",
        "0.844444444444\n",
        "checking model"
       ]
      },
      {
       "output_type": "stream",
       "stream": "stdout",
       "text": [
        " svc improvement from  0.844444444444 to 0.844444444444\n",
        "0.844444444444\n",
        "checking model"
       ]
      },
      {
       "output_type": "stream",
       "stream": "stdout",
       "text": [
        " linear_svc improvement from  0.844444444444 to 0.955555555556\n",
        "0.955555555556\n",
        "0.955555555556"
       ]
      },
      {
       "output_type": "stream",
       "stream": "stdout",
       "text": [
        "\n",
        "['sgd', 'svc', 'linear_svc']\n"
       ]
      }
     ],
     "prompt_number": 59
    },
    {
     "cell_type": "markdown",
     "metadata": {},
     "source": [
      "**Putting it all together**"
     ]
    },
    {
     "cell_type": "code",
     "collapsed": false,
     "input": [
      "## TEST ensemble with digits and other data\n",
      "!ls data"
     ],
     "language": "python",
     "metadata": {},
     "outputs": [
      {
       "output_type": "stream",
       "stream": "stdout",
       "text": [
        "blackbox_ensemble  blackbox.pkl  digits.pkl  icml2013-blackbox\tMNIST  tmp\r\n"
       ]
      }
     ],
     "prompt_number": 61
    },
    {
     "cell_type": "code",
     "collapsed": false,
     "input": [
      "import cPickle\n",
      "blackbox = cPickle.load(open('data/digits.pkl', 'rb'))\n",
      "X, y = blackbox\n",
      "print X.shape, y.shape"
     ],
     "language": "python",
     "metadata": {},
     "outputs": [
      {
       "output_type": "stream",
       "stream": "stdout",
       "text": [
        "(42000, 784) (42000,)\n"
       ]
      }
     ],
     "prompt_number": 65
    },
    {
     "cell_type": "code",
     "collapsed": false,
     "input": [
      "from sklearn.cross_validation import train_test_split\n",
      "train_X, validation_X, train_y, validation_y = train_test_split(X, y, test_size = 0.2)\n",
      "print train_X.shape, validation_X.shape\n",
      "print train_y.shape, validation_y.shape"
     ],
     "language": "python",
     "metadata": {},
     "outputs": [
      {
       "output_type": "stream",
       "stream": "stdout",
       "text": [
        "(33600, 784) (8400, 784)\n",
        "(33600,) (8400,)\n"
       ]
      }
     ],
     "prompt_number": 66
    },
    {
     "cell_type": "code",
     "collapsed": false,
     "input": [
      "## make new ensemble\n",
      "reload(ensemble)\n"
     ],
     "language": "python",
     "metadata": {},
     "outputs": []
    }
   ],
   "metadata": {}
  }
 ]
}