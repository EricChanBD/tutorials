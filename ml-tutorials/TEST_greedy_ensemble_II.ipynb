{
 "metadata": {
  "name": "TEST_greedy_ensemble_II"
 },
 "nbformat": 3,
 "nbformat_minor": 0,
 "worksheets": [
  {
   "cells": [
    {
     "cell_type": "heading",
     "level": 1,
     "metadata": {},
     "source": [
      "TEST greedy ensemble on blackbox"
     ]
    },
    {
     "cell_type": "code",
     "collapsed": false,
     "input": [
      "import ensemble\n",
      "from itertools import cycle\n",
      "from IPython.parallel import Client\n",
      "client = Client()\n",
      "print len(client)"
     ],
     "language": "python",
     "metadata": {},
     "outputs": [
      {
       "output_type": "stream",
       "stream": "stdout",
       "text": [
        "16\n"
       ]
      }
     ],
     "prompt_number": 1
    },
    {
     "cell_type": "code",
     "collapsed": false,
     "input": [
      "import cPickle\n",
      "X, y = cPickle.load(open('data/blackbox.pkl', 'rb'))\n",
      "print X.shape, y.shape"
     ],
     "language": "python",
     "metadata": {},
     "outputs": [
      {
       "output_type": "stream",
       "stream": "stdout",
       "text": [
        "(1000, 1875) (1000,)\n"
       ]
      }
     ],
     "prompt_number": 5
    },
    {
     "cell_type": "heading",
     "level": 2,
     "metadata": {},
     "source": [
      "1. Different models on the same original data"
     ]
    },
    {
     "cell_type": "code",
     "collapsed": false,
     "input": [
      "reload(ensemble)"
     ],
     "language": "python",
     "metadata": {},
     "outputs": [
      {
       "output_type": "pyout",
       "prompt_number": 33,
       "text": [
        "<module 'ensemble' from 'ensemble.py'>"
       ]
      }
     ],
     "prompt_number": 33
    },
    {
     "cell_type": "code",
     "collapsed": false,
     "input": [
      "## split data to train, validatin\n",
      "from sklearn.cross_validation import train_test_split\n",
      "train_X, validation_X, train_y, validation_y = train_test_split(X, y, test_size = 0.2)\n",
      "print train_X.shape, validation_X.shape\n",
      "print train_y.shape, validation_y.shape"
     ],
     "language": "python",
     "metadata": {},
     "outputs": [
      {
       "output_type": "stream",
       "stream": "stdout",
       "text": [
        "(800, 1875) (200, 1875)\n",
        "(800,) (200,)\n"
       ]
      }
     ],
     "prompt_number": 34
    },
    {
     "cell_type": "code",
     "collapsed": false,
     "input": [
      "## make new ensemble\n",
      "!rm -fR tmp/blackbox_raw_ensemble\n",
      "ensemble_path = ensemble.new_ensemble('blackbox_raw_ensemble', 'tmp/')\n",
      "print ensemble_path"
     ],
     "language": "python",
     "metadata": {},
     "outputs": [
      {
       "output_type": "stream",
       "stream": "stdout",
       "text": [
        "/home/ce/mali/tutorials/ml-tutorials/tmp/blackbox_raw_ensemble"
       ]
      },
      {
       "output_type": "stream",
       "stream": "stdout",
       "text": [
        "\n"
       ]
      }
     ],
     "prompt_number": 35
    },
    {
     "cell_type": "code",
     "collapsed": false,
     "input": [
      "## persist data\n",
      "ensemble.write_data(ensemble_path, 'train_blackbox', (train_X, train_y), {'description': 'blackbox data training'})\n",
      "ensemble.write_data(ensemble_path, 'validation_blackbox', (validation_X, validation_y), {'description': 'blackbox data validation'})"
     ],
     "language": "python",
     "metadata": {},
     "outputs": [],
     "prompt_number": 36
    },
    {
     "cell_type": "code",
     "collapsed": false,
     "input": [
      "## confirm data writing\n",
      "!ls tmp/blackbox_raw_ensemble/data"
     ],
     "language": "python",
     "metadata": {},
     "outputs": [
      {
       "output_type": "stream",
       "stream": "stdout",
       "text": [
        "train_blackbox.pkl\t   validation_blackbox.pkl\r\n",
        "train_blackbox.pkl_01.npy  validation_blackbox.pkl_01.npy\r\n",
        "train_blackbox.pkl_02.npy  validation_blackbox.pkl_02.npy\r\n"
       ]
      }
     ],
     "prompt_number": 37
    },
    {
     "cell_type": "code",
     "collapsed": false,
     "input": [
      "## config different models\n",
      "from sklearn import svm\n",
      "from sklearn import linear_model\n",
      "from sklearn import tree\n",
      "models = {\n",
      "  'sgd_0.1': linear_model.SGDClassifier(alpha = 0.1)\n",
      "  , 'svc_0.001': svm.SVC(probability=True, gamma=0.001)\n",
      "  , 'svc_0.01': svm.SVC(probability=True, gamma = 0.01)\n",
      "  , 'svc_0.1': svm.SVC(probability=True, gamma=0.1)\n",
      "  , 'sgd_0.0001': linear_model.SGDClassifier(alpha = 0.0001)\n",
      "  , 'sgd_0.001': linear_model.SGDClassifier(alpha = 0.001)\n",
      "  , 'sgd_0.01': linear_model.SGDClassifier(alpha = 0.01) # SUPER model for digits\n",
      "  , 'sgd_0.05': linear_model.SGDClassifier(alpha = 0.05)\n",
      "  , 'sgd_0.15': linear_model.SGDClassifier(alpha = 0.05)\n",
      "  , 'pac_1.0': linear_model.PassiveAggressiveClassifier(C=1.0)\n",
      "  , 'pac_0.1': linear_model.PassiveAggressiveClassifier(C=0.1)\n",
      "  , 'pac_0.01': linear_model.PassiveAggressiveClassifier(C=0.01)\n",
      "  , 'pac_0.001': linear_model.PassiveAggressiveClassifier(C=0.001)\n",
      "  , 'tree_5': tree.DecisionTreeClassifier(max_depth=5)\n",
      "  , 'tree_3': tree.DecisionTreeClassifier(max_depth=3)\n",
      "  , 'tree_1': tree.DecisionTreeClassifier(max_depth=1)\n",
      "}"
     ],
     "language": "python",
     "metadata": {},
     "outputs": [],
     "prompt_number": 38
    },
    {
     "cell_type": "code",
     "collapsed": false,
     "input": [
      "## write models\n",
      "common_model_meta = {\n",
      " 'is_probabilistic': False\n",
      " , 'train_data': 'train_blackbox'\n",
      " , 'validation_data': 'validation_blackbox'\n",
      "}\n",
      "for (model_name, model) in models.items():\n",
      "    ensemble.write_model(ensemble_path, model_name, model, model_meta = common_model_meta)"
     ],
     "language": "python",
     "metadata": {},
     "outputs": [],
     "prompt_number": 39
    },
    {
     "cell_type": "code",
     "collapsed": false,
     "input": [
      "## confirm model writing\n",
      "!ls tmp/blackbox_raw_ensemble/models"
     ],
     "language": "python",
     "metadata": {},
     "outputs": [
      {
       "output_type": "stream",
       "stream": "stdout",
       "text": [
        "pac_0.001.pkl  sgd_0.0001.pkl  sgd_0.15.pkl   svc_0.1.pkl\r\n",
        "pac_0.01.pkl   sgd_0.001.pkl   sgd_0.1.pkl    tree_1.pkl\r\n",
        "pac_0.1.pkl    sgd_0.01.pkl    svc_0.001.pkl  tree_3.pkl\r\n",
        "pac_1.0.pkl    sgd_0.05.pkl    svc_0.01.pkl   tree_5.pkl\r\n"
       ]
      }
     ],
     "prompt_number": 40
    },
    {
     "cell_type": "code",
     "collapsed": false,
     "input": [
      "## train models in parallel\n",
      "model_data_pairs = zip(models.keys(), cycle(['train_data']))\n",
      "ensemble.paralle_train_models(ensemble_path, model_data_pairs, client)"
     ],
     "language": "python",
     "metadata": {},
     "outputs": [
      {
       "output_type": "stream",
       "stream": "stdout",
       "text": [
        "Parallel Progress: finished 1 out of 16 tasks\n",
        "Parallel Progress: finished 2 out of 16 tasks\n",
        "Parallel Progress: finished 3 out of 16 tasks"
       ]
      },
      {
       "output_type": "stream",
       "stream": "stdout",
       "text": [
        "\n",
        "Parallel Progress: finished 4 out of 16 tasks\n",
        "Parallel Progress: finished 6 out of 16 tasks\n",
        "Parallel Progress: finished 7 out of 16 tasks"
       ]
      },
      {
       "output_type": "stream",
       "stream": "stdout",
       "text": [
        "\n",
        "Parallel Progress: finished 8 out of 16 tasks\n",
        "Parallel Progress: finished 9 out of 16 tasks"
       ]
      },
      {
       "output_type": "stream",
       "stream": "stdout",
       "text": [
        "\n",
        "Parallel Progress: finished 10 out of 16 tasks\n",
        "Parallel Progress: finished 11 out of 16 tasks\n",
        "Parallel Progress: finished 12 out of 16 tasks"
       ]
      },
      {
       "output_type": "stream",
       "stream": "stdout",
       "text": [
        "\n",
        "Parallel Progress: finished 13 out of 16 tasks"
       ]
      },
      {
       "output_type": "stream",
       "stream": "stdout",
       "text": [
        "\n",
        "Parallel Progress: finished 14 out of 16 tasks"
       ]
      },
      {
       "output_type": "stream",
       "stream": "stdout",
       "text": [
        "\n",
        "Parallel Progress: finished 15 out of 16 tasks"
       ]
      },
      {
       "output_type": "stream",
       "stream": "stdout",
       "text": [
        "\n",
        "Parallel Progress: finished 16 out of 16 tasks"
       ]
      },
      {
       "output_type": "stream",
       "stream": "stdout",
       "text": [
        "\n",
        "Parallel Progress: DONE\n"
       ]
      }
     ],
     "prompt_number": 41
    },
    {
     "cell_type": "code",
     "collapsed": false,
     "input": [
      "## construct ensemble model\n",
      "from sklearn import metrics\n",
      "ge = ensemble.GreedyEnsemble(ensemble_path, \n",
      "                             scorefn = metrics.accuracy_score,\n",
      "                             votefn = ensemble.GreedyEnsemble.vote_major_class,\n",
      "                             client = client)\n",
      "ge.fit(models.keys(), verbose = True)"
     ],
     "language": "python",
     "metadata": {},
     "outputs": [
      {
       "output_type": "stream",
       "stream": "stdout",
       "text": [
        "checking model svc_0.01 improvement from  0.0 to 0.265\n",
        "checking model pac_0.01 NO improvement from  0.265 to 0.26\n"
       ]
      },
      {
       "output_type": "pyout",
       "prompt_number": 48,
       "text": [
        "GreedyEnsemble(client=<IPython.parallel.client.client.Client object at 0x242c250>,\n",
        "        ensemble_path='/home/ce/mali/tutorials/ml-tutorials/tmp/blackbox_raw_ensemble',\n",
        "        random_seed=0, scorefn=<function accuracy_score at 0x4161140>,\n",
        "        votefn=<function vote_major_class at 0x3fad848>)"
       ]
      }
     ],
     "prompt_number": 48
    },
    {
     "cell_type": "code",
     "collapsed": false,
     "input": [
      "## model performance\n",
      "print ge.score(data_type = 'train_data')\n",
      "print ge.score(data_type = 'validation_data')"
     ],
     "language": "python",
     "metadata": {},
     "outputs": [
      {
       "output_type": "stream",
       "stream": "stdout",
       "text": [
        "0.35375\n",
        "0.265"
       ]
      },
      {
       "output_type": "stream",
       "stream": "stdout",
       "text": [
        "\n"
       ]
      }
     ],
     "prompt_number": 49
    },
    {
     "cell_type": "raw",
     "metadata": {},
     "source": [
      "## try add all models to ensemble and see\n",
      "ge.ensemble_ = models.keys()\n",
      "print ge.score(data_type='train_data')\n",
      "print ge.score(data_type='validation_data')\n",
      "print ge.ensemble_ "
     ]
    },
    {
     "cell_type": "raw",
     "metadata": {},
     "source": [
      "## try indivdual models and see the results\n",
      "for model_name in models.keys:\n",
      "    print 'for model', model_name\n",
      "    ge.ensemble_ = [model_name]\n",
      "    print ge.score(data_type='train_data')\n",
      "    print ge.score(data_type='validation_data')\n",
      "    print '--------------------------'\n",
      "    print ''"
     ]
    },
    {
     "cell_type": "heading",
     "level": 2,
     "metadata": {},
     "source": [
      "2. train different models on different data"
     ]
    },
    {
     "cell_type": "code",
     "collapsed": false,
     "input": [
      "## create new ensemble folder\n",
      "!rm -fR tmp/blackbox_mixed_ensemble/\n",
      "ensemble_path = ensemble.new_ensemble('blackbox_mixed_ensemble', 'tmp/')\n",
      "print ensemble_path"
     ],
     "language": "python",
     "metadata": {},
     "outputs": [
      {
       "output_type": "stream",
       "stream": "stdout",
       "text": [
        "/home/ce/mali/tutorials/ml-tutorials/tmp/blackbox_mixed_ensemble"
       ]
      },
      {
       "output_type": "stream",
       "stream": "stdout",
       "text": [
        "\n"
       ]
      }
     ],
     "prompt_number": 65
    },
    {
     "cell_type": "code",
     "collapsed": false,
     "input": [
      "## HEAVEY IO ENGAGEMENT\n",
      "## create different data\n",
      "from sklearn.cross_validation import train_test_split\n",
      "import features\n",
      "reload(features)\n",
      "n_samples, n_features = X.shape\n",
      "## same train and test index for each sub dataset\n",
      "train_index, test_index = train_test_split(range(n_samples), test_size = 0.2)\n",
      "## data set of all rows with different columns (strided)\n",
      "sub_features = features.strided_seqs(range(n_features), stride = 1, subsize = 5)\n",
      "data_name_index = [('subdata_%d_%d' % (sub_feature[0], sub_feature[-1]), sub_feature) \n",
      "        for sub_feature in sub_features]\n",
      "data_names = []\n",
      "for data_name, feat_index in data_name_index:\n",
      "    train_X = features.patch(X, train_index, feat_index)\n",
      "    train_y = features.patch(y, train_index)\n",
      "    test_X = features.patch(X, test_index, feat_index)\n",
      "    test_y = features.patch(y, test_index)\n",
      "    train_name = 'train_' + data_name\n",
      "    test_name = 'test_' + data_name\n",
      "    data_names.append((train_name, test_name))\n",
      "    ensemble.write_data(ensemble_path, train_name, (train_X, train_y), {})\n",
      "    ensemble.write_data(ensemble_path, test_name, (test_X, test_y), {})"
     ],
     "language": "python",
     "metadata": {},
     "outputs": [],
     "prompt_number": 66
    },
    {
     "cell_type": "code",
     "collapsed": false,
     "input": [
      "print len(data_names)"
     ],
     "language": "python",
     "metadata": {},
     "outputs": [
      {
       "output_type": "stream",
       "stream": "stdout",
       "text": [
        "1875\n"
       ]
      }
     ],
     "prompt_number": 67
    },
    {
     "cell_type": "code",
     "collapsed": false,
     "input": [
      "## configure different models\n",
      "models = {\n",
      "  'sgd_0.1': linear_model.SGDClassifier(alpha = 0.1)\n",
      "  , 'svc_0.001': svm.SVC(probability=True, gamma=0.001)\n",
      "  , 'svc_0.01': svm.SVC(probability=True, gamma = 0.01)\n",
      "  , 'svc_0.1': svm.SVC(probability=True, gamma=0.1)\n",
      "  , 'sgd_0.0001': linear_model.SGDClassifier(alpha = 0.0001)\n",
      "  , 'sgd_0.001': linear_model.SGDClassifier(alpha = 0.001)\n",
      "  , 'sgd_0.01': linear_model.SGDClassifier(alpha = 0.01) # SUPER model for digits\n",
      "  , 'sgd_0.05': linear_model.SGDClassifier(alpha = 0.05)\n",
      "  , 'sgd_0.15': linear_model.SGDClassifier(alpha = 0.05)\n",
      "  , 'pac_1.0': linear_model.PassiveAggressiveClassifier(C=1.0)\n",
      "  , 'pac_0.1': linear_model.PassiveAggressiveClassifier(C=0.1)\n",
      "  , 'pac_0.01': linear_model.PassiveAggressiveClassifier(C=0.01)\n",
      "  , 'pac_0.001': linear_model.PassiveAggressiveClassifier(C=0.001)\n",
      "  , 'tree_5': tree.DecisionTreeClassifier(max_depth=5)\n",
      "  , 'tree_3': tree.DecisionTreeClassifier(max_depth=3)\n",
      "  , 'tree_1': tree.DecisionTreeClassifier(max_depth=1)\n",
      "}"
     ],
     "language": "python",
     "metadata": {},
     "outputs": [],
     "prompt_number": 68
    },
    {
     "cell_type": "code",
     "collapsed": false,
     "input": [
      "model_metas = [{\n",
      "    'is_probabilistic': False\n",
      "  , 'train_data': train_name\n",
      "  , 'validation_data': validation_name\n",
      "  , 'test_data': None\n",
      "} for (train_name, validation_name) in data_names]\n",
      "print len(model_metas)"
     ],
     "language": "python",
     "metadata": {},
     "outputs": [
      {
       "output_type": "stream",
       "stream": "stdout",
       "text": [
        "1875\n"
       ]
      }
     ],
     "prompt_number": 72
    },
    {
     "cell_type": "code",
     "collapsed": false,
     "input": [
      "n_candidates = 4\n",
      "from random import shuffle\n",
      "## write model configurations\n",
      "model_names = []\n",
      "for model_meta in model_metas:\n",
      "    candidates = models.items()\n",
      "    shuffle(candidates)\n",
      "    candidates = candidates[:n_candidates]\n",
      "    ## randomly select \n",
      "    for (template_name, model) in candidates:\n",
      "        model_name = template_name + \"_\" + model_meta[\"train_data\"] + \"_\" + model_meta['validation_data']\n",
      "        model_names.append(model_name)\n",
      "        ensemble.write_model(ensemble_path, model_name, model, model_meta = model_meta)"
     ],
     "language": "python",
     "metadata": {},
     "outputs": [],
     "prompt_number": "*"
    },
    {
     "cell_type": "code",
     "collapsed": false,
     "input": [
      "## train models in parallel\n",
      "model_data_pairs = zip(model_names, cycle(['train_data']))\n",
      "ensemble.parallel_train_models(ensemble_path, model_data_pairs, client)"
     ],
     "language": "python",
     "metadata": {},
     "outputs": []
    }
   ],
   "metadata": {}
  }
 ]
}