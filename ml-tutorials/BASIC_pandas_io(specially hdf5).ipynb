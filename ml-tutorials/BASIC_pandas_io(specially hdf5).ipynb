{
 "metadata": {
  "name": "BASIC_pandas_io(specially hdf5)"
 },
 "nbformat": 3,
 "nbformat_minor": 0,
 "worksheets": [
  {
   "cells": [
    {
     "cell_type": "markdown",
     "metadata": {},
     "source": [
      "## Introduction to HDF5 (v.s. a database system)\n",
      "- a **database** handles efficiently *large numbers of transactions consisting of small pieces of data*. **HDF5** handles one or only *a few transactions consissting of large amounts of data*. It is important to identify the right tool for the right task. [source](http://dpservis.wordpress.com/tag/hdf5/)\n",
      "- **Pros** and **Cons** of HDF5\n",
      "    - PROS\n",
      "        1. HDF5 operates on single local files that can be transferred using OS commands.\n",
      "        2. HDF5 provides the means to arrange information in a hierarchical tree and access it randomly independently of the application that generated the information.\n",
      "        3. HDF5 provides a dynamic mapping paradigm.\n",
      "        4. Performance-wise, it is often faster than native calls.\n",
      "    - CONS\n",
      "        1. It is an open format and self describing, therefore making the data transparent and completely open. This could be a drawback for proprietary applications. Actually it is one of the major ones.\n",
      "        2. There is no simultaneous access support at the dataset level. This means that it is not possible to write to the same dataset from multiple clients and read from multiple clients at the same time.\n",
      "        3. Locking/unlocking, journaling, composing transactions are things that are either not implemented yet or lie completely on the application side."
     ]
    },
    {
     "cell_type": "code",
     "collapsed": false,
     "input": [],
     "language": "python",
     "metadata": {},
     "outputs": []
    }
   ],
   "metadata": {}
  }
 ]
}