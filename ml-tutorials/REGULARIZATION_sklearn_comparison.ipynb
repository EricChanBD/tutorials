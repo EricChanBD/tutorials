{
 "metadata": {
  "name": "REGULARIZATION_sklearn_comparison"
 },
 "nbformat": 3,
 "nbformat_minor": 0,
 "worksheets": [
  {
   "cells": [
    {
     "cell_type": "heading",
     "level": 1,
     "metadata": {},
     "source": [
      "Comparison of different Regularizers for Linear Models"
     ]
    },
    {
     "cell_type": "markdown",
     "metadata": {},
     "source": [
      "**Summary**\n",
      "\n",
      "- Linear model (with regularization) is usually useful because\n",
      "    - in large scale (online) learning, linear model is cheap to build\n",
      "    - in high dimensional data, linear model is less likely to overfit\n",
      "    - coefficients learned by linear model can be used as feature selection indicators\n",
      "    - linear combination of some features can be used as new features in feature transformation\n",
      "\n",
      "- *Ridge* penalizes `l2` and thus does *shrinkage*. it supports `Ridge` and `BayesianRidge` (for regression) and `RidgeClassifier` (for classification). *parameter: alpha, more parameters for BayesianRidge*\n",
      "\n",
      "- *Lasso* and *Lars* penalizes `l1` norm and thus achieves *sparsity*.\n",
      "    - Difference between the two is *lasso* uses coordinate-decent and thus scales with large scale data, whereas *lars* tends to give better (sparse) results for highly sparse solution (few rows and many columns). \n",
      "    - Both of them are implemented as regression in sklearn, including `Lasso`, `Lars`, `LassoLars`, and `MultiTaskLasso` (penalized with combined l1 and l2 norm)\n",
      "    - Difference between `Lars` and `LassoLars` implementations is that `Lars` accpet `n_nonzero_coefs` as parameter whereas `LassoLars` accept the traditional `alpha`\n",
      "    - `MultiTaskLasso` is specially useful to  fit multiple regression problems jointly enforcing the selected features to be the same accross tasks. In other words, the tasks are NOT independent of each other any more -- this is usually useful to model time-series data with time-varying linear models, the coeffs of models could change along time, but their importances will not. *Regression ONLY*\n",
      "    - `RandomizedLasso` works by resampling the train data and computing a Lasso on each resampling. In short, the features selected more often are good features. It is also known as *stability selection*. *Regression ONLY*\n",
      "\n",
      "- *ElasticNet* penalizes both `l1` and `l2` norms at the same time, by specifing params `alpha` and `l1_ratio`, so it achieves both shrinkage and sparsity\n",
      "    - `MultiTaskElasticNet` is the mutlitask version of it. It is trained with trained with L1/L2 mixed-norm as regularizer so it jointly enforcing selected features across tasks\n",
      "    - both of them are for *regression only* currently\n",
      "    - compared to *LASSO*, advantages of *ElasticNet* and *SGD* (p1 and p2 combined) are\n",
      "        - As for Lasso vs ElasticNet, ElasticNet will tend to select more variables hence lead to larger models (also more expensive to train) but also be more accurate in general. In particular Lasso is very sensitive to correlation between features and might select randomly one out of 2 very correlated informative features while ElasticNet will be more likely to select both which should lead to a more stable model (in terms of generalization ability so new samples). source http://stackoverflow.com/questions/12283184/how-is-elastic-net-used\n",
      "        -  For example, in the \"large p, small n problem\" case, the LASSO selects at most n variables before it saturates. Also if there is a group of highly correlated variables, then the LASSO tends to select one variable from a group and ignore the others. source http://en.wikipedia.org/wiki/Elastic_net_regularization\n",
      "\n",
      "- *Logistic Regression* is like the implementation of Ridge/Lasso for *classification* problems. It penalizes `l1` or `l2`, but not at the same time.\n",
      "    - Its parameter `C` plays the oppsite role as of `alpha` in Ridge/Lasso. `C` is the weight on the data-fitting term, `alpha` is the weight on the regulariztaion term\n",
      "    - Its parameter `dual` specifies implementing as a dual or primal formulation *for l2 norm only* usually Prefer dual=False when n_samples > n_features.\n",
      "    - As many classifiers, it is able to predict_proba.\n",
      "    - `RandomizedLogisticRegression` is similiar to `RandomizedLasso`, which does stability selection by resampling the data several times. For large data, use n_jobs=-1 and memory='memory_cache_path' for computation efficiency\n",
      "\n",
      "- *ARDRegression* - Bayesian version of linear Regression with ARD prior, see also BayesianRidge\n",
      "\n",
      "- *OrthogonalMatchingPursuit* - For regression tasks\n",
      "\n",
      "- *PassiveAggressive* - `PassiveAggressiveClassifier` and `PasssiveAggressiveRegressor` for both classification and regression.\n",
      "    - One of the key features is that those models support `partial_fit`, which means they can be used in *ONLINE Learning* mode, which is specially useful for *LARGE scale* learning\n",
      "    - The parameter `C` controls regularization. Performance of algorithm is SENSITIVE to C values\n",
      "    - `n_jobs` implements parallelism, but only for multi-class learning\n",
      "    - reference: http://jmlr.csail.mit.edu/papers/volume7/crammer06a/crammer06a.pdf\n",
      "    - by default PassiveAggresive cannot generate sparse solutions\n",
      "\n",
      "- *SGD*\n",
      "    - SGD supports *ONLINE* mode `partial_fit`, similiar to PassiveAggressive\n",
      "    - SGD supports `l1`, `l2` and `elasticnet` penalties, similiar to ElasticNet\n",
      "    - It supports Classification and Regression, and Feature Selection\n",
      "    - It supports different type of loss function such as \u2018hinge\u2019 or \u2018log\u2019 or \u2018modified_huber\u2019. The loss function to be used. Defaults to \u2018hinge\u2019. The hinge loss is a margin loss used by standard linear SVM models. The \u2018log\u2019 loss is the loss of logistic regression models and can be used for probability estimation in binary classifiers. \u2018modified_huber\u2019 is another smooth loss that brings tolerance to outliers.\n",
      "    - Main complexity control parameters are `alpha` and `l1_ratio`. Parameter `n_iter` and `learning_rate` may also influence accuracies\n",
      "    - results are usually sensitive to normalization\n",
      "    - `class_weights` can be used to handle imbalanced classification problem, e.g., with value `auto`\n",
      "\n",
      "- *Perceptron*\n",
      "\n",
      "- *LinearSVM*\n",
      "\n",
      "- **Tricks**\n",
      "    - Reguarlization is seldom useful is the feature is not representative enogugh (like in the case of blackbox)\n",
      "    - Reguarlizatin (sparsity) is specially useful for a lot of features but we need to find a subset\n",
      "    - When cross-validated properly, there is no significante difference between the performances of different linear models (regularized based on cv), yet their computation cost could be very different. Online MOdels are faster and more memory-efficient in general\n",
      "    - Feature engineering by decision-tree, clustering or deep-learning will come in handy when **underfitting** is a main issue\n",
      "    - normalizaion (StandScaler) is important to SGD and clustering, but will make a sparse matrix to be dense again"
     ]
    },
    {
     "cell_type": "code",
     "collapsed": false,
     "input": [
      "import cPickle\n",
      "import numpy as np\n",
      "from sklearn.cross_validation import cross_val_score\n",
      "from sklearn.cross_validation import KFold\n",
      "import matplotlib.pylab as plt\n",
      "from sklearn import linear_model\n",
      "from sklearn import metrics\n",
      "from sklearn import preprocessing\n",
      "from sklearn import decomposition\n",
      "from sklearn import cluster\n",
      "from IPython.parallel import Client\n",
      "from scipy import sparse\n",
      "\n",
      "def make_cv(n_samples, n_folds = 3):\n",
      "    return KFold(n_samples, n_folds=n_folds, random_state=0)\n",
      "\n",
      "client = Client()\n",
      "print len(client), 'cores running...'\n",
      "dv = client[:]\n",
      "lb = client.load_balanced_view()"
     ],
     "language": "python",
     "metadata": {},
     "outputs": [
      {
       "output_type": "stream",
       "stream": "stdout",
       "text": [
        "4 cores running...\n"
       ]
      }
     ],
     "prompt_number": 82
    },
    {
     "cell_type": "code",
     "collapsed": false,
     "input": [
      "## Some Linear Regualarizers specially Ridge, LASSO, LARS and linearSVM\n",
      "## the data used is icml2013 blackbox representation learning and MNIST (large scale?)\n",
      "## BLACKBOX data first\n",
      "## data source: http://www.kaggle.com/c/challenges-in-representation-learning-the-black-box-learning-challenge\n",
      "X, y = cPickle.load(open('data/blackbox.pkl', 'rb'))\n",
      "print X.shape, y.shape\n",
      "print np.unique(y), y.dtype ## classificaiton "
     ],
     "language": "python",
     "metadata": {},
     "outputs": [
      {
       "output_type": "stream",
       "stream": "stdout",
       "text": [
        "(1000, 1875) (1000,)\n",
        "[1 2 3 4 5 6 7 8 9] int64\n"
       ]
      }
     ],
     "prompt_number": 7
    },
    {
     "cell_type": "code",
     "collapsed": false,
     "input": [
      "## Ridge Regression - penalizes on l2 norm, alpha parameter controls penalty weight\n",
      "## (as contrast to C in SVM), testing alpha usually follow a logspace grid\n",
      "## Ridge regression gives shrinkage, but not sparsity\n",
      "alphas = np.logspace(-10, 5, 15)\n",
      "ridge = linear_model.RidgeClassifier()\n",
      "scores = [cross_val_score(ridge.set_params(alpha=alpha), X, y, cv = make_cv(X.shape[0]), n_jobs=-1) \n",
      "            for alpha in alphas]\n",
      "cv_scores = map(np.mean, scores)"
     ],
     "language": "python",
     "metadata": {},
     "outputs": [],
     "prompt_number": 3
    },
    {
     "cell_type": "code",
     "collapsed": false,
     "input": [
      "## To guarantee the optimial selection, the cv score curve should\n",
      "## go up first and go down again\n",
      "best_alpha, best_score = max(zip(alphas, cv_scores), key = lambda (a, s): s)\n",
      "print 'best alpha and best cv_score:', best_alpha, best_score\n",
      "plt.semilogx(alphas, cv_scores)\n",
      "plt.vlines(best_alpha, 0, best_score, colors='r')\n",
      "best_ridge = linear_model.RidgeClassifier(alpha=best_alpha).fit(X, y)\n",
      "#print 'optimal coefficients for ridge', best_ridge.coef_\n",
      "print 'coeff sparse rates for different classes', np.sum(abs(best_ridge.coef_) > 0, axis = 1) *1. / X.shape[1]"
     ],
     "language": "python",
     "metadata": {},
     "outputs": [
      {
       "output_type": "stream",
       "stream": "stdout",
       "text": [
        "best alpha and best cv_score: 5.17947467923 0.221985458512\n",
        "coeff sparse rates for different classes"
       ]
      },
      {
       "output_type": "stream",
       "stream": "stdout",
       "text": [
        " [ 1.  1.  1.  1.  1.  1.  1.  1.  1.]\n"
       ]
      },
      {
       "output_type": "display_data",
       "png": "[encoded data removed]"
      }
     ],
     "prompt_number": 4
    },
    {
     "cell_type": "code",
     "collapsed": false,
     "input": [
      "## Use LogisticRegression on L1 and L2 norm\n",
      "penalties = ['l1', 'l2']\n",
      "Cs = np.logspace(0, 5, 6)\n",
      "lr = linear_model.LogisticRegression(dual = True) # more features than samples\n",
      "scores = [cross_val_score(lr.set_params(penalty=penalty, C=C, dual = True if penalty =='l2' else False), \n",
      "                            X, y, cv=make_cv(X.shape[0]), n_jobs=-1) \n",
      "            for penalty in penalties\n",
      "            for C in Cs]\n",
      "cv_scores = map(np.mean, scores)"
     ],
     "language": "python",
     "metadata": {},
     "outputs": [],
     "prompt_number": 3
    },
    {
     "cell_type": "code",
     "collapsed": false,
     "input": [
      "sorted_scores = sorted(zip([(p,C) for p in penalties for C in Cs], cv_scores), key = lambda (params, s): s, reverse=True)\n",
      "print sorted_scores\n",
      "best_params, best_score = sorted_scores[0]\n",
      "print 'best alpha and best cv_score:', best_params, best_score\n",
      "plt.plot(cv_scores)\n",
      "l1_lr = linear_model.LogisticRegression(penalty='l1', C=1.0).fit(X, y)\n",
      "print 'coeff sparse rates for different classes', np.sum(abs(l1_lr.coef_) > 0, axis = 1) *1. / X.shape[1]"
     ],
     "language": "python",
     "metadata": {},
     "outputs": [
      {
       "output_type": "stream",
       "stream": "stdout",
       "text": [
        "[(('l2', 1.0), 0.20499241756726785), (('l1', 1.0), 0.20099440758123391), (('l2', 10.0), 0.18500836165506826), (('l1', 10.0), 0.18199936463409516), (('l2', 100.0), 0.17201632770495046), (('l1', 100000.0), 0.16600133067198933), (('l1', 10000.0), 0.16599533665401928), (('l1', 1000.0), 0.15901230571889255), (('l2', 10000.0), 0.1590063117009225), (('l2', 1000.0), 0.15801430172687658), (('l2', 100000.0), 0.15800231369093645), (('l1', 100.0), 0.15101328873783962)]\n",
        "best alpha and best cv_score: ('l2', 1.0) 0.204992417567\n",
        "coeff sparse rates for different classes"
       ]
      },
      {
       "output_type": "stream",
       "stream": "stdout",
       "text": [
        " [ 0.03733333  0.04053333  0.02986667  0.02986667  0.02666667  0.02293333\n",
        "  0.02933333  0.02293333  0.024     ]\n"
       ]
      },
      {
       "output_type": "display_data",
       "png": "[encoded data removed]"
      }
     ],
     "prompt_number": 10
    },
    {
     "cell_type": "code",
     "collapsed": false,
     "input": [
      "## stochastic Logistic Regression for stability selection\n",
      "## ITS a feature selection method without making predictions and scoring on y\n",
      "Cs = np.logspace(0, 5, 6)\n",
      "rlr = linear_model.RandomizedLogisticRegression(sample_fraction=0.75, n_resampling=200, \n",
      "                                selection_threshold=0.25, n_jobs=-1,\n",
      "                                memory= './data/tmp/')\n",
      "rlr.set_params(C=1.0).fit(X, y)"
     ],
     "language": "python",
     "metadata": {},
     "outputs": [
      {
       "output_type": "stream",
       "stream": "stdout",
       "text": [
        "________________________________________________________________________________\n",
        "[Memory] Calling sklearn.linear_model.randomized_l1._resample_model...\n",
        "_resample_model(<function _randomized_logistic at 0x111b1cc80>, array([[ 0.010795, ...,  0.011825],\n",
        "       ..., \n",
        "       [ 0.006166, ..., -0.009114]]), \n",
        "array([1, ..., 4]), C=1.0, n_jobs=-1, verbose=False, fit_intercept=True, scaling=0.5, n_resampling=200, random_state=None, sample_fraction=0.75, tol=0.001, pre_dispatch='3*n_jobs')"
       ]
      },
      {
       "output_type": "stream",
       "stream": "stdout",
       "text": [
        "\n"
       ]
      },
      {
       "output_type": "stream",
       "stream": "stdout",
       "text": [
        "__________________________________________________resample_model - 39.3s, 0.7min\n"
       ]
      },
      {
       "output_type": "pyout",
       "prompt_number": 15,
       "text": [
        "RandomizedLogisticRegression(C=1.0, fit_intercept=True, memory='./data/tmp/',\n",
        "               n_jobs=-1, n_resampling=200, normalize=True,\n",
        "               pre_dispatch='3*n_jobs', random_state=None,\n",
        "               sample_fraction=0.75, scaling=0.5, selection_threshold=0.25,\n",
        "               tol=0.001, verbose=False)"
       ]
      }
     ],
     "prompt_number": 15
    },
    {
     "cell_type": "code",
     "collapsed": false,
     "input": [
      "print 'sparseness rate for randomizedlogistic regression', np.sum(abs(rlr.scores_) > 0) * 1./ X.shape[1]"
     ],
     "language": "python",
     "metadata": {},
     "outputs": [
      {
       "output_type": "stream",
       "stream": "stdout",
       "text": [
        "sparseness rate for randomizedlogistic regression 0.1328\n"
       ]
      }
     ],
     "prompt_number": 23
    },
    {
     "cell_type": "code",
     "collapsed": false,
     "input": [
      "## Passive Aggressive Classifier\n",
      "Cs = np.logspace(-5, 5, 11)\n",
      "pa = linear_model.PassiveAggressiveClassifier(random_state = 0, n_iter = 50, n_jobs = 1, loss = 'hinge')\n",
      "scores = [cross_val_score(pa.set_params(C=C), X, y, n_jobs=-1, cv=make_cv(X.shape[0])) for C in Cs]\n",
      "cv_scores = map(np.mean, scores)"
     ],
     "language": "python",
     "metadata": {},
     "outputs": [],
     "prompt_number": 7
    },
    {
     "cell_type": "code",
     "collapsed": false,
     "input": [
      "plt.semilogx(Cs, cv_scores)"
     ],
     "language": "python",
     "metadata": {},
     "outputs": [
      {
       "output_type": "pyout",
       "prompt_number": 8,
       "text": [
        "[<matplotlib.lines.Line2D at 0x109287f10>]"
       ]
      },
      {
       "output_type": "display_data",
       "png": "[encoded data removed]"
      }
     ],
     "prompt_number": 8
    },
    {
     "cell_type": "code",
     "collapsed": false,
     "input": [
      "pa = linear_model.PassiveAggressiveClassifier(random_state = 0, n_iter = 50, n_jobs = 1, loss = 'hinge', C=1e-3)\n",
      "pa.fit(X, y)"
     ],
     "language": "python",
     "metadata": {},
     "outputs": [
      {
       "output_type": "pyout",
       "prompt_number": 12,
       "text": [
        "PassiveAggressiveClassifier(C=0.001, fit_intercept=True, loss='hinge',\n",
        "              n_iter=50, n_jobs=1, random_state=0, shuffle=False,\n",
        "              verbose=0, warm_start=False)"
       ]
      }
     ],
     "prompt_number": 12
    },
    {
     "cell_type": "code",
     "collapsed": false,
     "input": [
      "np.sum(abs(pa.coef_) > 1e-6, axis = 1) * 1. / X.shape[1]"
     ],
     "language": "python",
     "metadata": {},
     "outputs": [
      {
       "output_type": "pyout",
       "prompt_number": 17,
       "text": [
        "array([ 1.        ,  0.99946667,  1.        ,  1.        ,  1.        ,\n",
        "        1.        ,  1.        ,  1.        ,  1.        ])"
       ]
      }
     ],
     "prompt_number": 17
    },
    {
     "cell_type": "code",
     "collapsed": false,
     "input": [
      "## Stochastic Gradient Decent\n",
      "alphas = np.logspace(-6, 0, 7)\n",
      "l1_ratios = np.arange(0.1, 1.1, 0.1)\n",
      "sgd = linear_model.SGDClassifier(loss = 'hinge', penalty = 'elasticnet', n_jobs=1, n_iter = 20)\n",
      "params = [{'alpha': alpha, 'l1_ratio': l1_ratio} for alpha in alphas for l1_ratio in l1_ratios]\n",
      "scores = [cross_val_score(sgd.set_params(**param), X, y, n_jobs=-1, cv=make_cv(X.shape[0])) for param in params]\n",
      "cv_scores = map(np.mean, scores)"
     ],
     "language": "python",
     "metadata": {},
     "outputs": [],
     "prompt_number": 3
    },
    {
     "cell_type": "code",
     "collapsed": false,
     "input": [
      "sorted_scores = sorted(zip(params, cv_scores), key = lambda (p,s): s, reverse=True)\n",
      "print sorted_scores[:10]"
     ],
     "language": "python",
     "metadata": {},
     "outputs": [
      {
       "output_type": "stream",
       "stream": "stdout",
       "text": [
        "[({'alpha': 0.10000000000000001, 'l1_ratio': 1.0}, 0.21998045950141756), ({'alpha': 0.01, 'l1_ratio': 1.0}, 0.21000041958125792), ({'alpha': 0.01, 'l1_ratio': 0.90000000000000002}, 0.19596542650434867), ({'alpha': 1.0, 'l1_ratio': 1.0}, 0.19498540456624289), ({'alpha': 0.001, 'l1_ratio': 0.10000000000000001}, 0.18899438360516208), ({'alpha': 0.01, 'l1_ratio': 0.80000000000000004}, 0.18498738259217298), ({'alpha': 0.001, 'l1_ratio': 0.20000000000000001}, 0.18299736862611116), ({'alpha': 1.0000000000000001e-05, 'l1_ratio': 1.0}, 0.18000935066803328), ({'alpha': 0.001, 'l1_ratio': 0.90000000000000002}, 0.17997938057818297), ({'alpha': 0.001, 'l1_ratio': 0.30000000000000004}, 0.17899336462210713)]\n"
       ]
      }
     ],
     "prompt_number": 4
    },
    {
     "cell_type": "code",
     "collapsed": false,
     "input": [
      "sgd = linear_model.SGDClassifier(loss = 'hinge', penalty = 'elasticnet', n_jobs=-1, n_iter = 20, alpha=0.1, l1_ratio=1)\n",
      "sgd.fit(X, y)\n",
      "print 'sparse rate:', np.sum(abs(sgd.coef_) > 1e-3, axis = 1) * 1. / X.shape[1]\n"
     ],
     "language": "python",
     "metadata": {},
     "outputs": [
      {
       "output_type": "stream",
       "stream": "stdout",
       "text": [
        "sparse rate: [ 0.86666667  0.86133333  0.912       0.9552      0.94986667  0.95093333\n",
        "  0.9456      0.9568      0.95786667]\n"
       ]
      }
     ],
     "prompt_number": 12
    },
    {
     "cell_type": "code",
     "collapsed": false,
     "input": [
      "## SGD and SVM are generally senstive to normalization\n",
      "\n",
      "XX = preprocessing.Normalizer().fit_transform(X)\n",
      "alphas = np.logspace(-6, 0, 7)\n",
      "l1_ratios = np.arange(0.1, 1.1, 0.1)\n",
      "sgd = linear_model.SGDClassifier(loss = 'hinge', penalty = 'elasticnet', n_jobs=1, n_iter = 20)\n",
      "params = [{'alpha': alpha, 'l1_ratio': l1_ratio} for alpha in alphas for l1_ratio in l1_ratios]\n",
      "scores = [cross_val_score(sgd.set_params(**param), XX, y, n_jobs=-1, cv=make_cv(X.shape[0])) for param in params]\n",
      "cv_scores = map(np.mean, scores)"
     ],
     "language": "python",
     "metadata": {},
     "outputs": [],
     "prompt_number": 10
    },
    {
     "cell_type": "code",
     "collapsed": false,
     "input": [
      "## different alpha values with similar accuracy meaning redunancies in the original feature space\n",
      "sorted_scores = sorted(zip(params, cv_scores), key = lambda (p,s): s, reverse=True)\n",
      "print sorted_scores[:10]\n",
      "sgd = linear_model.SGDClassifier(loss = 'hinge', penalty = 'elasticnet', n_jobs=-1, n_iter = 20, alpha=0.1, l1_ratio=1)\n",
      "sgd.fit(XX, y)\n",
      "print 'sparse rate:', np.sum(abs(sgd.coef_) > 1e-3, axis = 1) * 1. / X.shape[1]"
     ],
     "language": "python",
     "metadata": {},
     "outputs": [
      {
       "output_type": "stream",
       "stream": "stdout",
       "text": [
        "[({'alpha': 0.001, 'l1_ratio': 1.0}, 0.21799643955332579), ({'alpha': 1.0, 'l1_ratio': 1.0}, 0.21798445151738566), ({'alpha': 0.01, 'l1_ratio': 1.0}, 0.21498744253235269), ({'alpha': 0.0001, 'l1_ratio': 0.59999999999999998}, 0.20999142855430283), ({'alpha': 0.0001, 'l1_ratio': 0.20000000000000001}, 0.2099854345363327), ({'alpha': 0.0001, 'l1_ratio': 0.40000000000000002}, 0.20997044949140756), ({'alpha': 0.0001, 'l1_ratio': 0.80000000000000004}, 0.20898443353533178), ({'alpha': 0.001, 'l1_ratio': 0.90000000000000002}, 0.20498942055828284), ({'alpha': 0.0001, 'l1_ratio': 0.70000000000000007}, 0.20496844149538762), ({'alpha': 0.0001, 'l1_ratio': 0.10000000000000001}, 0.20397942853032672)]\n"
       ]
      },
      {
       "output_type": "stream",
       "stream": "stdout",
       "text": [
        "sparse rate: [ 0.2176      0.192       0.13546667  0.0816      0.0448      0.02453333\n",
        "  0.07306667  0.02613333  0.06826667]\n"
       ]
      }
     ],
     "prompt_number": 14
    },
    {
     "cell_type": "code",
     "collapsed": false,
     "input": [
      "## TO see how the variances are distributed among features, using PCA\n",
      "from sklearn import decomposition\n"
     ],
     "language": "python",
     "metadata": {},
     "outputs": [],
     "prompt_number": 118
    },
    {
     "cell_type": "code",
     "collapsed": false,
     "input": [
      "pca = decomposition.PCA(whiten = True)\n",
      "pca.fit(X, y)"
     ],
     "language": "python",
     "metadata": {},
     "outputs": [
      {
       "output_type": "pyout",
       "prompt_number": 119,
       "text": [
        "PCA(copy=True, n_components=None, whiten=True)"
       ]
      }
     ],
     "prompt_number": 119
    },
    {
     "cell_type": "code",
     "collapsed": false,
     "input": [
      "## only the first pc is important (60% variance)\n",
      "plt.plot(pca.explained_variance_ratio_)\n",
      "print pca.explained_variance_ratio_[:20]"
     ],
     "language": "python",
     "metadata": {},
     "outputs": [
      {
       "output_type": "stream",
       "stream": "stdout",
       "text": [
        "[ 0.58323866  0.06736495  0.05158571  0.03981327  0.0228172   0.01756079\n",
        "  0.01616188  0.0141026   0.01152615  0.01020264  0.00950273  0.00843913\n",
        "  0.0074265   0.00593941  0.00568563  0.00500661  0.00489166  0.00441606\n",
        "  0.00407469  0.00393579]\n"
       ]
      },
      {
       "output_type": "display_data",
       "png": "[encoded data removed]"
      }
     ],
     "prompt_number": 120
    },
    {
     "cell_type": "code",
     "collapsed": false,
     "input": [
      "## Use PCA results to fit SGD\n",
      "PCA_X = decomposition.PCA(n_components=10, whiten=True).fit_transform(X)\n",
      "## draw on first 2 PC\n",
      "colors = ['r', 'g', 'b', 'm', 'y', 'k', 'c']\n",
      "for (cls,c) in zip(np.unique(y), colors):\n",
      "    plt.scatter(PCA_X[y==cls,0], PCA_X[y==cls, 1], color=c, label=str(cls))\n",
      "plt.legend()"
     ],
     "language": "python",
     "metadata": {},
     "outputs": [
      {
       "output_type": "pyout",
       "prompt_number": 167,
       "text": [
        "<matplotlib.legend.Legend at 0x10a186350>"
       ]
      },
      {
       "output_type": "display_data",
       "png": "[encoded data removed]"
      }
     ],
     "prompt_number": 167
    },
    {
     "cell_type": "code",
     "collapsed": false,
     "input": [
      "alphas = np.logspace(-6, 0, 7)\n",
      "l1_ratios = np.arange(0.1, 1.1, 0.1)\n",
      "sgd = linear_model.SGDClassifier(loss = 'hinge', penalty = 'elasticnet', n_jobs=1, n_iter = 20)\n",
      "params = [{'alpha': alpha, 'l1_ratio': l1_ratio} for alpha in alphas for l1_ratio in l1_ratios]\n",
      "scores = [cross_val_score(sgd.set_params(**param), PCA_X, y, n_jobs=1, cv=make_cv(X.shape[0])) for param in params]\n",
      "cv_scores = map(np.mean, scores)"
     ],
     "language": "python",
     "metadata": {},
     "outputs": [],
     "prompt_number": 4
    },
    {
     "cell_type": "code",
     "collapsed": false,
     "input": [
      "## different alpha values with similar accuracy meaning redunancies in the original feature space\n",
      "sorted_scores = sorted(zip(params, cv_scores), key = lambda (p,s): s, reverse=True)\n",
      "print sorted_scores[:10]\n",
      "sgd = linear_model.SGDClassifier(loss = 'hinge', penalty = 'elasticnet', n_jobs=-1, n_iter = 20, alpha=0.1, l1_ratio=1)\n",
      "sgd.fit(PCA_X, y)\n",
      "print 'sparse rate:', np.sum(abs(sgd.coef_) > 1e-3, axis = 1) * 1. / X.shape[1]"
     ],
     "language": "python",
     "metadata": {},
     "outputs": [
      {
       "output_type": "stream",
       "stream": "stdout",
       "text": [
        "[({'alpha': 0.10000000000000001, 'l1_ratio': 0.80000000000000004}, 0.16497635359910809), ({'alpha': 0.01, 'l1_ratio': 0.59999999999999998}, 0.16095736455017892), ({'alpha': 0.10000000000000001, 'l1_ratio': 0.70000000000000007}, 0.15795136453819089), ({'alpha': 0.001, 'l1_ratio': 0.30000000000000004}, 0.15696834559110007), ({'alpha': 0.01, 'l1_ratio': 0.80000000000000004}, 0.15299730868593145), ({'alpha': 9.9999999999999995e-07, 'l1_ratio': 0.10000000000000001}, 0.15198431964899031), ({'alpha': 0.001, 'l1_ratio': 0.40000000000000002}, 0.15098331864798931), ({'alpha': 0.001, 'l1_ratio': 0.10000000000000001}, 0.14999430568292846), ({'alpha': 0.01, 'l1_ratio': 0.5}, 0.14996133858409308), ({'alpha': 1.0, 'l1_ratio': 1.0}, 0.14995234755713796)]\n"
       ]
      },
      {
       "output_type": "stream",
       "stream": "stdout",
       "text": [
        "sparse rate: [ 0.00426667  0.0016      0.0032      0.00266667  0.0032      0.00213333\n",
        "  0.00533333  0.00106667  0.0048    ]\n"
       ]
      }
     ],
     "prompt_number": 5
    },
    {
     "cell_type": "code",
     "collapsed": false,
     "input": [
      "## based on experiments above, the linear models consistenly give UNDERFITTING results.\n",
      "## try some feature engineering methods, such as tri-kmeans\n",
      "def tri_kmeans(n_clusters, data):\n",
      "    from sklearn import cluster\n",
      "    import numpy as np\n",
      "    kmeans = cluster.KMeans(n_clusters=n_clusters, random_state = 0).fit(data)\n",
      "    dists_to_clusters = kmeans.transform(data)\n",
      "    meandist_per_clusters = np.mean(dists_to_clusters, axis = 0)\n",
      "    return np.apply_along_axis(lambda row: np.maximum(0, meandist_per_clusters-row), \n",
      "                                    1, dists_to_clusters)"
     ],
     "language": "python",
     "metadata": {},
     "outputs": [],
     "prompt_number": 34
    },
    {
     "cell_type": "code",
     "collapsed": false,
     "input": [
      "r = tri_kmeans(9, X[:,:1])\n",
      "r.shape"
     ],
     "language": "python",
     "metadata": {},
     "outputs": [
      {
       "output_type": "pyout",
       "prompt_number": 35,
       "text": [
        "(1000, 9)"
       ]
      }
     ],
     "prompt_number": 35
    },
    {
     "cell_type": "code",
     "collapsed": false,
     "input": [
      "batch_size = 2\n",
      "stride = 1\n",
      "n_samples, n_features = X.shape\n",
      "dv['X'] = preprocessing.StandardScaler().fit_transform(X) ## standization for KMeANS\n",
      "batches = [range(start, min(start+batch_size, n_features)) for start in range(n_features)[::stride]]\n",
      "dv.scatter('batches', batches)"
     ],
     "language": "python",
     "metadata": {},
     "outputs": [
      {
       "output_type": "pyout",
       "prompt_number": 124,
       "text": [
        "<AsyncResult: scatter>"
       ]
      }
     ],
     "prompt_number": 124
    },
    {
     "cell_type": "code",
     "collapsed": false,
     "input": [
      "%px print len(batches), len(batches[0]), batches[0]\n"
     ],
     "language": "python",
     "metadata": {},
     "outputs": [
      {
       "output_type": "stream",
       "stream": "stdout",
       "text": [
        "[stdout:0] 469 2 [0, 1]\n",
        "[stdout:1] 469 2 [469, 470]\n",
        "[stdout:2] 469 2 [938, 939]\n",
        "[stdout:3] 468 2 [1407, 1408]\n"
       ]
      }
     ],
     "prompt_number": 125
    },
    {
     "cell_type": "code",
     "collapsed": false,
     "input": [
      "%%px\n",
      "import numpy as np\n",
      "def tri_kmeans(n_clusters, data):\n",
      "    from sklearn import cluster\n",
      "    import numpy as np\n",
      "    kmeans = cluster.KMeans(n_clusters=n_clusters, random_state = 0).fit(data)\n",
      "    dists_to_clusters = kmeans.transform(data)\n",
      "    meandist_per_clusters = np.mean(dists_to_clusters, axis = 0)\n",
      "    return np.apply_along_axis(lambda row: np.maximum(0, meandist_per_clusters-row), \n",
      "                                    1, dists_to_clusters)\n",
      "kmeans_feats = [tri_kmeans(9, X[:,batch]) for batch in batches]\n",
      "print len(kmeans_feats)"
     ],
     "language": "python",
     "metadata": {},
     "outputs": [
      {
       "output_type": "stream",
       "stream": "stdout",
       "text": [
        "[stdout:0] 469\n",
        "[stdout:1] 469\n",
        "[stdout:2] 469\n",
        "[stdout:3] 468\n"
       ]
      }
     ],
     "prompt_number": 126
    },
    {
     "cell_type": "code",
     "collapsed": false,
     "input": [
      "result = dv.gather('kmeans_feats')\n",
      "result.ready()"
     ],
     "language": "python",
     "metadata": {},
     "outputs": [
      {
       "output_type": "pyout",
       "prompt_number": 127,
       "text": [
        "False"
       ]
      }
     ],
     "prompt_number": 127
    },
    {
     "cell_type": "code",
     "collapsed": false,
     "input": [
      "result.ready()"
     ],
     "language": "python",
     "metadata": {},
     "outputs": [
      {
       "output_type": "pyout",
       "prompt_number": 128,
       "text": [
        "True"
       ]
      }
     ],
     "prompt_number": 128
    },
    {
     "cell_type": "code",
     "collapsed": false,
     "input": [
      "kmeans_feats_from_batches = result.get()"
     ],
     "language": "python",
     "metadata": {},
     "outputs": [],
     "prompt_number": 129
    },
    {
     "cell_type": "code",
     "collapsed": false,
     "input": [
      "#kmeans_feats = sparse.coo_matrix(np.hstack(kmeans_feats_from_batches+[X]))\n",
      "kmeans_feats = sparse.coo_matrix(np.hstack(kmeans_feats_from_batches))\n",
      "print kmeans_feats.shape"
     ],
     "language": "python",
     "metadata": {},
     "outputs": [
      {
       "output_type": "stream",
       "stream": "stdout",
       "text": [
        "(1000, 16875)\n"
       ]
      }
     ],
     "prompt_number": 130
    },
    {
     "cell_type": "code",
     "collapsed": false,
     "input": [
      "## FIT a sgd on new features\n",
      "alphas = np.logspace(-6, 0, 7)\n",
      "l1_ratios = np.arange(0.1, 1.1, 0.2)\n",
      "sgd = linear_model.SGDClassifier(loss = 'hinge', penalty = 'elasticnet', n_jobs=1, n_iter = 20)\n",
      "params = [{'alpha': alpha, 'l1_ratio': l1_ratio} for alpha in alphas for l1_ratio in l1_ratios]\n",
      "scores = [cross_val_score(sgd.set_params(**param), kmeans_feats, y, n_jobs=-1, cv=make_cv(X.shape[0])) for param in params]\n",
      "cv_scores = map(np.mean, scores)"
     ],
     "language": "python",
     "metadata": {},
     "outputs": [],
     "prompt_number": 131
    },
    {
     "cell_type": "code",
     "collapsed": false,
     "input": [
      "sorted_scores = sorted(zip(params, cv_scores), key = lambda (p,s): s, reverse=True)\n",
      "print sorted_scores[:10]"
     ],
     "language": "python",
     "metadata": {},
     "outputs": [
      {
       "output_type": "stream",
       "stream": "stdout",
       "text": [
        "[({'alpha': 0.0001, 'l1_ratio': 0.90000000000000013}, 0.32699465932998867), ({'alpha': 9.9999999999999995e-07, 'l1_ratio': 0.50000000000000011}, 0.32698866531201859), ({'alpha': 9.9999999999999995e-07, 'l1_ratio': 0.10000000000000001}, 0.32497167826509143), ({'alpha': 0.0001, 'l1_ratio': 0.70000000000000007}, 0.32398266530003056), ({'alpha': 0.001, 'l1_ratio': 0.90000000000000013}, 0.32297567028105956), ({'alpha': 0.10000000000000001, 'l1_ratio': 0.90000000000000013}, 0.31999064933196669), ({'alpha': 0.0001, 'l1_ratio': 0.10000000000000001}, 0.31896567225908545), ({'alpha': 1.0000000000000001e-05, 'l1_ratio': 0.10000000000000001}, 0.31800662938387486), ({'alpha': 0.0001, 'l1_ratio': 0.50000000000000011}, 0.31499163834493177), ({'alpha': 1.0000000000000001e-05, 'l1_ratio': 0.30000000000000004}, 0.31498864133594678)]\n"
       ]
      }
     ],
     "prompt_number": 132
    },
    {
     "cell_type": "code",
     "collapsed": false,
     "input": [
      "sgd = linear_model.SGDClassifier(loss = 'hinge', penalty = 'elasticnet', \n",
      "                n_jobs=-1, n_iter = 20, alpha=1e-4, l1_ratio=0.9)\n",
      "sgd.fit(kmeans_feats, y)\n",
      "print 'score:', np.mean(cross_val_score(sgd, kmeans_feats, y, n_jobs=-1, cv = make_cv(X.shape[0])))\n",
      "print 'sparse rate:', np.sum(abs(sgd.coef_) > 1e-3, axis = 1) * 1. / kmeans_feats.shape[1]"
     ],
     "language": "python",
     "metadata": {},
     "outputs": [
      {
       "output_type": "stream",
       "stream": "stdout",
       "text": [
        "score:"
       ]
      },
      {
       "output_type": "stream",
       "stream": "stdout",
       "text": [
        " 0.32699465933\n",
        "sparse rate: [ 0.97522963  0.97528889  0.97131852  0.97078519  0.97511111  0.97108148\n",
        "  0.97125926  0.97214815  0.97137778]\n"
       ]
      }
     ],
     "prompt_number": 134
    },
    {
     "cell_type": "code",
     "collapsed": false,
     "input": [
      "## how about supervised features such as decision tree results?\n",
      "batch_size = 2\n",
      "stride = 1\n",
      "n_samples, n_features = X.shape\n",
      "dv['X'] = preprocessing.StandardScaler().fit_transform(X) ## standization for KMeANS\n",
      "dv['y'] = y\n",
      "batches = [range(start, min(start+batch_size, n_features)) for start in range(n_features)[::stride]]\n",
      "dv.scatter('batches', batches)"
     ],
     "language": "python",
     "metadata": {},
     "outputs": [
      {
       "output_type": "pyout",
       "prompt_number": 136,
       "text": [
        "<AsyncResult: scatter>"
       ]
      }
     ],
     "prompt_number": 136
    },
    {
     "cell_type": "code",
     "collapsed": false,
     "input": [
      "%%px\n",
      "import numpy as np\n",
      "def tree_model(n_clusters, X, y):\n",
      "    from sklearn import tree\n",
      "    import numpy as np\n",
      "    n_samples = X.shape[0]\n",
      "    ## use 1/3 data to train model\n",
      "    index = range(n_samples)\n",
      "    np.random.shuffle(index)\n",
      "    selected = index[:n_samples*1/3]\n",
      "    treemodel = tree.DecisionTreeClassifier(max_depth=5).fit(X[selected, :], y[selected])\n",
      "    probs = treemodel.predict_proba(X)\n",
      "    return probs\n",
      "tree_feats = [tree_model(9, X[:,batch], y) for batch in batches]\n",
      "print len(tree_feats)"
     ],
     "language": "python",
     "metadata": {},
     "outputs": [
      {
       "output_type": "stream",
       "stream": "stdout",
       "text": [
        "[stdout:0] 469\n",
        "[stdout:1] 469\n",
        "[stdout:2] 469\n",
        "[stdout:3] 468\n"
       ]
      }
     ],
     "prompt_number": 160
    },
    {
     "cell_type": "code",
     "collapsed": false,
     "input": [
      "result = dv.gather('tree_feats')\n",
      "result.ready()"
     ],
     "language": "python",
     "metadata": {},
     "outputs": [
      {
       "output_type": "pyout",
       "prompt_number": 161,
       "text": [
        "False"
       ]
      }
     ],
     "prompt_number": 161
    },
    {
     "cell_type": "code",
     "collapsed": false,
     "input": [
      "print result.ready()\n",
      "tree_feats_from_batches = result.get()"
     ],
     "language": "python",
     "metadata": {},
     "outputs": [
      {
       "output_type": "stream",
       "stream": "stdout",
       "text": [
        "True\n"
       ]
      }
     ],
     "prompt_number": 162
    },
    {
     "cell_type": "code",
     "collapsed": false,
     "input": [
      "tree_feats = sparse.coo_matrix(np.hstack(tree_feats_from_batches))\n",
      "print tree_feats.shape"
     ],
     "language": "python",
     "metadata": {},
     "outputs": [
      {
       "output_type": "stream",
       "stream": "stdout",
       "text": [
        "(1000, 16875)\n"
       ]
      }
     ],
     "prompt_number": 163
    },
    {
     "cell_type": "code",
     "collapsed": false,
     "input": [
      "alphas = np.logspace(-6, 0, 7)\n",
      "l1_ratios = np.arange(0.1, 1.1, 0.2)\n",
      "sgd = linear_model.SGDClassifier(loss = 'hinge', penalty = 'elasticnet', n_jobs=1, n_iter = 20)\n",
      "params = [{'alpha': alpha, 'l1_ratio': l1_ratio} for alpha in alphas for l1_ratio in l1_ratios]\n",
      "scores = [cross_val_score(sgd.set_params(**param), tree_feats, y, n_jobs=-1, cv=make_cv(X.shape[0])) for param in params]\n",
      "cv_scores = map(np.mean, scores)"
     ],
     "language": "python",
     "metadata": {},
     "outputs": [],
     "prompt_number": 164
    },
    {
     "cell_type": "code",
     "collapsed": false,
     "input": [
      "sorted_scores = sorted(zip(params, cv_scores), key = lambda (p,s): s, reverse=True)\n",
      "print sorted_scores[:10]"
     ],
     "language": "python",
     "metadata": {},
     "outputs": [
      {
       "output_type": "stream",
       "stream": "stdout",
       "text": [
        "[({'alpha': 0.001, 'l1_ratio': 0.90000000000000013}, 0.94298789807771843), ({'alpha': 0.001, 'l1_ratio': 0.70000000000000007}, 0.93100885316454185), ({'alpha': 0.01, 'l1_ratio': 0.90000000000000013}, 0.92500884117650584), ({'alpha': 0.001, 'l1_ratio': 0.50000000000000011}, 0.91599683515851182), ({'alpha': 0.001, 'l1_ratio': 0.10000000000000001}, 0.91599084114054163), ({'alpha': 0.001, 'l1_ratio': 0.30000000000000004}, 0.90899282516048974), ({'alpha': 0.0001, 'l1_ratio': 0.10000000000000001}, 0.84600768433103768), ({'alpha': 0.0001, 'l1_ratio': 0.30000000000000004}, 0.84502766239293192), ({'alpha': 0.0001, 'l1_ratio': 0.50000000000000011}, 0.83000365635096174), ({'alpha': 9.9999999999999995e-07, 'l1_ratio': 0.70000000000000007}, 0.82294570019120916)]\n"
       ]
      }
     ],
     "prompt_number": 168
    },
    {
     "cell_type": "code",
     "collapsed": false,
     "input": [
      "sgd = linear_model.SGDClassifier(loss = 'hinge', penalty = 'elasticnet', \n",
      "                n_jobs=-1, n_iter = 20, alpha=1e-3, l1_ratio=0.9)\n",
      "sgd.fit(kmeans_feats, y)\n",
      "print 'score:', np.mean(cross_val_score(sgd, tree_feats, y, n_jobs=-1, cv = make_cv(X.shape[0])))\n",
      "print 'sparse rate:', np.sum(abs(sgd.coef_) > 1e-3, axis = 1) * 1. / tree_feats.shape[1]"
     ],
     "language": "python",
     "metadata": {},
     "outputs": [
      {
       "output_type": "stream",
       "stream": "stdout",
       "text": [
        "score:"
       ]
      },
      {
       "output_type": "stream",
       "stream": "stdout",
       "text": [
        " 0.942987898078\n",
        "sparse rate: [ 0.81167407  0.82524444  0.80379259  0.79288889  0.78222222  0.77943704\n",
        "  0.77866667  0.77386667  0.76248889]\n"
       ]
      }
     ],
     "prompt_number": 170
    },
    {
     "cell_type": "markdown",
     "metadata": {},
     "source": [
      "***As a comparison, try SVM-RBF and RandomForest***"
     ]
    },
    {
     "cell_type": "code",
     "collapsed": false,
     "input": [
      "from sklearn import ensemble\n",
      "forest = ensemble.RandomForestClassifier(n_estimators=500, n_jobs=-1, random_state=0)\n",
      "scores = cross_val_score(forest, X,y, cv=make_cv(X.shape[0]))\n",
      "print 'cv score:', np.mean(scores)"
     ],
     "language": "python",
     "metadata": {},
     "outputs": [
      {
       "output_type": "stream",
       "stream": "stdout",
       "text": [
        "cv score: 0.313981646317\n"
       ]
      }
     ],
     "prompt_number": 174
    },
    {
     "cell_type": "code",
     "collapsed": false,
     "input": [
      "from sklearn import svm\n",
      "scaled_X = preprocessing.StandardScaler().fit_transform(X)\n",
      "svc = svm.SVC()\n",
      "Cs = np.logspace(-5, -1, 5)\n",
      "gammas = np.logspace(-5, -1, 5)\n",
      "params = [{'C': C, 'gamma': gamma} for C in Cs for gamma in gammas]\n",
      "scores = [cross_val_score(svc.set_params(**param), scaled_X, y, cv=make_cv(scaled_X.shape[0], n_jobs=-1))\n",
      "            for param in params]\n",
      "cv_scores = map(np.mean, scores)"
     ],
     "language": "python",
     "metadata": {},
     "outputs": [],
     "prompt_number": 177
    },
    {
     "cell_type": "code",
     "collapsed": false,
     "input": [
      "sorted_scores = sorted(zip(params, cv_scores), key=lambda (p,s):s, reverse=True)\n",
      "print sorted_scores[:10]"
     ],
     "language": "python",
     "metadata": {},
     "outputs": [
      {
       "output_type": "stream",
       "stream": "stdout",
       "text": [
        "[({'C': 1.0000000000000001e-05, 'gamma': 1.0000000000000001e-05}, 0.19799140457823092), ({'C': 1.0000000000000001e-05, 'gamma': 0.0001}, 0.19799140457823092), ({'C': 1.0000000000000001e-05, 'gamma': 0.001}, 0.19799140457823092), ({'C': 1.0000000000000001e-05, 'gamma': 0.01}, 0.19799140457823092), ({'C': 1.0000000000000001e-05, 'gamma': 0.10000000000000001}, 0.19799140457823092), ({'C': 0.0001, 'gamma': 1.0000000000000001e-05}, 0.19799140457823092), ({'C': 0.0001, 'gamma': 0.0001}, 0.19799140457823092), ({'C': 0.0001, 'gamma': 0.001}, 0.19799140457823092), ({'C': 0.0001, 'gamma': 0.01}, 0.19799140457823092), ({'C': 0.0001, 'gamma': 0.10000000000000001}, 0.19799140457823092)]\n"
       ]
      }
     ],
     "prompt_number": 179
    },
    {
     "cell_type": "markdown",
     "metadata": {},
     "source": [
      "***It seems that good representations of features go a longer way than fancy classifiers***\n",
      "\n",
      "***Another promising things are ensemble, which will be covered in other notebooks***"
     ]
    },
    {
     "cell_type": "code",
     "collapsed": false,
     "input": [],
     "language": "python",
     "metadata": {},
     "outputs": []
    }
   ],
   "metadata": {}
  }
 ]
}