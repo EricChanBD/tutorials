{
 "metadata": {
  "name": "TEST_theanoml_autoencoder"
 },
 "nbformat": 3,
 "nbformat_minor": 0,
 "worksheets": [
  {
   "cells": [
    {
     "cell_type": "code",
     "collapsed": false,
     "input": [
      "import theanoml\n",
      "reload(theanoml)"
     ],
     "language": "python",
     "metadata": {},
     "outputs": [
      {
       "output_type": "pyout",
       "prompt_number": 2,
       "text": [
        "<module 'theanoml' from 'theanoml/__init__.pyc'>"
       ]
      }
     ],
     "prompt_number": 2
    },
    {
     "cell_type": "code",
     "collapsed": false,
     "input": [
      "import cPickle\n",
      "import numpy as np\n",
      "X, y = cPickle.load(open('data/blackbox.pkl', 'rb'))\n",
      "y = y - 1\n",
      "classes = np.unique(y)\n",
      "print X.shape, y.shape, classes"
     ],
     "language": "python",
     "metadata": {},
     "outputs": [
      {
       "output_type": "stream",
       "stream": "stdout",
       "text": [
        "(1000, 1875) (1000,) [0 1 2 3 4 5 6 7 8]\n"
       ]
      }
     ],
     "prompt_number": 6
    },
    {
     "cell_type": "code",
     "collapsed": false,
     "input": [
      "reload(theanoml.autoencoder)\n",
      "ac = theanoml.autoencoder.ContractiveAutoEncoder(n_epochs=5)\n",
      "ac.fit(X)\n",
      "print ac.transform(X).shape"
     ],
     "language": "python",
     "metadata": {},
     "outputs": [
      {
       "output_type": "stream",
       "stream": "stdout",
       "text": [
        "training epoch 0, recall cost -849.060751, jacobian norm 13.992968 \n",
        "training epoch 1, recall cost -2802.754321, jacobian norm 8.055183 "
       ]
      },
      {
       "output_type": "stream",
       "stream": "stdout",
       "text": [
        "\n",
        "training epoch 2, recall cost -4695.691037, jacobian norm 7.194211 "
       ]
      },
      {
       "output_type": "stream",
       "stream": "stdout",
       "text": [
        "\n",
        "training epoch 3, recall cost -6594.667194, jacobian norm 7.036029 "
       ]
      },
      {
       "output_type": "stream",
       "stream": "stdout",
       "text": [
        "\n",
        "training epoch 4, recall cost -8497.628880, jacobian norm 7.056526 "
       ]
      },
      {
       "output_type": "stream",
       "stream": "stdout",
       "text": [
        "\n",
        "(1000, 500)"
       ]
      },
      {
       "output_type": "stream",
       "stream": "stdout",
       "text": [
        "\n"
       ]
      }
     ],
     "prompt_number": 17
    },
    {
     "cell_type": "code",
     "collapsed": false,
     "input": [
      "## TEST the usage of auto encoder for classification\n",
      "from sklearn.cross_validation import train_test_split\n",
      "from sklearn.linear_model import SGDClassifier\n",
      "train_X, validation_X, train_y, validation_y = train_test_split(X, y, test_size = 0.2)\n",
      "ac = theanoml.autoencoder.ContractiveAutoEncoder(n_hidden=30, n_epochs=20)\n",
      "train_feats = ac.fit_transform(train_X)\n",
      "validation_feats = ac.transform(validation_X)"
     ],
     "language": "python",
     "metadata": {},
     "outputs": [
      {
       "output_type": "stream",
       "stream": "stdout",
       "text": [
        "training epoch 0, recall cost 476.645407, jacobian norm 4.681733 \n",
        "training epoch 1, recall cost 14.027688, jacobian norm 3.289539 "
       ]
      },
      {
       "output_type": "stream",
       "stream": "stdout",
       "text": [
        "\n",
        "training epoch 2, recall cost -90.244442, jacobian norm 2.657105 "
       ]
      },
      {
       "output_type": "stream",
       "stream": "stdout",
       "text": [
        "\n",
        "training epoch 3, recall cost -164.507657, jacobian norm 2.406710 "
       ]
      },
      {
       "output_type": "stream",
       "stream": "stdout",
       "text": [
        "\n",
        "training epoch 4, recall cost -230.283821, jacobian norm 2.276993 "
       ]
      },
      {
       "output_type": "stream",
       "stream": "stdout",
       "text": [
        "\n",
        "training epoch 5, recall cost -292.250350, jacobian norm 2.213452 "
       ]
      },
      {
       "output_type": "stream",
       "stream": "stdout",
       "text": [
        "\n",
        "training epoch 6, recall cost -352.105889, jacobian norm 2.194810 "
       ]
      },
      {
       "output_type": "stream",
       "stream": "stdout",
       "text": [
        "\n",
        "training epoch 7, recall cost -410.644326, jacobian norm 2.205455 "
       ]
      },
      {
       "output_type": "stream",
       "stream": "stdout",
       "text": [
        "\n",
        "training epoch 8, recall cost -468.304242, jacobian norm 2.232238 "
       ]
      },
      {
       "output_type": "stream",
       "stream": "stdout",
       "text": [
        "\n",
        "training epoch 9, recall cost -525.362003, jacobian norm 2.266679 "
       ]
      },
      {
       "output_type": "stream",
       "stream": "stdout",
       "text": [
        "\n",
        "training epoch 10, recall cost -582.003672, jacobian norm 2.314288 "
       ]
      },
      {
       "output_type": "stream",
       "stream": "stdout",
       "text": [
        "\n",
        "training epoch 11, recall cost -638.439235, jacobian norm 2.401011 "
       ]
      },
      {
       "output_type": "stream",
       "stream": "stdout",
       "text": [
        "\n",
        "training epoch 12, recall cost -696.047110, jacobian norm 2.483132 "
       ]
      },
      {
       "output_type": "stream",
       "stream": "stdout",
       "text": [
        "\n",
        "training epoch 13, recall cost -757.438223, jacobian norm 2.354869 "
       ]
      },
      {
       "output_type": "stream",
       "stream": "stdout",
       "text": [
        "\n",
        "training epoch 14, recall cost -820.179041, jacobian norm 2.380072 "
       ]
      },
      {
       "output_type": "stream",
       "stream": "stdout",
       "text": [
        "\n",
        "training epoch 15, recall cost -883.510090, jacobian norm 2.385015 "
       ]
      },
      {
       "output_type": "stream",
       "stream": "stdout",
       "text": [
        "\n",
        "training epoch 16, recall cost -948.505946, jacobian norm 2.352132 "
       ]
      },
      {
       "output_type": "stream",
       "stream": "stdout",
       "text": [
        "\n",
        "training epoch 17, recall cost -1015.688002, jacobian norm 2.354862 "
       ]
      },
      {
       "output_type": "stream",
       "stream": "stdout",
       "text": [
        "\n",
        "training epoch 18, recall cost -1084.425575, jacobian norm 2.253073 "
       ]
      },
      {
       "output_type": "stream",
       "stream": "stdout",
       "text": [
        "\n",
        "training epoch 19, recall cost -1153.316730, jacobian norm 2.145609 "
       ]
      },
      {
       "output_type": "stream",
       "stream": "stdout",
       "text": [
        "\n"
       ]
      }
     ],
     "prompt_number": 21
    },
    {
     "cell_type": "code",
     "collapsed": false,
     "input": [
      "sgd = SGDClassifier()\n",
      "sgd.fit(train_feats, train_y)\n",
      "print sgd.score(train_feats, train_y)\n",
      "print sgd.score(validation_feats, validation_y)"
     ],
     "language": "python",
     "metadata": {},
     "outputs": [
      {
       "output_type": "stream",
       "stream": "stdout",
       "text": [
        "0.08375\n",
        "0.075\n"
       ]
      }
     ],
     "prompt_number": 22
    },
    {
     "cell_type": "code",
     "collapsed": false,
     "input": [],
     "language": "python",
     "metadata": {},
     "outputs": []
    }
   ],
   "metadata": {}
  }
 ]
}