{
 "metadata": {
  "name": ""
 },
 "nbformat": 3,
 "nbformat_minor": 0,
 "worksheets": [
  {
   "cells": [
    {
     "cell_type": "markdown",
     "metadata": {},
     "source": [
      "## Introduction to HDF5 (v.s. a database system)\n",
      "- a **database** handles efficiently *large numbers of transactions consisting of small pieces of data*. **HDF5** handles one or only *a few transactions consissting of large amounts of data*. It is important to identify the right tool for the right task. [source](http://dpservis.wordpress.com/tag/hdf5/)\n",
      "- **Pros** and **Cons** of HDF5\n",
      "    - PROS\n",
      "        1. HDF5 operates on single local files that can be transferred using OS commands.\n",
      "        2. HDF5 provides the means to arrange information in a hierarchical tree and access it randomly independently of the application that generated the information.\n",
      "        3. HDF5 provides a dynamic mapping paradigm.\n",
      "        4. Performance-wise, it is often faster than native calls.\n",
      "    - CONS\n",
      "        1. It is an open format and self describing, therefore making the data transparent and completely open. This could be a drawback for proprietary applications. Actually it is one of the major ones.\n",
      "        2. There is no simultaneous access support at the dataset level. This means that it is not possible to write to the same dataset from multiple clients and read from multiple clients at the same time.\n",
      "        3. Locking/unlocking, journaling, composing transactions are things that are either not implemented yet or lie completely on the application side."
     ]
    },
    {
     "cell_type": "code",
     "collapsed": false,
     "input": [
      "import pandas as pd\n",
      "from StringIO import StringIO\n",
      "from IPython.core.display import display\n",
      "%pylab inline"
     ],
     "language": "python",
     "metadata": {},
     "outputs": [
      {
       "output_type": "stream",
       "stream": "stdout",
       "text": [
        "Populating the interactive namespace from numpy and matplotlib\n"
       ]
      }
     ],
     "prompt_number": 7
    },
    {
     "cell_type": "markdown",
     "metadata": {},
     "source": [
      "## Reader and Writer\n",
      "- Pandas readers is a set of read_xx() functions that generally return a pandas object.\n",
      "- The corresponding writer functions are object methods that are accessed like df.to_xxx()\n",
      "- main list of readers and writers\n",
      "    - read_csv, to_csv (read_table, to_table)\n",
      "    - read_json, to_json\n",
      "    - read_html, to_html\n",
      "    - read_pickle, to_pickle\n",
      "    - read_clipboard, to_clipboard\n",
      "    - read_excel, to_excel\n",
      "    - read_hdf, to_hdf\n",
      "    - read_sql, to_sql\n",
      "    - read_stata, to_stata"
     ]
    },
    {
     "cell_type": "markdown",
     "metadata": {},
     "source": [
      "## CSV and Text Files"
     ]
    },
    {
     "cell_type": "code",
     "collapsed": false,
     "input": [
      "## Specifying index column\n",
      "foo_csv = StringIO(\"\"\"date,A,B,C\n",
      "20090101,a,1,2\n",
      "20090102,b,3,4\n",
      "20090103,c,4,5\n",
      "\"\"\")\n",
      "print '>> Without specifying index column'\n",
      "foo_csv.seek(0)\n",
      "display( pd.read_csv(foo_csv))\n",
      "print '>> index column = 0, COLUMN INDEXING starts with 0'\n",
      "foo_csv.seek(0)\n",
      "display( pd.read_csv(foo_csv, index_col=0))\n",
      "print '>> index column = date'\n",
      "foo_csv.seek(0)\n",
      "display( pd.read_csv(foo_csv, index_col='date'))\n",
      "print '>> parsing index column date date'\n",
      "foo_csv.seek(0)\n",
      "display( pd.read_csv(foo_csv, index_col='date', parse_dates='date'))\n",
      "print \">> hierachical index = [0, 'A']\"\n",
      "foo_csv.seek(0)\n",
      "display( pd.read_csv(foo_csv, index_col = [0, 'A'], \n",
      "                    parse_dates = 0))"
     ],
     "language": "python",
     "metadata": {},
     "outputs": [
      {
       "output_type": "stream",
       "stream": "stdout",
       "text": [
        ">> Without specifying index column\n"
       ]
      },
      {
       "html": [
        "<div style=\"max-height:1000px;max-width:1500px;overflow:auto;\">\n",
        "<table border=\"1\" class=\"dataframe\">\n",
        "  <thead>\n",
        "    <tr style=\"text-align: right;\">\n",
        "      <th></th>\n",
        "      <th>date</th>\n",
        "      <th>A</th>\n",
        "      <th>B</th>\n",
        "      <th>C</th>\n",
        "    </tr>\n",
        "  </thead>\n",
        "  <tbody>\n",
        "    <tr>\n",
        "      <th>0</th>\n",
        "      <td> 20090101</td>\n",
        "      <td> a</td>\n",
        "      <td> 1</td>\n",
        "      <td> 2</td>\n",
        "    </tr>\n",
        "    <tr>\n",
        "      <th>1</th>\n",
        "      <td> 20090102</td>\n",
        "      <td> b</td>\n",
        "      <td> 3</td>\n",
        "      <td> 4</td>\n",
        "    </tr>\n",
        "    <tr>\n",
        "      <th>2</th>\n",
        "      <td> 20090103</td>\n",
        "      <td> c</td>\n",
        "      <td> 4</td>\n",
        "      <td> 5</td>\n",
        "    </tr>\n",
        "  </tbody>\n",
        "</table>\n",
        "</div>"
       ],
       "metadata": {},
       "output_type": "display_data",
       "text": [
        "       date  A  B  C\n",
        "0  20090101  a  1  2\n",
        "1  20090102  b  3  4\n",
        "2  20090103  c  4  5"
       ]
      },
      {
       "output_type": "stream",
       "stream": "stdout",
       "text": [
        ">> index column = 0, COLUMN INDEXING starts with 0\n"
       ]
      },
      {
       "html": [
        "<div style=\"max-height:1000px;max-width:1500px;overflow:auto;\">\n",
        "<table border=\"1\" class=\"dataframe\">\n",
        "  <thead>\n",
        "    <tr style=\"text-align: right;\">\n",
        "      <th></th>\n",
        "      <th>A</th>\n",
        "      <th>B</th>\n",
        "      <th>C</th>\n",
        "    </tr>\n",
        "    <tr>\n",
        "      <th>date</th>\n",
        "      <th></th>\n",
        "      <th></th>\n",
        "      <th></th>\n",
        "    </tr>\n",
        "  </thead>\n",
        "  <tbody>\n",
        "    <tr>\n",
        "      <th>20090101</th>\n",
        "      <td> a</td>\n",
        "      <td> 1</td>\n",
        "      <td> 2</td>\n",
        "    </tr>\n",
        "    <tr>\n",
        "      <th>20090102</th>\n",
        "      <td> b</td>\n",
        "      <td> 3</td>\n",
        "      <td> 4</td>\n",
        "    </tr>\n",
        "    <tr>\n",
        "      <th>20090103</th>\n",
        "      <td> c</td>\n",
        "      <td> 4</td>\n",
        "      <td> 5</td>\n",
        "    </tr>\n",
        "  </tbody>\n",
        "</table>\n",
        "</div>"
       ],
       "metadata": {},
       "output_type": "display_data",
       "text": [
        "          A  B  C\n",
        "date             \n",
        "20090101  a  1  2\n",
        "20090102  b  3  4\n",
        "20090103  c  4  5"
       ]
      },
      {
       "output_type": "stream",
       "stream": "stdout",
       "text": [
        ">> index column = date\n"
       ]
      },
      {
       "html": [
        "<div style=\"max-height:1000px;max-width:1500px;overflow:auto;\">\n",
        "<table border=\"1\" class=\"dataframe\">\n",
        "  <thead>\n",
        "    <tr style=\"text-align: right;\">\n",
        "      <th></th>\n",
        "      <th>A</th>\n",
        "      <th>B</th>\n",
        "      <th>C</th>\n",
        "    </tr>\n",
        "    <tr>\n",
        "      <th>date</th>\n",
        "      <th></th>\n",
        "      <th></th>\n",
        "      <th></th>\n",
        "    </tr>\n",
        "  </thead>\n",
        "  <tbody>\n",
        "    <tr>\n",
        "      <th>20090101</th>\n",
        "      <td> a</td>\n",
        "      <td> 1</td>\n",
        "      <td> 2</td>\n",
        "    </tr>\n",
        "    <tr>\n",
        "      <th>20090102</th>\n",
        "      <td> b</td>\n",
        "      <td> 3</td>\n",
        "      <td> 4</td>\n",
        "    </tr>\n",
        "    <tr>\n",
        "      <th>20090103</th>\n",
        "      <td> c</td>\n",
        "      <td> 4</td>\n",
        "      <td> 5</td>\n",
        "    </tr>\n",
        "  </tbody>\n",
        "</table>\n",
        "</div>"
       ],
       "metadata": {},
       "output_type": "display_data",
       "text": [
        "          A  B  C\n",
        "date             \n",
        "20090101  a  1  2\n",
        "20090102  b  3  4\n",
        "20090103  c  4  5"
       ]
      },
      {
       "output_type": "stream",
       "stream": "stdout",
       "text": [
        ">> parsing index column date date\n"
       ]
      },
      {
       "html": [
        "<div style=\"max-height:1000px;max-width:1500px;overflow:auto;\">\n",
        "<table border=\"1\" class=\"dataframe\">\n",
        "  <thead>\n",
        "    <tr style=\"text-align: right;\">\n",
        "      <th></th>\n",
        "      <th>A</th>\n",
        "      <th>B</th>\n",
        "      <th>C</th>\n",
        "    </tr>\n",
        "    <tr>\n",
        "      <th>date</th>\n",
        "      <th></th>\n",
        "      <th></th>\n",
        "      <th></th>\n",
        "    </tr>\n",
        "  </thead>\n",
        "  <tbody>\n",
        "    <tr>\n",
        "      <th>2009-01-01</th>\n",
        "      <td> a</td>\n",
        "      <td> 1</td>\n",
        "      <td> 2</td>\n",
        "    </tr>\n",
        "    <tr>\n",
        "      <th>2009-01-02</th>\n",
        "      <td> b</td>\n",
        "      <td> 3</td>\n",
        "      <td> 4</td>\n",
        "    </tr>\n",
        "    <tr>\n",
        "      <th>2009-01-03</th>\n",
        "      <td> c</td>\n",
        "      <td> 4</td>\n",
        "      <td> 5</td>\n",
        "    </tr>\n",
        "  </tbody>\n",
        "</table>\n",
        "</div>"
       ],
       "metadata": {},
       "output_type": "display_data",
       "text": [
        "            A  B  C\n",
        "date               \n",
        "2009-01-01  a  1  2\n",
        "2009-01-02  b  3  4\n",
        "2009-01-03  c  4  5"
       ]
      },
      {
       "output_type": "stream",
       "stream": "stdout",
       "text": [
        ">> hierachical index = [0, 'A']\n"
       ]
      },
      {
       "html": [
        "<div style=\"max-height:1000px;max-width:1500px;overflow:auto;\">\n",
        "<table border=\"1\" class=\"dataframe\">\n",
        "  <thead>\n",
        "    <tr style=\"text-align: right;\">\n",
        "      <th></th>\n",
        "      <th></th>\n",
        "      <th>B</th>\n",
        "      <th>C</th>\n",
        "    </tr>\n",
        "    <tr>\n",
        "      <th>date</th>\n",
        "      <th>A</th>\n",
        "      <th></th>\n",
        "      <th></th>\n",
        "    </tr>\n",
        "  </thead>\n",
        "  <tbody>\n",
        "    <tr>\n",
        "      <th>2009-01-01</th>\n",
        "      <th>a</th>\n",
        "      <td> 1</td>\n",
        "      <td> 2</td>\n",
        "    </tr>\n",
        "    <tr>\n",
        "      <th>2009-01-02</th>\n",
        "      <th>b</th>\n",
        "      <td> 3</td>\n",
        "      <td> 4</td>\n",
        "    </tr>\n",
        "    <tr>\n",
        "      <th>2009-01-03</th>\n",
        "      <th>c</th>\n",
        "      <td> 4</td>\n",
        "      <td> 5</td>\n",
        "    </tr>\n",
        "  </tbody>\n",
        "</table>\n",
        "</div>"
       ],
       "metadata": {},
       "output_type": "display_data",
       "text": [
        "              B  C\n",
        "date       A      \n",
        "2009-01-01 a  1  2\n",
        "2009-01-02 b  3  4\n",
        "2009-01-03 c  4  5"
       ]
      }
     ],
     "prompt_number": 18
    },
    {
     "cell_type": "code",
     "collapsed": false,
     "input": [
      "## Speaking different CSV dialects\n",
      "## Use dialect keyword to specify the file format, by default\n",
      "## it uses Excel dialect but you can specify either the \n",
      "## dialect name or a csv.Dialect instace\n",
      "data = \"\"\"label1,label2,label3\n",
      "index1,\"a,c,e\n",
      "index2,b,d,f\n",
      "\"\"\"\n",
      "## By default, read_csv uses the excel dialect and treats \n",
      "## the double quote \"\" as the quote character, which causes\n",
      "## it to fail when it finds a newline before it finds the \n",
      "## closing double quote.\n",
      "try:\n",
      "    pd.read_csv(StringIO(data))\n",
      "except:\n",
      "    print 'CParserError raised'\n",
      "    \n",
      "## we can get around this by using dialect\n",
      "import csv\n",
      "dia = csv.excel()\n",
      "dia.quoting = csv.QUOTE_NONE\n",
      "display(pd.read_csv(StringIO(data), dialect = dia))\n",
      "\n",
      "## equivalently\n",
      "display(pd.read_csv(StringIO(data), quoting=csv.QUOTE_NONE))\n",
      "\n",
      "## THINGS TO NOTE: all of dialect options can be specified\n",
      "## separately by keyword arguments including\n",
      "## *thousands* (specifies the thousands separator), \n",
      "## *lineterminator* (str of len 1, char to break files into lines)\n",
      "## *quotechar* (str, the char to denote start/end of a quote item), \n",
      "##     Quoted items can include the delimiter and it will be ignored (main purpose of quoting)\n",
      "## *quoting* (int, csv.QUOTE_MINIMAL, csv.QUOTE_ALL, csv.QUOTE_NONE, csv.QUOTE_NONNUMERIC)\n",
      "## *skipinitialspace* (default=false, ignore spaces after delimiter)\n",
      "## *escapechar* (str specifying how to escape quoted data)\n",
      "## *comment* ()\n",
      "## *encoding* (e.g., 'utf-8' or 'latin-1')\n",
      "## LOOK UP csv.Dialect document for details\n",
      "## e.g.\n",
      "data = 'a, b, c~1, 2, 3~4, 5, 6' #extra whitespace, new liner\n",
      "display(pd.read_csv(StringIO(data), lineterminator='~', \n",
      "                    skipinitialspace=True))"
     ],
     "language": "python",
     "metadata": {},
     "outputs": [
      {
       "output_type": "stream",
       "stream": "stdout",
       "text": [
        "CParserError raised\n"
       ]
      },
      {
       "html": [
        "<div style=\"max-height:1000px;max-width:1500px;overflow:auto;\">\n",
        "<table border=\"1\" class=\"dataframe\">\n",
        "  <thead>\n",
        "    <tr style=\"text-align: right;\">\n",
        "      <th></th>\n",
        "      <th>label1</th>\n",
        "      <th>label2</th>\n",
        "      <th>label3</th>\n",
        "    </tr>\n",
        "  </thead>\n",
        "  <tbody>\n",
        "    <tr>\n",
        "      <th>index1</th>\n",
        "      <td> \"a</td>\n",
        "      <td> c</td>\n",
        "      <td> e</td>\n",
        "    </tr>\n",
        "    <tr>\n",
        "      <th>index2</th>\n",
        "      <td>  b</td>\n",
        "      <td> d</td>\n",
        "      <td> f</td>\n",
        "    </tr>\n",
        "  </tbody>\n",
        "</table>\n",
        "</div>"
       ],
       "metadata": {},
       "output_type": "display_data",
       "text": [
        "       label1 label2 label3\n",
        "index1     \"a      c      e\n",
        "index2      b      d      f"
       ]
      },
      {
       "html": [
        "<div style=\"max-height:1000px;max-width:1500px;overflow:auto;\">\n",
        "<table border=\"1\" class=\"dataframe\">\n",
        "  <thead>\n",
        "    <tr style=\"text-align: right;\">\n",
        "      <th></th>\n",
        "      <th>label1</th>\n",
        "      <th>label2</th>\n",
        "      <th>label3</th>\n",
        "    </tr>\n",
        "  </thead>\n",
        "  <tbody>\n",
        "    <tr>\n",
        "      <th>index1</th>\n",
        "      <td> \"a</td>\n",
        "      <td> c</td>\n",
        "      <td> e</td>\n",
        "    </tr>\n",
        "    <tr>\n",
        "      <th>index2</th>\n",
        "      <td>  b</td>\n",
        "      <td> d</td>\n",
        "      <td> f</td>\n",
        "    </tr>\n",
        "  </tbody>\n",
        "</table>\n",
        "</div>"
       ],
       "metadata": {},
       "output_type": "display_data",
       "text": [
        "       label1 label2 label3\n",
        "index1     \"a      c      e\n",
        "index2      b      d      f"
       ]
      },
      {
       "html": [
        "<div style=\"max-height:1000px;max-width:1500px;overflow:auto;\">\n",
        "<table border=\"1\" class=\"dataframe\">\n",
        "  <thead>\n",
        "    <tr style=\"text-align: right;\">\n",
        "      <th></th>\n",
        "      <th>a</th>\n",
        "      <th>b</th>\n",
        "      <th>c</th>\n",
        "    </tr>\n",
        "  </thead>\n",
        "  <tbody>\n",
        "    <tr>\n",
        "      <th>0</th>\n",
        "      <td> 1</td>\n",
        "      <td> 2</td>\n",
        "      <td> 3</td>\n",
        "    </tr>\n",
        "    <tr>\n",
        "      <th>1</th>\n",
        "      <td> 4</td>\n",
        "      <td> 5</td>\n",
        "      <td> 6</td>\n",
        "    </tr>\n",
        "  </tbody>\n",
        "</table>\n",
        "</div>"
       ],
       "metadata": {},
       "output_type": "display_data",
       "text": [
        "   a  b  c\n",
        "0  1  2  3\n",
        "1  4  5  6"
       ]
      }
     ],
     "prompt_number": 33
    },
    {
     "cell_type": "code",
     "collapsed": false,
     "input": [
      "## Specifying column data types\n",
      "## You can indicate the data type for the whole df\n",
      "## or individual columns\n",
      "data = 'a,b,c\\n1,2,3\\n4,5,6\\n7,8,9'\n",
      "print pd.read_csv(StringIO(data)).dtypes\n",
      "print pd.read_csv(StringIO(data), dtype='object').dtypes\n",
      "print pd.read_csv(StringIO(data), \n",
      "                  dtype = {'a':'str', 'b':'float'}).dtypes\n",
      "## strings are objects in numpy"
     ],
     "language": "python",
     "metadata": {},
     "outputs": [
      {
       "output_type": "stream",
       "stream": "stdout",
       "text": [
        "a    int64\n",
        "b    int64\n",
        "c    int64\n",
        "dtype: object\n",
        "a    object\n",
        "b    object\n",
        "c    object\n",
        "dtype: object\n",
        "a     object\n",
        "b    float64\n",
        "c      int64\n",
        "dtype: object\n"
       ]
      }
     ],
     "prompt_number": 39
    },
    {
     "cell_type": "code",
     "collapsed": false,
     "input": [
      "## Overwrite header names by specifying 'names' param\n",
      "## you can choose to keep or throw away original headers\n",
      "## by specifying 'header' param\n",
      "data = \"\"\"a,b,c\n",
      "1,2,3\n",
      "4,5,6\n",
      "7,8,9\n",
      "\"\"\"\n",
      "display(pd.read_csv(StringIO(data)))\n",
      "display(pd.read_csv(StringIO(data), names = list(\"ABC\"), header = None))\n",
      "display(pd.read_csv(StringIO(data), names = list(\"ABC\"), header = 0))"
     ],
     "language": "python",
     "metadata": {},
     "outputs": [
      {
       "html": [
        "<div style=\"max-height:1000px;max-width:1500px;overflow:auto;\">\n",
        "<table border=\"1\" class=\"dataframe\">\n",
        "  <thead>\n",
        "    <tr style=\"text-align: right;\">\n",
        "      <th></th>\n",
        "      <th>a</th>\n",
        "      <th>b</th>\n",
        "      <th>c</th>\n",
        "    </tr>\n",
        "  </thead>\n",
        "  <tbody>\n",
        "    <tr>\n",
        "      <th>0</th>\n",
        "      <td> 1</td>\n",
        "      <td> 2</td>\n",
        "      <td> 3</td>\n",
        "    </tr>\n",
        "    <tr>\n",
        "      <th>1</th>\n",
        "      <td> 4</td>\n",
        "      <td> 5</td>\n",
        "      <td> 6</td>\n",
        "    </tr>\n",
        "    <tr>\n",
        "      <th>2</th>\n",
        "      <td> 7</td>\n",
        "      <td> 8</td>\n",
        "      <td> 9</td>\n",
        "    </tr>\n",
        "  </tbody>\n",
        "</table>\n",
        "</div>"
       ],
       "metadata": {},
       "output_type": "display_data",
       "text": [
        "   a  b  c\n",
        "0  1  2  3\n",
        "1  4  5  6\n",
        "2  7  8  9"
       ]
      },
      {
       "html": [
        "<div style=\"max-height:1000px;max-width:1500px;overflow:auto;\">\n",
        "<table border=\"1\" class=\"dataframe\">\n",
        "  <thead>\n",
        "    <tr style=\"text-align: right;\">\n",
        "      <th></th>\n",
        "      <th>A</th>\n",
        "      <th>B</th>\n",
        "      <th>C</th>\n",
        "    </tr>\n",
        "  </thead>\n",
        "  <tbody>\n",
        "    <tr>\n",
        "      <th>0</th>\n",
        "      <td> a</td>\n",
        "      <td> b</td>\n",
        "      <td> c</td>\n",
        "    </tr>\n",
        "    <tr>\n",
        "      <th>1</th>\n",
        "      <td> 1</td>\n",
        "      <td> 2</td>\n",
        "      <td> 3</td>\n",
        "    </tr>\n",
        "    <tr>\n",
        "      <th>2</th>\n",
        "      <td> 4</td>\n",
        "      <td> 5</td>\n",
        "      <td> 6</td>\n",
        "    </tr>\n",
        "    <tr>\n",
        "      <th>3</th>\n",
        "      <td> 7</td>\n",
        "      <td> 8</td>\n",
        "      <td> 9</td>\n",
        "    </tr>\n",
        "  </tbody>\n",
        "</table>\n",
        "</div>"
       ],
       "metadata": {},
       "output_type": "display_data",
       "text": [
        "   A  B  C\n",
        "0  a  b  c\n",
        "1  1  2  3\n",
        "2  4  5  6\n",
        "3  7  8  9"
       ]
      },
      {
       "html": [
        "<div style=\"max-height:1000px;max-width:1500px;overflow:auto;\">\n",
        "<table border=\"1\" class=\"dataframe\">\n",
        "  <thead>\n",
        "    <tr style=\"text-align: right;\">\n",
        "      <th></th>\n",
        "      <th>A</th>\n",
        "      <th>B</th>\n",
        "      <th>C</th>\n",
        "    </tr>\n",
        "  </thead>\n",
        "  <tbody>\n",
        "    <tr>\n",
        "      <th>0</th>\n",
        "      <td> 1</td>\n",
        "      <td> 2</td>\n",
        "      <td> 3</td>\n",
        "    </tr>\n",
        "    <tr>\n",
        "      <th>1</th>\n",
        "      <td> 4</td>\n",
        "      <td> 5</td>\n",
        "      <td> 6</td>\n",
        "    </tr>\n",
        "    <tr>\n",
        "      <th>2</th>\n",
        "      <td> 7</td>\n",
        "      <td> 8</td>\n",
        "      <td> 9</td>\n",
        "    </tr>\n",
        "  </tbody>\n",
        "</table>\n",
        "</div>"
       ],
       "metadata": {},
       "output_type": "display_data",
       "text": [
        "   A  B  C\n",
        "0  1  2  3\n",
        "1  4  5  6\n",
        "2  7  8  9"
       ]
      }
     ],
     "prompt_number": 42
    },
    {
     "cell_type": "code",
     "collapsed": false,
     "input": [
      "## Filtering columns (usecols)\n",
      "## the 'usecols' param allows you to select any subset of the\n",
      "## columns in a file, either the column names or position\n",
      "## Based on doc, it usually results in much faster parsing time and lower memory usage.\n",
      "data = 'a,b,c,d\\n1,2,3,foo\\n4,5,6,bar\\n7,8,9,baz'\n",
      "display(pd.read_csv(StringIO(data)))\n",
      "display(pd.read_csv(StringIO(data), usecols=['b', 'd']))"
     ],
     "language": "python",
     "metadata": {},
     "outputs": [
      {
       "html": [
        "<div style=\"max-height:1000px;max-width:1500px;overflow:auto;\">\n",
        "<table border=\"1\" class=\"dataframe\">\n",
        "  <thead>\n",
        "    <tr style=\"text-align: right;\">\n",
        "      <th></th>\n",
        "      <th>a</th>\n",
        "      <th>b</th>\n",
        "      <th>c</th>\n",
        "      <th>d</th>\n",
        "    </tr>\n",
        "  </thead>\n",
        "  <tbody>\n",
        "    <tr>\n",
        "      <th>0</th>\n",
        "      <td> 1</td>\n",
        "      <td> 2</td>\n",
        "      <td> 3</td>\n",
        "      <td> foo</td>\n",
        "    </tr>\n",
        "    <tr>\n",
        "      <th>1</th>\n",
        "      <td> 4</td>\n",
        "      <td> 5</td>\n",
        "      <td> 6</td>\n",
        "      <td> bar</td>\n",
        "    </tr>\n",
        "    <tr>\n",
        "      <th>2</th>\n",
        "      <td> 7</td>\n",
        "      <td> 8</td>\n",
        "      <td> 9</td>\n",
        "      <td> baz</td>\n",
        "    </tr>\n",
        "  </tbody>\n",
        "</table>\n",
        "</div>"
       ],
       "metadata": {},
       "output_type": "display_data",
       "text": [
        "   a  b  c    d\n",
        "0  1  2  3  foo\n",
        "1  4  5  6  bar\n",
        "2  7  8  9  baz"
       ]
      },
      {
       "html": [
        "<div style=\"max-height:1000px;max-width:1500px;overflow:auto;\">\n",
        "<table border=\"1\" class=\"dataframe\">\n",
        "  <thead>\n",
        "    <tr style=\"text-align: right;\">\n",
        "      <th></th>\n",
        "      <th>b</th>\n",
        "      <th>d</th>\n",
        "    </tr>\n",
        "  </thead>\n",
        "  <tbody>\n",
        "    <tr>\n",
        "      <th>0</th>\n",
        "      <td> 2</td>\n",
        "      <td> foo</td>\n",
        "    </tr>\n",
        "    <tr>\n",
        "      <th>1</th>\n",
        "      <td> 5</td>\n",
        "      <td> bar</td>\n",
        "    </tr>\n",
        "    <tr>\n",
        "      <th>2</th>\n",
        "      <td> 8</td>\n",
        "      <td> baz</td>\n",
        "    </tr>\n",
        "  </tbody>\n",
        "</table>\n",
        "</div>"
       ],
       "metadata": {},
       "output_type": "display_data",
       "text": [
        "   b    d\n",
        "0  2  foo\n",
        "1  5  bar\n",
        "2  8  baz"
       ]
      }
     ],
     "prompt_number": 44
    },
    {
     "cell_type": "code",
     "collapsed": false,
     "input": [
      "## Dealing with Unicode data\n",
      "## the encoding arg should be used for encoded unicode data\n",
      "## which will result in byte strings being decoded to unicode\n",
      "## in the result\n",
      "data = 'word,length\\nTr\\xe4umen,7\\nGr\\xfc\\xdfe,5'\n",
      "df = pd.read_csv(StringIO(data), encoding='latin-1')\n",
      "df"
     ],
     "language": "python",
     "metadata": {},
     "outputs": [
      {
       "html": [
        "<div style=\"max-height:1000px;max-width:1500px;overflow:auto;\">\n",
        "<table border=\"1\" class=\"dataframe\">\n",
        "  <thead>\n",
        "    <tr style=\"text-align: right;\">\n",
        "      <th></th>\n",
        "      <th>word</th>\n",
        "      <th>length</th>\n",
        "    </tr>\n",
        "  </thead>\n",
        "  <tbody>\n",
        "    <tr>\n",
        "      <th>0</th>\n",
        "      <td> Tr\u00e4umen</td>\n",
        "      <td> 7</td>\n",
        "    </tr>\n",
        "    <tr>\n",
        "      <th>1</th>\n",
        "      <td>   Gr\u00fc\u00dfe</td>\n",
        "      <td> 5</td>\n",
        "    </tr>\n",
        "  </tbody>\n",
        "</table>\n",
        "</div>"
       ],
       "metadata": {},
       "output_type": "pyout",
       "prompt_number": 45,
       "text": [
        "      word  length\n",
        "0  Tr\u00e4umen       7\n",
        "1    Gr\u00fc\u00dfe       5"
       ]
      }
     ],
     "prompt_number": 45
    },
    {
     "cell_type": "code",
     "collapsed": false,
     "input": [
      "## Specifying date columns\n",
      "## the \"parse_dates\" and \"date_parser\" params allow \n",
      "## users to specify a variety of cols and date/time formats\n",
      "tmp_data = \"\"\"KORD,19990127, 19:00:00, 18:56:00, 0.8100\n",
      "KORD,19990127, 20:00:00, 19:56:00, 0.0100\n",
      "KORD,19990127, 21:00:00, 20:56:00, -0.5900\n",
      "KORD,19990127, 21:00:00, 21:18:00, -0.9900\n",
      "KORD,19990127, 22:00:00, 21:56:00, -0.5900\n",
      "KORD,19990127, 23:00:00, 22:56:00, -0.5900\n",
      "\"\"\"\n",
      "\n",
      "## COMBINE DIFFERENT COLS to parse date\n",
      "pd.read_csv(StringIO(tmp_data), header = None, \n",
      "            parse_dates={'end': [1, 2], 'start': [1, 3]},)"
     ],
     "language": "python",
     "metadata": {},
     "outputs": [
      {
       "html": [
        "<div style=\"max-height:1000px;max-width:1500px;overflow:auto;\">\n",
        "<table border=\"1\" class=\"dataframe\">\n",
        "  <thead>\n",
        "    <tr style=\"text-align: right;\">\n",
        "      <th></th>\n",
        "      <th>start</th>\n",
        "      <th>end</th>\n",
        "      <th>0</th>\n",
        "      <th>4</th>\n",
        "    </tr>\n",
        "  </thead>\n",
        "  <tbody>\n",
        "    <tr>\n",
        "      <th>0</th>\n",
        "      <td>1999-01-27 18:56:00</td>\n",
        "      <td>1999-01-27 19:00:00</td>\n",
        "      <td> KORD</td>\n",
        "      <td> 0.81</td>\n",
        "    </tr>\n",
        "    <tr>\n",
        "      <th>1</th>\n",
        "      <td>1999-01-27 19:56:00</td>\n",
        "      <td>1999-01-27 20:00:00</td>\n",
        "      <td> KORD</td>\n",
        "      <td> 0.01</td>\n",
        "    </tr>\n",
        "    <tr>\n",
        "      <th>2</th>\n",
        "      <td>1999-01-27 20:56:00</td>\n",
        "      <td>1999-01-27 21:00:00</td>\n",
        "      <td> KORD</td>\n",
        "      <td>-0.59</td>\n",
        "    </tr>\n",
        "    <tr>\n",
        "      <th>3</th>\n",
        "      <td>1999-01-27 21:18:00</td>\n",
        "      <td>1999-01-27 21:00:00</td>\n",
        "      <td> KORD</td>\n",
        "      <td>-0.99</td>\n",
        "    </tr>\n",
        "    <tr>\n",
        "      <th>4</th>\n",
        "      <td>1999-01-27 21:56:00</td>\n",
        "      <td>1999-01-27 22:00:00</td>\n",
        "      <td> KORD</td>\n",
        "      <td>-0.59</td>\n",
        "    </tr>\n",
        "    <tr>\n",
        "      <th>5</th>\n",
        "      <td>1999-01-27 22:56:00</td>\n",
        "      <td>1999-01-27 23:00:00</td>\n",
        "      <td> KORD</td>\n",
        "      <td>-0.59</td>\n",
        "    </tr>\n",
        "  </tbody>\n",
        "</table>\n",
        "</div>"
       ],
       "metadata": {},
       "output_type": "pyout",
       "prompt_number": 49,
       "text": [
        "                start                 end     0     4\n",
        "0 1999-01-27 18:56:00 1999-01-27 19:00:00  KORD  0.81\n",
        "1 1999-01-27 19:56:00 1999-01-27 20:00:00  KORD  0.01\n",
        "2 1999-01-27 20:56:00 1999-01-27 21:00:00  KORD -0.59\n",
        "3 1999-01-27 21:18:00 1999-01-27 21:00:00  KORD -0.99\n",
        "4 1999-01-27 21:56:00 1999-01-27 22:00:00  KORD -0.59\n",
        "5 1999-01-27 22:56:00 1999-01-27 23:00:00  KORD -0.59"
       ]
      }
     ],
     "prompt_number": 49
    },
    {
     "cell_type": "code",
     "collapsed": false,
     "input": [
      "## Handling Boolean Values\n",
      "## use true_values and false_values to specify true/false values\n",
      "data = 'a,b,c\\n1,Yes,2\\n3,No,4'\n",
      "df1 = pd.read_csv(StringIO(data))\n",
      "display(df1)\n",
      "print df1.dtypes\n",
      "df2 = pd.read_csv(StringIO(data), true_values=['Yes'], false_values=['No'])\n",
      "display(df2)\n",
      "print df2.dtypes"
     ],
     "language": "python",
     "metadata": {},
     "outputs": [
      {
       "html": [
        "<div style=\"max-height:1000px;max-width:1500px;overflow:auto;\">\n",
        "<table border=\"1\" class=\"dataframe\">\n",
        "  <thead>\n",
        "    <tr style=\"text-align: right;\">\n",
        "      <th></th>\n",
        "      <th>a</th>\n",
        "      <th>b</th>\n",
        "      <th>c</th>\n",
        "    </tr>\n",
        "  </thead>\n",
        "  <tbody>\n",
        "    <tr>\n",
        "      <th>0</th>\n",
        "      <td> 1</td>\n",
        "      <td> Yes</td>\n",
        "      <td> 2</td>\n",
        "    </tr>\n",
        "    <tr>\n",
        "      <th>1</th>\n",
        "      <td> 3</td>\n",
        "      <td>  No</td>\n",
        "      <td> 4</td>\n",
        "    </tr>\n",
        "  </tbody>\n",
        "</table>\n",
        "</div>"
       ],
       "metadata": {},
       "output_type": "display_data",
       "text": [
        "   a    b  c\n",
        "0  1  Yes  2\n",
        "1  3   No  4"
       ]
      },
      {
       "output_type": "stream",
       "stream": "stdout",
       "text": [
        "a     int64\n",
        "b    object\n",
        "c     int64\n",
        "dtype: object\n"
       ]
      },
      {
       "html": [
        "<div style=\"max-height:1000px;max-width:1500px;overflow:auto;\">\n",
        "<table border=\"1\" class=\"dataframe\">\n",
        "  <thead>\n",
        "    <tr style=\"text-align: right;\">\n",
        "      <th></th>\n",
        "      <th>a</th>\n",
        "      <th>b</th>\n",
        "      <th>c</th>\n",
        "    </tr>\n",
        "  </thead>\n",
        "  <tbody>\n",
        "    <tr>\n",
        "      <th>0</th>\n",
        "      <td> 1</td>\n",
        "      <td>  True</td>\n",
        "      <td> 2</td>\n",
        "    </tr>\n",
        "    <tr>\n",
        "      <th>1</th>\n",
        "      <td> 3</td>\n",
        "      <td> False</td>\n",
        "      <td> 4</td>\n",
        "    </tr>\n",
        "  </tbody>\n",
        "</table>\n",
        "</div>"
       ],
       "metadata": {},
       "output_type": "display_data",
       "text": [
        "   a      b  c\n",
        "0  1   True  2\n",
        "1  3  False  4"
       ]
      },
      {
       "output_type": "stream",
       "stream": "stdout",
       "text": [
        "a    int64\n",
        "b     bool\n",
        "c    int64\n",
        "dtype: object\n"
       ]
      }
     ],
     "prompt_number": 55
    },
    {
     "cell_type": "code",
     "collapsed": false,
     "input": [
      "## AUTO skipping bad lines\n",
      "data = 'a,b,c\\n1,2,3\\n4,5,6,7\\n8,9,10'\n",
      "try:\n",
      "    pd.read_csv(StringIO(data))\n",
      "except Exception, ex:\n",
      "    print ex\n",
      "\n",
      "display(pd.read_csv(StringIO(data), error_bad_lines=False))"
     ],
     "language": "python",
     "metadata": {},
     "outputs": [
      {
       "output_type": "stream",
       "stream": "stdout",
       "text": [
        "Error tokenizing data. C error: Expected 3 fields in line 3, saw 4\n",
        "\n"
       ]
      },
      {
       "output_type": "stream",
       "stream": "stderr",
       "text": [
        "Skipping line 3: expected 3 fields, saw 4\n",
        "\n"
       ]
      },
      {
       "html": [
        "<div style=\"max-height:1000px;max-width:1500px;overflow:auto;\">\n",
        "<table border=\"1\" class=\"dataframe\">\n",
        "  <thead>\n",
        "    <tr style=\"text-align: right;\">\n",
        "      <th></th>\n",
        "      <th>a</th>\n",
        "      <th>b</th>\n",
        "      <th>c</th>\n",
        "    </tr>\n",
        "  </thead>\n",
        "  <tbody>\n",
        "    <tr>\n",
        "      <th>0</th>\n",
        "      <td> 1</td>\n",
        "      <td> 2</td>\n",
        "      <td>  3</td>\n",
        "    </tr>\n",
        "    <tr>\n",
        "      <th>1</th>\n",
        "      <td> 8</td>\n",
        "      <td> 9</td>\n",
        "      <td> 10</td>\n",
        "    </tr>\n",
        "  </tbody>\n",
        "</table>\n",
        "</div>"
       ],
       "metadata": {},
       "output_type": "display_data",
       "text": [
        "   a  b   c\n",
        "0  1  2   3\n",
        "1  8  9  10"
       ]
      }
     ],
     "prompt_number": 58
    },
    {
     "cell_type": "code",
     "collapsed": false,
     "input": [
      "## Quoting and Escaping characters\n",
      "## Quotes (and other escape characters) in embedded fields can be handled in any number of ways. \n",
      "## One way is to use backslashes; \n",
      "## to properly parse this data, you should pass the escapechar option\n",
      "data = 'a,b\\n\"hello, \\\\\"Bob\\\\\", nice to see you\",5'\n",
      "pd.read_csv(StringIO(data), escapechar='\\\\')"
     ],
     "language": "python",
     "metadata": {},
     "outputs": [
      {
       "html": [
        "<div style=\"max-height:1000px;max-width:1500px;overflow:auto;\">\n",
        "<table border=\"1\" class=\"dataframe\">\n",
        "  <thead>\n",
        "    <tr style=\"text-align: right;\">\n",
        "      <th></th>\n",
        "      <th>a</th>\n",
        "      <th>b</th>\n",
        "    </tr>\n",
        "  </thead>\n",
        "  <tbody>\n",
        "    <tr>\n",
        "      <th>0</th>\n",
        "      <td> hello, \"Bob\", nice to see you</td>\n",
        "      <td> 5</td>\n",
        "    </tr>\n",
        "  </tbody>\n",
        "</table>\n",
        "</div>"
       ],
       "metadata": {},
       "output_type": "pyout",
       "prompt_number": 60,
       "text": [
        "                               a  b\n",
        "0  hello, \"Bob\", nice to see you  5"
       ]
      }
     ],
     "prompt_number": 60
    },
    {
     "cell_type": "code",
     "collapsed": false,
     "input": [
      "## ITERATING through files chunk by chunk\n",
      "## Suppose you wish to iterate through a (potentially very large) file \n",
      "## LAZILY rather than reading the entire file into memory, \n",
      "## such as the following:\n",
      "\n",
      "## 1. BY SPECIFYING \"chunksize\" to read_csv() ror read_table(),\n",
      "## THE RETURN VALUE WILL BE AN ITERABLE OBJECT OF TYPE\n",
      "## \"TextFileReader\"\n",
      "\n",
      "tmp_sv = \"\"\"|0|1|2|3\n",
      "0|0.4691122999071863|-0.2828633443286633|-1.5090585031735124|-1.1356323710171934\n",
      "1|1.2121120250208506|-0.17321464905330858|0.11920871129693428|-1.0442359662799567\n",
      "2|-0.8618489633477999|-2.1045692188948086|-0.4949292740687813|1.071803807037338\n",
      "3|0.7215551622443669|-0.7067711336300845|-1.0395749851146963|0.27185988554282986\n",
      "4|-0.42497232978883753|0.567020349793672|0.27623201927771873|-1.0874006912859915\n",
      "5|-0.6736897080883706|0.1136484096888855|-1.4784265524372235|0.5249876671147047\n",
      "6|0.4047052186802365|0.5770459859204836|-1.7150020161146375|-1.0392684835147725\n",
      "7|-0.3706468582364464|-1.1578922506419993|-1.344311812731667|0.8448851414248841\n",
      "8|1.0757697837155533|-0.10904997528022223|1.6435630703622064|-1.4693879595399115\n",
      "9|0.35702056413309086|-0.6746001037299882|-1.776903716971867|-0.9689138124473498\n",
      "\"\"\"\n",
      "reader = pd.read_table(StringIO(tmp_sv), sep = '|', chunksize=4)\n",
      "print type(reader)\n",
      "for chunk in reader:\n",
      "    print type(chunk)\n",
      "    print chunk"
     ],
     "language": "python",
     "metadata": {},
     "outputs": [
      {
       "output_type": "stream",
       "stream": "stdout",
       "text": [
        "<class 'pandas.io.parsers.TextFileReader'>\n",
        "<class 'pandas.core.frame.DataFrame'>\n",
        "   Unnamed: 0         0         1         2         3\n",
        "0           0  0.469112 -0.282863 -1.509059 -1.135632\n",
        "1           1  1.212112 -0.173215  0.119209 -1.044236\n",
        "2           2 -0.861849 -2.104569 -0.494929  1.071804\n",
        "3           3  0.721555 -0.706771 -1.039575  0.271860\n",
        "<class 'pandas.core.frame.DataFrame'>\n",
        "   Unnamed: 0         0         1         2         3\n",
        "0           4 -0.424972  0.567020  0.276232 -1.087401\n",
        "1           5 -0.673690  0.113648 -1.478427  0.524988\n",
        "2           6  0.404705  0.577046 -1.715002 -1.039268\n",
        "3           7 -0.370647 -1.157892 -1.344312  0.844885\n",
        "<class 'pandas.core.frame.DataFrame'>\n",
        "   Unnamed: 0         0        1         2         3\n",
        "0           8  1.075770 -0.10905  1.643563 -1.469388\n",
        "1           9  0.357021 -0.67460 -1.776904 -0.968914"
       ]
      },
      {
       "output_type": "stream",
       "stream": "stdout",
       "text": [
        "\n"
       ]
      }
     ],
     "prompt_number": 62
    },
    {
     "cell_type": "code",
     "collapsed": false,
     "input": [
      "## 2. SPECIFYING iterator = True WILL ALSO RETURN THE\n",
      "## TextFileReader object\n",
      "reader = pd.read_table(StringIO(tmp_sv), sep=\"|\", iterator=True, )\n",
      "chunk = reader.get_chunk(5)\n",
      "print type(chunk)\n",
      "print chunk"
     ],
     "language": "python",
     "metadata": {},
     "outputs": [
      {
       "output_type": "stream",
       "stream": "stdout",
       "text": [
        "<class 'pandas.core.frame.DataFrame'>\n",
        "   Unnamed: 0         0         1         2         3\n",
        "0           0  0.469112 -0.282863 -1.509059 -1.135632\n",
        "1           1  1.212112 -0.173215  0.119209 -1.044236\n",
        "2           2 -0.861849 -2.104569 -0.494929  1.071804\n",
        "3           3  0.721555 -0.706771 -1.039575  0.271860\n",
        "4           4 -0.424972  0.567020  0.276232 -1.087401\n"
       ]
      }
     ],
     "prompt_number": 64
    },
    {
     "cell_type": "code",
     "collapsed": false,
     "input": [
      "## WRITING to CSV\n",
      "## two BOOL parameters 'header' and 'index' specifying \n",
      "## whether writing header and index information to the file"
     ],
     "language": "python",
     "metadata": {},
     "outputs": []
    },
    {
     "cell_type": "markdown",
     "metadata": {},
     "source": [
      "## JSON and HTML\n",
      "- Important params: \n",
      "    - orient: \n",
      "        1. For Series (default = index): {split, records, index}\n",
      "        2. For DataFrame (default = columns): {split, records, index, columns, values}\n",
      "\n",
      "The format of the JSON string\n",
      "\n",
      "*split*: dict like {index -> [index], columns -> [columns], data -> [values]}\n",
      "\n",
      "*records*: list like [{column -> value}, ... , {column -> value}]\n",
      "\n",
      "*index*: dict like {index -> {column -> value}}\n",
      "\n",
      "*columns*: dict like {column -> {index -> value}}\n",
      "\n",
      "*values*: just the values array"
     ]
    },
    {
     "cell_type": "code",
     "collapsed": false,
     "input": [
      "from IPython.core.display import HTML\n",
      "HTML (df.to_html())"
     ],
     "language": "python",
     "metadata": {},
     "outputs": [
      {
       "html": [
        "<table border=\"1\" class=\"dataframe\">\n",
        "  <thead>\n",
        "    <tr style=\"text-align: right;\">\n",
        "      <th></th>\n",
        "      <th>word</th>\n",
        "      <th>length</th>\n",
        "    </tr>\n",
        "  </thead>\n",
        "  <tbody>\n",
        "    <tr>\n",
        "      <th>0</th>\n",
        "      <td> Tr\u00e4umen</td>\n",
        "      <td> 7</td>\n",
        "    </tr>\n",
        "    <tr>\n",
        "      <th>1</th>\n",
        "      <td>   Gr\u00fc\u00dfe</td>\n",
        "      <td> 5</td>\n",
        "    </tr>\n",
        "  </tbody>\n",
        "</table>"
       ],
       "metadata": {},
       "output_type": "pyout",
       "prompt_number": 67,
       "text": [
        "<IPython.core.display.HTML at 0x1060f0250>"
       ]
      }
     ],
     "prompt_number": 67
    },
    {
     "cell_type": "markdown",
     "metadata": {},
     "source": [
      "## Pickling and Serialization\n",
      "- All pandas objects are equipped with to_pickle() methods using python's cPickle module\n",
      "- The read_pickle() function can be used to load any pandas object from file\n",
      "- The previous save() and load() methods are now deprecated"
     ]
    },
    {
     "cell_type": "code",
     "collapsed": false,
     "input": [
      "df.to_pickle('data/foo.pkl')\n",
      "!ls data/foo*"
     ],
     "language": "python",
     "metadata": {},
     "outputs": [
      {
       "output_type": "stream",
       "stream": "stdout",
       "text": [
        "data/foo.pkl\r\n"
       ]
      }
     ],
     "prompt_number": 73
    },
    {
     "cell_type": "code",
     "collapsed": false,
     "input": [
      "dff = pd.read_pickle('data/foo.pkl')\n",
      "dff"
     ],
     "language": "python",
     "metadata": {},
     "outputs": [
      {
       "html": [
        "<div style=\"max-height:1000px;max-width:1500px;overflow:auto;\">\n",
        "<table border=\"1\" class=\"dataframe\">\n",
        "  <thead>\n",
        "    <tr style=\"text-align: right;\">\n",
        "      <th></th>\n",
        "      <th>word</th>\n",
        "      <th>length</th>\n",
        "    </tr>\n",
        "  </thead>\n",
        "  <tbody>\n",
        "    <tr>\n",
        "      <th>0</th>\n",
        "      <td> Tr\u00e4umen</td>\n",
        "      <td> 7</td>\n",
        "    </tr>\n",
        "    <tr>\n",
        "      <th>1</th>\n",
        "      <td>   Gr\u00fc\u00dfe</td>\n",
        "      <td> 5</td>\n",
        "    </tr>\n",
        "  </tbody>\n",
        "</table>\n",
        "</div>"
       ],
       "metadata": {},
       "output_type": "pyout",
       "prompt_number": 74,
       "text": [
        "      word  length\n",
        "0  Tr\u00e4umen       7\n",
        "1    Gr\u00fc\u00dfe       5"
       ]
      }
     ],
     "prompt_number": 74
    },
    {
     "cell_type": "markdown",
     "metadata": {},
     "source": [
      "## Excel File"
     ]
    },
    {
     "cell_type": "markdown",
     "metadata": {},
     "source": [
      "## HDF5 (PyTables)\n",
      "- HDFStore is a **dict-like** object which reads and writes pandas using the high performance HDF5 format using the excellent PyTables library.\n",
      "- Objects can be written to the file jsut like adding key-value pairs to a dict.\n",
      "- Retrieve objects by specifying the key (object name)\n",
      "- use pd.get_store(\"filename\") to use hdf5 store in a managed context"
     ]
    },
    {
     "cell_type": "markdown",
     "metadata": {},
     "source": [
      "### HDF5 Introduction"
     ]
    },
    {
     "cell_type": "code",
     "collapsed": false,
     "input": [
      "## create or read a store \n",
      "import pandas as pd\n",
      "from numpy.random import randn\n",
      "store = pd.HDFStore('data/store.h5', 'w')\n",
      "print store\n",
      "## adding some objects\n",
      "index = pd.date_range('1/1/2000', periods=8, freq='D')\n",
      "s = pd.Series(randn(5), index = list(\"abcde\"))\n",
      "df = pd.DataFrame(randn(8, 3), index = index, columns = list(\"ABC\"))\n",
      "store['s'] = s\n",
      "store['df'] = df\n",
      "print store\n",
      "## read object\n",
      "print store['df']\n",
      "store.close()"
     ],
     "language": "python",
     "metadata": {},
     "outputs": [
      {
       "output_type": "stream",
       "stream": "stdout",
       "text": [
        "<class 'pandas.io.pytables.HDFStore'>\n",
        "File path: data/store.h5\n",
        "Empty\n",
        "<class 'pandas.io.pytables.HDFStore'>\n",
        "File path: data/store.h5\n",
        "/df            frame        (shape->[8,3])\n",
        "/s             series       (shape->[5])  \n",
        "                   A         B         C\n",
        "2000-01-01  0.428014 -0.359520  1.286121\n",
        "2000-01-02  0.303808 -2.121690  1.260279\n",
        "2000-01-03 -1.244208  0.112291 -0.816257\n",
        "2000-01-04 -0.396743 -0.492182  0.563735\n",
        "2000-01-05  0.918093 -2.633377  0.555720\n",
        "2000-01-06  0.298333 -0.082180 -0.190203\n",
        "2000-01-07 -1.555430  0.828727 -0.380582\n",
        "2000-01-08 -1.292464 -0.194592 -0.200398\n"
       ]
      }
     ],
     "prompt_number": 35
    },
    {
     "cell_type": "code",
     "collapsed": false,
     "input": [
      "## read back objects as from a dict\n",
      "store = pd.HDFStore('data/store.h5', 'r')\n",
      "print store.df"
     ],
     "language": "python",
     "metadata": {},
     "outputs": [
      {
       "output_type": "stream",
       "stream": "stdout",
       "text": [
        "                   A         B         C\n",
        "2000-01-01  0.428014 -0.359520  1.286121\n",
        "2000-01-02  0.303808 -2.121690  1.260279\n",
        "2000-01-03 -1.244208  0.112291 -0.816257\n",
        "2000-01-04 -0.396743 -0.492182  0.563735\n",
        "2000-01-05  0.918093 -2.633377  0.555720\n",
        "2000-01-06  0.298333 -0.082180 -0.190203\n",
        "2000-01-07 -1.555430  0.828727 -0.380582\n",
        "2000-01-08 -1.292464 -0.194592 -0.200398\n"
       ]
      }
     ],
     "prompt_number": 36
    },
    {
     "cell_type": "code",
     "collapsed": false,
     "input": [
      "## delete an object as from a dict\n",
      "store.close()\n",
      "store = pd.HDFStore('data/store.h5', 'a') # reopen in a mode\n",
      "del store['s']\n",
      "store.close()"
     ],
     "language": "python",
     "metadata": {},
     "outputs": [],
     "prompt_number": 37
    },
    {
     "cell_type": "code",
     "collapsed": false,
     "input": [
      "## use hdf5 in a managed context (SO painful to rmbr to close the file)\n",
      "with pd.get_store('data/store.h5') as store:\n",
      "    print store.keys()"
     ],
     "language": "python",
     "metadata": {},
     "outputs": [
      {
       "output_type": "stream",
       "stream": "stdout",
       "text": [
        "['/df']\n"
       ]
      }
     ],
     "prompt_number": 42
    },
    {
     "cell_type": "markdown",
     "metadata": {},
     "source": [
      "### HDF5 Read/Write API\n",
      "- HDFStore supports an top-level API using read_hdf() and to_hdf() for writing."
     ]
    },
    {
     "cell_type": "code",
     "collapsed": false,
     "input": [
      "df = pd.DataFrame(dict(A = range(5),  B = range(5)))\n",
      "## Append param is significant here\n",
      "df.to_hdf('data/store.h5', 'atable', append = True)\n",
      "pd.read_hdf('data/store.h5', 'atable', where = ['index>2'])\n",
      "with pd.get_store('data/store.h5') as store:\n",
      "    print store"
     ],
     "language": "python",
     "metadata": {},
     "outputs": [
      {
       "output_type": "stream",
       "stream": "stdout",
       "text": [
        "<class 'pandas.io.pytables.HDFStore'>\n",
        "File path: data/store.h5\n",
        "/atable              frame_table  (typ->appendable,nrows->10,ncols->2,indexers->[index])\n",
        "/df                  frame        (shape->[8,3])                                        \n",
        "/df_table            frame        (shape->[5,2])                                        \n",
        "/table               frame        (shape->[5,2])                                        \n"
       ]
      }
     ],
     "prompt_number": 60
    },
    {
     "cell_type": "markdown",
     "metadata": {},
     "source": [
      "## SQL Queries"
     ]
    },
    {
     "cell_type": "markdown",
     "metadata": {},
     "source": [
      "## STATA, Data Readers"
     ]
    },
    {
     "cell_type": "code",
     "collapsed": false,
     "input": [],
     "language": "python",
     "metadata": {},
     "outputs": []
    }
   ],
   "metadata": {}
  }
 ]
}