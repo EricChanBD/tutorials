{
 "metadata": {
  "name": ""
 },
 "nbformat": 3,
 "nbformat_minor": 0,
 "worksheets": [
  {
   "cells": [
    {
     "cell_type": "markdown",
     "metadata": {},
     "source": [
      "# A hands-on introduction to RBM (from a recommendation system point of view)\n",
      "\n",
      "### Credit\n",
      "- [blog](http://blog.echen.me/2011/07/18/introduction-to-restricted-boltzmann-machines/)\n",
      "\n",
      "- [source code](https://github.com/echen/restricted-boltzmann-machines)"
     ]
    },
    {
     "cell_type": "code",
     "collapsed": false,
     "input": [
      "## Digest the code here\n",
      "import numpy as np\n",
      "from IPython.core.display import display, HTML\n",
      "\n",
      "def logistic(x):\n",
      "    return 1. / (1 + np.exp(-x))\n",
      "\n",
      "data = np.asarray([\n",
      "        [1, 1, 1, 0], \n",
      "        [1, 0, 1, 0],\n",
      "        [1, 1, 1, 0],\n",
      "        [0, 0, 1, 1],\n",
      "        [0, 0, 1, 1],\n",
      "        [0, 0, 1, 1]])\n",
      "nsample, nvis = data.shape\n",
      "nhid = 2\n",
      "print \"\\n>> nsample = %i, nvis = %i, nhid = %i\" % (nsample, nvis, nhid)\n",
      "print \"\\n>> Original data design matrix (nsample x nvis)\"\n",
      "display(data)\n",
      "print \"\\n>> augument data input vectors (first all-one column)\"\n",
      "data = np.insert(data, 0, 1, axis = 1)\n",
      "display(data)\n",
      "\n",
      "weights = np.random.randn(nvis, nhid)\n",
      "print \"\\n>> initial weights, shape = collections of column weight vectors\"\n",
      "print \"weight vectors shape-match input vectors\"\n",
      "print \"number of weight vectors = number of hidden nodes\"\n",
      "display(weights)\n",
      "weights = np.insert(weights, 0, 0, axis = 0)\n",
      "weights = np.insert(weights, 0, 0, axis = 1)\n",
      "print \"\\n>> padding the weight matrix with 0s on 1st row and column\"\n",
      "print \"adding 1st row because now the weight vector should MATCH AUGUMENTED input vector\"\n",
      "print \"adding 1st col because we need another vector ESSENTIALLY another hidden node\"\n",
      "print \"IN SUMMARY: we augument both weight and input vector, and always add another hidden node\"\n",
      "display(weights)\n",
      "\n",
      "print \"\\n\" + \"=\" * 30 + \"FORWARD PHASE\" + \"=\" * 30\n",
      "print \"where data flows from visible layer to hidden layer\"\n",
      "\n",
      "print \"\\n>> Given the shapes of weight and design matrices\"\n",
      "print \"the activation of hidden nodes are actually done as dot of design x weights\"\n",
      "print \"and the shape of the activations will be nsample x (nhid + 1) - one bias hidden node\"\n",
      "print \"and the activation of the bias hidden unit is always off initially \"\n",
      "activations = np.dot(data, weights)\n",
      "display(activations)\n",
      "\n",
      "print \"\\n>> The probability of hidden nodes will be the elementwise logistic transformation of activations\"\n",
      "print \"NOTE it is NOT a softmax setting so probs of all hidden nodes for certain input dont sum to 1\"\n",
      "print \"In other words, different nodes are not EXCLUSIVE of each other\"\n",
      "probs = logistic(activations)\n",
      "display(probs)\n",
      "\n",
      "print \"\\n>> The hidden states (still nsample x nhidden+1) will be binary\"\n",
      "print \"and it is calculated based on hidden probs compared to a uniform random threshold (0 ~ 1)\"\n",
      "print \"by this, we add the flavor of uncertainty,\"\n",
      "print \"and higher prob values should be more likely to be on than lower values\"\n",
      "states = probs > np.random.rand(nsample, nhid + 1, )\n",
      "display(states)\n",
      "\n",
      "print \"\\n>> Association (ninput+1 x nhidden+1) - OUTER PRODUCT of INPUTS and ACTIVATIONS\"\n",
      "print \"Here is calcluated based on input and probs (instead of states)\"\n",
      "print \"So that the association is a smooth one instead of binary, since it is an outer product\"\n",
      "print \"it serves as a similiarity matrix (similiar to covariance matrix)\"\n",
      "print \"\"\"Intuitively it can be understood the LINK between an INPUT node and an HIDDEN node \n",
      "(on or off at the same time) by aggregatin all samples\"\"\"\n",
      "associations = np.dot(data.T, probs)\n",
      "display(associations)\n",
      "\n",
      "print \"\\n\" + \"=\" * 30 + \"BACKWARD PHASE\" + \"=\" * 30\n",
      "print \"where data flows from hidden layer back to visible layer\"\n",
      "\n",
      "print \"\\n>> Visible activation (nsample x nvis+1)\"\n",
      "print \"assume the Hidden States (not probs) as new design matrix (BINARY AGAIN)\"\n",
      "print \"and transpose of forward weights as new weights\"\n",
      "visible_activations = np.dot(states, weights.T)\n",
      "display(visible_activations)\n",
      "print \"\\n>> Calculate the firing chance of visible nodes (nsample x nvis+1) in the same way (logistic transf.)\"\n",
      "visible_probs = logistic(visible_activations)\n",
      "display(visible_probs)\n",
      "print \"But this time fix the bias unit by setting all its (1st col) firing chance as 1\"\n",
      "print \"So that the REFLECTED visible node values are directly comparable with AUGUMENTED inputs\"\n",
      "visible_probs[:, 0] = 1\n",
      "display(visible_probs)\n",
      "print \"\\n>> But it wont stop here when learning the weights\"\n",
      "print \"We need use the FAKED(REFLECTED) visible inputs and put it forward again\"\n",
      "print \"just to get the association between the FAKED inputs and hidden nodes again\"\n",
      "print \"And remember the faked inputs this time is the fixed visible_probs\"\n",
      "faked_activations = np.dot(visible_probs, weights)\n",
      "display(faked_activations)\n",
      "print \"\\n>> And then the faked probs of activations\"\n",
      "faked_probs = logistic(faked_activations)\n",
      "display(faked_probs)\n",
      "print \"\\n>> And then the association between faked inputs and faked hidden probs\"\n",
      "faked_associations = np.dot(visible_probs.T, faked_probs)\n",
      "display(faked_associations)\n",
      "\n",
      "print \"\\n\" + \"=\" * 30 + \"LEARNING PHASE\" + \"=\" * 30\n",
      "print \"where the weights are updated based on forward association between input and hidden probs\"\n",
      "print \"and backward association between REFLECTED input and FAKED hidden probs\"\n",
      "learning_rate = 0.1\n",
      "weights += learning_rate * ((associations - faked_associations) / nsample)\n",
      "print \">> The new weights - NOTE the bias unit got updated as well\"\n",
      "display(weights)"
     ],
     "language": "python",
     "metadata": {},
     "outputs": [
      {
       "output_type": "stream",
       "stream": "stdout",
       "text": [
        "\n",
        ">> nsample = 6, nvis = 4, nhid = 2\n",
        "\n",
        ">> Original data design matrix (nsample x nvis)\n"
       ]
      },
      {
       "metadata": {},
       "output_type": "display_data",
       "text": [
        "array([[1, 1, 1, 0],\n",
        "       [1, 0, 1, 0],\n",
        "       [1, 1, 1, 0],\n",
        "       [0, 0, 1, 1],\n",
        "       [0, 0, 1, 1],\n",
        "       [0, 0, 1, 1]])"
       ]
      },
      {
       "output_type": "stream",
       "stream": "stdout",
       "text": [
        "\n",
        ">> augument data input vectors (first all-one column)\n"
       ]
      },
      {
       "metadata": {},
       "output_type": "display_data",
       "text": [
        "array([[1, 1, 1, 1, 0],\n",
        "       [1, 1, 0, 1, 0],\n",
        "       [1, 1, 1, 1, 0],\n",
        "       [1, 0, 0, 1, 1],\n",
        "       [1, 0, 0, 1, 1],\n",
        "       [1, 0, 0, 1, 1]])"
       ]
      },
      {
       "output_type": "stream",
       "stream": "stdout",
       "text": [
        "\n",
        ">> initial weights, shape = collections of column weight vectors\n",
        "weight vectors shape-match input vectors\n",
        "number of weight vectors = number of hidden nodes\n"
       ]
      },
      {
       "metadata": {},
       "output_type": "display_data",
       "text": [
        "array([[ 1.06162553,  0.89301881],\n",
        "       [ 0.03644388,  1.16875729],\n",
        "       [ 1.16552839, -1.00166981],\n",
        "       [ 0.97883434, -0.47188823]])"
       ]
      },
      {
       "output_type": "stream",
       "stream": "stdout",
       "text": [
        "\n",
        ">> padding the weight matrix with 0s on 1st row and column\n",
        "adding 1st row because now the weight vector should MATCH AUGUMENTED input vector\n",
        "adding 1st col because we need another vector ESSENTIALLY another hidden node\n",
        "IN SUMMARY: we augument both weight and input vector, and always add another hidden node\n"
       ]
      },
      {
       "metadata": {},
       "output_type": "display_data",
       "text": [
        "array([[ 0.        ,  0.        ,  0.        ],\n",
        "       [ 0.        ,  1.06162553,  0.89301881],\n",
        "       [ 0.        ,  0.03644388,  1.16875729],\n",
        "       [ 0.        ,  1.16552839, -1.00166981],\n",
        "       [ 0.        ,  0.97883434, -0.47188823]])"
       ]
      },
      {
       "output_type": "stream",
       "stream": "stdout",
       "text": [
        "\n",
        "==============================FORWARD PHASE==============================\n",
        "where data flows from visible layer to hidden layer\n",
        "\n",
        ">> Given the shapes of weight and design matrices\n",
        "the activation of hidden nodes are actually done as dot of design x weights\n",
        "and the shape of the activations will be nsample x (nhid + 1) - one bias hidden node\n",
        "and the activation of the bias hidden unit is always off initially \n"
       ]
      },
      {
       "metadata": {},
       "output_type": "display_data",
       "text": [
        "array([[ 0.        ,  2.2635978 ,  1.06010629],\n",
        "       [ 0.        ,  2.22715393, -0.10865099],\n",
        "       [ 0.        ,  2.2635978 ,  1.06010629],\n",
        "       [ 0.        ,  2.14436273, -1.47355803],\n",
        "       [ 0.        ,  2.14436273, -1.47355803],\n",
        "       [ 0.        ,  2.14436273, -1.47355803]])"
       ]
      },
      {
       "output_type": "stream",
       "stream": "stdout",
       "text": [
        "\n",
        ">> The probability of hidden nodes will be the elementwise logistic transformation of activations\n",
        "NOTE it is NOT a softmax setting so probs of all hidden nodes for certain input dont sum to 1\n",
        "In other words, different nodes are not EXCLUSIVE of each other\n"
       ]
      },
      {
       "metadata": {},
       "output_type": "display_data",
       "text": [
        "array([[ 0.5       ,  0.90581702,  0.74271086],\n",
        "       [ 0.5       ,  0.90266158,  0.47286394],\n",
        "       [ 0.5       ,  0.90581702,  0.74271086],\n",
        "       [ 0.5       ,  0.89514082,  0.18640241],\n",
        "       [ 0.5       ,  0.89514082,  0.18640241],\n",
        "       [ 0.5       ,  0.89514082,  0.18640241]])"
       ]
      },
      {
       "output_type": "stream",
       "stream": "stdout",
       "text": [
        "\n",
        ">> The hidden states (still nsample x nhidden+1) will be binary\n",
        "and it is calculated based on hidden probs compared to a uniform random threshold (0 ~ 1)\n",
        "by this, we add the flavor of uncertainty,\n",
        "and higher prob values should be more likely to be on than lower values\n"
       ]
      },
      {
       "metadata": {},
       "output_type": "display_data",
       "text": [
        "array([[ True,  True,  True],\n",
        "       [False,  True, False],\n",
        "       [ True,  True,  True],\n",
        "       [ True, False, False],\n",
        "       [ True,  True, False],\n",
        "       [False,  True,  True]], dtype=bool)"
       ]
      },
      {
       "output_type": "stream",
       "stream": "stdout",
       "text": [
        "\n",
        ">> Association (ninput+1 x nhidden+1) - OUTER PRODUCT of INPUTS and ACTIVATIONS\n",
        "Here is calcluated based on input and probs (instead of states)\n",
        "So that the association is a smooth one instead of binary, since it is an outer product\n",
        "it serves as a similiarity matrix (similiar to covariance matrix)\n",
        "Intuitively it can be understood the LINK between an INPUT node and an HIDDEN node \n",
        "(on or off at the same time) by aggregatin all samples\n"
       ]
      },
      {
       "metadata": {},
       "output_type": "display_data",
       "text": [
        "array([[ 3.        ,  5.39971807,  2.5174929 ],\n",
        "       [ 1.5       ,  2.71429561,  1.95828566],\n",
        "       [ 1.        ,  1.81163403,  1.48542172],\n",
        "       [ 3.        ,  5.39971807,  2.5174929 ],\n",
        "       [ 1.5       ,  2.68542246,  0.55920724]])"
       ]
      },
      {
       "output_type": "stream",
       "stream": "stdout",
       "text": [
        "\n",
        "==============================BACKWARD PHASE==============================\n",
        "where data flows from hidden layer back to visible layer\n",
        "\n",
        ">> Visible activation (nsample x nvis+1)\n",
        "assume the Hidden States (not probs) as new design matrix (BINARY AGAIN)\n",
        "and transpose of forward weights as new weights\n"
       ]
      },
      {
       "metadata": {},
       "output_type": "display_data",
       "text": [
        "array([[ 0.        ,  1.95464435,  1.20520116,  0.16385859,  0.50694611],\n",
        "       [ 0.        ,  1.06162553,  0.03644388,  1.16552839,  0.97883434],\n",
        "       [ 0.        ,  1.95464435,  1.20520116,  0.16385859,  0.50694611],\n",
        "       [ 0.        ,  0.        ,  0.        ,  0.        ,  0.        ],\n",
        "       [ 0.        ,  1.06162553,  0.03644388,  1.16552839,  0.97883434],\n",
        "       [ 0.        ,  1.95464435,  1.20520116,  0.16385859,  0.50694611]])"
       ]
      },
      {
       "output_type": "stream",
       "stream": "stdout",
       "text": [
        "\n",
        ">> Calculate the firing chance of visible nodes (nsample x nvis+1) in the same way (logistic transf.)\n"
       ]
      },
      {
       "metadata": {},
       "output_type": "display_data",
       "text": [
        "array([[ 0.5       ,  0.87595218,  0.76944875,  0.54087323,  0.6240903 ],\n",
        "       [ 0.5       ,  0.74300106,  0.50910996,  0.7623358 ,  0.72687686],\n",
        "       [ 0.5       ,  0.87595218,  0.76944875,  0.54087323,  0.6240903 ],\n",
        "       [ 0.5       ,  0.5       ,  0.5       ,  0.5       ,  0.5       ],\n",
        "       [ 0.5       ,  0.74300106,  0.50910996,  0.7623358 ,  0.72687686],\n",
        "       [ 0.5       ,  0.87595218,  0.76944875,  0.54087323,  0.6240903 ]])"
       ]
      },
      {
       "output_type": "stream",
       "stream": "stdout",
       "text": [
        "But this time fix the bias unit by setting all its (1st col) firing chance as 1\n",
        "So that the REFLECTED visible node values are directly comparable with AUGUMENTED inputs\n"
       ]
      },
      {
       "metadata": {},
       "output_type": "display_data",
       "text": [
        "array([[ 1.        ,  0.87595218,  0.76944875,  0.54087323,  0.6240903 ],\n",
        "       [ 1.        ,  0.74300106,  0.50910996,  0.7623358 ,  0.72687686],\n",
        "       [ 1.        ,  0.87595218,  0.76944875,  0.54087323,  0.6240903 ],\n",
        "       [ 1.        ,  0.5       ,  0.5       ,  0.5       ,  0.5       ],\n",
        "       [ 1.        ,  0.74300106,  0.50910996,  0.7623358 ,  0.72687686],\n",
        "       [ 1.        ,  0.87595218,  0.76944875,  0.54087323,  0.6240903 ]])"
       ]
      },
      {
       "output_type": "stream",
       "stream": "stdout",
       "text": [
        "\n",
        ">> But it wont stop here when learning the weights\n",
        "We need use the FAKED(REFLECTED) visible inputs and put it forward again\n",
        "just to get the association between the FAKED inputs and hidden nodes again\n",
        "And remember the faked inputs this time is the fixed visible_probs\n"
       ]
      },
      {
       "metadata": {},
       "output_type": "display_data",
       "text": [
        "array([[ 0.        ,  2.19925902,  0.84526335],\n",
        "       [ 0.        ,  2.4073589 ,  0.15192652],\n",
        "       [ 0.        ,  2.19925902,  0.84526335],\n",
        "       [ 0.        ,  1.62121607,  0.29410903],\n",
        "       [ 0.        ,  2.4073589 ,  0.15192652],\n",
        "       [ 0.        ,  2.19925902,  0.84526335]])"
       ]
      },
      {
       "output_type": "stream",
       "stream": "stdout",
       "text": [
        "\n",
        ">> And then the faked probs of activations\n"
       ]
      },
      {
       "metadata": {},
       "output_type": "display_data",
       "text": [
        "array([[ 0.5       ,  0.90018295,  0.69957258],\n",
        "       [ 0.5       ,  0.91738674,  0.53790874],\n",
        "       [ 0.5       ,  0.90018295,  0.69957258],\n",
        "       [ 0.5       ,  0.83496277,  0.57300179],\n",
        "       [ 0.5       ,  0.91738674,  0.53790874],\n",
        "       [ 0.5       ,  0.90018295,  0.69957258]])"
       ]
      },
      {
       "output_type": "stream",
       "stream": "stdout",
       "text": [
        "\n",
        ">> And then the association between faked inputs and faked hidden probs\n"
       ]
      },
      {
       "metadata": {},
       "output_type": "display_data",
       "text": [
        "array([[ 3.        ,  5.3702851 ,  3.74753702],\n",
        "       [ 2.30692933,  4.14627168,  2.92421081],\n",
        "       [ 1.91328308,  3.42951677,  2.44906603],\n",
        "       [ 1.82364565,  3.27684949,  2.24177533],\n",
        "       [ 1.91301231,  3.43652212,  2.37827712]])"
       ]
      },
      {
       "output_type": "stream",
       "stream": "stdout",
       "text": [
        "\n",
        "==============================LEARNING PHASE==============================\n",
        "where the weights are updated based on forward association between input and hidden probs\n",
        "and backward association between REFLECTED input and FAKED hidden probs\n",
        ">> The new weights - NOTE the bias unit got updated as well\n"
       ]
      },
      {
       "metadata": {},
       "output_type": "display_data",
       "text": [
        "array([[  0.00000000e+00,   4.90549500e-04,  -2.05007353e-02],\n",
        "       [ -1.34488222e-02,   1.03775927e+00,   8.76920061e-01],\n",
        "       [ -1.52213847e-02,   9.47916361e-03,   1.15269655e+00],\n",
        "       [  1.96059058e-02,   1.20090953e+00,  -9.97074513e-01],\n",
        "       [ -6.88353854e-03,   9.66316013e-01,  -5.02206058e-01]])"
       ]
      }
     ],
     "prompt_number": 54
    },
    {
     "cell_type": "code",
     "collapsed": false,
     "input": [
      " \n",
      "## RBM Class\n",
      "\n",
      "import numpy as np\n",
      "\n",
      "class RBM(object):\n",
      "    def __init__(self, num_visible, num_hidden, learning_rate = 0.1):\n",
      "        self.num_visible = num_visible\n",
      "        self.num_hidden = num_hidden\n",
      "        self.learning_rate = learning_rate\n",
      "        \n",
      "        ## initialize the weight matrix, of nvis x nhid, using\n",
      "        ## a Gaussian distribution with mean = 0, std = 0.1\n",
      "        self.weights = 0.1 * np.random.randn(self.num_visible, self.num_hidden)\n",
      "        ## add bias units into the weights (first row and first column)\n",
      "        self.weights = np.insert(self.weights, 0, 0.0, axis = 0)\n",
      "        self.weights = np.insert(self.weights, 0, 0.0, axis = 1, )\n",
      "    def train(self, data, max_epochs = 1000):\n",
      "        \"\"\"data : design matrix\"\"\"\n",
      "        num_examples = data.shape[0]\n",
      "        ## augument the design matrix\n",
      "        data = np.insert(data, 0, 1.0, axis = 1)\n",
      "        for epoch in range(max_epochs):\n",
      "            ## Clamp to the data and sample from the hidden units\n",
      "            pos_hidden_activations = np.dot(data, self.weights)\n",
      "            pos_hidden_probs = self._logistic(pos_hidden_activations)\n",
      "            pos_hidden_states = pos_hidden_probs > np.random.rand(num_examples, self.num_hidden+1)\n",
      "            ## Note to use activation probabilites of the hidden states, not the hidden states\n",
      "            ## themselves to compute associations. We could also use the states, see sectoin 3\n",
      "            ## of \"A practical Guide to Training RBM\" for details\n",
      "            pos_associations = np.dot(data.T, pos_hidden_probs)\n",
      "            \n",
      "            ## Reconstruct the visible units and sample again from the hidden units\n",
      "            neg_visible_activations = np.dot(pos_hidden_states, self.weights.T)\n",
      "            neg_visible_probs = self._logistic(neg_visible_activations)\n",
      "            neg_visible_probs[:, 0] = 1 ## fix the bias unit\n",
      "            neg_hidden_activations = np.dot(neg_visible_probs, self.weights)\n",
      "            neg_hidden_probs = self._logistic(neg_hidden_activations)\n",
      "            neg_associations = np.dot(neg_visible_probs.T, neg_hidden_probs)\n",
      "            \n",
      "            ## update weights based on positive and negtive associations\n",
      "            self.weights += self.learning_rate * (pos_associations - neg_associations) / num_examples\n",
      "            error = np.sum((data - neg_visible_probs) ** 2)\n",
      "            #print 'Epoch %s: error is %s' % (epoch, error)\n",
      "    def run_visible(self, data):\n",
      "        pass\n",
      "    def run_hidden(self, data):\n",
      "        pass\n",
      "    def daydream(self, data):\n",
      "        pass\n",
      "    def _logistic(self, x):\n",
      "        return 1.0 / (1 + np.exp(-x))"
     ],
     "language": "python",
     "metadata": {},
     "outputs": [],
     "prompt_number": 67
    },
    {
     "cell_type": "code",
     "collapsed": false,
     "input": [
      "## Use it\n",
      "import pandas as pd\n",
      "def print_weights(wt_values):\n",
      "    wts = pd.DataFrame(wt_values, \n",
      "                    index = [\"Bias Unit\",\n",
      "                             \"Harry Potter\",\n",
      "                             \"Avatar\",\n",
      "                             \"LOTR 3\",\n",
      "                             \"Gladiator\",\n",
      "                             \"Titanic\",\n",
      "                             \"Glitter\"], \n",
      "                    columns = [\"Bias Unit\",\n",
      "                               \"Hidden 1\",\n",
      "                               \"Hidden 2\",\n",
      "                               \"Hidden 3\"])\n",
      "    display(wts)\n",
      "\n",
      "if __name__ == '__main__':\n",
      "    r = RBM(num_visible = 6, num_hidden = 3)\n",
      "    \n",
      "    training_data = np.asarray([\n",
      "        [1, 1, 1, 0, 0, 0], \n",
      "        [1, 0, 1, 0, 0, 0],\n",
      "        [1, 1, 1, 0, 0, 0],\n",
      "        [0, 0, 1, 1, 1, 0],\n",
      "        [0, 0, 1, 1, 0, 0],\n",
      "        [0, 0, 1, 1, 1, 0]\n",
      "    ])\n",
      "    \"\"\"\n",
      "    training_data = np.asarray([\n",
      "        [1, 1, 1, 0, 0, 1], \n",
      "        [1, 0, 1, 0, 0, 0],\n",
      "        [1, 1, 1, 0, 0, 0],\n",
      "        [0, 0, 1, 1, 1, 1],\n",
      "        [0, 0, 1, 1, 0, 1],\n",
      "        [0, 0, 1, 1, 1, 1]\n",
      "    ])\n",
      "    \"\"\"\n",
      "    r.train(training_data, max_epochs = 10000)\n",
      "    print_weights(r.weights)\n",
      "    user = np.asarray([[0, 0, 0, 1, 1, 0]])\n",
      "    print r.run_visible(user)"
     ],
     "language": "python",
     "metadata": {},
     "outputs": [
      {
       "html": [
        "<div style=\"max-height:1000px;max-width:1500px;overflow:auto;\">\n",
        "<table border=\"1\" class=\"dataframe\">\n",
        "  <thead>\n",
        "    <tr style=\"text-align: right;\">\n",
        "      <th></th>\n",
        "      <th>Bias Unit</th>\n",
        "      <th>Hidden 1</th>\n",
        "      <th>Hidden 2</th>\n",
        "      <th>Hidden 3</th>\n",
        "    </tr>\n",
        "  </thead>\n",
        "  <tbody>\n",
        "    <tr>\n",
        "      <th>Bias Unit</th>\n",
        "      <td> 0.458353</td>\n",
        "      <td>-0.798174</td>\n",
        "      <td> 1.268165</td>\n",
        "      <td>-0.394543</td>\n",
        "    </tr>\n",
        "    <tr>\n",
        "      <th>Harry Potter</th>\n",
        "      <td>-0.667807</td>\n",
        "      <td>-7.777213</td>\n",
        "      <td> 2.204765</td>\n",
        "      <td> 4.605650</td>\n",
        "    </tr>\n",
        "    <tr>\n",
        "      <th>Avatar</th>\n",
        "      <td>-8.755023</td>\n",
        "      <td>-4.857809</td>\n",
        "      <td> 1.970422</td>\n",
        "      <td> 2.654181</td>\n",
        "    </tr>\n",
        "    <tr>\n",
        "      <th>LOTR 3</th>\n",
        "      <td> 4.113024</td>\n",
        "      <td> 2.564658</td>\n",
        "      <td> 4.080586</td>\n",
        "      <td> 2.267659</td>\n",
        "    </tr>\n",
        "    <tr>\n",
        "      <th>Gladiator</th>\n",
        "      <td> 0.800234</td>\n",
        "      <td> 7.249336</td>\n",
        "      <td>-1.222727</td>\n",
        "      <td>-5.582715</td>\n",
        "    </tr>\n",
        "    <tr>\n",
        "      <th>Titanic</th>\n",
        "      <td> 1.005019</td>\n",
        "      <td> 3.959994</td>\n",
        "      <td>-9.195495</td>\n",
        "      <td>-3.453264</td>\n",
        "    </tr>\n",
        "    <tr>\n",
        "      <th>Glitter</th>\n",
        "      <td>-3.630298</td>\n",
        "      <td>-3.191309</td>\n",
        "      <td>-3.269856</td>\n",
        "      <td>-3.059602</td>\n",
        "    </tr>\n",
        "  </tbody>\n",
        "</table>\n",
        "</div>"
       ],
       "metadata": {},
       "output_type": "display_data",
       "text": [
        "              Bias Unit  Hidden 1  Hidden 2  Hidden 3\n",
        "Bias Unit      0.458353 -0.798174  1.268165 -0.394543\n",
        "Harry Potter  -0.667807 -7.777213  2.204765  4.605650\n",
        "Avatar        -8.755023 -4.857809  1.970422  2.654181\n",
        "LOTR 3         4.113024  2.564658  4.080586  2.267659\n",
        "Gladiator      0.800234  7.249336 -1.222727 -5.582715\n",
        "Titanic        1.005019  3.959994 -9.195495 -3.453264\n",
        "Glitter       -3.630298 -3.191309 -3.269856 -3.059602"
       ]
      },
      {
       "output_type": "stream",
       "stream": "stdout",
       "text": [
        "None\n"
       ]
      }
     ],
     "prompt_number": 98
    },
    {
     "cell_type": "code",
     "collapsed": false,
     "input": [
      "## Try use sklearn.rbm to do the same thing\n",
      "from sklearn.neural_network import BernoulliRBM\n",
      "rbm = BernoulliRBM(n_components=2, n_iter=10000)\n",
      "rbm.fit(training_data)\n",
      "display(rbm.components_.T)\n",
      "print rbm.transform(training_data)"
     ],
     "language": "python",
     "metadata": {},
     "outputs": [
      {
       "metadata": {},
       "output_type": "display_data",
       "text": [
        "array([[-0.25611777, -0.30033446],\n",
        "       [-0.33464182, -0.38160064],\n",
        "       [-0.65902283, -0.66300143],\n",
        "       [-0.56078935, -0.51404117],\n",
        "       [-0.59151242, -0.55471126],\n",
        "       [-0.71049034, -0.69816864]])"
       ]
      },
      {
       "output_type": "stream",
       "stream": "stdout",
       "text": [
        "[[ 0.00049334  0.00044759]\n",
        " [ 0.00068928  0.00065541]\n",
        " [ 0.00049334  0.00044759]\n",
        " [ 0.00028143  0.00030405]\n",
        " [ 0.00050834  0.00052937]\n",
        " [ 0.00028143  0.00030405]]\n"
       ]
      }
     ],
     "prompt_number": 100
    },
    {
     "cell_type": "markdown",
     "metadata": {},
     "source": [
      "# RBM examples in sklearn"
     ]
    },
    {
     "cell_type": "markdown",
     "metadata": {},
     "source": [
      "## Introduction\n",
      "\n",
      "- For greyscale image data where pixel values can be interpreted as degrees of blackness on a white background, like handwritten digit recognition, the Bernoulli Restricted Boltzmann machine model (BernoulliRBM) can perform effective non-linear feature extraction.\n",
      "\n",
      "- In order to learn good latent representations from a small dataset, we artificially generate more labeled data by perturbing the training data with linear shifts of 1 pixel in each direction\n",
      "\n",
      "- To understand the example, a little bit [introduction to convolve in image processing](http://www.dspguide.com/ch24/7.htm)"
     ]
    },
    {
     "cell_type": "code",
     "collapsed": false,
     "input": [
      "import numpy as np\n",
      "from scipy.ndimage import convolve\n",
      "from sklearn import linear_model, datasets, metrics\n",
      "from sklearn.cross_validation import train_test_split\n",
      "from sklearn.neural_network import BernoulliRBM\n",
      "from sklearn.pipeline import Pipeline\n",
      "\n",
      "%pylab inline --no-import-all"
     ],
     "language": "python",
     "metadata": {},
     "outputs": [
      {
       "output_type": "stream",
       "stream": "stdout",
       "text": [
        "Populating the interactive namespace from numpy and matplotlib\n"
       ]
      }
     ],
     "prompt_number": 86
    },
    {
     "cell_type": "code",
     "collapsed": false,
     "input": [
      "## setup\n",
      "def nudge_dataset(X, Y):\n",
      "    \"\"\"\n",
      "    This produces a dataset 5 times bigger than the original one,\n",
      "    by moving the 8x8 images in X around by 1px to left, right, down, up\n",
      "    This encodes translation invariance in essence\n",
      "    \"\"\"\n",
      "    direction_vectors = [\n",
      "        [[0, 1, 0],\n",
      "         [0, 0, 0],\n",
      "         [0, 0, 0]],\n",
      "        \n",
      "        [[0, 0, 0],\n",
      "         [1, 0, 0],\n",
      "         [0, 0, 0]],\n",
      "        \n",
      "        [[0, 0, 0],\n",
      "         [0, 0, 1],\n",
      "         [0, 0, 0]],\n",
      "        \n",
      "        [[0, 0, 0],\n",
      "         [0, 0, 0],\n",
      "         [0, 1, 0]]\n",
      "    ]\n",
      "    \n",
      "    shift = lambda x, w: convolve(x.reshape((8, 8)), mode=\"constant\",\n",
      "                                  weights = w).ravel()\n",
      "    X = np.concatenate([X] + [np.apply_along_axis(shift, 1, X, vector)\n",
      "                              for vector in direction_vectors])\n",
      "    Y = np.concatenate([Y for _ in xrange(5)], axis = 0)\n",
      "    return X, Y\n",
      "\n",
      "digits = datasets.load_digits()\n",
      "X = np.asarray(digits.data, 'float32')\n",
      "X, Y = nudge_dataset(X, digits.target)\n",
      "## 0 - 1 scaling\n",
      "X = (X - np.min(X, 0)) / (np.max(X, 0) + 0.0001)\n",
      "\n",
      "X_train, X_test, Y_train, Y_test = train_test_split(X, Y, \n",
      "                                                    test_size = 0.2,\n",
      "                                                    random_state = 0)"
     ],
     "language": "python",
     "metadata": {},
     "outputs": [],
     "prompt_number": 87
    },
    {
     "cell_type": "code",
     "collapsed": false,
     "input": [
      "## Random Search"
     ],
     "language": "python",
     "metadata": {},
     "outputs": []
    },
    {
     "cell_type": "code",
     "collapsed": false,
     "input": [
      "## build model and training\n",
      "print \"training rbm -> logistic\"\n",
      "logistic = linear_model.LogisticRegression()\n",
      "rbm = BernoulliRBM(random_state=0, verbose=True)\n",
      "\n",
      "classifier = Pipeline(steps = [('rbm', rbm), \n",
      "                               ('logistic', logistic)])\n",
      "rbm.set_params(learning_rate = 0.06, n_iter = 20, n_components=100)\n",
      "logistic.set_params(C = 6000)\n",
      "\n",
      "classifier.fit(X_train, Y_train)\n",
      "\n",
      "print \"training logistic\"\n",
      "logistic_alone = linear_model.LogisticRegression(C = 100)\n",
      "logistic_alone.fit(X_train, Y_train)"
     ],
     "language": "python",
     "metadata": {},
     "outputs": [
      {
       "output_type": "stream",
       "stream": "stdout",
       "text": [
        "training rbm -> logistic\n",
        "Iteration 0, pseudo-likelihood = -28.84, time = 0.82s"
       ]
      },
      {
       "output_type": "stream",
       "stream": "stdout",
       "text": [
        "\n",
        "Iteration 1, pseudo-likelihood = -25.92, time = 0.74s"
       ]
      },
      {
       "output_type": "stream",
       "stream": "stdout",
       "text": [
        "\n",
        "Iteration 2, pseudo-likelihood = -24.82, time = 0.75s"
       ]
      },
      {
       "output_type": "stream",
       "stream": "stdout",
       "text": [
        "\n",
        "Iteration 3, pseudo-likelihood = -23.71, time = 0.75s"
       ]
      },
      {
       "output_type": "stream",
       "stream": "stdout",
       "text": [
        "\n",
        "Iteration 4, pseudo-likelihood = -23.03, time = 0.76s"
       ]
      },
      {
       "output_type": "stream",
       "stream": "stdout",
       "text": [
        "\n",
        "Iteration 5, pseudo-likelihood = -22.44, time = 0.75s"
       ]
      },
      {
       "output_type": "stream",
       "stream": "stdout",
       "text": [
        "\n",
        "Iteration 6, pseudo-likelihood = -21.91, time = 0.75s"
       ]
      },
      {
       "output_type": "stream",
       "stream": "stdout",
       "text": [
        "\n",
        "Iteration 7, pseudo-likelihood = -21.66, time = 0.88s"
       ]
      },
      {
       "output_type": "stream",
       "stream": "stdout",
       "text": [
        "\n",
        "Iteration 8, pseudo-likelihood = -21.39, time = 0.75s"
       ]
      },
      {
       "output_type": "stream",
       "stream": "stdout",
       "text": [
        "\n",
        "Iteration 9, pseudo-likelihood = -21.07, time = 0.75s"
       ]
      },
      {
       "output_type": "stream",
       "stream": "stdout",
       "text": [
        "\n",
        "Iteration 10, pseudo-likelihood = -20.85, time = 0.74s"
       ]
      },
      {
       "output_type": "stream",
       "stream": "stdout",
       "text": [
        "\n",
        "Iteration 11, pseudo-likelihood = -20.74, time = 0.75s"
       ]
      },
      {
       "output_type": "stream",
       "stream": "stdout",
       "text": [
        "\n",
        "Iteration 12, pseudo-likelihood = -20.57, time = 0.74s"
       ]
      },
      {
       "output_type": "stream",
       "stream": "stdout",
       "text": [
        "\n",
        "Iteration 13, pseudo-likelihood = -20.44, time = 0.74s"
       ]
      },
      {
       "output_type": "stream",
       "stream": "stdout",
       "text": [
        "\n",
        "Iteration 14, pseudo-likelihood = -20.29, time = 0.74s"
       ]
      },
      {
       "output_type": "stream",
       "stream": "stdout",
       "text": [
        "\n",
        "Iteration 15, pseudo-likelihood = -20.20, time = 0.74s"
       ]
      },
      {
       "output_type": "stream",
       "stream": "stdout",
       "text": [
        "\n",
        "Iteration 16, pseudo-likelihood = -19.98, time = 0.74s"
       ]
      },
      {
       "output_type": "stream",
       "stream": "stdout",
       "text": [
        "\n",
        "Iteration 17, pseudo-likelihood = -19.75, time = 0.74s"
       ]
      },
      {
       "output_type": "stream",
       "stream": "stdout",
       "text": [
        "\n",
        "Iteration 18, pseudo-likelihood = -19.78, time = 0.75s"
       ]
      },
      {
       "output_type": "stream",
       "stream": "stdout",
       "text": [
        "\n",
        "Iteration 19, pseudo-likelihood = -19.67, time = 0.74s"
       ]
      },
      {
       "output_type": "stream",
       "stream": "stdout",
       "text": [
        "\n",
        "training logistic"
       ]
      },
      {
       "output_type": "stream",
       "stream": "stdout",
       "text": [
        "\n"
       ]
      },
      {
       "metadata": {},
       "output_type": "pyout",
       "prompt_number": 88,
       "text": [
        "LogisticRegression(C=100, class_weight=None, dual=False, fit_intercept=True,\n",
        "          intercept_scaling=1, penalty='l2', random_state=None, tol=0.0001)"
       ]
      }
     ],
     "prompt_number": 88
    },
    {
     "cell_type": "code",
     "collapsed": false,
     "input": [
      "## Evaluation\n",
      "print \"Result for rbm -> logistic\"\n",
      "print metrics.classification_report(Y_test, \n",
      "                                    classifier.predict(X_test))\n",
      "\n",
      "print \"Result for logistic alone\"\n",
      "print metrics.classification_report(Y_test, \n",
      "                                    logistic_alone.predict(X_test))"
     ],
     "language": "python",
     "metadata": {},
     "outputs": [
      {
       "output_type": "stream",
       "stream": "stdout",
       "text": [
        "Result for rbm -> logistic\n",
        "             precision    recall  f1-score   support\n",
        "\n",
        "          0       0.99      0.99      0.99       174\n",
        "          1       0.92      0.95      0.93       184\n",
        "          2       0.95      0.98      0.97       166\n",
        "          3       0.97      0.91      0.94       194\n",
        "          4       0.97      0.95      0.96       186\n",
        "          5       0.93      0.93      0.93       181\n",
        "          6       0.98      0.97      0.97       207\n",
        "          7       0.95      1.00      0.97       154\n",
        "          8       0.90      0.88      0.89       182\n",
        "          9       0.91      0.93      0.92       169\n",
        "\n",
        "avg / total       0.95      0.95      0.95      1797\n",
        "\n",
        "Result for logistic alone\n",
        "             precision    recall  f1-score   support\n",
        "\n",
        "          0       0.85      0.94      0.89       174\n",
        "          1       0.57      0.55      0.56       184\n",
        "          2       0.72      0.85      0.78       166\n",
        "          3       0.76      0.74      0.75       194\n",
        "          4       0.85      0.82      0.84       186\n",
        "          5       0.74      0.75      0.75       181\n",
        "          6       0.93      0.88      0.91       207\n",
        "          7       0.86      0.90      0.88       154\n",
        "          8       0.68      0.55      0.61       182\n",
        "          9       0.71      0.74      0.72       169\n",
        "\n",
        "avg / total       0.77      0.77      0.77      1797\n",
        "\n"
       ]
      }
     ],
     "prompt_number": 89
    },
    {
     "cell_type": "code",
     "collapsed": false,
     "input": [
      "## plotting\n",
      "\n",
      "fig, axes = subplots(nrows = 10, ncols = 10, figsize = (24, 24))\n",
      "axes = axes.flatten()\n",
      "gray()\n",
      "for i, comp in enumerate(rbm.components_):\n",
      "    axes[i].imshow(comp.reshape((8, 8)), interpolation=\"nearest\")\n",
      "    \n",
      "fig.suptitle(\"100 componets extracted by RBM\")"
     ],
     "language": "python",
     "metadata": {},
     "outputs": [
      {
       "metadata": {},
       "output_type": "pyout",
       "prompt_number": 91,
       "text": [
        "<matplotlib.text.Text at 0x31ae14d0>"
       ]
      },
      {
       "metadata": {},
       "output_type": "display_data",
       "png": "[encoded data removed]",
       "text": [
        "<matplotlib.figure.Figure at 0x2d4d6810>"
       ]
      }
     ],
     "prompt_number": 91
    },
    {
     "cell_type": "markdown",
     "metadata": {},
     "source": [
      "## Play RBM with UFLDL dataset"
     ]
    },
    {
     "cell_type": "code",
     "collapsed": false,
     "input": [
      "## load data\n",
      "from scipy.io import loadmat\n",
      "images = loadmat('../ml-tutorials/data/starter/IMAGES.mat')['IMAGES']\n",
      "print images.shape"
     ],
     "language": "python",
     "metadata": {},
     "outputs": [
      {
       "output_type": "stream",
       "stream": "stdout",
       "text": [
        "(512, 512, 10)\n"
       ]
      }
     ],
     "prompt_number": 3
    },
    {
     "cell_type": "code",
     "collapsed": false,
     "input": [
      "## "
     ],
     "language": "python",
     "metadata": {},
     "outputs": []
    },
    {
     "cell_type": "markdown",
     "metadata": {},
     "source": [
      "## Play Tri-clustering with UFLDL Dataset"
     ]
    },
    {
     "cell_type": "code",
     "collapsed": false,
     "input": [],
     "language": "python",
     "metadata": {},
     "outputs": []
    },
    {
     "cell_type": "markdown",
     "metadata": {},
     "source": [
      "## Multiple layer of RBM"
     ]
    },
    {
     "cell_type": "code",
     "collapsed": false,
     "input": [],
     "language": "python",
     "metadata": {},
     "outputs": []
    }
   ],
   "metadata": {}
  }
 ]
}