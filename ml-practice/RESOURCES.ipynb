{
 "metadata": {
  "name": "RESOURCES"
 },
 "nbformat": 3,
 "nbformat_minor": 0,
 "worksheets": [
  {
   "cells": [
    {
     "cell_type": "markdown",
     "metadata": {},
     "source": [
      "# Deep Generative Stochastic Networks Trainable by Backprop\n",
      "- [paper link](http://arxiv.org/abs/1306.1091)\n",
      "- [code link](https://github.com/yaoli/DSN)\n",
      "- [discussion](http://fastml.com/running-things-on-a-gpu/)\n",
      "- [paper](files/papers/DeepGenerativeStochasticNetworksTrainablebyBackprop.pdf)\n",
      "- about: building generative model for data (e.g., imputating missing values and etc)"
     ]
    },
    {
     "cell_type": "markdown",
     "metadata": {},
     "source": [
      "# Phraug - online preprocessor for large text file\n",
      "- [code](https://github.com/zygmuntz/phraug)\n",
      "- [discussion](http://fastml.com/introducing-phraug/)\n",
      "- [discussion](http://fastml.com/processing-large-files-line-by-line/)"
     ]
    },
    {
     "cell_type": "markdown",
     "metadata": {},
     "source": [
      "# Vowpal Wabbit - Machine Learning Machine Gun\n",
      "- [code](http://fastml.com/processing-large-files-line-by-line/)\n",
      "- [mainpage](http://hunch.net/~vw/)\n",
      "- [vw in practice](http://fastml.com/blog/categories/vw/)"
     ]
    },
    {
     "cell_type": "markdown",
     "metadata": {},
     "source": [
      "# Perf - Performance metrics calcuation tool for binary classification\n",
      "- [mainpage](http://osmot.cs.cornell.edu/kddcup/software.html)"
     ]
    },
    {
     "cell_type": "markdown",
     "metadata": {},
     "source": [
      "# Matrix Factorization for recommendation system\n",
      "- [tutorial](http://www.quuxlabs.com/blog/2010/09/matrix-factorization-a-simple-tutorial-and-implementation-in-python/)\n",
      "- [article-recommendation system in general](http://research.yahoo.com/files/ieeecomputer.pdf)"
     ]
    },
    {
     "cell_type": "code",
     "collapsed": false,
     "input": [
      "## a theano implementation\n",
      "import theano\n",
      "import theano.tensor as T\n",
      "import numpy as np\n",
      "from scipy import optimize\n",
      "\n",
      "class MatrixFactorization(object):\n",
      "    def __init__(self, n, m, k, R, index, beta = 0.1):\n",
      "        self.theta = theano.shared(\n",
      "                    value = np.random.randn(n*k + m*k),\n",
      "                    borrow = True,\n",
      "                    name = 'theta')\n",
      "        self.P = self.theta[:n*k].reshape((n, k))\n",
      "        self.Q = self.theta[n*k:].reshape((m, k))\n",
      "        self.R_tilde = T.dot(self.P, self.Q.T)\n",
      "        ## index -- boolean matrix\n",
      "        self.mse = T.mean((self.R_tilde[index.nonzero()] - R[index]) ** 2)\n",
      "        self.l2 = T.mean(self.P**2) + T.mean(self.Q**2)\n",
      "        self.cost = self.mse + beta * self.l2\n",
      "        self.gparams = T.grad(self.cost, self.theta)\n",
      "        \n",
      "def share_data(data):\n",
      "    shared_data = theano.shared(value = data, borrow = True)\n",
      "    return share_data\n",
      "\n",
      "## test case\n",
      "R = np.asarray([\n",
      "    [5,3,0,1],\n",
      "    [4,0,0,1],\n",
      "    [1,1,0,5],\n",
      "    [1,0,0,4],\n",
      "    [0,1,5,4],\n",
      "])\n",
      "n, m = R.shape\n",
      "k = 2\n",
      "index = R != 0\n",
      "mf = MatrixFactorization(n, m, k, R, index)\n",
      "\n",
      "def f(theta_value):\n",
      "    mf.theta.set_value(theta_value, borrow = True)\n",
      "    return mf.cost.eval()\n",
      "def fprime(theta_value):\n",
      "    mf.theta.set_value(theta_value, borrow = True)\n",
      "    return mf.gparams.eval()\n",
      "theta0 = np.random.randn(n*k + m*k)\n",
      "best_theta = optimize.fmin_l_bfgs_b(func = f, x0 = theta0, fprime = fprime, iprint=1)[0]\n",
      "print best_theta\n",
      "\n",
      "mf.theta.set_value(best_theta, borrow = True)\n",
      "print mf.P.eval()\n",
      "print mf.Q.eval()\n",
      "print mf.R_tilde.eval()"
     ],
     "language": "python",
     "metadata": {},
     "outputs": [
      {
       "output_type": "stream",
       "stream": "stdout",
       "text": [
        "[-1.81516271 -1.31467232 -1.38271026 -1.11974004  0.91870619 -2.13886959\n",
        "  0.65634247 -1.74509032  0.63688611 -1.86928144 -1.80642132 -1.24919287\n",
        " -0.96910348 -0.87326902  0.78383918 -2.30078242  0.83235109 -1.91327876]\n",
        "[[-1.81516271 -1.31467232]\n",
        " [-1.38271026 -1.11974004]\n",
        " [ 0.91870619 -2.13886959]\n",
        " [ 0.65634247 -1.74509032]\n",
        " [ 0.63688611 -1.86928144]]"
       ]
      },
      {
       "output_type": "stream",
       "stream": "stdout",
       "text": [
        "\n",
        "[[-1.80642132 -1.24919287]\n",
        " [-0.96910348 -0.87326902]\n",
        " [ 0.78383918 -2.30078242]\n",
        " [ 0.83235109 -1.91327876]]\n",
        "[[ 4.92122791  2.90714311  1.60197933  1.00448199]\n",
        " [ 3.89652856  2.31782361  1.49245572  0.99147445]\n",
        " [ 1.0122902   0.97748718  5.64119145  4.85693985]\n",
        " [ 0.99432336  0.88786953  4.52954007  3.88515162]\n",
        " [ 1.18460841  1.01517702  4.80002615  4.10656931]]"
       ]
      },
      {
       "output_type": "stream",
       "stream": "stdout",
       "text": [
        "\n"
       ]
      }
     ],
     "prompt_number": 10
    },
    {
     "cell_type": "code",
     "collapsed": false,
     "input": [],
     "language": "python",
     "metadata": {},
     "outputs": []
    }
   ],
   "metadata": {}
  }
 ]
}