{
 "metadata": {
  "name": "RESOURCES"
 },
 "nbformat": 3,
 "nbformat_minor": 0,
 "worksheets": [
  {
   "cells": [
    {
     "cell_type": "markdown",
     "metadata": {},
     "source": [
      "# Deep Generative Stochastic Networks Trainable by Backprop\n",
      "- [paper link](http://arxiv.org/abs/1306.1091)\n",
      "- [code link](https://github.com/yaoli/DSN)\n",
      "- [discussion](http://fastml.com/running-things-on-a-gpu/)\n",
      "- [paper](files/papers/DeepGenerativeStochasticNetworksTrainablebyBackprop.pdf)\n",
      "- about: building generative model for data (e.g., imputating missing values and etc)"
     ]
    },
    {
     "cell_type": "markdown",
     "metadata": {},
     "source": [
      "# Phraug - online preprocessor for large text file\n",
      "- [code](https://github.com/zygmuntz/phraug)\n",
      "- [discussion](http://fastml.com/introducing-phraug/)\n",
      "- [discussion](http://fastml.com/processing-large-files-line-by-line/)"
     ]
    },
    {
     "cell_type": "markdown",
     "metadata": {},
     "source": [
      "# Vowpal Wabbit - Machine Learning Machine Gun\n",
      "- [code](http://fastml.com/processing-large-files-line-by-line/)\n",
      "- [mainpage](http://hunch.net/~vw/)"
     ]
    },
    {
     "cell_type": "markdown",
     "metadata": {},
     "source": [
      "# Perf - metrics calcuation tool for binary classification\n",
      "- [mainpage](http://osmot.cs.cornell.edu/kddcup/software.html)"
     ]
    },
    {
     "cell_type": "markdown",
     "metadata": {},
     "source": [
      "# Matrix Factorization for recommendation system\n",
      "- [tutorial](http://www.quuxlabs.com/blog/2010/09/matrix-factorization-a-simple-tutorial-and-implementation-in-python/)\n",
      "- [article-recommendation system in general](http://research.yahoo.com/files/ieeecomputer.pdf)"
     ]
    },
    {
     "cell_type": "code",
     "collapsed": false,
     "input": [],
     "language": "python",
     "metadata": {},
     "outputs": []
    }
   ],
   "metadata": {}
  }
 ]
}