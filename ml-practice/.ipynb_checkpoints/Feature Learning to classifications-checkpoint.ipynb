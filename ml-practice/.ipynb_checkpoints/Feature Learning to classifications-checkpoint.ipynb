{
 "metadata": {
  "name": ""
 },
 "nbformat": 3,
 "nbformat_minor": 0,
 "worksheets": [
  {
   "cells": [
    {
     "cell_type": "markdown",
     "metadata": {},
     "source": [
      "# From Feature Learning to Classifications\n",
      "- See ***Feature Learning*** notebook for unsupervised learining part\n",
      "- This part continues to focus on using found features (or stacked features) on classification problems"
     ]
    },
    {
     "cell_type": "markdown",
     "metadata": {},
     "source": [
      "## Review and Wrap what has been learned in unsuerpvised learning"
     ]
    },
    {
     "cell_type": "code",
     "collapsed": false,
     "input": [],
     "language": "python",
     "metadata": {},
     "outputs": []
    }
   ],
   "metadata": {}
  }
 ]
}