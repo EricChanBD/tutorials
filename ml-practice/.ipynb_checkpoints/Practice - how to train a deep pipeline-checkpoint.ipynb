{
 "metadata": {
  "name": ""
 },
 "nbformat": 3,
 "nbformat_minor": 0,
 "worksheets": [
  {
   "cells": [
    {
     "cell_type": "markdown",
     "metadata": {},
     "source": [
      "## Proof of concept \n",
      "- [source](http://www-etud.iro.umontreal.ca/~goodfeli/UTLC_LISA.pdf)\n",
      "- data: blackbox ICML 2013 Kaggle competition\n",
      "- method - greedily search for best models at each step:\n",
      "    1. preprocessing choices: \n",
      "        - feature-wise normalization\n",
      "        - sample-wise normalization\n",
      "        - PCA whitening\n",
      "    2. feature extractor:\n",
      "        - sparse filtering\n",
      "        - soft thresholding\n",
      "        - triangle clustering\n",
      "        - RBM\n",
      "    3. post processing:\n",
      "        - PCA\n",
      "        - kernel approximation"
     ]
    },
    {
     "cell_type": "code",
     "collapsed": false,
     "input": [
      "import cPickle\n",
      "import numpy as np\n",
      "import autodiff\n",
      "from sklearn.linear_model import SGDClassifier\n",
      "from sklearn.cross_validation import KFold, cross_val_score\n",
      "from sklearn.grid_search import GridSearchCV, ParameterGrid\n",
      "from sklearn.pipeline import Pipeline\n",
      "from sklearn.base import BaseEstimator, TransformerMixin"
     ],
     "language": "python",
     "metadata": {},
     "outputs": [],
     "prompt_number": 1
    },
    {
     "cell_type": "code",
     "collapsed": false,
     "input": [
      "black_X, black_y = cPickle.load(open('data/blackbox.pkl'))\n",
      "n_samples, n_feats = black_X.shape\n",
      "print black_X.shape, black_y.shape\n",
      "class_ratios = [(i, np.mean(black_y == i)) for i in np.unique(black_y)]\n",
      "print class_ratios"
     ],
     "language": "python",
     "metadata": {},
     "outputs": [
      {
       "output_type": "stream",
       "stream": "stdout",
       "text": [
        "(1000, 1875) (1000,)\n",
        "[(1, 0.19800000000000001), (2, 0.17000000000000001), (3, 0.13), (4, 0.111), (5, 0.080000000000000002), (6, 0.082000000000000003), (7, 0.081000000000000003), (8, 0.072999999999999995), (9, 0.074999999999999997)]\n"
       ]
      }
     ],
     "prompt_number": 2
    },
    {
     "cell_type": "code",
     "collapsed": false,
     "input": [
      "cv = KFold(n_samples, n_folds=3, shuffle= True, random_state=0)\n",
      "sgd = SGDClassifier(loss = 'log', penalty='elasticnet', shuffle=True, n_jobs=1)"
     ],
     "language": "python",
     "metadata": {},
     "outputs": [],
     "prompt_number": 3
    },
    {
     "cell_type": "markdown",
     "metadata": {},
     "source": [
      "## preprocessing"
     ]
    },
    {
     "cell_type": "code",
     "collapsed": false,
     "input": [
      "## PCA\n",
      "from sklearn.decomposition import PCA, RandomizedPCA\n",
      "pca = RandomizedPCA(n_components=n_feats).fit(black_X)\n",
      "print np.where(np.cumsum(pca.explained_variance_ratio_) > 0.99)[0][0]\n",
      "\n",
      "\n",
      "pca = PCA(n_components=125, copy=True, whiten=True).fit(black_X)\n",
      "clf = Pipeline(steps = [\n",
      "    ('pca', pca),\n",
      "    ('sgd', sgd)\n",
      "])\n",
      "param_grid = {\n",
      "    'pca__n_components': [50, 100, 125, 200, 400],\n",
      "    'sgd__alpha': [1e-5, 1e-4, 1e-3, 1e-2, 1e-1],\n",
      "    'sgd__l1_ratio': [0.1, 0.15, 0.2, 0.3]\n",
      "}\n",
      "gs = GridSearchCV(clf, param_grid, cv = cv, n_jobs = 1)\n",
      "gs.fit(black_X, black_y)\n",
      "print gs.best_params_\n",
      "print gs.best_score_"
     ],
     "language": "python",
     "metadata": {},
     "outputs": [
      {
       "output_type": "stream",
       "stream": "stdout",
       "text": [
        "125\n",
        "{'pca__n_components': 50, 'sgd__l1_ratio': 0.1, 'sgd__alpha': 0.01}"
       ]
      },
      {
       "output_type": "stream",
       "stream": "stdout",
       "text": [
        "\n",
        "0.208\n"
       ]
      }
     ],
     "prompt_number": 12
    },
    {
     "cell_type": "code",
     "collapsed": false,
     "input": [
      "## feature-wise normalization\n",
      "from sklearn.preprocessing import normalize, Normalizer\n",
      "feat_normalized_X = normalize(black_X, axis = 0)\n",
      "clf = Pipeline(steps = [\n",
      "    ('normalizer', Normalizer()),\n",
      "    ('sgd', sgd)\n",
      "])\n",
      "param_grid = {\n",
      "    'sgd__alpha': [1e-5, 1e-4, 1e-3, 1e-2],\n",
      "    'sgd__l1_ratio': [0.1, 0.15, 0.2, 0.3, 0.4]\n",
      "}\n",
      "gs = GridSearchCV(clf, param_grid, cv = cv, n_jobs = 1)\n",
      "gs.fit(black_X, black_y)\n",
      "print gs.best_params_\n",
      "print gs.best_score_\n",
      "## use a global centers, e.g., using feat_normalized_X\n",
      "## the result: {'sgd__l1_ratio': 0.3, 'sgd__alpha': 1e-05}\n",
      "## 0.204"
     ],
     "language": "python",
     "metadata": {},
     "outputs": [
      {
       "output_type": "stream",
       "stream": "stdout",
       "text": [
        "{'sgd__l1_ratio': 0.2, 'sgd__alpha': 0.001}\n",
        "0.198\n"
       ]
      }
     ],
     "prompt_number": 14
    },
    {
     "cell_type": "code",
     "collapsed": false,
     "input": [
      "## sample-wise normalization\n",
      "from sklearn.preprocessing import normalize\n",
      "sample_normalized_X = normalize(black_X, axis = 1)\n",
      "clf = Pipeline(steps = [\n",
      "    ('sgd', sgd)\n",
      "])\n",
      "param_grid = {\n",
      "    'sgd__alpha': [1e-5, 1e-4, 1e-3, 1e-2],\n",
      "    'sgd__l1_ratio': [0.1, 0.15, 0.2, 0.3, 0.4]\n",
      "}\n",
      "gs = GridSearchCV(clf, param_grid, cv = cv, n_jobs = 1)\n",
      "gs.fit(sample_normalized_X, black_y)\n",
      "print gs.best_params_\n",
      "print gs.best_score_"
     ],
     "language": "python",
     "metadata": {},
     "outputs": [
      {
       "output_type": "stream",
       "stream": "stdout",
       "text": [
        "{'sgd__l1_ratio': 0.1, 'sgd__alpha': 0.001}\n",
        "0.203\n"
       ]
      }
     ],
     "prompt_number": 11
    },
    {
     "cell_type": "markdown",
     "metadata": {},
     "source": [
      "## Feature Extraction"
     ]
    },
    {
     "cell_type": "code",
     "collapsed": false,
     "input": [
      "## PCA + BernoulliRBM\n",
      "from sklearn.neural_network import BernoulliRBM\n",
      "pca = PCA()\n",
      "clf = Pipeline(steps = [\n",
      "    ('pca', pca),\n",
      "    ('rbm', BernoulliRBM(random_state = 0, )),\n",
      "    ('sgd', sgd)\n",
      "])\n",
      "param_grid = {\n",
      "    'pca__n_components': [50, 100, 125],\n",
      "    'rbm__n_components': [50, 100, 200, 500],\n",
      "    'rbm__learning_rate': [0.1, 0.2, 0.3],\n",
      "    'sgd__alpha': [ 1e-3, 1e-2,],\n",
      "    'sgd__l1_ratio': [ 0.15, ]\n",
      "}\n",
      "gs = GridSearchCV(clf, param_grid, cv = cv, n_jobs = 1)\n",
      "gs.fit(black_X, black_y)\n",
      "print gs.best_params_\n",
      "print gs.best_score_"
     ],
     "language": "python",
     "metadata": {},
     "outputs": [
      {
       "output_type": "stream",
       "stream": "stdout",
       "text": [
        "{'sgd__l1_ratio': 0.15, 'pca__n_components': 50, 'rbm__learning_rate': 0.1, 'sgd__alpha': 0.01, 'rbm__n_components': 50}\n",
        "0.198\n"
       ]
      }
     ],
     "prompt_number": 18
    },
    {
     "cell_type": "code",
     "collapsed": false,
     "input": [
      "## PCA + Sparse Filtering\n",
      "def soft_absolute(u):\n",
      "    epsilon = 1e-8\n",
      "    return np.sqrt(epsilon + u * u)\n",
      "\n",
      "class SparseFilter(BaseEstimator, TransformerMixin):\n",
      "    def __init__(self, n_features = 200, n_iters = 400, activation=soft_absolute):\n",
      "        self.n_features = n_features\n",
      "        self.n_iters = n_iters\n",
      "        self.activation = activation\n",
      "    def get_objective_fn(self, X):\n",
      "        def _objective(W):\n",
      "            epsilon = 1e-8\n",
      "            Y = self.activation(np.dot(X, W))\n",
      "            YY = Y / np.sqrt(np.sum(Y*Y, axis = 0) + epsilon)\n",
      "            YYY = YY / np.sqrt(np.sum(YY*YY, axis=1) + epsilon)[:, np.newaxis]\n",
      "            return np.sum(YYY)\n",
      "        return _objective\n",
      "    def fit(self, X, y = None):\n",
      "        f = self.get_objective_fn(X)\n",
      "        param0 = np.random.randn(X.shape[1], self.n_features)\n",
      "        self.W_ = autodiff.optimize.fmin_l_bfgs_b(f, param0, maxfun=self.n_iters, iprint=1)\n",
      "        return self\n",
      "    def transform(self, X):\n",
      "        epsilon = 1e-8\n",
      "        Y = self.activation(np.dot(X, self.W_))\n",
      "        YY = Y / np.sqrt(np.sum(Y*Y, axis = 0) + epsilon)\n",
      "        YYY = YY / np.sqrt(np.sum(YY*YY, axis=1) + epsilon)[:, np.newaxis]\n",
      "        return YYY"
     ],
     "language": "python",
     "metadata": {},
     "outputs": [],
     "prompt_number": 4
    },
    {
     "cell_type": "code",
     "collapsed": false,
     "input": [
      "## PCA + BernoulliRBM\n",
      "from sklearn.neural_network import BernoulliRBM\n",
      "pca = PCA()\n",
      "clf = Pipeline(steps = [\n",
      "    ('pca', pca),\n",
      "    ('sf', SparseFilter(n_iters=600)),\n",
      "    ('sgd', sgd)\n",
      "])\n",
      "param_grid = {\n",
      "    'pca__n_components': [50, 100, 125],\n",
      "    'sf__n_features': [50, 100, 200, 300, 500],\n",
      "    'sgd__alpha': [ 1e-3, 1e-2,],\n",
      "    'sgd__l1_ratio': [ 0.15, ]\n",
      "}\n",
      "#gs = GridSearchCV(clf, param_grid, cv = cv, n_jobs = 1)\n",
      "#gs.fit(black_X, black_y)\n",
      "#print gs.best_params_\n",
      "#print gs.best_score_\n",
      "results = {}\n",
      "for params in ParameterGrid(param_grid):\n",
      "    print params\n",
      "    clf.set_params(**params)\n",
      "    score = np.mean(cross_val_score(clf, black_X, black_y, cv = cv))\n",
      "    print score\n",
      "    results[score] = params\n",
      "\n",
      "## best param: \n",
      "## {'pca__n_components': 100, 'sf__n_features': 500, \n",
      "## 'sgd__l1_ratio': 0.15, 'sgd__alpha': 0.001}\n",
      "## best score: 0.440023856192"
     ],
     "language": "python",
     "metadata": {},
     "outputs": [
      {
       "output_type": "stream",
       "stream": "stdout",
       "text": [
        "{'pca__n_components': 50, 'sf__n_features': 50, 'sgd__l1_ratio': 0.15, 'sgd__alpha': 0.001}\n",
        "0.350961740183"
       ]
      },
      {
       "output_type": "stream",
       "stream": "stdout",
       "text": [
        "\n",
        "{'pca__n_components': 50, 'sf__n_features': 50, 'sgd__l1_ratio': 0.15, 'sgd__alpha': 0.01}\n",
        "0.255042467617"
       ]
      },
      {
       "output_type": "stream",
       "stream": "stdout",
       "text": [
        "\n",
        "{'pca__n_components': 50, 'sf__n_features': 100, 'sgd__l1_ratio': 0.15, 'sgd__alpha': 0.001}\n",
        "0.415996835159"
       ]
      },
      {
       "output_type": "stream",
       "stream": "stdout",
       "text": [
        "\n",
        "{'pca__n_components': 50, 'sf__n_features': 100, 'sgd__l1_ratio': 0.15, 'sgd__alpha': 0.01}\n",
        "0.231060401719"
       ]
      },
      {
       "output_type": "stream",
       "stream": "stdout",
       "text": [
        "\n",
        "{'pca__n_components': 50, 'sf__n_features': 200, 'sgd__l1_ratio': 0.15, 'sgd__alpha': 0.001}\n",
        "0.436981892072"
       ]
      },
      {
       "output_type": "stream",
       "stream": "stdout",
       "text": [
        "\n",
        "{'pca__n_components': 50, 'sf__n_features': 200, 'sgd__l1_ratio': 0.15, 'sgd__alpha': 0.01}\n",
        "0.199028369687"
       ]
      },
      {
       "output_type": "stream",
       "stream": "stdout",
       "text": [
        "\n",
        "{'pca__n_components': 50, 'sf__n_features': 300, 'sgd__l1_ratio': 0.15, 'sgd__alpha': 0.001}\n",
        "0.41903280526"
       ]
      },
      {
       "output_type": "stream",
       "stream": "stdout",
       "text": [
        "\n",
        "{'pca__n_components': 50, 'sf__n_features': 300, 'sgd__l1_ratio': 0.15, 'sgd__alpha': 0.01}\n",
        "0.198027368686"
       ]
      },
      {
       "output_type": "stream",
       "stream": "stdout",
       "text": [
        "\n",
        "{'pca__n_components': 50, 'sf__n_features': 500, 'sgd__l1_ratio': 0.15, 'sgd__alpha': 0.001}\n",
        "0.413967860076"
       ]
      },
      {
       "output_type": "stream",
       "stream": "stdout",
       "text": [
        "\n",
        "{'pca__n_components': 50, 'sf__n_features': 500, 'sgd__l1_ratio': 0.15, 'sgd__alpha': 0.01}\n",
        "0.198027368686"
       ]
      },
      {
       "output_type": "stream",
       "stream": "stdout",
       "text": [
        "\n",
        "{'pca__n_components': 100, 'sf__n_features': 50, 'sgd__l1_ratio': 0.15, 'sgd__alpha': 0.001}\n",
        "0.316001630373"
       ]
      },
      {
       "output_type": "stream",
       "stream": "stdout",
       "text": [
        "\n",
        "{'pca__n_components': 100, 'sf__n_features': 50, 'sgd__l1_ratio': 0.15, 'sgd__alpha': 0.01}\n",
        "0.257038475601"
       ]
      },
      {
       "output_type": "stream",
       "stream": "stdout",
       "text": [
        "\n",
        "{'pca__n_components': 100, 'sf__n_features': 100, 'sgd__l1_ratio': 0.15, 'sgd__alpha': 0.001}\n",
        "0.429980879083"
       ]
      },
      {
       "output_type": "stream",
       "stream": "stdout",
       "text": [
        "\n",
        "{'pca__n_components': 100, 'sf__n_features': 100, 'sgd__l1_ratio': 0.15, 'sgd__alpha': 0.01}\n",
        "0.209038379697"
       ]
      },
      {
       "output_type": "stream",
       "stream": "stdout",
       "text": [
        "\n",
        "{'pca__n_components': 100, 'sf__n_features': 200, 'sgd__l1_ratio': 0.15, 'sgd__alpha': 0.001}\n",
        "0.422002841165"
       ]
      },
      {
       "output_type": "stream",
       "stream": "stdout",
       "text": [
        "\n",
        "{'pca__n_components': 100, 'sf__n_features': 200, 'sgd__l1_ratio': 0.15, 'sgd__alpha': 0.01}\n",
        "0.183012353671"
       ]
      },
      {
       "output_type": "stream",
       "stream": "stdout",
       "text": [
        "\n",
        "{'pca__n_components': 100, 'sf__n_features': 300, 'sgd__l1_ratio': 0.15, 'sgd__alpha': 0.001}\n",
        "0.431008853165"
       ]
      },
      {
       "output_type": "stream",
       "stream": "stdout",
       "text": [
        "\n",
        "{'pca__n_components': 100, 'sf__n_features': 300, 'sgd__l1_ratio': 0.15, 'sgd__alpha': 0.01}\n",
        "0.177006347665"
       ]
      },
      {
       "output_type": "stream",
       "stream": "stdout",
       "text": [
        "\n",
        "{'pca__n_components': 100, 'sf__n_features': 500, 'sgd__l1_ratio': 0.15, 'sgd__alpha': 0.001}\n",
        "0.440023856192"
       ]
      },
      {
       "output_type": "stream",
       "stream": "stdout",
       "text": [
        "\n",
        "{'pca__n_components': 100, 'sf__n_features': 500, 'sgd__l1_ratio': 0.15, 'sgd__alpha': 0.01}\n",
        "0.198027368686"
       ]
      },
      {
       "output_type": "stream",
       "stream": "stdout",
       "text": [
        "\n",
        "{'pca__n_components': 125, 'sf__n_features': 50, 'sgd__l1_ratio': 0.15, 'sgd__alpha': 0.001}\n",
        "0.326952701204"
       ]
      },
      {
       "output_type": "stream",
       "stream": "stdout",
       "text": [
        "\n",
        "{'pca__n_components': 125, 'sf__n_features': 50, 'sgd__l1_ratio': 0.15, 'sgd__alpha': 0.01}\n",
        "0.233047418676"
       ]
      },
      {
       "output_type": "stream",
       "stream": "stdout",
       "text": [
        "\n",
        "{'pca__n_components': 125, 'sf__n_features': 100, 'sgd__l1_ratio': 0.15, 'sgd__alpha': 0.001}\n",
        "0.416002829176"
       ]
      },
      {
       "output_type": "stream",
       "stream": "stdout",
       "text": [
        "\n",
        "{'pca__n_components': 125, 'sf__n_features': 100, 'sgd__l1_ratio': 0.15, 'sgd__alpha': 0.01}\n",
        "0.237042431653"
       ]
      },
      {
       "output_type": "stream",
       "stream": "stdout",
       "text": [
        "\n",
        "{'pca__n_components': 125, 'sf__n_features': 200, 'sgd__l1_ratio': 0.15, 'sgd__alpha': 0.001}\n",
        "0.436999874126"
       ]
      },
      {
       "output_type": "stream",
       "stream": "stdout",
       "text": [
        "\n",
        "{'pca__n_components': 125, 'sf__n_features': 200, 'sgd__l1_ratio': 0.15, 'sgd__alpha': 0.01}\n",
        "0.207036377695"
       ]
      },
      {
       "output_type": "stream",
       "stream": "stdout",
       "text": [
        "\n",
        "{'pca__n_components': 125, 'sf__n_features': 300, 'sgd__l1_ratio': 0.15, 'sgd__alpha': 0.001}\n",
        "0.416991842142"
       ]
      },
      {
       "output_type": "stream",
       "stream": "stdout",
       "text": [
        "\n",
        "{'pca__n_components': 125, 'sf__n_features': 300, 'sgd__l1_ratio': 0.15, 'sgd__alpha': 0.01}\n",
        "0.198027368686"
       ]
      },
      {
       "output_type": "stream",
       "stream": "stdout",
       "text": [
        "\n",
        "{'pca__n_components': 125, 'sf__n_features': 500, 'sgd__l1_ratio': 0.15, 'sgd__alpha': 0.001}\n",
        "0.410023796251"
       ]
      },
      {
       "output_type": "stream",
       "stream": "stdout",
       "text": [
        "\n",
        "{'pca__n_components': 125, 'sf__n_features': 500, 'sgd__l1_ratio': 0.15, 'sgd__alpha': 0.01}\n",
        "0.198027368686"
       ]
      },
      {
       "output_type": "stream",
       "stream": "stdout",
       "text": [
        "\n"
       ]
      }
     ],
     "prompt_number": 43
    },
    {
     "cell_type": "code",
     "collapsed": false,
     "input": [
      "## PCA + SparseFilter + SVC \n",
      "## TO SEE if a linear model like sgd underfits\n",
      "## NONLINEAR MODELS ARE MORE SENSITIVE TO hyperparameters\n",
      "from sklearn.svm import SVC\n",
      "pca = PCA()\n",
      "clf = Pipeline(steps = [\n",
      "    ('pca', pca),\n",
      "    ('sf', SparseFilter(n_iters=600)),\n",
      "    ('svc', SVC())\n",
      "])\n",
      "param_grid = {\n",
      "    'pca__n_components': [100, 125],\n",
      "    'sf__n_features': [300, 500],\n",
      "    'svc__C': [1, 10, 100],\n",
      "    'svc__gamma': [1e-3, 1e-2, 0]\n",
      "}\n",
      "#gs = GridSearchCV(clf, param_grid, cv = cv, n_jobs = 1)\n",
      "#gs.fit(black_X, black_y)\n",
      "#print gs.best_params_\n",
      "#print gs.best_score_\n",
      "results = {}\n",
      "for params in ParameterGrid(param_grid):\n",
      "    print params\n",
      "    clf.set_params(**params)\n",
      "    score = np.mean(cross_val_score(clf, black_X, black_y, cv = cv))\n",
      "    print score\n",
      "    results[score] = params"
     ],
     "language": "python",
     "metadata": {},
     "outputs": [
      {
       "output_type": "stream",
       "stream": "stdout",
       "text": [
        "{'svc__gamma': 0.001, 'pca__n_components': 100, 'sf__n_features': 300, 'svc__C': 1}\n",
        "0.198027368686"
       ]
      },
      {
       "output_type": "stream",
       "stream": "stdout",
       "text": [
        "\n",
        "{'svc__gamma': 0.01, 'pca__n_components': 100, 'sf__n_features': 300, 'svc__C': 1}\n",
        "0.198027368686"
       ]
      },
      {
       "output_type": "stream",
       "stream": "stdout",
       "text": [
        "\n",
        "{'svc__gamma': 0, 'pca__n_components': 100, 'sf__n_features': 300, 'svc__C': 1}\n",
        "0.198027368686"
       ]
      },
      {
       "output_type": "stream",
       "stream": "stdout",
       "text": [
        "\n",
        "{'svc__gamma': 0.001, 'pca__n_components': 100, 'sf__n_features': 300, 'svc__C': 10}\n",
        "0.198027368686"
       ]
      },
      {
       "output_type": "stream",
       "stream": "stdout",
       "text": [
        "\n",
        "{'svc__gamma': 0.01, 'pca__n_components': 100, 'sf__n_features': 300, 'svc__C': 10}\n",
        "0.288000575426"
       ]
      },
      {
       "output_type": "stream",
       "stream": "stdout",
       "text": [
        "\n",
        "{'svc__gamma': 0, 'pca__n_components': 100, 'sf__n_features': 300, 'svc__C': 10}\n",
        "0.198027368686"
       ]
      },
      {
       "output_type": "stream",
       "stream": "stdout",
       "text": [
        "\n",
        "{'svc__gamma': 0.001, 'pca__n_components': 100, 'sf__n_features': 300, 'svc__C': 100}\n",
        "0.290017562473"
       ]
      },
      {
       "output_type": "stream",
       "stream": "stdout",
       "text": [
        "\n",
        "{'svc__gamma': 0.01, 'pca__n_components': 100, 'sf__n_features': 300, 'svc__C': 100}\n",
        "0.443988899079"
       ]
      },
      {
       "output_type": "stream",
       "stream": "stdout",
       "text": [
        "\n",
        "{'svc__gamma': 0, 'pca__n_components': 100, 'sf__n_features': 300, 'svc__C': 100}\n",
        "0.427990865117"
       ]
      },
      {
       "output_type": "stream",
       "stream": "stdout",
       "text": [
        "\n",
        "{'svc__gamma': 0.001, 'pca__n_components': 100, 'sf__n_features': 500, 'svc__C': 1}\n",
        "0.198027368686"
       ]
      },
      {
       "output_type": "stream",
       "stream": "stdout",
       "text": [
        "\n",
        "{'svc__gamma': 0.01, 'pca__n_components': 100, 'sf__n_features': 500, 'svc__C': 1}\n",
        "0.198027368686"
       ]
      },
      {
       "output_type": "stream",
       "stream": "stdout",
       "text": [
        "\n",
        "{'svc__gamma': 0, 'pca__n_components': 100, 'sf__n_features': 500, 'svc__C': 1}\n",
        "0.198027368686"
       ]
      },
      {
       "output_type": "stream",
       "stream": "stdout",
       "text": [
        "\n",
        "{'svc__gamma': 0.001, 'pca__n_components': 100, 'sf__n_features': 500, 'svc__C': 10}\n",
        "0.198027368686"
       ]
      },
      {
       "output_type": "stream",
       "stream": "stdout",
       "text": [
        "\n",
        "{'svc__gamma': 0.01, 'pca__n_components': 100, 'sf__n_features': 500, 'svc__C': 10}\n",
        "0.300995606385"
       ]
      },
      {
       "output_type": "stream",
       "stream": "stdout",
       "text": [
        "\n",
        "{'svc__gamma': 0, 'pca__n_components': 100, 'sf__n_features': 500, 'svc__C': 10}\n",
        "0.198027368686"
       ]
      },
      {
       "output_type": "stream",
       "stream": "stdout",
       "text": [
        "\n",
        "{'svc__gamma': 0.001, 'pca__n_components': 100, 'sf__n_features': 500, 'svc__C': 100}\n",
        "0.290994587402"
       ]
      },
      {
       "output_type": "stream",
       "stream": "stdout",
       "text": [
        "\n",
        "{'svc__gamma': 0.01, 'pca__n_components': 100, 'sf__n_features': 500, 'svc__C': 100}\n",
        "0.497986009962"
       ]
      },
      {
       "output_type": "stream",
       "stream": "stdout",
       "text": [
        "\n",
        "{'svc__gamma': 0, 'pca__n_components': 100, 'sf__n_features': 500, 'svc__C': 100}\n",
        "0.361004717292"
       ]
      },
      {
       "output_type": "stream",
       "stream": "stdout",
       "text": [
        "\n",
        "{'svc__gamma': 0.001, 'pca__n_components': 125, 'sf__n_features': 300, 'svc__C': 1}\n",
        "0.198027368686"
       ]
      },
      {
       "output_type": "stream",
       "stream": "stdout",
       "text": [
        "\n",
        "{'svc__gamma': 0.01, 'pca__n_components': 125, 'sf__n_features': 300, 'svc__C': 1}\n",
        "0.198027368686"
       ]
      },
      {
       "output_type": "stream",
       "stream": "stdout",
       "text": [
        "\n",
        "{'svc__gamma': 0, 'pca__n_components': 125, 'sf__n_features': 300, 'svc__C': 1}\n",
        "0.198027368686"
       ]
      },
      {
       "output_type": "stream",
       "stream": "stdout",
       "text": [
        "\n",
        "{'svc__gamma': 0.001, 'pca__n_components': 125, 'sf__n_features': 300, 'svc__C': 10}\n",
        "0.198027368686"
       ]
      },
      {
       "output_type": "stream",
       "stream": "stdout",
       "text": [
        "\n",
        "{'svc__gamma': 0.01, 'pca__n_components': 125, 'sf__n_features': 300, 'svc__C': 10}\n",
        "0.293005580431"
       ]
      },
      {
       "output_type": "stream",
       "stream": "stdout",
       "text": [
        "\n",
        "{'svc__gamma': 0, 'pca__n_components': 125, 'sf__n_features': 300, 'svc__C': 10}\n",
        "0.199028369687"
       ]
      },
      {
       "output_type": "stream",
       "stream": "stdout",
       "text": [
        "\n",
        "{'svc__gamma': 0.001, 'pca__n_components': 125, 'sf__n_features': 300, 'svc__C': 100}\n",
        "0.28400256544"
       ]
      },
      {
       "ename": "KeyboardInterrupt",
       "evalue": "",
       "output_type": "pyerr",
       "traceback": [
        "\u001b[0;31m---------------------------------------------------------------------------\u001b[0m\n\u001b[0;31mKeyboardInterrupt\u001b[0m                         Traceback (most recent call last)",
        "\u001b[0;32m<ipython-input-62-07aad1200052>\u001b[0m in \u001b[0;36m<module>\u001b[0;34m()\u001b[0m\n\u001b[1;32m     21\u001b[0m     \u001b[0;32mprint\u001b[0m \u001b[0mparams\u001b[0m\u001b[0;34m\u001b[0m\u001b[0m\n\u001b[1;32m     22\u001b[0m     \u001b[0mclf\u001b[0m\u001b[0;34m.\u001b[0m\u001b[0mset_params\u001b[0m\u001b[0;34m(\u001b[0m\u001b[0;34m**\u001b[0m\u001b[0mparams\u001b[0m\u001b[0;34m)\u001b[0m\u001b[0;34m\u001b[0m\u001b[0m\n\u001b[0;32m---> 23\u001b[0;31m     \u001b[0mscore\u001b[0m \u001b[0;34m=\u001b[0m \u001b[0mnp\u001b[0m\u001b[0;34m.\u001b[0m\u001b[0mmean\u001b[0m\u001b[0;34m(\u001b[0m\u001b[0mcross_val_score\u001b[0m\u001b[0;34m(\u001b[0m\u001b[0mclf\u001b[0m\u001b[0;34m,\u001b[0m \u001b[0mblack_X\u001b[0m\u001b[0;34m,\u001b[0m \u001b[0mblack_y\u001b[0m\u001b[0;34m,\u001b[0m \u001b[0mcv\u001b[0m \u001b[0;34m=\u001b[0m \u001b[0mcv\u001b[0m\u001b[0;34m)\u001b[0m\u001b[0;34m)\u001b[0m\u001b[0;34m\u001b[0m\u001b[0m\n\u001b[0m\u001b[1;32m     24\u001b[0m     \u001b[0;32mprint\u001b[0m \u001b[0mscore\u001b[0m\u001b[0;34m\u001b[0m\u001b[0m\n\u001b[1;32m     25\u001b[0m     \u001b[0mresults\u001b[0m\u001b[0;34m[\u001b[0m\u001b[0mscore\u001b[0m\u001b[0;34m]\u001b[0m \u001b[0;34m=\u001b[0m \u001b[0mparams\u001b[0m\u001b[0;34m\u001b[0m\u001b[0m\n",
        "\u001b[0;32m/Library/Python/2.7/site-packages/sklearn/cross_validation.pyc\u001b[0m in \u001b[0;36mcross_val_score\u001b[0;34m(estimator, X, y, scoring, cv, n_jobs, verbose, fit_params, score_func, pre_dispatch)\u001b[0m\n\u001b[1;32m   1150\u001b[0m         delayed(_cross_val_score)(clone(estimator), X, y, scorer, train, test,\n\u001b[1;32m   1151\u001b[0m                                   verbose, fit_params)\n\u001b[0;32m-> 1152\u001b[0;31m         for train, test in cv)\n\u001b[0m\u001b[1;32m   1153\u001b[0m     \u001b[0;32mreturn\u001b[0m \u001b[0mnp\u001b[0m\u001b[0;34m.\u001b[0m\u001b[0marray\u001b[0m\u001b[0;34m(\u001b[0m\u001b[0mscores\u001b[0m\u001b[0;34m)\u001b[0m\u001b[0;34m\u001b[0m\u001b[0m\n\u001b[1;32m   1154\u001b[0m \u001b[0;34m\u001b[0m\u001b[0m\n",
        "\u001b[0;32m/Library/Python/2.7/site-packages/sklearn/externals/joblib/parallel.pyc\u001b[0m in \u001b[0;36m__call__\u001b[0;34m(self, iterable)\u001b[0m\n\u001b[1;32m    515\u001b[0m         \u001b[0;32mtry\u001b[0m\u001b[0;34m:\u001b[0m\u001b[0;34m\u001b[0m\u001b[0m\n\u001b[1;32m    516\u001b[0m             \u001b[0;32mfor\u001b[0m \u001b[0mfunction\u001b[0m\u001b[0;34m,\u001b[0m \u001b[0margs\u001b[0m\u001b[0;34m,\u001b[0m \u001b[0mkwargs\u001b[0m \u001b[0;32min\u001b[0m \u001b[0miterable\u001b[0m\u001b[0;34m:\u001b[0m\u001b[0;34m\u001b[0m\u001b[0m\n\u001b[0;32m--> 517\u001b[0;31m                 \u001b[0mself\u001b[0m\u001b[0;34m.\u001b[0m\u001b[0mdispatch\u001b[0m\u001b[0;34m(\u001b[0m\u001b[0mfunction\u001b[0m\u001b[0;34m,\u001b[0m \u001b[0margs\u001b[0m\u001b[0;34m,\u001b[0m \u001b[0mkwargs\u001b[0m\u001b[0;34m)\u001b[0m\u001b[0;34m\u001b[0m\u001b[0m\n\u001b[0m\u001b[1;32m    518\u001b[0m \u001b[0;34m\u001b[0m\u001b[0m\n\u001b[1;32m    519\u001b[0m             \u001b[0mself\u001b[0m\u001b[0;34m.\u001b[0m\u001b[0mretrieve\u001b[0m\u001b[0;34m(\u001b[0m\u001b[0;34m)\u001b[0m\u001b[0;34m\u001b[0m\u001b[0m\n",
        "\u001b[0;32m/Library/Python/2.7/site-packages/sklearn/externals/joblib/parallel.pyc\u001b[0m in \u001b[0;36mdispatch\u001b[0;34m(self, func, args, kwargs)\u001b[0m\n\u001b[1;32m    310\u001b[0m         \"\"\"\n\u001b[1;32m    311\u001b[0m         \u001b[0;32mif\u001b[0m \u001b[0mself\u001b[0m\u001b[0;34m.\u001b[0m\u001b[0m_pool\u001b[0m \u001b[0;32mis\u001b[0m \u001b[0mNone\u001b[0m\u001b[0;34m:\u001b[0m\u001b[0;34m\u001b[0m\u001b[0m\n\u001b[0;32m--> 312\u001b[0;31m             \u001b[0mjob\u001b[0m \u001b[0;34m=\u001b[0m \u001b[0mImmediateApply\u001b[0m\u001b[0;34m(\u001b[0m\u001b[0mfunc\u001b[0m\u001b[0;34m,\u001b[0m \u001b[0margs\u001b[0m\u001b[0;34m,\u001b[0m \u001b[0mkwargs\u001b[0m\u001b[0;34m)\u001b[0m\u001b[0;34m\u001b[0m\u001b[0m\n\u001b[0m\u001b[1;32m    313\u001b[0m             \u001b[0mindex\u001b[0m \u001b[0;34m=\u001b[0m \u001b[0mlen\u001b[0m\u001b[0;34m(\u001b[0m\u001b[0mself\u001b[0m\u001b[0;34m.\u001b[0m\u001b[0m_jobs\u001b[0m\u001b[0;34m)\u001b[0m\u001b[0;34m\u001b[0m\u001b[0m\n\u001b[1;32m    314\u001b[0m             \u001b[0;32mif\u001b[0m \u001b[0;32mnot\u001b[0m \u001b[0m_verbosity_filter\u001b[0m\u001b[0;34m(\u001b[0m\u001b[0mindex\u001b[0m\u001b[0;34m,\u001b[0m \u001b[0mself\u001b[0m\u001b[0;34m.\u001b[0m\u001b[0mverbose\u001b[0m\u001b[0;34m)\u001b[0m\u001b[0;34m:\u001b[0m\u001b[0;34m\u001b[0m\u001b[0m\n",
        "\u001b[0;32m/Library/Python/2.7/site-packages/sklearn/externals/joblib/parallel.pyc\u001b[0m in \u001b[0;36m__init__\u001b[0;34m(self, func, args, kwargs)\u001b[0m\n\u001b[1;32m    134\u001b[0m         \u001b[0;31m# Don't delay the application, to avoid keeping the input\u001b[0m\u001b[0;34m\u001b[0m\u001b[0;34m\u001b[0m\u001b[0m\n\u001b[1;32m    135\u001b[0m         \u001b[0;31m# arguments in memory\u001b[0m\u001b[0;34m\u001b[0m\u001b[0;34m\u001b[0m\u001b[0m\n\u001b[0;32m--> 136\u001b[0;31m         \u001b[0mself\u001b[0m\u001b[0;34m.\u001b[0m\u001b[0mresults\u001b[0m \u001b[0;34m=\u001b[0m \u001b[0mfunc\u001b[0m\u001b[0;34m(\u001b[0m\u001b[0;34m*\u001b[0m\u001b[0margs\u001b[0m\u001b[0;34m,\u001b[0m \u001b[0;34m**\u001b[0m\u001b[0mkwargs\u001b[0m\u001b[0;34m)\u001b[0m\u001b[0;34m\u001b[0m\u001b[0m\n\u001b[0m\u001b[1;32m    137\u001b[0m \u001b[0;34m\u001b[0m\u001b[0m\n\u001b[1;32m    138\u001b[0m     \u001b[0;32mdef\u001b[0m \u001b[0mget\u001b[0m\u001b[0;34m(\u001b[0m\u001b[0mself\u001b[0m\u001b[0;34m)\u001b[0m\u001b[0;34m:\u001b[0m\u001b[0;34m\u001b[0m\u001b[0m\n",
        "\u001b[0;32m/Library/Python/2.7/site-packages/sklearn/cross_validation.pyc\u001b[0m in \u001b[0;36m_cross_val_score\u001b[0;34m(estimator, X, y, scorer, train, test, verbose, fit_params)\u001b[0m\n\u001b[1;32m   1058\u001b[0m         \u001b[0my_train\u001b[0m \u001b[0;34m=\u001b[0m \u001b[0my\u001b[0m\u001b[0;34m[\u001b[0m\u001b[0mtrain\u001b[0m\u001b[0;34m]\u001b[0m\u001b[0;34m\u001b[0m\u001b[0m\n\u001b[1;32m   1059\u001b[0m         \u001b[0my_test\u001b[0m \u001b[0;34m=\u001b[0m \u001b[0my\u001b[0m\u001b[0;34m[\u001b[0m\u001b[0mtest\u001b[0m\u001b[0;34m]\u001b[0m\u001b[0;34m\u001b[0m\u001b[0m\n\u001b[0;32m-> 1060\u001b[0;31m     \u001b[0mestimator\u001b[0m\u001b[0;34m.\u001b[0m\u001b[0mfit\u001b[0m\u001b[0;34m(\u001b[0m\u001b[0mX_train\u001b[0m\u001b[0;34m,\u001b[0m \u001b[0my_train\u001b[0m\u001b[0;34m,\u001b[0m \u001b[0;34m**\u001b[0m\u001b[0mfit_params\u001b[0m\u001b[0;34m)\u001b[0m\u001b[0;34m\u001b[0m\u001b[0m\n\u001b[0m\u001b[1;32m   1061\u001b[0m     \u001b[0;32mif\u001b[0m \u001b[0mscorer\u001b[0m \u001b[0;32mis\u001b[0m \u001b[0mNone\u001b[0m\u001b[0;34m:\u001b[0m\u001b[0;34m\u001b[0m\u001b[0m\n\u001b[1;32m   1062\u001b[0m         \u001b[0mscore\u001b[0m \u001b[0;34m=\u001b[0m \u001b[0mestimator\u001b[0m\u001b[0;34m.\u001b[0m\u001b[0mscore\u001b[0m\u001b[0;34m(\u001b[0m\u001b[0mX_test\u001b[0m\u001b[0;34m,\u001b[0m \u001b[0my_test\u001b[0m\u001b[0;34m)\u001b[0m\u001b[0;34m\u001b[0m\u001b[0m\n",
        "\u001b[0;32m/Library/Python/2.7/site-packages/sklearn/pipeline.pyc\u001b[0m in \u001b[0;36mfit\u001b[0;34m(self, X, y, **fit_params)\u001b[0m\n\u001b[1;32m    128\u001b[0m         \u001b[0mdata\u001b[0m\u001b[0;34m,\u001b[0m \u001b[0mthen\u001b[0m \u001b[0mfit\u001b[0m \u001b[0mthe\u001b[0m \u001b[0mtransformed\u001b[0m \u001b[0mdata\u001b[0m \u001b[0musing\u001b[0m \u001b[0mthe\u001b[0m \u001b[0mfinal\u001b[0m \u001b[0mestimator\u001b[0m\u001b[0;34m.\u001b[0m\u001b[0;34m\u001b[0m\u001b[0m\n\u001b[1;32m    129\u001b[0m         \"\"\"\n\u001b[0;32m--> 130\u001b[0;31m         \u001b[0mXt\u001b[0m\u001b[0;34m,\u001b[0m \u001b[0mfit_params\u001b[0m \u001b[0;34m=\u001b[0m \u001b[0mself\u001b[0m\u001b[0;34m.\u001b[0m\u001b[0m_pre_transform\u001b[0m\u001b[0;34m(\u001b[0m\u001b[0mX\u001b[0m\u001b[0;34m,\u001b[0m \u001b[0my\u001b[0m\u001b[0;34m,\u001b[0m \u001b[0;34m**\u001b[0m\u001b[0mfit_params\u001b[0m\u001b[0;34m)\u001b[0m\u001b[0;34m\u001b[0m\u001b[0m\n\u001b[0m\u001b[1;32m    131\u001b[0m         \u001b[0mself\u001b[0m\u001b[0;34m.\u001b[0m\u001b[0msteps\u001b[0m\u001b[0;34m[\u001b[0m\u001b[0;34m-\u001b[0m\u001b[0;36m1\u001b[0m\u001b[0;34m]\u001b[0m\u001b[0;34m[\u001b[0m\u001b[0;34m-\u001b[0m\u001b[0;36m1\u001b[0m\u001b[0;34m]\u001b[0m\u001b[0;34m.\u001b[0m\u001b[0mfit\u001b[0m\u001b[0;34m(\u001b[0m\u001b[0mXt\u001b[0m\u001b[0;34m,\u001b[0m \u001b[0my\u001b[0m\u001b[0;34m,\u001b[0m \u001b[0;34m**\u001b[0m\u001b[0mfit_params\u001b[0m\u001b[0;34m)\u001b[0m\u001b[0;34m\u001b[0m\u001b[0m\n\u001b[1;32m    132\u001b[0m         \u001b[0;32mreturn\u001b[0m \u001b[0mself\u001b[0m\u001b[0;34m\u001b[0m\u001b[0m\n",
        "\u001b[0;32m/Library/Python/2.7/site-packages/sklearn/pipeline.pyc\u001b[0m in \u001b[0;36m_pre_transform\u001b[0;34m(self, X, y, **fit_params)\u001b[0m\n\u001b[1;32m    118\u001b[0m         \u001b[0;32mfor\u001b[0m \u001b[0mname\u001b[0m\u001b[0;34m,\u001b[0m \u001b[0mtransform\u001b[0m \u001b[0;32min\u001b[0m \u001b[0mself\u001b[0m\u001b[0;34m.\u001b[0m\u001b[0msteps\u001b[0m\u001b[0;34m[\u001b[0m\u001b[0;34m:\u001b[0m\u001b[0;34m-\u001b[0m\u001b[0;36m1\u001b[0m\u001b[0;34m]\u001b[0m\u001b[0;34m:\u001b[0m\u001b[0;34m\u001b[0m\u001b[0m\n\u001b[1;32m    119\u001b[0m             \u001b[0;32mif\u001b[0m \u001b[0mhasattr\u001b[0m\u001b[0;34m(\u001b[0m\u001b[0mtransform\u001b[0m\u001b[0;34m,\u001b[0m \u001b[0;34m\"fit_transform\"\u001b[0m\u001b[0;34m)\u001b[0m\u001b[0;34m:\u001b[0m\u001b[0;34m\u001b[0m\u001b[0m\n\u001b[0;32m--> 120\u001b[0;31m                 \u001b[0mXt\u001b[0m \u001b[0;34m=\u001b[0m \u001b[0mtransform\u001b[0m\u001b[0;34m.\u001b[0m\u001b[0mfit_transform\u001b[0m\u001b[0;34m(\u001b[0m\u001b[0mXt\u001b[0m\u001b[0;34m,\u001b[0m \u001b[0my\u001b[0m\u001b[0;34m,\u001b[0m \u001b[0;34m**\u001b[0m\u001b[0mfit_params_steps\u001b[0m\u001b[0;34m[\u001b[0m\u001b[0mname\u001b[0m\u001b[0;34m]\u001b[0m\u001b[0;34m)\u001b[0m\u001b[0;34m\u001b[0m\u001b[0m\n\u001b[0m\u001b[1;32m    121\u001b[0m             \u001b[0;32melse\u001b[0m\u001b[0;34m:\u001b[0m\u001b[0;34m\u001b[0m\u001b[0m\n\u001b[1;32m    122\u001b[0m                 \u001b[0mXt\u001b[0m \u001b[0;34m=\u001b[0m \u001b[0mtransform\u001b[0m\u001b[0;34m.\u001b[0m\u001b[0mfit\u001b[0m\u001b[0;34m(\u001b[0m\u001b[0mXt\u001b[0m\u001b[0;34m,\u001b[0m \u001b[0my\u001b[0m\u001b[0;34m,\u001b[0m \u001b[0;34m**\u001b[0m\u001b[0mfit_params_steps\u001b[0m\u001b[0;34m[\u001b[0m\u001b[0mname\u001b[0m\u001b[0;34m]\u001b[0m\u001b[0;34m)\u001b[0m\u001b[0;31m \u001b[0m\u001b[0;31m\\\u001b[0m\u001b[0;34m\u001b[0m\u001b[0m\n",
        "\u001b[0;32m/Library/Python/2.7/site-packages/sklearn/base.pyc\u001b[0m in \u001b[0;36mfit_transform\u001b[0;34m(self, X, y, **fit_params)\u001b[0m\n\u001b[1;32m    409\u001b[0m         \u001b[0;32melse\u001b[0m\u001b[0;34m:\u001b[0m\u001b[0;34m\u001b[0m\u001b[0m\n\u001b[1;32m    410\u001b[0m             \u001b[0;31m# fit method of arity 2 (supervised transformation)\u001b[0m\u001b[0;34m\u001b[0m\u001b[0;34m\u001b[0m\u001b[0m\n\u001b[0;32m--> 411\u001b[0;31m             \u001b[0;32mreturn\u001b[0m \u001b[0mself\u001b[0m\u001b[0;34m.\u001b[0m\u001b[0mfit\u001b[0m\u001b[0;34m(\u001b[0m\u001b[0mX\u001b[0m\u001b[0;34m,\u001b[0m \u001b[0my\u001b[0m\u001b[0;34m,\u001b[0m \u001b[0;34m**\u001b[0m\u001b[0mfit_params\u001b[0m\u001b[0;34m)\u001b[0m\u001b[0;34m.\u001b[0m\u001b[0mtransform\u001b[0m\u001b[0;34m(\u001b[0m\u001b[0mX\u001b[0m\u001b[0;34m)\u001b[0m\u001b[0;34m\u001b[0m\u001b[0m\n\u001b[0m\u001b[1;32m    412\u001b[0m \u001b[0;34m\u001b[0m\u001b[0m\n\u001b[1;32m    413\u001b[0m \u001b[0;34m\u001b[0m\u001b[0m\n",
        "\u001b[0;32m<ipython-input-41-cfbfee7bc742>\u001b[0m in \u001b[0;36mfit\u001b[0;34m(self, X, y)\u001b[0m\n\u001b[1;32m     19\u001b[0m         \u001b[0mf\u001b[0m \u001b[0;34m=\u001b[0m \u001b[0mself\u001b[0m\u001b[0;34m.\u001b[0m\u001b[0mget_objective_fn\u001b[0m\u001b[0;34m(\u001b[0m\u001b[0mX\u001b[0m\u001b[0;34m)\u001b[0m\u001b[0;34m\u001b[0m\u001b[0m\n\u001b[1;32m     20\u001b[0m         \u001b[0mparam0\u001b[0m \u001b[0;34m=\u001b[0m \u001b[0mnp\u001b[0m\u001b[0;34m.\u001b[0m\u001b[0mrandom\u001b[0m\u001b[0;34m.\u001b[0m\u001b[0mrandn\u001b[0m\u001b[0;34m(\u001b[0m\u001b[0mX\u001b[0m\u001b[0;34m.\u001b[0m\u001b[0mshape\u001b[0m\u001b[0;34m[\u001b[0m\u001b[0;36m1\u001b[0m\u001b[0;34m]\u001b[0m\u001b[0;34m,\u001b[0m \u001b[0mself\u001b[0m\u001b[0;34m.\u001b[0m\u001b[0mn_features\u001b[0m\u001b[0;34m)\u001b[0m\u001b[0;34m\u001b[0m\u001b[0m\n\u001b[0;32m---> 21\u001b[0;31m         \u001b[0mself\u001b[0m\u001b[0;34m.\u001b[0m\u001b[0mW_\u001b[0m \u001b[0;34m=\u001b[0m \u001b[0mautodiff\u001b[0m\u001b[0;34m.\u001b[0m\u001b[0moptimize\u001b[0m\u001b[0;34m.\u001b[0m\u001b[0mfmin_l_bfgs_b\u001b[0m\u001b[0;34m(\u001b[0m\u001b[0mf\u001b[0m\u001b[0;34m,\u001b[0m \u001b[0mparam0\u001b[0m\u001b[0;34m,\u001b[0m \u001b[0mmaxfun\u001b[0m\u001b[0;34m=\u001b[0m\u001b[0mself\u001b[0m\u001b[0;34m.\u001b[0m\u001b[0mn_iters\u001b[0m\u001b[0;34m,\u001b[0m \u001b[0miprint\u001b[0m\u001b[0;34m=\u001b[0m\u001b[0;36m1\u001b[0m\u001b[0;34m)\u001b[0m\u001b[0;34m\u001b[0m\u001b[0m\n\u001b[0m\u001b[1;32m     22\u001b[0m         \u001b[0;32mreturn\u001b[0m \u001b[0mself\u001b[0m\u001b[0;34m\u001b[0m\u001b[0m\n\u001b[1;32m     23\u001b[0m     \u001b[0;32mdef\u001b[0m \u001b[0mtransform\u001b[0m\u001b[0;34m(\u001b[0m\u001b[0mself\u001b[0m\u001b[0;34m,\u001b[0m \u001b[0mX\u001b[0m\u001b[0;34m)\u001b[0m\u001b[0;34m:\u001b[0m\u001b[0;34m\u001b[0m\u001b[0m\n",
        "\u001b[0;32m/opt/local/Library/Frameworks/Python.framework/Versions/2.7/lib/python2.7/site-packages/autodiff/optimize.py\u001b[0m in \u001b[0;36mfmin_l_bfgs_b\u001b[0;34m(fn, init_args, init_kwargs, scalar_bounds, return_info, **scipy_kwargs)\u001b[0m\n\u001b[1;32m    128\u001b[0m         \u001b[0mx0\u001b[0m\u001b[0;34m=\u001b[0m\u001b[0mx0\u001b[0m\u001b[0;34m,\u001b[0m\u001b[0;34m\u001b[0m\u001b[0m\n\u001b[1;32m    129\u001b[0m         \u001b[0mapprox_grad\u001b[0m\u001b[0;34m=\u001b[0m\u001b[0mFalse\u001b[0m\u001b[0;34m,\u001b[0m\u001b[0;34m\u001b[0m\u001b[0m\n\u001b[0;32m--> 130\u001b[0;31m         **scipy_kwargs)\n\u001b[0m\u001b[1;32m    131\u001b[0m \u001b[0;34m\u001b[0m\u001b[0m\n\u001b[1;32m    132\u001b[0m     \u001b[0mx_reshaped\u001b[0m \u001b[0;34m=\u001b[0m \u001b[0mf_df\u001b[0m\u001b[0;34m.\u001b[0m\u001b[0margs_from_vector\u001b[0m\u001b[0;34m(\u001b[0m\u001b[0mx_opt\u001b[0m\u001b[0;34m)\u001b[0m\u001b[0;34m\u001b[0m\u001b[0m\n",
        "\u001b[0;32m/opt/local/Library/Frameworks/Python.framework/Versions/2.7/lib/python2.7/site-packages/scipy/optimize/lbfgsb.pyc\u001b[0m in \u001b[0;36mfmin_l_bfgs_b\u001b[0;34m(func, x0, fprime, args, approx_grad, bounds, m, factr, pgtol, epsilon, iprint, maxfun, maxiter, disp, callback)\u001b[0m\n\u001b[1;32m    183\u001b[0m \u001b[0;34m\u001b[0m\u001b[0m\n\u001b[1;32m    184\u001b[0m     res = _minimize_lbfgsb(fun, x0, args=args, jac=jac, bounds=bounds,\n\u001b[0;32m--> 185\u001b[0;31m                            **opts)\n\u001b[0m\u001b[1;32m    186\u001b[0m     d = {'grad': res['jac'],\n\u001b[1;32m    187\u001b[0m          \u001b[0;34m'task'\u001b[0m\u001b[0;34m:\u001b[0m \u001b[0mres\u001b[0m\u001b[0;34m[\u001b[0m\u001b[0;34m'message'\u001b[0m\u001b[0;34m]\u001b[0m\u001b[0;34m,\u001b[0m\u001b[0;34m\u001b[0m\u001b[0m\n",
        "\u001b[0;32m/opt/local/Library/Frameworks/Python.framework/Versions/2.7/lib/python2.7/site-packages/scipy/optimize/lbfgsb.pyc\u001b[0m in \u001b[0;36m_minimize_lbfgsb\u001b[0;34m(fun, x0, args, jac, bounds, disp, maxcor, ftol, gtol, eps, maxfun, maxiter, iprint, callback, **unknown_options)\u001b[0m\n\u001b[1;32m    312\u001b[0m                 \u001b[0mn_function_evals\u001b[0m \u001b[0;34m+=\u001b[0m \u001b[0;36m1\u001b[0m\u001b[0;34m\u001b[0m\u001b[0m\n\u001b[1;32m    313\u001b[0m                 \u001b[0;31m# Overwrite f and g:\u001b[0m\u001b[0;34m\u001b[0m\u001b[0;34m\u001b[0m\u001b[0m\n\u001b[0;32m--> 314\u001b[0;31m                 \u001b[0mf\u001b[0m\u001b[0;34m,\u001b[0m \u001b[0mg\u001b[0m \u001b[0;34m=\u001b[0m \u001b[0mfunc_and_grad\u001b[0m\u001b[0;34m(\u001b[0m\u001b[0mx\u001b[0m\u001b[0;34m)\u001b[0m\u001b[0;34m\u001b[0m\u001b[0m\n\u001b[0m\u001b[1;32m    315\u001b[0m         \u001b[0;32melif\u001b[0m \u001b[0mtask_str\u001b[0m\u001b[0;34m.\u001b[0m\u001b[0mstartswith\u001b[0m\u001b[0;34m(\u001b[0m\u001b[0;34mb'NEW_X'\u001b[0m\u001b[0;34m)\u001b[0m\u001b[0;34m:\u001b[0m\u001b[0;34m\u001b[0m\u001b[0m\n\u001b[1;32m    316\u001b[0m             \u001b[0;31m# new iteration\u001b[0m\u001b[0;34m\u001b[0m\u001b[0;34m\u001b[0m\u001b[0m\n",
        "\u001b[0;32m/opt/local/Library/Frameworks/Python.framework/Versions/2.7/lib/python2.7/site-packages/scipy/optimize/lbfgsb.pyc\u001b[0m in \u001b[0;36mfunc_and_grad\u001b[0;34m(x)\u001b[0m\n\u001b[1;32m    261\u001b[0m     \u001b[0;32melse\u001b[0m\u001b[0;34m:\u001b[0m\u001b[0;34m\u001b[0m\u001b[0m\n\u001b[1;32m    262\u001b[0m         \u001b[0;32mdef\u001b[0m \u001b[0mfunc_and_grad\u001b[0m\u001b[0;34m(\u001b[0m\u001b[0mx\u001b[0m\u001b[0;34m)\u001b[0m\u001b[0;34m:\u001b[0m\u001b[0;34m\u001b[0m\u001b[0m\n\u001b[0;32m--> 263\u001b[0;31m             \u001b[0mf\u001b[0m \u001b[0;34m=\u001b[0m \u001b[0mfun\u001b[0m\u001b[0;34m(\u001b[0m\u001b[0mx\u001b[0m\u001b[0;34m,\u001b[0m \u001b[0;34m*\u001b[0m\u001b[0margs\u001b[0m\u001b[0;34m)\u001b[0m\u001b[0;34m\u001b[0m\u001b[0m\n\u001b[0m\u001b[1;32m    264\u001b[0m             \u001b[0mg\u001b[0m \u001b[0;34m=\u001b[0m \u001b[0mjac\u001b[0m\u001b[0;34m(\u001b[0m\u001b[0mx\u001b[0m\u001b[0;34m,\u001b[0m \u001b[0;34m*\u001b[0m\u001b[0margs\u001b[0m\u001b[0;34m)\u001b[0m\u001b[0;34m\u001b[0m\u001b[0m\n\u001b[1;32m    265\u001b[0m             \u001b[0;32mreturn\u001b[0m \u001b[0mf\u001b[0m\u001b[0;34m,\u001b[0m \u001b[0mg\u001b[0m\u001b[0;34m\u001b[0m\u001b[0m\n",
        "\u001b[0;32m/opt/local/Library/Frameworks/Python.framework/Versions/2.7/lib/python2.7/site-packages/scipy/optimize/optimize.pyc\u001b[0m in \u001b[0;36m__call__\u001b[0;34m(self, x, *args)\u001b[0m\n\u001b[1;32m     57\u001b[0m     \u001b[0;32mdef\u001b[0m \u001b[0m__call__\u001b[0m\u001b[0;34m(\u001b[0m\u001b[0mself\u001b[0m\u001b[0;34m,\u001b[0m \u001b[0mx\u001b[0m\u001b[0;34m,\u001b[0m \u001b[0;34m*\u001b[0m\u001b[0margs\u001b[0m\u001b[0;34m)\u001b[0m\u001b[0;34m:\u001b[0m\u001b[0;34m\u001b[0m\u001b[0m\n\u001b[1;32m     58\u001b[0m         \u001b[0mself\u001b[0m\u001b[0;34m.\u001b[0m\u001b[0mx\u001b[0m \u001b[0;34m=\u001b[0m \u001b[0mnumpy\u001b[0m\u001b[0;34m.\u001b[0m\u001b[0masarray\u001b[0m\u001b[0;34m(\u001b[0m\u001b[0mx\u001b[0m\u001b[0;34m)\u001b[0m\u001b[0;34m.\u001b[0m\u001b[0mcopy\u001b[0m\u001b[0;34m(\u001b[0m\u001b[0;34m)\u001b[0m\u001b[0;34m\u001b[0m\u001b[0m\n\u001b[0;32m---> 59\u001b[0;31m         \u001b[0mfg\u001b[0m \u001b[0;34m=\u001b[0m \u001b[0mself\u001b[0m\u001b[0;34m.\u001b[0m\u001b[0mfun\u001b[0m\u001b[0;34m(\u001b[0m\u001b[0mx\u001b[0m\u001b[0;34m,\u001b[0m \u001b[0;34m*\u001b[0m\u001b[0margs\u001b[0m\u001b[0;34m)\u001b[0m\u001b[0;34m\u001b[0m\u001b[0m\n\u001b[0m\u001b[1;32m     60\u001b[0m         \u001b[0mself\u001b[0m\u001b[0;34m.\u001b[0m\u001b[0mjac\u001b[0m \u001b[0;34m=\u001b[0m \u001b[0mfg\u001b[0m\u001b[0;34m[\u001b[0m\u001b[0;36m1\u001b[0m\u001b[0;34m]\u001b[0m\u001b[0;34m\u001b[0m\u001b[0m\n\u001b[1;32m     61\u001b[0m         \u001b[0;32mreturn\u001b[0m \u001b[0mfg\u001b[0m\u001b[0;34m[\u001b[0m\u001b[0;36m0\u001b[0m\u001b[0;34m]\u001b[0m\u001b[0;34m\u001b[0m\u001b[0m\n",
        "\u001b[0;32m/opt/local/Library/Frameworks/Python.framework/Versions/2.7/lib/python2.7/site-packages/autodiff/symbolic.py\u001b[0m in \u001b[0;36m__call__\u001b[0;34m(self, *args, **kwargs)\u001b[0m\n\u001b[1;32m    275\u001b[0m \u001b[0;34m\u001b[0m\u001b[0m\n\u001b[1;32m    276\u001b[0m     \u001b[0;32mdef\u001b[0m \u001b[0m__call__\u001b[0m\u001b[0;34m(\u001b[0m\u001b[0mself\u001b[0m\u001b[0;34m,\u001b[0m \u001b[0;34m*\u001b[0m\u001b[0margs\u001b[0m\u001b[0;34m,\u001b[0m \u001b[0;34m**\u001b[0m\u001b[0mkwargs\u001b[0m\u001b[0;34m)\u001b[0m\u001b[0;34m:\u001b[0m\u001b[0;34m\u001b[0m\u001b[0m\n\u001b[0;32m--> 277\u001b[0;31m         \u001b[0;32mreturn\u001b[0m \u001b[0mself\u001b[0m\u001b[0;34m.\u001b[0m\u001b[0mcall\u001b[0m\u001b[0;34m(\u001b[0m\u001b[0;34m*\u001b[0m\u001b[0margs\u001b[0m\u001b[0;34m,\u001b[0m \u001b[0;34m**\u001b[0m\u001b[0mkwargs\u001b[0m\u001b[0;34m)\u001b[0m\u001b[0;34m\u001b[0m\u001b[0m\n\u001b[0m\u001b[1;32m    278\u001b[0m \u001b[0;34m\u001b[0m\u001b[0m\n\u001b[1;32m    279\u001b[0m     \u001b[0;32mdef\u001b[0m \u001b[0m__get__\u001b[0m\u001b[0;34m(\u001b[0m\u001b[0mself\u001b[0m\u001b[0;34m,\u001b[0m \u001b[0minstance\u001b[0m\u001b[0;34m,\u001b[0m \u001b[0mowner\u001b[0m\u001b[0;34m=\u001b[0m\u001b[0mNone\u001b[0m\u001b[0;34m)\u001b[0m\u001b[0;34m:\u001b[0m\u001b[0;34m\u001b[0m\u001b[0m\n",
        "\u001b[0;32m/opt/local/Library/Frameworks/Python.framework/Versions/2.7/lib/python2.7/site-packages/autodiff/symbolic.py\u001b[0m in \u001b[0;36mcall\u001b[0;34m(self, *args, **kwargs)\u001b[0m\n\u001b[1;32m    620\u001b[0m \u001b[0;34m\u001b[0m\u001b[0m\n\u001b[1;32m    621\u001b[0m     \u001b[0;32mdef\u001b[0m \u001b[0mcall\u001b[0m\u001b[0;34m(\u001b[0m\u001b[0mself\u001b[0m\u001b[0;34m,\u001b[0m \u001b[0;34m*\u001b[0m\u001b[0margs\u001b[0m\u001b[0;34m,\u001b[0m \u001b[0;34m**\u001b[0m\u001b[0mkwargs\u001b[0m\u001b[0;34m)\u001b[0m\u001b[0;34m:\u001b[0m\u001b[0;34m\u001b[0m\u001b[0m\n\u001b[0;32m--> 622\u001b[0;31m         \u001b[0;32mreturn\u001b[0m \u001b[0mself\u001b[0m\u001b[0;34m.\u001b[0m\u001b[0mcache\u001b[0m\u001b[0;34m[\u001b[0m\u001b[0;34m'fn'\u001b[0m\u001b[0;34m]\u001b[0m\u001b[0;34m(\u001b[0m\u001b[0;34m*\u001b[0m\u001b[0margs\u001b[0m\u001b[0;34m,\u001b[0m \u001b[0;34m**\u001b[0m\u001b[0mkwargs\u001b[0m\u001b[0;34m)\u001b[0m\u001b[0;34m\u001b[0m\u001b[0m\n\u001b[0m",
        "\u001b[0;32m/opt/local/Library/Frameworks/Python.framework/Versions/2.7/lib/python2.7/site-packages/Theano-0.6.0rc3-py2.7.egg/theano/compile/function_module.pyc\u001b[0m in \u001b[0;36m__call__\u001b[0;34m(self, *args, **kwargs)\u001b[0m\n\u001b[1;32m    578\u001b[0m         \u001b[0mt0_fn\u001b[0m \u001b[0;34m=\u001b[0m \u001b[0mtime\u001b[0m\u001b[0;34m.\u001b[0m\u001b[0mtime\u001b[0m\u001b[0;34m(\u001b[0m\u001b[0;34m)\u001b[0m\u001b[0;34m\u001b[0m\u001b[0m\n\u001b[1;32m    579\u001b[0m         \u001b[0;32mtry\u001b[0m\u001b[0;34m:\u001b[0m\u001b[0;34m\u001b[0m\u001b[0m\n\u001b[0;32m--> 580\u001b[0;31m             \u001b[0moutputs\u001b[0m \u001b[0;34m=\u001b[0m \u001b[0mself\u001b[0m\u001b[0;34m.\u001b[0m\u001b[0mfn\u001b[0m\u001b[0;34m(\u001b[0m\u001b[0;34m)\u001b[0m\u001b[0;34m\u001b[0m\u001b[0m\n\u001b[0m\u001b[1;32m    581\u001b[0m         \u001b[0;32mexcept\u001b[0m \u001b[0mException\u001b[0m\u001b[0;34m:\u001b[0m\u001b[0;34m\u001b[0m\u001b[0m\n\u001b[1;32m    582\u001b[0m             \u001b[0;32mif\u001b[0m \u001b[0mhasattr\u001b[0m\u001b[0;34m(\u001b[0m\u001b[0mself\u001b[0m\u001b[0;34m.\u001b[0m\u001b[0mfn\u001b[0m\u001b[0;34m,\u001b[0m \u001b[0;34m'position_of_error'\u001b[0m\u001b[0;34m)\u001b[0m\u001b[0;34m:\u001b[0m\u001b[0;34m\u001b[0m\u001b[0m\n",
        "\u001b[0;31mKeyboardInterrupt\u001b[0m: "
       ]
      },
      {
       "output_type": "stream",
       "stream": "stdout",
       "text": [
        "\n",
        "{'svc__gamma': 0.01, 'pca__n_components': 125, 'sf__n_features': 300, 'svc__C': 100}\n"
       ]
      }
     ],
     "prompt_number": 62
    },
    {
     "cell_type": "code",
     "collapsed": false,
     "input": [
      "## PCA + TriClustering\n",
      "from sklearn.cluster import MiniBatchKMeans\n",
      "from sklearn.preprocessing import normalize\n",
      "class TriCluster(BaseEstimator, TransformerMixin):\n",
      "    def __init__(self, n_features = 200):\n",
      "        self.n_features = n_features\n",
      "    def fit(self, X, y = None):\n",
      "        self.model_ =MiniBatchKMeans(n_clusters = self.n_features, max_iter = 200, \n",
      "                                     batch_size=100, random_state=0)\n",
      "        self.model_.fit(X)\n",
      "        self.cluster_thresholds_ = self.model_.transform(X).mean(axis = 0)\n",
      "        return self\n",
      "    def transform(self, X):\n",
      "        D = self.model_.transform(X)\n",
      "        D = np.maximum(0, self.cluster_thresholds_ - D)\n",
      "        return D"
     ],
     "language": "python",
     "metadata": {},
     "outputs": [],
     "prompt_number": 55
    },
    {
     "cell_type": "code",
     "collapsed": false,
     "input": [
      "from sklearn.neural_network import BernoulliRBM\n",
      "pca = PCA()\n",
      "clf = Pipeline(steps = [\n",
      "    ('pca', pca),\n",
      "    ('tc', TriCluster()),\n",
      "    ('sgd', sgd)\n",
      "])\n",
      "param_grid = {\n",
      "    'pca__n_components': [50, 100, 125],\n",
      "    'tc__n_features': [200, 300, 500, 600],\n",
      "    'sgd__alpha': [ 1e-4, 1e-3, 1e-2,],\n",
      "    'sgd__l1_ratio': [ 0.15, ]\n",
      "}\n",
      "#gs = GridSearchCV(clf, param_grid, cv = cv, n_jobs = 1)\n",
      "#gs.fit(black_X, black_y)\n",
      "#print gs.best_params_\n",
      "#print gs.best_score_\n",
      "result = {}\n",
      "for params in ParameterGrid(param_grid):\n",
      "    print params\n",
      "    clf.set_params(**params)\n",
      "    score =  np.mean(cross_val_score(clf, black_X, black_y, cv = cv))\n",
      "    print score\n",
      "    result[score] = params\n",
      "    \n",
      "## {'pca__n_components': 100, 'tc__n_features': 300, \n",
      "## 'sgd__l1_ratio': 0.15, 'sgd__alpha': 0.01}\n",
      "##0.214013414612"
     ],
     "language": "python",
     "metadata": {},
     "outputs": [
      {
       "output_type": "stream",
       "stream": "stdout",
       "text": [
        "{'pca__n_components': 50, 'tc__n_features': 200, 'sgd__l1_ratio': 0.15, 'sgd__alpha': 0.0001}\n",
        "0.153027278776"
       ]
      },
      {
       "output_type": "stream",
       "stream": "stdout",
       "text": [
        "\n",
        "{'pca__n_components': 50, 'tc__n_features': 300, 'sgd__l1_ratio': 0.15, 'sgd__alpha': 0.0001}\n",
        "0.176014337691"
       ]
      },
      {
       "output_type": "stream",
       "stream": "stdout",
       "text": [
        "\n",
        "{'pca__n_components': 50, 'tc__n_features': 500, 'sgd__l1_ratio': 0.15, 'sgd__alpha': 0.0001}\n",
        "0.172034309759"
       ]
      },
      {
       "output_type": "stream",
       "stream": "stdout",
       "text": [
        "\n",
        "{'pca__n_components': 50, 'tc__n_features': 600, 'sgd__l1_ratio': 0.15, 'sgd__alpha': 0.0001}\n",
        "0.16497335659"
       ]
      },
      {
       "output_type": "stream",
       "stream": "stdout",
       "text": [
        "\n",
        "{'pca__n_components': 50, 'tc__n_features': 200, 'sgd__l1_ratio': 0.15, 'sgd__alpha': 0.001}\n",
        "0.164985344626"
       ]
      },
      {
       "output_type": "stream",
       "stream": "stdout",
       "text": [
        "\n",
        "{'pca__n_components': 50, 'tc__n_features': 300, 'sgd__l1_ratio': 0.15, 'sgd__alpha': 0.001}\n",
        "0.138977300654"
       ]
      },
      {
       "output_type": "stream",
       "stream": "stdout",
       "text": [
        "\n",
        "{'pca__n_components': 50, 'tc__n_features': 500, 'sgd__l1_ratio': 0.15, 'sgd__alpha': 0.001}\n",
        "0.17604730479"
       ]
      },
      {
       "output_type": "stream",
       "stream": "stdout",
       "text": [
        "\n",
        "{'pca__n_components': 50, 'tc__n_features': 600, 'sgd__l1_ratio': 0.15, 'sgd__alpha': 0.001}\n",
        "0.144027260794"
       ]
      },
      {
       "output_type": "stream",
       "stream": "stdout",
       "text": [
        "\n",
        "{'pca__n_components': 50, 'tc__n_features': 200, 'sgd__l1_ratio': 0.15, 'sgd__alpha': 0.01}\n",
        "0.147989306672"
       ]
      },
      {
       "output_type": "stream",
       "stream": "stdout",
       "text": [
        "\n",
        "{'pca__n_components': 50, 'tc__n_features': 300, 'sgd__l1_ratio': 0.15, 'sgd__alpha': 0.01}\n",
        "0.168992345639"
       ]
      },
      {
       "output_type": "stream",
       "stream": "stdout",
       "text": [
        "\n",
        "{'pca__n_components': 50, 'tc__n_features': 500, 'sgd__l1_ratio': 0.15, 'sgd__alpha': 0.01}\n",
        "0.149940359521"
       ]
      },
      {
       "output_type": "stream",
       "stream": "stdout",
       "text": [
        "\n",
        "{'pca__n_components': 50, 'tc__n_features': 600, 'sgd__l1_ratio': 0.15, 'sgd__alpha': 0.01}\n",
        "0.164991338644"
       ]
      },
      {
       "output_type": "stream",
       "stream": "stdout",
       "text": [
        "\n",
        "{'pca__n_components': 100, 'tc__n_features': 200, 'sgd__l1_ratio': 0.15, 'sgd__alpha': 0.0001}\n",
        "0.14896932861"
       ]
      },
      {
       "output_type": "stream",
       "stream": "stdout",
       "text": [
        "\n",
        "{'pca__n_components': 100, 'tc__n_features': 300, 'sgd__l1_ratio': 0.15, 'sgd__alpha': 0.0001}\n",
        "0.159015302728"
       ]
      },
      {
       "output_type": "stream",
       "stream": "stdout",
       "text": [
        "\n",
        "{'pca__n_components': 100, 'tc__n_features': 500, 'sgd__l1_ratio': 0.15, 'sgd__alpha': 0.0001}\n",
        "0.127007246768"
       ]
      },
      {
       "output_type": "stream",
       "stream": "stdout",
       "text": [
        "\n",
        "{'pca__n_components': 100, 'tc__n_features': 600, 'sgd__l1_ratio': 0.15, 'sgd__alpha': 0.0001}\n",
        "0.161985338632"
       ]
      },
      {
       "output_type": "stream",
       "stream": "stdout",
       "text": [
        "\n",
        "{'pca__n_components': 100, 'tc__n_features': 200, 'sgd__l1_ratio': 0.15, 'sgd__alpha': 0.001}\n",
        "0.183977390564"
       ]
      },
      {
       "output_type": "stream",
       "stream": "stdout",
       "text": [
        "\n",
        "{'pca__n_components': 100, 'tc__n_features': 300, 'sgd__l1_ratio': 0.15, 'sgd__alpha': 0.001}\n",
        "0.138983294672"
       ]
      },
      {
       "output_type": "stream",
       "stream": "stdout",
       "text": [
        "\n",
        "{'pca__n_components': 100, 'tc__n_features': 500, 'sgd__l1_ratio': 0.15, 'sgd__alpha': 0.001}\n",
        "0.142007276738"
       ]
      },
      {
       "output_type": "stream",
       "stream": "stdout",
       "text": [
        "\n",
        "{'pca__n_components': 100, 'tc__n_features': 600, 'sgd__l1_ratio': 0.15, 'sgd__alpha': 0.001}\n",
        "0.165992339645"
       ]
      },
      {
       "output_type": "stream",
       "stream": "stdout",
       "text": [
        "\n",
        "{'pca__n_components': 100, 'tc__n_features': 200, 'sgd__l1_ratio': 0.15, 'sgd__alpha': 0.01}\n",
        "0.134979290668"
       ]
      },
      {
       "output_type": "stream",
       "stream": "stdout",
       "text": [
        "\n",
        "{'pca__n_components': 100, 'tc__n_features': 300, 'sgd__l1_ratio': 0.15, 'sgd__alpha': 0.01}\n",
        "0.214013414612"
       ]
      },
      {
       "output_type": "stream",
       "stream": "stdout",
       "text": [
        "\n",
        "{'pca__n_components': 100, 'tc__n_features': 500, 'sgd__l1_ratio': 0.15, 'sgd__alpha': 0.01}\n",
        "0.195030359701"
       ]
      },
      {
       "output_type": "stream",
       "stream": "stdout",
       "text": [
        "\n",
        "{'pca__n_components': 100, 'tc__n_features': 600, 'sgd__l1_ratio': 0.15, 'sgd__alpha': 0.01}\n",
        "0.147986309663"
       ]
      },
      {
       "output_type": "stream",
       "stream": "stdout",
       "text": [
        "\n",
        "{'pca__n_components': 125, 'tc__n_features': 200, 'sgd__l1_ratio': 0.15, 'sgd__alpha': 0.0001}\n",
        "0.147015278752"
       ]
      },
      {
       "output_type": "stream",
       "stream": "stdout",
       "text": [
        "\n",
        "{'pca__n_components': 125, 'tc__n_features': 300, 'sgd__l1_ratio': 0.15, 'sgd__alpha': 0.0001}\n",
        "0.154001306696"
       ]
      },
      {
       "output_type": "stream",
       "stream": "stdout",
       "text": [
        "\n",
        "{'pca__n_components': 125, 'tc__n_features': 500, 'sgd__l1_ratio': 0.15, 'sgd__alpha': 0.0001}\n",
        "0.167038295781"
       ]
      },
      {
       "output_type": "stream",
       "stream": "stdout",
       "text": [
        "\n",
        "{'pca__n_components': 125, 'tc__n_features': 600, 'sgd__l1_ratio': 0.15, 'sgd__alpha': 0.0001}\n",
        "0.160010309711"
       ]
      },
      {
       "output_type": "stream",
       "stream": "stdout",
       "text": [
        "\n",
        "{'pca__n_components': 125, 'tc__n_features': 200, 'sgd__l1_ratio': 0.15, 'sgd__alpha': 0.001}\n",
        "0.169999340658"
       ]
      },
      {
       "output_type": "stream",
       "stream": "stdout",
       "text": [
        "\n",
        "{'pca__n_components': 125, 'tc__n_features': 300, 'sgd__l1_ratio': 0.15, 'sgd__alpha': 0.001}\n",
        "0.161985338632"
       ]
      },
      {
       "output_type": "stream",
       "stream": "stdout",
       "text": [
        "\n",
        "{'pca__n_components': 125, 'tc__n_features': 500, 'sgd__l1_ratio': 0.15, 'sgd__alpha': 0.001}\n",
        "0.15998333663"
       ]
      },
      {
       "output_type": "stream",
       "stream": "stdout",
       "text": [
        "\n",
        "{'pca__n_components': 125, 'tc__n_features': 600, 'sgd__l1_ratio': 0.15, 'sgd__alpha': 0.001}\n",
        "0.161973350596"
       ]
      },
      {
       "output_type": "stream",
       "stream": "stdout",
       "text": [
        "\n",
        "{'pca__n_components': 125, 'tc__n_features': 200, 'sgd__l1_ratio': 0.15, 'sgd__alpha': 0.01}\n",
        "0.174015332698"
       ]
      },
      {
       "output_type": "stream",
       "stream": "stdout",
       "text": [
        "\n",
        "{'pca__n_components': 125, 'tc__n_features': 300, 'sgd__l1_ratio': 0.15, 'sgd__alpha': 0.01}\n",
        "0.171003338668"
       ]
      },
      {
       "output_type": "stream",
       "stream": "stdout",
       "text": [
        "\n",
        "{'pca__n_components': 125, 'tc__n_features': 500, 'sgd__l1_ratio': 0.15, 'sgd__alpha': 0.01}\n",
        "0.149011286736"
       ]
      },
      {
       "output_type": "stream",
       "stream": "stdout",
       "text": [
        "\n",
        "{'pca__n_components': 125, 'tc__n_features': 600, 'sgd__l1_ratio': 0.15, 'sgd__alpha': 0.01}\n",
        "0.141983300666"
       ]
      },
      {
       "output_type": "stream",
       "stream": "stdout",
       "text": [
        "\n"
       ]
      },
      {
       "output_type": "stream",
       "stream": "stderr",
       "text": [
        "/Library/Python/2.7/site-packages/sklearn/cluster/k_means_.py:1161: RuntimeWarning: init_size=300 should be larger than k=600. Setting it to 3*k\n",
        "  init_size=init_size)\n"
       ]
      }
     ],
     "prompt_number": 58
    },
    {
     "cell_type": "code",
     "collapsed": false,
     "input": [
      "def sigmoid(u):\n",
      "    return 1. / (1. + np.exp(-u))\n",
      "\n",
      "class LinearDecoder(BaseEstimator, TransformerMixin):\n",
      "    def __init__(self, n_features = 200, sparse_thr = 0.1, \n",
      "                     l2_coeff = 1e-3, sparse_coeff = 3, \n",
      "                     n_iters = 400):\n",
      "        self.n_features = n_features\n",
      "        self.sparse_thr = sparse_thr\n",
      "        self.l2_coeff = l2_coeff\n",
      "        self.sparse_coeff = sparse_coeff\n",
      "        self.n_iters = n_iters\n",
      "    def get_objective_fn(self, X):\n",
      "        def _objective(W1, b1, W2, b2):\n",
      "            Y = sigmoid(np.dot(X, W1) + b1)\n",
      "            rhos = np.mean(Y, axis = 0)\n",
      "            Z = np.dot(Y, W2) + b2\n",
      "            likelihood = np.mean(np.sum((X-Z)**2, axis = 1))\n",
      "            l2norm = np.sum(W1**2) + np.sum(W2**2)\n",
      "            sparsity = np.sum(self.sparse_thr * np.log(self.sparse_thr / rhos)\n",
      "                              + (1-self.sparse_thr) * np.log((1-self.sparse_thr) / (1-rhos)))\n",
      "            cost = likelihood + self.l2_coeff * l2norm + self.sparse_coeff * sparsity\n",
      "            return cost\n",
      "        return _objective\n",
      "    def fit(self, X, y = None):\n",
      "        n_input = X.shape[1]\n",
      "        magic = np.sqrt(6. / (n_input + self.n_features))\n",
      "        W1 = np.random.uniform(low = -4. * magic,\n",
      "                                     high = 4. * magic,\n",
      "                                     size = (n_input, self.n_features))\n",
      "        b1 = np.zeros((self.n_features, ))\n",
      "        W2 = np.random.uniform(low = -4. * magic,\n",
      "                                     high = 4. * magic,\n",
      "                                     size = (self.n_features, n_input))\n",
      "        b2 = np.zeros((n_input, ))\n",
      "        f = self.get_objective_fn(X)\n",
      "        self.W1_, self.b1_, self.W2_, self.b2_ = autodiff.optimize.fmin_l_bfgs_b(f, \n",
      "                                                                                 (W1, b1, W2, b2), \n",
      "                                                                                 maxfun = self.n_iters,\n",
      "                                                                                 iprint = 1)\n",
      "        return self\n",
      "    def transform(self, X):\n",
      "        Y = sigmoid(np.dot(X, self.W1_) + self.b1_)\n",
      "        return Y"
     ],
     "language": "python",
     "metadata": {},
     "outputs": [],
     "prompt_number": 5
    },
    {
     "cell_type": "code",
     "collapsed": false,
     "input": [
      "## PCA + Linear Decoder\n",
      "from sklearn.neural_network import BernoulliRBM\n",
      "pca = PCA()\n",
      "clf = Pipeline(steps = [\n",
      "    ('pca', pca),\n",
      "    ('ld', LinearDecoder()),\n",
      "    ('sgd', sgd)\n",
      "])\n",
      "param_grid = {\n",
      "    'pca__n_components': [100],\n",
      "    'ld__n_features': [200, 300, 500, 1000],\n",
      "    'sgd__alpha': [ 1e-4, 1e-3, 1e-2,],\n",
      "    'sgd__l1_ratio': [ 0.15, ]\n",
      "}\n",
      "#gs = GridSearchCV(clf, param_grid, cv = cv, n_jobs = 1)\n",
      "#gs.fit(black_X, black_y)\n",
      "#print gs.best_params_\n",
      "#print gs.best_score_\n",
      "result = {}\n",
      "for params in ParameterGrid(param_grid):\n",
      "    print params\n",
      "    clf.set_params(**params)\n",
      "    score =  np.mean(cross_val_score(clf, black_X, black_y, cv = cv))\n",
      "    print score\n",
      "    result[score] = params"
     ],
     "language": "python",
     "metadata": {},
     "outputs": [
      {
       "output_type": "stream",
       "stream": "stdout",
       "text": [
        "{'ld__n_features': 200, 'pca__n_components': 100, 'sgd__l1_ratio': 0.15, 'sgd__alpha': 0.0001}\n",
        "0.232999466532"
       ]
      },
      {
       "output_type": "stream",
       "stream": "stdout",
       "text": [
        "\n",
        "{'ld__n_features': 200, 'pca__n_components': 100, 'sgd__l1_ratio': 0.15, 'sgd__alpha': 0.001}\n",
        "0.245017472562"
       ]
      },
      {
       "output_type": "stream",
       "stream": "stdout",
       "text": [
        "\n",
        "{'ld__n_features': 200, 'pca__n_components': 100, 'sgd__l1_ratio': 0.15, 'sgd__alpha': 0.01}\n",
        "0.198027368686"
       ]
      },
      {
       "output_type": "stream",
       "stream": "stdout",
       "text": [
        "\n",
        "{'ld__n_features': 300, 'pca__n_components': 100, 'sgd__l1_ratio': 0.15, 'sgd__alpha': 0.0001}\n",
        "0.261965558373"
       ]
      },
      {
       "output_type": "stream",
       "stream": "stdout",
       "text": [
        "\n",
        "{'ld__n_features': 300, 'pca__n_components': 100, 'sgd__l1_ratio': 0.15, 'sgd__alpha': 0.001}\n",
        "0.264006521492"
       ]
      },
      {
       "output_type": "stream",
       "stream": "stdout",
       "text": [
        "\n",
        "{'ld__n_features': 300, 'pca__n_components': 100, 'sgd__l1_ratio': 0.15, 'sgd__alpha': 0.01}\n",
        "0.198027368686"
       ]
      },
      {
       "output_type": "stream",
       "stream": "stdout",
       "text": [
        "\n",
        "{'ld__n_features': 500, 'pca__n_components': 100, 'sgd__l1_ratio': 0.15, 'sgd__alpha': 0.0001}\n",
        "0.259007510505"
       ]
      },
      {
       "output_type": "stream",
       "stream": "stdout",
       "text": [
        "\n",
        "{'ld__n_features': 500, 'pca__n_components': 100, 'sgd__l1_ratio': 0.15, 'sgd__alpha': 0.001}\n",
        "0.245982509456"
       ]
      },
      {
       "output_type": "stream",
       "stream": "stdout",
       "text": [
        "\n",
        "{'ld__n_features': 500, 'pca__n_components': 100, 'sgd__l1_ratio': 0.15, 'sgd__alpha': 0.01}\n",
        "0.197026367685"
       ]
      },
      {
       "output_type": "stream",
       "stream": "stdout",
       "text": [
        "\n",
        "{'ld__n_features': 1000, 'pca__n_components': 100, 'sgd__l1_ratio': 0.15, 'sgd__alpha': 0.0001}\n",
        "0.221056385727"
       ]
      },
      {
       "output_type": "stream",
       "stream": "stdout",
       "text": [
        "\n",
        "{'ld__n_features': 1000, 'pca__n_components': 100, 'sgd__l1_ratio': 0.15, 'sgd__alpha': 0.001}\n",
        "0.243006479533"
       ]
      },
      {
       "output_type": "stream",
       "stream": "stdout",
       "text": [
        "\n",
        "{'ld__n_features': 1000, 'pca__n_components': 100, 'sgd__l1_ratio': 0.15, 'sgd__alpha': 0.01}\n",
        "0.198027368686"
       ]
      },
      {
       "output_type": "stream",
       "stream": "stdout",
       "text": [
        "\n"
       ]
      }
     ],
     "prompt_number": 74
    },
    {
     "cell_type": "markdown",
     "metadata": {},
     "source": [
      "## layer 3"
     ]
    },
    {
     "cell_type": "code",
     "collapsed": false,
     "input": [
      "from sklearn.neural_network import BernoulliRBM\n",
      "feature_extractor = Pipeline(steps = [\n",
      "    ('pca', PCA(n_components=100)),\n",
      "    ('sf1', SparseFilter(n_features=500, n_iters=600)),\n",
      "    ('sf2', SparseFilter(n_iters=600))\n",
      "])\n",
      "\n",
      "\n",
      "results = {}\n",
      "for sf2__n_features in [50, 100, 200, 300, 500]:\n",
      "    params = {'sf2__n_features': sf2__n_features}\n",
      "    feature_extractor.set_params(**params)\n",
      "    feats = feature_extractor.fit_transform(black_X)\n",
      "    sgd = SGDClassifier(loss = 'log', penalty = 'elasticnet', shuffle=True, )\n",
      "    param_grid = {'alpha':[1e-4, 1e-3, 1e-2, 1e-1], 'l1_ratio':[0.15]}\n",
      "    gs = GridSearchCV(sgd, param_grid, cv = cv, ).fit(feats, black_y)\n",
      "    print sf2__n_features\n",
      "    print gs.best_params_\n",
      "    print gs.best_score_"
     ],
     "language": "python",
     "metadata": {},
     "outputs": [
      {
       "output_type": "stream",
       "stream": "stdout",
       "text": [
        "50\n",
        "{'alpha': 0.001, 'l1_ratio': 0.15}\n",
        "0.392\n",
        "100"
       ]
      },
      {
       "output_type": "stream",
       "stream": "stdout",
       "text": [
        "\n",
        "{'alpha': 0.001, 'l1_ratio': 0.15}\n",
        "0.433\n",
        "200"
       ]
      },
      {
       "output_type": "stream",
       "stream": "stdout",
       "text": [
        "\n",
        "{'alpha': 0.001, 'l1_ratio': 0.15}\n",
        "0.459\n",
        "300"
       ]
      },
      {
       "output_type": "stream",
       "stream": "stdout",
       "text": [
        "\n",
        "{'alpha': 0.001, 'l1_ratio': 0.15}\n",
        "0.467\n",
        "500"
       ]
      },
      {
       "output_type": "stream",
       "stream": "stdout",
       "text": [
        "\n",
        "{'alpha': 0.001, 'l1_ratio': 0.15}\n",
        "0.433\n"
       ]
      }
     ],
     "prompt_number": 75
    },
    {
     "cell_type": "code",
     "collapsed": false,
     "input": [
      "from sklearn.decomposition import RandomizedPCA\n",
      "feature_extractor = Pipeline(steps = [\n",
      "    ('pca1', RandomizedPCA(n_components=100)),\n",
      "    ('sf1', SparseFilter(n_features=500, n_iters=600)),\n",
      "    ('sf2', SparseFilter(n_features=300, n_iters=600)),\n",
      "    ('pca2', RandomizedPCA(n_components=100))\n",
      "])\n",
      "\n",
      "XX = feature_extractor.fit_transform(black_X)\n",
      "\n",
      "\n",
      "sgd = SGDClassifier(loss = 'log', penalty = 'elasticnet', shuffle=True, )\n",
      "param_grid = {'alpha':[1e-4, 1e-3, 1e-2, 1e-1], 'l1_ratio':[0.15]}\n",
      "gs = GridSearchCV(sgd, param_grid, cv = cv, ).fit(XX, black_y)\n",
      "print gs.best_params_\n",
      "print gs.best_score_"
     ],
     "language": "python",
     "metadata": {},
     "outputs": [
      {
       "output_type": "stream",
       "stream": "stdout",
       "text": [
        "{'alpha': 0.001, 'l1_ratio': 0.15}\n",
        "0.455\n"
       ]
      }
     ],
     "prompt_number": 17
    },
    {
     "cell_type": "code",
     "collapsed": false,
     "input": [
      "from sklearn.decomposition import RandomizedPCA\n",
      "feature_extractor = Pipeline(steps = [\n",
      "    ('pca1', RandomizedPCA(n_components=100)),\n",
      "    ('sf1', SparseFilter(n_features=500, n_iters=600)),\n",
      "    ('sf2', SparseFilter(n_features=300, n_iters=600)),\n",
      "    ('sf3', SparseFilter(n_features=200, n_iters=600)),\n",
      "    ('pca2', RandomizedPCA(n_components=100))\n",
      "])\n",
      "\n",
      "XX = feature_extractor.fit_transform(black_X)\n",
      "\n",
      "\n",
      "sgd = SGDClassifier(loss = 'log', penalty = 'elasticnet', shuffle=True, )\n",
      "param_grid = {'alpha':[1e-4, 1e-3, 1e-2, 1e-1], 'l1_ratio':[0.15]}\n",
      "gs = GridSearchCV(sgd, param_grid, cv = cv, ).fit(XX, black_y)\n",
      "print gs.best_params_\n",
      "print gs.best_score_"
     ],
     "language": "python",
     "metadata": {},
     "outputs": [
      {
       "output_type": "stream",
       "stream": "stdout",
       "text": [
        "{'alpha': 0.001, 'l1_ratio': 0.15}\n",
        "0.428\n"
       ]
      }
     ],
     "prompt_number": 17
    },
    {
     "cell_type": "code",
     "collapsed": false,
     "input": [
      "from sklearn.decomposition import RandomizedPCA\n",
      "pca1 = RandomizedPCA(n_components=100)\n",
      "sf1 = SparseFilter(n_features=500, n_iters=600)\n",
      "sf2 =  SparseFilter(n_features=300, n_iters=600)\n",
      "sf3 =  SparseFilter(n_features=200, n_iters=600)\n",
      "\n",
      "XX1 = pca1.fit_transform(black_X)\n",
      "XX2 = sf1.fit_transform(XX1)\n",
      "XX3 = sf2.fit_transform(XX2)\n",
      "XX4 = sf3.fit_transform(XX3)\n",
      "feats = np.hstack([XX1, XX2, XX3, XX4])\n",
      "norm_feats = normalize(feats)\n",
      "\n",
      "\n"
     ],
     "language": "python",
     "metadata": {},
     "outputs": [
      {
       "output_type": "stream",
       "stream": "stdout",
       "text": [
        "{'alpha': 0.0001, 'l1_ratio': 0.3}\n",
        "0.336\n",
        "{'alpha': 0.0001, 'l1_ratio': 0.2}"
       ]
      },
      {
       "output_type": "stream",
       "stream": "stdout",
       "text": [
        "\n",
        "0.302\n"
       ]
      }
     ],
     "prompt_number": 20
    },
    {
     "cell_type": "code",
     "collapsed": false,
     "input": [
      "sgd = SGDClassifier(loss = 'log', penalty = 'elasticnet', shuffle=True, )\n",
      "param_grid = {'alpha':[1e-6, 1e-5, 1e-4, 1e-3, 1e-2, 1e-1], 'l1_ratio':[0.15, 0.2, 0.3, 0.5]}\n",
      "gs1 = GridSearchCV(sgd, param_grid, cv = cv, ).fit(feats, black_y)\n",
      "print gs1.best_params_\n",
      "print gs1.best_score_\n",
      "gs2 = GridSearchCV(sgd, param_grid, cv = cv, ).fit(norm_feats, black_y)\n",
      "print gs2.best_params_\n",
      "print gs2.best_score_"
     ],
     "language": "python",
     "metadata": {},
     "outputs": [
      {
       "output_type": "stream",
       "stream": "stdout",
       "text": [
        "{'alpha': 0.0001, 'l1_ratio': 0.15}\n",
        "0.36\n",
        "{'alpha': 0.0001, 'l1_ratio': 0.15}"
       ]
      },
      {
       "output_type": "stream",
       "stream": "stdout",
       "text": [
        "\n",
        "0.335\n"
       ]
      }
     ],
     "prompt_number": 22
    },
    {
     "cell_type": "code",
     "collapsed": false,
     "input": [
      "from sklearn.ensemble import ExtraTreesClassifier, GradientBoostingClassifier\n",
      "\n",
      "\n",
      "rf = ExtraTreesClassifier(n_jobs = -1, )\n",
      "param_grid = {\n",
      "    'n_estimators': [100, 500, 700, 1000, 1500],\n",
      "    'max_features': [50, 100, 200, 500]\n",
      "}\n",
      "for params in ParameterGrid(param_grid):\n",
      "    rf.set_params(**params)\n",
      "    print params\n",
      "    print np.mean(cross_val_score(rf, feats, black_y, cv = cv))"
     ],
     "language": "python",
     "metadata": {},
     "outputs": [
      {
       "output_type": "stream",
       "stream": "stdout",
       "text": [
        "{'max_features': 50, 'n_estimators': 100}\n"
       ]
      },
      {
       "output_type": "stream",
       "stream": "stdout",
       "text": [
        "0.474033914154\n",
        "{'max_features': 50, 'n_estimators': 500}\n"
       ]
      },
      {
       "output_type": "stream",
       "stream": "stdout",
       "text": [
        "0.477012941085\n",
        "{'max_features': 50, 'n_estimators': 700}\n"
       ]
      },
      {
       "output_type": "stream",
       "stream": "stdout",
       "text": [
        "0.465018911127\n",
        "{'max_features': 50, 'n_estimators': 1000}\n"
       ]
      }
     ],
     "prompt_number": "*"
    },
    {
     "cell_type": "code",
     "collapsed": false,
     "input": [],
     "language": "python",
     "metadata": {},
     "outputs": []
    },
    {
     "cell_type": "code",
     "collapsed": false,
     "input": [
      "from sklearn.utils import check_random_state\n",
      "from sklearn.preprocessing import normalize\n",
      "def soft_threshold(data, centers, threshold = 0.0, \n",
      "\t\t\t\tnormalized = False):\n",
      "\t## normalize both data and centers PER SAMPLE\n",
      "\tC = normalize(centers)\n",
      "\tX = normalize(data)\n",
      "\t## calculate cosine distances \n",
      "\tsimilarities = np.dot(X, C.T)\n",
      "\n",
      "\t## thresholding - pos only\n",
      "\tsimilarities[similarities < threshold] = 0.0\n",
      "\tif normalized: \n",
      "\t\treturn normalize(similarities, copy = True)\n",
      "\telse:\n",
      "\t\treturn similarities\n",
      "class SamplingSoftThreshold(BaseEstimator, TransformerMixin):\n",
      "    def __init__(self, n_components, threshold = 0.0, \n",
      "                 random_state = None):\n",
      "        self.n_components = n_components\n",
      "        self.threshold = threshold\n",
      "        self.random_state = random_state\n",
      "    def fit(self, X, y = None):\n",
      "        \"\"\"\n",
      "        Randomly sample support vectors\n",
      "        \"\"\"\n",
      "        random_state = check_random_state(self.random_state)\n",
      "        X = np.asarray(X)\n",
      "        sv_indices = np.arange(X.shape[0])\n",
      "        random_state.shuffle(sv_indices)\n",
      "        self.sv_indices_ = sv_indices[:self.n_components]\n",
      "        self.components_ = X[self.sv_indices_]\n",
      "        return self\n",
      "    def transform(self, X):\n",
      "        return soft_threshold(X, self.components_, \n",
      "                              threshold = self.threshold)"
     ],
     "language": "python",
     "metadata": {},
     "outputs": [],
     "prompt_number": 11
    },
    {
     "cell_type": "code",
     "collapsed": false,
     "input": [
      "from sklearn.decomposition import RandomizedPCA\n",
      "feature_extractor = Pipeline(steps = [\n",
      "    ('pca1', RandomizedPCA(n_components=100)),\n",
      "    ('sf1', SparseFilter(n_features=500, n_iters=600)),\n",
      "    ('sf2', SparseFilter(n_features=300, n_iters=600)),\n",
      "])\n",
      "\n",
      "XX = feature_extractor.fit_transform(black_X)\n",
      "\n",
      "for n_components in [50, 100, 500, 600]:\n",
      "    feats = SamplingSoftThreshold(n_components).fit_transform(XX)\n",
      "    sgd = SGDClassifier(loss = 'log', penalty = 'elasticnet', shuffle=True, )\n",
      "    param_grid = {'alpha':[1e-4, 1e-3, 1e-2, 1e-1], 'l1_ratio':[0.15]}\n",
      "    gs = GridSearchCV(sgd, param_grid, cv = cv, ).fit(feats, black_y)\n",
      "    print n_components\n",
      "    print gs.best_params_\n",
      "    print gs.best_score_"
     ],
     "language": "python",
     "metadata": {},
     "outputs": [
      {
       "output_type": "stream",
       "stream": "stdout",
       "text": [
        "50\n",
        "{'alpha': 0.0001, 'l1_ratio': 0.15}\n",
        "0.362\n",
        "100"
       ]
      },
      {
       "output_type": "stream",
       "stream": "stdout",
       "text": [
        "\n",
        "{'alpha': 0.001, 'l1_ratio': 0.15}\n",
        "0.433\n",
        "500"
       ]
      },
      {
       "output_type": "stream",
       "stream": "stdout",
       "text": [
        "\n",
        "{'alpha': 0.001, 'l1_ratio': 0.15}\n",
        "0.435\n",
        "600"
       ]
      },
      {
       "output_type": "stream",
       "stream": "stdout",
       "text": [
        "\n",
        "{'alpha': 0.001, 'l1_ratio': 0.15}\n",
        "0.435\n"
       ]
      }
     ],
     "prompt_number": 15
    },
    {
     "cell_type": "code",
     "collapsed": false,
     "input": [
      "from sklearn.ensemble import ExtraTreesClassifier, GradientBoostingClassifier\n",
      "feature_extractor = Pipeline(steps = [\n",
      "    ('pca', PCA(n_components=100)),\n",
      "    ('sf1', SparseFilter(n_features=500, n_iters=600)),\n",
      "    ('sf2', SparseFilter(n_features=300, n_iters=600)), \n",
      "])\n",
      "feats_X = feature_extractor.fit_transform(black_X)\n",
      "\n",
      "rf = ExtraTreesClassifier(n_jobs = -1, )\n",
      "param_grid = {\n",
      "    'n_estimators': [10, 50, 100, 500],\n",
      "    'max_features': [10, 20, 50, 100, 200]\n",
      "}\n",
      "for params in ParameterGrid(param_grid):\n",
      "    rf.set_params(**params)\n",
      "    print params\n",
      "    print np.mean(cross_val_score(rf, feats_X, black_y, cv = cv))"
     ],
     "language": "python",
     "metadata": {},
     "outputs": [
      {
       "output_type": "stream",
       "stream": "stdout",
       "text": [
        "{'max_features': 10, 'n_estimators': 10}\n"
       ]
      },
      {
       "output_type": "stream",
       "stream": "stdout",
       "text": [
        "0.376996757236\n",
        "{'max_features': 10, 'n_estimators': 50}\n"
       ]
      },
      {
       "output_type": "stream",
       "stream": "stdout",
       "text": [
        "0.443005880132\n",
        "{'max_features': 10, 'n_estimators': 100}\n"
       ]
      },
      {
       "output_type": "stream",
       "stream": "stdout",
       "text": [
        "0.454007900116\n",
        "{'max_features': 10, 'n_estimators': 500}\n"
       ]
      },
      {
       "output_type": "stream",
       "stream": "stdout",
       "text": [
        "0.45801190412\n",
        "{'max_features': 20, 'n_estimators': 10}\n"
       ]
      },
      {
       "output_type": "stream",
       "stream": "stdout",
       "text": [
        "0.381998765232\n",
        "{'max_features': 20, 'n_estimators': 50}\n"
       ]
      },
      {
       "output_type": "stream",
       "stream": "stdout",
       "text": [
        "0.460016903131\n",
        "{'max_features': 20, 'n_estimators': 100}\n"
       ]
      },
      {
       "output_type": "stream",
       "stream": "stdout",
       "text": [
        "0.45000989013\n",
        "{'max_features': 20, 'n_estimators': 500}\n"
       ]
      },
      {
       "output_type": "stream",
       "stream": "stdout",
       "text": [
        "0.474009938082\n",
        "{'max_features': 50, 'n_estimators': 10}\n"
       ]
      },
      {
       "output_type": "stream",
       "stream": "stdout",
       "text": [
        "0.403013792235\n",
        "{'max_features': 50, 'n_estimators': 50}\n"
       ]
      },
      {
       "output_type": "stream",
       "stream": "stdout",
       "text": [
        "0.450003896112\n",
        "{'max_features': 50, 'n_estimators': 100}\n"
       ]
      },
      {
       "output_type": "stream",
       "stream": "stdout",
       "text": [
        "0.461017904132\n",
        "{'max_features': 50, 'n_estimators': 500}\n"
       ]
      },
      {
       "output_type": "stream",
       "stream": "stdout",
       "text": [
        "0.481019942098\n",
        "{'max_features': 100, 'n_estimators': 10}\n"
       ]
      },
      {
       "output_type": "stream",
       "stream": "stdout",
       "text": [
        "0.429027830225\n",
        "{'max_features': 100, 'n_estimators': 50}\n"
       ]
      },
      {
       "output_type": "stream",
       "stream": "stdout",
       "text": [
        "0.4740159321\n",
        "{'max_features': 100, 'n_estimators': 100}\n"
       ]
      },
      {
       "output_type": "stream",
       "stream": "stdout",
       "text": [
        "0.472016927107\n",
        "{'max_features': 100, 'n_estimators': 500}\n"
       ]
      },
      {
       "output_type": "stream",
       "stream": "stdout",
       "text": [
        "0.489006971043\n",
        "{'max_features': 200, 'n_estimators': 10}\n"
       ]
      },
      {
       "output_type": "stream",
       "stream": "stdout",
       "text": [
        "0.404994815174\n",
        "{'max_features': 200, 'n_estimators': 50}\n"
       ]
      },
      {
       "output_type": "stream",
       "stream": "stdout",
       "text": [
        "0.466007924092\n",
        "{'max_features': 200, 'n_estimators': 100}\n"
       ]
      },
      {
       "output_type": "stream",
       "stream": "stdout",
       "text": [
        "0.469996943051\n",
        "{'max_features': 200, 'n_estimators': 500}\n"
       ]
      },
      {
       "output_type": "stream",
       "stream": "stdout",
       "text": [
        "0.472996949045\n"
       ]
      }
     ],
     "prompt_number": 79
    },
    {
     "cell_type": "code",
     "collapsed": false,
     "input": [
      "from sklearn.ensemble import ExtraTreesClassifier, GradientBoostingClassifier\n",
      "from sklearn.decomposition import RandomizedPCA\n",
      "feature_extractor = Pipeline(steps = [\n",
      "    ('pca', RandomizedPCA(n_components=100)),\n",
      "    ('sf1', SparseFilter(n_features=500, n_iters=600)),\n",
      "    ('sf2', SparseFilter(n_features=300, n_iters=600, ))\n",
      "])\n",
      "feats_X = feature_extractor.fit_transform(black_X)\n",
      "\n",
      "rf = ExtraTreesClassifier(n_jobs = -1, )\n",
      "param_grid = {\n",
      "    'n_estimators': [ 500],\n",
      "    'max_features': [50, 100, 200]\n",
      "}\n",
      "for params in ParameterGrid(param_grid):\n",
      "    rf.set_params(**params)\n",
      "    print params\n",
      "    print np.mean(cross_val_score(rf, feats_X, black_y, cv = cv))"
     ],
     "language": "python",
     "metadata": {},
     "outputs": [
      {
       "output_type": "stream",
       "stream": "stdout",
       "text": [
        "{'max_features': 50, 'n_estimators': 500}\n"
       ]
      },
      {
       "output_type": "stream",
       "stream": "stdout",
       "text": [
        "0.421999844156\n",
        "{'max_features': 100, 'n_estimators': 500}\n"
       ]
      },
      {
       "ename": "KeyboardInterrupt",
       "evalue": "",
       "output_type": "pyerr",
       "traceback": [
        "\u001b[0;31m---------------------------------------------------------------------------\u001b[0m\n\u001b[0;31mKeyboardInterrupt\u001b[0m                         Traceback (most recent call last)",
        "\u001b[0;32m<ipython-input-8-150bdc01a1ae>\u001b[0m in \u001b[0;36m<module>\u001b[0;34m()\u001b[0m\n\u001b[1;32m     16\u001b[0m     \u001b[0mrf\u001b[0m\u001b[0;34m.\u001b[0m\u001b[0mset_params\u001b[0m\u001b[0;34m(\u001b[0m\u001b[0;34m**\u001b[0m\u001b[0mparams\u001b[0m\u001b[0;34m)\u001b[0m\u001b[0;34m\u001b[0m\u001b[0m\n\u001b[1;32m     17\u001b[0m     \u001b[0;32mprint\u001b[0m \u001b[0mparams\u001b[0m\u001b[0;34m\u001b[0m\u001b[0m\n\u001b[0;32m---> 18\u001b[0;31m     \u001b[0;32mprint\u001b[0m \u001b[0mnp\u001b[0m\u001b[0;34m.\u001b[0m\u001b[0mmean\u001b[0m\u001b[0;34m(\u001b[0m\u001b[0mcross_val_score\u001b[0m\u001b[0;34m(\u001b[0m\u001b[0mrf\u001b[0m\u001b[0;34m,\u001b[0m \u001b[0mfeats_X\u001b[0m\u001b[0;34m,\u001b[0m \u001b[0mblack_y\u001b[0m\u001b[0;34m,\u001b[0m \u001b[0mcv\u001b[0m \u001b[0;34m=\u001b[0m \u001b[0mcv\u001b[0m\u001b[0;34m)\u001b[0m\u001b[0;34m)\u001b[0m\u001b[0;34m\u001b[0m\u001b[0m\n\u001b[0m",
        "\u001b[0;32m/Library/Python/2.7/site-packages/sklearn/cross_validation.pyc\u001b[0m in \u001b[0;36mcross_val_score\u001b[0;34m(estimator, X, y, scoring, cv, n_jobs, verbose, fit_params, score_func, pre_dispatch)\u001b[0m\n\u001b[1;32m   1150\u001b[0m         delayed(_cross_val_score)(clone(estimator), X, y, scorer, train, test,\n\u001b[1;32m   1151\u001b[0m                                   verbose, fit_params)\n\u001b[0;32m-> 1152\u001b[0;31m         for train, test in cv)\n\u001b[0m\u001b[1;32m   1153\u001b[0m     \u001b[0;32mreturn\u001b[0m \u001b[0mnp\u001b[0m\u001b[0;34m.\u001b[0m\u001b[0marray\u001b[0m\u001b[0;34m(\u001b[0m\u001b[0mscores\u001b[0m\u001b[0;34m)\u001b[0m\u001b[0;34m\u001b[0m\u001b[0m\n\u001b[1;32m   1154\u001b[0m \u001b[0;34m\u001b[0m\u001b[0m\n",
        "\u001b[0;32m/Library/Python/2.7/site-packages/sklearn/externals/joblib/parallel.pyc\u001b[0m in \u001b[0;36m__call__\u001b[0;34m(self, iterable)\u001b[0m\n\u001b[1;32m    515\u001b[0m         \u001b[0;32mtry\u001b[0m\u001b[0;34m:\u001b[0m\u001b[0;34m\u001b[0m\u001b[0m\n\u001b[1;32m    516\u001b[0m             \u001b[0;32mfor\u001b[0m \u001b[0mfunction\u001b[0m\u001b[0;34m,\u001b[0m \u001b[0margs\u001b[0m\u001b[0;34m,\u001b[0m \u001b[0mkwargs\u001b[0m \u001b[0;32min\u001b[0m \u001b[0miterable\u001b[0m\u001b[0;34m:\u001b[0m\u001b[0;34m\u001b[0m\u001b[0m\n\u001b[0;32m--> 517\u001b[0;31m                 \u001b[0mself\u001b[0m\u001b[0;34m.\u001b[0m\u001b[0mdispatch\u001b[0m\u001b[0;34m(\u001b[0m\u001b[0mfunction\u001b[0m\u001b[0;34m,\u001b[0m \u001b[0margs\u001b[0m\u001b[0;34m,\u001b[0m \u001b[0mkwargs\u001b[0m\u001b[0;34m)\u001b[0m\u001b[0;34m\u001b[0m\u001b[0m\n\u001b[0m\u001b[1;32m    518\u001b[0m \u001b[0;34m\u001b[0m\u001b[0m\n\u001b[1;32m    519\u001b[0m             \u001b[0mself\u001b[0m\u001b[0;34m.\u001b[0m\u001b[0mretrieve\u001b[0m\u001b[0;34m(\u001b[0m\u001b[0;34m)\u001b[0m\u001b[0;34m\u001b[0m\u001b[0m\n",
        "\u001b[0;32m/Library/Python/2.7/site-packages/sklearn/externals/joblib/parallel.pyc\u001b[0m in \u001b[0;36mdispatch\u001b[0;34m(self, func, args, kwargs)\u001b[0m\n\u001b[1;32m    310\u001b[0m         \"\"\"\n\u001b[1;32m    311\u001b[0m         \u001b[0;32mif\u001b[0m \u001b[0mself\u001b[0m\u001b[0;34m.\u001b[0m\u001b[0m_pool\u001b[0m \u001b[0;32mis\u001b[0m \u001b[0mNone\u001b[0m\u001b[0;34m:\u001b[0m\u001b[0;34m\u001b[0m\u001b[0m\n\u001b[0;32m--> 312\u001b[0;31m             \u001b[0mjob\u001b[0m \u001b[0;34m=\u001b[0m \u001b[0mImmediateApply\u001b[0m\u001b[0;34m(\u001b[0m\u001b[0mfunc\u001b[0m\u001b[0;34m,\u001b[0m \u001b[0margs\u001b[0m\u001b[0;34m,\u001b[0m \u001b[0mkwargs\u001b[0m\u001b[0;34m)\u001b[0m\u001b[0;34m\u001b[0m\u001b[0m\n\u001b[0m\u001b[1;32m    313\u001b[0m             \u001b[0mindex\u001b[0m \u001b[0;34m=\u001b[0m \u001b[0mlen\u001b[0m\u001b[0;34m(\u001b[0m\u001b[0mself\u001b[0m\u001b[0;34m.\u001b[0m\u001b[0m_jobs\u001b[0m\u001b[0;34m)\u001b[0m\u001b[0;34m\u001b[0m\u001b[0m\n\u001b[1;32m    314\u001b[0m             \u001b[0;32mif\u001b[0m \u001b[0;32mnot\u001b[0m \u001b[0m_verbosity_filter\u001b[0m\u001b[0;34m(\u001b[0m\u001b[0mindex\u001b[0m\u001b[0;34m,\u001b[0m \u001b[0mself\u001b[0m\u001b[0;34m.\u001b[0m\u001b[0mverbose\u001b[0m\u001b[0;34m)\u001b[0m\u001b[0;34m:\u001b[0m\u001b[0;34m\u001b[0m\u001b[0m\n",
        "\u001b[0;32m/Library/Python/2.7/site-packages/sklearn/externals/joblib/parallel.pyc\u001b[0m in \u001b[0;36m__init__\u001b[0;34m(self, func, args, kwargs)\u001b[0m\n\u001b[1;32m    134\u001b[0m         \u001b[0;31m# Don't delay the application, to avoid keeping the input\u001b[0m\u001b[0;34m\u001b[0m\u001b[0;34m\u001b[0m\u001b[0m\n\u001b[1;32m    135\u001b[0m         \u001b[0;31m# arguments in memory\u001b[0m\u001b[0;34m\u001b[0m\u001b[0;34m\u001b[0m\u001b[0m\n\u001b[0;32m--> 136\u001b[0;31m         \u001b[0mself\u001b[0m\u001b[0;34m.\u001b[0m\u001b[0mresults\u001b[0m \u001b[0;34m=\u001b[0m \u001b[0mfunc\u001b[0m\u001b[0;34m(\u001b[0m\u001b[0;34m*\u001b[0m\u001b[0margs\u001b[0m\u001b[0;34m,\u001b[0m \u001b[0;34m**\u001b[0m\u001b[0mkwargs\u001b[0m\u001b[0;34m)\u001b[0m\u001b[0;34m\u001b[0m\u001b[0m\n\u001b[0m\u001b[1;32m    137\u001b[0m \u001b[0;34m\u001b[0m\u001b[0m\n\u001b[1;32m    138\u001b[0m     \u001b[0;32mdef\u001b[0m \u001b[0mget\u001b[0m\u001b[0;34m(\u001b[0m\u001b[0mself\u001b[0m\u001b[0;34m)\u001b[0m\u001b[0;34m:\u001b[0m\u001b[0;34m\u001b[0m\u001b[0m\n",
        "\u001b[0;32m/Library/Python/2.7/site-packages/sklearn/cross_validation.pyc\u001b[0m in \u001b[0;36m_cross_val_score\u001b[0;34m(estimator, X, y, scorer, train, test, verbose, fit_params)\u001b[0m\n\u001b[1;32m   1060\u001b[0m     \u001b[0mestimator\u001b[0m\u001b[0;34m.\u001b[0m\u001b[0mfit\u001b[0m\u001b[0;34m(\u001b[0m\u001b[0mX_train\u001b[0m\u001b[0;34m,\u001b[0m \u001b[0my_train\u001b[0m\u001b[0;34m,\u001b[0m \u001b[0;34m**\u001b[0m\u001b[0mfit_params\u001b[0m\u001b[0;34m)\u001b[0m\u001b[0;34m\u001b[0m\u001b[0m\n\u001b[1;32m   1061\u001b[0m     \u001b[0;32mif\u001b[0m \u001b[0mscorer\u001b[0m \u001b[0;32mis\u001b[0m \u001b[0mNone\u001b[0m\u001b[0;34m:\u001b[0m\u001b[0;34m\u001b[0m\u001b[0m\n\u001b[0;32m-> 1062\u001b[0;31m         \u001b[0mscore\u001b[0m \u001b[0;34m=\u001b[0m \u001b[0mestimator\u001b[0m\u001b[0;34m.\u001b[0m\u001b[0mscore\u001b[0m\u001b[0;34m(\u001b[0m\u001b[0mX_test\u001b[0m\u001b[0;34m,\u001b[0m \u001b[0my_test\u001b[0m\u001b[0;34m)\u001b[0m\u001b[0;34m\u001b[0m\u001b[0m\n\u001b[0m\u001b[1;32m   1063\u001b[0m     \u001b[0;32melse\u001b[0m\u001b[0;34m:\u001b[0m\u001b[0;34m\u001b[0m\u001b[0m\n\u001b[1;32m   1064\u001b[0m         \u001b[0mscore\u001b[0m \u001b[0;34m=\u001b[0m \u001b[0mscorer\u001b[0m\u001b[0;34m(\u001b[0m\u001b[0mestimator\u001b[0m\u001b[0;34m,\u001b[0m \u001b[0mX_test\u001b[0m\u001b[0;34m,\u001b[0m \u001b[0my_test\u001b[0m\u001b[0;34m)\u001b[0m\u001b[0;34m\u001b[0m\u001b[0m\n",
        "\u001b[0;32m/Library/Python/2.7/site-packages/sklearn/base.pyc\u001b[0m in \u001b[0;36mscore\u001b[0;34m(self, X, y)\u001b[0m\n\u001b[1;32m    292\u001b[0m         \"\"\"\n\u001b[1;32m    293\u001b[0m         \u001b[0;32mfrom\u001b[0m \u001b[0;34m.\u001b[0m\u001b[0mmetrics\u001b[0m \u001b[0;32mimport\u001b[0m \u001b[0maccuracy_score\u001b[0m\u001b[0;34m\u001b[0m\u001b[0m\n\u001b[0;32m--> 294\u001b[0;31m         \u001b[0;32mreturn\u001b[0m \u001b[0maccuracy_score\u001b[0m\u001b[0;34m(\u001b[0m\u001b[0my\u001b[0m\u001b[0;34m,\u001b[0m \u001b[0mself\u001b[0m\u001b[0;34m.\u001b[0m\u001b[0mpredict\u001b[0m\u001b[0;34m(\u001b[0m\u001b[0mX\u001b[0m\u001b[0;34m)\u001b[0m\u001b[0;34m)\u001b[0m\u001b[0;34m\u001b[0m\u001b[0m\n\u001b[0m\u001b[1;32m    295\u001b[0m \u001b[0;34m\u001b[0m\u001b[0m\n\u001b[1;32m    296\u001b[0m \u001b[0;34m\u001b[0m\u001b[0m\n",
        "\u001b[0;32m/Library/Python/2.7/site-packages/sklearn/ensemble/forest.pyc\u001b[0m in \u001b[0;36mpredict\u001b[0;34m(self, X)\u001b[0m\n\u001b[1;32m    442\u001b[0m         \"\"\"\n\u001b[1;32m    443\u001b[0m         \u001b[0mn_samples\u001b[0m \u001b[0;34m=\u001b[0m \u001b[0mlen\u001b[0m\u001b[0;34m(\u001b[0m\u001b[0mX\u001b[0m\u001b[0;34m)\u001b[0m\u001b[0;34m\u001b[0m\u001b[0m\n\u001b[0;32m--> 444\u001b[0;31m         \u001b[0mproba\u001b[0m \u001b[0;34m=\u001b[0m \u001b[0mself\u001b[0m\u001b[0;34m.\u001b[0m\u001b[0mpredict_proba\u001b[0m\u001b[0;34m(\u001b[0m\u001b[0mX\u001b[0m\u001b[0;34m)\u001b[0m\u001b[0;34m\u001b[0m\u001b[0m\n\u001b[0m\u001b[1;32m    445\u001b[0m \u001b[0;34m\u001b[0m\u001b[0m\n\u001b[1;32m    446\u001b[0m         \u001b[0;32mif\u001b[0m \u001b[0mself\u001b[0m\u001b[0;34m.\u001b[0m\u001b[0mn_outputs_\u001b[0m \u001b[0;34m==\u001b[0m \u001b[0;36m1\u001b[0m\u001b[0;34m:\u001b[0m\u001b[0;34m\u001b[0m\u001b[0m\n",
        "\u001b[0;32m/Library/Python/2.7/site-packages/sklearn/ensemble/forest.pyc\u001b[0m in \u001b[0;36mpredict_proba\u001b[0;34m(self, X)\u001b[0m\n\u001b[1;32m    489\u001b[0m                 \u001b[0mself\u001b[0m\u001b[0;34m.\u001b[0m\u001b[0mn_classes_\u001b[0m\u001b[0;34m,\u001b[0m\u001b[0;34m\u001b[0m\u001b[0m\n\u001b[1;32m    490\u001b[0m                 self.n_outputs_)\n\u001b[0;32m--> 491\u001b[0;31m             for i in range(n_jobs))\n\u001b[0m\u001b[1;32m    492\u001b[0m \u001b[0;34m\u001b[0m\u001b[0m\n\u001b[1;32m    493\u001b[0m         \u001b[0;31m# Reduce\u001b[0m\u001b[0;34m\u001b[0m\u001b[0;34m\u001b[0m\u001b[0m\n",
        "\u001b[0;32m/Library/Python/2.7/site-packages/sklearn/externals/joblib/parallel.pyc\u001b[0m in \u001b[0;36m__call__\u001b[0;34m(self, iterable)\u001b[0m\n\u001b[1;32m    517\u001b[0m                 \u001b[0mself\u001b[0m\u001b[0;34m.\u001b[0m\u001b[0mdispatch\u001b[0m\u001b[0;34m(\u001b[0m\u001b[0mfunction\u001b[0m\u001b[0;34m,\u001b[0m \u001b[0margs\u001b[0m\u001b[0;34m,\u001b[0m \u001b[0mkwargs\u001b[0m\u001b[0;34m)\u001b[0m\u001b[0;34m\u001b[0m\u001b[0m\n\u001b[1;32m    518\u001b[0m \u001b[0;34m\u001b[0m\u001b[0m\n\u001b[0;32m--> 519\u001b[0;31m             \u001b[0mself\u001b[0m\u001b[0;34m.\u001b[0m\u001b[0mretrieve\u001b[0m\u001b[0;34m(\u001b[0m\u001b[0;34m)\u001b[0m\u001b[0;34m\u001b[0m\u001b[0m\n\u001b[0m\u001b[1;32m    520\u001b[0m             \u001b[0;31m# Make sure that we get a last message telling us we are done\u001b[0m\u001b[0;34m\u001b[0m\u001b[0;34m\u001b[0m\u001b[0m\n\u001b[1;32m    521\u001b[0m             \u001b[0melapsed_time\u001b[0m \u001b[0;34m=\u001b[0m \u001b[0mtime\u001b[0m\u001b[0;34m.\u001b[0m\u001b[0mtime\u001b[0m\u001b[0;34m(\u001b[0m\u001b[0;34m)\u001b[0m \u001b[0;34m-\u001b[0m \u001b[0mself\u001b[0m\u001b[0;34m.\u001b[0m\u001b[0m_start_time\u001b[0m\u001b[0;34m\u001b[0m\u001b[0m\n",
        "\u001b[0;32m/Library/Python/2.7/site-packages/sklearn/externals/joblib/parallel.pyc\u001b[0m in \u001b[0;36mretrieve\u001b[0;34m(self)\u001b[0m\n\u001b[1;32m    431\u001b[0m                             \u001b[0;31m# We can now allow subprocesses again\u001b[0m\u001b[0;34m\u001b[0m\u001b[0;34m\u001b[0m\u001b[0m\n\u001b[1;32m    432\u001b[0m                             \u001b[0mos\u001b[0m\u001b[0;34m.\u001b[0m\u001b[0menviron\u001b[0m\u001b[0;34m.\u001b[0m\u001b[0mpop\u001b[0m\u001b[0;34m(\u001b[0m\u001b[0;34m'__JOBLIB_SPAWNED_PARALLEL__'\u001b[0m\u001b[0;34m,\u001b[0m \u001b[0;36m0\u001b[0m\u001b[0;34m)\u001b[0m\u001b[0;34m\u001b[0m\u001b[0m\n\u001b[0;32m--> 433\u001b[0;31m                         \u001b[0;32mraise\u001b[0m \u001b[0mexception\u001b[0m\u001b[0;34m\u001b[0m\u001b[0m\n\u001b[0m\u001b[1;32m    434\u001b[0m                     \u001b[0;32melif\u001b[0m \u001b[0misinstance\u001b[0m\u001b[0;34m(\u001b[0m\u001b[0mexception\u001b[0m\u001b[0;34m,\u001b[0m \u001b[0mTransportableException\u001b[0m\u001b[0;34m)\u001b[0m\u001b[0;34m:\u001b[0m\u001b[0;34m\u001b[0m\u001b[0m\n\u001b[1;32m    435\u001b[0m                         \u001b[0;31m# Capture exception to add information on the local\u001b[0m\u001b[0;34m\u001b[0m\u001b[0;34m\u001b[0m\u001b[0m\n",
        "\u001b[0;31mKeyboardInterrupt\u001b[0m: "
       ]
      }
     ],
     "prompt_number": 8
    },
    {
     "cell_type": "code",
     "collapsed": false,
     "input": [
      "from sklearn.ensemble import ExtraTreesClassifier, GradientBoostingClassifier\n",
      "from sklearn.decomposition import RandomizedPCA\n",
      "feature_extractor = Pipeline(steps = [\n",
      "    ('pca', RandomizedPCA(n_components=100)),\n",
      "    ('sf1', SparseFilter(n_features=400, n_iters=600)),\n",
      "    #('sf2', SparseFilter(n_features=300, n_iters=600, ))\n",
      "])\n",
      "feats_X = feature_extractor.fit_transform(black_X)\n",
      "\"\"\"\n",
      "gb = GradientBoostingClassifier()\n",
      "param_grid = {\n",
      "    'n_estimators': [ 500],\n",
      "    'max_features': [50, 100, 200]\n",
      "}\n",
      "for params in ParameterGrid(param_grid):\n",
      "    gb.set_params(**params)\n",
      "    print params\n",
      "    print np.mean(cross_val_score(gb, feats_X, black_y, cv = cv))\n",
      "\"\"\""
     ],
     "language": "python",
     "metadata": {},
     "outputs": [
      {
       "metadata": {},
       "output_type": "pyout",
       "prompt_number": 165,
       "text": [
        "\"\\ngb = GradientBoostingClassifier()\\nparam_grid = {\\n    'n_estimators': [ 500],\\n    'max_features': [50, 100, 200]\\n}\\nfor params in ParameterGrid(param_grid):\\n    gb.set_params(**params)\\n    print params\\n    print np.mean(cross_val_score(gb, feats_X, black_y, cv = cv))\\n\""
       ]
      }
     ],
     "prompt_number": 165
    },
    {
     "cell_type": "code",
     "collapsed": false,
     "input": [
      "from sklearn.preprocessing import label_binarize\n",
      "indices = np.arange(n_samples)\n",
      "#np.random.shuffle(indices)\n",
      "feats_X = feats_X[indices]\n",
      "black_y = black_y[indices]\n",
      "n_train = n_samples*2/3\n",
      "binary_y = label_binarize(black_y, range(1, 10))\n",
      "with open('data/blackbox_temp.data', 'w') as f:\n",
      "    f.write(\"%i %i %i\\n\" % (n_train, 400, 9))\n",
      "    for feat, y in zip(feats_X[:n_train], binary_y[:n_train]):\n",
      "        f.write(\" \".join([str(x) for x in feat]))\n",
      "        f.write(\"\\n\")\n",
      "        f.write(\" \".join([str(i) for i in y]))\n",
      "        f.write(\"\\n\")"
     ],
     "language": "python",
     "metadata": {},
     "outputs": [],
     "prompt_number": 166
    },
    {
     "cell_type": "code",
     "collapsed": false,
     "input": [
      "from pyfann import libfann\n",
      "connection_rate = 1\n",
      "learning_rate = 0.3\n",
      "num_input = 400\n",
      "num_hidden1 = 9\n",
      "num_hidden2 = 9\n",
      "num_output = 9\n",
      "desired_error = 0.001\n",
      "max_iterations = 500\n",
      "iterations_between_reports = 10\n",
      "\n",
      "ann = libfann.neural_net()\n",
      "ann.create_sparse_array(connection_rate, (num_input, num_hidden1, num_output))\n",
      "ann.set_learning_rate(learning_rate)\n",
      "ann.set_activation_function_hidden(libfann.SIGMOID)\n",
      "ann.set_activation_function_output(libfann.SIGMOID)\n",
      "ann.train_on_file(\"data/blackbox_temp.data\", \n",
      "                  max_iterations, \n",
      "                  iterations_between_reports, \n",
      "                  desired_error)"
     ],
     "language": "python",
     "metadata": {},
     "outputs": [],
     "prompt_number": 228
    },
    {
     "cell_type": "code",
     "collapsed": false,
     "input": [
      "ann.save('data/blackbox.net')"
     ],
     "language": "python",
     "metadata": {},
     "outputs": [
      {
       "metadata": {},
       "output_type": "pyout",
       "prompt_number": 229,
       "text": [
        "True"
       ]
      }
     ],
     "prompt_number": 229
    },
    {
     "cell_type": "code",
     "collapsed": false,
     "input": [
      "from pyfann import libfann\n",
      "ann = libfann.neural_net()\n",
      "ann.create_from_file('data/blackbox.net')"
     ],
     "language": "python",
     "metadata": {},
     "outputs": [
      {
       "metadata": {},
       "output_type": "pyout",
       "prompt_number": 230,
       "text": [
        "True"
       ]
      }
     ],
     "prompt_number": 230
    },
    {
     "cell_type": "code",
     "collapsed": false,
     "input": [
      "yhat = np.asarray([np.argmax(ann.run(feat)) for feat in feats_X]) + 1"
     ],
     "language": "python",
     "metadata": {},
     "outputs": [],
     "prompt_number": 231
    },
    {
     "cell_type": "code",
     "collapsed": false,
     "input": [
      "np.mean(yhat == black_y)"
     ],
     "language": "python",
     "metadata": {},
     "outputs": [
      {
       "metadata": {},
       "output_type": "pyout",
       "prompt_number": 232,
       "text": [
        "0.56399999999999995"
       ]
      }
     ],
     "prompt_number": 232
    },
    {
     "cell_type": "code",
     "collapsed": false,
     "input": [],
     "language": "python",
     "metadata": {},
     "outputs": []
    }
   ],
   "metadata": {}
  }
 ]
}