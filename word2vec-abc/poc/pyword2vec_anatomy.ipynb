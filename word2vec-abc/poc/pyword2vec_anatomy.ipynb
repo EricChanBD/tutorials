{
 "metadata": {
  "name": ""
 },
 "nbformat": 3,
 "nbformat_minor": 0,
 "worksheets": [
  {
   "cells": [
    {
     "cell_type": "markdown",
     "metadata": {},
     "source": [
      "#An Anatomy of Key Tricks in [word2vec project](https://code.google.com/p/word2vec/) with examples\n",
      "\n",
      "The python implementation is mainly for educational purpose, as I found myself understand the original code quicker by trying them in an interactive env.\n",
      "\n",
      "Its implementation is by no means optimal and thus you should not expect its running performance would be comparable to the C version.\n",
      "\n",
      "Some implementations have been simplified during the translation to better illustrate the idea.\n",
      "\n",
      "Those are purely ***my personal*** understanding of the code."
     ]
    },
    {
     "cell_type": "code",
     "collapsed": false,
     "input": [
      "import numpy as np\n",
      "from collections import Counter\n",
      "import mmap\n",
      "import re\n",
      "import networkx as nx\n",
      "import math"
     ],
     "language": "python",
     "metadata": {},
     "outputs": [],
     "prompt_number": 3
    },
    {
     "cell_type": "markdown",
     "metadata": {},
     "source": [
      "## Precomputed Exponetial Table\n",
      "- It is a table that pre-calculates exponetials of [logistic function](http://en.wikipedia.org/wiki/Logistic_regression)\n",
      "$$F(t) = {1\\over1 + e^{-t}}$$\n",
      "- For speeded-up access during the runtime\n",
      "- The values in the exponetial table are later used as *objective function*"
     ]
    },
    {
     "cell_type": "code",
     "collapsed": false,
     "input": [
      "MAX_EXP = 6\n",
      "EXP_TABLE_SIZE = 1000\n",
      "EXP_TABLE = np.arange(start = 0, stop = EXP_TABLE_SIZE, \n",
      "                      step = 1, dtype = np.float64)\n",
      "## Exponentials of [-MAX_EXP, MAX_EXP]\n",
      "EXP_TABLE = np.exp((EXP_TABLE / EXP_TABLE_SIZE * 2 - 1) * MAX_EXP)\n",
      "## Logitstic Regression of [-MAX_EXP, MAX_EXP]\n",
      "EXP_TABLE = EXP_TABLE / (EXP_TABLE + 1.)\n",
      "## SO to use the EXP_TABLE, the value f must be in range [-MAX_EXP, MAX_EXP]\n",
      "## and first transform the f value to range [0, EXP_TABLE-1]\n",
      "## and then get the value from the table, e.g., to get logistic function value of f\n",
      "f = [-6., -3., 0, 3., 6.]\n",
      "## (f+MAX_EXP) / (MAX_EXP/2) transforms f to [0, 1]\n",
      "index4exptable = lambda f: int((f+MAX_EXP) * (EXP_TABLE_SIZE/MAX_EXP/2))\n",
      "f_index = map(index4exptable, f)\n",
      "logistic_f = EXP_TABLE[f_index]\n",
      "print f\n",
      "print f_index\n",
      "print logistic_f ## values in [0, 1] for logistic regression"
     ],
     "language": "python",
     "metadata": {},
     "outputs": [
      {
       "output_type": "stream",
       "stream": "stdout",
       "text": [
        "[-6.0, -3.0, 0, 3.0, 6.0]\n",
        "[0, 249, 498, 747, 996]\n",
        "[ 0.00247262  0.04688669  0.49400029  0.95092101  0.99740611]\n"
       ]
      }
     ],
     "prompt_number": 4
    },
    {
     "cell_type": "markdown",
     "metadata": {},
     "source": [
      "## Hashed Vocabulary\n",
      "- In the C implementation, the vocab is a combination of `hashed vocabulary` and `Huffman tree`.\n",
      "- A hashed vocab is a vocab and a hash of its elements' index. The elements in vocab is a vocab_word structure (simulated as a dict here) including fields `frequency` (frequency of word), `word` (string repr of word), `path` (point in c-version, all parent nodes of word in Huffman tree), `code` (binary repr of word in Huffman tree)\n",
      "- The hashing is for fast searching of whether a word is in the vocab\n",
      "- The vocab_words are sorted by their `count` in the vocab\n",
      "- The hashed vocab and the tree are built from a train file (a list of words)\n",
      "- The implementation below ignore the </s> tag as used in the original version, for simplicity\n",
      "- a very good [illustration](http://upload.wikimedia.org/wikipedia/commons/a/ac/Huffman_huff_demo.gif) of constructing Huffman tree can be found here"
     ]
    },
    {
     "cell_type": "code",
     "collapsed": false,
     "input": [
      "class HashedVocab(object):\n",
      "    HASH_SIZE = 30000000 ## max hash size\n",
      "    ## count threshold for a word to be in the vocab - ignore infrequent word\n",
      "    MIN_COUNT = 5 \n",
      "    @staticmethod\n",
      "    def file2ws(fpath):\n",
      "        \"\"\"\n",
      "        file to wordstream: lazily read words from a file as an iterator\n",
      "        \"\"\"\n",
      "        with open(fpath) as fin:\n",
      "            word_pattern = re.compile(r'(.*?)\\s')\n",
      "            mf = mmap.mmap(fin.fileno(), 0, access = mmap.ACCESS_READ)\n",
      "            for match in word_pattern.finditer(mf):\n",
      "                word = match.group(1)\n",
      "                if word: yield word\n",
      "    def __init__(self):\n",
      "        ## vocab stores vocab_word dict\n",
      "        self.vocab = []\n",
      "        ## vocab_hash stores the index of vocab_word in vocab\n",
      "        self.vocab_hash = np.empty(HashedVocab.HASH_SIZE, dtype = np.int64)\n",
      "        self.vocab_hash.fill(-1)\n",
      "        ## house-keeping - total number of word occurences in training set\n",
      "        ## it will be used as an estimate of training size later, which \n",
      "        ## affect the adjustment of learning rate of the deep structure\n",
      "        self.n_train_words = 0\n",
      "    def fit(self, word_stream):\n",
      "        \"\"\"\n",
      "        build hashed_vocab and Huffman tree from word stream\n",
      "        the word_stream is usually from reading a word file, e.g., using file2ws\n",
      "        \"\"\"\n",
      "        ## word counter\n",
      "        wc = Counter(word_stream)\n",
      "        ## total occurances of training words\n",
      "        self.n_train_words = sum(wc.values())\n",
      "        ## Sort the words by their counts, filter out infrequent words,\n",
      "        ## construct vocab_word (a dict) and put them in self.vocab\n",
      "        self.vocab = map(lambda x: dict(zip(['word', 'count'], x)),\n",
      "                         filter(lambda x: x[1] > HashedVocab.MIN_COUNT, \n",
      "                                wc.most_common(len(wc))))\n",
      "        ## if vocab is already too big for hash, either (1) ignoring more infrequent\n",
      "        ## words (as implemented in C by ReduceVocab), (2) making hash size bigger\n",
      "        ## here we simply raise an exception for simplicity\n",
      "        if len(self.vocab) > HashedVocab.HASH_SIZE * 0.7:\n",
      "            raise RuntimeError('vocab size too large for hash, increase MIN_COUNT or HASH_SIZE')\n",
      "        self.build_hash()\n",
      "        self.build_huffman_tree()\n",
      "        return self\n",
      "    def index_of(self, word):\n",
      "        \"\"\"\n",
      "        Get the index of word in vocab by using hash,\n",
      "        return -1 if it is NOT there\n",
      "        \"\"\"\n",
      "        word_hash = self.get_word_hash(word)\n",
      "        while True:\n",
      "            if word_index == -1:\n",
      "                return -1\n",
      "            elif word == self.vocab[word_index]['word']:\n",
      "                return word_index\n",
      "            else:\n",
      "                word_hash = (word_hash + 1) % HashedVocab.HASH_SIZE\n",
      "    def __getitem__(self, word_index):\n",
      "        \"\"\"\n",
      "        get vocab_word in vocab by its index\n",
      "        \"\"\"\n",
      "        return self.vocab[word_index]\n",
      "    def __len__(self):\n",
      "        return len(self.vocab)\n",
      "    def __iter__(self):\n",
      "        return iter(self.vocab)\n",
      "    \n",
      "    \n",
      "    def build_hash(self):\n",
      "        self.vocab_hash = np.empty(HashedVocab.HASH_SIZE, dtype = np.int64)\n",
      "        self.vocab_hash.fill(-1)\n",
      "        for word_index, vocab_word in enumerate(self.vocab):\n",
      "            word = vocab_word['word']\n",
      "            word_hash = self.get_word_hash(word)\n",
      "            self.add_to_hash(word_hash, word_index)\n",
      "        return self\n",
      "    def get_word_hash(self, word):\n",
      "        word_hash = sum([ord(c)*(257**i) \n",
      "                     for i, c in zip(range(len(word))[::-1], word)])\n",
      "        word_hash %= HashedVocab.HASH_SIZE\n",
      "        return word_hash\n",
      "    def add_to_hash(self, word_hash, word_index):\n",
      "        while self.vocab_hash[word_hash] != -1:\n",
      "            word_hash = (word_hash + 1) % HashedVocab.HASH_SIZE\n",
      "        self.vocab_hash[word_hash] = word_index\n",
      "        return self\n",
      "    def build_huffman_tree(self):\n",
      "        \"\"\"Build the Huffman tree representation for word based on their freq.\n",
      "        The vocab_word structure in self.vocab is a dict {word, count, path, code}\n",
      "        where vocab_word['code'] is the Huffman coding of word, and\n",
      "        vocab_word['path'] will be the path from root to leaf\n",
      "        \"\"\"\n",
      "        ## for a full binary tree with n leaves, n-1 internal nodes will be needed\n",
      "        ## for the 2*n-1 long data array (e.g. count and binary), the first n will be\n",
      "        ## for the leaf nodes, and the last n-1 will be for the internal nodes\n",
      "        vocab_size = len(self)\n",
      "        ## workhorse structure for tree construction\n",
      "        ## count - the count of words (leaves) and internal nodes (sum of leave counts)\n",
      "        count = np.empty(vocab_size * 2 - 1, dtype = np.int64)\n",
      "        count.fill(1e15)\n",
      "        count[:vocab_size] = [vw['count'] for vw in self.vocab]\n",
      "        ## binary - boolean repr for leaves and internal nodes\n",
      "        binary = np.zeros(vocab_size*2-1, dtype=np.int64)\n",
      "        ## parent_node - storing the path for each node\n",
      "        parent_node = np.empty(vocab_size*2-1, dtype = np.int64)\n",
      "        ## construct the tree \n",
      "        ## DESCRIPTION: iteratively group the two ungrouped nodes (leaf or internal) that \n",
      "        ## have the smallest counts\n",
      "        ## Since the vocab is sorted in decreasing counts order (first half ) and \n",
      "        ## the newly created internal nodes (second half) will be the order of \n",
      "        ## increasing counts (the algorithm invariant), so we only need to check\n",
      "        ## the two nodes in the middle of array to look for candidates, that is the role\n",
      "        ## of min1i and min2i\n",
      "        ## start searching for min1i and min2i from the middle of array\n",
      "        pos1, pos2 = vocab_size - 1, vocab_size\n",
      "        ## construct the vocab_size -1 internal nodes\n",
      "        for a in xrange(vocab_size-1):\n",
      "            ## min1i\n",
      "            if pos1 >= 0:\n",
      "                # min1i = pos1\n",
      "                if count[pos1] < count[pos2]:\n",
      "                    min1i, pos1 = pos1, pos1-1\n",
      "                # min1i = pos2\n",
      "                else: \n",
      "                    min1i, pos2 = pos2, pos2+1\n",
      "            else: ## running out of leaf nodes\n",
      "                min1i, pos2 = pos2, pos2+1\n",
      "            ## min2i\n",
      "            if pos1 >= 0:\n",
      "                if count[pos1] < count[pos2]:\n",
      "                    min2i, pos1 = pos1, pos1-1\n",
      "                else:\n",
      "                    min2i, pos2 = pos2, pos2+1\n",
      "            else:\n",
      "                min2i, pos2 = pos2, pos2+1\n",
      "            ## count(parent_node) = count(child1) + count(child2)\n",
      "            count[vocab_size + a] = count[min1i] + count[min2i]\n",
      "            ## link parent node index\n",
      "            parent_node[min1i] = vocab_size + a\n",
      "            parent_node[min2i] = vocab_size + a\n",
      "            ## binary encoding for min1i is 0 (left), for min2i is 1 (right)\n",
      "            binary[min2i] = 1\n",
      "        ## put the built Huffman tree structure in the vocab_word in vocab\n",
      "        ## for each leaf node\n",
      "        for a in xrange(vocab_size):\n",
      "            ## b starting from leaf, along parent_nodes, to the root\n",
      "            b = a\n",
      "            code, path = [], []\n",
      "            ## traverse along the path to root\n",
      "            while True:\n",
      "                code.append(binary[b])\n",
      "                path.append(b)\n",
      "                b = parent_node[b]\n",
      "                ## stop when reaching root\n",
      "                if b == vocab_size * 2 - 2: break\n",
      "            ## path (or point) is from root to leaf, with an index offset\n",
      "            ## -vocab_size\n",
      "            self.vocab[a]['path'] = [vocab_size - 2] + [p - vocab_size\n",
      "                                                        for p in path[::-1]]\n",
      "            self.vocab[a]['code'] = code[::-1]\n",
      "    def inspect_vocab_tree(self):\n",
      "        \"\"\"Draw the built Huffman binary tree for the vocab\n",
      "        \"\"\"\n",
      "        g = nx.DiGraph()\n",
      "        vocab_size = len(self)\n",
      "        edges = set()\n",
      "        for vw in self.vocab:\n",
      "            tree_path = [i + vocab_size for i in vw['path']]\n",
      "            tree_path = [i if i >= vocab_size\n",
      "                         else \"%s(%d)\" % (self.vocab[i]['word'], self.vocab[i]['count'])\n",
      "                         for i in tree_path]\n",
      "            edges.update(zip(tree_path[:-1], tree_path[1:]))\n",
      "        g.add_edges_from(edges)\n",
      "        pos = nx.graphviz_layout(g, prog = 'dot')\n",
      "        nx.draw(g, pos, with_labels = True, arrows = True)\n",
      "        return g"
     ],
     "language": "python",
     "metadata": {},
     "outputs": [],
     "prompt_number": 5
    },
    {
     "cell_type": "code",
     "collapsed": false,
     "input": [
      "## examples of buiding the hashed_vocab and its associated Huffman tree\n",
      "## simple.txt is the first 50K words from original text8\n",
      "hashed_vocab = HashedVocab()\n",
      "hashed_vocab.fit(HashedVocab.file2ws('data/first50k.txt'))\n",
      "print 'totally %i words were used to build vocab' % hashed_vocab.n_train_words\n",
      "print '%i of them go into the vocab' % len(hashed_vocab)"
     ],
     "language": "python",
     "metadata": {},
     "outputs": [
      {
       "output_type": "stream",
       "stream": "stdout",
       "text": [
        "totally 50000 words were used to build vocab\n",
        "1179 of them go into the vocab\n"
       ]
      }
     ],
     "prompt_number": 7
    },
    {
     "cell_type": "code",
     "collapsed": false,
     "input": [
      "## simple example to illustrate the built Huffman tree\n",
      "%pylab inline\n",
      "hashed_vocab = HashedVocab().fit(HashedVocab.file2ws('data/first300.txt'))\n",
      "hashed_vocab.inspect_vocab_tree()"
     ],
     "language": "python",
     "metadata": {},
     "outputs": [
      {
       "output_type": "stream",
       "stream": "stdout",
       "text": [
        "Populating the interactive namespace from numpy and matplotlib\n"
       ]
      },
      {
       "output_type": "stream",
       "stream": "stderr",
       "text": [
        "WARNING: pylab import has clobbered these variables: ['f']\n",
        "`%pylab --no-import-all` prevents importing * from pylab and numpy\n"
       ]
      },
      {
       "metadata": {},
       "output_type": "pyout",
       "prompt_number": 8,
       "text": [
        "<networkx.classes.digraph.DiGraph at 0x38560d0>"
       ]
      },
      {
       "metadata": {},
       "output_type": "display_data",
       "png": "[encoded data removed]",
       "text": [
        "<matplotlib.figure.Figure at 0x48fa5d0>"
       ]
      }
     ],
     "prompt_number": 8
    },
    {
     "cell_type": "markdown",
     "metadata": {},
     "source": [
      "## Unigram Table\n",
      "- Unigram table is used for word sampling based on their frequencies. \n",
      "- Unigram table is built on word frequencies in the hashed_vocab.\n",
      "- Here the sampling probability of a unigram is proportional to the its frequency to a powe of 0.75\n",
      "- The advantage behind using the power-law sampling and the number 0.75 is NOT really clear to me. See [my question](http://metaoptimize.com/qa/questions/13996/how-to-sample-words-by-unigram-model)\n",
      "- To use the sampling table, use a uniform random int as the index to the table, the word (index) sampled by the table follow a power law distribution based on their frequency estimate"
     ]
    },
    {
     "cell_type": "code",
     "collapsed": false,
     "input": [
      "class UnigramTable(object):\n",
      "    TABLE_SIZE = int(1e8)\n",
      "    POWER = 0.75\n",
      "    def __init__(self, hashed_vocab):\n",
      "        self.table = np.empty(UnigramTable.TABLE_SIZE, np.int64)\n",
      "        vocab = hashed_vocab\n",
      "        vocab_size = len(hashed_vocab)\n",
      "        ## normalization factor of all word's frequency's power\n",
      "        train_words_pow = sum(math.pow(vw['count'], UnigramTable.POWER)\n",
      "                              for vw in vocab)\n",
      "        ## doing the sampling in the table\n",
      "        ## the sampling probability of a unigram is proportional to its\n",
      "        ## frequency to a power of POWER (=0.75)\n",
      "        \n",
      "        ## i marks the index of current word in vocab\n",
      "        ## d1 marks the accumulative power-law probability up to the current word\n",
      "        ## a / TABLE_SIZE marks the sampling proability up to the current word\n",
      "        i = 0\n",
      "        d1 = math.pow(vocab[i]['count'], UnigramTable.POWER) / train_words_pow\n",
      "        for a in xrange(self.TABLE_SIZE):\n",
      "            self.table[a] = i\n",
      "            ## compare accumulative sampling prob with power-law accumulative prob\n",
      "            ## move to the sampling of next word if they start not matching\n",
      "            if a * 1. / UnigramTable.TABLE_SIZE > d1:\n",
      "                i += 1\n",
      "                d1 += math.pow(vocab[i]['count'], UnigramTable.POWER) / train_words_pow\n",
      "            ## put the rest as sampling of the last word (round-off)\n",
      "            if i >= vocab_size:\n",
      "                i = vocab_size - 1\n",
      "    def __getitem__(self, index):\n",
      "        return self.table[index]"
     ],
     "language": "python",
     "metadata": {},
     "outputs": [],
     "prompt_number": 9
    },
    {
     "cell_type": "code",
     "collapsed": false,
     "input": [
      "## check how satisfying the sampling strategy is to the Zipf's law\n",
      "## http://mathworld.wolfram.com/ZipfsLaw.html\n",
      "hashed_vocab = HashedVocab().fit(HashedVocab.file2ws('data/first1k.txt'))\n",
      "unigram_table = UnigramTable(hashed_vocab)\n",
      "sampling_probs = [sum(unigram_table.table == i) / 1e8 for i in xrange(len(hashed_vocab))]\n",
      "plot(1./np.arange(1, len(hashed_vocab)+1), sampling_probs)\n",
      "xlabel('$1/rank$')\n",
      "ylabel('$probability$')"
     ],
     "language": "python",
     "metadata": {},
     "outputs": [
      {
       "metadata": {},
       "output_type": "pyout",
       "prompt_number": 39,
       "text": [
        "<matplotlib.text.Text at 0x57dfad0>"
       ]
      },
      {
       "metadata": {},
       "output_type": "display_data",
       "png": "[encoded data removed]",
       "text": [
        "<matplotlib.figure.Figure at 0x49bb650>"
       ]
      }
     ],
     "prompt_number": 39
    },
    {
     "cell_type": "markdown",
     "metadata": {},
     "source": [
      "## Neural Network for Feature Learning\n",
      "- In terms of neural network architecture, it could be `cbow` (continous bag of words) or `skip_gram`\n",
      "- In terms of learning method, it could be `hs` (hierarchical softmax) or `negative` (negative sampling) or both\n",
      "- see the reference paper in the original code base for pros and cons of different combinations"
     ]
    },
    {
     "cell_type": "markdown",
     "metadata": {},
     "source": [
      "### 1. Continous Bag of Words Model \n",
      "\n",
      "The main data structures of CBOW (and for Skip_gram) are `syn0`, `syn1` and `syn1neg`. All of them can be viewed as feature reprs of the words in the vocab, but the words are combined in different specific ways. For example, \n",
      "\n",
      "- `syn0` are the feature repr of words (also the leaf nodes in the Huffman tree) to be learned, and the words that are fired in `syn0` are a continuous sequence in a sentence (neighbors in semantic matter). \n",
      "- `syn1` are the feature repr of internal nodes in the Huffman tree. The words that are fired together are similiar to each other in the way that they are common parents of close words (in terms of similiar frequency) in the Huffman tree.  Parents of word nodes in Huffman tree are analogy to prototypes of clusters formed by words.\n",
      "- `syn1neg` are also feature repr of words in the vocab, but those words are selected via negative sampling. The words are sampled based on their frequency. \n",
      "\n",
      "The basic idea is to **learn** both `syn0` and `syn1`(and/or `syn1neg1). It might be helpful to understand the code in the following way. Again this is my personal understanding of the code, if it is wrong, it has nothing to do with the original project. \n",
      "\n",
      "1. The cbow net can be thought of as a two-layer network. The nodes between two layers are **partially** connected. \n",
      "2. The first layer (input layer) are syn0 for both hs and negative-sampling.\n",
      "3. For hs, the second layer consists of the *parent* nodes in the Huffman tree. For a certain word w, there is a group of nodes in layer0 corresponding to the **neighbor words** around w in a sentence; and there is a group of nodes in layer1 corresponding to the **parent nodes** of w in Huffman tree. The connections only exist in the two groups in layer0 and layer1, and the weights of the connections are syn1, which is specific in each parent node in layer1. \n",
      "4. Similiarly for negative-sampling, but here the connections between nodes in layer0 and layer1 are actually *randomly sampled* - the nodes in layer1 are selected based on the power-law sampling given in Unigram Table. \n",
      "#### ================= For HS ====================\n",
      "5. The computation happens in two directions. \n",
      "6. The forward computation first calculate `neu1` as the sum of the related nodes in layer0 (syn0 vectors). The output `f` is calcualted as the logistic transformation of inner product between `neu1` and `syn1`.\n",
      "7. Since the nodes that will be turned on in layer1 are parent nodes in Huffman tree, it is like training a multi-classification problem via the network. Here the pesudo targets for the output layer are the binary encoding of the corresponding parent nodes for the certain word. The reason behind this is that the parent nodes (and their encoding for a certain word) are a *sparse* and *deep* representation of the word - it is similiar to a hierarchical clustering with cluster prototypes as the parent nodes.\n",
      "8. So we have the output `f` and the psuedo target binary encoding of the word, we can calucate the cost function and thus gradient. By making the output and pseudo-target close to each other, we enforce that the feature represented as `syn0` (based on a word's context information in a sentence) can be used to approximate the distribution of the word in terms of the encoding by the Huffman tree. The gradient is calculated as `g` in the code (actually just part of it, the gradient is `g` multiplied by the input vector for a logistic regression training).\n",
      "9. Both `syn0` and `syn1` are updated according to the gradient, **interleavingly and iteratively**. That is, `syn1` are updated based on gradient, and all the connected `syn0` (neighbors in a sentence); and `syn0` are updated based on gradient, and all the connected `syn1` (parent nodes of the word in Huffman tree).\n",
      "#### ================= For Negative Sampling ====================\n",
      "10. The forward calculation and backward updating are generally the same as in HS. \n",
      "11. The main differences are that the connected nodes in layer1 (represented by `syn1neg`) are from a sampling of the whole vocabulary, instead of from the Huffman tree.\n",
      "12. Accordingly, the pseduo target is are zero-one (similiar to sumvector of a traditioanl bag of words repr.). This essentially enforces that the `syn0` repr will be very close to itself and 'orthgonal' to other words - kind of like a autoencoder flavor. \n",
      "13. Compared to the encoding by Huffman tree, this 'bag-of-words' repr is not *deep*, and so it generally needs more instances in the training data."
     ]
    },
    {
     "cell_type": "code",
     "collapsed": false,
     "input": [
      "class CBOW(object):\n",
      "    REAL_TYPE = np.float64\n",
      "    def __init__(self, hashed_vocab, unigram_table,\n",
      "                 layer1_size, learn_hs, learn_negative):\n",
      "        \"\"\"\n",
      "        hashed_vocab: the vocab to build on\n",
      "        layer1_size: the size of layer1 of the net, effectively defines the dim of feature space\n",
      "        learn_hs: use hierarchical softmax learning\n",
      "        learn_negative: use negative sampling learning\n",
      "        \"\"\"\n",
      "        self.vocab = hashed_vocab\n",
      "        self.table = unigram_table\n",
      "        self.layer1_size = layer1_size\n",
      "        self.learn_hs = learn_hs\n",
      "        self.learn_negative = learn_negative\n",
      "        \n",
      "        ## initial value for learning rate, will decrease along learning\n",
      "        self.starting_alpha = 0.025\n",
      "        ## a sentence is a bulk of words from train file\n",
      "        self.sentence_len = 1000\n",
      "        ## downsampling rate to select words into a sentence\n",
      "        self.sampling = 1e-4\n",
      "        ## window defines the neighborhood of a word in the sentence for hs learning\n",
      "        self.window = 5\n",
      "        ## negative defines the neighborhood of a word for negative learning\n",
      "        self.negative = 5\n",
      "        \n",
      "        ## network weights\n",
      "        ## syn0 - feature representations of words (leaf nodes) in Huffman tree\n",
      "        ## shape = vocab_size x layer1_size\n",
      "        self.syn0 = None \n",
      "        ## syn1 - feature representations of internal nodes (non-leaf) in Huffman tree\n",
      "        ## shape = vocab_size x layer1_size\n",
      "        self.syn1 = None ## hidden layer for hs learning\n",
      "        ## syn1neg - feature representations of negative-sampled words\n",
      "        ## shape = vocab_size x layer1_size\n",
      "        self.syn1neg = None ## hidden layer for negative learning\n",
      "    def init_net(self):\n",
      "        \"\"\"\n",
      "        \"\"\"\n",
      "        vocab_size = len(self.vocab)\n",
      "        self.syn0 = np.random.uniform(low = -.5 / self.layer1_size, \n",
      "                                      high = .5 / self.layer1_size,\n",
      "                                      size = (vocab_size, self.layer1_size)).astype(CBOW.REAL_TYPE)\n",
      "        if self.learn_hs:\n",
      "            self.syn1 = np.zeros((vocab_size, self.layer1_size), dtype=CBOW.REAL_TYPE)\n",
      "        if self.learn_negative:\n",
      "            self.syn1neg = np.zeros((vocab_size, self.layer1_size), dtype = CBOW.REAL_TYPE)"
     ],
     "language": "python",
     "metadata": {},
     "outputs": [],
     "prompt_number": 48
    },
    {
     "cell_type": "code",
     "collapsed": false,
     "input": [
      "hashed_vocab = HashedVocab().fit(HashedVocab.file2ws('data/first1k.txt'))\n",
      "unigram_table = UnigramTable(hashed_vocab)"
     ],
     "language": "python",
     "metadata": {},
     "outputs": [],
     "prompt_number": 49
    },
    {
     "cell_type": "code",
     "collapsed": false,
     "input": [
      "cbow_model = CBOW(hashed_vocab, unigram_table,\n",
      "                  layer1_size = 100, learn_hs = True, learn_negative = True)"
     ],
     "language": "python",
     "metadata": {},
     "outputs": [],
     "prompt_number": 50
    },
    {
     "cell_type": "markdown",
     "metadata": {},
     "source": [
      "### 2. Skip_gram Model"
     ]
    },
    {
     "cell_type": "code",
     "collapsed": false,
     "input": [],
     "language": "python",
     "metadata": {},
     "outputs": []
    }
   ],
   "metadata": {}
  }
 ]
}