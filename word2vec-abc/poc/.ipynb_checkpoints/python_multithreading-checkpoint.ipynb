{
 "metadata": {
  "name": ""
 },
 "nbformat": 3,
 "nbformat_minor": 0,
 "worksheets": [
  {
   "cells": [
    {
     "cell_type": "code",
     "collapsed": false,
     "input": [
      "## exmaple source: \n",
      "## http://stackoverflow.com/questions/2846653/python-multithreading-for-dummies\n",
      "## But those are not mulitcore processing because of GIL"
     ],
     "language": "python",
     "metadata": {},
     "outputs": [],
     "prompt_number": 1
    },
    {
     "cell_type": "code",
     "collapsed": false,
     "input": [
      "import Queue\n",
      "import threading\n",
      "import urllib2\n",
      "import time\n",
      "import random"
     ],
     "language": "python",
     "metadata": {},
     "outputs": [],
     "prompt_number": 1
    },
    {
     "cell_type": "code",
     "collapsed": false,
     "input": [
      "def get_url(q, url):\n",
      "    tic = random.randint(2, 6)\n",
      "    print 'sleeping for %d secs' % (tic)\n",
      "    time.sleep(tic)\n",
      "    q.put(urllib2.urlopen(url).read()[:10])\n",
      "    \n",
      "urls = \"\"\"http://google.com http://yahoo.com http://bing.com\"\"\".split()\n",
      "\n",
      "q = Queue.Queue()\n",
      "\n",
      "for url in urls:\n",
      "    t = threading.Thread(target = get_url, args = (q, url))\n",
      "    t.daemon = True\n",
      "    t.start()\n",
      "    #t.join()\n",
      "    \n",
      "print q.get()"
     ],
     "language": "python",
     "metadata": {},
     "outputs": [
      {
       "output_type": "stream",
       "stream": "stdout",
       "text": [
        "sleeping for 4 secs\n",
        "sleeping for 3 secs\n",
        "sleeping for 2 secs\n",
        "<!DOCTYPE "
       ]
      },
      {
       "output_type": "stream",
       "stream": "stdout",
       "text": [
        "\n"
       ]
      }
     ],
     "prompt_number": "*"
    },
    {
     "cell_type": "code",
     "collapsed": false,
     "input": [
      "\n",
      "\n",
      "def get_url(q, url):\n",
      "    tic = random.randint(2, 6)\n",
      "    print 'sleeping for %d secs' % (tic)\n",
      "    time.sleep(tic)\n",
      "    q.append(urllib2.urlopen(url).read()[:10])\n",
      "    \n",
      "urls = \"\"\"http://google.com http://yahoo.com http://bing.com\"\"\".split()\n",
      "\n",
      "q = []\n",
      "\n",
      "for url in urls:\n",
      "    t = threading.Thread(target = get_url, args = (q, url))\n",
      "    t.daemon = True\n",
      "    t.start()\n",
      "    t.join()\n",
      "    \n",
      "print q"
     ],
     "language": "python",
     "metadata": {},
     "outputs": [],
     "prompt_number": "*"
    },
    {
     "cell_type": "code",
     "collapsed": false,
     "input": [
      "from sklearn.datasets import load_digits\n",
      "from sklearn.linear_model import SGDClassifier\n",
      "\n",
      "digits = load_digits()\n",
      "X, y = digits.data, digits.target\n",
      "\n",
      "def train_model(result, params):\n",
      "    sgd = SGDClassifier()\n",
      "    sgd.set_params(**params)\n",
      "    for _ in xrange(1000):\n",
      "        sgd.fit(X, y)\n",
      "    result.append(sgd.score(X, y))\n",
      "\n",
      "result = []\n",
      "\n",
      "param_settings = [\n",
      "    {'loss': 'hinge', 'penalty': 'l2', 'alpha': 1e-3},\n",
      "    {'loss': 'huber', 'penalty': 'l2', 'alpha': 1e-3},\n",
      "    {'loss': 'hinge', 'penalty': 'elasticnet', 'alpha': 1e-3},\n",
      "]\n",
      "\n",
      "for params in param_settings:\n",
      "    t = threading.Thread(target = train_model, args = (result, params))\n",
      "    t.daemon = True\n",
      "    t.start()\n",
      "    t.join()\n",
      "    \n",
      "print result"
     ],
     "language": "python",
     "metadata": {},
     "outputs": [],
     "prompt_number": "*"
    },
    {
     "cell_type": "markdown",
     "metadata": {},
     "source": [
      "## Test multiprocessing process with lazy file reading"
     ]
    },
    {
     "cell_type": "code",
     "collapsed": false,
     "input": [
      "## map/reduce version of word counting\n",
      "from multiprocessing import Process, Manager\n",
      "from mmap import mmap, ACCESS_READ\n",
      "import re\n",
      "from os import path"
     ],
     "language": "python",
     "metadata": {},
     "outputs": [],
     "prompt_number": "*"
    },
    {
     "cell_type": "code",
     "collapsed": false,
     "input": [
      "fpath = 'data/text_simple'\n",
      "fsize = path.getsize(fpath)\n",
      "from collections import Counter\n",
      "c = Counter(open(fpath).read().split())\n",
      "\n",
      "def read_word(fpath, start, bytes):\n",
      "    with open(fpath, 'r') as fin:\n",
      "        mf = mmap(fin.fileno(), 0, access = ACCESS_READ)\n",
      "        mf.seek(start)\n",
      "        #print 'tell:', mf.read(bytes+10).split()\n",
      "        for w in mf.read(bytes+3).split():\n",
      "            #w = word.group(1)\n",
      "            #if mf.tell() > start + bytes:\n",
      "            #    print 'early stopping', start, mf.tell()\n",
      "            #    break\n",
      "            if w: \n",
      "                yield w\n",
      "\n",
      "def count_words(pid):\n",
      "    #print pid, fsize / threads * pid, fsize / threads\n",
      "    for word in read_word(fpath, fsize / threads * pid, fsize / threads):\n",
      "        #print pid, word\n",
      "        update_result(result, word)\n",
      "\n",
      "def update_result(result, word):\n",
      "    if result.has_key(word):\n",
      "        result[word] +=  1\n",
      "\n",
      "manager = Manager()    \n",
      "result = manager.dict()\n",
      "for k in c.iterkeys():\n",
      "    result[k] = 0\n",
      "\n",
      "threads = 10\n",
      "\n",
      "for i in xrange(threads):\n",
      "    p = Process(target = count_words, args = (i, ))\n",
      "    p.start()\n",
      "    p.join()"
     ],
     "language": "python",
     "metadata": {},
     "outputs": [],
     "prompt_number": "*"
    },
    {
     "cell_type": "code",
     "collapsed": false,
     "input": [
      "print result"
     ],
     "language": "python",
     "metadata": {},
     "outputs": [
      {
       "output_type": "stream",
       "stream": "stdout",
       "text": [
        "{'bomb': 1, 'german': 1, 'four': 10, 'during': 3, 'dakota': 1, 'overlord': 1, 'anvil': 1, 'had': 1, 'to': 1, 'cub': 2, 'covered': 1, 'balloons': 2, 'them': 2, 'garden': 1, 'not': 1, 'world': 2, 'day': 1, 'landings': 1, 'd': 1, 'countries': 1, 'did': 1, 'l': 1, 'small': 1, 'commonwealth': 1, 'past': 1, 'zero': 1, 'operation': 3, 'air': 1, 'even': 1, 'cargo': 1, 'gliders': 2, 'for': 3, 'piper': 1, 'version': 1, 'europe': 1, 'handful': 1, 'intruding': 0, 'aircraft': 3, 'invented': 1, 'come': 1, 'troops': 2, 'on': 2, 'of': 1, 'k': 1, 'turkish': 1, 'times': 1, 'liaison': 1, 'allied': 1, 'normandy': 1, 'military': 2, 'first': 1, 'trainer': 1, 'civil': 1, 'into': 1, 'sicily': 1, 'period': 1, 'one': 5, 'market': 1, 'use': 1, 'fabric': 1, 'two': 2, 'been': 1, 'france': 1, 'few': 1, 'themselves': 0, 'was': 1, 'until': 1, 'western': 1, 'holland': 1, 'j': 1, 'war': 6, 'while': 1, 'nine': 5, 'three': 2, 'were': 2, 'seater': 1, 'reconnaissance': 1, 'example': 1, 'and': 13, 'ii': 1, 'as': 1, 'dropped': 1, 'have': 1, 'in': 8, 'italy': 1, 'six': 1, 'when': 1, 'american': 1, 'surveillance': 1, 'also': 1, 'italo': 1, 'widespread': 1, 'european': 1, 'used': 5, 'combat': 1, 'though': 1, 'balkan': 1, 'june': 1, 'dragoon': 1, 'invasion': 1, 'a': 4, 'land': 1, 'observation': 2, 'i': 1, 'u': 1, 'the': 11}\n"
       ]
      }
     ],
     "prompt_number": 4
    },
    {
     "cell_type": "code",
     "collapsed": false,
     "input": [
      "print c"
     ],
     "language": "python",
     "metadata": {},
     "outputs": [
      {
       "output_type": "stream",
       "stream": "stdout",
       "text": [
        "Counter({'and': 13, 'the': 11, 'four': 10, 'in': 8, 'one': 5, 'war': 5, 'nine': 5, 'used': 5, 'during': 3, 'operation': 3, 'for': 3, 'aircraft': 3, 'a': 3, 'world': 2, 'balloons': 2, 'gliders': 2, 'troops': 2, 'on': 2, 'military': 2, 'two': 2, 'three': 2, 'were': 2, 'observation': 2, 'bomb': 1, 'german': 1, 'dakota': 1, 'overlord': 1, 'anvil': 1, 'had': 1, 'to': 1, 'cub': 1, 'covered': 1, 'them': 1, 'garden': 1, 'not': 1, 'day': 1, 'landings': 1, 'd': 1, 'countries': 1, 'did': 1, 'l': 1, 'small': 1, 'commonwealth': 1, 'past': 1, 'zero': 1, 'air': 1, 'even': 1, 'cargo': 1, 'piper': 1, 'version': 1, 'europe': 1, 'handful': 1, 'intruding': 1, 'invented': 1, 'come': 1, 'of': 1, 'k': 1, 'turkish': 1, 'times': 1, 'liaison': 1, 'allied': 1, 'normandy': 1, 'first': 1, 'trainer': 1, 'civil': 1, 'into': 1, 'sicily': 1, 'period': 1, 'market': 1, 'use': 1, 'fabric': 1, 'been': 1, 'france': 1, 'few': 1, 'themselves': 1, 'was': 1, 'western': 1, 'holland': 1, 'j': 1, 'until': 1, 'while': 1, 'seater': 1, 'reconnaissance': 1, 'example': 1, 'ii': 1, 'as': 1, 'dropped': 1, 'have': 1, 'italy': 1, 'six': 1, 'when': 1, 'american': 1, 'surveillance': 1, 'also': 1, 'italo': 1, 'widespread': 1, 'european': 1, 'combat': 1, 'though': 1, 'balkan': 1, 'june': 1, 'dragoon': 1, 'invasion': 1, 'land': 1, 'i': 1, 'u': 1})\n"
       ]
      }
     ],
     "prompt_number": 5
    },
    {
     "cell_type": "code",
     "collapsed": false,
     "input": [
      "dictc = dict(c.iteritems())\n",
      "for k in result.keys():\n",
      "    if result[k] != dictc[k]:\n",
      "        print k, result[k], dictc[k]"
     ],
     "language": "python",
     "metadata": {},
     "outputs": [
      {
       "output_type": "stream",
       "stream": "stdout",
       "text": [
        "cub 2 1\n",
        "them 2 1\n",
        "intruding 0 1\n",
        "themselves 0 1\n",
        "war 6 5\n",
        "a 4 3\n"
       ]
      }
     ],
     "prompt_number": 6
    },
    {
     "cell_type": "markdown",
     "metadata": {},
     "source": [
      "## multiprocessing with np.array"
     ]
    },
    {
     "cell_type": "code",
     "collapsed": false,
     "input": [
      "import multiprocessing\n",
      "import ctypes\n",
      "import numpy as np"
     ],
     "language": "python",
     "metadata": {},
     "outputs": [],
     "prompt_number": 1
    },
    {
     "cell_type": "code",
     "collapsed": false,
     "input": [
      "shared_array_base = multiprocessing.Array(ctypes.c_float, 10 * 10)\n",
      "shared_array = np.ctypeslib.as_array(shared_array_base.get_obj())\n",
      "shared_array = shared_array.reshape(10, 10)"
     ],
     "language": "python",
     "metadata": {},
     "outputs": [],
     "prompt_number": 8
    },
    {
     "cell_type": "code",
     "collapsed": false,
     "input": [
      "print shared_array"
     ],
     "language": "python",
     "metadata": {},
     "outputs": [
      {
       "output_type": "stream",
       "stream": "stdout",
       "text": [
        "[[ 0.  0.  0.  0.  0.  0.  0.  0.  0.  0.]\n",
        " [ 0.  0.  0.  0.  0.  0.  0.  0.  0.  0.]\n",
        " [ 0.  0.  0.  0.  0.  0.  0.  0.  0.  0.]\n",
        " [ 0.  0.  0.  0.  0.  0.  0.  0.  0.  0.]\n",
        " [ 0.  0.  0.  0.  0.  0.  0.  0.  0.  0.]\n",
        " [ 0.  0.  0.  0.  0.  0.  0.  0.  0.  0.]\n",
        " [ 0.  0.  0.  0.  0.  0.  0.  0.  0.  0.]\n",
        " [ 0.  0.  0.  0.  0.  0.  0.  0.  0.  0.]\n",
        " [ 0.  0.  0.  0.  0.  0.  0.  0.  0.  0.]\n",
        " [ 0.  0.  0.  0.  0.  0.  0.  0.  0.  0.]]\n"
       ]
      }
     ],
     "prompt_number": 9
    },
    {
     "cell_type": "code",
     "collapsed": false,
     "input": [
      "## no copy was made\n",
      "assert shared_array.base.base is shared_array_base.get_obj()"
     ],
     "language": "python",
     "metadata": {},
     "outputs": [],
     "prompt_number": 10
    },
    {
     "cell_type": "code",
     "collapsed": false,
     "input": [
      "def foo(i):\n",
      "    i = i % 10\n",
      "    shared_array[i, :] += i\n",
      "    \n",
      "pool = multiprocessing.Pool(processes=4)\n",
      "\n",
      "_ = pool.map(foo, range(20))"
     ],
     "language": "python",
     "metadata": {},
     "outputs": [
      {
       "metadata": {},
       "output_type": "pyout",
       "prompt_number": 11,
       "text": [
        "[None,\n",
        " None,\n",
        " None,\n",
        " None,\n",
        " None,\n",
        " None,\n",
        " None,\n",
        " None,\n",
        " None,\n",
        " None,\n",
        " None,\n",
        " None,\n",
        " None,\n",
        " None,\n",
        " None,\n",
        " None,\n",
        " None,\n",
        " None,\n",
        " None,\n",
        " None]"
       ]
      }
     ],
     "prompt_number": 11
    },
    {
     "cell_type": "code",
     "collapsed": false,
     "input": [
      "print shared_array"
     ],
     "language": "python",
     "metadata": {},
     "outputs": [
      {
       "output_type": "stream",
       "stream": "stdout",
       "text": [
        "[[  0.   0.   0.   0.   0.   0.   0.   0.   0.   0.]\n",
        " [  2.   2.   2.   2.   2.   2.   2.   2.   2.   2.]\n",
        " [  4.   4.   4.   4.   4.   4.   4.   4.   4.   4.]\n",
        " [  6.   6.   6.   6.   6.   6.   6.   6.   6.   6.]\n",
        " [  8.   8.   8.   8.   8.   8.   8.   8.   8.   8.]\n",
        " [ 10.  10.  10.  10.  10.  10.  10.  10.  10.  10.]\n",
        " [ 12.  12.  12.  12.  12.  12.  12.  12.  12.  12.]\n",
        " [ 14.  14.  14.  14.  14.  14.  14.  14.  14.  14.]\n",
        " [ 16.  16.  16.  16.  16.  16.  16.  16.  16.  16.]\n",
        " [ 18.  18.  18.  18.  18.  18.  18.  18.  18.  18.]]\n"
       ]
      }
     ],
     "prompt_number": 12
    },
    {
     "cell_type": "markdown",
     "metadata": {},
     "source": [
      "### mmap file reading again"
     ]
    },
    {
     "cell_type": "code",
     "collapsed": false,
     "input": [
      "ftrain = 'data/text_simple'\n",
      "\n",
      "import multiprocessing\n",
      "from os import path\n",
      "import mmap, re\n",
      "import ctypes\n",
      "\n",
      "manager = multiprocessing.Manager()\n",
      "word_count = manager.Queue()\n",
      "\n",
      "num_threads = 20\n",
      "\n",
      "def read_blocks(pid):\n",
      "    fsize = path.getsize(ftrain)\n",
      "    with open(ftrain, 'r') as fin:\n",
      "        mf = mmap.mmap(fin.fileno(), 0, access = mmap.ACCESS_READ)\n",
      "        fstart = fsize / num_threads * pid\n",
      "        fend = fsize / num_threads * (pid + 1)\n",
      "        ftell = fstart\n",
      "        for word in re.finditer(r'(.*?)\\s', mf[fstart:]):\n",
      "            if ftell > fend: break\n",
      "            w = word.group(1)\n",
      "            ftell += len(word.group(0))\n",
      "            if not w: continue\n",
      "            word_count.put(w)\n",
      "            \n",
      "pool = multiprocessing.Pool(processes=num_threads)\n",
      "_ = pool.map(read_blocks, range(num_threads))"
     ],
     "language": "python",
     "metadata": {},
     "outputs": [],
     "prompt_number": 41
    },
    {
     "cell_type": "code",
     "collapsed": false,
     "input": [
      "from collections import Counter\n",
      "c = Counter()\n",
      "while not word_count.empty():\n",
      "    w = word_count.get()\n",
      "    c.update([w])\n",
      "print c"
     ],
     "language": "python",
     "metadata": {},
     "outputs": [
      {
       "output_type": "stream",
       "stream": "stdout",
       "text": [
        "Counter({'and': 12, 'the': 12, 'four': 10, 'in': 8, 'war': 6, 'one': 5, 'nine': 5, 'used': 5, 'for': 4, 'during': 3, 'operation': 3, 'aircraft': 3, 'a': 3, 'world': 2, 'cub': 2, 'balloons': 2, 'gliders': 2, 'troops': 2, 'on': 2, 'military': 2, 'two': 2, 'three': 2, 'were': 2, 'observation': 2, 'bomb': 1, 'german': 1, 'dakota': 1, 'ng': 1, 'overlord': 1, 'anvil': 1, 'had': 1, 'to': 1, 'air': 1, 'covered': 1, 'hemselves': 1, 'them': 1, 'garden': 1, 'not': 1, 'day': 1, 'landings': 1, 'd': 1, 'countries': 1, 'did': 1, 'l': 1, 'small': 1, 'commonwealth': 1, 'past': 1, 'zero': 1, 'ur': 1, 'even': 1, 'cargo': 1, 'piper': 1, 'version': 1, 'vation': 1, 'europe': 1, 'handful': 1, 'uding': 1, 'intruding': 1, 'invented': 1, 'come': 1, 'of': 1, 'k': 1, 'turkish': 1, 'times': 1, 'liaison': 1, 'allied': 1, 'normandy': 1, 'first': 1, 'trainer': 1, 'civil': 1, 'into': 1, 'sicily': 1, 'period': 1, 'market': 1, 'use': 1, 'fabric': 1, 'been': 1, 'france': 1, 'few': 1, 'until': 1, 'themselves': 1, 'was': 1, 'western': 1, 'holland': 1, 'j': 1, 'n': 1, 'while': 1, 'seater': 1, 'reconnaissance': 1, 'example': 1, 'an': 1, 'ii': 1, 'as': 1, 'dropped': 1, 'have': 1, 'italy': 1, 'six': 1, 'when': 1, 'ne': 1, 'surveillance': 1, 'also': 1, 'italo': 1, 'widespread': 1, 'european': 1, 'combat': 1, 'though': 1, 'balkan': 1, 'june': 1, 'dragoon': 1, 'aissance': 1, 'invasion': 1, 'land': 1, 'i': 1, 'u': 1, 'american': 1})\n"
       ]
      }
     ],
     "prompt_number": 42
    },
    {
     "cell_type": "code",
     "collapsed": false,
     "input": [
      "words = [(w, wc) for w, wc in c.items() if wc >= 5]\n",
      "print words"
     ],
     "language": "python",
     "metadata": {},
     "outputs": [
      {
       "output_type": "stream",
       "stream": "stdout",
       "text": [
        "[('four', 10), ('one', 5), ('war', 6), ('nine', 5), ('and', 12), ('in', 8), ('used', 5), ('the', 12)]\n"
       ]
      }
     ],
     "prompt_number": 44
    },
    {
     "cell_type": "code",
     "collapsed": false,
     "input": [],
     "language": "python",
     "metadata": {},
     "outputs": []
    }
   ],
   "metadata": {}
  }
 ]
}