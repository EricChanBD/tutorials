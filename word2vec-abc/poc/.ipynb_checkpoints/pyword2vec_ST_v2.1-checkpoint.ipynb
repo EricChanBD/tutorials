{
 "metadata": {
  "name": ""
 },
 "nbformat": 3,
 "nbformat_minor": 0,
 "worksheets": [
  {
   "cells": [
    {
     "cell_type": "markdown",
     "metadata": {},
     "source": [
      "## pyword2vec single thread experiment"
     ]
    },
    {
     "cell_type": "code",
     "collapsed": false,
     "input": [
      "import numpy as np"
     ],
     "language": "python",
     "metadata": {},
     "outputs": [],
     "prompt_number": 2
    },
    {
     "cell_type": "code",
     "collapsed": false,
     "input": [
      "class HashedVocab(object):\n",
      "    def __init__(self, hash_size):\n",
      "        self.hash_size = hash_size\n",
      "        self.min_occurrance = 1\n",
      "    def learn_vocab_from_words(self, words):\n",
      "        \"\"\"\n",
      "        words: the iterator of word\n",
      "        effect: build self.vocab to store vocab_word\n",
      "        buidl self.vocab_hash to store word indices for fast searching\n",
      "        \"\"\"\n",
      "        ## initialize \n",
      "        self.vocab = []\n",
      "        self.vocab_hash = np.empty(self.hash_size, dtype = np.int64)\n",
      "        self.vocab_hash.fill(-1)\n",
      "        ## add each word in vocab and vocab_hash & update word count\n",
      "        for i, word in enumerate(words):\n",
      "            word_index = search_vocab(word)\n",
      "            if word_index == -1:\n",
      "                self.update_vocab(word)\n",
      "                self.vocab[word_index]['count'] = 1\n",
      "    def update_vocab(self, word):\n",
      "        pass"
     ],
     "language": "python",
     "metadata": {},
     "outputs": []
    }
   ],
   "metadata": {}
  }
 ]
}