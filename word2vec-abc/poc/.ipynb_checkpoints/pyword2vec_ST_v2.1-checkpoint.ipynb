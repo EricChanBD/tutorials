{
 "metadata": {
  "name": ""
 },
 "nbformat": 3,
 "nbformat_minor": 0,
 "worksheets": [
  {
   "cells": [
    {
     "cell_type": "markdown",
     "metadata": {},
     "source": [
      "## pyword2vec single thread experiment"
     ]
    },
    {
     "cell_type": "code",
     "collapsed": false,
     "input": [
      "import numpy as np\n",
      "from collections import Counter\n",
      "import mmap\n",
      "import re\n",
      "import networkx as nx"
     ],
     "language": "python",
     "metadata": {},
     "outputs": [],
     "prompt_number": 61
    },
    {
     "cell_type": "code",
     "collapsed": false,
     "input": [
      "## HELPER FUNCTION\n",
      "def file_to_wordstream(file_path):\n",
      "    with open(file_path) as fin:\n",
      "        mf = mmap.mmap(fin.fileno(), 0, access = mmap.ACCESS_READ)\n",
      "        for match in re.finditer(r'(.*?)\\s', mf):\n",
      "            word = match.group(1)\n",
      "            if word:\n",
      "                yield word\n",
      "                \n",
      "def inspect_vocab_tree(vocab):\n",
      "    g = nx.DiGraph()\n",
      "    vocab_size = len(vocab)\n",
      "    edges = set()\n",
      "    for vw in vocab:\n",
      "        tree_path = [i + vocab_size for i in vw['path']]\n",
      "        tree_path = [str(i) if i >= vocab_size \n",
      "                         else \"%d_%s(%d)\" % (i, vocab[i]['word'], vocab[i]['count']) \n",
      "                     for i in tree_path]\n",
      "        edges.update(zip(tree_path[:-1], tree_path[1:]))\n",
      "    g.add_edges_from(edges)\n",
      "    figure(figsize=(16, 16))\n",
      "    pos = nx.graphviz_layout(g, prog='dot')\n",
      "    nx.draw(g, pos, with_labels=True, arrows = True, node_size=3000, font_size = 30)\n",
      "    return g"
     ],
     "language": "python",
     "metadata": {},
     "outputs": []
    },
    {
     "cell_type": "code",
     "collapsed": false,
     "input": [
      "## HashedVocab\n",
      "\n",
      "class HashedVocab(object):\n",
      "    def __init__(self):\n",
      "        self.HASH_SIZE = 30000000\n",
      "        self.MIN_COUNT = 5\n",
      "        self.vocab = []\n",
      "        self.vocab_hash = np.empty(self.HASH_SIZE, dtype = np.int)\n",
      "        self.vocab_hash.fill(-1)\n",
      "    def fit(self, word_stream):\n",
      "        counter = Counter(word_stream)\n",
      "        self.vocab = map(lambda x: dict(zip(['word', 'count'], x)), \n",
      "                         filter(lambda x: x[1] > self.MIN_COUNT, \n",
      "                                    counter.most_common(len(counter))))\n",
      "        if len(self.vocab) > self.HASH_SIZE * 0.7:\n",
      "            raise RuntimeError('Vocab size too large, increase MIN_COUNT or increase HASH_SIZE')\n",
      "        self.build_hash()\n",
      "        self.build_huffman_tree()\n",
      "    def search_for(self, word):\n",
      "        word_hash = self.get_word_hash(word)\n",
      "        while True:\n",
      "            word_index = self.vocab_hash[word_hash]\n",
      "            if word_index == -1:\n",
      "                return - 1\n",
      "            elif word == self.vocab[word_index]['word']:\n",
      "                return word_index\n",
      "            else:\n",
      "                word_hash = (word_hash + 1) % self.HASH_SIZE\n",
      "    \n",
      "    def build_hash(self):\n",
      "        self.vocab_hash = np.empty(self.HASH_SIZE, dtype = np.int)\n",
      "        self.vocab_hash.fill(-1)\n",
      "        for word_index, vocab_word in enumerate(self.vocab):\n",
      "            word = vocab_word['word']\n",
      "            word_hash = self.get_word_hash(word)\n",
      "            self.add_to_hash(word_hash, word_index)\n",
      "    def get_word_hash(self, word):\n",
      "        word_hash = sum([ord(c)*(257**i) \n",
      "                     for i, c in zip(range(len(word))[::-1], word)])\n",
      "        word_hash %= self.HASH_SIZE\n",
      "        return word_hash\n",
      "    def add_to_hash(self, word_hash, word_index):\n",
      "        while self.vocab_hash[word_hash] != -1:\n",
      "            word_hash = (word_hash + 1) % self.HASH_SIZE\n",
      "        self.vocab_hash[word_hash] = word_index\n",
      "    def build_huffman_tree(self):\n",
      "        \"\"\"\n",
      "        build binary Huffman Tree by word counts,\n",
      "        the structure will be embedded in the vocab_word\n",
      "        dict(word, count, path, code) in the vocab\n",
      "        \n",
      "        vocab_word['code'] will be the binary representation of word\n",
      "        based on frequency\n",
      "        vocab_word['path'] will be the path from root to leaf \n",
      "        \"\"\"\n",
      "        ## for arbitary full binary, n-1 internal inodes at max \n",
      "        ## given n leaves. But in the original C code, the count\n",
      "        ## binary and parent_node size are n*2+1 instead of n*2-1\n",
      "        vocab_size = len(self.vocab)\n",
      "        print \"DEBUG:\", vocab_size\n",
      "        ## workhorse data structure for tree construction\n",
      "        count = np.empty(vocab_size*2-1, dtype = np.int64)\n",
      "        count.fill(1e15)\n",
      "        count[:vocab_size] = [vw['count'] for vw in self.vocab]\n",
      "        ## boolean values of each node\n",
      "        binary = np.zeros(vocab_size*2-1, dtype = np.int8)\n",
      "        ## parent node to store the path\n",
      "        parent_node = np.empty(vocab_size*2-1, dtype = np.int64)\n",
      "        ## construct the tree\n",
      "        pos1, pos2 = vocab_size-1, vocab_size\n",
      "        for a in xrange(vocab_size-1):\n",
      "            ## min1i\n",
      "            if pos1 >= 0:\n",
      "                if count[pos1] < count[pos2]:\n",
      "                    min1i, pos1 = pos1, pos1-1\n",
      "                else:\n",
      "                    min1i, pos2 = pos2, pos2+1\n",
      "            else:\n",
      "                min1i, pos2 = pos2, pos2+1\n",
      "            ## min2i\n",
      "            if pos1 >= 0:\n",
      "                if count[pos1] < count[pos2]:\n",
      "                    min2i, pos1 = pos1, pos1-1\n",
      "                else:\n",
      "                    min2i, pos2 = pos2, pos2+1\n",
      "            else:\n",
      "                min2i, pos2 = pos2, pos2+1\n",
      "            count[vocab_size + a] = count[min1i] + count[min2i]\n",
      "            parent_node[min1i] = vocab_size + a\n",
      "            parent_node[min2i] = vocab_size + a\n",
      "            binary[min2i] = 1\n",
      "        for a in xrange(vocab_size):\n",
      "            b, i = a, 0\n",
      "            code, path = [], []\n",
      "            while True:\n",
      "                code.append(binary[b])\n",
      "                path.append(b)\n",
      "                i += 1\n",
      "                b = parent_node[b]\n",
      "                if b == vocab_size * 2 - 2: break\n",
      "            self.vocab[a]['path'] = [vocab_size - 2] + [p -vocab_size for p in path[::-1]]\n",
      "            self.vocab[a]['code'] = code[::-1]"
     ],
     "language": "python",
     "metadata": {},
     "outputs": [],
     "prompt_number": 80
    },
    {
     "cell_type": "markdown",
     "metadata": {},
     "source": [
      "##TESTING"
     ]
    },
    {
     "cell_type": "code",
     "collapsed": false,
     "input": [
      "## TEST HashedVocab\n",
      "hashed_vocab = HashedVocab()\n",
      "#hashed_vocab.fit(file_to_wordstream('data/text_simple'))\n",
      "hashed_vocab.fit(file_to_wordstream('data/text8'))"
     ],
     "language": "python",
     "metadata": {},
     "outputs": [
      {
       "output_type": "stream",
       "stream": "stdout",
       "text": [
        "DEBUG: 63641\n"
       ]
      }
     ],
     "prompt_number": 83
    },
    {
     "cell_type": "code",
     "collapsed": false,
     "input": [
      "for i, vw in enumerate(hashed_vocab.vocab):\n",
      "    word = vw['word']\n",
      "    assert i == hashed_vocab.search_for(word)\n",
      "    \n",
      "print hashed_vocab.search_for('alien')\n",
      "print len(hashed_vocab.vocab)\n",
      "#inspect_vocab_tree(hashed_vocab.vocab)"
     ],
     "language": "python",
     "metadata": {},
     "outputs": [
      {
       "output_type": "stream",
       "stream": "stdout",
       "text": [
        "3896\n",
        "63641\n"
       ]
      }
     ],
     "prompt_number": 84
    },
    {
     "cell_type": "code",
     "collapsed": false,
     "input": [],
     "language": "python",
     "metadata": {},
     "outputs": []
    }
   ],
   "metadata": {}
  }
 ]
}