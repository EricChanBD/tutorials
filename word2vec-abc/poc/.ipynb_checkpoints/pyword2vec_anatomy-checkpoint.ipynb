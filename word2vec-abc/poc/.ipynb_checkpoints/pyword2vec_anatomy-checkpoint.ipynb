{
 "metadata": {
  "name": ""
 },
 "nbformat": 3,
 "nbformat_minor": 0,
 "worksheets": [
  {
   "cells": [
    {
     "cell_type": "markdown",
     "metadata": {},
     "source": [
      "#An Anatomy of Key Tricks in [word2vec project](https://code.google.com/p/word2vec/) with examples\n",
      "\n",
      "The python implementation is mainly for educational purpose, as I found myself understand the original code quicker by trying them in an interactive env.\n",
      "\n",
      "Its implementation is by no means optimal and thus you should not expect its running performance would be comparable to the C version.\n",
      "\n",
      "Some implementations have been simplified during the translation to better illustrate the idea."
     ]
    },
    {
     "cell_type": "code",
     "collapsed": false,
     "input": [
      "import numpy as np\n",
      "from collections import Counter\n",
      "import mmap\n",
      "import re\n",
      "import networkx as nx\n",
      "import math"
     ],
     "language": "python",
     "metadata": {},
     "outputs": [],
     "prompt_number": 1
    },
    {
     "cell_type": "markdown",
     "metadata": {},
     "source": [
      "## Precomputed Exponetial Table\n",
      "- It is a table that pre-calculates exponetials of [logistic function](http://en.wikipedia.org/wiki/Logistic_regression)\n",
      "$$F(t) = {1\\over1 + e^{-t}}$$\n",
      "- For speeded-up access during the runtime\n",
      "- The values in the exponetial table are later used as *objective function*"
     ]
    },
    {
     "cell_type": "code",
     "collapsed": false,
     "input": [
      "MAX_EXP = 6\n",
      "EXP_TABLE_SIZE = 1000\n",
      "EXP_TABLE = np.arange(start = 0, stop = EXP_TABLE_SIZE, \n",
      "                      step = 1, dtype = np.float64)\n",
      "## Exponentials of [-MAX_EXP, MAX_EXP]\n",
      "EXP_TABLE = np.exp((EXP_TABLE / EXP_TABLE_SIZE * 2 - 1) * MAX_EXP)\n",
      "## Logitstic Regression of [-MAX_EXP, MAX_EXP]\n",
      "EXP_TABLE = EXP_TABLE / (EXP_TABLE + 1.)\n",
      "## SO to use the EXP_TABLE, the value f must be in range [-MAX_EXP, MAX_EXP]\n",
      "## and first transform the f value to range [0, EXP_TABLE-1]\n",
      "## and then get the value from the table, e.g., to get logistic function value of f\n",
      "f = [-6., -3., 0, 3., 6.]\n",
      "## (f+MAX_EXP) / (MAX_EXP/2) transforms f to [0, 1]\n",
      "index4exptable = lambda f: int((f+MAX_EXP) * (EXP_TABLE_SIZE/MAX_EXP/2))\n",
      "f_index = map(index4exptable, f)\n",
      "logistic_f = EXP_TABLE[f_index]\n",
      "print f\n",
      "print f_index\n",
      "print logistic_f ## values in [0, 1] for logistic regression"
     ],
     "language": "python",
     "metadata": {},
     "outputs": [
      {
       "output_type": "stream",
       "stream": "stdout",
       "text": [
        "[-6.0, -3.0, 0, 3.0, 6.0]\n",
        "[0, 249, 498, 747, 996]\n",
        "[ 0.00247262  0.04688669  0.49400029  0.95092101  0.99740611]\n"
       ]
      }
     ],
     "prompt_number": 27
    },
    {
     "cell_type": "markdown",
     "metadata": {},
     "source": [
      "## Hashed Vocabulary\n",
      "- In the C implementation, the vocab is a combination of `hashed vocabulary` and `Huffman tree`.\n",
      "- A hashed vocab is a vocab and a hash of its elements' index. The elements in vocab is a vocab_word structure (simulated as a dict here) including fields `frequency` (frequency of word), `word` (string repr of word), `path` (point in c-version, all parent nodes of word in Huffman tree), `code` (binary repr of word in Huffman tree)\n",
      "- The hashing is for fast searching of whether a word is in the vocab\n",
      "- The vocab_words are sorted by their `count` in the vocab\n",
      "- The hashed vocab and the tree are built from a train file (a list of words)\n",
      "- The implementation below ignore the </s> tag as used in the original version, for simplicity\n",
      "- a very good [illustration](http://upload.wikimedia.org/wikipedia/commons/a/ac/Huffman_huff_demo.gif) of constructing Huffman tree can be found here"
     ]
    },
    {
     "cell_type": "code",
     "collapsed": false,
     "input": [
      "class HashedVocab(object):\n",
      "    HASH_SIZE = 30000000 ## max hash size\n",
      "    ## count threshold for a word to be in the vocab - ignore infrequent word\n",
      "    MIN_COUNT = 5 \n",
      "    @staticmethod\n",
      "    def file2ws(fpath):\n",
      "        \"\"\"\n",
      "        file to wordstream: lazily read words from a file as an iterator\n",
      "        \"\"\"\n",
      "        with open(fpath) as fin:\n",
      "            word_pattern = re.compile(r'(.*?)\\s')\n",
      "            mf = mmap.mmap(fin.fileno(), 0, access = mmap.ACCESS_READ)\n",
      "            for match in word_pattern.finditer(mf):\n",
      "                word = match.group(1)\n",
      "                if word: yield word\n",
      "    def __init__(self):\n",
      "        ## vocab stores vocab_word dict\n",
      "        self.vocab = []\n",
      "        ## vocab_hash stores the index of vocab_word in vocab\n",
      "        self.vocab_hash = np.empty(HashedVocab.HASH_SIZE, dtype = np.int64)\n",
      "        self.vocab_hash.fill(-1)\n",
      "        ## house-keeping - total number of word occurences in training set\n",
      "        ## it will be used as an estimate of training size later, which \n",
      "        ## affect the adjustment of learning rate of the deep structure\n",
      "        self.n_train_words = 0\n",
      "    def fit(self, word_stream):\n",
      "        \"\"\"\n",
      "        build hashed_vocab and Huffman tree from word stream\n",
      "        the word_stream is usually from reading a word file, e.g., using file2ws\n",
      "        \"\"\"\n",
      "        ## word counter\n",
      "        wc = Counter(word_stream)\n",
      "        ## total occurances of training words\n",
      "        self.n_train_words = sum(wc.values())\n",
      "        ## Sort the words by their counts, filter out infrequent words,\n",
      "        ## construct vocab_word (a dict) and put them in self.vocab\n",
      "        self.vocab = map(lambda x: dict(zip(['word', 'count'], x)),\n",
      "                         filter(lambda x: x[1] > HashedVocab.MIN_COUNT, \n",
      "                                wc.most_common(len(wc))))\n",
      "        ## if vocab is already too big for hash, either (1) ignoring more infrequent\n",
      "        ## words (as implemented in C by ReduceVocab), (2) making hash size bigger\n",
      "        ## here we simply raise an exception for simplicity\n",
      "        if len(self.vocab) > HashedVocab.HASH_SIZE * 0.7:\n",
      "            raise RuntimeError('vocab size too large for hash, increase MIN_COUNT or HASH_SIZE')\n",
      "        self.build_hash()\n",
      "        self.build_huffman_tree()\n",
      "        return self\n",
      "    def index_of(self, word):\n",
      "        \"\"\"\n",
      "        Get the index of word in vocab by using hash,\n",
      "        return -1 if it is NOT there\n",
      "        \"\"\"\n",
      "        word_hash = self.get_word_hash(word)\n",
      "        while True:\n",
      "            if word_index == -1:\n",
      "                return -1\n",
      "            elif word == self.vocab[word_index]['word']:\n",
      "                return word_index\n",
      "            else:\n",
      "                word_hash = (word_hash + 1) % HashedVocab.HASH_SIZE\n",
      "    def __getitem__(self, word_index):\n",
      "        \"\"\"\n",
      "        get vocab_word in vocab by its index\n",
      "        \"\"\"\n",
      "        return self.vocab[word_index]\n",
      "    def __len__(self):\n",
      "        return len(self.vocab)\n",
      "    \n",
      "    \n",
      "    def build_hash(self):\n",
      "        self.vocab_hash = np.empty(HashedVocab.HASH_SIZE, dtype = np.int64)\n",
      "        self.vocab_hash.fill(-1)\n",
      "        for word_index, vocab_word in enumerate(self.vocab):\n",
      "            word = vocab_word['word']\n",
      "            word_hash = self.get_word_hash(word)\n",
      "            self.add_to_hash(word_hash, word_index)\n",
      "        return self\n",
      "    def get_word_hash(self, word):\n",
      "        word_hash = sum([ord(c)*(257**i) \n",
      "                     for i, c in zip(range(len(word))[::-1], word)])\n",
      "        word_hash %= HashedVocab.HASH_SIZE\n",
      "        return word_hash\n",
      "    def add_to_hash(self, word_hash, word_index):\n",
      "        while self.vocab_hash[word_hash] != -1:\n",
      "            word_hash = (word_hash + 1) % HashedVocab.HASH_SIZE\n",
      "        self.vocab_hash[word_hash] = word_index\n",
      "        return self\n",
      "    def build_huffman_tree(self):\n",
      "        \"\"\"Build the Huffman tree representation for word based on their freq.\n",
      "        The vocab_word structure in self.vocab is a dict {word, count, path, code}\n",
      "        where vocab_word['code'] is the Huffman coding of word, and\n",
      "        vocab_word['path'] will be the path from root to leaf (in reverse order)\n",
      "        \"\"\"\n",
      "        ## for a full binary tree with n leaves, n-1 internal nodes will be needed\n",
      "        ## for the 2*n-1 long data array (e.g. count and binary), the first n will be\n",
      "        ## for the leaf nodes, and the last n-1 will be for the internal nodes\n",
      "        vocab_size = len(self)\n",
      "        ## workhorse structure for tree construction\n",
      "        ## count - the count of words (leaves) and internal nodes (sum of leave counts)\n",
      "        count = np.empty(vocab_size * 2 - 1, dtype = np.int64)\n",
      "        count.fill(1e15)\n",
      "        count[:vocab_size] = [vw['count'] for vw in self.vocab]\n",
      "        ## binary - boolean repr for leaves and internal nodes\n",
      "        binary = np.zeros(vocab_size*2-1, dtype=np.int64)\n",
      "        ## parent_node - storing the path for each node\n",
      "        parent_node = np.empty(vocab_size*2-1, dtype = np.int64)\n",
      "        ## construct the tree \n",
      "        ## DESCRIPTION: iteratively group the two ungrouped nodes (leaf or internal) that \n",
      "        ## have the smallest counts\n",
      "        ## Since the vocab is sorted in decreasing counts order (first half ) and \n",
      "        ## the newly created internal nodes (second half) will be the order of \n",
      "        ## increasing counts (the algorithm invariant), so we only need to check\n",
      "        ## the two nodes in the middle of array to look for candidates, that is the role\n",
      "        ## of min1i and min2i\n",
      "        ## start searching for min1i and min2i from the middle of array\n",
      "        pos1, pos2 = vocab_size - 1, vocab_size\n",
      "        ## construct the vocab_size -1 internal nodes\n",
      "        for a in xrange(vocab_size-1):\n",
      "            ## min1i\n",
      "            if pos1 >= 0:\n",
      "                # min1i = pos1\n",
      "                if count[pos1] < count[pos2]:\n",
      "                    min1i, pos1 = pos1, pos1-1\n",
      "                # min1i = pos2\n",
      "                else: \n",
      "                    min1i, pos2 = pos2, pos2+1\n",
      "            else: ## running out of leaf nodes\n",
      "                min1i, pos2 = pos2, pos2+1\n",
      "            ## min2i\n",
      "            if pos1 >= 0:\n",
      "                if count[pos1] < count[pos2]:\n",
      "                    min2i, pos1 = pos1, pos1-1\n",
      "                else:\n",
      "                    min2i, pos2 = pos2, pos2+1\n",
      "            else:\n",
      "                min2i, pos2 = pos2, pos2+1\n",
      "            ## count(parent_node) = count(child1) + count(child2)\n",
      "            count[vocab_size + a] = count[min1i] + count[min2i]\n",
      "            ## link parent node index\n",
      "            parent_node[min1i] = vocab_size + a\n",
      "            parent_node[min2i] = vocab_size + a\n",
      "            ## binary encoding for min1i is 0 (left), for min2i is 1 (right)\n",
      "            binary[min2i] = 1\n",
      "        ## put the built Huffman tree structure in the vocab_word in vocab\n",
      "        ## for each leaf node\n",
      "        for a in xrange(vocab_size):\n",
      "            b, i = a, 0\n",
      "            code, path = [], []\n",
      "            while True:\n",
      "                code.append(binary[b])\n",
      "                path.append(b)\n",
      "                i += 1\n",
      "                b = parent_node[b]\n",
      "                if b == vocab_size * 2 - 2: break\n",
      "            self.vocab[a]['path'] = [vocab_size - 2] + [p - vocab_size\n",
      "                                                        for p in path[::-1]]\n",
      "            self.vocab[a]['code'] = code[::-1]\n",
      "            ???\n",
      "    def inspect_vocab_tree(self):\n",
      "        \"\"\"Draw the built Huffman binary tree for the vocab\n",
      "        \"\"\"\n",
      "        g = nx.DiGraph()\n",
      "        vocab_size = len(self)\n",
      "        edges = set()\n",
      "        for vw in self.vocab:\n",
      "            tree_path = [i + vocab_size for i in vw['path']]\n",
      "            tree_path = [str(i) if i >= vocab_size\n",
      "                         else \"%s(%d)\" % (self.vocab[i]['word'], self.vocab[i]['count'])\n",
      "                         for i in tree_path]\n",
      "            edges.update(zip(tree_path[:-1], tree_path[1:]))\n",
      "        g.add_edges_from(edges)\n",
      "        pos = nx.graphviz_layout(g, prog = 'dot')\n",
      "        nx.draw(g, pos, with_labels = True, arrows = True)\n",
      "        return g"
     ],
     "language": "python",
     "metadata": {},
     "outputs": [],
     "prompt_number": 89
    },
    {
     "cell_type": "code",
     "collapsed": false,
     "input": [
      "## examples of buiding the hashed_vocab and its associated Huffman tree\n",
      "## simple.txt is the first 50K words from original text8\n",
      "hashed_vocab = HashedVocab()\n",
      "hashed_vocab.fit(HashedVocab.file2ws('data/first50k.txt'))\n",
      "print 'totally %i words were used to build vocab' % hashed_vocab.n_train_words\n",
      "print '%i of them go into the vocab' % len(hashed_vocab)"
     ],
     "language": "python",
     "metadata": {},
     "outputs": [
      {
       "output_type": "stream",
       "stream": "stdout",
       "text": [
        "totally 50000 words were used to build vocab\n",
        "1179 of them go into the vocab\n"
       ]
      }
     ],
     "prompt_number": 90
    },
    {
     "cell_type": "code",
     "collapsed": false,
     "input": [
      "## simple example to illustrate the built Huffman tree\n",
      "%pylab inline\n",
      "len(HashedVocab().fit(HashedVocab.file2ws('data/first300.txt')))\n",
      "HashedVocab().fit(HashedVocab.file2ws('data/first300.txt')).inspect_vocab_tree()"
     ],
     "language": "python",
     "metadata": {},
     "outputs": [
      {
       "output_type": "stream",
       "stream": "stdout",
       "text": [
        "Populating the interactive namespace from numpy and matplotlib\n"
       ]
      },
      {
       "output_type": "stream",
       "stream": "stderr",
       "text": [
        "/Library/Frameworks/Python.framework/Versions/2.7/lib/python2.7/site-packages/pygraphviz-1.1-py2.7-macosx-10.6-intel.egg/pygraphviz/agraph.py:1277: RuntimeWarning: Fontconfig warning: ignoring UTF-8: not a valid region tag\n",
        "\n",
        "  warnings.warn(\"\".join(errors),RuntimeWarning)\n"
       ]
      },
      {
       "metadata": {},
       "output_type": "pyout",
       "prompt_number": 92,
       "text": [
        "<networkx.classes.digraph.DiGraph at 0x1221e41d0>"
       ]
      },
      {
       "metadata": {},
       "output_type": "display_data",
       "png": "[encoded data removed]",
       "text": [
        "<matplotlib.figure.Figure at 0x1221e4150>"
       ]
      }
     ],
     "prompt_number": 92
    },
    {
     "cell_type": "code",
     "collapsed": false,
     "input": [],
     "language": "python",
     "metadata": {},
     "outputs": []
    }
   ],
   "metadata": {}
  }
 ]
}