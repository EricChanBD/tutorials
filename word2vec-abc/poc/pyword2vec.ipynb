{
 "metadata": {
  "name": ""
 },
 "nbformat": 3,
 "nbformat_minor": 0,
 "worksheets": [
  {
   "cells": [
    {
     "cell_type": "markdown",
     "metadata": {},
     "source": [
      "# Test tricks for pyword2vec"
     ]
    },
    {
     "cell_type": "code",
     "collapsed": false,
     "input": [
      "from collections import namedtuple\n",
      "import numpy as np"
     ],
     "language": "python",
     "metadata": {},
     "outputs": [],
     "prompt_number": 1
    },
    {
     "cell_type": "code",
     "collapsed": false,
     "input": [
      "## data structure\n",
      "VocabWord = namedtuple('vocab_word', \n",
      "                        ['count', 'path', 'word', 'code'])"
     ],
     "language": "python",
     "metadata": {},
     "outputs": [],
     "prompt_number": 43
    },
    {
     "cell_type": "code",
     "collapsed": false,
     "input": [
      "## control flags\n",
      "flags = {}"
     ],
     "language": "python",
     "metadata": {},
     "outputs": [],
     "prompt_number": 44
    },
    {
     "cell_type": "code",
     "collapsed": false,
     "input": [
      "## constants\n",
      "MAX_STRING = 100\n",
      "EXP_TABLE_SIZE = 1000\n",
      "MAX_EXP = 6\n",
      "##\n",
      "#VOCAB_MAX_SIZE = 1000\n",
      "VOCAB_HASH_SIZE = 30000000\n",
      "##\n",
      "MIN_COUNT = 5\n",
      "MIN_REDUCE = 1\n",
      "MAX_SENTENCE_LENGTH = 1000\n",
      "MAX_CODE_LENGTH = 40\n",
      "##\n",
      "WINDOW = 5\n",
      "LAYER1_SIZE = 100\n",
      "ALPHA = 0.025\n",
      "##\n",
      "TABLE_SIZE = 1e8\n",
      "\n",
      "REAL = \"float\""
     ],
     "language": "python",
     "metadata": {},
     "outputs": [],
     "prompt_number": 45
    },
    {
     "cell_type": "code",
     "collapsed": false,
     "input": [
      "## prelocated data storage\n",
      "#vocab = np.empty(VOCAB_MAX_SIZE, dtype = vocab_word)\n",
      "vocab = []\n",
      "\n",
      "vocab_hash = np.empty(VOCAB_HASH_SIZE, dtype = np.int32)\n",
      "vocab_hash.fill(-1)\n",
      "\n",
      "exp_table = np.arange(start = 0, stop = EXP_TABLE_SIZE, \n",
      "                      step = 1, dtype = REAL)\n",
      "exp_table = np.exp((exp_table / EXP_TABLE_SIZE * 2. - 1.) * MAX_EXP)\n",
      "exp_table = exp_table / (exp_table + 1.)"
     ],
     "language": "python",
     "metadata": {},
     "outputs": [],
     "prompt_number": 46
    },
    {
     "cell_type": "code",
     "collapsed": false,
     "input": [
      "def get_word_hash(word):\n",
      "    word_hash = sum([ord(c)*(257**i) \n",
      "                     for i, c in zip(range(len(word))[::-1], word)])\n",
      "    word_hash %= VOCAB_HASH_SIZE\n",
      "    return word_hash\n",
      "\n",
      "def add_vocab_hash(word_hash, word_index):\n",
      "    while vocab_hash[word_hash] != -1:\n",
      "        word_hash = (word_hash + 1) % VOCAB_HASH_SIZE\n",
      "    vocab_hash[word_hash] = word_index\n",
      "\n",
      "def add_word_to_vocab(word):\n",
      "    \"\"\"\n",
      "    construct a VocabWord from word\n",
      "    add vocab_word to vocab\n",
      "    put its index to vocab_hash\n",
      "    word_index: the index of vocab_word in vocab\n",
      "    word_hash: the index of word_index in vocab_hash\n",
      "    \"\"\"\n",
      "    vocab_word = VocabWord(count = 0, path = None, \n",
      "                           word = word, code = None)\n",
      "    vocab.append(vocab_word)\n",
      "    word_hash = get_word_hash(word)\n",
      "    word_index = len(vocab)-1\n",
      "    add_vocab_hash(word_hash, word_index)\n",
      "    return word_index\n",
      "\n",
      "def learn_vocab_from_file(fpath):\n",
      "    \"\"\"\n",
      "    fpath: path of train file,\n",
      "    train file is a collection of words delimited by whitespace\n",
      "    modify: vocab - np.array of dtype=vocab_word\n",
      "            vocab_hash - hashed index of words in vocab\n",
      "    \"\"\"\n",
      "    ## prelocate data structure\n",
      "    vocab = np.empty(VOCAB_MAX_SIZE, dtype = vocab_word)\n",
      "    vocab_hash = np.empty(VOCAB_HASH_SIZE, dtype = np.int32)\n",
      "    vocab_hash.fill(-1)\n",
      "    add_word_to_vocab(\"</s>\")\n",
      "    ??"
     ],
     "language": "python",
     "metadata": {},
     "outputs": [],
     "prompt_number": 47
    },
    {
     "cell_type": "code",
     "collapsed": false,
     "input": [],
     "language": "python",
     "metadata": {},
     "outputs": []
    }
   ],
   "metadata": {}
  }
 ]
}